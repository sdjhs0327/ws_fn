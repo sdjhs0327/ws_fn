{
 "cells": [
  {
   "cell_type": "code",
   "execution_count": 2,
   "metadata": {
    "ExecuteTime": {
     "end_time": "2020-12-03T23:57:27.528371Z",
     "start_time": "2020-12-03T23:57:25.950843Z"
    }
   },
   "outputs": [],
   "source": [
    "import pandas as pd\n",
    "import warnings\n",
    "warnings.filterwarnings('ignore')\n",
    "\n",
    "import FinanceDataReader as fdr\n",
    "import yfinance as yf\n",
    "import numpy as np\n",
    "\n",
    "import datetime as dt"
   ]
  },
  {
   "cell_type": "code",
   "execution_count": 3,
   "metadata": {
    "ExecuteTime": {
     "end_time": "2020-12-03T23:57:29.072408Z",
     "start_time": "2020-12-03T23:57:28.100809Z"
    }
   },
   "outputs": [],
   "source": [
    "import scipy.optimize as sco"
   ]
  },
  {
   "cell_type": "code",
   "execution_count": 4,
   "metadata": {},
   "outputs": [],
   "source": [
    "# 시각화 관련\n",
    "import matplotlib\n",
    "import matplotlib.pyplot as plt\n",
    "import seaborn as sns\n",
    "sns.set_style('whitegrid')\n",
    "plt.style.use(\"fivethirtyeight\")\n",
    "%matplotlib inline"
   ]
  },
  {
   "cell_type": "code",
   "execution_count": 5,
   "metadata": {
    "ExecuteTime": {
     "end_time": "2020-12-03T23:57:33.084914Z",
     "start_time": "2020-12-03T23:57:29.802466Z"
    }
   },
   "outputs": [
    {
     "data": {
      "text/html": [
       "        <script type=\"text/javascript\">\n",
       "        window.PlotlyConfig = {MathJaxConfig: 'local'};\n",
       "        if (window.MathJax) {MathJax.Hub.Config({SVG: {font: \"STIX-Web\"}});}\n",
       "        if (typeof require !== 'undefined') {\n",
       "        require.undef(\"plotly\");\n",
       "        requirejs.config({\n",
       "            paths: {\n",
       "                'plotly': ['https://cdn.plot.ly/plotly-latest.min']\n",
       "            }\n",
       "        });\n",
       "        require(['plotly'], function(Plotly) {\n",
       "            window._Plotly = Plotly;\n",
       "        });\n",
       "        }\n",
       "        </script>\n",
       "        "
      ]
     },
     "metadata": {},
     "output_type": "display_data"
    }
   ],
   "source": [
    "# 시각화 관련\n",
    "import plotly_express as px\n",
    "import plotly.figure_factory as ff\n",
    "# px를 쉽고 빠르게 붙여주는 모듈 cufflinks\n",
    "import cufflinks as cf\n",
    "cf.go_offline(connected=True)\n",
    "## cf.getThemes()\n",
    "cf.set_config_file(theme='polar')\n",
    "\n",
    "import plotly.graph_objects as go\n",
    "\n",
    "import matplotlib.pyplot as plt\n",
    "import seaborn as sns"
   ]
  },
  {
   "cell_type": "code",
   "execution_count": 6,
   "metadata": {
    "ExecuteTime": {
     "end_time": "2020-12-04T00:36:37.393570Z",
     "start_time": "2020-12-04T00:36:37.153209Z"
    }
   },
   "outputs": [],
   "source": [
    "%run ../library/QUANT_FUNCTIONS.ipynb\n",
    "Q = QUANT()\n",
    "D = DATA()"
   ]
  },
  {
   "cell_type": "markdown",
   "metadata": {},
   "source": [
    "###### 공통함수"
   ]
  },
  {
   "cell_type": "code",
   "execution_count": 7,
   "metadata": {
    "ExecuteTime": {
     "end_time": "2020-12-03T23:57:38.059461Z",
     "start_time": "2020-12-03T23:57:38.053482Z"
    }
   },
   "outputs": [],
   "source": [
    "## 수치형 데이터프레임을 시작점기준으로 지수화\n",
    "def index_values(orgin_df):\n",
    "    df = orgin_df.copy()\n",
    "    for i in df.columns:\n",
    "        if (df[i].dtype == float)|(df[i].dtype == int):\n",
    "            df[i] = df[i]/df[i][0]\n",
    "        else:\n",
    "            df[i] = df[i]\n",
    "    return df"
   ]
  },
  {
   "cell_type": "markdown",
   "metadata": {},
   "source": [
    "###### 데이터 불러오기"
   ]
  },
  {
   "cell_type": "code",
   "execution_count": 8,
   "metadata": {},
   "outputs": [],
   "source": [
    "AWP_result = pd.read_csv('result/AWP_result.csv', index_col='Date')\n",
    "VAA_result = pd.read_csv('result/VAA_result.csv', index_col='Date')\n",
    "\n",
    "df = pd.DataFrame(index=AWP_result.index)\n",
    "df['AWP'] = AWP_result['strategy']\n",
    "df['VAA'] = VAA_result['strategy']\n",
    "\n",
    "df = df.dropna()\n",
    "\n",
    "## 백데이터 기간 지정(12개월)\n",
    "## df = df.iloc[-24:]"
   ]
  },
  {
   "cell_type": "code",
   "execution_count": 9,
   "metadata": {},
   "outputs": [],
   "source": [
    "## 지수화\n",
    "df = index_values(df)\n",
    "\n",
    "df.index = pd.to_datetime(df.index)"
   ]
  },
  {
   "cell_type": "code",
   "execution_count": 10,
   "metadata": {},
   "outputs": [],
   "source": [
    "## 월단위 변환 함수\n",
    "def day_to_mth(dataset):\n",
    "    df = dataset.copy()\n",
    "    df['year'] = df.index.year\n",
    "    df['month'] = df.index.month\n",
    "    df['day'] = df.index.day\n",
    "    ## df = df[df['day']>=24]\n",
    "\n",
    "    df = df.drop_duplicates(['year', 'month'], keep='last')\n",
    "    df = df.drop(columns=['year', 'month', 'day'])\n",
    "    return df"
   ]
  },
  {
   "cell_type": "code",
   "execution_count": 11,
   "metadata": {},
   "outputs": [],
   "source": [
    "bm_temp = D.get_merged_df('SPY')"
   ]
  },
  {
   "cell_type": "code",
   "execution_count": 14,
   "metadata": {},
   "outputs": [],
   "source": [
    "Trading_result = pd.read_csv('result/비정형트레이딩_1등주매수전략.csv', index_col='tdate')\n",
    "Trading_result.index.name = 'Date'\n",
    "Trading_result.index = pd.to_datetime(Trading_result.index)\n",
    "Trading_result = day_to_mth(Trading_result)\n",
    "Trading_result['result'][0] = 1"
   ]
  },
  {
   "cell_type": "code",
   "execution_count": 15,
   "metadata": {},
   "outputs": [],
   "source": [
    "Trading_result.index = ['2019-01-31', '2019-02-28', '2019-03-29', '2019-04-30',\n",
    "               '2019-05-31', '2019-06-28', '2019-07-31', '2019-08-30',\n",
    "               '2019-09-30', '2019-10-31', '2019-11-29', '2019-12-31',\n",
    "               '2020-01-31', '2020-02-28', '2020-03-31', '2020-04-30',\n",
    "               '2020-05-29', '2020-06-30', '2020-07-31', '2020-08-31',\n",
    "               '2020-09-30', '2020-10-30', '2020-11-30', '2020-12-31',\n",
    "               '2021-01-29', '2021-02-26', '2021-03-31', '2021-04-30',\n",
    "               '2021-05-31', '2021-06-23']\n",
    "\n",
    "Trading_result.index = pd.to_datetime(Trading_result.index)"
   ]
  },
  {
   "cell_type": "code",
   "execution_count": 16,
   "metadata": {},
   "outputs": [],
   "source": [
    "bm_temp = D.get_merged_df('SPY')\n",
    "bm_temp = day_to_mth(bm_temp)\n",
    "\n",
    "df = pd.DataFrame(index=AWP_result.index)\n",
    "df['AWP'] = AWP_result['strategy']\n",
    "df['VAA'] = VAA_result['strategy']\n",
    "df.index = pd.to_datetime(df.index)\n",
    "\n",
    "\n",
    "df['TRD'] = Trading_result['result']\n",
    "df['SPY'] = bm_temp['SPY']\n",
    "\n",
    "df = df.dropna()\n",
    "\n",
    "\n",
    "df = index_values(df)"
   ]
  },
  {
   "cell_type": "code",
   "execution_count": 17,
   "metadata": {},
   "outputs": [],
   "source": [
    "# 시각화 관련\n",
    "import matplotlib\n",
    "import matplotlib.pyplot as plt\n",
    "import seaborn as sns\n",
    "sns.set_style('whitegrid')\n",
    "plt.style.use(\"fivethirtyeight\")\n",
    "%matplotlib inline"
   ]
  },
  {
   "cell_type": "code",
   "execution_count": 23,
   "metadata": {},
   "outputs": [
    {
     "data": {
      "text/plain": [
       "<matplotlib.axes._subplots.AxesSubplot at 0x7f3a4155b690>"
      ]
     },
     "execution_count": 23,
     "metadata": {},
     "output_type": "execute_result"
    },
    {
     "data": {
      "image/png": "[encoded data removed]",
      "text/plain": [
       "<Figure size 432x288 with 1 Axes>"
      ]
     },
     "metadata": {
      "needs_background": "light"
     },
     "output_type": "display_data"
    }
   ],
   "source": [
    "np.log(df[['TRD']]).plot(color=['crimson'], legend=False)"
   ]
  },
  {
   "cell_type": "code",
   "execution_count": 24,
   "metadata": {},
   "outputs": [
    {
     "data": {
      "text/plain": [
       "<matplotlib.axes._subplots.AxesSubplot at 0x7f3a4154f9d0>"
      ]
     },
     "execution_count": 24,
     "metadata": {},
     "output_type": "execute_result"
    },
    {
     "data": {
      "image/png": "[encoded data removed]",
      "text/plain": [
       "<Figure size 432x288 with 1 Axes>"
      ]
     },
     "metadata": {
      "needs_background": "light"
     },
     "output_type": "display_data"
    }
   ],
   "source": [
    "np.log(df[['TRD','VAA', 'AWP']]).plot(color=['crimson', 'darkorange', 'cornflowerblue'], legend=False)"
   ]
  },
  {
   "cell_type": "code",
   "execution_count": 256,
   "metadata": {},
   "outputs": [
    {
     "data": {
      "text/html": [
       "<div>\n",
       "<style scoped>\n",
       "    .dataframe tbody tr th:only-of-type {\n",
       "        vertical-align: middle;\n",
       "    }\n",
       "\n",
       "    .dataframe tbody tr th {\n",
       "        vertical-align: top;\n",
       "    }\n",
       "\n",
       "    .dataframe thead th {\n",
       "        text-align: right;\n",
       "    }\n",
       "</style>\n",
       "<table border=\"1\" class=\"dataframe\">\n",
       "  <thead>\n",
       "    <tr style=\"text-align: right;\">\n",
       "      <th></th>\n",
       "      <th>Ticker</th>\n",
       "      <th>YRR</th>\n",
       "      <th>YDD</th>\n",
       "      <th>Sortino Ratio</th>\n",
       "    </tr>\n",
       "  </thead>\n",
       "  <tbody>\n",
       "    <tr>\n",
       "      <th>0</th>\n",
       "      <td>AWP</td>\n",
       "      <td>0.126721</td>\n",
       "      <td>0.036226</td>\n",
       "      <td>3.498116</td>\n",
       "    </tr>\n",
       "    <tr>\n",
       "      <th>1</th>\n",
       "      <td>VAA</td>\n",
       "      <td>0.215676</td>\n",
       "      <td>0.082488</td>\n",
       "      <td>2.614642</td>\n",
       "    </tr>\n",
       "    <tr>\n",
       "      <th>2</th>\n",
       "      <td>TRD</td>\n",
       "      <td>0.229179</td>\n",
       "      <td>0.171229</td>\n",
       "      <td>1.338431</td>\n",
       "    </tr>\n",
       "    <tr>\n",
       "      <th>3</th>\n",
       "      <td>SPY</td>\n",
       "      <td>0.226390</td>\n",
       "      <td>0.112220</td>\n",
       "      <td>2.017377</td>\n",
       "    </tr>\n",
       "  </tbody>\n",
       "</table>\n",
       "</div>"
      ],
      "text/plain": [
       "  Ticker       YRR       YDD  Sortino Ratio\n",
       "0    AWP  0.126721  0.036226       3.498116\n",
       "1    VAA  0.215676  0.082488       2.614642\n",
       "2    TRD  0.229179  0.171229       1.338431\n",
       "3    SPY  0.226390  0.112220       2.017377"
      ]
     },
     "execution_count": 256,
     "metadata": {},
     "output_type": "execute_result"
    }
   ],
   "source": [
    "Q.get_SRTR_report(df, 'a', unit='monthly')"
   ]
  },
  {
   "cell_type": "code",
   "execution_count": 275,
   "metadata": {},
   "outputs": [
    {
     "data": {
      "text/html": [
       "<div>\n",
       "<style scoped>\n",
       "    .dataframe tbody tr th:only-of-type {\n",
       "        vertical-align: middle;\n",
       "    }\n",
       "\n",
       "    .dataframe tbody tr th {\n",
       "        vertical-align: top;\n",
       "    }\n",
       "\n",
       "    .dataframe thead th {\n",
       "        text-align: right;\n",
       "    }\n",
       "</style>\n",
       "<table border=\"1\" class=\"dataframe\">\n",
       "  <thead>\n",
       "    <tr style=\"text-align: right;\">\n",
       "      <th></th>\n",
       "      <th>Ticker</th>\n",
       "      <th>MDD</th>\n",
       "      <th>Date</th>\n",
       "    </tr>\n",
       "  </thead>\n",
       "  <tbody>\n",
       "    <tr>\n",
       "      <th>0</th>\n",
       "      <td>AWP</td>\n",
       "      <td>-0.052363</td>\n",
       "      <td>2020-10-30</td>\n",
       "    </tr>\n",
       "    <tr>\n",
       "      <th>1</th>\n",
       "      <td>VAA</td>\n",
       "      <td>-0.086476</td>\n",
       "      <td>2020-10-30</td>\n",
       "    </tr>\n",
       "    <tr>\n",
       "      <th>2</th>\n",
       "      <td>TRD</td>\n",
       "      <td>-0.255371</td>\n",
       "      <td>2020-12-31</td>\n",
       "    </tr>\n",
       "    <tr>\n",
       "      <th>3</th>\n",
       "      <td>SPY</td>\n",
       "      <td>-0.194477</td>\n",
       "      <td>2020-03-31</td>\n",
       "    </tr>\n",
       "  </tbody>\n",
       "</table>\n",
       "</div>"
      ],
      "text/plain": [
       "  Ticker       MDD       Date\n",
       "0    AWP -0.052363 2020-10-30\n",
       "1    VAA -0.086476 2020-10-30\n",
       "2    TRD -0.255371 2020-12-31\n",
       "3    SPY -0.194477 2020-03-31"
      ]
     },
     "execution_count": 275,
     "metadata": {},
     "output_type": "execute_result"
    }
   ],
   "source": [
    "## 최대낙폭(MDD)\n",
    "MDD, HRR = Q.get_MDD_report(df, 'a')\n",
    "MDD"
   ]
  },
  {
   "cell_type": "code",
   "execution_count": 20,
   "metadata": {},
   "outputs": [
    {
     "data": {
      "text/plain": [
       "<matplotlib.axes._subplots.AxesSubplot at 0x7f3ac60a3b90>"
      ]
     },
     "execution_count": 20,
     "metadata": {},
     "output_type": "execute_result"
    },
    {
     "data": {
      "image/png": "[encoded data removed]",
      "text/plain": [
       "<Figure size 432x288 with 1 Axes>"
      ]
     },
     "metadata": {
      "needs_background": "light"
     },
     "output_type": "display_data"
    }
   ],
   "source": [
    "df[['SPY', 'TRD', 'VAA','AWP']].plot(legend=False)"
   ]
  },
  {
   "cell_type": "code",
   "execution_count": 277,
   "metadata": {
    "scrolled": false
   },
   "outputs": [
    {
     "data": {
      "application/vnd.plotly.v1+json": {
       "config": {
        "linkText": "Export to plot.ly",
        "plotlyServerURL": "https://plot.ly",
        "showLink": true
       },
       "data": [
        {
         "line": {
          "color": "rgba(0, 128, 240, 1.0)",
          "dash": "solid",
          "shape": "linear",
          "width": 1.3
         },
         "mode": "lines",
         "name": "AWP",
         "text": "",
         "type": "scatter",
         "x": [
          "2019-01-31",
          "2019-02-28",
          "2019-03-29",
          "2019-04-30",
          "2019-05-31",
          "2019-06-28",
          "2019-07-31",
          "2019-08-30",
          "2019-09-30",
          "2019-10-31",
          "2019-11-29",
          "2019-12-31",
          "2020-01-31",
          "2020-02-28",
          "2020-03-31",
          "2020-04-30",
          "2020-05-29",
          "2020-06-30",
          "2020-07-31",
          "2020-08-31",
          "2020-09-30",
          "2020-10-30",
          "2020-11-30",
          "2020-12-31",
          "2021-01-29",
          "2021-02-26",
          "2021-03-31",
          "2021-04-30"
         ],
         "y": [
          1,
          1.0092429047089895,
          1.044788239458687,
          1.055927475071638,
          1.0568298254576183,
          1.0950408513071581,
          1.0990871919318284,
          1.1296649362312343,
          1.1234670690789268,
          1.1382208582609057,
          1.1434286516396004,
          1.1582665370532361,
          1.1856254776145887,
          1.186702022516203,
          1.1626523732373946,
          1.2313202976274011,
          1.2669203632502388,
          1.294253139339222,
          1.3443927449294872,
          1.3629376468470267,
          1.3291436931632528,
          1.291569935077279,
          1.3422887843772826,
          1.365469191341238,
          1.3553028555920918,
          1.3207957307767972,
          1.2945712030302465,
          1.32100691328318
         ]
        },
        {
         "line": {
          "color": "rgba(238, 118, 0, 1.0)",
          "dash": "solid",
          "shape": "linear",
          "width": 1.3
         },
         "mode": "lines",
         "name": "VAA",
         "text": "",
         "type": "scatter",
         "x": [
          "2019-01-31",
          "2019-02-28",
          "2019-03-29",
          "2019-04-30",
          "2019-05-31",
          "2019-06-28",
          "2019-07-31",
          "2019-08-30",
          "2019-09-30",
          "2019-10-31",
          "2019-11-29",
          "2019-12-31",
          "2020-01-31",
          "2020-02-28",
          "2020-03-31",
          "2020-04-30",
          "2020-05-29",
          "2020-06-30",
          "2020-07-31",
          "2020-08-31",
          "2020-09-30",
          "2020-10-30",
          "2020-11-30",
          "2020-12-31",
          "2021-01-29",
          "2021-02-26",
          "2021-03-31",
          "2021-04-30"
         ],
         "y": [
          1,
          0.9961701464050005,
          1.0142015983463257,
          1.0699752639110962,
          0.9819677924485198,
          0.9912977057972201,
          1.0144425569271618,
          1.1265295881431403,
          1.0963394003397176,
          1.0841350623350232,
          1.1282531544219454,
          1.1721011844276712,
          1.1072625178093354,
          1.180634989563281,
          1.2559203259254468,
          1.2712293146213562,
          1.2488312856421426,
          1.2530356113267556,
          1.3450904130379728,
          1.492306765615413,
          1.4060719553525707,
          1.3632583322390706,
          1.363558271498205,
          1.4403275162293472,
          1.4854544965327903,
          1.5087366642437219,
          1.4980185441600495,
          1.5772793822721503
         ]
        },
        {
         "line": {
          "color": "rgba(48, 144, 84, 1.0)",
          "dash": "solid",
          "shape": "linear",
          "width": 1.3
         },
         "mode": "lines",
         "name": "TRD",
         "text": "",
         "type": "scatter",
         "x": [
          "2019-01-31",
          "2019-02-28",
          "2019-03-29",
          "2019-04-30",
          "2019-05-31",
          "2019-06-28",
          "2019-07-31",
          "2019-08-30",
          "2019-09-30",
          "2019-10-31",
          "2019-11-29",
          "2019-12-31",
          "2020-01-31",
          "2020-02-28",
          "2020-03-31",
          "2020-04-30",
          "2020-05-29",
          "2020-06-30",
          "2020-07-31",
          "2020-08-31",
          "2020-09-30",
          "2020-10-30",
          "2020-11-30",
          "2020-12-31",
          "2021-01-29",
          "2021-02-26",
          "2021-03-31",
          "2021-04-30"
         ],
         "y": [
          1,
          1.1962863269773156,
          1.21820262774655,
          1.21967719023836,
          1.2204908006187032,
          1.2004044551247632,
          1.1764418238355672,
          1.294882780939579,
          1.311734226088468,
          1.4605583166376972,
          1.425845246326202,
          1.4738444347928603,
          1.436526771873758,
          1.334141303034179,
          1.7396840713779742,
          1.932904359370468,
          1.5453225191540123,
          1.871864812083203,
          1.8416567792571636,
          1.6859693131908124,
          1.7047821867747668,
          1.5757238121167152,
          1.5538412985713497,
          1.4392973076994138,
          1.4923390131395324,
          1.6317597948627514,
          1.6283883784666804,
          1.6184593086623689
         ]
        },
        {
         "line": {
          "color": "rgba(98, 98, 222, 1.0)",
          "dash": "solid",
          "shape": "linear",
          "width": 1.3
         },
         "mode": "lines",
         "name": "SPY",
         "text": "",
         "type": "scatter",
         "x": [
          "2019-01-31",
          "2019-02-28",
          "2019-03-29",
          "2019-04-30",
          "2019-05-31",
          "2019-06-28",
          "2019-07-31",
          "2019-08-30",
          "2019-09-30",
          "2019-10-31",
          "2019-11-29",
          "2019-12-31",
          "2020-01-31",
          "2020-02-28",
          "2020-03-31",
          "2020-04-30",
          "2020-05-29",
          "2020-06-30",
          "2020-07-31",
          "2020-08-31",
          "2020-09-30",
          "2020-10-30",
          "2020-11-30",
          "2020-12-31",
          "2021-01-29",
          "2021-02-26",
          "2021-03-31",
          "2021-04-30"
         ],
         "y": [
          1,
          1.0324158114013284,
          1.0511032173365584,
          1.094043144216512,
          1.024274916965863,
          1.0955504319884384,
          1.1121147188191396,
          1.0934940269574627,
          1.114770958024761,
          1.1394127431464325,
          1.180657445272834,
          1.214961987790258,
          1.2144714082795838,
          1.1183269484923508,
          0.9786798766062184,
          1.1029562866401572,
          1.155506832030671,
          1.1759990728758234,
          1.2452563390515865,
          1.3321710311850967,
          1.282289878218969,
          1.2503177213316414,
          1.3863231883307487,
          1.437684256154077,
          1.4230337034048706,
          1.4626017848799366,
          1.529002906624352,
          1.609903141355983
         ]
        }
       ],
       "layout": {
        "legend": {
         "bgcolor": "#F2F3F7",
         "font": {
          "color": "#505050"
         }
        },
        "paper_bgcolor": "#F2F3F7",
        "plot_bgcolor": "#F2F3F7",
        "template": {
         "data": {
          "bar": [
           {
            "error_x": {
             "color": "#2a3f5f"
            },
            "error_y": {
             "color": "#2a3f5f"
            },
            "marker": {
             "line": {
              "color": "#E5ECF6",
              "width": 0.5
             }
            },
            "type": "bar"
           }
          ],
          "barpolar": [
           {
            "marker": {
             "line": {
              "color": "#E5ECF6",
              "width": 0.5
             }
            },
            "type": "barpolar"
           }
          ],
          "carpet": [
           {
            "aaxis": {
             "endlinecolor": "#2a3f5f",
             "gridcolor": "white",
             "linecolor": "white",
             "minorgridcolor": "white",
             "startlinecolor": "#2a3f5f"
            },
            "baxis": {
             "endlinecolor": "#2a3f5f",
             "gridcolor": "white",
             "linecolor": "white",
             "minorgridcolor": "white",
             "startlinecolor": "#2a3f5f"
            },
            "type": "carpet"
           }
          ],
          "choropleth": [
           {
            "colorbar": {
             "outlinewidth": 0,
             "ticks": ""
            },
            "type": "choropleth"
           }
          ],
          "contour": [
           {
            "colorbar": {
             "outlinewidth": 0,
             "ticks": ""
            },
            "colorscale": [
             [
              0,
              "#0d0887"
             ],
             [
              0.1111111111111111,
              "#46039f"
             ],
             [
              0.2222222222222222,
              "#7201a8"
             ],
             [
              0.3333333333333333,
              "#9c179e"
             ],
             [
              0.4444444444444444,
              "#bd3786"
             ],
             [
              0.5555555555555556,
              "#d8576b"
             ],
             [
              0.6666666666666666,
              "#ed7953"
             ],
             [
              0.7777777777777778,
              "#fb9f3a"
             ],
             [
              0.8888888888888888,
              "#fdca26"
             ],
             [
              1,
              "#f0f921"
             ]
            ],
            "type": "contour"
           }
          ],
          "contourcarpet": [
           {
            "colorbar": {
             "outlinewidth": 0,
             "ticks": ""
            },
            "type": "contourcarpet"
           }
          ],
          "heatmap": [
           {
            "colorbar": {
             "outlinewidth": 0,
             "ticks": ""
            },
            "colorscale": [
             [
              0,
              "#0d0887"
             ],
             [
              0.1111111111111111,
              "#46039f"
             ],
             [
              0.2222222222222222,
              "#7201a8"
             ],
             [
              0.3333333333333333,
              "#9c179e"
             ],
             [
              0.4444444444444444,
              "#bd3786"
             ],
             [
              0.5555555555555556,
              "#d8576b"
             ],
             [
              0.6666666666666666,
              "#ed7953"
             ],
             [
              0.7777777777777778,
              "#fb9f3a"
             ],
             [
              0.8888888888888888,
              "#fdca26"
             ],
             [
              1,
              "#f0f921"
             ]
            ],
            "type": "heatmap"
           }
          ],
          "heatmapgl": [
           {
            "colorbar": {
             "outlinewidth": 0,
             "ticks": ""
            },
            "colorscale": [
             [
              0,
              "#0d0887"
             ],
             [
              0.1111111111111111,
              "#46039f"
             ],
             [
              0.2222222222222222,
              "#7201a8"
             ],
             [
              0.3333333333333333,
              "#9c179e"
             ],
             [
              0.4444444444444444,
              "#bd3786"
             ],
             [
              0.5555555555555556,
              "#d8576b"
             ],
             [
              0.6666666666666666,
              "#ed7953"
             ],
             [
              0.7777777777777778,
              "#fb9f3a"
             ],
             [
              0.8888888888888888,
              "#fdca26"
             ],
             [
              1,
              "#f0f921"
             ]
            ],
            "type": "heatmapgl"
           }
          ],
          "histogram": [
           {
            "marker": {
             "colorbar": {
              "outlinewidth": 0,
              "ticks": ""
             }
            },
            "type": "histogram"
           }
          ],
          "histogram2d": [
           {
            "colorbar": {
             "outlinewidth": 0,
             "ticks": ""
            },
            "colorscale": [
             [
              0,
              "#0d0887"
             ],
             [
              0.1111111111111111,
              "#46039f"
             ],
             [
              0.2222222222222222,
              "#7201a8"
             ],
             [
              0.3333333333333333,
              "#9c179e"
             ],
             [
              0.4444444444444444,
              "#bd3786"
             ],
             [
              0.5555555555555556,
              "#d8576b"
             ],
             [
              0.6666666666666666,
              "#ed7953"
             ],
             [
              0.7777777777777778,
              "#fb9f3a"
             ],
             [
              0.8888888888888888,
              "#fdca26"
             ],
             [
              1,
              "#f0f921"
             ]
            ],
            "type": "histogram2d"
           }
          ],
          "histogram2dcontour": [
           {
            "colorbar": {
             "outlinewidth": 0,
             "ticks": ""
            },
            "colorscale": [
             [
              0,
              "#0d0887"
             ],
             [
              0.1111111111111111,
              "#46039f"
             ],
             [
              0.2222222222222222,
              "#7201a8"
             ],
             [
              0.3333333333333333,
              "#9c179e"
             ],
             [
              0.4444444444444444,
              "#bd3786"
             ],
             [
              0.5555555555555556,
              "#d8576b"
             ],
             [
              0.6666666666666666,
              "#ed7953"
             ],
             [
              0.7777777777777778,
              "#fb9f3a"
             ],
             [
              0.8888888888888888,
              "#fdca26"
             ],
             [
              1,
              "#f0f921"
             ]
            ],
            "type": "histogram2dcontour"
           }
          ],
          "mesh3d": [
           {
            "colorbar": {
             "outlinewidth": 0,
             "ticks": ""
            },
            "type": "mesh3d"
           }
          ],
          "parcoords": [
           {
            "line": {
             "colorbar": {
              "outlinewidth": 0,
              "ticks": ""
             }
            },
            "type": "parcoords"
           }
          ],
          "pie": [
           {
            "automargin": true,
            "type": "pie"
           }
          ],
          "scatter": [
           {
            "marker": {
             "colorbar": {
              "outlinewidth": 0,
              "ticks": ""
             }
            },
            "type": "scatter"
           }
          ],
          "scatter3d": [
           {
            "line": {
             "colorbar": {
              "outlinewidth": 0,
              "ticks": ""
             }
            },
            "marker": {
             "colorbar": {
              "outlinewidth": 0,
              "ticks": ""
             }
            },
            "type": "scatter3d"
           }
          ],
          "scattercarpet": [
           {
            "marker": {
             "colorbar": {
              "outlinewidth": 0,
              "ticks": ""
             }
            },
            "type": "scattercarpet"
           }
          ],
          "scattergeo": [
           {
            "marker": {
             "colorbar": {
              "outlinewidth": 0,
              "ticks": ""
             }
            },
            "type": "scattergeo"
           }
          ],
          "scattergl": [
           {
            "marker": {
             "colorbar": {
              "outlinewidth": 0,
              "ticks": ""
             }
            },
            "type": "scattergl"
           }
          ],
          "scattermapbox": [
           {
            "marker": {
             "colorbar": {
              "outlinewidth": 0,
              "ticks": ""
             }
            },
            "type": "scattermapbox"
           }
          ],
          "scatterpolar": [
           {
            "marker": {
             "colorbar": {
              "outlinewidth": 0,
              "ticks": ""
             }
            },
            "type": "scatterpolar"
           }
          ],
          "scatterpolargl": [
           {
            "marker": {
             "colorbar": {
              "outlinewidth": 0,
              "ticks": ""
             }
            },
            "type": "scatterpolargl"
           }
          ],
          "scatterternary": [
           {
            "marker": {
             "colorbar": {
              "outlinewidth": 0,
              "ticks": ""
             }
            },
            "type": "scatterternary"
           }
          ],
          "surface": [
           {
            "colorbar": {
             "outlinewidth": 0,
             "ticks": ""
            },
            "colorscale": [
             [
              0,
              "#0d0887"
             ],
             [
              0.1111111111111111,
              "#46039f"
             ],
             [
              0.2222222222222222,
              "#7201a8"
             ],
             [
              0.3333333333333333,
              "#9c179e"
             ],
             [
              0.4444444444444444,
              "#bd3786"
             ],
             [
              0.5555555555555556,
              "#d8576b"
             ],
             [
              0.6666666666666666,
              "#ed7953"
             ],
             [
              0.7777777777777778,
              "#fb9f3a"
             ],
             [
              0.8888888888888888,
              "#fdca26"
             ],
             [
              1,
              "#f0f921"
             ]
            ],
            "type": "surface"
           }
          ],
          "table": [
           {
            "cells": {
             "fill": {
              "color": "#EBF0F8"
             },
             "line": {
              "color": "white"
             }
            },
            "header": {
             "fill": {
              "color": "#C8D4E3"
             },
             "line": {
              "color": "white"
             }
            },
            "type": "table"
           }
          ]
         },
         "layout": {
          "annotationdefaults": {
           "arrowcolor": "#2a3f5f",
           "arrowhead": 0,
           "arrowwidth": 1
          },
          "coloraxis": {
           "colorbar": {
            "outlinewidth": 0,
            "ticks": ""
           }
          },
          "colorscale": {
           "diverging": [
            [
             0,
             "#8e0152"
            ],
            [
             0.1,
             "#c51b7d"
            ],
            [
             0.2,
             "#de77ae"
            ],
            [
             0.3,
             "#f1b6da"
            ],
            [
             0.4,
             "#fde0ef"
            ],
            [
             0.5,
             "#f7f7f7"
            ],
            [
             0.6,
             "#e6f5d0"
            ],
            [
             0.7,
             "#b8e186"
            ],
            [
             0.8,
             "#7fbc41"
            ],
            [
             0.9,
             "#4d9221"
            ],
            [
             1,
             "#276419"
            ]
           ],
           "sequential": [
            [
             0,
             "#0d0887"
            ],
            [
             0.1111111111111111,
             "#46039f"
            ],
            [
             0.2222222222222222,
             "#7201a8"
            ],
            [
             0.3333333333333333,
             "#9c179e"
            ],
            [
             0.4444444444444444,
             "#bd3786"
            ],
            [
             0.5555555555555556,
             "#d8576b"
            ],
            [
             0.6666666666666666,
             "#ed7953"
            ],
            [
             0.7777777777777778,
             "#fb9f3a"
            ],
            [
             0.8888888888888888,
             "#fdca26"
            ],
            [
             1,
             "#f0f921"
            ]
           ],
           "sequentialminus": [
            [
             0,
             "#0d0887"
            ],
            [
             0.1111111111111111,
             "#46039f"
            ],
            [
             0.2222222222222222,
             "#7201a8"
            ],
            [
             0.3333333333333333,
             "#9c179e"
            ],
            [
             0.4444444444444444,
             "#bd3786"
            ],
            [
             0.5555555555555556,
             "#d8576b"
            ],
            [
             0.6666666666666666,
             "#ed7953"
            ],
            [
             0.7777777777777778,
             "#fb9f3a"
            ],
            [
             0.8888888888888888,
             "#fdca26"
            ],
            [
             1,
             "#f0f921"
            ]
           ]
          },
          "colorway": [
           "#636efa",
           "#EF553B",
           "#00cc96",
           "#ab63fa",
           "#FFA15A",
           "#19d3f3",
           "#FF6692",
           "#B6E880",
           "#FF97FF",
           "#FECB52"
          ],
          "font": {
           "color": "#2a3f5f"
          },
          "geo": {
           "bgcolor": "white",
           "lakecolor": "white",
           "landcolor": "#E5ECF6",
           "showlakes": true,
           "showland": true,
           "subunitcolor": "white"
          },
          "hoverlabel": {
           "align": "left"
          },
          "hovermode": "closest",
          "mapbox": {
           "style": "light"
          },
          "paper_bgcolor": "white",
          "plot_bgcolor": "#E5ECF6",
          "polar": {
           "angularaxis": {
            "gridcolor": "white",
            "linecolor": "white",
            "ticks": ""
           },
           "bgcolor": "#E5ECF6",
           "radialaxis": {
            "gridcolor": "white",
            "linecolor": "white",
            "ticks": ""
           }
          },
          "scene": {
           "xaxis": {
            "backgroundcolor": "#E5ECF6",
            "gridcolor": "white",
            "gridwidth": 2,
            "linecolor": "white",
            "showbackground": true,
            "ticks": "",
            "zerolinecolor": "white"
           },
           "yaxis": {
            "backgroundcolor": "#E5ECF6",
            "gridcolor": "white",
            "gridwidth": 2,
            "linecolor": "white",
            "showbackground": true,
            "ticks": "",
            "zerolinecolor": "white"
           },
           "zaxis": {
            "backgroundcolor": "#E5ECF6",
            "gridcolor": "white",
            "gridwidth": 2,
            "linecolor": "white",
            "showbackground": true,
            "ticks": "",
            "zerolinecolor": "white"
           }
          },
          "shapedefaults": {
           "line": {
            "color": "#2a3f5f"
           }
          },
          "ternary": {
           "aaxis": {
            "gridcolor": "white",
            "linecolor": "white",
            "ticks": ""
           },
           "baxis": {
            "gridcolor": "white",
            "linecolor": "white",
            "ticks": ""
           },
           "bgcolor": "#E5ECF6",
           "caxis": {
            "gridcolor": "white",
            "linecolor": "white",
            "ticks": ""
           }
          },
          "title": {
           "x": 0.05
          },
          "xaxis": {
           "automargin": true,
           "gridcolor": "white",
           "linecolor": "white",
           "ticks": "",
           "title": {
            "standoff": 15
           },
           "zerolinecolor": "white",
           "zerolinewidth": 2
          },
          "yaxis": {
           "automargin": true,
           "gridcolor": "white",
           "linecolor": "white",
           "ticks": "",
           "title": {
            "standoff": 15
           },
           "zerolinecolor": "white",
           "zerolinewidth": 2
          }
         }
        },
        "title": {
         "font": {
          "color": "#484848"
         }
        },
        "xaxis": {
         "gridcolor": "#E1E5ED",
         "showgrid": true,
         "tickfont": {
          "color": "#505050"
         },
         "title": {
          "font": {
           "color": "#505050"
          },
          "text": ""
         },
         "zerolinecolor": "#E1E5ED"
        },
        "yaxis": {
         "gridcolor": "#E1E5ED",
         "showgrid": true,
         "tickfont": {
          "color": "#505050"
         },
         "title": {
          "font": {
           "color": "#505050"
          },
          "text": ""
         },
         "zerolinecolor": "#E1E5ED"
        }
       }
      },
      "text/html": [
       "<div>                            <div id=\"35bd15e7-6f79-4168-9f42-3e566468dcb1\" class=\"plotly-graph-div\" style=\"height:525px; width:100%;\"></div>            <script type=\"text/javascript\">                require([\"plotly\"], function(Plotly) {                    window.PLOTLYENV=window.PLOTLYENV || {};\n",
       "                    window.PLOTLYENV.BASE_URL='https://plot.ly';                                    if (document.getElementById(\"35bd15e7-6f79-4168-9f42-3e566468dcb1\")) {                    Plotly.newPlot(                        \"35bd15e7-6f79-4168-9f42-3e566468dcb1\",                        [{\"line\": {\"color\": \"rgba(0, 128, 240, 1.0)\", \"dash\": \"solid\", \"shape\": \"linear\", \"width\": 1.3}, \"mode\": \"lines\", \"name\": \"AWP\", \"text\": \"\", \"type\": \"scatter\", \"x\": [\"2019-01-31\", \"2019-02-28\", \"2019-03-29\", \"2019-04-30\", \"2019-05-31\", \"2019-06-28\", \"2019-07-31\", \"2019-08-30\", \"2019-09-30\", \"2019-10-31\", \"2019-11-29\", \"2019-12-31\", \"2020-01-31\", \"2020-02-28\", \"2020-03-31\", \"2020-04-30\", \"2020-05-29\", \"2020-06-30\", \"2020-07-31\", \"2020-08-31\", \"2020-09-30\", \"2020-10-30\", \"2020-11-30\", \"2020-12-31\", \"2021-01-29\", \"2021-02-26\", \"2021-03-31\", \"2021-04-30\"], \"y\": [1.0, 1.0092429047089895, 1.044788239458687, 1.055927475071638, 1.0568298254576183, 1.0950408513071581, 1.0990871919318284, 1.1296649362312343, 1.1234670690789268, 1.1382208582609057, 1.1434286516396004, 1.1582665370532361, 1.1856254776145887, 1.186702022516203, 1.1626523732373946, 1.2313202976274011, 1.2669203632502388, 1.294253139339222, 1.3443927449294872, 1.3629376468470267, 1.3291436931632528, 1.291569935077279, 1.3422887843772826, 1.365469191341238, 1.3553028555920918, 1.3207957307767972, 1.2945712030302465, 1.32100691328318]}, {\"line\": {\"color\": \"rgba(238, 118, 0, 1.0)\", \"dash\": \"solid\", \"shape\": \"linear\", \"width\": 1.3}, \"mode\": \"lines\", \"name\": \"VAA\", \"text\": \"\", \"type\": \"scatter\", \"x\": [\"2019-01-31\", \"2019-02-28\", \"2019-03-29\", \"2019-04-30\", \"2019-05-31\", \"2019-06-28\", \"2019-07-31\", \"2019-08-30\", \"2019-09-30\", \"2019-10-31\", \"2019-11-29\", \"2019-12-31\", \"2020-01-31\", \"2020-02-28\", \"2020-03-31\", \"2020-04-30\", \"2020-05-29\", \"2020-06-30\", \"2020-07-31\", \"2020-08-31\", \"2020-09-30\", \"2020-10-30\", \"2020-11-30\", \"2020-12-31\", \"2021-01-29\", \"2021-02-26\", \"2021-03-31\", \"2021-04-30\"], \"y\": [1.0, 0.9961701464050005, 1.0142015983463257, 1.0699752639110962, 0.9819677924485198, 0.9912977057972201, 1.0144425569271618, 1.1265295881431403, 1.0963394003397176, 1.0841350623350232, 1.1282531544219454, 1.1721011844276712, 1.1072625178093354, 1.180634989563281, 1.2559203259254468, 1.2712293146213562, 1.2488312856421426, 1.2530356113267556, 1.3450904130379728, 1.492306765615413, 1.4060719553525707, 1.3632583322390706, 1.363558271498205, 1.4403275162293472, 1.4854544965327903, 1.5087366642437219, 1.4980185441600495, 1.5772793822721503]}, {\"line\": {\"color\": \"rgba(48, 144, 84, 1.0)\", \"dash\": \"solid\", \"shape\": \"linear\", \"width\": 1.3}, \"mode\": \"lines\", \"name\": \"TRD\", \"text\": \"\", \"type\": \"scatter\", \"x\": [\"2019-01-31\", \"2019-02-28\", \"2019-03-29\", \"2019-04-30\", \"2019-05-31\", \"2019-06-28\", \"2019-07-31\", \"2019-08-30\", \"2019-09-30\", \"2019-10-31\", \"2019-11-29\", \"2019-12-31\", \"2020-01-31\", \"2020-02-28\", \"2020-03-31\", \"2020-04-30\", \"2020-05-29\", \"2020-06-30\", \"2020-07-31\", \"2020-08-31\", \"2020-09-30\", \"2020-10-30\", \"2020-11-30\", \"2020-12-31\", \"2021-01-29\", \"2021-02-26\", \"2021-03-31\", \"2021-04-30\"], \"y\": [1.0, 1.1962863269773156, 1.21820262774655, 1.21967719023836, 1.2204908006187032, 1.2004044551247632, 1.1764418238355672, 1.294882780939579, 1.311734226088468, 1.4605583166376972, 1.425845246326202, 1.4738444347928603, 1.436526771873758, 1.334141303034179, 1.7396840713779742, 1.932904359370468, 1.5453225191540123, 1.871864812083203, 1.8416567792571636, 1.6859693131908124, 1.7047821867747668, 1.5757238121167152, 1.5538412985713497, 1.4392973076994138, 1.4923390131395324, 1.6317597948627514, 1.6283883784666804, 1.6184593086623689]}, {\"line\": {\"color\": \"rgba(98, 98, 222, 1.0)\", \"dash\": \"solid\", \"shape\": \"linear\", \"width\": 1.3}, \"mode\": \"lines\", \"name\": \"SPY\", \"text\": \"\", \"type\": \"scatter\", \"x\": [\"2019-01-31\", \"2019-02-28\", \"2019-03-29\", \"2019-04-30\", \"2019-05-31\", \"2019-06-28\", \"2019-07-31\", \"2019-08-30\", \"2019-09-30\", \"2019-10-31\", \"2019-11-29\", \"2019-12-31\", \"2020-01-31\", \"2020-02-28\", \"2020-03-31\", \"2020-04-30\", \"2020-05-29\", \"2020-06-30\", \"2020-07-31\", \"2020-08-31\", \"2020-09-30\", \"2020-10-30\", \"2020-11-30\", \"2020-12-31\", \"2021-01-29\", \"2021-02-26\", \"2021-03-31\", \"2021-04-30\"], \"y\": [1.0, 1.0324158114013284, 1.0511032173365584, 1.094043144216512, 1.024274916965863, 1.0955504319884384, 1.1121147188191396, 1.0934940269574627, 1.114770958024761, 1.1394127431464325, 1.180657445272834, 1.214961987790258, 1.2144714082795838, 1.1183269484923508, 0.9786798766062184, 1.1029562866401572, 1.155506832030671, 1.1759990728758234, 1.2452563390515865, 1.3321710311850967, 1.282289878218969, 1.2503177213316414, 1.3863231883307487, 1.437684256154077, 1.4230337034048706, 1.4626017848799366, 1.529002906624352, 1.609903141355983]}],                        {\"legend\": {\"bgcolor\": \"#F2F3F7\", \"font\": {\"color\": \"#505050\"}}, \"paper_bgcolor\": \"#F2F3F7\", \"plot_bgcolor\": \"#F2F3F7\", \"template\": {\"data\": {\"bar\": [{\"error_x\": {\"color\": \"#2a3f5f\"}, \"error_y\": {\"color\": \"#2a3f5f\"}, \"marker\": {\"line\": {\"color\": \"#E5ECF6\", \"width\": 0.5}}, \"type\": \"bar\"}], \"barpolar\": [{\"marker\": {\"line\": {\"color\": \"#E5ECF6\", \"width\": 0.5}}, \"type\": \"barpolar\"}], \"carpet\": [{\"aaxis\": {\"endlinecolor\": \"#2a3f5f\", \"gridcolor\": \"white\", \"linecolor\": \"white\", \"minorgridcolor\": \"white\", \"startlinecolor\": \"#2a3f5f\"}, \"baxis\": {\"endlinecolor\": \"#2a3f5f\", \"gridcolor\": \"white\", \"linecolor\": \"white\", \"minorgridcolor\": \"white\", \"startlinecolor\": \"#2a3f5f\"}, \"type\": \"carpet\"}], \"choropleth\": [{\"colorbar\": {\"outlinewidth\": 0, \"ticks\": \"\"}, \"type\": \"choropleth\"}], \"contour\": [{\"colorbar\": {\"outlinewidth\": 0, \"ticks\": \"\"}, \"colorscale\": [[0.0, \"#0d0887\"], [0.1111111111111111, \"#46039f\"], [0.2222222222222222, \"#7201a8\"], [0.3333333333333333, \"#9c179e\"], [0.4444444444444444, \"#bd3786\"], [0.5555555555555556, \"#d8576b\"], [0.6666666666666666, \"#ed7953\"], [0.7777777777777778, \"#fb9f3a\"], [0.8888888888888888, \"#fdca26\"], [1.0, \"#f0f921\"]], \"type\": \"contour\"}], \"contourcarpet\": [{\"colorbar\": {\"outlinewidth\": 0, \"ticks\": \"\"}, \"type\": \"contourcarpet\"}], \"heatmap\": [{\"colorbar\": {\"outlinewidth\": 0, \"ticks\": \"\"}, \"colorscale\": [[0.0, \"#0d0887\"], [0.1111111111111111, \"#46039f\"], [0.2222222222222222, \"#7201a8\"], [0.3333333333333333, \"#9c179e\"], [0.4444444444444444, \"#bd3786\"], [0.5555555555555556, \"#d8576b\"], [0.6666666666666666, \"#ed7953\"], [0.7777777777777778, \"#fb9f3a\"], [0.8888888888888888, \"#fdca26\"], [1.0, \"#f0f921\"]], \"type\": \"heatmap\"}], \"heatmapgl\": [{\"colorbar\": {\"outlinewidth\": 0, \"ticks\": \"\"}, \"colorscale\": [[0.0, \"#0d0887\"], [0.1111111111111111, \"#46039f\"], [0.2222222222222222, \"#7201a8\"], [0.3333333333333333, \"#9c179e\"], [0.4444444444444444, \"#bd3786\"], [0.5555555555555556, \"#d8576b\"], [0.6666666666666666, \"#ed7953\"], [0.7777777777777778, \"#fb9f3a\"], [0.8888888888888888, \"#fdca26\"], [1.0, \"#f0f921\"]], \"type\": \"heatmapgl\"}], \"histogram\": [{\"marker\": {\"colorbar\": {\"outlinewidth\": 0, \"ticks\": \"\"}}, \"type\": \"histogram\"}], \"histogram2d\": [{\"colorbar\": {\"outlinewidth\": 0, \"ticks\": \"\"}, \"colorscale\": [[0.0, \"#0d0887\"], [0.1111111111111111, \"#46039f\"], [0.2222222222222222, \"#7201a8\"], [0.3333333333333333, \"#9c179e\"], [0.4444444444444444, \"#bd3786\"], [0.5555555555555556, \"#d8576b\"], [0.6666666666666666, \"#ed7953\"], [0.7777777777777778, \"#fb9f3a\"], [0.8888888888888888, \"#fdca26\"], [1.0, \"#f0f921\"]], \"type\": \"histogram2d\"}], \"histogram2dcontour\": [{\"colorbar\": {\"outlinewidth\": 0, \"ticks\": \"\"}, \"colorscale\": [[0.0, \"#0d0887\"], [0.1111111111111111, \"#46039f\"], [0.2222222222222222, \"#7201a8\"], [0.3333333333333333, \"#9c179e\"], [0.4444444444444444, \"#bd3786\"], [0.5555555555555556, \"#d8576b\"], [0.6666666666666666, \"#ed7953\"], [0.7777777777777778, \"#fb9f3a\"], [0.8888888888888888, \"#fdca26\"], [1.0, \"#f0f921\"]], \"type\": \"histogram2dcontour\"}], \"mesh3d\": [{\"colorbar\": {\"outlinewidth\": 0, \"ticks\": \"\"}, \"type\": \"mesh3d\"}], \"parcoords\": [{\"line\": {\"colorbar\": {\"outlinewidth\": 0, \"ticks\": \"\"}}, \"type\": \"parcoords\"}], \"pie\": [{\"automargin\": true, \"type\": \"pie\"}], \"scatter\": [{\"marker\": {\"colorbar\": {\"outlinewidth\": 0, \"ticks\": \"\"}}, \"type\": \"scatter\"}], \"scatter3d\": [{\"line\": {\"colorbar\": {\"outlinewidth\": 0, \"ticks\": \"\"}}, \"marker\": {\"colorbar\": {\"outlinewidth\": 0, \"ticks\": \"\"}}, \"type\": \"scatter3d\"}], \"scattercarpet\": [{\"marker\": {\"colorbar\": {\"outlinewidth\": 0, \"ticks\": \"\"}}, \"type\": \"scattercarpet\"}], \"scattergeo\": [{\"marker\": {\"colorbar\": {\"outlinewidth\": 0, \"ticks\": \"\"}}, \"type\": \"scattergeo\"}], \"scattergl\": [{\"marker\": {\"colorbar\": {\"outlinewidth\": 0, \"ticks\": \"\"}}, \"type\": \"scattergl\"}], \"scattermapbox\": [{\"marker\": {\"colorbar\": {\"outlinewidth\": 0, \"ticks\": \"\"}}, \"type\": \"scattermapbox\"}], \"scatterpolar\": [{\"marker\": {\"colorbar\": {\"outlinewidth\": 0, \"ticks\": \"\"}}, \"type\": \"scatterpolar\"}], \"scatterpolargl\": [{\"marker\": {\"colorbar\": {\"outlinewidth\": 0, \"ticks\": \"\"}}, \"type\": \"scatterpolargl\"}], \"scatterternary\": [{\"marker\": {\"colorbar\": {\"outlinewidth\": 0, \"ticks\": \"\"}}, \"type\": \"scatterternary\"}], \"surface\": [{\"colorbar\": {\"outlinewidth\": 0, \"ticks\": \"\"}, \"colorscale\": [[0.0, \"#0d0887\"], [0.1111111111111111, \"#46039f\"], [0.2222222222222222, \"#7201a8\"], [0.3333333333333333, \"#9c179e\"], [0.4444444444444444, \"#bd3786\"], [0.5555555555555556, \"#d8576b\"], [0.6666666666666666, \"#ed7953\"], [0.7777777777777778, \"#fb9f3a\"], [0.8888888888888888, \"#fdca26\"], [1.0, \"#f0f921\"]], \"type\": \"surface\"}], \"table\": [{\"cells\": {\"fill\": {\"color\": \"#EBF0F8\"}, \"line\": {\"color\": \"white\"}}, \"header\": {\"fill\": {\"color\": \"#C8D4E3\"}, \"line\": {\"color\": \"white\"}}, \"type\": \"table\"}]}, \"layout\": {\"annotationdefaults\": {\"arrowcolor\": \"#2a3f5f\", \"arrowhead\": 0, \"arrowwidth\": 1}, \"coloraxis\": {\"colorbar\": {\"outlinewidth\": 0, \"ticks\": \"\"}}, \"colorscale\": {\"diverging\": [[0, \"#8e0152\"], [0.1, \"#c51b7d\"], [0.2, \"#de77ae\"], [0.3, \"#f1b6da\"], [0.4, \"#fde0ef\"], [0.5, \"#f7f7f7\"], [0.6, \"#e6f5d0\"], [0.7, \"#b8e186\"], [0.8, \"#7fbc41\"], [0.9, \"#4d9221\"], [1, \"#276419\"]], \"sequential\": [[0.0, \"#0d0887\"], [0.1111111111111111, \"#46039f\"], [0.2222222222222222, \"#7201a8\"], [0.3333333333333333, \"#9c179e\"], [0.4444444444444444, \"#bd3786\"], [0.5555555555555556, \"#d8576b\"], [0.6666666666666666, \"#ed7953\"], [0.7777777777777778, \"#fb9f3a\"], [0.8888888888888888, \"#fdca26\"], [1.0, \"#f0f921\"]], \"sequentialminus\": [[0.0, \"#0d0887\"], [0.1111111111111111, \"#46039f\"], [0.2222222222222222, \"#7201a8\"], [0.3333333333333333, \"#9c179e\"], [0.4444444444444444, \"#bd3786\"], [0.5555555555555556, \"#d8576b\"], [0.6666666666666666, \"#ed7953\"], [0.7777777777777778, \"#fb9f3a\"], [0.8888888888888888, \"#fdca26\"], [1.0, \"#f0f921\"]]}, \"colorway\": [\"#636efa\", \"#EF553B\", \"#00cc96\", \"#ab63fa\", \"#FFA15A\", \"#19d3f3\", \"#FF6692\", \"#B6E880\", \"#FF97FF\", \"#FECB52\"], \"font\": {\"color\": \"#2a3f5f\"}, \"geo\": {\"bgcolor\": \"white\", \"lakecolor\": \"white\", \"landcolor\": \"#E5ECF6\", \"showlakes\": true, \"showland\": true, \"subunitcolor\": \"white\"}, \"hoverlabel\": {\"align\": \"left\"}, \"hovermode\": \"closest\", \"mapbox\": {\"style\": \"light\"}, \"paper_bgcolor\": \"white\", \"plot_bgcolor\": \"#E5ECF6\", \"polar\": {\"angularaxis\": {\"gridcolor\": \"white\", \"linecolor\": \"white\", \"ticks\": \"\"}, \"bgcolor\": \"#E5ECF6\", \"radialaxis\": {\"gridcolor\": \"white\", \"linecolor\": \"white\", \"ticks\": \"\"}}, \"scene\": {\"xaxis\": {\"backgroundcolor\": \"#E5ECF6\", \"gridcolor\": \"white\", \"gridwidth\": 2, \"linecolor\": \"white\", \"showbackground\": true, \"ticks\": \"\", \"zerolinecolor\": \"white\"}, \"yaxis\": {\"backgroundcolor\": \"#E5ECF6\", \"gridcolor\": \"white\", \"gridwidth\": 2, \"linecolor\": \"white\", \"showbackground\": true, \"ticks\": \"\", \"zerolinecolor\": \"white\"}, \"zaxis\": {\"backgroundcolor\": \"#E5ECF6\", \"gridcolor\": \"white\", \"gridwidth\": 2, \"linecolor\": \"white\", \"showbackground\": true, \"ticks\": \"\", \"zerolinecolor\": \"white\"}}, \"shapedefaults\": {\"line\": {\"color\": \"#2a3f5f\"}}, \"ternary\": {\"aaxis\": {\"gridcolor\": \"white\", \"linecolor\": \"white\", \"ticks\": \"\"}, \"baxis\": {\"gridcolor\": \"white\", \"linecolor\": \"white\", \"ticks\": \"\"}, \"bgcolor\": \"#E5ECF6\", \"caxis\": {\"gridcolor\": \"white\", \"linecolor\": \"white\", \"ticks\": \"\"}}, \"title\": {\"x\": 0.05}, \"xaxis\": {\"automargin\": true, \"gridcolor\": \"white\", \"linecolor\": \"white\", \"ticks\": \"\", \"title\": {\"standoff\": 15}, \"zerolinecolor\": \"white\", \"zerolinewidth\": 2}, \"yaxis\": {\"automargin\": true, \"gridcolor\": \"white\", \"linecolor\": \"white\", \"ticks\": \"\", \"title\": {\"standoff\": 15}, \"zerolinecolor\": \"white\", \"zerolinewidth\": 2}}}, \"title\": {\"font\": {\"color\": \"#484848\"}}, \"xaxis\": {\"gridcolor\": \"#E1E5ED\", \"showgrid\": true, \"tickfont\": {\"color\": \"#505050\"}, \"title\": {\"font\": {\"color\": \"#505050\"}, \"text\": \"\"}, \"zerolinecolor\": \"#E1E5ED\"}, \"yaxis\": {\"gridcolor\": \"#E1E5ED\", \"showgrid\": true, \"tickfont\": {\"color\": \"#505050\"}, \"title\": {\"font\": {\"color\": \"#505050\"}, \"text\": \"\"}, \"zerolinecolor\": \"#E1E5ED\"}},                        {\"showLink\": true, \"linkText\": \"Export to plot.ly\", \"plotlyServerURL\": \"https://plot.ly\", \"responsive\": true}                    ).then(function(){\n",
       "                            \n",
       "var gd = document.getElementById('35bd15e7-6f79-4168-9f42-3e566468dcb1');\n",
       "var x = new MutationObserver(function (mutations, observer) {{\n",
       "        var display = window.getComputedStyle(gd).display;\n",
       "        if (!display || display === 'none') {{\n",
       "            console.log([gd, 'removed!']);\n",
       "            Plotly.purge(gd);\n",
       "            observer.disconnect();\n",
       "        }}\n",
       "}});\n",
       "\n",
       "// Listen for the removal of the full notebook cells\n",
       "var notebookContainer = gd.closest('#notebook-container');\n",
       "if (notebookContainer) {{\n",
       "    x.observe(notebookContainer, {childList: true});\n",
       "}}\n",
       "\n",
       "// Listen for the clearing of the current output cell\n",
       "var outputEl = gd.closest('.output');\n",
       "if (outputEl) {{\n",
       "    x.observe(outputEl, {childList: true});\n",
       "}}\n",
       "\n",
       "                        })                };                });            </script>        </div>"
      ]
     },
     "metadata": {},
     "output_type": "display_data"
    }
   ],
   "source": [
    "df.iplot()"
   ]
  },
  {
   "cell_type": "code",
   "execution_count": 261,
   "metadata": {},
   "outputs": [
    {
     "data": {
      "text/html": [
       "<div>\n",
       "<style scoped>\n",
       "    .dataframe tbody tr th:only-of-type {\n",
       "        vertical-align: middle;\n",
       "    }\n",
       "\n",
       "    .dataframe tbody tr th {\n",
       "        vertical-align: top;\n",
       "    }\n",
       "\n",
       "    .dataframe thead th {\n",
       "        text-align: right;\n",
       "    }\n",
       "</style>\n",
       "<table border=\"1\" class=\"dataframe\">\n",
       "  <thead>\n",
       "    <tr style=\"text-align: right;\">\n",
       "      <th></th>\n",
       "      <th>AWP</th>\n",
       "      <th>VAA</th>\n",
       "      <th>TRD</th>\n",
       "      <th>SPY</th>\n",
       "    </tr>\n",
       "    <tr>\n",
       "      <th>Date</th>\n",
       "      <th></th>\n",
       "      <th></th>\n",
       "      <th></th>\n",
       "      <th></th>\n",
       "    </tr>\n",
       "  </thead>\n",
       "  <tbody>\n",
       "    <tr>\n",
       "      <th>2020-01-31</th>\n",
       "      <td>1.185625</td>\n",
       "      <td>1.107263</td>\n",
       "      <td>1.436527</td>\n",
       "      <td>1.214471</td>\n",
       "    </tr>\n",
       "    <tr>\n",
       "      <th>2020-02-28</th>\n",
       "      <td>1.186702</td>\n",
       "      <td>1.180635</td>\n",
       "      <td>1.334141</td>\n",
       "      <td>1.118327</td>\n",
       "    </tr>\n",
       "    <tr>\n",
       "      <th>2020-03-31</th>\n",
       "      <td>1.162652</td>\n",
       "      <td>1.255920</td>\n",
       "      <td>1.739684</td>\n",
       "      <td>0.978680</td>\n",
       "    </tr>\n",
       "    <tr>\n",
       "      <th>2020-04-30</th>\n",
       "      <td>1.231320</td>\n",
       "      <td>1.271229</td>\n",
       "      <td>1.932904</td>\n",
       "      <td>1.102956</td>\n",
       "    </tr>\n",
       "  </tbody>\n",
       "</table>\n",
       "</div>"
      ],
      "text/plain": [
       "                 AWP       VAA       TRD       SPY\n",
       "Date                                              \n",
       "2020-01-31  1.185625  1.107263  1.436527  1.214471\n",
       "2020-02-28  1.186702  1.180635  1.334141  1.118327\n",
       "2020-03-31  1.162652  1.255920  1.739684  0.978680\n",
       "2020-04-30  1.231320  1.271229  1.932904  1.102956"
      ]
     },
     "execution_count": 261,
     "metadata": {},
     "output_type": "execute_result"
    }
   ],
   "source": [
    "df['2020-01-01':'2020-04-30']"
   ]
  },
  {
   "cell_type": "markdown",
   "metadata": {},
   "source": [
    "## 리벨런싱"
   ]
  },
  {
   "cell_type": "code",
   "execution_count": 10,
   "metadata": {
    "ExecuteTime": {
     "end_time": "2020-12-03T23:57:41.187698Z",
     "start_time": "2020-12-03T23:57:41.173683Z"
    }
   },
   "outputs": [],
   "source": [
    "def cal_AWP(df, ratio = [0.5, 0.5], rebalancing=None, unit = 'daily'):\n",
    "    new_df = df.copy()\n",
    "    ## rebalancing 'm'월, 'y'연, \n",
    "    df_dict = []\n",
    "    ## 데이터 분할\n",
    "    years = sorted(new_df.index.year.unique())\n",
    "    months = sorted(new_df.index.month.unique())\n",
    "    \n",
    "    ## 가치변화 계산용(월단위 집계데이터로 계산할 때 발생하는 에러보정)\n",
    "    if (rebalancing == 'm')&(unit == 'monthly'):\n",
    "        temp_df = new_df.copy()\n",
    "        temp_df.index = temp_df.index - dt.timedelta(days=1)\n",
    "        new_df = new_df.append(temp_df)\n",
    "        new_df = new_df.sort_index()\n",
    "        new_df = new_df.shift(-1).dropna()\n",
    "        \n",
    "    if rebalancing == 'm' :\n",
    "        for year in years:\n",
    "            for month in months:\n",
    "                temp = new_df[(new_df.index.year == year)&(new_df.index.month == month)]\n",
    "                if len(temp) > 0:\n",
    "                    df_dict.append(temp)\n",
    "                    \n",
    "    elif rebalancing == 'y':\n",
    "        for year in years:\n",
    "            temp = new_df[(new_df.index.year == year)]\n",
    "            if len(temp) > 0:\n",
    "                df_dict.append(temp)\n",
    "    else:\n",
    "        df_dict.append(new_df)\n",
    "    ## 리벨런싱 적용\n",
    "    prev_val = 1\n",
    "    temp_series = pd.Series()\n",
    "    for i in range(len(df_dict)):    \n",
    "        temp = index_values(df_dict[i])\n",
    "        temp_AWP = (temp * ratio).sum(axis=1)*prev_val\n",
    "        prev_val = temp_AWP[-1]\n",
    "        temp_series = temp_series.append(temp_AWP)\n",
    "    new_df['strategy'] = temp_series\n",
    "    \n",
    "    ## 가치변화 계산용 임시 데이터프레임을 원래 형태로 되돌림\n",
    "    if (rebalancing == 'm')&(unit == 'monthly'):\n",
    "        new_df['temp_y'] = new_df.index.year\n",
    "        new_df['temp_m'] = new_df.index.month\n",
    "        new_df = new_df.drop_duplicates(['temp_y', 'temp_m'])\n",
    "        new_df = new_df.drop(columns=['temp_y', 'temp_m'])\n",
    "        new_df.index = df.index\n",
    "    \n",
    "    return new_df"
   ]
  },
  {
   "cell_type": "markdown",
   "metadata": {
    "ExecuteTime": {
     "end_time": "2020-11-20T07:56:46.975352Z",
     "start_time": "2020-11-20T07:56:46.972337Z"
    }
   },
   "source": [
    "## 최적화"
   ]
  },
  {
   "cell_type": "code",
   "execution_count": 11,
   "metadata": {
    "ExecuteTime": {
     "end_time": "2020-12-03T23:57:42.366602Z",
     "start_time": "2020-12-03T23:57:42.356617Z"
    }
   },
   "outputs": [],
   "source": [
    "def cal_optimal(df, df_unit='monthly', rebalancing = 'm'):\n",
    "    ## df_unit 데이터 집계주기 : daily, monthly => 수익, 위험 연율화 계산에 사용\n",
    "    ## rebalancing 리벨런싱 주기 : None, m, y\n",
    "    pyrr = []     # 리스트 형태로 수익을 쌓을 장소\n",
    "    pydd = []     # 리스트 형태로 위험(표준편차)을 쌓을 장소\n",
    "    pstn = []\n",
    "    weghs = []\n",
    "\n",
    "    for p in range (1000):\n",
    "        if p%25 == 0:\n",
    "            print(f\"{p}단계 진행중\")\n",
    "        weights = np.random.random(len(df.T))   # 랜덤한 n개의 숫자를 생성함(n개의 자산에 대응)\n",
    "        weights /= np.sum(weights)     # n개의 숫자의 합계가 1이 되도록 조정함(각 자산의 비중)\n",
    "\n",
    "        result_df = cal_AWP(df, weights, rebalancing=rebalancing, unit=df_unit)\n",
    "        sortino = Q.get_SRTR_report(result_df, 'a', unit=df_unit)\n",
    "\n",
    "        pyrr.append(sortino['YRR'][len(sortino)-1])\n",
    "        pydd.append(sortino['YDD'][len(sortino)-1])\n",
    "        pstn.append(sortino['Sortino Ratio'][len(sortino)-1])\n",
    "        weghs.append(weights)\n",
    "\n",
    "    pyrr = np.array(pyrr)\n",
    "    pydd = np.array(pydd)\n",
    "    pstn = np.array(pstn)\n",
    "    weghs = np.array(weghs)\n",
    "\n",
    "    process = pd.DataFrame(weghs, columns=df.columns)\n",
    "    process['YRR'] = pyrr\n",
    "    process['YDD'] = pydd\n",
    "    process['Sortino Ratio'] = pstn\n",
    "    \n",
    "    obtimal = process[process['Sortino Ratio']==process['Sortino Ratio'].max()]\n",
    "    obtimal = obtimal.reset_index(drop=True)\n",
    "    min_risk = process[process['YDD']==process['YDD'].min()]\n",
    "    min_risk = min_risk.reset_index(drop=True)\n",
    "\n",
    "    return process, obtimal, min_risk"
   ]
  },
  {
   "cell_type": "code",
   "execution_count": 27,
   "metadata": {
    "ExecuteTime": {
     "end_time": "2020-12-03T08:05:42.290453Z",
     "start_time": "2020-12-03T08:05:03.701569Z"
    },
    "scrolled": true
   },
   "outputs": [
    {
     "name": "stdout",
     "output_type": "stream",
     "text": [
      "0단계 진행중\n",
      "25단계 진행중\n",
      "50단계 진행중\n",
      "75단계 진행중\n",
      "100단계 진행중\n",
      "125단계 진행중\n",
      "150단계 진행중\n",
      "175단계 진행중\n",
      "200단계 진행중\n",
      "225단계 진행중\n",
      "250단계 진행중\n",
      "275단계 진행중\n",
      "300단계 진행중\n",
      "325단계 진행중\n",
      "350단계 진행중\n",
      "375단계 진행중\n",
      "400단계 진행중\n",
      "425단계 진행중\n",
      "450단계 진행중\n",
      "475단계 진행중\n",
      "500단계 진행중\n",
      "525단계 진행중\n",
      "550단계 진행중\n",
      "575단계 진행중\n",
      "600단계 진행중\n",
      "625단계 진행중\n",
      "650단계 진행중\n",
      "675단계 진행중\n",
      "700단계 진행중\n",
      "725단계 진행중\n",
      "750단계 진행중\n",
      "775단계 진행중\n",
      "800단계 진행중\n",
      "825단계 진행중\n",
      "850단계 진행중\n",
      "875단계 진행중\n",
      "900단계 진행중\n",
      "925단계 진행중\n",
      "950단계 진행중\n",
      "975단계 진행중\n"
     ]
    }
   ],
   "source": [
    "process, obtimal, min_risk = cal_optimal(df, df_unit='monthly', rebalancing = 'm')"
   ]
  },
  {
   "cell_type": "code",
   "execution_count": 28,
   "metadata": {
    "ExecuteTime": {
     "end_time": "2020-12-03T08:05:46.696784Z",
     "start_time": "2020-12-03T08:05:46.382535Z"
    },
    "scrolled": true
   },
   "outputs": [
    {
     "data": {
      "image/png": "[encoded data removed]",
      "text/plain": [
       "<Figure size 432x288 with 2 Axes>"
      ]
     },
     "metadata": {
      "needs_background": "light"
     },
     "output_type": "display_data"
    }
   ],
   "source": [
    "plt.scatter(process['YDD'], process['YRR'], c=process['Sortino Ratio'], marker='o')\n",
    "plt.grid(True)\n",
    "plt.xlabel('expected volatility(downside risk)')\n",
    "plt.ylabel('expected return')\n",
    "plt.colorbar(label='Sorrentino ratio')\n",
    "\n",
    "plt.scatter(obtimal['YDD'][0], obtimal['YRR'][0], marker=\"*\", s=200, alpha=0.5)\n",
    "plt.scatter(min_risk['YDD'][0], min_risk['YRR'][0], marker=\"*\", s=200, alpha=0.5)\n",
    "\n",
    "plt.show()"
   ]
  },
  {
   "cell_type": "code",
   "execution_count": 29,
   "metadata": {
    "ExecuteTime": {
     "end_time": "2020-12-03T23:57:51.762018Z",
     "start_time": "2020-12-03T23:57:51.758016Z"
    }
   },
   "outputs": [
    {
     "data": {
      "text/html": [
       "<div>\n",
       "<style scoped>\n",
       "    .dataframe tbody tr th:only-of-type {\n",
       "        vertical-align: middle;\n",
       "    }\n",
       "\n",
       "    .dataframe tbody tr th {\n",
       "        vertical-align: top;\n",
       "    }\n",
       "\n",
       "    .dataframe thead th {\n",
       "        text-align: right;\n",
       "    }\n",
       "</style>\n",
       "<table border=\"1\" class=\"dataframe\">\n",
       "  <thead>\n",
       "    <tr style=\"text-align: right;\">\n",
       "      <th></th>\n",
       "      <th>AWP</th>\n",
       "      <th>VAA</th>\n",
       "      <th>YRR</th>\n",
       "      <th>YDD</th>\n",
       "      <th>Sortino Ratio</th>\n",
       "    </tr>\n",
       "  </thead>\n",
       "  <tbody>\n",
       "    <tr>\n",
       "      <th>0</th>\n",
       "      <td>0.479644</td>\n",
       "      <td>0.520356</td>\n",
       "      <td>0.421367</td>\n",
       "      <td>0.106028</td>\n",
       "      <td>3.974112</td>\n",
       "    </tr>\n",
       "  </tbody>\n",
       "</table>\n",
       "</div>"
      ],
      "text/plain": [
       "        AWP       VAA       YRR       YDD  Sortino Ratio\n",
       "0  0.479644  0.520356  0.421367  0.106028       3.974112"
      ]
     },
     "execution_count": 29,
     "metadata": {},
     "output_type": "execute_result"
    }
   ],
   "source": [
    "obtimal"
   ]
  },
  {
   "cell_type": "markdown",
   "metadata": {},
   "source": [
    "## 활용 예시"
   ]
  },
  {
   "cell_type": "markdown",
   "metadata": {},
   "source": [
    "###### 보고서"
   ]
  },
  {
   "cell_type": "code",
   "execution_count": 13,
   "metadata": {
    "ExecuteTime": {
     "end_time": "2020-12-04T00:41:49.308581Z",
     "start_time": "2020-12-04T00:41:48.946318Z"
    }
   },
   "outputs": [],
   "source": [
    "## 포트폴리오 결정\n",
    "result_df = cal_AWP(df, list(obtimal.values[0][:-3]), rebalancing='m',unit='monthly')"
   ]
  },
  {
   "cell_type": "code",
   "execution_count": 14,
   "metadata": {
    "ExecuteTime": {
     "end_time": "2020-12-04T00:41:53.463422Z",
     "start_time": "2020-12-04T00:41:53.416535Z"
    }
   },
   "outputs": [
    {
     "data": {
      "text/html": [
       "<div>\n",
       "<style scoped>\n",
       "    .dataframe tbody tr th:only-of-type {\n",
       "        vertical-align: middle;\n",
       "    }\n",
       "\n",
       "    .dataframe tbody tr th {\n",
       "        vertical-align: top;\n",
       "    }\n",
       "\n",
       "    .dataframe thead th {\n",
       "        text-align: right;\n",
       "    }\n",
       "</style>\n",
       "<table border=\"1\" class=\"dataframe\">\n",
       "  <thead>\n",
       "    <tr style=\"text-align: right;\">\n",
       "      <th></th>\n",
       "      <th>AWP</th>\n",
       "      <th>VAA</th>\n",
       "      <th>strategy</th>\n",
       "    </tr>\n",
       "    <tr>\n",
       "      <th>Date</th>\n",
       "      <th></th>\n",
       "      <th></th>\n",
       "      <th></th>\n",
       "    </tr>\n",
       "  </thead>\n",
       "  <tbody>\n",
       "    <tr>\n",
       "      <th>2011</th>\n",
       "      <td>0.357598</td>\n",
       "      <td>0.596422</td>\n",
       "      <td>0.519559</td>\n",
       "    </tr>\n",
       "    <tr>\n",
       "      <th>2012</th>\n",
       "      <td>0.254265</td>\n",
       "      <td>0.525176</td>\n",
       "      <td>0.413585</td>\n",
       "    </tr>\n",
       "    <tr>\n",
       "      <th>2013</th>\n",
       "      <td>0.176634</td>\n",
       "      <td>0.769990</td>\n",
       "      <td>0.468013</td>\n",
       "    </tr>\n",
       "    <tr>\n",
       "      <th>2014</th>\n",
       "      <td>0.541359</td>\n",
       "      <td>0.529271</td>\n",
       "      <td>0.541388</td>\n",
       "    </tr>\n",
       "    <tr>\n",
       "      <th>2015</th>\n",
       "      <td>0.034605</td>\n",
       "      <td>-0.157475</td>\n",
       "      <td>-0.055305</td>\n",
       "    </tr>\n",
       "    <tr>\n",
       "      <th>2016</th>\n",
       "      <td>0.075653</td>\n",
       "      <td>0.470826</td>\n",
       "      <td>0.275616</td>\n",
       "    </tr>\n",
       "    <tr>\n",
       "      <th>2017</th>\n",
       "      <td>0.476689</td>\n",
       "      <td>0.703381</td>\n",
       "      <td>0.594914</td>\n",
       "    </tr>\n",
       "    <tr>\n",
       "      <th>2018</th>\n",
       "      <td>-0.064696</td>\n",
       "      <td>0.343754</td>\n",
       "      <td>0.146231</td>\n",
       "    </tr>\n",
       "    <tr>\n",
       "      <th>2019</th>\n",
       "      <td>0.770816</td>\n",
       "      <td>0.624660</td>\n",
       "      <td>0.732396</td>\n",
       "    </tr>\n",
       "    <tr>\n",
       "      <th>2020</th>\n",
       "      <td>0.666463</td>\n",
       "      <td>0.896791</td>\n",
       "      <td>0.845515</td>\n",
       "    </tr>\n",
       "    <tr>\n",
       "      <th>MEAN</th>\n",
       "      <td>0.302076</td>\n",
       "      <td>0.499851</td>\n",
       "      <td>0.423793</td>\n",
       "    </tr>\n",
       "  </tbody>\n",
       "</table>\n",
       "</div>"
      ],
      "text/plain": [
       "           AWP       VAA  strategy\n",
       "Date                              \n",
       "2011  0.357598  0.596422  0.519559\n",
       "2012  0.254265  0.525176  0.413585\n",
       "2013  0.176634  0.769990  0.468013\n",
       "2014  0.541359  0.529271  0.541388\n",
       "2015  0.034605 -0.157475 -0.055305\n",
       "2016  0.075653  0.470826  0.275616\n",
       "2017  0.476689  0.703381  0.594914\n",
       "2018 -0.064696  0.343754  0.146231\n",
       "2019  0.770816  0.624660  0.732396\n",
       "2020  0.666463  0.896791  0.845515\n",
       "MEAN  0.302076  0.499851  0.423793"
      ]
     },
     "execution_count": 14,
     "metadata": {},
     "output_type": "execute_result"
    }
   ],
   "source": [
    "## 연수익률(YTD)\n",
    "Q.get_YTD_report(result_df, 'a')"
   ]
  },
  {
   "cell_type": "code",
   "execution_count": 31,
   "metadata": {},
   "outputs": [
    {
     "data": {
      "text/html": [
       "<div>\n",
       "<style scoped>\n",
       "    .dataframe tbody tr th:only-of-type {\n",
       "        vertical-align: middle;\n",
       "    }\n",
       "\n",
       "    .dataframe tbody tr th {\n",
       "        vertical-align: top;\n",
       "    }\n",
       "\n",
       "    .dataframe thead th {\n",
       "        text-align: right;\n",
       "    }\n",
       "</style>\n",
       "<table border=\"1\" class=\"dataframe\">\n",
       "  <thead>\n",
       "    <tr style=\"text-align: right;\">\n",
       "      <th></th>\n",
       "      <th>Ticker</th>\n",
       "      <th>YRR</th>\n",
       "      <th>YDD</th>\n",
       "      <th>Sortino Ratio</th>\n",
       "    </tr>\n",
       "  </thead>\n",
       "  <tbody>\n",
       "    <tr>\n",
       "      <th>0</th>\n",
       "      <td>AWP</td>\n",
       "      <td>0.057172</td>\n",
       "      <td>0.030861</td>\n",
       "      <td>1.852571</td>\n",
       "    </tr>\n",
       "    <tr>\n",
       "      <th>1</th>\n",
       "      <td>VAA</td>\n",
       "      <td>0.083996</td>\n",
       "      <td>0.058165</td>\n",
       "      <td>1.444114</td>\n",
       "    </tr>\n",
       "  </tbody>\n",
       "</table>\n",
       "</div>"
      ],
      "text/plain": [
       "  Ticker       YRR       YDD  Sortino Ratio\n",
       "0    AWP  0.057172  0.030861       1.852571\n",
       "1    VAA  0.083996  0.058165       1.444114"
      ]
     },
     "execution_count": 31,
     "metadata": {},
     "output_type": "execute_result"
    }
   ],
   "source": [
    "Q.get_SRTR_report(df[16:-33], unit='monthly')"
   ]
  },
  {
   "cell_type": "code",
   "execution_count": 15,
   "metadata": {
    "ExecuteTime": {
     "end_time": "2020-12-04T00:41:54.111493Z",
     "start_time": "2020-12-04T00:41:53.922940Z"
    }
   },
   "outputs": [
    {
     "data": {
      "text/html": [
       "<div>\n",
       "<style scoped>\n",
       "    .dataframe tbody tr th:only-of-type {\n",
       "        vertical-align: middle;\n",
       "    }\n",
       "\n",
       "    .dataframe tbody tr th {\n",
       "        vertical-align: top;\n",
       "    }\n",
       "\n",
       "    .dataframe thead th {\n",
       "        text-align: right;\n",
       "    }\n",
       "</style>\n",
       "<table border=\"1\" class=\"dataframe\">\n",
       "  <thead>\n",
       "    <tr style=\"text-align: right;\">\n",
       "      <th></th>\n",
       "      <th>Ticker</th>\n",
       "      <th>MDD</th>\n",
       "      <th>Date</th>\n",
       "    </tr>\n",
       "  </thead>\n",
       "  <tbody>\n",
       "    <tr>\n",
       "      <th>0</th>\n",
       "      <td>AWP</td>\n",
       "      <td>-0.221547</td>\n",
       "      <td>2018-12-31</td>\n",
       "    </tr>\n",
       "    <tr>\n",
       "      <th>1</th>\n",
       "      <td>VAA</td>\n",
       "      <td>-0.356894</td>\n",
       "      <td>2015-12-31</td>\n",
       "    </tr>\n",
       "    <tr>\n",
       "      <th>2</th>\n",
       "      <td>strategy</td>\n",
       "      <td>-0.234026</td>\n",
       "      <td>2020-10-30</td>\n",
       "    </tr>\n",
       "  </tbody>\n",
       "</table>\n",
       "</div>"
      ],
      "text/plain": [
       "     Ticker       MDD       Date\n",
       "0       AWP -0.221547 2018-12-31\n",
       "1       VAA -0.356894 2015-12-31\n",
       "2  strategy -0.234026 2020-10-30"
      ]
     },
     "execution_count": 15,
     "metadata": {},
     "output_type": "execute_result"
    }
   ],
   "source": [
    "## 최대낙폭(MDD)\n",
    "MDD, HRR = Q.get_MDD_report(result_df, 'a')\n",
    "MDD"
   ]
  },
  {
   "cell_type": "code",
   "execution_count": 16,
   "metadata": {},
   "outputs": [
    {
     "data": {
      "text/html": [
       "<div>\n",
       "<style scoped>\n",
       "    .dataframe tbody tr th:only-of-type {\n",
       "        vertical-align: middle;\n",
       "    }\n",
       "\n",
       "    .dataframe tbody tr th {\n",
       "        vertical-align: top;\n",
       "    }\n",
       "\n",
       "    .dataframe thead th {\n",
       "        text-align: right;\n",
       "    }\n",
       "</style>\n",
       "<table border=\"1\" class=\"dataframe\">\n",
       "  <thead>\n",
       "    <tr style=\"text-align: right;\">\n",
       "      <th></th>\n",
       "      <th>Ticker</th>\n",
       "      <th>YRR</th>\n",
       "      <th>YDD</th>\n",
       "      <th>Sortino Ratio</th>\n",
       "    </tr>\n",
       "  </thead>\n",
       "  <tbody>\n",
       "    <tr>\n",
       "      <th>0</th>\n",
       "      <td>AWP</td>\n",
       "      <td>0.284110</td>\n",
       "      <td>0.114891</td>\n",
       "      <td>2.472862</td>\n",
       "    </tr>\n",
       "    <tr>\n",
       "      <th>1</th>\n",
       "      <td>VAA</td>\n",
       "      <td>0.516631</td>\n",
       "      <td>0.154512</td>\n",
       "      <td>3.343629</td>\n",
       "    </tr>\n",
       "    <tr>\n",
       "      <th>2</th>\n",
       "      <td>strategy</td>\n",
       "      <td>0.422396</td>\n",
       "      <td>0.106353</td>\n",
       "      <td>3.971626</td>\n",
       "    </tr>\n",
       "  </tbody>\n",
       "</table>\n",
       "</div>"
      ],
      "text/plain": [
       "     Ticker       YRR       YDD  Sortino Ratio\n",
       "0       AWP  0.284110  0.114891       2.472862\n",
       "1       VAA  0.516631  0.154512       3.343629\n",
       "2  strategy  0.422396  0.106353       3.971626"
      ]
     },
     "execution_count": 16,
     "metadata": {},
     "output_type": "execute_result"
    }
   ],
   "source": [
    "## 리스크 대비 리턴(sortino ration)\n",
    "Q.get_SRTR_report(result_df, 'a', unit='monthly')"
   ]
  },
  {
   "cell_type": "code",
   "execution_count": 21,
   "metadata": {},
   "outputs": [
    {
     "data": {
      "text/plain": [
       "0.4982689695170962"
      ]
     },
     "execution_count": 21,
     "metadata": {},
     "output_type": "execute_result"
    }
   ],
   "source": [
    "beta"
   ]
  },
  {
   "cell_type": "code",
   "execution_count": 17,
   "metadata": {
    "ExecuteTime": {
     "end_time": "2020-12-04T00:41:55.439335Z",
     "start_time": "2020-12-04T00:41:55.127171Z"
    }
   },
   "outputs": [
    {
     "data": {
      "image/png": "[encoded data removed]",
      "text/plain": [
       "<Figure size 360x360 with 1 Axes>"
      ]
     },
     "metadata": {
      "needs_background": "light"
     },
     "output_type": "display_data"
    },
    {
     "name": "stdout",
     "output_type": "stream",
     "text": [
      "Corr: 0.31, Beta: 0.5\n"
     ]
    }
   ],
   "source": [
    "## 자산관계(corr, bata)\n",
    "\n",
    "## 변동량 데이터구성\n",
    "rets_origin = Q.get_rets_df(df)\n",
    "## 상관계수\n",
    "corr = rets_origin.corr()\n",
    "corr = np.array(corr)[0, 1]\n",
    "## 배타산출\n",
    "beta = Q.cal_beta(rets_origin, \"AWP\", \"VAA\")\n",
    "\n",
    "sns.lmplot(data = rets_origin, x='AWP', y='VAA')\n",
    "plt.show()\n",
    "print(f\"Corr: {corr.round(2)}, Beta: {beta.round(2)}\")"
   ]
  },
  {
   "cell_type": "code",
   "execution_count": 18,
   "metadata": {
    "ExecuteTime": {
     "end_time": "2020-12-04T00:40:54.180744Z",
     "start_time": "2020-12-04T00:40:54.167769Z"
    }
   },
   "outputs": [
    {
     "data": {
      "text/html": [
       "<div>\n",
       "<style scoped>\n",
       "    .dataframe tbody tr th:only-of-type {\n",
       "        vertical-align: middle;\n",
       "    }\n",
       "\n",
       "    .dataframe tbody tr th {\n",
       "        vertical-align: top;\n",
       "    }\n",
       "\n",
       "    .dataframe thead th {\n",
       "        text-align: right;\n",
       "    }\n",
       "</style>\n",
       "<table border=\"1\" class=\"dataframe\">\n",
       "  <thead>\n",
       "    <tr style=\"text-align: right;\">\n",
       "      <th></th>\n",
       "      <th>odds</th>\n",
       "    </tr>\n",
       "  </thead>\n",
       "  <tbody>\n",
       "    <tr>\n",
       "      <th>AWP</th>\n",
       "      <td>0.66</td>\n",
       "    </tr>\n",
       "    <tr>\n",
       "      <th>VAA</th>\n",
       "      <td>0.61</td>\n",
       "    </tr>\n",
       "    <tr>\n",
       "      <th>strategy</th>\n",
       "      <td>0.66</td>\n",
       "    </tr>\n",
       "  </tbody>\n",
       "</table>\n",
       "</div>"
      ],
      "text/plain": [
       "          odds\n",
       "AWP       0.66\n",
       "VAA       0.61\n",
       "strategy  0.66"
      ]
     },
     "execution_count": 18,
     "metadata": {},
     "output_type": "execute_result"
    }
   ],
   "source": [
    "## odds(승률)\n",
    "rets = Q.get_rets_df(result_df)\n",
    "Q.get_odds_df(rets, 0.00165).round(2)"
   ]
  },
  {
   "cell_type": "code",
   "execution_count": 19,
   "metadata": {
    "ExecuteTime": {
     "end_time": "2020-12-03T08:06:48.367958Z",
     "start_time": "2020-12-03T08:06:48.095646Z"
    }
   },
   "outputs": [
    {
     "data": {
      "application/vnd.plotly.v1+json": {
       "config": {
        "linkText": "Export to plot.ly",
        "plotlyServerURL": "https://plot.ly",
        "showLink": true
       },
       "data": [
        {
         "marker": {
          "color": "rgba(0, 128, 240, 0.6)",
          "line": {
           "color": "rgba(0, 128, 240, 1.0)",
           "width": 1
          }
         },
         "name": "AWP",
         "orientation": "v",
         "text": "",
         "type": "bar",
         "x": [
          "2011-01-31",
          "2011-02-28",
          "2011-03-31",
          "2011-04-29",
          "2011-05-31",
          "2011-06-30",
          "2011-07-29",
          "2011-08-31",
          "2011-09-30",
          "2011-10-31",
          "2011-11-30",
          "2011-12-30",
          "2012-01-31",
          "2012-02-29",
          "2012-03-30",
          "2012-04-30",
          "2012-05-31",
          "2012-06-29",
          "2012-07-31",
          "2012-08-31",
          "2012-09-28",
          "2012-10-31",
          "2012-11-30",
          "2012-12-31",
          "2013-01-31",
          "2013-02-28",
          "2013-03-28",
          "2013-04-30",
          "2013-05-31",
          "2013-06-28",
          "2013-07-31",
          "2013-08-30",
          "2013-09-30",
          "2013-10-31",
          "2013-11-29",
          "2013-12-31",
          "2014-01-31",
          "2014-02-28",
          "2014-03-31",
          "2014-04-30",
          "2014-05-30",
          "2014-06-30",
          "2014-07-31",
          "2014-08-29",
          "2014-09-30",
          "2014-10-31",
          "2014-11-28",
          "2014-12-31",
          "2015-01-30",
          "2015-02-27",
          "2015-03-31",
          "2015-04-30",
          "2015-05-29",
          "2015-06-30",
          "2015-07-31",
          "2015-08-31",
          "2015-09-30",
          "2015-10-30",
          "2015-11-30",
          "2015-12-31",
          "2016-01-29",
          "2016-02-29",
          "2016-03-31",
          "2016-04-29",
          "2016-05-31",
          "2016-06-30",
          "2016-07-29",
          "2016-08-31",
          "2016-09-30",
          "2016-10-31",
          "2016-11-30",
          "2016-12-30",
          "2017-01-31",
          "2017-02-28",
          "2017-03-31",
          "2017-04-28",
          "2017-05-31",
          "2017-06-30",
          "2017-07-31",
          "2017-08-31",
          "2017-09-29",
          "2017-10-31",
          "2017-11-30",
          "2017-12-29",
          "2018-01-31",
          "2018-02-28",
          "2018-03-29",
          "2018-04-30",
          "2018-05-31",
          "2018-06-29",
          "2018-07-31",
          "2018-08-31",
          "2018-09-28",
          "2018-10-31",
          "2018-11-30",
          "2018-12-31",
          "2019-01-31",
          "2019-02-28",
          "2019-03-29",
          "2019-04-30",
          "2019-05-31",
          "2019-06-28",
          "2019-07-31",
          "2019-08-30",
          "2019-09-30",
          "2019-10-31",
          "2019-11-29",
          "2019-12-31",
          "2020-01-31",
          "2020-02-28",
          "2020-03-31",
          "2020-04-30",
          "2020-05-29",
          "2020-06-30",
          "2020-07-31",
          "2020-08-31",
          "2020-09-30",
          "2020-10-30",
          "2020-11-30",
          "2020-12-31",
          "2021-01-29",
          "2021-02-26",
          "2021-03-31",
          "2021-04-30",
          "2021-05-28",
          "2021-06-30",
          "2021-07-21"
         ],
         "y": [
          -0.008064473748312446,
          0.03613972357184065,
          0.004620152785623655,
          0.06223850028513825,
          0.025548142654482003,
          -0.04760401923475538,
          0.0652378026616728,
          0.02601574190236584,
          0.046552857995177555,
          0.10280935191312678,
          -0.02718860360139452,
          0.019412053726542172,
          0.09826451470602432,
          0.05203334784210361,
          0.009861234534366622,
          0.020161410642760617,
          0.017712021814453065,
          0.036444754713698166,
          0.03714514873088796,
          0.06508633225829784,
          -0.012958311652977639,
          -0.08144905748928694,
          0.02095449066126355,
          -0.03670576718479929,
          -0.028775482054196232,
          0.015088313937439644,
          0.0229264611480752,
          0.07217051010052239,
          -0.03788716662230609,
          -0.09869371723770164,
          0.04758059795870084,
          -0.014009554608972592,
          0.07739959933152135,
          0.06820977735221537,
          0.021757494340873006,
          0.016891028357875298,
          0.052137581066609866,
          0.08922519373871295,
          -0.03549400197266535,
          0.0016883330247310774,
          0.07308717970706893,
          0.04693174082304957,
          0.010804849335894337,
          0.10496755784988891,
          -0.027816521725174268,
          0.05392039761042147,
          0.05281757619190429,
          0.010394565660830456,
          0.07353434631165172,
          0.011936495056696748,
          -0.011021454903993248,
          -0.017252644442389685,
          -0.004733688275287478,
          -0.0730044206793578,
          0.09811895269820986,
          -0.10619747980008216,
          0.019574675450726584,
          0.12692566543698763,
          -0.021450402049484472,
          -0.06241060063142318,
          -0.007953072119960613,
          0.01616005070952754,
          0.05107518459291302,
          -0.0576348577940463,
          0.053965282932545426,
          0.04587946254659586,
          0.08081702919217972,
          0.00016048108624545254,
          0.013517054664274001,
          -0.07115548129948794,
          -0.08728778765167063,
          0.03538425916088089,
          0.0552876512759375,
          0.06710757686942634,
          0.02061419598462257,
          0.04109326279187026,
          0.061721298548532796,
          -0.03409931491573325,
          0.06388783209331705,
          0.049223110303551657,
          -0.02716557885776981,
          0.05430664453417347,
          0.023261444971962975,
          0.014564564424164981,
          0.055659976598813915,
          -0.038168032133229175,
          -0.011707447941088639,
          0.008308654728145794,
          0.07854905348144192,
          -0.0005370379699748387,
          0.004737351609162715,
          0.08671974014119237,
          -0.02826435211763254,
          -0.14454103795852827,
          -0.01335063832590135,
          -0.06429002609408935,
          0.10052494264441729,
          0.03166114926010499,
          0.10939402543183387,
          0.04147514253601573,
          -0.01814849598945408,
          0.12737169155405215,
          0.010808897598995382,
          0.07051691648247432,
          -0.01781245139102756,
          0.045757783606249124,
          0.027801366146335455,
          0.04208946776264703,
          0.0818851564606819,
          -0.017146143188516573,
          -0.14759598837793877,
          0.23999830184736812,
          0.09963630749930374,
          0.07474521196151078,
          0.11846887092039719,
          0.07867194238208336,
          -0.10652009433833963,
          -0.10626273493077387,
          0.13961652941837435,
          0.055205942406199214,
          -0.021088905225834242,
          -0.10142820326365372,
          -0.07444536177401655,
          0.06127973320762415,
          -0.010013213954269745,
          0.11995431532504569,
          0.053511936046697905
         ]
        },
        {
         "marker": {
          "color": "rgba(238, 118, 0, 0.6)",
          "line": {
           "color": "rgba(238, 118, 0, 1.0)",
           "width": 1
          }
         },
         "name": "VAA",
         "orientation": "v",
         "text": "",
         "type": "bar",
         "x": [
          "2011-01-31",
          "2011-02-28",
          "2011-03-31",
          "2011-04-29",
          "2011-05-31",
          "2011-06-30",
          "2011-07-29",
          "2011-08-31",
          "2011-09-30",
          "2011-10-31",
          "2011-11-30",
          "2011-12-30",
          "2012-01-31",
          "2012-02-29",
          "2012-03-30",
          "2012-04-30",
          "2012-05-31",
          "2012-06-29",
          "2012-07-31",
          "2012-08-31",
          "2012-09-28",
          "2012-10-31",
          "2012-11-30",
          "2012-12-31",
          "2013-01-31",
          "2013-02-28",
          "2013-03-28",
          "2013-04-30",
          "2013-05-31",
          "2013-06-28",
          "2013-07-31",
          "2013-08-30",
          "2013-09-30",
          "2013-10-31",
          "2013-11-29",
          "2013-12-31",
          "2014-01-31",
          "2014-02-28",
          "2014-03-31",
          "2014-04-30",
          "2014-05-30",
          "2014-06-30",
          "2014-07-31",
          "2014-08-29",
          "2014-09-30",
          "2014-10-31",
          "2014-11-28",
          "2014-12-31",
          "2015-01-30",
          "2015-02-27",
          "2015-03-31",
          "2015-04-30",
          "2015-05-29",
          "2015-06-30",
          "2015-07-31",
          "2015-08-31",
          "2015-09-30",
          "2015-10-30",
          "2015-11-30",
          "2015-12-31",
          "2016-01-29",
          "2016-02-29",
          "2016-03-31",
          "2016-04-29",
          "2016-05-31",
          "2016-06-30",
          "2016-07-29",
          "2016-08-31",
          "2016-09-30",
          "2016-10-31",
          "2016-11-30",
          "2016-12-30",
          "2017-01-31",
          "2017-02-28",
          "2017-03-31",
          "2017-04-28",
          "2017-05-31",
          "2017-06-30",
          "2017-07-31",
          "2017-08-31",
          "2017-09-29",
          "2017-10-31",
          "2017-11-30",
          "2017-12-29",
          "2018-01-31",
          "2018-02-28",
          "2018-03-29",
          "2018-04-30",
          "2018-05-31",
          "2018-06-29",
          "2018-07-31",
          "2018-08-31",
          "2018-09-28",
          "2018-10-31",
          "2018-11-30",
          "2018-12-31",
          "2019-01-31",
          "2019-02-28",
          "2019-03-29",
          "2019-04-30",
          "2019-05-31",
          "2019-06-28",
          "2019-07-31",
          "2019-08-30",
          "2019-09-30",
          "2019-10-31",
          "2019-11-29",
          "2019-12-31",
          "2020-01-31",
          "2020-02-28",
          "2020-03-31",
          "2020-04-30",
          "2020-05-29",
          "2020-06-30",
          "2020-07-31",
          "2020-08-31",
          "2020-09-30",
          "2020-10-30",
          "2020-11-30",
          "2020-12-31",
          "2021-01-29",
          "2021-02-26",
          "2021-03-31",
          "2021-04-30",
          "2021-05-28",
          "2021-06-30",
          "2021-07-21"
         ],
         "y": [
          0.06357414415752047,
          -0.001214334174257852,
          -0.007997224176575026,
          0.0053273621201510345,
          -0.04013985989239391,
          -0.07681459842252097,
          0.09136899407947567,
          0.24171524020161012,
          0.3460991310158567,
          -0.13778518593498368,
          -0.1069747537131925,
          0.09060607610010361,
          -0.01507403169986876,
          0.18348046548903374,
          0.14375670102073143,
          -0.04399992909566403,
          0.25387921623267057,
          -0.05950435040749949,
          0.022544020161037695,
          -0.04717509772412513,
          -0.01087780909092984,
          -0.06148954526799158,
          0.02880456238061865,
          0.0277655484485601,
          0.00011808057259658589,
          0.03502714660193237,
          0.1046585568777764,
          0.043091726591637895,
          0.06582364497568077,
          -0.0009845414899757813,
          0.0016241350453549393,
          -0.0009721915825826182,
          0.002228031967783202,
          0.13711867348082857,
          0.09835845873851173,
          0.08488191422068234,
          -0.06568324780730829,
          0.016186051050560212,
          -0.08736378262370766,
          0.016392816123568483,
          0.06411973773501395,
          0.09036829407676295,
          0.03003391407894055,
          0.1347312767080778,
          -0.028151622786615274,
          0.07753816109844047,
          0.08694216631458401,
          0.08967755769843598,
          0.270094466402633,
          -0.1968337756099121,
          -0.07749731166368233,
          -0.10868910675139225,
          0.06159101354183205,
          -0.050788307418814405,
          0.000447998250183575,
          -0.027877313735940327,
          0.0029454427708569776,
          -0.005042255033435377,
          -0.038210030203883014,
          -0.001492562374814366,
          0.006499034194509189,
          0.08348701821023334,
          -0.006441112116318323,
          0.00802468255489228,
          0.008150480297654864,
          0.1924811651348136,
          0.058963465033685034,
          0.029474024202145073,
          0.05638555659360475,
          -0.04721259605684199,
          -0.004710546286247469,
          0.0007228945198007506,
          0.001065414576606157,
          0.12565836165486724,
          0.054873636776437244,
          0.07762424767771593,
          0.10826195457558031,
          -0.08411447877064948,
          0.05706726794027785,
          0.049166927418136476,
          -0.01062160953377118,
          0.06610963589356113,
          0.05356084031742287,
          0.033963121375275546,
          0.244539263554291,
          -0.06362443095416191,
          0.002468161733611689,
          -0.06943196911391343,
          0.0035169517063288066,
          0.014879405007242328,
          -0.000600664572523412,
          0.16292569132562243,
          -0.09178489988263346,
          0.001530051765032443,
          0.003803006931776818,
          0.08724632117121599,
          0.004121635528207079,
          0.08876973787205644,
          0.04735806014638157,
          0.1539488197676319,
          -0.2746039518842935,
          0.018896680894512165,
          0.06015791214036307,
          0.3009049547417032,
          -0.09503257159113215,
          -0.04200616325627281,
          0.1150692268203682,
          0.1077140316515397,
          0.07873531922237231,
          0.1647671323603651,
          0.112392685384794,
          0.02648085515147562,
          -0.06694683881891897,
          -0.00029404138611980327,
          0.20092198678476234,
          0.3013262376950518,
          -0.20920427113996465,
          -0.10842094116707966,
          0.00021978375985596914,
          0.14018556419766873,
          -0.004741700439224472,
          -0.01391307414849168,
          0.12513892804003923,
          0.14990372749894199,
          0.013533546307142309,
          0.0638156351054078,
          0.05518365263796508
         ]
        },
        {
         "marker": {
          "color": "rgba(48, 144, 84, 0.6)",
          "line": {
           "color": "rgba(48, 144, 84, 1.0)",
           "width": 1
          }
         },
         "name": "strategy",
         "orientation": "v",
         "text": "",
         "type": "bar",
         "x": [
          "2011-01-31",
          "2011-02-28",
          "2011-03-31",
          "2011-04-29",
          "2011-05-31",
          "2011-06-30",
          "2011-07-29",
          "2011-08-31",
          "2011-09-30",
          "2011-10-31",
          "2011-11-30",
          "2011-12-30",
          "2012-01-31",
          "2012-02-29",
          "2012-03-30",
          "2012-04-30",
          "2012-05-31",
          "2012-06-29",
          "2012-07-31",
          "2012-08-31",
          "2012-09-28",
          "2012-10-31",
          "2012-11-30",
          "2012-12-31",
          "2013-01-31",
          "2013-02-28",
          "2013-03-28",
          "2013-04-30",
          "2013-05-31",
          "2013-06-28",
          "2013-07-31",
          "2013-08-30",
          "2013-09-30",
          "2013-10-31",
          "2013-11-29",
          "2013-12-31",
          "2014-01-31",
          "2014-02-28",
          "2014-03-31",
          "2014-04-30",
          "2014-05-30",
          "2014-06-30",
          "2014-07-31",
          "2014-08-29",
          "2014-09-30",
          "2014-10-31",
          "2014-11-28",
          "2014-12-31",
          "2015-01-30",
          "2015-02-27",
          "2015-03-31",
          "2015-04-30",
          "2015-05-29",
          "2015-06-30",
          "2015-07-31",
          "2015-08-31",
          "2015-09-30",
          "2015-10-30",
          "2015-11-30",
          "2015-12-31",
          "2016-01-29",
          "2016-02-29",
          "2016-03-31",
          "2016-04-29",
          "2016-05-31",
          "2016-06-30",
          "2016-07-29",
          "2016-08-31",
          "2016-09-30",
          "2016-10-31",
          "2016-11-30",
          "2016-12-30",
          "2017-01-31",
          "2017-02-28",
          "2017-03-31",
          "2017-04-28",
          "2017-05-31",
          "2017-06-30",
          "2017-07-31",
          "2017-08-31",
          "2017-09-29",
          "2017-10-31",
          "2017-11-30",
          "2017-12-29",
          "2018-01-31",
          "2018-02-28",
          "2018-03-29",
          "2018-04-30",
          "2018-05-31",
          "2018-06-29",
          "2018-07-31",
          "2018-08-31",
          "2018-09-28",
          "2018-10-31",
          "2018-11-30",
          "2018-12-31",
          "2019-01-31",
          "2019-02-28",
          "2019-03-29",
          "2019-04-30",
          "2019-05-31",
          "2019-06-28",
          "2019-07-31",
          "2019-08-30",
          "2019-09-30",
          "2019-10-31",
          "2019-11-29",
          "2019-12-31",
          "2020-01-31",
          "2020-02-28",
          "2020-03-31",
          "2020-04-30",
          "2020-05-29",
          "2020-06-30",
          "2020-07-31",
          "2020-08-31",
          "2020-09-30",
          "2020-10-30",
          "2020-11-30",
          "2020-12-31",
          "2021-01-29",
          "2021-02-26",
          "2021-03-31",
          "2021-04-30",
          "2021-05-28",
          "2021-06-30",
          "2021-07-21"
         ],
         "y": [
          0.03025192020924427,
          0.016667819647101133,
          -0.0019959663236405216,
          0.03271083143069297,
          -0.008461306544951214,
          -0.06286057933871317,
          0.07906629739132336,
          0.14522797973498294,
          0.21518304231850882,
          -0.016499782644439413,
          -0.06835677199594309,
          0.05748671910049544,
          0.040259029692198016,
          0.12331405829637224,
          0.08251021922327016,
          -0.013069852991893297,
          0.14883043504125792,
          -0.012869465538065216,
          0.02949243091333845,
          0.007616995126778887,
          -0.01186355481079364,
          -0.07090192753637518,
          0.025090830010078197,
          -0.002280289457896832,
          -0.013475214818543737,
          0.025624464905881807,
          0.0667439143578166,
          0.056982308114679976,
          0.01799626018835236,
          -0.04611696431113513,
          0.023673781067951014,
          -0.007131513570018757,
          0.03856914219961202,
          0.10504278316357217,
          0.06277526608633627,
          0.05322558356230081,
          -0.008095900142580268,
          0.05147680423250594,
          -0.062438670407578306,
          0.00944894077873151,
          0.06838087936712749,
          0.07001172650616272,
          0.020964241943262015,
          0.12073183176944592,
          -0.027992750414362524,
          0.06641140566424823,
          0.07091010260182709,
          0.052874908652770856,
          0.18170546945601604,
          -0.09242067728214855,
          -0.04543226903902594,
          -0.06429908567919004,
          0.030696715843535435,
          -0.061258598683863484,
          0.047940777834523114,
          -0.0642423931251929,
          0.010863197799443414,
          0.05969306849635515,
          -0.030229916777534033,
          -0.029909364409264148,
          -0.0003261161049663888,
          0.05213424951154286,
          0.02123788232758172,
          -0.022565209636046867,
          0.030131348379028828,
          0.12565312550354685,
          0.06938294735053566,
          0.015684677397412573,
          0.03629217611110388,
          -0.058491552669200385,
          -0.04300857451782268,
          0.017304353138145344,
          0.027136883362432366,
          0.09832859089453173,
          0.03877879408020696,
          0.060472580184664115,
          0.08646862455927443,
          -0.06009215039506632,
          0.060306432029709145,
          0.04919356193135646,
          -0.01843035097022629,
          0.06053166029783492,
          0.039311459553807986,
          0.024813915327796737,
          0.1594253479163384,
          -0.05147572394322712,
          -0.004226898655783987,
          -0.031823922945003476,
          0.039789331380836276,
          0.0076006894910689415,
          0.0019334337195643487,
          0.12752225280617402,
          -0.06116881142879056,
          -0.06506569728250913,
          -0.0042921981532957594,
          0.018261321385301735,
          0.05098275016312853,
          0.062102898797752513,
          0.07724709840058866,
          0.10220257410554184,
          -0.14481541710945528,
          0.07178939287155903,
          0.037066771483670415,
          0.1982632366455289,
          -0.057681346215504505,
          0.0005606819906593483,
          0.07464659755001109,
          0.07714014918015194,
          0.08022977140012823,
          0.082635984400563,
          -0.00249237171112826,
          0.13339475644793578,
          0.015489133680732174,
          0.03598186256327781,
          0.16268025485075777,
          0.20191838951955554,
          -0.15920948165394389,
          -0.10739723888689874,
          0.068728636107361,
          0.10079870435713824,
          -0.012457969902934934,
          -0.05444755161076889,
          0.03546439302017224,
          0.10886785766595752,
          0.002440033536677372,
          0.09082201268285389,
          0.054391505233247935
         ]
        }
       ],
       "layout": {
        "legend": {
         "bgcolor": "#F2F3F7",
         "font": {
          "color": "#505050"
         }
        },
        "paper_bgcolor": "#F2F3F7",
        "plot_bgcolor": "#F2F3F7",
        "template": {
         "data": {
          "bar": [
           {
            "error_x": {
             "color": "#2a3f5f"
            },
            "error_y": {
             "color": "#2a3f5f"
            },
            "marker": {
             "line": {
              "color": "#E5ECF6",
              "width": 0.5
             }
            },
            "type": "bar"
           }
          ],
          "barpolar": [
           {
            "marker": {
             "line": {
              "color": "#E5ECF6",
              "width": 0.5
             }
            },
            "type": "barpolar"
           }
          ],
          "carpet": [
           {
            "aaxis": {
             "endlinecolor": "#2a3f5f",
             "gridcolor": "white",
             "linecolor": "white",
             "minorgridcolor": "white",
             "startlinecolor": "#2a3f5f"
            },
            "baxis": {
             "endlinecolor": "#2a3f5f",
             "gridcolor": "white",
             "linecolor": "white",
             "minorgridcolor": "white",
             "startlinecolor": "#2a3f5f"
            },
            "type": "carpet"
           }
          ],
          "choropleth": [
           {
            "colorbar": {
             "outlinewidth": 0,
             "ticks": ""
            },
            "type": "choropleth"
           }
          ],
          "contour": [
           {
            "colorbar": {
             "outlinewidth": 0,
             "ticks": ""
            },
            "colorscale": [
             [
              0,
              "#0d0887"
             ],
             [
              0.1111111111111111,
              "#46039f"
             ],
             [
              0.2222222222222222,
              "#7201a8"
             ],
             [
              0.3333333333333333,
              "#9c179e"
             ],
             [
              0.4444444444444444,
              "#bd3786"
             ],
             [
              0.5555555555555556,
              "#d8576b"
             ],
             [
              0.6666666666666666,
              "#ed7953"
             ],
             [
              0.7777777777777778,
              "#fb9f3a"
             ],
             [
              0.8888888888888888,
              "#fdca26"
             ],
             [
              1,
              "#f0f921"
             ]
            ],
            "type": "contour"
           }
          ],
          "contourcarpet": [
           {
            "colorbar": {
             "outlinewidth": 0,
             "ticks": ""
            },
            "type": "contourcarpet"
           }
          ],
          "heatmap": [
           {
            "colorbar": {
             "outlinewidth": 0,
             "ticks": ""
            },
            "colorscale": [
             [
              0,
              "#0d0887"
             ],
             [
              0.1111111111111111,
              "#46039f"
             ],
             [
              0.2222222222222222,
              "#7201a8"
             ],
             [
              0.3333333333333333,
              "#9c179e"
             ],
             [
              0.4444444444444444,
              "#bd3786"
             ],
             [
              0.5555555555555556,
              "#d8576b"
             ],
             [
              0.6666666666666666,
              "#ed7953"
             ],
             [
              0.7777777777777778,
              "#fb9f3a"
             ],
             [
              0.8888888888888888,
              "#fdca26"
             ],
             [
              1,
              "#f0f921"
             ]
            ],
            "type": "heatmap"
           }
          ],
          "heatmapgl": [
           {
            "colorbar": {
             "outlinewidth": 0,
             "ticks": ""
            },
            "colorscale": [
             [
              0,
              "#0d0887"
             ],
             [
              0.1111111111111111,
              "#46039f"
             ],
             [
              0.2222222222222222,
              "#7201a8"
             ],
             [
              0.3333333333333333,
              "#9c179e"
             ],
             [
              0.4444444444444444,
              "#bd3786"
             ],
             [
              0.5555555555555556,
              "#d8576b"
             ],
             [
              0.6666666666666666,
              "#ed7953"
             ],
             [
              0.7777777777777778,
              "#fb9f3a"
             ],
             [
              0.8888888888888888,
              "#fdca26"
             ],
             [
              1,
              "#f0f921"
             ]
            ],
            "type": "heatmapgl"
           }
          ],
          "histogram": [
           {
            "marker": {
             "colorbar": {
              "outlinewidth": 0,
              "ticks": ""
             }
            },
            "type": "histogram"
           }
          ],
          "histogram2d": [
           {
            "colorbar": {
             "outlinewidth": 0,
             "ticks": ""
            },
            "colorscale": [
             [
              0,
              "#0d0887"
             ],
             [
              0.1111111111111111,
              "#46039f"
             ],
             [
              0.2222222222222222,
              "#7201a8"
             ],
             [
              0.3333333333333333,
              "#9c179e"
             ],
             [
              0.4444444444444444,
              "#bd3786"
             ],
             [
              0.5555555555555556,
              "#d8576b"
             ],
             [
              0.6666666666666666,
              "#ed7953"
             ],
             [
              0.7777777777777778,
              "#fb9f3a"
             ],
             [
              0.8888888888888888,
              "#fdca26"
             ],
             [
              1,
              "#f0f921"
             ]
            ],
            "type": "histogram2d"
           }
          ],
          "histogram2dcontour": [
           {
            "colorbar": {
             "outlinewidth": 0,
             "ticks": ""
            },
            "colorscale": [
             [
              0,
              "#0d0887"
             ],
             [
              0.1111111111111111,
              "#46039f"
             ],
             [
              0.2222222222222222,
              "#7201a8"
             ],
             [
              0.3333333333333333,
              "#9c179e"
             ],
             [
              0.4444444444444444,
              "#bd3786"
             ],
             [
              0.5555555555555556,
              "#d8576b"
             ],
             [
              0.6666666666666666,
              "#ed7953"
             ],
             [
              0.7777777777777778,
              "#fb9f3a"
             ],
             [
              0.8888888888888888,
              "#fdca26"
             ],
             [
              1,
              "#f0f921"
             ]
            ],
            "type": "histogram2dcontour"
           }
          ],
          "mesh3d": [
           {
            "colorbar": {
             "outlinewidth": 0,
             "ticks": ""
            },
            "type": "mesh3d"
           }
          ],
          "parcoords": [
           {
            "line": {
             "colorbar": {
              "outlinewidth": 0,
              "ticks": ""
             }
            },
            "type": "parcoords"
           }
          ],
          "pie": [
           {
            "automargin": true,
            "type": "pie"
           }
          ],
          "scatter": [
           {
            "marker": {
             "colorbar": {
              "outlinewidth": 0,
              "ticks": ""
             }
            },
            "type": "scatter"
           }
          ],
          "scatter3d": [
           {
            "line": {
             "colorbar": {
              "outlinewidth": 0,
              "ticks": ""
             }
            },
            "marker": {
             "colorbar": {
              "outlinewidth": 0,
              "ticks": ""
             }
            },
            "type": "scatter3d"
           }
          ],
          "scattercarpet": [
           {
            "marker": {
             "colorbar": {
              "outlinewidth": 0,
              "ticks": ""
             }
            },
            "type": "scattercarpet"
           }
          ],
          "scattergeo": [
           {
            "marker": {
             "colorbar": {
              "outlinewidth": 0,
              "ticks": ""
             }
            },
            "type": "scattergeo"
           }
          ],
          "scattergl": [
           {
            "marker": {
             "colorbar": {
              "outlinewidth": 0,
              "ticks": ""
             }
            },
            "type": "scattergl"
           }
          ],
          "scattermapbox": [
           {
            "marker": {
             "colorbar": {
              "outlinewidth": 0,
              "ticks": ""
             }
            },
            "type": "scattermapbox"
           }
          ],
          "scatterpolar": [
           {
            "marker": {
             "colorbar": {
              "outlinewidth": 0,
              "ticks": ""
             }
            },
            "type": "scatterpolar"
           }
          ],
          "scatterpolargl": [
           {
            "marker": {
             "colorbar": {
              "outlinewidth": 0,
              "ticks": ""
             }
            },
            "type": "scatterpolargl"
           }
          ],
          "scatterternary": [
           {
            "marker": {
             "colorbar": {
              "outlinewidth": 0,
              "ticks": ""
             }
            },
            "type": "scatterternary"
           }
          ],
          "surface": [
           {
            "colorbar": {
             "outlinewidth": 0,
             "ticks": ""
            },
            "colorscale": [
             [
              0,
              "#0d0887"
             ],
             [
              0.1111111111111111,
              "#46039f"
             ],
             [
              0.2222222222222222,
              "#7201a8"
             ],
             [
              0.3333333333333333,
              "#9c179e"
             ],
             [
              0.4444444444444444,
              "#bd3786"
             ],
             [
              0.5555555555555556,
              "#d8576b"
             ],
             [
              0.6666666666666666,
              "#ed7953"
             ],
             [
              0.7777777777777778,
              "#fb9f3a"
             ],
             [
              0.8888888888888888,
              "#fdca26"
             ],
             [
              1,
              "#f0f921"
             ]
            ],
            "type": "surface"
           }
          ],
          "table": [
           {
            "cells": {
             "fill": {
              "color": "#EBF0F8"
             },
             "line": {
              "color": "white"
             }
            },
            "header": {
             "fill": {
              "color": "#C8D4E3"
             },
             "line": {
              "color": "white"
             }
            },
            "type": "table"
           }
          ]
         },
         "layout": {
          "annotationdefaults": {
           "arrowcolor": "#2a3f5f",
           "arrowhead": 0,
           "arrowwidth": 1
          },
          "coloraxis": {
           "colorbar": {
            "outlinewidth": 0,
            "ticks": ""
           }
          },
          "colorscale": {
           "diverging": [
            [
             0,
             "#8e0152"
            ],
            [
             0.1,
             "#c51b7d"
            ],
            [
             0.2,
             "#de77ae"
            ],
            [
             0.3,
             "#f1b6da"
            ],
            [
             0.4,
             "#fde0ef"
            ],
            [
             0.5,
             "#f7f7f7"
            ],
            [
             0.6,
             "#e6f5d0"
            ],
            [
             0.7,
             "#b8e186"
            ],
            [
             0.8,
             "#7fbc41"
            ],
            [
             0.9,
             "#4d9221"
            ],
            [
             1,
             "#276419"
            ]
           ],
           "sequential": [
            [
             0,
             "#0d0887"
            ],
            [
             0.1111111111111111,
             "#46039f"
            ],
            [
             0.2222222222222222,
             "#7201a8"
            ],
            [
             0.3333333333333333,
             "#9c179e"
            ],
            [
             0.4444444444444444,
             "#bd3786"
            ],
            [
             0.5555555555555556,
             "#d8576b"
            ],
            [
             0.6666666666666666,
             "#ed7953"
            ],
            [
             0.7777777777777778,
             "#fb9f3a"
            ],
            [
             0.8888888888888888,
             "#fdca26"
            ],
            [
             1,
             "#f0f921"
            ]
           ],
           "sequentialminus": [
            [
             0,
             "#0d0887"
            ],
            [
             0.1111111111111111,
             "#46039f"
            ],
            [
             0.2222222222222222,
             "#7201a8"
            ],
            [
             0.3333333333333333,
             "#9c179e"
            ],
            [
             0.4444444444444444,
             "#bd3786"
            ],
            [
             0.5555555555555556,
             "#d8576b"
            ],
            [
             0.6666666666666666,
             "#ed7953"
            ],
            [
             0.7777777777777778,
             "#fb9f3a"
            ],
            [
             0.8888888888888888,
             "#fdca26"
            ],
            [
             1,
             "#f0f921"
            ]
           ]
          },
          "colorway": [
           "#636efa",
           "#EF553B",
           "#00cc96",
           "#ab63fa",
           "#FFA15A",
           "#19d3f3",
           "#FF6692",
           "#B6E880",
           "#FF97FF",
           "#FECB52"
          ],
          "font": {
           "color": "#2a3f5f"
          },
          "geo": {
           "bgcolor": "white",
           "lakecolor": "white",
           "landcolor": "#E5ECF6",
           "showlakes": true,
           "showland": true,
           "subunitcolor": "white"
          },
          "hoverlabel": {
           "align": "left"
          },
          "hovermode": "closest",
          "mapbox": {
           "style": "light"
          },
          "paper_bgcolor": "white",
          "plot_bgcolor": "#E5ECF6",
          "polar": {
           "angularaxis": {
            "gridcolor": "white",
            "linecolor": "white",
            "ticks": ""
           },
           "bgcolor": "#E5ECF6",
           "radialaxis": {
            "gridcolor": "white",
            "linecolor": "white",
            "ticks": ""
           }
          },
          "scene": {
           "xaxis": {
            "backgroundcolor": "#E5ECF6",
            "gridcolor": "white",
            "gridwidth": 2,
            "linecolor": "white",
            "showbackground": true,
            "ticks": "",
            "zerolinecolor": "white"
           },
           "yaxis": {
            "backgroundcolor": "#E5ECF6",
            "gridcolor": "white",
            "gridwidth": 2,
            "linecolor": "white",
            "showbackground": true,
            "ticks": "",
            "zerolinecolor": "white"
           },
           "zaxis": {
            "backgroundcolor": "#E5ECF6",
            "gridcolor": "white",
            "gridwidth": 2,
            "linecolor": "white",
            "showbackground": true,
            "ticks": "",
            "zerolinecolor": "white"
           }
          },
          "shapedefaults": {
           "line": {
            "color": "#2a3f5f"
           }
          },
          "ternary": {
           "aaxis": {
            "gridcolor": "white",
            "linecolor": "white",
            "ticks": ""
           },
           "baxis": {
            "gridcolor": "white",
            "linecolor": "white",
            "ticks": ""
           },
           "bgcolor": "#E5ECF6",
           "caxis": {
            "gridcolor": "white",
            "linecolor": "white",
            "ticks": ""
           }
          },
          "title": {
           "x": 0.05
          },
          "xaxis": {
           "automargin": true,
           "gridcolor": "white",
           "linecolor": "white",
           "ticks": "",
           "title": {
            "standoff": 15
           },
           "zerolinecolor": "white",
           "zerolinewidth": 2
          },
          "yaxis": {
           "automargin": true,
           "gridcolor": "white",
           "linecolor": "white",
           "ticks": "",
           "title": {
            "standoff": 15
           },
           "zerolinecolor": "white",
           "zerolinewidth": 2
          }
         }
        },
        "title": {
         "font": {
          "color": "#484848"
         }
        },
        "xaxis": {
         "gridcolor": "#E1E5ED",
         "showgrid": true,
         "tickfont": {
          "color": "#505050"
         },
         "title": {
          "font": {
           "color": "#505050"
          },
          "text": ""
         },
         "zerolinecolor": "#E1E5ED"
        },
        "yaxis": {
         "gridcolor": "#E1E5ED",
         "showgrid": true,
         "tickfont": {
          "color": "#505050"
         },
         "title": {
          "font": {
           "color": "#505050"
          },
          "text": ""
         },
         "zerolinecolor": "#E1E5ED"
        }
       }
      },
      "text/html": [
       "<div>                            <div id=\"9694cc21-058b-439b-9eb5-788b54811c67\" class=\"plotly-graph-div\" style=\"height:525px; width:100%;\"></div>            <script type=\"text/javascript\">                require([\"plotly\"], function(Plotly) {                    window.PLOTLYENV=window.PLOTLYENV || {};\n",
       "                    window.PLOTLYENV.BASE_URL='https://plot.ly';                                    if (document.getElementById(\"9694cc21-058b-439b-9eb5-788b54811c67\")) {                    Plotly.newPlot(                        \"9694cc21-058b-439b-9eb5-788b54811c67\",                        [{\"marker\": {\"color\": \"rgba(0, 128, 240, 0.6)\", \"line\": {\"color\": \"rgba(0, 128, 240, 1.0)\", \"width\": 1}}, \"name\": \"AWP\", \"orientation\": \"v\", \"text\": \"\", \"type\": \"bar\", \"x\": [\"2011-01-31\", \"2011-02-28\", \"2011-03-31\", \"2011-04-29\", \"2011-05-31\", \"2011-06-30\", \"2011-07-29\", \"2011-08-31\", \"2011-09-30\", \"2011-10-31\", \"2011-11-30\", \"2011-12-30\", \"2012-01-31\", \"2012-02-29\", \"2012-03-30\", \"2012-04-30\", \"2012-05-31\", \"2012-06-29\", \"2012-07-31\", \"2012-08-31\", \"2012-09-28\", \"2012-10-31\", \"2012-11-30\", \"2012-12-31\", \"2013-01-31\", \"2013-02-28\", \"2013-03-28\", \"2013-04-30\", \"2013-05-31\", \"2013-06-28\", \"2013-07-31\", \"2013-08-30\", \"2013-09-30\", \"2013-10-31\", \"2013-11-29\", \"2013-12-31\", \"2014-01-31\", \"2014-02-28\", \"2014-03-31\", \"2014-04-30\", \"2014-05-30\", \"2014-06-30\", \"2014-07-31\", \"2014-08-29\", \"2014-09-30\", \"2014-10-31\", \"2014-11-28\", \"2014-12-31\", \"2015-01-30\", \"2015-02-27\", \"2015-03-31\", \"2015-04-30\", \"2015-05-29\", \"2015-06-30\", \"2015-07-31\", \"2015-08-31\", \"2015-09-30\", \"2015-10-30\", \"2015-11-30\", \"2015-12-31\", \"2016-01-29\", \"2016-02-29\", \"2016-03-31\", \"2016-04-29\", \"2016-05-31\", \"2016-06-30\", \"2016-07-29\", \"2016-08-31\", \"2016-09-30\", \"2016-10-31\", \"2016-11-30\", \"2016-12-30\", \"2017-01-31\", \"2017-02-28\", \"2017-03-31\", \"2017-04-28\", \"2017-05-31\", \"2017-06-30\", \"2017-07-31\", \"2017-08-31\", \"2017-09-29\", \"2017-10-31\", \"2017-11-30\", \"2017-12-29\", \"2018-01-31\", \"2018-02-28\", \"2018-03-29\", \"2018-04-30\", \"2018-05-31\", \"2018-06-29\", \"2018-07-31\", \"2018-08-31\", \"2018-09-28\", \"2018-10-31\", \"2018-11-30\", \"2018-12-31\", \"2019-01-31\", \"2019-02-28\", \"2019-03-29\", \"2019-04-30\", \"2019-05-31\", \"2019-06-28\", \"2019-07-31\", \"2019-08-30\", \"2019-09-30\", \"2019-10-31\", \"2019-11-29\", \"2019-12-31\", \"2020-01-31\", \"2020-02-28\", \"2020-03-31\", \"2020-04-30\", \"2020-05-29\", \"2020-06-30\", \"2020-07-31\", \"2020-08-31\", \"2020-09-30\", \"2020-10-30\", \"2020-11-30\", \"2020-12-31\", \"2021-01-29\", \"2021-02-26\", \"2021-03-31\", \"2021-04-30\", \"2021-05-28\", \"2021-06-30\", \"2021-07-21\"], \"y\": [-0.008064473748312446, 0.03613972357184065, 0.004620152785623655, 0.06223850028513825, 0.025548142654482003, -0.04760401923475538, 0.0652378026616728, 0.02601574190236584, 0.046552857995177555, 0.10280935191312678, -0.02718860360139452, 0.019412053726542172, 0.09826451470602432, 0.05203334784210361, 0.009861234534366622, 0.020161410642760617, 0.017712021814453065, 0.036444754713698166, 0.03714514873088796, 0.06508633225829784, -0.012958311652977639, -0.08144905748928694, 0.02095449066126355, -0.03670576718479929, -0.028775482054196232, 0.015088313937439644, 0.0229264611480752, 0.07217051010052239, -0.03788716662230609, -0.09869371723770164, 0.04758059795870084, -0.014009554608972592, 0.07739959933152135, 0.06820977735221537, 0.021757494340873006, 0.016891028357875298, 0.052137581066609866, 0.08922519373871295, -0.03549400197266535, 0.0016883330247310774, 0.07308717970706893, 0.04693174082304957, 0.010804849335894337, 0.10496755784988891, -0.027816521725174268, 0.05392039761042147, 0.05281757619190429, 0.010394565660830456, 0.07353434631165172, 0.011936495056696748, -0.011021454903993248, -0.017252644442389685, -0.004733688275287478, -0.0730044206793578, 0.09811895269820986, -0.10619747980008216, 0.019574675450726584, 0.12692566543698763, -0.021450402049484472, -0.06241060063142318, -0.007953072119960613, 0.01616005070952754, 0.05107518459291302, -0.0576348577940463, 0.053965282932545426, 0.04587946254659586, 0.08081702919217972, 0.00016048108624545254, 0.013517054664274001, -0.07115548129948794, -0.08728778765167063, 0.03538425916088089, 0.0552876512759375, 0.06710757686942634, 0.02061419598462257, 0.04109326279187026, 0.061721298548532796, -0.03409931491573325, 0.06388783209331705, 0.049223110303551657, -0.02716557885776981, 0.05430664453417347, 0.023261444971962975, 0.014564564424164981, 0.055659976598813915, -0.038168032133229175, -0.011707447941088639, 0.008308654728145794, 0.07854905348144192, -0.0005370379699748387, 0.004737351609162715, 0.08671974014119237, -0.02826435211763254, -0.14454103795852827, -0.01335063832590135, -0.06429002609408935, 0.10052494264441729, 0.03166114926010499, 0.10939402543183387, 0.04147514253601573, -0.01814849598945408, 0.12737169155405215, 0.010808897598995382, 0.07051691648247432, -0.01781245139102756, 0.045757783606249124, 0.027801366146335455, 0.04208946776264703, 0.0818851564606819, -0.017146143188516573, -0.14759598837793877, 0.23999830184736812, 0.09963630749930374, 0.07474521196151078, 0.11846887092039719, 0.07867194238208336, -0.10652009433833963, -0.10626273493077387, 0.13961652941837435, 0.055205942406199214, -0.021088905225834242, -0.10142820326365372, -0.07444536177401655, 0.06127973320762415, -0.010013213954269745, 0.11995431532504569, 0.053511936046697905]}, {\"marker\": {\"color\": \"rgba(238, 118, 0, 0.6)\", \"line\": {\"color\": \"rgba(238, 118, 0, 1.0)\", \"width\": 1}}, \"name\": \"VAA\", \"orientation\": \"v\", \"text\": \"\", \"type\": \"bar\", \"x\": [\"2011-01-31\", \"2011-02-28\", \"2011-03-31\", \"2011-04-29\", \"2011-05-31\", \"2011-06-30\", \"2011-07-29\", \"2011-08-31\", \"2011-09-30\", \"2011-10-31\", \"2011-11-30\", \"2011-12-30\", \"2012-01-31\", \"2012-02-29\", \"2012-03-30\", \"2012-04-30\", \"2012-05-31\", \"2012-06-29\", \"2012-07-31\", \"2012-08-31\", \"2012-09-28\", \"2012-10-31\", \"2012-11-30\", \"2012-12-31\", \"2013-01-31\", \"2013-02-28\", \"2013-03-28\", \"2013-04-30\", \"2013-05-31\", \"2013-06-28\", \"2013-07-31\", \"2013-08-30\", \"2013-09-30\", \"2013-10-31\", \"2013-11-29\", \"2013-12-31\", \"2014-01-31\", \"2014-02-28\", \"2014-03-31\", \"2014-04-30\", \"2014-05-30\", \"2014-06-30\", \"2014-07-31\", \"2014-08-29\", \"2014-09-30\", \"2014-10-31\", \"2014-11-28\", \"2014-12-31\", \"2015-01-30\", \"2015-02-27\", \"2015-03-31\", \"2015-04-30\", \"2015-05-29\", \"2015-06-30\", \"2015-07-31\", \"2015-08-31\", \"2015-09-30\", \"2015-10-30\", \"2015-11-30\", \"2015-12-31\", \"2016-01-29\", \"2016-02-29\", \"2016-03-31\", \"2016-04-29\", \"2016-05-31\", \"2016-06-30\", \"2016-07-29\", \"2016-08-31\", \"2016-09-30\", \"2016-10-31\", \"2016-11-30\", \"2016-12-30\", \"2017-01-31\", \"2017-02-28\", \"2017-03-31\", \"2017-04-28\", \"2017-05-31\", \"2017-06-30\", \"2017-07-31\", \"2017-08-31\", \"2017-09-29\", \"2017-10-31\", \"2017-11-30\", \"2017-12-29\", \"2018-01-31\", \"2018-02-28\", \"2018-03-29\", \"2018-04-30\", \"2018-05-31\", \"2018-06-29\", \"2018-07-31\", \"2018-08-31\", \"2018-09-28\", \"2018-10-31\", \"2018-11-30\", \"2018-12-31\", \"2019-01-31\", \"2019-02-28\", \"2019-03-29\", \"2019-04-30\", \"2019-05-31\", \"2019-06-28\", \"2019-07-31\", \"2019-08-30\", \"2019-09-30\", \"2019-10-31\", \"2019-11-29\", \"2019-12-31\", \"2020-01-31\", \"2020-02-28\", \"2020-03-31\", \"2020-04-30\", \"2020-05-29\", \"2020-06-30\", \"2020-07-31\", \"2020-08-31\", \"2020-09-30\", \"2020-10-30\", \"2020-11-30\", \"2020-12-31\", \"2021-01-29\", \"2021-02-26\", \"2021-03-31\", \"2021-04-30\", \"2021-05-28\", \"2021-06-30\", \"2021-07-21\"], \"y\": [0.06357414415752047, -0.001214334174257852, -0.007997224176575026, 0.0053273621201510345, -0.04013985989239391, -0.07681459842252097, 0.09136899407947567, 0.24171524020161012, 0.3460991310158567, -0.13778518593498368, -0.1069747537131925, 0.09060607610010361, -0.01507403169986876, 0.18348046548903374, 0.14375670102073143, -0.04399992909566403, 0.25387921623267057, -0.05950435040749949, 0.022544020161037695, -0.04717509772412513, -0.01087780909092984, -0.06148954526799158, 0.02880456238061865, 0.0277655484485601, 0.00011808057259658589, 0.03502714660193237, 0.1046585568777764, 0.043091726591637895, 0.06582364497568077, -0.0009845414899757813, 0.0016241350453549393, -0.0009721915825826182, 0.002228031967783202, 0.13711867348082857, 0.09835845873851173, 0.08488191422068234, -0.06568324780730829, 0.016186051050560212, -0.08736378262370766, 0.016392816123568483, 0.06411973773501395, 0.09036829407676295, 0.03003391407894055, 0.1347312767080778, -0.028151622786615274, 0.07753816109844047, 0.08694216631458401, 0.08967755769843598, 0.270094466402633, -0.1968337756099121, -0.07749731166368233, -0.10868910675139225, 0.06159101354183205, -0.050788307418814405, 0.000447998250183575, -0.027877313735940327, 0.0029454427708569776, -0.005042255033435377, -0.038210030203883014, -0.001492562374814366, 0.006499034194509189, 0.08348701821023334, -0.006441112116318323, 0.00802468255489228, 0.008150480297654864, 0.1924811651348136, 0.058963465033685034, 0.029474024202145073, 0.05638555659360475, -0.04721259605684199, -0.004710546286247469, 0.0007228945198007506, 0.001065414576606157, 0.12565836165486724, 0.054873636776437244, 0.07762424767771593, 0.10826195457558031, -0.08411447877064948, 0.05706726794027785, 0.049166927418136476, -0.01062160953377118, 0.06610963589356113, 0.05356084031742287, 0.033963121375275546, 0.244539263554291, -0.06362443095416191, 0.002468161733611689, -0.06943196911391343, 0.0035169517063288066, 0.014879405007242328, -0.000600664572523412, 0.16292569132562243, -0.09178489988263346, 0.001530051765032443, 0.003803006931776818, 0.08724632117121599, 0.004121635528207079, 0.08876973787205644, 0.04735806014638157, 0.1539488197676319, -0.2746039518842935, 0.018896680894512165, 0.06015791214036307, 0.3009049547417032, -0.09503257159113215, -0.04200616325627281, 0.1150692268203682, 0.1077140316515397, 0.07873531922237231, 0.1647671323603651, 0.112392685384794, 0.02648085515147562, -0.06694683881891897, -0.00029404138611980327, 0.20092198678476234, 0.3013262376950518, -0.20920427113996465, -0.10842094116707966, 0.00021978375985596914, 0.14018556419766873, -0.004741700439224472, -0.01391307414849168, 0.12513892804003923, 0.14990372749894199, 0.013533546307142309, 0.0638156351054078, 0.05518365263796508]}, {\"marker\": {\"color\": \"rgba(48, 144, 84, 0.6)\", \"line\": {\"color\": \"rgba(48, 144, 84, 1.0)\", \"width\": 1}}, \"name\": \"strategy\", \"orientation\": \"v\", \"text\": \"\", \"type\": \"bar\", \"x\": [\"2011-01-31\", \"2011-02-28\", \"2011-03-31\", \"2011-04-29\", \"2011-05-31\", \"2011-06-30\", \"2011-07-29\", \"2011-08-31\", \"2011-09-30\", \"2011-10-31\", \"2011-11-30\", \"2011-12-30\", \"2012-01-31\", \"2012-02-29\", \"2012-03-30\", \"2012-04-30\", \"2012-05-31\", \"2012-06-29\", \"2012-07-31\", \"2012-08-31\", \"2012-09-28\", \"2012-10-31\", \"2012-11-30\", \"2012-12-31\", \"2013-01-31\", \"2013-02-28\", \"2013-03-28\", \"2013-04-30\", \"2013-05-31\", \"2013-06-28\", \"2013-07-31\", \"2013-08-30\", \"2013-09-30\", \"2013-10-31\", \"2013-11-29\", \"2013-12-31\", \"2014-01-31\", \"2014-02-28\", \"2014-03-31\", \"2014-04-30\", \"2014-05-30\", \"2014-06-30\", \"2014-07-31\", \"2014-08-29\", \"2014-09-30\", \"2014-10-31\", \"2014-11-28\", \"2014-12-31\", \"2015-01-30\", \"2015-02-27\", \"2015-03-31\", \"2015-04-30\", \"2015-05-29\", \"2015-06-30\", \"2015-07-31\", \"2015-08-31\", \"2015-09-30\", \"2015-10-30\", \"2015-11-30\", \"2015-12-31\", \"2016-01-29\", \"2016-02-29\", \"2016-03-31\", \"2016-04-29\", \"2016-05-31\", \"2016-06-30\", \"2016-07-29\", \"2016-08-31\", \"2016-09-30\", \"2016-10-31\", \"2016-11-30\", \"2016-12-30\", \"2017-01-31\", \"2017-02-28\", \"2017-03-31\", \"2017-04-28\", \"2017-05-31\", \"2017-06-30\", \"2017-07-31\", \"2017-08-31\", \"2017-09-29\", \"2017-10-31\", \"2017-11-30\", \"2017-12-29\", \"2018-01-31\", \"2018-02-28\", \"2018-03-29\", \"2018-04-30\", \"2018-05-31\", \"2018-06-29\", \"2018-07-31\", \"2018-08-31\", \"2018-09-28\", \"2018-10-31\", \"2018-11-30\", \"2018-12-31\", \"2019-01-31\", \"2019-02-28\", \"2019-03-29\", \"2019-04-30\", \"2019-05-31\", \"2019-06-28\", \"2019-07-31\", \"2019-08-30\", \"2019-09-30\", \"2019-10-31\", \"2019-11-29\", \"2019-12-31\", \"2020-01-31\", \"2020-02-28\", \"2020-03-31\", \"2020-04-30\", \"2020-05-29\", \"2020-06-30\", \"2020-07-31\", \"2020-08-31\", \"2020-09-30\", \"2020-10-30\", \"2020-11-30\", \"2020-12-31\", \"2021-01-29\", \"2021-02-26\", \"2021-03-31\", \"2021-04-30\", \"2021-05-28\", \"2021-06-30\", \"2021-07-21\"], \"y\": [0.03025192020924427, 0.016667819647101133, -0.0019959663236405216, 0.03271083143069297, -0.008461306544951214, -0.06286057933871317, 0.07906629739132336, 0.14522797973498294, 0.21518304231850882, -0.016499782644439413, -0.06835677199594309, 0.05748671910049544, 0.040259029692198016, 0.12331405829637224, 0.08251021922327016, -0.013069852991893297, 0.14883043504125792, -0.012869465538065216, 0.02949243091333845, 0.007616995126778887, -0.01186355481079364, -0.07090192753637518, 0.025090830010078197, -0.002280289457896832, -0.013475214818543737, 0.025624464905881807, 0.0667439143578166, 0.056982308114679976, 0.01799626018835236, -0.04611696431113513, 0.023673781067951014, -0.007131513570018757, 0.03856914219961202, 0.10504278316357217, 0.06277526608633627, 0.05322558356230081, -0.008095900142580268, 0.05147680423250594, -0.062438670407578306, 0.00944894077873151, 0.06838087936712749, 0.07001172650616272, 0.020964241943262015, 0.12073183176944592, -0.027992750414362524, 0.06641140566424823, 0.07091010260182709, 0.052874908652770856, 0.18170546945601604, -0.09242067728214855, -0.04543226903902594, -0.06429908567919004, 0.030696715843535435, -0.061258598683863484, 0.047940777834523114, -0.0642423931251929, 0.010863197799443414, 0.05969306849635515, -0.030229916777534033, -0.029909364409264148, -0.0003261161049663888, 0.05213424951154286, 0.02123788232758172, -0.022565209636046867, 0.030131348379028828, 0.12565312550354685, 0.06938294735053566, 0.015684677397412573, 0.03629217611110388, -0.058491552669200385, -0.04300857451782268, 0.017304353138145344, 0.027136883362432366, 0.09832859089453173, 0.03877879408020696, 0.060472580184664115, 0.08646862455927443, -0.06009215039506632, 0.060306432029709145, 0.04919356193135646, -0.01843035097022629, 0.06053166029783492, 0.039311459553807986, 0.024813915327796737, 0.1594253479163384, -0.05147572394322712, -0.004226898655783987, -0.031823922945003476, 0.039789331380836276, 0.0076006894910689415, 0.0019334337195643487, 0.12752225280617402, -0.06116881142879056, -0.06506569728250913, -0.0042921981532957594, 0.018261321385301735, 0.05098275016312853, 0.062102898797752513, 0.07724709840058866, 0.10220257410554184, -0.14481541710945528, 0.07178939287155903, 0.037066771483670415, 0.1982632366455289, -0.057681346215504505, 0.0005606819906593483, 0.07464659755001109, 0.07714014918015194, 0.08022977140012823, 0.082635984400563, -0.00249237171112826, 0.13339475644793578, 0.015489133680732174, 0.03598186256327781, 0.16268025485075777, 0.20191838951955554, -0.15920948165394389, -0.10739723888689874, 0.068728636107361, 0.10079870435713824, -0.012457969902934934, -0.05444755161076889, 0.03546439302017224, 0.10886785766595752, 0.002440033536677372, 0.09082201268285389, 0.054391505233247935]}],                        {\"legend\": {\"bgcolor\": \"#F2F3F7\", \"font\": {\"color\": \"#505050\"}}, \"paper_bgcolor\": \"#F2F3F7\", \"plot_bgcolor\": \"#F2F3F7\", \"template\": {\"data\": {\"bar\": [{\"error_x\": {\"color\": \"#2a3f5f\"}, \"error_y\": {\"color\": \"#2a3f5f\"}, \"marker\": {\"line\": {\"color\": \"#E5ECF6\", \"width\": 0.5}}, \"type\": \"bar\"}], \"barpolar\": [{\"marker\": {\"line\": {\"color\": \"#E5ECF6\", \"width\": 0.5}}, \"type\": \"barpolar\"}], \"carpet\": [{\"aaxis\": {\"endlinecolor\": \"#2a3f5f\", \"gridcolor\": \"white\", \"linecolor\": \"white\", \"minorgridcolor\": \"white\", \"startlinecolor\": \"#2a3f5f\"}, \"baxis\": {\"endlinecolor\": \"#2a3f5f\", \"gridcolor\": \"white\", \"linecolor\": \"white\", \"minorgridcolor\": \"white\", \"startlinecolor\": \"#2a3f5f\"}, \"type\": \"carpet\"}], \"choropleth\": [{\"colorbar\": {\"outlinewidth\": 0, \"ticks\": \"\"}, \"type\": \"choropleth\"}], \"contour\": [{\"colorbar\": {\"outlinewidth\": 0, \"ticks\": \"\"}, \"colorscale\": [[0.0, \"#0d0887\"], [0.1111111111111111, \"#46039f\"], [0.2222222222222222, \"#7201a8\"], [0.3333333333333333, \"#9c179e\"], [0.4444444444444444, \"#bd3786\"], [0.5555555555555556, \"#d8576b\"], [0.6666666666666666, \"#ed7953\"], [0.7777777777777778, \"#fb9f3a\"], [0.8888888888888888, \"#fdca26\"], [1.0, \"#f0f921\"]], \"type\": \"contour\"}], \"contourcarpet\": [{\"colorbar\": {\"outlinewidth\": 0, \"ticks\": \"\"}, \"type\": \"contourcarpet\"}], \"heatmap\": [{\"colorbar\": {\"outlinewidth\": 0, \"ticks\": \"\"}, \"colorscale\": [[0.0, \"#0d0887\"], [0.1111111111111111, \"#46039f\"], [0.2222222222222222, \"#7201a8\"], [0.3333333333333333, \"#9c179e\"], [0.4444444444444444, \"#bd3786\"], [0.5555555555555556, \"#d8576b\"], [0.6666666666666666, \"#ed7953\"], [0.7777777777777778, \"#fb9f3a\"], [0.8888888888888888, \"#fdca26\"], [1.0, \"#f0f921\"]], \"type\": \"heatmap\"}], \"heatmapgl\": [{\"colorbar\": {\"outlinewidth\": 0, \"ticks\": \"\"}, \"colorscale\": [[0.0, \"#0d0887\"], [0.1111111111111111, \"#46039f\"], [0.2222222222222222, \"#7201a8\"], [0.3333333333333333, \"#9c179e\"], [0.4444444444444444, \"#bd3786\"], [0.5555555555555556, \"#d8576b\"], [0.6666666666666666, \"#ed7953\"], [0.7777777777777778, \"#fb9f3a\"], [0.8888888888888888, \"#fdca26\"], [1.0, \"#f0f921\"]], \"type\": \"heatmapgl\"}], \"histogram\": [{\"marker\": {\"colorbar\": {\"outlinewidth\": 0, \"ticks\": \"\"}}, \"type\": \"histogram\"}], \"histogram2d\": [{\"colorbar\": {\"outlinewidth\": 0, \"ticks\": \"\"}, \"colorscale\": [[0.0, \"#0d0887\"], [0.1111111111111111, \"#46039f\"], [0.2222222222222222, \"#7201a8\"], [0.3333333333333333, \"#9c179e\"], [0.4444444444444444, \"#bd3786\"], [0.5555555555555556, \"#d8576b\"], [0.6666666666666666, \"#ed7953\"], [0.7777777777777778, \"#fb9f3a\"], [0.8888888888888888, \"#fdca26\"], [1.0, \"#f0f921\"]], \"type\": \"histogram2d\"}], \"histogram2dcontour\": [{\"colorbar\": {\"outlinewidth\": 0, \"ticks\": \"\"}, \"colorscale\": [[0.0, \"#0d0887\"], [0.1111111111111111, \"#46039f\"], [0.2222222222222222, \"#7201a8\"], [0.3333333333333333, \"#9c179e\"], [0.4444444444444444, \"#bd3786\"], [0.5555555555555556, \"#d8576b\"], [0.6666666666666666, \"#ed7953\"], [0.7777777777777778, \"#fb9f3a\"], [0.8888888888888888, \"#fdca26\"], [1.0, \"#f0f921\"]], \"type\": \"histogram2dcontour\"}], \"mesh3d\": [{\"colorbar\": {\"outlinewidth\": 0, \"ticks\": \"\"}, \"type\": \"mesh3d\"}], \"parcoords\": [{\"line\": {\"colorbar\": {\"outlinewidth\": 0, \"ticks\": \"\"}}, \"type\": \"parcoords\"}], \"pie\": [{\"automargin\": true, \"type\": \"pie\"}], \"scatter\": [{\"marker\": {\"colorbar\": {\"outlinewidth\": 0, \"ticks\": \"\"}}, \"type\": \"scatter\"}], \"scatter3d\": [{\"line\": {\"colorbar\": {\"outlinewidth\": 0, \"ticks\": \"\"}}, \"marker\": {\"colorbar\": {\"outlinewidth\": 0, \"ticks\": \"\"}}, \"type\": \"scatter3d\"}], \"scattercarpet\": [{\"marker\": {\"colorbar\": {\"outlinewidth\": 0, \"ticks\": \"\"}}, \"type\": \"scattercarpet\"}], \"scattergeo\": [{\"marker\": {\"colorbar\": {\"outlinewidth\": 0, \"ticks\": \"\"}}, \"type\": \"scattergeo\"}], \"scattergl\": [{\"marker\": {\"colorbar\": {\"outlinewidth\": 0, \"ticks\": \"\"}}, \"type\": \"scattergl\"}], \"scattermapbox\": [{\"marker\": {\"colorbar\": {\"outlinewidth\": 0, \"ticks\": \"\"}}, \"type\": \"scattermapbox\"}], \"scatterpolar\": [{\"marker\": {\"colorbar\": {\"outlinewidth\": 0, \"ticks\": \"\"}}, \"type\": \"scatterpolar\"}], \"scatterpolargl\": [{\"marker\": {\"colorbar\": {\"outlinewidth\": 0, \"ticks\": \"\"}}, \"type\": \"scatterpolargl\"}], \"scatterternary\": [{\"marker\": {\"colorbar\": {\"outlinewidth\": 0, \"ticks\": \"\"}}, \"type\": \"scatterternary\"}], \"surface\": [{\"colorbar\": {\"outlinewidth\": 0, \"ticks\": \"\"}, \"colorscale\": [[0.0, \"#0d0887\"], [0.1111111111111111, \"#46039f\"], [0.2222222222222222, \"#7201a8\"], [0.3333333333333333, \"#9c179e\"], [0.4444444444444444, \"#bd3786\"], [0.5555555555555556, \"#d8576b\"], [0.6666666666666666, \"#ed7953\"], [0.7777777777777778, \"#fb9f3a\"], [0.8888888888888888, \"#fdca26\"], [1.0, \"#f0f921\"]], \"type\": \"surface\"}], \"table\": [{\"cells\": {\"fill\": {\"color\": \"#EBF0F8\"}, \"line\": {\"color\": \"white\"}}, \"header\": {\"fill\": {\"color\": \"#C8D4E3\"}, \"line\": {\"color\": \"white\"}}, \"type\": \"table\"}]}, \"layout\": {\"annotationdefaults\": {\"arrowcolor\": \"#2a3f5f\", \"arrowhead\": 0, \"arrowwidth\": 1}, \"coloraxis\": {\"colorbar\": {\"outlinewidth\": 0, \"ticks\": \"\"}}, \"colorscale\": {\"diverging\": [[0, \"#8e0152\"], [0.1, \"#c51b7d\"], [0.2, \"#de77ae\"], [0.3, \"#f1b6da\"], [0.4, \"#fde0ef\"], [0.5, \"#f7f7f7\"], [0.6, \"#e6f5d0\"], [0.7, \"#b8e186\"], [0.8, \"#7fbc41\"], [0.9, \"#4d9221\"], [1, \"#276419\"]], \"sequential\": [[0.0, \"#0d0887\"], [0.1111111111111111, \"#46039f\"], [0.2222222222222222, \"#7201a8\"], [0.3333333333333333, \"#9c179e\"], [0.4444444444444444, \"#bd3786\"], [0.5555555555555556, \"#d8576b\"], [0.6666666666666666, \"#ed7953\"], [0.7777777777777778, \"#fb9f3a\"], [0.8888888888888888, \"#fdca26\"], [1.0, \"#f0f921\"]], \"sequentialminus\": [[0.0, \"#0d0887\"], [0.1111111111111111, \"#46039f\"], [0.2222222222222222, \"#7201a8\"], [0.3333333333333333, \"#9c179e\"], [0.4444444444444444, \"#bd3786\"], [0.5555555555555556, \"#d8576b\"], [0.6666666666666666, \"#ed7953\"], [0.7777777777777778, \"#fb9f3a\"], [0.8888888888888888, \"#fdca26\"], [1.0, \"#f0f921\"]]}, \"colorway\": [\"#636efa\", \"#EF553B\", \"#00cc96\", \"#ab63fa\", \"#FFA15A\", \"#19d3f3\", \"#FF6692\", \"#B6E880\", \"#FF97FF\", \"#FECB52\"], \"font\": {\"color\": \"#2a3f5f\"}, \"geo\": {\"bgcolor\": \"white\", \"lakecolor\": \"white\", \"landcolor\": \"#E5ECF6\", \"showlakes\": true, \"showland\": true, \"subunitcolor\": \"white\"}, \"hoverlabel\": {\"align\": \"left\"}, \"hovermode\": \"closest\", \"mapbox\": {\"style\": \"light\"}, \"paper_bgcolor\": \"white\", \"plot_bgcolor\": \"#E5ECF6\", \"polar\": {\"angularaxis\": {\"gridcolor\": \"white\", \"linecolor\": \"white\", \"ticks\": \"\"}, \"bgcolor\": \"#E5ECF6\", \"radialaxis\": {\"gridcolor\": \"white\", \"linecolor\": \"white\", \"ticks\": \"\"}}, \"scene\": {\"xaxis\": {\"backgroundcolor\": \"#E5ECF6\", \"gridcolor\": \"white\", \"gridwidth\": 2, \"linecolor\": \"white\", \"showbackground\": true, \"ticks\": \"\", \"zerolinecolor\": \"white\"}, \"yaxis\": {\"backgroundcolor\": \"#E5ECF6\", \"gridcolor\": \"white\", \"gridwidth\": 2, \"linecolor\": \"white\", \"showbackground\": true, \"ticks\": \"\", \"zerolinecolor\": \"white\"}, \"zaxis\": {\"backgroundcolor\": \"#E5ECF6\", \"gridcolor\": \"white\", \"gridwidth\": 2, \"linecolor\": \"white\", \"showbackground\": true, \"ticks\": \"\", \"zerolinecolor\": \"white\"}}, \"shapedefaults\": {\"line\": {\"color\": \"#2a3f5f\"}}, \"ternary\": {\"aaxis\": {\"gridcolor\": \"white\", \"linecolor\": \"white\", \"ticks\": \"\"}, \"baxis\": {\"gridcolor\": \"white\", \"linecolor\": \"white\", \"ticks\": \"\"}, \"bgcolor\": \"#E5ECF6\", \"caxis\": {\"gridcolor\": \"white\", \"linecolor\": \"white\", \"ticks\": \"\"}}, \"title\": {\"x\": 0.05}, \"xaxis\": {\"automargin\": true, \"gridcolor\": \"white\", \"linecolor\": \"white\", \"ticks\": \"\", \"title\": {\"standoff\": 15}, \"zerolinecolor\": \"white\", \"zerolinewidth\": 2}, \"yaxis\": {\"automargin\": true, \"gridcolor\": \"white\", \"linecolor\": \"white\", \"ticks\": \"\", \"title\": {\"standoff\": 15}, \"zerolinecolor\": \"white\", \"zerolinewidth\": 2}}}, \"title\": {\"font\": {\"color\": \"#484848\"}}, \"xaxis\": {\"gridcolor\": \"#E1E5ED\", \"showgrid\": true, \"tickfont\": {\"color\": \"#505050\"}, \"title\": {\"font\": {\"color\": \"#505050\"}, \"text\": \"\"}, \"zerolinecolor\": \"#E1E5ED\"}, \"yaxis\": {\"gridcolor\": \"#E1E5ED\", \"showgrid\": true, \"tickfont\": {\"color\": \"#505050\"}, \"title\": {\"font\": {\"color\": \"#505050\"}, \"text\": \"\"}, \"zerolinecolor\": \"#E1E5ED\"}},                        {\"showLink\": true, \"linkText\": \"Export to plot.ly\", \"plotlyServerURL\": \"https://plot.ly\", \"responsive\": true}                    ).then(function(){\n",
       "                            \n",
       "var gd = document.getElementById('9694cc21-058b-439b-9eb5-788b54811c67');\n",
       "var x = new MutationObserver(function (mutations, observer) {{\n",
       "        var display = window.getComputedStyle(gd).display;\n",
       "        if (!display || display === 'none') {{\n",
       "            console.log([gd, 'removed!']);\n",
       "            Plotly.purge(gd);\n",
       "            observer.disconnect();\n",
       "        }}\n",
       "}});\n",
       "\n",
       "// Listen for the removal of the full notebook cells\n",
       "var notebookContainer = gd.closest('#notebook-container');\n",
       "if (notebookContainer) {{\n",
       "    x.observe(notebookContainer, {childList: true});\n",
       "}}\n",
       "\n",
       "// Listen for the clearing of the current output cell\n",
       "var outputEl = gd.closest('.output');\n",
       "if (outputEl) {{\n",
       "    x.observe(outputEl, {childList: true});\n",
       "}}\n",
       "\n",
       "                        })                };                });            </script>        </div>"
      ]
     },
     "metadata": {},
     "output_type": "display_data"
    }
   ],
   "source": [
    "## 변동률 그래프\n",
    "rets.iplot(kind='bar')"
   ]
  },
  {
   "cell_type": "code",
   "execution_count": 20,
   "metadata": {
    "ExecuteTime": {
     "end_time": "2020-11-26T00:36:51.835819Z",
     "start_time": "2020-11-26T00:36:50.851466Z"
    }
   },
   "outputs": [
    {
     "data": {
      "application/vnd.plotly.v1+json": {
       "config": {
        "linkText": "Export to plot.ly",
        "plotlyServerURL": "https://plot.ly",
        "showLink": true
       },
       "data": [
        {
         "line": {
          "color": "rgba(0, 128, 240, 1.0)",
          "dash": "solid",
          "shape": "linear",
          "width": 1.3
         },
         "mode": "lines",
         "name": "AWP",
         "text": "",
         "type": "scatter",
         "x": [
          "2010-12-31",
          "2011-01-31",
          "2011-02-28",
          "2011-03-31",
          "2011-04-29",
          "2011-05-31",
          "2011-06-30",
          "2011-07-29",
          "2011-08-31",
          "2011-09-30",
          "2011-10-31",
          "2011-11-30",
          "2011-12-30",
          "2012-01-31",
          "2012-02-29",
          "2012-03-30",
          "2012-04-30",
          "2012-05-31",
          "2012-06-29",
          "2012-07-31",
          "2012-08-31",
          "2012-09-28",
          "2012-10-31",
          "2012-11-30",
          "2012-12-31",
          "2013-01-31",
          "2013-02-28",
          "2013-03-28",
          "2013-04-30",
          "2013-05-31",
          "2013-06-28",
          "2013-07-31",
          "2013-08-30",
          "2013-09-30",
          "2013-10-31",
          "2013-11-29",
          "2013-12-31",
          "2014-01-31",
          "2014-02-28",
          "2014-03-31",
          "2014-04-30",
          "2014-05-30",
          "2014-06-30",
          "2014-07-31",
          "2014-08-29",
          "2014-09-30",
          "2014-10-31",
          "2014-11-28",
          "2014-12-31",
          "2015-01-30",
          "2015-02-27",
          "2015-03-31",
          "2015-04-30",
          "2015-05-29",
          "2015-06-30",
          "2015-07-31",
          "2015-08-31",
          "2015-09-30",
          "2015-10-30",
          "2015-11-30",
          "2015-12-31",
          "2016-01-29",
          "2016-02-29",
          "2016-03-31",
          "2016-04-29",
          "2016-05-31",
          "2016-06-30",
          "2016-07-29",
          "2016-08-31",
          "2016-09-30",
          "2016-10-31",
          "2016-11-30",
          "2016-12-30",
          "2017-01-31",
          "2017-02-28",
          "2017-03-31",
          "2017-04-28",
          "2017-05-31",
          "2017-06-30",
          "2017-07-31",
          "2017-08-31",
          "2017-09-29",
          "2017-10-31",
          "2017-11-30",
          "2017-12-29",
          "2018-01-31",
          "2018-02-28",
          "2018-03-29",
          "2018-04-30",
          "2018-05-31",
          "2018-06-29",
          "2018-07-31",
          "2018-08-31",
          "2018-09-28",
          "2018-10-31",
          "2018-11-30",
          "2018-12-31",
          "2019-01-31",
          "2019-02-28",
          "2019-03-29",
          "2019-04-30",
          "2019-05-31",
          "2019-06-28",
          "2019-07-31",
          "2019-08-30",
          "2019-09-30",
          "2019-10-31",
          "2019-11-29",
          "2019-12-31",
          "2020-01-31",
          "2020-02-28",
          "2020-03-31",
          "2020-04-30",
          "2020-05-29",
          "2020-06-30",
          "2020-07-31",
          "2020-08-31",
          "2020-09-30",
          "2020-10-30",
          "2020-11-30",
          "2020-12-31",
          "2021-01-29",
          "2021-02-26",
          "2021-03-31",
          "2021-04-30",
          "2021-05-28",
          "2021-06-30",
          "2021-07-21"
         ],
         "y": [
          1,
          0.9919679568828922,
          1.0284730739269317,
          1.0332357703850628,
          1.0995861732605678,
          1.1280404874360297,
          1.0755993340977996,
          1.1481085268074027,
          1.1783693439831164,
          1.234522713861039,
          1.3681969536261875,
          1.3314987362914128,
          1.3575983654147812,
          1.4977766057215778,
          1.5777741586573377,
          1.5934099269605226,
          1.6258613528445975,
          1.6549151861080291,
          1.7163406840083004,
          1.7812932828719772,
          1.9010873199688851,
          1.8766113640246174,
          1.7298221971462933,
          1.7664521812379201,
          1.7027887539225295,
          1.6544884517205944,
          1.6796411717729105,
          1.7185942214279706,
          1.8472114056861235,
          1.7785349916051356,
          1.6113885645780053,
          1.6899126947998744,
          1.6664028364572345,
          1.8005045162620918,
          1.9276018967777548,
          1.9700012635280146,
          2.003559227136875,
          2.1107910734658963,
          2.307784532066735,
          2.2273086770202117,
          2.2310722920396544,
          2.4002418378706403,
          2.515574580475039,
          2.542902355190475,
          2.824336997957407,
          2.7468563829778425,
          2.8990338373584215,
          3.0562696331127612,
          3.0882039124399436,
          3.323850865843372,
          3.3637637312355904,
          3.326893714799389,
          3.2699882964176434,
          3.254545770047655,
          3.025415074773701,
          3.337317196256786,
          3.0010726350148196,
          3.060396385193026,
          3.474567846822735,
          3.400830643198991,
          3.19507035514228,
          3.1697605091016383,
          3.2214001252834636,
          3.3902079820864808,
          3.200337949231609,
          3.377790158102157,
          3.536371349242734,
          3.834036589616873,
          3.834651929347353,
          3.8868370289542846,
          3.6198777063350622,
          3.3173041658290425,
          3.4367859369989344,
          3.632148568301522,
          3.8842578739702613,
          3.9651597254669033,
          4.1314953056214225,
          4.394530499885664,
          4.247206125584685,
          4.52740630828867,
          4.755835198508651,
          4.628379228109452,
          4.886681252574328,
          5.001684909636591,
          5.07506535166305,
          5.365552637067081,
          5.164619063863692,
          5.10450712036129,
          5.147095388186132,
          5.567697575176862,
          5.564708312919167,
          5.591132834505482,
          6.097639082063976,
          5.927706099553168,
          5.129951836069678,
          5.061918856837925,
          4.746728320203289,
          5.248700639236068,
          5.4175392418812995,
          6.043816742437325,
          6.29975576956681,
          6.186455898140762,
          7.026818630306848,
          7.103182755853805,
          7.622160620898771,
          7.487593300252866,
          7.838168581473497,
          8.05913776636439,
          8.405582275032918,
          9.122840355996594,
          8.967752210258173,
          7.737193822074993,
          9.835884369337746,
          10.866380618658834,
          11.709715570758995,
          13.182467918859222,
          14.261444414355003,
          12.820425058696378,
          11.527977096416432,
          13.255246036212464,
          14.007590254590417,
          13.715278611065642,
          12.392385795449185,
          11.503333621329935,
          12.230301558659844,
          12.108448023317788,
          13.651613340038992,
          14.402036844340254
         ]
        },
        {
         "line": {
          "color": "rgba(238, 118, 0, 1.0)",
          "dash": "solid",
          "shape": "linear",
          "width": 1.3
         },
         "mode": "lines",
         "name": "VAA",
         "text": "",
         "type": "scatter",
         "x": [
          "2010-12-31",
          "2011-01-31",
          "2011-02-28",
          "2011-03-31",
          "2011-04-29",
          "2011-05-31",
          "2011-06-30",
          "2011-07-29",
          "2011-08-31",
          "2011-09-30",
          "2011-10-31",
          "2011-11-30",
          "2011-12-30",
          "2012-01-31",
          "2012-02-29",
          "2012-03-30",
          "2012-04-30",
          "2012-05-31",
          "2012-06-29",
          "2012-07-31",
          "2012-08-31",
          "2012-09-28",
          "2012-10-31",
          "2012-11-30",
          "2012-12-31",
          "2013-01-31",
          "2013-02-28",
          "2013-03-28",
          "2013-04-30",
          "2013-05-31",
          "2013-06-28",
          "2013-07-31",
          "2013-08-30",
          "2013-09-30",
          "2013-10-31",
          "2013-11-29",
          "2013-12-31",
          "2014-01-31",
          "2014-02-28",
          "2014-03-31",
          "2014-04-30",
          "2014-05-30",
          "2014-06-30",
          "2014-07-31",
          "2014-08-29",
          "2014-09-30",
          "2014-10-31",
          "2014-11-28",
          "2014-12-31",
          "2015-01-30",
          "2015-02-27",
          "2015-03-31",
          "2015-04-30",
          "2015-05-29",
          "2015-06-30",
          "2015-07-31",
          "2015-08-31",
          "2015-09-30",
          "2015-10-30",
          "2015-11-30",
          "2015-12-31",
          "2016-01-29",
          "2016-02-29",
          "2016-03-31",
          "2016-04-29",
          "2016-05-31",
          "2016-06-30",
          "2016-07-29",
          "2016-08-31",
          "2016-09-30",
          "2016-10-31",
          "2016-11-30",
          "2016-12-30",
          "2017-01-31",
          "2017-02-28",
          "2017-03-31",
          "2017-04-28",
          "2017-05-31",
          "2017-06-30",
          "2017-07-31",
          "2017-08-31",
          "2017-09-29",
          "2017-10-31",
          "2017-11-30",
          "2017-12-29",
          "2018-01-31",
          "2018-02-28",
          "2018-03-29",
          "2018-04-30",
          "2018-05-31",
          "2018-06-29",
          "2018-07-31",
          "2018-08-31",
          "2018-09-28",
          "2018-10-31",
          "2018-11-30",
          "2018-12-31",
          "2019-01-31",
          "2019-02-28",
          "2019-03-29",
          "2019-04-30",
          "2019-05-31",
          "2019-06-28",
          "2019-07-31",
          "2019-08-30",
          "2019-09-30",
          "2019-10-31",
          "2019-11-29",
          "2019-12-31",
          "2020-01-31",
          "2020-02-28",
          "2020-03-31",
          "2020-04-30",
          "2020-05-29",
          "2020-06-30",
          "2020-07-31",
          "2020-08-31",
          "2020-09-30",
          "2020-10-30",
          "2020-11-30",
          "2020-12-31",
          "2021-01-29",
          "2021-02-26",
          "2021-03-31",
          "2021-04-30",
          "2021-05-28",
          "2021-06-30",
          "2021-07-21"
         ],
         "y": [
          1,
          1.065638493740782,
          1.064345237881741,
          1.0558673752808565,
          1.0615073729558586,
          1.0197424424760926,
          0.9443442474643614,
          1.0346927095942888,
          1.3176103089581657,
          1.8624984795250707,
          1.6227685449618383,
          1.4581360110245876,
          1.596422185593715,
          1.572538133695034,
          1.8892339418801656,
          2.1813154803673878,
          2.087418629441818,
          2.690716226309267,
          2.535277409725245,
          2.593081879169429,
          2.4735935833072324,
          2.4468321214584634,
          2.3009098484134163,
          2.3681503167368563,
          2.4348246504532525,
          2.4351121729172247,
          2.5219186200025967,
          2.8001655091913062,
          2.923467034266975,
          3.122374897699503,
          3.119302302862203,
          3.124372587348161,
          3.1213365746500097,
          3.128298765432256,
          3.5880468619248607,
          3.958901008275318,
          4.309614158883973,
          4.035640923000238,
          4.101493522055732,
          3.758377688342016,
          3.82049583735824,
          4.073489292889228,
          4.458749057739237,
          4.594694004481245,
          5.257383329771323,
          5.111443319647033,
          5.5235456139756645,
          6.025269096964349,
          6.590569077395785,
          8.634226807312018,
          7.09152486649148,
          6.562706398370206,
          5.886808333031335,
          6.260781298516308,
          5.950746524411871,
          5.95341304569593,
          5.789739866380019,
          5.806818353320316,
          5.77761258758775,
          5.561014301894765,
          5.552720332355125,
          5.5889251724814,
          6.075559052240444,
          6.036551456227231,
          6.08518774980164,
          6.134987623423458,
          7.437161267163211,
          7.888868308795407,
          8.124845520386886,
          8.596131459400548,
          8.199717280568334,
          8.16118296288154,
          8.16708477025559,
          8.175790738327324,
          9.270485951546975,
          9.793407320877034,
          10.583896889087969,
          11.794055568892327,
          10.842582009652403,
          11.479334609431898,
          12.057843436467728,
          11.930447504306882,
          12.745820094622436,
          13.447110126195266,
          13.911660089187423,
          17.765646265373416,
          16.670524774338656,
          16.71172114440457,
          15.590759032928757,
          15.645687513301676,
          15.880226608355809,
          15.870690783031456,
          18.678997279230163,
          17.040874706678153,
          17.0669680841194,
          17.13199745725023,
          18.693843265354225,
          18.77105147666857,
          20.513549230692103,
          21.508402356123437,
          25.088071291404933,
          19.06374824508632,
          19.427415038414765,
          20.631997078283597,
          27.87549762697768,
          25.348397425723796,
          24.30566247497956,
          27.269764847039475,
          30.371133620179155,
          32.859073753651906,
          38.74474202506983,
          43.35351318626523,
          44.516886871817526,
          41.63419224497861,
          41.62195186905766,
          50.88405962280682,
          68.7774508351163,
          55.7942975984032,
          50.06142389772693,
          50.07242779488956,
          57.60769067075838,
          57.33517885389283,
          56.54299390197127,
          64.08050803279114,
          74.44376129183568,
          75.45809768498734,
          80.43047444400868,
          84.99367078630691
         ]
        },
        {
         "line": {
          "color": "rgba(48, 144, 84, 1.0)",
          "dash": "solid",
          "shape": "linear",
          "width": 1.3
         },
         "mode": "lines",
         "name": "strategy",
         "text": "",
         "type": "scatter",
         "x": [
          "2010-12-31",
          "2011-01-31",
          "2011-02-28",
          "2011-03-31",
          "2011-04-29",
          "2011-05-31",
          "2011-06-30",
          "2011-07-29",
          "2011-08-31",
          "2011-09-30",
          "2011-10-31",
          "2011-11-30",
          "2011-12-30",
          "2012-01-31",
          "2012-02-29",
          "2012-03-30",
          "2012-04-30",
          "2012-05-31",
          "2012-06-29",
          "2012-07-31",
          "2012-08-31",
          "2012-09-28",
          "2012-10-31",
          "2012-11-30",
          "2012-12-31",
          "2013-01-31",
          "2013-02-28",
          "2013-03-28",
          "2013-04-30",
          "2013-05-31",
          "2013-06-28",
          "2013-07-31",
          "2013-08-30",
          "2013-09-30",
          "2013-10-31",
          "2013-11-29",
          "2013-12-31",
          "2014-01-31",
          "2014-02-28",
          "2014-03-31",
          "2014-04-30",
          "2014-05-30",
          "2014-06-30",
          "2014-07-31",
          "2014-08-29",
          "2014-09-30",
          "2014-10-31",
          "2014-11-28",
          "2014-12-31",
          "2015-01-30",
          "2015-02-27",
          "2015-03-31",
          "2015-04-30",
          "2015-05-29",
          "2015-06-30",
          "2015-07-31",
          "2015-08-31",
          "2015-09-30",
          "2015-10-30",
          "2015-11-30",
          "2015-12-31",
          "2016-01-29",
          "2016-02-29",
          "2016-03-31",
          "2016-04-29",
          "2016-05-31",
          "2016-06-30",
          "2016-07-29",
          "2016-08-31",
          "2016-09-30",
          "2016-10-31",
          "2016-11-30",
          "2016-12-30",
          "2017-01-31",
          "2017-02-28",
          "2017-03-31",
          "2017-04-28",
          "2017-05-31",
          "2017-06-30",
          "2017-07-31",
          "2017-08-31",
          "2017-09-29",
          "2017-10-31",
          "2017-11-30",
          "2017-12-29",
          "2018-01-31",
          "2018-02-28",
          "2018-03-29",
          "2018-04-30",
          "2018-05-31",
          "2018-06-29",
          "2018-07-31",
          "2018-08-31",
          "2018-09-28",
          "2018-10-31",
          "2018-11-30",
          "2018-12-31",
          "2019-01-31",
          "2019-02-28",
          "2019-03-29",
          "2019-04-30",
          "2019-05-31",
          "2019-06-28",
          "2019-07-31",
          "2019-08-30",
          "2019-09-30",
          "2019-10-31",
          "2019-11-29",
          "2019-12-31",
          "2020-01-31",
          "2020-02-28",
          "2020-03-31",
          "2020-04-30",
          "2020-05-29",
          "2020-06-30",
          "2020-07-31",
          "2020-08-31",
          "2020-09-30",
          "2020-10-30",
          "2020-11-30",
          "2020-12-31",
          "2021-01-29",
          "2021-02-26",
          "2021-03-31",
          "2021-04-30",
          "2021-05-28",
          "2021-06-30",
          "2021-07-21"
         ],
         "y": [
          1,
          1.030714158976349,
          1.048037890032388,
          1.0459481279391456,
          1.08072769398011,
          1.0716219034386567,
          1.006332686284496,
          1.089129786607879,
          1.2593642072694058,
          1.5617235303312886,
          1.536166851155128,
          1.4346680291599063,
          1.5195590635202005,
          1.5819831728797629,
          1.7896020755425053,
          1.943525341240853,
          1.9182890274406563,
          2.2261287542112314,
          2.197663227858899,
          2.2634428919980887,
          2.2807493534176655,
          2.2538514264451095,
          2.0995826153939285,
          2.1529293440669783,
          2.1480256350429277,
          2.119274675902317,
          2.1742817085203026,
          2.324354289215772,
          2.4606476398150257,
          2.50533095531718,
          2.392416347807644,
          2.4497296228784187,
          2.4323214897779133,
          2.527966662985583,
          2.8079595260254915,
          2.9898802556930124,
          3.1533296360649667,
          3.127903656187504,
          3.2931344315506696,
          3.093803238472906,
          3.123174949301099,
          3.3442116167058846,
          3.58673637840209,
          3.6627233088251714,
          4.132732357310669,
          4.018650000793714,
          4.294595755416167,
          4.610182913630444,
          4.860505488345112,
          5.829014297644628,
          5.314437824081322,
          5.078393470381242,
          4.7621339657172665,
          4.910582625430027,
          4.618795685909131,
          4.845617920111217,
          4.54411223980884,
          4.593744926648691,
          4.876309325954649,
          4.731104720165428,
          4.591695596618298,
          4.590198414875946,
          4.835852830857884,
          4.939654466096178,
          4.829438329349034,
          4.97717032324854,
          5.64355760040634,
          6.049027977242556,
          6.144652993017967,
          6.371751851605148,
          6.009748465779155,
          5.756757145179347,
          5.857241000407892,
          6.018364574443931,
          6.640213708150063,
          6.902771116133879,
          7.333079292788229,
          7.995382173899655,
          7.529073524762354,
          7.997095621035043,
          8.400338396394703,
          8.246935191217329,
          8.76155411543338,
          9.112843200249118,
          9.34179739712561,
          10.956402871004906,
          10.406684067523578,
          10.36278890418587,
          10.038196602897983,
          10.445662372677205,
          10.525359100264236,
          10.545728869913496,
          11.980055007671575,
          11.269211632715239,
          10.559317817657616,
          10.514092261177987,
          10.70785729719852,
          11.267929000238047,
          11.989885840687224,
          12.95278141525652,
          14.346602007883504,
          12.412421476403503,
          13.33626606390141,
          13.839874296640476,
          16.874727764951114,
          15.928910967542318,
          15.937844525261065,
          17.173079931992895,
          18.550248527756924,
          20.099862175205462,
          21.831392185519555,
          21.777047992318515,
          24.884654472019356,
          25.273096763014482,
          26.199028330781942,
          30.827359104964465,
          37.72492316120787,
          32.17248184823674,
          28.896319882306535,
          30.9521629938645,
          34.2347629299126,
          33.81091292084091,
          32.01921099464341,
          33.17512868773722,
          36.99076611115194,
          37.08113502776789,
          40.60658977450967,
          42.876413307674504
         ]
        }
       ],
       "layout": {
        "legend": {
         "bgcolor": "#F2F3F7",
         "font": {
          "color": "#505050"
         }
        },
        "paper_bgcolor": "#F2F3F7",
        "plot_bgcolor": "#F2F3F7",
        "template": {
         "data": {
          "bar": [
           {
            "error_x": {
             "color": "#2a3f5f"
            },
            "error_y": {
             "color": "#2a3f5f"
            },
            "marker": {
             "line": {
              "color": "#E5ECF6",
              "width": 0.5
             }
            },
            "type": "bar"
           }
          ],
          "barpolar": [
           {
            "marker": {
             "line": {
              "color": "#E5ECF6",
              "width": 0.5
             }
            },
            "type": "barpolar"
           }
          ],
          "carpet": [
           {
            "aaxis": {
             "endlinecolor": "#2a3f5f",
             "gridcolor": "white",
             "linecolor": "white",
             "minorgridcolor": "white",
             "startlinecolor": "#2a3f5f"
            },
            "baxis": {
             "endlinecolor": "#2a3f5f",
             "gridcolor": "white",
             "linecolor": "white",
             "minorgridcolor": "white",
             "startlinecolor": "#2a3f5f"
            },
            "type": "carpet"
           }
          ],
          "choropleth": [
           {
            "colorbar": {
             "outlinewidth": 0,
             "ticks": ""
            },
            "type": "choropleth"
           }
          ],
          "contour": [
           {
            "colorbar": {
             "outlinewidth": 0,
             "ticks": ""
            },
            "colorscale": [
             [
              0,
              "#0d0887"
             ],
             [
              0.1111111111111111,
              "#46039f"
             ],
             [
              0.2222222222222222,
              "#7201a8"
             ],
             [
              0.3333333333333333,
              "#9c179e"
             ],
             [
              0.4444444444444444,
              "#bd3786"
             ],
             [
              0.5555555555555556,
              "#d8576b"
             ],
             [
              0.6666666666666666,
              "#ed7953"
             ],
             [
              0.7777777777777778,
              "#fb9f3a"
             ],
             [
              0.8888888888888888,
              "#fdca26"
             ],
             [
              1,
              "#f0f921"
             ]
            ],
            "type": "contour"
           }
          ],
          "contourcarpet": [
           {
            "colorbar": {
             "outlinewidth": 0,
             "ticks": ""
            },
            "type": "contourcarpet"
           }
          ],
          "heatmap": [
           {
            "colorbar": {
             "outlinewidth": 0,
             "ticks": ""
            },
            "colorscale": [
             [
              0,
              "#0d0887"
             ],
             [
              0.1111111111111111,
              "#46039f"
             ],
             [
              0.2222222222222222,
              "#7201a8"
             ],
             [
              0.3333333333333333,
              "#9c179e"
             ],
             [
              0.4444444444444444,
              "#bd3786"
             ],
             [
              0.5555555555555556,
              "#d8576b"
             ],
             [
              0.6666666666666666,
              "#ed7953"
             ],
             [
              0.7777777777777778,
              "#fb9f3a"
             ],
             [
              0.8888888888888888,
              "#fdca26"
             ],
             [
              1,
              "#f0f921"
             ]
            ],
            "type": "heatmap"
           }
          ],
          "heatmapgl": [
           {
            "colorbar": {
             "outlinewidth": 0,
             "ticks": ""
            },
            "colorscale": [
             [
              0,
              "#0d0887"
             ],
             [
              0.1111111111111111,
              "#46039f"
             ],
             [
              0.2222222222222222,
              "#7201a8"
             ],
             [
              0.3333333333333333,
              "#9c179e"
             ],
             [
              0.4444444444444444,
              "#bd3786"
             ],
             [
              0.5555555555555556,
              "#d8576b"
             ],
             [
              0.6666666666666666,
              "#ed7953"
             ],
             [
              0.7777777777777778,
              "#fb9f3a"
             ],
             [
              0.8888888888888888,
              "#fdca26"
             ],
             [
              1,
              "#f0f921"
             ]
            ],
            "type": "heatmapgl"
           }
          ],
          "histogram": [
           {
            "marker": {
             "colorbar": {
              "outlinewidth": 0,
              "ticks": ""
             }
            },
            "type": "histogram"
           }
          ],
          "histogram2d": [
           {
            "colorbar": {
             "outlinewidth": 0,
             "ticks": ""
            },
            "colorscale": [
             [
              0,
              "#0d0887"
             ],
             [
              0.1111111111111111,
              "#46039f"
             ],
             [
              0.2222222222222222,
              "#7201a8"
             ],
             [
              0.3333333333333333,
              "#9c179e"
             ],
             [
              0.4444444444444444,
              "#bd3786"
             ],
             [
              0.5555555555555556,
              "#d8576b"
             ],
             [
              0.6666666666666666,
              "#ed7953"
             ],
             [
              0.7777777777777778,
              "#fb9f3a"
             ],
             [
              0.8888888888888888,
              "#fdca26"
             ],
             [
              1,
              "#f0f921"
             ]
            ],
            "type": "histogram2d"
           }
          ],
          "histogram2dcontour": [
           {
            "colorbar": {
             "outlinewidth": 0,
             "ticks": ""
            },
            "colorscale": [
             [
              0,
              "#0d0887"
             ],
             [
              0.1111111111111111,
              "#46039f"
             ],
             [
              0.2222222222222222,
              "#7201a8"
             ],
             [
              0.3333333333333333,
              "#9c179e"
             ],
             [
              0.4444444444444444,
              "#bd3786"
             ],
             [
              0.5555555555555556,
              "#d8576b"
             ],
             [
              0.6666666666666666,
              "#ed7953"
             ],
             [
              0.7777777777777778,
              "#fb9f3a"
             ],
             [
              0.8888888888888888,
              "#fdca26"
             ],
             [
              1,
              "#f0f921"
             ]
            ],
            "type": "histogram2dcontour"
           }
          ],
          "mesh3d": [
           {
            "colorbar": {
             "outlinewidth": 0,
             "ticks": ""
            },
            "type": "mesh3d"
           }
          ],
          "parcoords": [
           {
            "line": {
             "colorbar": {
              "outlinewidth": 0,
              "ticks": ""
             }
            },
            "type": "parcoords"
           }
          ],
          "pie": [
           {
            "automargin": true,
            "type": "pie"
           }
          ],
          "scatter": [
           {
            "marker": {
             "colorbar": {
              "outlinewidth": 0,
              "ticks": ""
             }
            },
            "type": "scatter"
           }
          ],
          "scatter3d": [
           {
            "line": {
             "colorbar": {
              "outlinewidth": 0,
              "ticks": ""
             }
            },
            "marker": {
             "colorbar": {
              "outlinewidth": 0,
              "ticks": ""
             }
            },
            "type": "scatter3d"
           }
          ],
          "scattercarpet": [
           {
            "marker": {
             "colorbar": {
              "outlinewidth": 0,
              "ticks": ""
             }
            },
            "type": "scattercarpet"
           }
          ],
          "scattergeo": [
           {
            "marker": {
             "colorbar": {
              "outlinewidth": 0,
              "ticks": ""
             }
            },
            "type": "scattergeo"
           }
          ],
          "scattergl": [
           {
            "marker": {
             "colorbar": {
              "outlinewidth": 0,
              "ticks": ""
             }
            },
            "type": "scattergl"
           }
          ],
          "scattermapbox": [
           {
            "marker": {
             "colorbar": {
              "outlinewidth": 0,
              "ticks": ""
             }
            },
            "type": "scattermapbox"
           }
          ],
          "scatterpolar": [
           {
            "marker": {
             "colorbar": {
              "outlinewidth": 0,
              "ticks": ""
             }
            },
            "type": "scatterpolar"
           }
          ],
          "scatterpolargl": [
           {
            "marker": {
             "colorbar": {
              "outlinewidth": 0,
              "ticks": ""
             }
            },
            "type": "scatterpolargl"
           }
          ],
          "scatterternary": [
           {
            "marker": {
             "colorbar": {
              "outlinewidth": 0,
              "ticks": ""
             }
            },
            "type": "scatterternary"
           }
          ],
          "surface": [
           {
            "colorbar": {
             "outlinewidth": 0,
             "ticks": ""
            },
            "colorscale": [
             [
              0,
              "#0d0887"
             ],
             [
              0.1111111111111111,
              "#46039f"
             ],
             [
              0.2222222222222222,
              "#7201a8"
             ],
             [
              0.3333333333333333,
              "#9c179e"
             ],
             [
              0.4444444444444444,
              "#bd3786"
             ],
             [
              0.5555555555555556,
              "#d8576b"
             ],
             [
              0.6666666666666666,
              "#ed7953"
             ],
             [
              0.7777777777777778,
              "#fb9f3a"
             ],
             [
              0.8888888888888888,
              "#fdca26"
             ],
             [
              1,
              "#f0f921"
             ]
            ],
            "type": "surface"
           }
          ],
          "table": [
           {
            "cells": {
             "fill": {
              "color": "#EBF0F8"
             },
             "line": {
              "color": "white"
             }
            },
            "header": {
             "fill": {
              "color": "#C8D4E3"
             },
             "line": {
              "color": "white"
             }
            },
            "type": "table"
           }
          ]
         },
         "layout": {
          "annotationdefaults": {
           "arrowcolor": "#2a3f5f",
           "arrowhead": 0,
           "arrowwidth": 1
          },
          "coloraxis": {
           "colorbar": {
            "outlinewidth": 0,
            "ticks": ""
           }
          },
          "colorscale": {
           "diverging": [
            [
             0,
             "#8e0152"
            ],
            [
             0.1,
             "#c51b7d"
            ],
            [
             0.2,
             "#de77ae"
            ],
            [
             0.3,
             "#f1b6da"
            ],
            [
             0.4,
             "#fde0ef"
            ],
            [
             0.5,
             "#f7f7f7"
            ],
            [
             0.6,
             "#e6f5d0"
            ],
            [
             0.7,
             "#b8e186"
            ],
            [
             0.8,
             "#7fbc41"
            ],
            [
             0.9,
             "#4d9221"
            ],
            [
             1,
             "#276419"
            ]
           ],
           "sequential": [
            [
             0,
             "#0d0887"
            ],
            [
             0.1111111111111111,
             "#46039f"
            ],
            [
             0.2222222222222222,
             "#7201a8"
            ],
            [
             0.3333333333333333,
             "#9c179e"
            ],
            [
             0.4444444444444444,
             "#bd3786"
            ],
            [
             0.5555555555555556,
             "#d8576b"
            ],
            [
             0.6666666666666666,
             "#ed7953"
            ],
            [
             0.7777777777777778,
             "#fb9f3a"
            ],
            [
             0.8888888888888888,
             "#fdca26"
            ],
            [
             1,
             "#f0f921"
            ]
           ],
           "sequentialminus": [
            [
             0,
             "#0d0887"
            ],
            [
             0.1111111111111111,
             "#46039f"
            ],
            [
             0.2222222222222222,
             "#7201a8"
            ],
            [
             0.3333333333333333,
             "#9c179e"
            ],
            [
             0.4444444444444444,
             "#bd3786"
            ],
            [
             0.5555555555555556,
             "#d8576b"
            ],
            [
             0.6666666666666666,
             "#ed7953"
            ],
            [
             0.7777777777777778,
             "#fb9f3a"
            ],
            [
             0.8888888888888888,
             "#fdca26"
            ],
            [
             1,
             "#f0f921"
            ]
           ]
          },
          "colorway": [
           "#636efa",
           "#EF553B",
           "#00cc96",
           "#ab63fa",
           "#FFA15A",
           "#19d3f3",
           "#FF6692",
           "#B6E880",
           "#FF97FF",
           "#FECB52"
          ],
          "font": {
           "color": "#2a3f5f"
          },
          "geo": {
           "bgcolor": "white",
           "lakecolor": "white",
           "landcolor": "#E5ECF6",
           "showlakes": true,
           "showland": true,
           "subunitcolor": "white"
          },
          "hoverlabel": {
           "align": "left"
          },
          "hovermode": "closest",
          "mapbox": {
           "style": "light"
          },
          "paper_bgcolor": "white",
          "plot_bgcolor": "#E5ECF6",
          "polar": {
           "angularaxis": {
            "gridcolor": "white",
            "linecolor": "white",
            "ticks": ""
           },
           "bgcolor": "#E5ECF6",
           "radialaxis": {
            "gridcolor": "white",
            "linecolor": "white",
            "ticks": ""
           }
          },
          "scene": {
           "xaxis": {
            "backgroundcolor": "#E5ECF6",
            "gridcolor": "white",
            "gridwidth": 2,
            "linecolor": "white",
            "showbackground": true,
            "ticks": "",
            "zerolinecolor": "white"
           },
           "yaxis": {
            "backgroundcolor": "#E5ECF6",
            "gridcolor": "white",
            "gridwidth": 2,
            "linecolor": "white",
            "showbackground": true,
            "ticks": "",
            "zerolinecolor": "white"
           },
           "zaxis": {
            "backgroundcolor": "#E5ECF6",
            "gridcolor": "white",
            "gridwidth": 2,
            "linecolor": "white",
            "showbackground": true,
            "ticks": "",
            "zerolinecolor": "white"
           }
          },
          "shapedefaults": {
           "line": {
            "color": "#2a3f5f"
           }
          },
          "ternary": {
           "aaxis": {
            "gridcolor": "white",
            "linecolor": "white",
            "ticks": ""
           },
           "baxis": {
            "gridcolor": "white",
            "linecolor": "white",
            "ticks": ""
           },
           "bgcolor": "#E5ECF6",
           "caxis": {
            "gridcolor": "white",
            "linecolor": "white",
            "ticks": ""
           }
          },
          "title": {
           "x": 0.05
          },
          "xaxis": {
           "automargin": true,
           "gridcolor": "white",
           "linecolor": "white",
           "ticks": "",
           "title": {
            "standoff": 15
           },
           "zerolinecolor": "white",
           "zerolinewidth": 2
          },
          "yaxis": {
           "automargin": true,
           "gridcolor": "white",
           "linecolor": "white",
           "ticks": "",
           "title": {
            "standoff": 15
           },
           "zerolinecolor": "white",
           "zerolinewidth": 2
          }
         }
        },
        "title": {
         "font": {
          "color": "#484848"
         }
        },
        "xaxis": {
         "gridcolor": "#E1E5ED",
         "showgrid": true,
         "tickfont": {
          "color": "#505050"
         },
         "title": {
          "font": {
           "color": "#505050"
          },
          "text": ""
         },
         "zerolinecolor": "#E1E5ED"
        },
        "yaxis": {
         "gridcolor": "#E1E5ED",
         "showgrid": true,
         "tickfont": {
          "color": "#505050"
         },
         "title": {
          "font": {
           "color": "#505050"
          },
          "text": ""
         },
         "zerolinecolor": "#E1E5ED"
        }
       }
      },
      "text/html": [
       "<div>                            <div id=\"fdfe4e0e-884f-4179-8748-f9184828bbb7\" class=\"plotly-graph-div\" style=\"height:525px; width:100%;\"></div>            <script type=\"text/javascript\">                require([\"plotly\"], function(Plotly) {                    window.PLOTLYENV=window.PLOTLYENV || {};\n",
       "                    window.PLOTLYENV.BASE_URL='https://plot.ly';                                    if (document.getElementById(\"fdfe4e0e-884f-4179-8748-f9184828bbb7\")) {                    Plotly.newPlot(                        \"fdfe4e0e-884f-4179-8748-f9184828bbb7\",                        [{\"line\": {\"color\": \"rgba(0, 128, 240, 1.0)\", \"dash\": \"solid\", \"shape\": \"linear\", \"width\": 1.3}, \"mode\": \"lines\", \"name\": \"AWP\", \"text\": \"\", \"type\": \"scatter\", \"x\": [\"2010-12-31\", \"2011-01-31\", \"2011-02-28\", \"2011-03-31\", \"2011-04-29\", \"2011-05-31\", \"2011-06-30\", \"2011-07-29\", \"2011-08-31\", \"2011-09-30\", \"2011-10-31\", \"2011-11-30\", \"2011-12-30\", \"2012-01-31\", \"2012-02-29\", \"2012-03-30\", \"2012-04-30\", \"2012-05-31\", \"2012-06-29\", \"2012-07-31\", \"2012-08-31\", \"2012-09-28\", \"2012-10-31\", \"2012-11-30\", \"2012-12-31\", \"2013-01-31\", \"2013-02-28\", \"2013-03-28\", \"2013-04-30\", \"2013-05-31\", \"2013-06-28\", \"2013-07-31\", \"2013-08-30\", \"2013-09-30\", \"2013-10-31\", \"2013-11-29\", \"2013-12-31\", \"2014-01-31\", \"2014-02-28\", \"2014-03-31\", \"2014-04-30\", \"2014-05-30\", \"2014-06-30\", \"2014-07-31\", \"2014-08-29\", \"2014-09-30\", \"2014-10-31\", \"2014-11-28\", \"2014-12-31\", \"2015-01-30\", \"2015-02-27\", \"2015-03-31\", \"2015-04-30\", \"2015-05-29\", \"2015-06-30\", \"2015-07-31\", \"2015-08-31\", \"2015-09-30\", \"2015-10-30\", \"2015-11-30\", \"2015-12-31\", \"2016-01-29\", \"2016-02-29\", \"2016-03-31\", \"2016-04-29\", \"2016-05-31\", \"2016-06-30\", \"2016-07-29\", \"2016-08-31\", \"2016-09-30\", \"2016-10-31\", \"2016-11-30\", \"2016-12-30\", \"2017-01-31\", \"2017-02-28\", \"2017-03-31\", \"2017-04-28\", \"2017-05-31\", \"2017-06-30\", \"2017-07-31\", \"2017-08-31\", \"2017-09-29\", \"2017-10-31\", \"2017-11-30\", \"2017-12-29\", \"2018-01-31\", \"2018-02-28\", \"2018-03-29\", \"2018-04-30\", \"2018-05-31\", \"2018-06-29\", \"2018-07-31\", \"2018-08-31\", \"2018-09-28\", \"2018-10-31\", \"2018-11-30\", \"2018-12-31\", \"2019-01-31\", \"2019-02-28\", \"2019-03-29\", \"2019-04-30\", \"2019-05-31\", \"2019-06-28\", \"2019-07-31\", \"2019-08-30\", \"2019-09-30\", \"2019-10-31\", \"2019-11-29\", \"2019-12-31\", \"2020-01-31\", \"2020-02-28\", \"2020-03-31\", \"2020-04-30\", \"2020-05-29\", \"2020-06-30\", \"2020-07-31\", \"2020-08-31\", \"2020-09-30\", \"2020-10-30\", \"2020-11-30\", \"2020-12-31\", \"2021-01-29\", \"2021-02-26\", \"2021-03-31\", \"2021-04-30\", \"2021-05-28\", \"2021-06-30\", \"2021-07-21\"], \"y\": [1.0, 0.9919679568828922, 1.0284730739269317, 1.0332357703850628, 1.0995861732605678, 1.1280404874360297, 1.0755993340977996, 1.1481085268074027, 1.1783693439831164, 1.234522713861039, 1.3681969536261875, 1.3314987362914128, 1.3575983654147812, 1.4977766057215778, 1.5777741586573377, 1.5934099269605226, 1.6258613528445975, 1.6549151861080291, 1.7163406840083004, 1.7812932828719772, 1.9010873199688851, 1.8766113640246174, 1.7298221971462933, 1.7664521812379201, 1.7027887539225295, 1.6544884517205944, 1.6796411717729105, 1.7185942214279706, 1.8472114056861235, 1.7785349916051356, 1.6113885645780053, 1.6899126947998744, 1.6664028364572345, 1.8005045162620918, 1.9276018967777548, 1.9700012635280146, 2.003559227136875, 2.1107910734658963, 2.307784532066735, 2.2273086770202117, 2.2310722920396544, 2.4002418378706403, 2.515574580475039, 2.542902355190475, 2.824336997957407, 2.7468563829778425, 2.8990338373584215, 3.0562696331127612, 3.0882039124399436, 3.323850865843372, 3.3637637312355904, 3.326893714799389, 3.2699882964176434, 3.254545770047655, 3.025415074773701, 3.337317196256786, 3.0010726350148196, 3.060396385193026, 3.474567846822735, 3.400830643198991, 3.19507035514228, 3.1697605091016383, 3.2214001252834636, 3.3902079820864808, 3.200337949231609, 3.377790158102157, 3.536371349242734, 3.834036589616873, 3.834651929347353, 3.8868370289542846, 3.6198777063350622, 3.3173041658290425, 3.4367859369989344, 3.632148568301522, 3.8842578739702613, 3.9651597254669033, 4.1314953056214225, 4.394530499885664, 4.247206125584685, 4.52740630828867, 4.755835198508651, 4.628379228109452, 4.886681252574328, 5.001684909636591, 5.07506535166305, 5.365552637067081, 5.164619063863692, 5.10450712036129, 5.147095388186132, 5.567697575176862, 5.564708312919167, 5.591132834505482, 6.097639082063976, 5.927706099553168, 5.129951836069678, 5.061918856837925, 4.746728320203289, 5.248700639236068, 5.4175392418812995, 6.043816742437325, 6.29975576956681, 6.186455898140762, 7.026818630306848, 7.103182755853805, 7.622160620898771, 7.487593300252866, 7.838168581473497, 8.05913776636439, 8.405582275032918, 9.122840355996594, 8.967752210258173, 7.737193822074993, 9.835884369337746, 10.866380618658834, 11.709715570758995, 13.182467918859222, 14.261444414355003, 12.820425058696378, 11.527977096416432, 13.255246036212464, 14.007590254590417, 13.715278611065642, 12.392385795449185, 11.503333621329935, 12.230301558659844, 12.108448023317788, 13.651613340038992, 14.402036844340254]}, {\"line\": {\"color\": \"rgba(238, 118, 0, 1.0)\", \"dash\": \"solid\", \"shape\": \"linear\", \"width\": 1.3}, \"mode\": \"lines\", \"name\": \"VAA\", \"text\": \"\", \"type\": \"scatter\", \"x\": [\"2010-12-31\", \"2011-01-31\", \"2011-02-28\", \"2011-03-31\", \"2011-04-29\", \"2011-05-31\", \"2011-06-30\", \"2011-07-29\", \"2011-08-31\", \"2011-09-30\", \"2011-10-31\", \"2011-11-30\", \"2011-12-30\", \"2012-01-31\", \"2012-02-29\", \"2012-03-30\", \"2012-04-30\", \"2012-05-31\", \"2012-06-29\", \"2012-07-31\", \"2012-08-31\", \"2012-09-28\", \"2012-10-31\", \"2012-11-30\", \"2012-12-31\", \"2013-01-31\", \"2013-02-28\", \"2013-03-28\", \"2013-04-30\", \"2013-05-31\", \"2013-06-28\", \"2013-07-31\", \"2013-08-30\", \"2013-09-30\", \"2013-10-31\", \"2013-11-29\", \"2013-12-31\", \"2014-01-31\", \"2014-02-28\", \"2014-03-31\", \"2014-04-30\", \"2014-05-30\", \"2014-06-30\", \"2014-07-31\", \"2014-08-29\", \"2014-09-30\", \"2014-10-31\", \"2014-11-28\", \"2014-12-31\", \"2015-01-30\", \"2015-02-27\", \"2015-03-31\", \"2015-04-30\", \"2015-05-29\", \"2015-06-30\", \"2015-07-31\", \"2015-08-31\", \"2015-09-30\", \"2015-10-30\", \"2015-11-30\", \"2015-12-31\", \"2016-01-29\", \"2016-02-29\", \"2016-03-31\", \"2016-04-29\", \"2016-05-31\", \"2016-06-30\", \"2016-07-29\", \"2016-08-31\", \"2016-09-30\", \"2016-10-31\", \"2016-11-30\", \"2016-12-30\", \"2017-01-31\", \"2017-02-28\", \"2017-03-31\", \"2017-04-28\", \"2017-05-31\", \"2017-06-30\", \"2017-07-31\", \"2017-08-31\", \"2017-09-29\", \"2017-10-31\", \"2017-11-30\", \"2017-12-29\", \"2018-01-31\", \"2018-02-28\", \"2018-03-29\", \"2018-04-30\", \"2018-05-31\", \"2018-06-29\", \"2018-07-31\", \"2018-08-31\", \"2018-09-28\", \"2018-10-31\", \"2018-11-30\", \"2018-12-31\", \"2019-01-31\", \"2019-02-28\", \"2019-03-29\", \"2019-04-30\", \"2019-05-31\", \"2019-06-28\", \"2019-07-31\", \"2019-08-30\", \"2019-09-30\", \"2019-10-31\", \"2019-11-29\", \"2019-12-31\", \"2020-01-31\", \"2020-02-28\", \"2020-03-31\", \"2020-04-30\", \"2020-05-29\", \"2020-06-30\", \"2020-07-31\", \"2020-08-31\", \"2020-09-30\", \"2020-10-30\", \"2020-11-30\", \"2020-12-31\", \"2021-01-29\", \"2021-02-26\", \"2021-03-31\", \"2021-04-30\", \"2021-05-28\", \"2021-06-30\", \"2021-07-21\"], \"y\": [1.0, 1.065638493740782, 1.064345237881741, 1.0558673752808565, 1.0615073729558586, 1.0197424424760926, 0.9443442474643614, 1.0346927095942888, 1.3176103089581657, 1.8624984795250707, 1.6227685449618383, 1.4581360110245876, 1.596422185593715, 1.572538133695034, 1.8892339418801656, 2.1813154803673878, 2.087418629441818, 2.690716226309267, 2.535277409725245, 2.593081879169429, 2.4735935833072324, 2.4468321214584634, 2.3009098484134163, 2.3681503167368563, 2.4348246504532525, 2.4351121729172247, 2.5219186200025967, 2.8001655091913062, 2.923467034266975, 3.122374897699503, 3.119302302862203, 3.124372587348161, 3.1213365746500097, 3.128298765432256, 3.5880468619248607, 3.958901008275318, 4.309614158883973, 4.035640923000238, 4.101493522055732, 3.758377688342016, 3.82049583735824, 4.073489292889228, 4.458749057739237, 4.594694004481245, 5.257383329771323, 5.111443319647033, 5.5235456139756645, 6.025269096964349, 6.590569077395785, 8.634226807312018, 7.09152486649148, 6.562706398370206, 5.886808333031335, 6.260781298516308, 5.950746524411871, 5.95341304569593, 5.789739866380019, 5.806818353320316, 5.77761258758775, 5.561014301894765, 5.552720332355125, 5.5889251724814, 6.075559052240444, 6.036551456227231, 6.08518774980164, 6.134987623423458, 7.437161267163211, 7.888868308795407, 8.124845520386886, 8.596131459400548, 8.199717280568334, 8.16118296288154, 8.16708477025559, 8.175790738327324, 9.270485951546975, 9.793407320877034, 10.583896889087969, 11.794055568892327, 10.842582009652403, 11.479334609431898, 12.057843436467728, 11.930447504306882, 12.745820094622436, 13.447110126195266, 13.911660089187423, 17.765646265373416, 16.670524774338656, 16.71172114440457, 15.590759032928757, 15.645687513301676, 15.880226608355809, 15.870690783031456, 18.678997279230163, 17.040874706678153, 17.0669680841194, 17.13199745725023, 18.693843265354225, 18.77105147666857, 20.513549230692103, 21.508402356123437, 25.088071291404933, 19.06374824508632, 19.427415038414765, 20.631997078283597, 27.87549762697768, 25.348397425723796, 24.30566247497956, 27.269764847039475, 30.371133620179155, 32.859073753651906, 38.74474202506983, 43.35351318626523, 44.516886871817526, 41.63419224497861, 41.62195186905766, 50.88405962280682, 68.7774508351163, 55.7942975984032, 50.06142389772693, 50.07242779488956, 57.60769067075838, 57.33517885389283, 56.54299390197127, 64.08050803279114, 74.44376129183568, 75.45809768498734, 80.43047444400868, 84.99367078630691]}, {\"line\": {\"color\": \"rgba(48, 144, 84, 1.0)\", \"dash\": \"solid\", \"shape\": \"linear\", \"width\": 1.3}, \"mode\": \"lines\", \"name\": \"strategy\", \"text\": \"\", \"type\": \"scatter\", \"x\": [\"2010-12-31\", \"2011-01-31\", \"2011-02-28\", \"2011-03-31\", \"2011-04-29\", \"2011-05-31\", \"2011-06-30\", \"2011-07-29\", \"2011-08-31\", \"2011-09-30\", \"2011-10-31\", \"2011-11-30\", \"2011-12-30\", \"2012-01-31\", \"2012-02-29\", \"2012-03-30\", \"2012-04-30\", \"2012-05-31\", \"2012-06-29\", \"2012-07-31\", \"2012-08-31\", \"2012-09-28\", \"2012-10-31\", \"2012-11-30\", \"2012-12-31\", \"2013-01-31\", \"2013-02-28\", \"2013-03-28\", \"2013-04-30\", \"2013-05-31\", \"2013-06-28\", \"2013-07-31\", \"2013-08-30\", \"2013-09-30\", \"2013-10-31\", \"2013-11-29\", \"2013-12-31\", \"2014-01-31\", \"2014-02-28\", \"2014-03-31\", \"2014-04-30\", \"2014-05-30\", \"2014-06-30\", \"2014-07-31\", \"2014-08-29\", \"2014-09-30\", \"2014-10-31\", \"2014-11-28\", \"2014-12-31\", \"2015-01-30\", \"2015-02-27\", \"2015-03-31\", \"2015-04-30\", \"2015-05-29\", \"2015-06-30\", \"2015-07-31\", \"2015-08-31\", \"2015-09-30\", \"2015-10-30\", \"2015-11-30\", \"2015-12-31\", \"2016-01-29\", \"2016-02-29\", \"2016-03-31\", \"2016-04-29\", \"2016-05-31\", \"2016-06-30\", \"2016-07-29\", \"2016-08-31\", \"2016-09-30\", \"2016-10-31\", \"2016-11-30\", \"2016-12-30\", \"2017-01-31\", \"2017-02-28\", \"2017-03-31\", \"2017-04-28\", \"2017-05-31\", \"2017-06-30\", \"2017-07-31\", \"2017-08-31\", \"2017-09-29\", \"2017-10-31\", \"2017-11-30\", \"2017-12-29\", \"2018-01-31\", \"2018-02-28\", \"2018-03-29\", \"2018-04-30\", \"2018-05-31\", \"2018-06-29\", \"2018-07-31\", \"2018-08-31\", \"2018-09-28\", \"2018-10-31\", \"2018-11-30\", \"2018-12-31\", \"2019-01-31\", \"2019-02-28\", \"2019-03-29\", \"2019-04-30\", \"2019-05-31\", \"2019-06-28\", \"2019-07-31\", \"2019-08-30\", \"2019-09-30\", \"2019-10-31\", \"2019-11-29\", \"2019-12-31\", \"2020-01-31\", \"2020-02-28\", \"2020-03-31\", \"2020-04-30\", \"2020-05-29\", \"2020-06-30\", \"2020-07-31\", \"2020-08-31\", \"2020-09-30\", \"2020-10-30\", \"2020-11-30\", \"2020-12-31\", \"2021-01-29\", \"2021-02-26\", \"2021-03-31\", \"2021-04-30\", \"2021-05-28\", \"2021-06-30\", \"2021-07-21\"], \"y\": [1.0, 1.030714158976349, 1.048037890032388, 1.0459481279391456, 1.08072769398011, 1.0716219034386567, 1.006332686284496, 1.089129786607879, 1.2593642072694058, 1.5617235303312886, 1.536166851155128, 1.4346680291599063, 1.5195590635202005, 1.5819831728797629, 1.7896020755425053, 1.943525341240853, 1.9182890274406563, 2.2261287542112314, 2.197663227858899, 2.2634428919980887, 2.2807493534176655, 2.2538514264451095, 2.0995826153939285, 2.1529293440669783, 2.1480256350429277, 2.119274675902317, 2.1742817085203026, 2.324354289215772, 2.4606476398150257, 2.50533095531718, 2.392416347807644, 2.4497296228784187, 2.4323214897779133, 2.527966662985583, 2.8079595260254915, 2.9898802556930124, 3.1533296360649667, 3.127903656187504, 3.2931344315506696, 3.093803238472906, 3.123174949301099, 3.3442116167058846, 3.58673637840209, 3.6627233088251714, 4.132732357310669, 4.018650000793714, 4.294595755416167, 4.610182913630444, 4.860505488345112, 5.829014297644628, 5.314437824081322, 5.078393470381242, 4.7621339657172665, 4.910582625430027, 4.618795685909131, 4.845617920111217, 4.54411223980884, 4.593744926648691, 4.876309325954649, 4.731104720165428, 4.591695596618298, 4.590198414875946, 4.835852830857884, 4.939654466096178, 4.829438329349034, 4.97717032324854, 5.64355760040634, 6.049027977242556, 6.144652993017967, 6.371751851605148, 6.009748465779155, 5.756757145179347, 5.857241000407892, 6.018364574443931, 6.640213708150063, 6.902771116133879, 7.333079292788229, 7.995382173899655, 7.529073524762354, 7.997095621035043, 8.400338396394703, 8.246935191217329, 8.76155411543338, 9.112843200249118, 9.34179739712561, 10.956402871004906, 10.406684067523578, 10.36278890418587, 10.038196602897983, 10.445662372677205, 10.525359100264236, 10.545728869913496, 11.980055007671575, 11.269211632715239, 10.559317817657616, 10.514092261177987, 10.70785729719852, 11.267929000238047, 11.989885840687224, 12.95278141525652, 14.346602007883504, 12.412421476403503, 13.33626606390141, 13.839874296640476, 16.874727764951114, 15.928910967542318, 15.937844525261065, 17.173079931992895, 18.550248527756924, 20.099862175205462, 21.831392185519555, 21.777047992318515, 24.884654472019356, 25.273096763014482, 26.199028330781942, 30.827359104964465, 37.72492316120787, 32.17248184823674, 28.896319882306535, 30.9521629938645, 34.2347629299126, 33.81091292084091, 32.01921099464341, 33.17512868773722, 36.99076611115194, 37.08113502776789, 40.60658977450967, 42.876413307674504]}],                        {\"legend\": {\"bgcolor\": \"#F2F3F7\", \"font\": {\"color\": \"#505050\"}}, \"paper_bgcolor\": \"#F2F3F7\", \"plot_bgcolor\": \"#F2F3F7\", \"template\": {\"data\": {\"bar\": [{\"error_x\": {\"color\": \"#2a3f5f\"}, \"error_y\": {\"color\": \"#2a3f5f\"}, \"marker\": {\"line\": {\"color\": \"#E5ECF6\", \"width\": 0.5}}, \"type\": \"bar\"}], \"barpolar\": [{\"marker\": {\"line\": {\"color\": \"#E5ECF6\", \"width\": 0.5}}, \"type\": \"barpolar\"}], \"carpet\": [{\"aaxis\": {\"endlinecolor\": \"#2a3f5f\", \"gridcolor\": \"white\", \"linecolor\": \"white\", \"minorgridcolor\": \"white\", \"startlinecolor\": \"#2a3f5f\"}, \"baxis\": {\"endlinecolor\": \"#2a3f5f\", \"gridcolor\": \"white\", \"linecolor\": \"white\", \"minorgridcolor\": \"white\", \"startlinecolor\": \"#2a3f5f\"}, \"type\": \"carpet\"}], \"choropleth\": [{\"colorbar\": {\"outlinewidth\": 0, \"ticks\": \"\"}, \"type\": \"choropleth\"}], \"contour\": [{\"colorbar\": {\"outlinewidth\": 0, \"ticks\": \"\"}, \"colorscale\": [[0.0, \"#0d0887\"], [0.1111111111111111, \"#46039f\"], [0.2222222222222222, \"#7201a8\"], [0.3333333333333333, \"#9c179e\"], [0.4444444444444444, \"#bd3786\"], [0.5555555555555556, \"#d8576b\"], [0.6666666666666666, \"#ed7953\"], [0.7777777777777778, \"#fb9f3a\"], [0.8888888888888888, \"#fdca26\"], [1.0, \"#f0f921\"]], \"type\": \"contour\"}], \"contourcarpet\": [{\"colorbar\": {\"outlinewidth\": 0, \"ticks\": \"\"}, \"type\": \"contourcarpet\"}], \"heatmap\": [{\"colorbar\": {\"outlinewidth\": 0, \"ticks\": \"\"}, \"colorscale\": [[0.0, \"#0d0887\"], [0.1111111111111111, \"#46039f\"], [0.2222222222222222, \"#7201a8\"], [0.3333333333333333, \"#9c179e\"], [0.4444444444444444, \"#bd3786\"], [0.5555555555555556, \"#d8576b\"], [0.6666666666666666, \"#ed7953\"], [0.7777777777777778, \"#fb9f3a\"], [0.8888888888888888, \"#fdca26\"], [1.0, \"#f0f921\"]], \"type\": \"heatmap\"}], \"heatmapgl\": [{\"colorbar\": {\"outlinewidth\": 0, \"ticks\": \"\"}, \"colorscale\": [[0.0, \"#0d0887\"], [0.1111111111111111, \"#46039f\"], [0.2222222222222222, \"#7201a8\"], [0.3333333333333333, \"#9c179e\"], [0.4444444444444444, \"#bd3786\"], [0.5555555555555556, \"#d8576b\"], [0.6666666666666666, \"#ed7953\"], [0.7777777777777778, \"#fb9f3a\"], [0.8888888888888888, \"#fdca26\"], [1.0, \"#f0f921\"]], \"type\": \"heatmapgl\"}], \"histogram\": [{\"marker\": {\"colorbar\": {\"outlinewidth\": 0, \"ticks\": \"\"}}, \"type\": \"histogram\"}], \"histogram2d\": [{\"colorbar\": {\"outlinewidth\": 0, \"ticks\": \"\"}, \"colorscale\": [[0.0, \"#0d0887\"], [0.1111111111111111, \"#46039f\"], [0.2222222222222222, \"#7201a8\"], [0.3333333333333333, \"#9c179e\"], [0.4444444444444444, \"#bd3786\"], [0.5555555555555556, \"#d8576b\"], [0.6666666666666666, \"#ed7953\"], [0.7777777777777778, \"#fb9f3a\"], [0.8888888888888888, \"#fdca26\"], [1.0, \"#f0f921\"]], \"type\": \"histogram2d\"}], \"histogram2dcontour\": [{\"colorbar\": {\"outlinewidth\": 0, \"ticks\": \"\"}, \"colorscale\": [[0.0, \"#0d0887\"], [0.1111111111111111, \"#46039f\"], [0.2222222222222222, \"#7201a8\"], [0.3333333333333333, \"#9c179e\"], [0.4444444444444444, \"#bd3786\"], [0.5555555555555556, \"#d8576b\"], [0.6666666666666666, \"#ed7953\"], [0.7777777777777778, \"#fb9f3a\"], [0.8888888888888888, \"#fdca26\"], [1.0, \"#f0f921\"]], \"type\": \"histogram2dcontour\"}], \"mesh3d\": [{\"colorbar\": {\"outlinewidth\": 0, \"ticks\": \"\"}, \"type\": \"mesh3d\"}], \"parcoords\": [{\"line\": {\"colorbar\": {\"outlinewidth\": 0, \"ticks\": \"\"}}, \"type\": \"parcoords\"}], \"pie\": [{\"automargin\": true, \"type\": \"pie\"}], \"scatter\": [{\"marker\": {\"colorbar\": {\"outlinewidth\": 0, \"ticks\": \"\"}}, \"type\": \"scatter\"}], \"scatter3d\": [{\"line\": {\"colorbar\": {\"outlinewidth\": 0, \"ticks\": \"\"}}, \"marker\": {\"colorbar\": {\"outlinewidth\": 0, \"ticks\": \"\"}}, \"type\": \"scatter3d\"}], \"scattercarpet\": [{\"marker\": {\"colorbar\": {\"outlinewidth\": 0, \"ticks\": \"\"}}, \"type\": \"scattercarpet\"}], \"scattergeo\": [{\"marker\": {\"colorbar\": {\"outlinewidth\": 0, \"ticks\": \"\"}}, \"type\": \"scattergeo\"}], \"scattergl\": [{\"marker\": {\"colorbar\": {\"outlinewidth\": 0, \"ticks\": \"\"}}, \"type\": \"scattergl\"}], \"scattermapbox\": [{\"marker\": {\"colorbar\": {\"outlinewidth\": 0, \"ticks\": \"\"}}, \"type\": \"scattermapbox\"}], \"scatterpolar\": [{\"marker\": {\"colorbar\": {\"outlinewidth\": 0, \"ticks\": \"\"}}, \"type\": \"scatterpolar\"}], \"scatterpolargl\": [{\"marker\": {\"colorbar\": {\"outlinewidth\": 0, \"ticks\": \"\"}}, \"type\": \"scatterpolargl\"}], \"scatterternary\": [{\"marker\": {\"colorbar\": {\"outlinewidth\": 0, \"ticks\": \"\"}}, \"type\": \"scatterternary\"}], \"surface\": [{\"colorbar\": {\"outlinewidth\": 0, \"ticks\": \"\"}, \"colorscale\": [[0.0, \"#0d0887\"], [0.1111111111111111, \"#46039f\"], [0.2222222222222222, \"#7201a8\"], [0.3333333333333333, \"#9c179e\"], [0.4444444444444444, \"#bd3786\"], [0.5555555555555556, \"#d8576b\"], [0.6666666666666666, \"#ed7953\"], [0.7777777777777778, \"#fb9f3a\"], [0.8888888888888888, \"#fdca26\"], [1.0, \"#f0f921\"]], \"type\": \"surface\"}], \"table\": [{\"cells\": {\"fill\": {\"color\": \"#EBF0F8\"}, \"line\": {\"color\": \"white\"}}, \"header\": {\"fill\": {\"color\": \"#C8D4E3\"}, \"line\": {\"color\": \"white\"}}, \"type\": \"table\"}]}, \"layout\": {\"annotationdefaults\": {\"arrowcolor\": \"#2a3f5f\", \"arrowhead\": 0, \"arrowwidth\": 1}, \"coloraxis\": {\"colorbar\": {\"outlinewidth\": 0, \"ticks\": \"\"}}, \"colorscale\": {\"diverging\": [[0, \"#8e0152\"], [0.1, \"#c51b7d\"], [0.2, \"#de77ae\"], [0.3, \"#f1b6da\"], [0.4, \"#fde0ef\"], [0.5, \"#f7f7f7\"], [0.6, \"#e6f5d0\"], [0.7, \"#b8e186\"], [0.8, \"#7fbc41\"], [0.9, \"#4d9221\"], [1, \"#276419\"]], \"sequential\": [[0.0, \"#0d0887\"], [0.1111111111111111, \"#46039f\"], [0.2222222222222222, \"#7201a8\"], [0.3333333333333333, \"#9c179e\"], [0.4444444444444444, \"#bd3786\"], [0.5555555555555556, \"#d8576b\"], [0.6666666666666666, \"#ed7953\"], [0.7777777777777778, \"#fb9f3a\"], [0.8888888888888888, \"#fdca26\"], [1.0, \"#f0f921\"]], \"sequentialminus\": [[0.0, \"#0d0887\"], [0.1111111111111111, \"#46039f\"], [0.2222222222222222, \"#7201a8\"], [0.3333333333333333, \"#9c179e\"], [0.4444444444444444, \"#bd3786\"], [0.5555555555555556, \"#d8576b\"], [0.6666666666666666, \"#ed7953\"], [0.7777777777777778, \"#fb9f3a\"], [0.8888888888888888, \"#fdca26\"], [1.0, \"#f0f921\"]]}, \"colorway\": [\"#636efa\", \"#EF553B\", \"#00cc96\", \"#ab63fa\", \"#FFA15A\", \"#19d3f3\", \"#FF6692\", \"#B6E880\", \"#FF97FF\", \"#FECB52\"], \"font\": {\"color\": \"#2a3f5f\"}, \"geo\": {\"bgcolor\": \"white\", \"lakecolor\": \"white\", \"landcolor\": \"#E5ECF6\", \"showlakes\": true, \"showland\": true, \"subunitcolor\": \"white\"}, \"hoverlabel\": {\"align\": \"left\"}, \"hovermode\": \"closest\", \"mapbox\": {\"style\": \"light\"}, \"paper_bgcolor\": \"white\", \"plot_bgcolor\": \"#E5ECF6\", \"polar\": {\"angularaxis\": {\"gridcolor\": \"white\", \"linecolor\": \"white\", \"ticks\": \"\"}, \"bgcolor\": \"#E5ECF6\", \"radialaxis\": {\"gridcolor\": \"white\", \"linecolor\": \"white\", \"ticks\": \"\"}}, \"scene\": {\"xaxis\": {\"backgroundcolor\": \"#E5ECF6\", \"gridcolor\": \"white\", \"gridwidth\": 2, \"linecolor\": \"white\", \"showbackground\": true, \"ticks\": \"\", \"zerolinecolor\": \"white\"}, \"yaxis\": {\"backgroundcolor\": \"#E5ECF6\", \"gridcolor\": \"white\", \"gridwidth\": 2, \"linecolor\": \"white\", \"showbackground\": true, \"ticks\": \"\", \"zerolinecolor\": \"white\"}, \"zaxis\": {\"backgroundcolor\": \"#E5ECF6\", \"gridcolor\": \"white\", \"gridwidth\": 2, \"linecolor\": \"white\", \"showbackground\": true, \"ticks\": \"\", \"zerolinecolor\": \"white\"}}, \"shapedefaults\": {\"line\": {\"color\": \"#2a3f5f\"}}, \"ternary\": {\"aaxis\": {\"gridcolor\": \"white\", \"linecolor\": \"white\", \"ticks\": \"\"}, \"baxis\": {\"gridcolor\": \"white\", \"linecolor\": \"white\", \"ticks\": \"\"}, \"bgcolor\": \"#E5ECF6\", \"caxis\": {\"gridcolor\": \"white\", \"linecolor\": \"white\", \"ticks\": \"\"}}, \"title\": {\"x\": 0.05}, \"xaxis\": {\"automargin\": true, \"gridcolor\": \"white\", \"linecolor\": \"white\", \"ticks\": \"\", \"title\": {\"standoff\": 15}, \"zerolinecolor\": \"white\", \"zerolinewidth\": 2}, \"yaxis\": {\"automargin\": true, \"gridcolor\": \"white\", \"linecolor\": \"white\", \"ticks\": \"\", \"title\": {\"standoff\": 15}, \"zerolinecolor\": \"white\", \"zerolinewidth\": 2}}}, \"title\": {\"font\": {\"color\": \"#484848\"}}, \"xaxis\": {\"gridcolor\": \"#E1E5ED\", \"showgrid\": true, \"tickfont\": {\"color\": \"#505050\"}, \"title\": {\"font\": {\"color\": \"#505050\"}, \"text\": \"\"}, \"zerolinecolor\": \"#E1E5ED\"}, \"yaxis\": {\"gridcolor\": \"#E1E5ED\", \"showgrid\": true, \"tickfont\": {\"color\": \"#505050\"}, \"title\": {\"font\": {\"color\": \"#505050\"}, \"text\": \"\"}, \"zerolinecolor\": \"#E1E5ED\"}},                        {\"showLink\": true, \"linkText\": \"Export to plot.ly\", \"plotlyServerURL\": \"https://plot.ly\", \"responsive\": true}                    ).then(function(){\n",
       "                            \n",
       "var gd = document.getElementById('fdfe4e0e-884f-4179-8748-f9184828bbb7');\n",
       "var x = new MutationObserver(function (mutations, observer) {{\n",
       "        var display = window.getComputedStyle(gd).display;\n",
       "        if (!display || display === 'none') {{\n",
       "            console.log([gd, 'removed!']);\n",
       "            Plotly.purge(gd);\n",
       "            observer.disconnect();\n",
       "        }}\n",
       "}});\n",
       "\n",
       "// Listen for the removal of the full notebook cells\n",
       "var notebookContainer = gd.closest('#notebook-container');\n",
       "if (notebookContainer) {{\n",
       "    x.observe(notebookContainer, {childList: true});\n",
       "}}\n",
       "\n",
       "// Listen for the clearing of the current output cell\n",
       "var outputEl = gd.closest('.output');\n",
       "if (outputEl) {{\n",
       "    x.observe(outputEl, {childList: true});\n",
       "}}\n",
       "\n",
       "                        })                };                });            </script>        </div>"
      ]
     },
     "metadata": {},
     "output_type": "display_data"
    }
   ],
   "source": [
    "## 추세 그래프\n",
    "result_df.iplot()"
   ]
  },
  {
   "cell_type": "code",
   "execution_count": null,
   "metadata": {},
   "outputs": [],
   "source": []
  }
 ],
 "metadata": {
  "hide_input": false,
  "kernelspec": {
   "display_name": "Python 3",
   "language": "python",
   "name": "python3"
  },
  "language_info": {
   "codemirror_mode": {
    "name": "ipython",
    "version": 3
   },
   "file_extension": ".py",
   "mimetype": "text/x-python",
   "name": "python",
   "nbconvert_exporter": "python",
   "pygments_lexer": "ipython3",
   "version": "3.7.4"
  },
  "toc": {
   "base_numbering": 1,
   "nav_menu": {},
   "number_sections": true,
   "sideBar": true,
   "skip_h1_title": false,
   "title_cell": "Table of Contents",
   "title_sidebar": "Contents",
   "toc_cell": false,
   "toc_position": {},
   "toc_section_display": true,
   "toc_window_display": false
  },
  "varInspector": {
   "cols": {
    "lenName": 16,
    "lenType": 16,
    "lenVar": 40
   },
   "kernels_config": {
    "python": {
     "delete_cmd_postfix": "",
     "delete_cmd_prefix": "del ",
     "library": "var_list.py",
     "varRefreshCmd": "print(var_dic_list())"
    },
    "r": {
     "delete_cmd_postfix": ") ",
     "delete_cmd_prefix": "rm(",
     "library": "var_list.r",
     "varRefreshCmd": "cat(var_dic_list()) "
    }
   },
   "types_to_exclude": [
    "module",
    "function",
    "builtin_function_or_method",
    "instance",
    "_Feature"
   ],
   "window_display": false
  }
 },
 "nbformat": 4,
 "nbformat_minor": 4
}
