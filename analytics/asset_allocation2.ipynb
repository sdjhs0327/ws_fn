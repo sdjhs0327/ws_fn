{
 "cells": [
  {
   "cell_type": "code",
   "execution_count": 2,
   "metadata": {},
   "outputs": [],
   "source": [
    "## 기본\n",
    "import pandas as pd\n",
    "import warnings\n",
    "warnings.filterwarnings('ignore')\n",
    "import numpy as np\n",
    "import os\n",
    "import random\n",
    "import time\n",
    "import itertools"
   ]
  },
  {
   "cell_type": "code",
   "execution_count": 3,
   "metadata": {},
   "outputs": [],
   "source": [
    "def cal_return(value, price):\n",
    "    return value - price\n",
    "\n",
    "def cal_totalReturn(realEstateReturn, stockReturn, debitCost):\n",
    "    totalRturn = realEstateReturn + stockReturn - debitCost\n",
    "    return totalRturn"
   ]
  },
  {
   "cell_type": "code",
   "execution_count": 23,
   "metadata": {},
   "outputs": [],
   "source": [
    "## 시나리오 1: 리모델링\n",
    "realEstateReturn_S1 = cal_return(14.5*1e8*1.065, 14*1e8)\n",
    "stockReturn_S1 = cal_return((11-4)*1e8*1.2, (11-4)*1e8)\n",
    "debitCost_S1 = cal_return((10)*1e8*1.04, (10)*1e8)\n",
    "\n",
    "totlaReturn_S1 = cal_totalReturn(realEstateReturn_S1, stockReturn_S1, debitCost_S1)"
   ]
  },
  {
   "cell_type": "code",
   "execution_count": 24,
   "metadata": {},
   "outputs": [],
   "source": [
    "## 시나리오 2: 일반\n",
    "realEstateReturn_S2 = cal_return(13.5*1e8*1.065, 13.5*1e8)\n",
    "stockReturn_S2 = cal_return((11-4.1)*1e8*1.2, (11-4.1)*1e8)\n",
    "debitCost_S2 = cal_return((9.5)*1e8*1.04, (9.5)*1e8)\n",
    "\n",
    "totlaReturn_S2 = cal_totalReturn(realEstateReturn_S2, stockReturn_S2, debitCost_S2)"
   ]
  },
  {
   "cell_type": "code",
   "execution_count": 25,
   "metadata": {},
   "outputs": [],
   "source": [
    "## 시나리오 3: 하향\n",
    "realEstateReturn_S3 = cal_return(10.7*1e8*1.065, 10.7*1e8)\n",
    "stockReturn_S3 = cal_return((11-3.21)*1e8*1.2, (11-3.21)*1e8)\n",
    "debitCost_S3 = cal_return((7.50)*1e8*1.04, (7.50)*1e8)\n",
    "\n",
    "totlaReturn_S3 = cal_totalReturn(realEstateReturn_S3, stockReturn_S3, debitCost_S3)"
   ]
  },
  {
   "cell_type": "code",
   "execution_count": 26,
   "metadata": {},
   "outputs": [
    {
     "data": {
      "text/plain": [
       "244250000.0"
      ]
     },
     "execution_count": 26,
     "metadata": {},
     "output_type": "execute_result"
    }
   ],
   "source": [
    "totlaReturn_S1"
   ]
  },
  {
   "cell_type": "code",
   "execution_count": 27,
   "metadata": {},
   "outputs": [
    {
     "data": {
      "text/plain": [
       "187750000.0"
      ]
     },
     "execution_count": 27,
     "metadata": {},
     "output_type": "execute_result"
    }
   ],
   "source": [
    "totlaReturn_S2"
   ]
  },
  {
   "cell_type": "code",
   "execution_count": 28,
   "metadata": {},
   "outputs": [
    {
     "data": {
      "text/plain": [
       "195349999.99999988"
      ]
     },
     "execution_count": 28,
     "metadata": {},
     "output_type": "execute_result"
    }
   ],
   "source": [
    "totlaReturn_S3"
   ]
  }
 ],
 "metadata": {
  "kernelspec": {
   "display_name": ".venv",
   "language": "python",
   "name": "python3"
  },
  "language_info": {
   "codemirror_mode": {
    "name": "ipython",
    "version": 3
   },
   "file_extension": ".py",
   "mimetype": "text/x-python",
   "name": "python",
   "nbconvert_exporter": "python",
   "pygments_lexer": "ipython3",
   "version": "3.11.9"
  }
 },
 "nbformat": 4,
 "nbformat_minor": 2
}
