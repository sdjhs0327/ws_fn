{
 "cells": [
  {
   "cell_type": "code",
   "execution_count": 1,
   "metadata": {},
   "outputs": [],
   "source": [
    "## 기본\n",
    "import pandas as pd\n",
    "import warnings\n",
    "warnings.filterwarnings('ignore')\n",
    "import numpy as np\n",
    "import os\n",
    "import random\n",
    "import time\n",
    "import itertools\n",
    "\n",
    "import matplotlib.pyplot as plt\n",
    "import seaborn as sns\n",
    "\n",
    "from quant_functions import anal_funcs, data_funcs"
   ]
  },
  {
   "cell_type": "code",
   "execution_count": 2,
   "metadata": {},
   "outputs": [],
   "source": [
    "def cal_return(value, price):\n",
    "    return value - price\n",
    "\n",
    "def cal_totalReturn(realEstateReturn, stockReturn, debitCost):\n",
    "    totalRturn = realEstateReturn + stockReturn - debitCost\n",
    "    return totalRturn"
   ]
  },
  {
   "cell_type": "code",
   "execution_count": 3,
   "metadata": {},
   "outputs": [],
   "source": [
    "dl_path = \"C:/Users/GCC/git/data/temp\"\n",
    "## 부동산 전세 시세 ## 20231231기준\n",
    "huz_ori = pd.read_csv(f\"{dl_path}/시세데이터.csv\")\n",
    "huz_trs = huz_ori[['YYYYMMDD', 'VALUE']][(huz_ori['INDICATOR_ID'] == '매매시세(KB)')&(huz_ori['REGION_LEVEL'] == 'sd')&(huz_ori['SD'] == '서울')]\n",
    "huz_trs.set_index('YYYYMMDD', inplace=True)\n",
    "huz_trs.index = pd.to_datetime(huz_trs.index, format='%Y-%m-%d')"
   ]
  },
  {
   "cell_type": "code",
   "execution_count": 3,
   "metadata": {},
   "outputs": [
    {
     "name": "stderr",
     "output_type": "stream",
     "text": [
      "[*********************100%%**********************]  2 of 2 completed\n"
     ]
    }
   ],
   "source": [
    "stock = data_funcs.get_merged_df('^IXIC', '^GSPC')"
   ]
  },
  {
   "cell_type": "code",
   "execution_count": 8,
   "metadata": {},
   "outputs": [
    {
     "data": {
      "text/plain": [
       "0.1320128378768186"
      ]
     },
     "execution_count": 8,
     "metadata": {},
     "output_type": "execute_result"
    }
   ],
   "source": [
    "stockYRR = (1+stock['^IXIC']['2004-01-01':'2023-12-31'].pct_change().mean())**252 - 1\n",
    "stockYRR"
   ]
  },
  {
   "cell_type": "code",
   "execution_count": 57,
   "metadata": {},
   "outputs": [],
   "source": [
    "stockYRR = (1+stock['^GSPC']['2004-01-01':].pct_change().mean())**252 - 1\n",
    "propYRR = (1+huz_trs['VALUE'].pct_change().mean())**12-1"
   ]
  },
  {
   "cell_type": "code",
   "execution_count": 58,
   "metadata": {},
   "outputs": [],
   "source": [
    "# ## 시나리오 1: 리모델링\n",
    "# realEstateReturn_S1 = cal_return(14.5*1e8*1.065, 14*1e8)\n",
    "# stockReturn_S1 = cal_return((11-4)*1e8*1.2, (11-4)*1e8)\n",
    "# debitCost_S1 = cal_return((10)*1e8*1.04, (10)*1e8)\n",
    "\n",
    "# totlaReturn_S1 = cal_totalReturn(realEstateReturn_S1, stockReturn_S1, debitCost_S1)\n",
    "\n",
    "# ## 시나리오 2: 일반\n",
    "# realEstateReturn_S2 = cal_return(13.5*1e8*1.065, 13.5*1e8)\n",
    "# stockReturn_S2 = cal_return((11-4.1)*1e8*1.2, (11-4.1)*1e8)\n",
    "# debitCost_S2 = cal_return((9.5)*1e8*1.04, (9.5)*1e8)\n",
    "\n",
    "# totlaReturn_S2 = cal_totalReturn(realEstateReturn_S2, stockReturn_S2, debitCost_S2)\n",
    "\n",
    "# ## 시나리오 3: 하향\n",
    "# realEstateReturn_S3 = cal_return(10.7*1e8*1.065, 10.7*1e8)\n",
    "# stockReturn_S3 = cal_return((11-3.21)*1e8*1.2, (11-3.21)*1e8)\n",
    "# debitCost_S3 = cal_return((7.50)*1e8*1.04, (7.50)*1e8)\n",
    "\n",
    "# totlaReturn_S3 = cal_totalReturn(realEstateReturn_S3, stockReturn_S3, debitCost_S3)"
   ]
  },
  {
   "cell_type": "code",
   "execution_count": 59,
   "metadata": {},
   "outputs": [],
   "source": [
    "# minPropShare = 7*1e8\n",
    "# maxPropShare = kapital/0.4\n",
    "\n",
    "# propShare = 13.5*1e8\n",
    "# debit = propShare*0.6\n",
    "# stockShare = kapital - (propShare - debit)\n",
    "\n",
    "# realEstateReturn_S3 = cal_return(propShare*1.065, propShare)\n",
    "# stockReturn_S3 = cal_return(stockShare*1.2, stockShare)\n",
    "# debitCost_S3 = cal_return(debit*1.04, debit)\n",
    "\n",
    "# expectedReturn = cal_totalReturn(realEstateReturn_S3, stockReturn_S3, debitCost_S3)"
   ]
  },
  {
   "cell_type": "code",
   "execution_count": 81,
   "metadata": {},
   "outputs": [],
   "source": [
    "## 항상 1차 함수\n",
    "def portfolioSimulation(kapital):\n",
    "    propShare = 0\n",
    "    stockShare = 0\n",
    "    expectedReturn = 0\n",
    "    minPropShare = 0*1e8\n",
    "    maxPropShare = kapital/0.4\n",
    "    trace = []\n",
    "    for i in np.arange(minPropShare, maxPropShare, 1e7):\n",
    "        debit = i*0.75\n",
    "        j = kapital - (i - debit)\n",
    "        realEstateReturn = cal_return(i*(1+propYRR), i)\n",
    "        stockReturn = cal_return(j*(1+stockYRR), j)\n",
    "        debitCost = cal_return(debit*1.04, debit)\n",
    "        totalReturn = cal_totalReturn(realEstateReturn, stockReturn, debitCost)\n",
    "        trace.append([i, j, totalReturn])\n",
    "        if totalReturn > expectedReturn:\n",
    "            propShare = i\n",
    "            stockShare = j\n",
    "            expectedReturn = totalReturn\n",
    "    trace = pd.DataFrame(trace, columns=['PropShare', 'StockShare', 'ExpectedReturn'])\n",
    "    return propShare, stockShare, expectedReturn, trace"
   ]
  },
  {
   "cell_type": "code",
   "execution_count": 89,
   "metadata": {},
   "outputs": [
    {
     "data": {
      "text/plain": [
       "<Axes: xlabel='PropShare', ylabel='ExpectedReturn'>"
      ]
     },
     "execution_count": 89,
     "metadata": {},
     "output_type": "execute_result"
    },
    {
     "data": {
      "image/png": "[encoded data removed]",
      "text/plain": [
       "<Figure size 640x480 with 1 Axes>"
      ]
     },
     "metadata": {},
     "output_type": "display_data"
    }
   ],
   "source": [
    "## property share 별 연간 기대 수익(양의 기울기일 경우에만 매입)\n",
    "kapital=10*1e8\n",
    "optimalPropShare, optimalStockShare, optimalExpectedReturn, trace = portfolioSimulation(kapital)\n",
    "sns.scatterplot(data=trace, x='PropShare', y='ExpectedReturn')"
   ]
  },
  {
   "cell_type": "code",
   "execution_count": 90,
   "metadata": {},
   "outputs": [
    {
     "data": {
      "text/plain": [
       "0.14358936906214476"
      ]
     },
     "execution_count": 90,
     "metadata": {},
     "output_type": "execute_result"
    }
   ],
   "source": [
    "## 최대 차입시 자기자본이익률\n",
    "optimalExpectedReturn/kapital"
   ]
  },
  {
   "cell_type": "code",
   "execution_count": 91,
   "metadata": {},
   "outputs": [
    {
     "data": {
      "text/plain": [
       "0.10860375466193121"
      ]
     },
     "execution_count": 91,
     "metadata": {},
     "output_type": "execute_result"
    }
   ],
   "source": [
    "## stock 요구수익률\n",
    "(propYRR-0.6*0.04)/(1-0.6)"
   ]
  },
  {
   "cell_type": "code",
   "execution_count": 92,
   "metadata": {},
   "outputs": [
    {
     "data": {
      "text/plain": [
       "0.07736162057627699"
      ]
     },
     "execution_count": 92,
     "metadata": {},
     "output_type": "execute_result"
    }
   ],
   "source": [
    "## property 요구수익률\n",
    "0.4*stockYRR+0.6*0.04"
   ]
  },
  {
   "cell_type": "code",
   "execution_count": 93,
   "metadata": {},
   "outputs": [
    {
     "data": {
      "text/plain": [
       "0.7062065141553666"
      ]
     },
     "execution_count": 93,
     "metadata": {},
     "output_type": "execute_result"
    }
   ],
   "source": [
    "## property 최소 레버리지(expectedReturn 양수 조건)\n",
    "def calMinLeverage(stockYRR, propYRR, interestRate):\n",
    "    return (stockYRR-propYRR)/(stockYRR-interestRate)\n",
    "\n",
    "calMinLeverage(stockYRR, propYRR, interestRate=0.04)"
   ]
  },
  {
   "cell_type": "code",
   "execution_count": 76,
   "metadata": {},
   "outputs": [],
   "source": []
  },
  {
   "cell_type": "code",
   "execution_count": null,
   "metadata": {},
   "outputs": [],
   "source": []
  },
  {
   "cell_type": "code",
   "execution_count": null,
   "metadata": {},
   "outputs": [],
   "source": []
  },
  {
   "cell_type": "code",
   "execution_count": null,
   "metadata": {},
   "outputs": [],
   "source": []
  },
  {
   "cell_type": "code",
   "execution_count": null,
   "metadata": {},
   "outputs": [],
   "source": []
  }
 ],
 "metadata": {
  "kernelspec": {
   "display_name": ".venv",
   "language": "python",
   "name": "python3"
  },
  "language_info": {
   "codemirror_mode": {
    "name": "ipython",
    "version": 3
   },
   "file_extension": ".py",
   "mimetype": "text/x-python",
   "name": "python",
   "nbconvert_exporter": "python",
   "pygments_lexer": "ipython3",
   "version": "3.9.7"
  }
 },
 "nbformat": 4,
 "nbformat_minor": 2
}
