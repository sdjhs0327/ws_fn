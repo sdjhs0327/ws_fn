{
 "cells": [
  {
   "cell_type": "code",
   "execution_count": 2,
   "metadata": {},
   "outputs": [],
   "source": [
    "## 기본\n",
    "import pandas as pd\n",
    "import warnings\n",
    "warnings.filterwarnings('ignore')\n",
    "import numpy as np\n",
    "import os\n",
    "import random\n",
    "import time\n",
    "import itertools"
   ]
  },
  {
   "cell_type": "code",
   "execution_count": 3,
   "metadata": {},
   "outputs": [
    {
     "data": {
      "text/html": [
       "        <script type=\"text/javascript\">\n",
       "        window.PlotlyConfig = {MathJaxConfig: 'local'};\n",
       "        if (window.MathJax && window.MathJax.Hub && window.MathJax.Hub.Config) {window.MathJax.Hub.Config({SVG: {font: \"STIX-Web\"}});}\n",
       "        if (typeof require !== 'undefined') {\n",
       "        require.undef(\"plotly\");\n",
       "        requirejs.config({\n",
       "            paths: {\n",
       "                'plotly': ['https://cdn.plot.ly/plotly-2.27.0.min']\n",
       "            }\n",
       "        });\n",
       "        require(['plotly'], function(Plotly) {\n",
       "            window._Plotly = Plotly;\n",
       "        });\n",
       "        }\n",
       "        </script>\n",
       "        "
      ]
     },
     "metadata": {},
     "output_type": "display_data"
    }
   ],
   "source": [
    "# 시각화\n",
    "import plotly_express as px\n",
    "import plotly.figure_factory as ff\n",
    "import cufflinks as cf\n",
    "cf.go_offline(connected=True)\n",
    "## cf.getThemes()\n",
    "cf.set_config_file(theme='polar')\n",
    "import plotly.graph_objects as go\n",
    "\n",
    "import matplotlib\n",
    "%matplotlib inline\n",
    "\n",
    "import matplotlib.pyplot as plt\n",
    "import seaborn as sns\n",
    "sns.set_style('whitegrid')\n",
    "## plt.style.use(\"fivethirtyeight\")\n",
    "plt.rcParams['font.family'] = 'Malgun Gothic'\n",
    "plt.rcParams['axes.unicode_minus'] = False\n",
    "plt.rcParams[\"figure.figsize\"] = (10,6)"
   ]
  },
  {
   "cell_type": "code",
   "execution_count": 4,
   "metadata": {},
   "outputs": [],
   "source": [
    "class Portfolio(object):\n",
    "    def __init__(self, equity, max_debit, ltv, estate_err, stock_err, stock_leverage):\n",
    "        self.equity = equity\n",
    "        self.max_debit = max_debit\n",
    "        self.ltv = ltv\n",
    "        self.estate_err = estate_err\n",
    "        self.stock_err = stock_err\n",
    "        self.stock_leverage = stock_leverage\n",
    "\n",
    "        self.max_estate_price = self.max_debit/self.ltv ## 부동산 최대 구매가능 금액\n",
    "        self.estate_equity = self.max_estate_price-self.max_debit ## 부동산에 투입될 자기자본\n",
    "        self.stock_equity = self.equity-self.estate_equity ## 주식에 투입될 자기자본\n",
    "\n",
    "        self.equity_exp_ls = [(self.calc_estate_value(i), self.calc_stock_value(i), self.max_debit,\n",
    "                              self.calc_equity_exp(self.calc_estate_value(i), self.calc_stock_value(i)))\n",
    "                              for i in range(21)]\n",
    "        self.value_info = pd.DataFrame([self.equity, self.max_debit, self.max_estate_price, self.estate_equity, self.stock_equity],\n",
    "                                 index=['equity', 'debit', 'estate_price', 'estate_equity', 'stock_equity'], columns=['value'])\n",
    "        self.ratio_info = pd.DataFrame([self.ltv, self.estate_err, self.stock_err, self.stock_leverage],\n",
    "                                    index=['ltv', 'estate_err', 'stock_err', 'stock_leverage'], columns=['value']).astype(float)\n",
    "        self.simulation = pd.DataFrame(self.equity_exp_ls, columns=['estate_value', 'stock_value', 'debit', 'equity'])\n",
    "\n",
    "\n",
    "    ## 부동산기대가치 산출함수\n",
    "    def calc_estate_value(self, year):\n",
    "        return self.max_estate_price * (1+self.estate_err)**year\n",
    "    ## 주식기대가치 산출함수\n",
    "    def calc_stock_value(self, year):\n",
    "        return self.stock_equity * (1+self.stock_err*(1+self.stock_leverage))**year\n",
    "    def calc_equity_exp(self, estate_value_exp, stock_value_exp):\n",
    "        return estate_value_exp + stock_value_exp - self.max_debit\n"
   ]
  },
  {
   "cell_type": "code",
   "execution_count": 35,
   "metadata": {},
   "outputs": [],
   "source": [
    "## input\n",
    "equity = 11*1e8 # 자기자본\n",
    "max_debit = 7.5*1e8 # 최대대출가능금액\n",
    "ltv = 0.7 # 자산가격대비 최대대출비중\n",
    "estate_rate = 0.65 # 부동산 기대수익률\n",
    "stock_rate = 0.20 # 주식 기대수익률\n",
    "stock_leverage = 1 # 주식 레버리지"
   ]
  },
  {
   "cell_type": "code",
   "execution_count": 36,
   "metadata": {},
   "outputs": [],
   "source": [
    "portfolio = Portfolio(equity, max_debit, ltv, estate_rate, stock_rate, stock_leverage)"
   ]
  },
  {
   "cell_type": "code",
   "execution_count": 37,
   "metadata": {},
   "outputs": [
    {
     "data": {
      "text/html": [
       "<div>\n",
       "<style scoped>\n",
       "    .dataframe tbody tr th:only-of-type {\n",
       "        vertical-align: middle;\n",
       "    }\n",
       "\n",
       "    .dataframe tbody tr th {\n",
       "        vertical-align: top;\n",
       "    }\n",
       "\n",
       "    .dataframe thead th {\n",
       "        text-align: right;\n",
       "    }\n",
       "</style>\n",
       "<table border=\"1\" class=\"dataframe\">\n",
       "  <thead>\n",
       "    <tr style=\"text-align: right;\">\n",
       "      <th></th>\n",
       "      <th>value</th>\n",
       "    </tr>\n",
       "  </thead>\n",
       "  <tbody>\n",
       "    <tr>\n",
       "      <th>equity</th>\n",
       "      <td>11.00</td>\n",
       "    </tr>\n",
       "    <tr>\n",
       "      <th>debit</th>\n",
       "      <td>7.50</td>\n",
       "    </tr>\n",
       "    <tr>\n",
       "      <th>estate_price</th>\n",
       "      <td>10.71</td>\n",
       "    </tr>\n",
       "    <tr>\n",
       "      <th>estate_equity</th>\n",
       "      <td>3.21</td>\n",
       "    </tr>\n",
       "    <tr>\n",
       "      <th>stock_equity</th>\n",
       "      <td>7.79</td>\n",
       "    </tr>\n",
       "  </tbody>\n",
       "</table>\n",
       "</div>"
      ],
      "text/plain": [
       "               value\n",
       "equity         11.00\n",
       "debit           7.50\n",
       "estate_price   10.71\n",
       "estate_equity   3.21\n",
       "stock_equity    7.79"
      ]
     },
     "execution_count": 37,
     "metadata": {},
     "output_type": "execute_result"
    }
   ],
   "source": [
    "round(portfolio.value_info/1e8, 2)"
   ]
  },
  {
   "cell_type": "code",
   "execution_count": 14,
   "metadata": {},
   "outputs": [
    {
     "data": {
      "text/html": [
       "<div>\n",
       "<style scoped>\n",
       "    .dataframe tbody tr th:only-of-type {\n",
       "        vertical-align: middle;\n",
       "    }\n",
       "\n",
       "    .dataframe tbody tr th {\n",
       "        vertical-align: top;\n",
       "    }\n",
       "\n",
       "    .dataframe thead th {\n",
       "        text-align: right;\n",
       "    }\n",
       "</style>\n",
       "<table border=\"1\" class=\"dataframe\">\n",
       "  <thead>\n",
       "    <tr style=\"text-align: right;\">\n",
       "      <th></th>\n",
       "      <th>value</th>\n",
       "    </tr>\n",
       "  </thead>\n",
       "  <tbody>\n",
       "    <tr>\n",
       "      <th>ltv</th>\n",
       "      <td>60</td>\n",
       "    </tr>\n",
       "    <tr>\n",
       "      <th>estate_err</th>\n",
       "      <td>65</td>\n",
       "    </tr>\n",
       "    <tr>\n",
       "      <th>stock_err</th>\n",
       "      <td>20</td>\n",
       "    </tr>\n",
       "    <tr>\n",
       "      <th>stock_leverage</th>\n",
       "      <td>100</td>\n",
       "    </tr>\n",
       "  </tbody>\n",
       "</table>\n",
       "</div>"
      ],
      "text/plain": [
       "                value\n",
       "ltv                60\n",
       "estate_err         65\n",
       "stock_err          20\n",
       "stock_leverage    100"
      ]
     },
     "execution_count": 14,
     "metadata": {},
     "output_type": "execute_result"
    }
   ],
   "source": [
    "(portfolio.ratio_info*100).astype(int)"
   ]
  },
  {
   "cell_type": "code",
   "execution_count": 42,
   "metadata": {},
   "outputs": [
    {
     "data": {
      "text/html": [
       "<div>\n",
       "<style scoped>\n",
       "    .dataframe tbody tr th:only-of-type {\n",
       "        vertical-align: middle;\n",
       "    }\n",
       "\n",
       "    .dataframe tbody tr th {\n",
       "        vertical-align: top;\n",
       "    }\n",
       "\n",
       "    .dataframe thead th {\n",
       "        text-align: right;\n",
       "    }\n",
       "</style>\n",
       "<table border=\"1\" class=\"dataframe\">\n",
       "  <thead>\n",
       "    <tr style=\"text-align: right;\">\n",
       "      <th></th>\n",
       "      <th>estate_value</th>\n",
       "      <th>stock_value</th>\n",
       "      <th>debit</th>\n",
       "      <th>equity</th>\n",
       "    </tr>\n",
       "  </thead>\n",
       "  <tbody>\n",
       "    <tr>\n",
       "      <th>0</th>\n",
       "      <td>12.50</td>\n",
       "      <td>6.00</td>\n",
       "      <td>7.5</td>\n",
       "      <td>11.00</td>\n",
       "    </tr>\n",
       "    <tr>\n",
       "      <th>1</th>\n",
       "      <td>13.12</td>\n",
       "      <td>7.44</td>\n",
       "      <td>7.5</td>\n",
       "      <td>13.06</td>\n",
       "    </tr>\n",
       "    <tr>\n",
       "      <th>2</th>\n",
       "      <td>13.78</td>\n",
       "      <td>9.23</td>\n",
       "      <td>7.5</td>\n",
       "      <td>15.51</td>\n",
       "    </tr>\n",
       "    <tr>\n",
       "      <th>3</th>\n",
       "      <td>14.47</td>\n",
       "      <td>11.44</td>\n",
       "      <td>7.5</td>\n",
       "      <td>18.41</td>\n",
       "    </tr>\n",
       "    <tr>\n",
       "      <th>4</th>\n",
       "      <td>15.19</td>\n",
       "      <td>14.19</td>\n",
       "      <td>7.5</td>\n",
       "      <td>21.88</td>\n",
       "    </tr>\n",
       "  </tbody>\n",
       "</table>\n",
       "</div>"
      ],
      "text/plain": [
       "   estate_value  stock_value  debit  equity\n",
       "0         12.50         6.00    7.5   11.00\n",
       "1         13.12         7.44    7.5   13.06\n",
       "2         13.78         9.23    7.5   15.51\n",
       "3         14.47        11.44    7.5   18.41\n",
       "4         15.19        14.19    7.5   21.88"
      ]
     },
     "execution_count": 42,
     "metadata": {},
     "output_type": "execute_result"
    }
   ],
   "source": [
    "round(portfolio.simulation/1e8, 2).head(5)"
   ]
  },
  {
   "cell_type": "code",
   "execution_count": 43,
   "metadata": {},
   "outputs": [
    {
     "data": {
      "text/plain": [
       "<Axes: >"
      ]
     },
     "execution_count": 43,
     "metadata": {},
     "output_type": "execute_result"
    },
    {
     "data": {
      "image/png": "[encoded data removed]",
      "text/plain": [
       "<Figure size 1000x600 with 1 Axes>"
      ]
     },
     "metadata": {},
     "output_type": "display_data"
    }
   ],
   "source": [
    "portfolio.simulation.head(10).plot()"
   ]
  },
  {
   "cell_type": "code",
   "execution_count": null,
   "metadata": {},
   "outputs": [],
   "source": []
  }
 ],
 "metadata": {
  "kernelspec": {
   "display_name": ".venv",
   "language": "python",
   "name": "python3"
  },
  "language_info": {
   "codemirror_mode": {
    "name": "ipython",
    "version": 3
   },
   "file_extension": ".py",
   "mimetype": "text/x-python",
   "name": "python",
   "nbconvert_exporter": "python",
   "pygments_lexer": "ipython3",
   "version": "3.11.9"
  }
 },
 "nbformat": 4,
 "nbformat_minor": 2
}
