{
 "cells": [
  {
   "cell_type": "code",
   "execution_count": 1,
   "metadata": {},
   "outputs": [],
   "source": [
    "import pandas as pd\n",
    "import warnings\n",
    "warnings.filterwarnings('ignore')\n",
    "import numpy as np\n",
    "import random\n",
    "\n",
    "import yfinance as yf"
   ]
  },
  {
   "cell_type": "code",
   "execution_count": 2,
   "metadata": {},
   "outputs": [],
   "source": [
    "from pyts.image import GramianAngularField\n",
    "from pyts.image import MarkovTransitionField\n",
    "from pyts.image import RecurrencePlot"
   ]
  },
  {
   "cell_type": "code",
   "execution_count": 3,
   "metadata": {},
   "outputs": [
    {
     "data": {
      "text/html": [
       "        <script type=\"text/javascript\">\n",
       "        window.PlotlyConfig = {MathJaxConfig: 'local'};\n",
       "        if (window.MathJax && window.MathJax.Hub && window.MathJax.Hub.Config) {window.MathJax.Hub.Config({SVG: {font: \"STIX-Web\"}});}\n",
       "        if (typeof require !== 'undefined') {\n",
       "        require.undef(\"plotly\");\n",
       "        requirejs.config({\n",
       "            paths: {\n",
       "                'plotly': ['https://cdn.plot.ly/plotly-2.25.2.min']\n",
       "            }\n",
       "        });\n",
       "        require(['plotly'], function(Plotly) {\n",
       "            window._Plotly = Plotly;\n",
       "        });\n",
       "        }\n",
       "        </script>\n",
       "        "
      ]
     },
     "metadata": {},
     "output_type": "display_data"
    }
   ],
   "source": [
    "# 시각화 관련 ##\n",
    "import plotly_express as px\n",
    "import plotly.figure_factory as ff\n",
    "import cufflinks as cf\n",
    "cf.go_offline(connected=True)\n",
    "## cf.getThemes()\n",
    "cf.set_config_file(theme='polar')\n",
    "import plotly.graph_objects as go\n",
    "\n",
    "import matplotlib\n",
    "%matplotlib inline\n",
    "\n",
    "import matplotlib.pyplot as plt\n",
    "import seaborn as sns\n",
    "sns.set_style('whitegrid')\n",
    "## plt.style.use(\"fivethirtyeight\")\n",
    "plt.rcParams['font.family'] = 'Malgun Gothic'\n",
    "plt.rcParams['axes.unicode_minus'] = False\n",
    "plt.rcParams[\"figure.figsize\"] = (10,6)"
   ]
  },
  {
   "cell_type": "code",
   "execution_count": 4,
   "metadata": {},
   "outputs": [],
   "source": [
    "##절대경로 참조\n",
    "import sys, os\n",
    "sys.path.append(os.path.dirname(os.path.abspath(os.path.dirname('__file__'))))\n",
    "\n",
    "from library.quant_functions import anal_funcs, data_funcs"
   ]
  },
  {
   "cell_type": "code",
   "execution_count": 5,
   "metadata": {},
   "outputs": [],
   "source": [
    "## TS2IM\n",
    "def rec_plot(s,eps=0.01, steps=10):\n",
    "    N = s.size\n",
    "    S = np.repeat(s[None,:],N, axis=0)\n",
    "    Z = np.floor((S-S.T)/eps)\n",
    "    Z[Z>steps] = steps\n",
    "    return Z"
   ]
  },
  {
   "cell_type": "code",
   "execution_count": 6,
   "metadata": {},
   "outputs": [],
   "source": [
    "# Define the inputs\n",
    "dow_jones_url = 'https://en.wikipedia.org/wiki/Dow_Jones_Industrial_Average'\n",
    "dow_jones_table = pd.read_html(dow_jones_url)[1]\n",
    "dow_jones_tickers = dow_jones_table['Symbol'].tolist()"
   ]
  },
  {
   "cell_type": "code",
   "execution_count": null,
   "metadata": {},
   "outputs": [],
   "source": [
    "df = data_funcs.get_merged_df('^IXIC', '^GSPC', 'MMM', 'AXP', 'AMGN', 'AAPL', 'BA',\n",
    "                              'CAT', 'CVX', 'CSCO', 'KO', 'DIS', 'DOW', 'GS', 'HD',\n",
    "                              'HON', 'IBM', 'INTC', 'JNJ', 'JPM', 'MCD', 'MRK', 'MSFT',\n",
    "                              'NKE', 'PG', 'CRM', 'TRV', 'UNH', 'VZ', 'V', 'WBA', 'WMT')"
   ]
  },
  {
   "cell_type": "code",
   "execution_count": 7,
   "metadata": {},
   "outputs": [],
   "source": [
    "cols = df.columns"
   ]
  },
  {
   "cell_type": "code",
   "execution_count": 17,
   "metadata": {},
   "outputs": [],
   "source": [
    "for ticker in cols:\n",
    "    dataset = df[[ticker]].dropna().copy()\n",
    "    dataset['rets5'] = df[ticker].pct_change(5)\n",
    "    dataset['rets'] = df[ticker].pct_change()\n",
    "\n",
    "    ## threshold(1std)\n",
    "    upper = dataset['rets5'].mean() + 2*dataset['rets5'].std()\n",
    "    lower = dataset['rets5'].mean() - 2*dataset['rets5'].std()\n",
    "\n",
    "    upper_norm = dataset['rets5'].mean() + .5*dataset['rets5'].std()\n",
    "    lower_norm = dataset['rets5'].mean() - .5*dataset['rets5'].std()\n",
    "\n",
    "    ## threshold 이상 변동에 대해 레이블\n",
    "    dataset['label'] = 3\n",
    "    dataset['label'][dataset['rets5'] >= upper] = 2\n",
    "    dataset['label'][dataset['rets5'] <= lower] = 0\n",
    "    dataset['label'][(dataset['rets5'] >= lower_norm)&(dataset['rets5'] <= upper_norm)] = 1\n",
    "    dataset['label'] = dataset['label'].shift(-(5+1))\n",
    "\n",
    "    window_lens = 52\n",
    "    idxs = dataset.index[window_lens:]\n",
    "    sample_size = int(len(idxs)*.05)\n",
    "\n",
    "    sample0_index = random.sample(list(dataset[window_lens:][dataset['label'] == 0].index), int(sample_size*.3))\n",
    "    sample1_index = random.sample(list(dataset[window_lens:][dataset['label'] == 1].index), int(sample_size*.3))\n",
    "    sample2_index = random.sample(list(dataset[window_lens:][dataset['label'] == 2].index), int(sample_size*.3))\n",
    "\n",
    "    idxs = [sample0_index, sample1_index, sample2_index]\n",
    "    labels = ['bear', 'norm', 'bull']\n",
    "\n",
    "    save_path = 'D:/GC에이블/TS2IM/data'\n",
    "    for i, _idxs in enumerate(idxs):\n",
    "        label = labels[i]\n",
    "        for i, _idx in enumerate(_idxs):\n",
    "            ts = np.array(dataset['rets5'][:_idx].tail(window_lens))\n",
    "            img = rec_plot(ts, 0.001)\n",
    "            plt.imsave(f'{save_path}/{label}/{ticker}_{label}_{i}.jpg', img)\n",
    "            ##plt.imshow(img)\n",
    "            ## plt.show()"
   ]
  },
  {
   "cell_type": "code",
   "execution_count": 16,
   "metadata": {},
   "outputs": [
    {
     "data": {
      "image/png": "[encoded data removed]",
      "text/plain": [
       "<Figure size 1000x600 with 1 Axes>"
      ]
     },
     "metadata": {},
     "output_type": "display_data"
    }
   ],
   "source": [
    "plt.imshow(img)\n",
    "plt.show()"
   ]
  }
 ],
 "metadata": {
  "kernelspec": {
   "display_name": "local",
   "language": "python",
   "name": "python3"
  },
  "language_info": {
   "codemirror_mode": {
    "name": "ipython",
    "version": 3
   },
   "file_extension": ".py",
   "mimetype": "text/x-python",
   "name": "python",
   "nbconvert_exporter": "python",
   "pygments_lexer": "ipython3",
   "version": "3.11.4"
  },
  "orig_nbformat": 4
 },
 "nbformat": 4,
 "nbformat_minor": 2
}
