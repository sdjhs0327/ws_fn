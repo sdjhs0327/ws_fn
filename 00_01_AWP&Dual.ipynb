{
 "cells": [
  {
   "cell_type": "code",
   "execution_count": 2,
   "metadata": {
    "ExecuteTime": {
     "end_time": "2020-11-30T07:00:49.954774Z",
     "start_time": "2020-11-30T07:00:49.949788Z"
    }
   },
   "outputs": [
    {
     "ename": "ModuleNotFoundError",
     "evalue": "No module named 'yfinance'",
     "output_type": "error",
     "traceback": [
      "\u001b[1;31m---------------------------------------------------------------------------\u001b[0m",
      "\u001b[1;31mModuleNotFoundError\u001b[0m                       Traceback (most recent call last)",
      "Cell \u001b[1;32mIn[2], line 5\u001b[0m\n\u001b[0;32m      2\u001b[0m \u001b[39mimport\u001b[39;00m \u001b[39mwarnings\u001b[39;00m\n\u001b[0;32m      3\u001b[0m warnings\u001b[39m.\u001b[39mfilterwarnings(\u001b[39m'\u001b[39m\u001b[39mignore\u001b[39m\u001b[39m'\u001b[39m)\n\u001b[1;32m----> 5\u001b[0m \u001b[39mimport\u001b[39;00m \u001b[39myfinance\u001b[39;00m \u001b[39mas\u001b[39;00m \u001b[39myf\u001b[39;00m\n\u001b[0;32m      6\u001b[0m \u001b[39mimport\u001b[39;00m \u001b[39mnumpy\u001b[39;00m \u001b[39mas\u001b[39;00m \u001b[39mnp\u001b[39;00m\n",
      "\u001b[1;31mModuleNotFoundError\u001b[0m: No module named 'yfinance'"
     ]
    }
   ],
   "source": [
    "import pandas as pd\n",
    "import warnings\n",
    "warnings.filterwarnings('ignore')\n",
    "\n",
    "import yfinance as yf\n",
    "import numpy as np"
   ]
  },
  {
   "cell_type": "code",
   "execution_count": 2,
   "metadata": {
    "ExecuteTime": {
     "end_time": "2020-11-30T07:00:50.768155Z",
     "start_time": "2020-11-30T07:00:50.757186Z"
    }
   },
   "outputs": [
    {
     "data": {
      "text/html": [
       "        <script type=\"text/javascript\">\n",
       "        window.PlotlyConfig = {MathJaxConfig: 'local'};\n",
       "        if (window.MathJax) {MathJax.Hub.Config({SVG: {font: \"STIX-Web\"}});}\n",
       "        if (typeof require !== 'undefined') {\n",
       "        require.undef(\"plotly\");\n",
       "        requirejs.config({\n",
       "            paths: {\n",
       "                'plotly': ['https://cdn.plot.ly/plotly-latest.min']\n",
       "            }\n",
       "        });\n",
       "        require(['plotly'], function(Plotly) {\n",
       "            window._Plotly = Plotly;\n",
       "        });\n",
       "        }\n",
       "        </script>\n",
       "        "
      ]
     },
     "metadata": {},
     "output_type": "display_data"
    }
   ],
   "source": [
    "# 시각화 관련\n",
    "import plotly_express as px\n",
    "import plotly.figure_factory as ff\n",
    "# px를 쉽고 빠르게 붙여주는 모듈 cufflinks\n",
    "import cufflinks as cf\n",
    "cf.go_offline(connected=True)\n",
    "## cf.getThemes()\n",
    "cf.set_config_file(theme='polar')\n",
    "\n",
    "import plotly.graph_objects as go\n",
    "\n",
    "import matplotlib.pyplot as plt\n",
    "\n",
    "import datetime as dt"
   ]
  },
  {
   "cell_type": "code",
   "execution_count": 3,
   "metadata": {
    "ExecuteTime": {
     "end_time": "2020-11-30T07:00:51.557909Z",
     "start_time": "2020-11-30T07:00:51.517020Z"
    }
   },
   "outputs": [],
   "source": [
    "%run ../library/QUANT_FUNCTIONS.ipynb\n",
    "Q = QUANT()\n",
    "D = DATA()"
   ]
  },
  {
   "cell_type": "code",
   "execution_count": 4,
   "metadata": {
    "ExecuteTime": {
     "end_time": "2020-11-30T07:00:52.000779Z",
     "start_time": "2020-11-30T07:00:51.996791Z"
    }
   },
   "outputs": [],
   "source": [
    "## 조건1. 판단기간 -> 1개월, 3개월, 6개월 평균\n",
    "## 조건2. 양자산 모두 조건1에서 무위험 이하 -> 미 장기채"
   ]
  },
  {
   "cell_type": "markdown",
   "metadata": {},
   "source": [
    "###### 공통함수"
   ]
  },
  {
   "cell_type": "code",
   "execution_count": 5,
   "metadata": {
    "ExecuteTime": {
     "end_time": "2020-11-30T07:00:52.673988Z",
     "start_time": "2020-11-30T07:00:52.669998Z"
    }
   },
   "outputs": [],
   "source": [
    "## 수치형 데이터프레임을 시작점기준으로 지수화\n",
    "def index_values(df):\n",
    "    for i in df.columns:\n",
    "        if (df[i].dtype == float)|(df[i].dtype == int):\n",
    "            df[i] = df[i]/df[i][0]\n",
    "        else:\n",
    "            df[i] = df[i]\n",
    "    return df"
   ]
  },
  {
   "cell_type": "markdown",
   "metadata": {},
   "source": [
    "## 듀얼전략"
   ]
  },
  {
   "cell_type": "markdown",
   "metadata": {},
   "source": [
    "### 데이터 구성 함수"
   ]
  },
  {
   "cell_type": "code",
   "execution_count": 6,
   "metadata": {
    "ExecuteTime": {
     "end_time": "2020-11-30T07:00:53.642942Z",
     "start_time": "2020-11-30T07:00:53.636960Z"
    }
   },
   "outputs": [],
   "source": [
    "## 데이터 불러오기\n",
    "def get_dual_df(first_ticker, second_ticker, safe_ticker):\n",
    "    ## 주투자자산, 보조투자자산, 안전자산\n",
    "    first = yf.Ticker(first_ticker)\n",
    "    second= yf.Ticker(second_ticker)\n",
    "    safe = yf.Ticker(safe_ticker)\n",
    "\n",
    "    first_df = first.history(period=\"max\")\n",
    "    second_df = second.history(period=\"max\")\n",
    "    safe_df = safe.history(period=\"max\")\n",
    "    \n",
    "    df = pd.concat([first_df['Close'], second_df['Close'], safe_df['Close']], axis = 1)\n",
    "    df.columns = [first_ticker, second_ticker, safe_ticker]\n",
    "    df = df.dropna()\n",
    "    \n",
    "    return df"
   ]
  },
  {
   "cell_type": "markdown",
   "metadata": {},
   "source": [
    "### 듀얼전략 구현"
   ]
  },
  {
   "cell_type": "code",
   "execution_count": 7,
   "metadata": {
    "ExecuteTime": {
     "end_time": "2020-11-30T07:00:54.478740Z",
     "start_time": "2020-11-30T07:00:54.460848Z"
    }
   },
   "outputs": [],
   "source": [
    "### 1개월 수익률, 3개월 수익률, 6개월 수익률의 평균 산출함수\n",
    "def get_mpr(close):\n",
    "    ## get_signal()로 이어짐\n",
    "    df_cls = close\n",
    "    pr1 = np.log(df_cls/df_cls.shift(20))\n",
    "    pr3 = np.log(df_cls/df_cls.shift(60))\n",
    "    pr6 = np.log(df_cls/df_cls.shift(120))\n",
    "    df_pr = pd.concat([pr1, pr3, pr6], axis = 1)\n",
    "    mpr = df_pr.mean(axis=1)\n",
    "    return mpr\n",
    "\n",
    "def get_signal(df):\n",
    "    ## 금리2% 1개월 무위험수익률 ## 향후 기준금리 데이터 반영 가능\n",
    "    ## get_strategy_value()로 이어짐\n",
    "    nrr = 1.02**(1/12)\n",
    "    ## 1개월 3개월 6개월 무위험수익률 평균\n",
    "    thr = np.mean([nrr-1, (nrr**3)-1, (nrr**6)-1])\n",
    "    \n",
    "    first_ticker = df.columns[0]\n",
    "    second_ticker = df.columns[1]\n",
    "    safe_ticker = df.columns[2]\n",
    "    \n",
    "    first_df = get_mpr(df[first_ticker])\n",
    "    second_df = get_mpr(df[second_ticker])\n",
    "    safe_df = get_mpr(df[safe_ticker])\n",
    "    \n",
    "    signal_df = pd.concat([first_df, second_df, safe_df], axis=1)\n",
    "    signal_df.columns = [first_ticker, second_ticker, safe_ticker]\n",
    "    signal_df = signal_df.dropna()\n",
    "    ## 판단로직\n",
    "    signal_df['signal'] = safe_ticker\n",
    "    signal_df['signal'][(signal_df[first_ticker] > thr)|(signal_df[second_ticker] > thr)] = second_ticker\n",
    "    signal_df['signal'][(signal_df['signal'] ==second_ticker)&(signal_df[first_ticker] >= signal_df[second_ticker])] = first_ticker\n",
    "    \n",
    "    new_df = df.copy()\n",
    "    new_df['signal'] = signal_df['signal']\n",
    "    new_df['prev'] = new_df['signal'].shift(1)\n",
    "    \n",
    "    new_df['change'] = 0\n",
    "    new_df['change'][new_df['signal'] != new_df['prev']] = 1\n",
    "    new_df = new_df.dropna()\n",
    "    return new_df\n",
    "\n",
    "def get_strategy_value(df):\n",
    "    new_df = get_signal(df)\n",
    "    ## 시그널발생시 자산 교환 비율 산출\n",
    "    new_df['exchange_rate'] = 1.0\n",
    "    for i in range(len(new_df)):\n",
    "        if (new_df['change'][i] == 1)&(type(new_df['prev'][i]) == str):\n",
    "            new_df['exchange_rate'][i] = new_df[new_df['prev'][i]][i]/new_df[new_df['signal'][i]][i]         \n",
    "    ## 누적 교환비 산출\n",
    "    new_df['cum_exchange_rate'] = new_df['exchange_rate']\n",
    "    for i in range(len(new_df)):\n",
    "        new_df['cum_exchange_rate'][i] = new_df['exchange_rate'][:i+1].product()\n",
    "    ## 자산추이\n",
    "    new_df['strategy'] = 1.0\n",
    "    for i in range(len(new_df)):\n",
    "        new_df['strategy'][i] = new_df[new_df['signal'][i]][i]*new_df['cum_exchange_rate'][i]\n",
    "\n",
    "    first_ticker = df.columns[0]\n",
    "    second_ticker = df.columns[1]\n",
    "    safe_ticker = df.columns[2]\n",
    "    \n",
    "    result = new_df[[first_ticker, second_ticker, safe_ticker, 'strategy', 'signal']]\n",
    "    return result"
   ]
  },
  {
   "cell_type": "markdown",
   "metadata": {},
   "source": [
    "## 올웨더 전략"
   ]
  },
  {
   "cell_type": "markdown",
   "metadata": {},
   "source": [
    "### 데이터 불러오기"
   ]
  },
  {
   "cell_type": "code",
   "execution_count": 8,
   "metadata": {
    "ExecuteTime": {
     "end_time": "2020-11-30T07:00:55.996139Z",
     "start_time": "2020-11-30T07:00:55.989157Z"
    }
   },
   "outputs": [],
   "source": [
    "## 데이터 불러오기\n",
    "def get_AWP_df(first_ticker, second_ticker, fixed_ticker, gold_ticker, etc_ticker):\n",
    "    ## 주투자자산, 보조투자자산, 안전자산\n",
    "    first = yf.Ticker(first_ticker)\n",
    "    second= yf.Ticker(second_ticker)\n",
    "    fixed = yf.Ticker(fixed_ticker)\n",
    "    gold = yf.Ticker(gold_ticker)\n",
    "    etc = yf.Ticker(etc_ticker)\n",
    "\n",
    "    first_df = first.history(period=\"max\")\n",
    "    second_df = second.history(period=\"max\")\n",
    "    fixed_df = fixed.history(period=\"max\")\n",
    "    gold_df = gold.history(period=\"max\")\n",
    "    etc_df = etc.history(period=\"max\")\n",
    "    \n",
    "    df = pd.concat([first_df['Close'], second_df['Close'], fixed_df['Close'], gold_df['Close'], etc_df['Close']], axis = 1)\n",
    "    df.columns = [first_ticker, second_ticker, fixed_ticker, gold_ticker, etc_ticker]\n",
    "    df = df.dropna()\n",
    "    \n",
    "    return df"
   ]
  },
  {
   "cell_type": "markdown",
   "metadata": {},
   "source": [
    "### AWP전략 구현"
   ]
  },
  {
   "cell_type": "code",
   "execution_count": 9,
   "metadata": {
    "ExecuteTime": {
     "end_time": "2020-11-30T07:00:57.410394Z",
     "start_time": "2020-11-30T07:00:57.397392Z"
    },
    "code_folding": []
   },
   "outputs": [],
   "source": [
    "def cal_AWP(df, ratio = [0.5, 0.5], rebalancing=None, unit = None):\n",
    "    new_df = df.copy()\n",
    "    ## rebalancing 'm'월, 'y'연, \n",
    "    df_dict = []\n",
    "    ## 데이터 분할\n",
    "    years = sorted(new_df.index.year.unique())\n",
    "    months = sorted(new_df.index.month.unique())\n",
    "    \n",
    "    ## 가치변화 계산용(월단위 집계데이터로 계산할 때 발생하는 에러보정)\n",
    "    if (rebalancing == 'm')&(unit == 'monthly'):\n",
    "        temp_df = new_df.copy()\n",
    "        temp_df.index = temp_df.index - dt.timedelta(days=1)\n",
    "        new_df = new_df.append(temp_df)\n",
    "        new_df = new_df.sort_index()\n",
    "        new_df = new_df.shift(-1).dropna()\n",
    "        \n",
    "    if rebalancing == 'm' :\n",
    "        for year in years:\n",
    "            for month in months:\n",
    "                temp = new_df[(new_df.index.year == year)&(new_df.index.month == month)]\n",
    "                if len(temp) > 0:\n",
    "                    df_dict.append(temp)\n",
    "                    \n",
    "    elif rebalancing == 'y':\n",
    "        for year in years:\n",
    "            temp = new_df[(new_df.index.year == year)]\n",
    "            if len(temp) > 0:\n",
    "                df_dict.append(temp)\n",
    "    else:\n",
    "        df_dict.append(new_df)\n",
    "    ## 리벨런싱 적용\n",
    "    prev_val = 1\n",
    "    temp_series = pd.Series()\n",
    "    for i in range(len(df_dict)):    \n",
    "        temp = index_values(df_dict[i])\n",
    "        temp_AWP = (temp * ratio).sum(axis=1)*prev_val\n",
    "        prev_val = temp_AWP[-1]\n",
    "        temp_series = temp_series.append(temp_AWP)\n",
    "    new_df['strategy'] = temp_series\n",
    "    \n",
    "    ## 가치변화 계산용 임시 데이터프레임을 원래 형태로 되돌림\n",
    "    if (rebalancing == 'm')&(unit == 'monthly'):\n",
    "        new_df['temp_y'] = new_df.index.year\n",
    "        new_df['temp_m'] = new_df.index.month\n",
    "        new_df = new_df.drop_duplicates(['temp_y', 'temp_m'])\n",
    "        new_df = new_df.drop(columns=['temp_y', 'temp_m'])\n",
    "        new_df.index = df.index\n",
    "    \n",
    "    return new_df"
   ]
  },
  {
   "cell_type": "markdown",
   "metadata": {},
   "source": [
    "## 최적화"
   ]
  },
  {
   "cell_type": "code",
   "execution_count": 12,
   "metadata": {
    "ExecuteTime": {
     "end_time": "2020-11-30T07:00:58.377773Z",
     "start_time": "2020-11-30T07:00:58.366803Z"
    }
   },
   "outputs": [],
   "source": [
    "def cal_optimal(df, df_unit='monthly', rebalancing = 'm'):\n",
    "    ## df_unit 데이터 집계주기 : daily, monthly => 수익, 위험 연율화 계산에 사용\n",
    "    ## rebalancing 리벨런싱 주기 : None, m, y\n",
    "    pyrr = []     # 리스트 형태로 수익을 쌓을 장소\n",
    "    pydd = []     # 리스트 형태로 위험(표준편차)을 쌓을 장소\n",
    "    pstn = []\n",
    "    weghs = []\n",
    "\n",
    "    for p in range (10000):\n",
    "        if p%10 == 0:\n",
    "            print(f\"{p}단계 진행중\")\n",
    "        weights = np.random.random(len(df.T))   # 랜덤한 n개의 숫자를 생성함(n개의 자산에 대응)\n",
    "        weights /= np.sum(weights)     # n개의 숫자의 합계가 1이 되도록 조정함(각 자산의 비중)\n",
    "\n",
    "        result_df = cal_AWP(df, weights, rebalancing=rebalancing, unit=df_unit)\n",
    "        sortino = Q.get_SRTR_report(result_df, 'a', unit=df_unit)\n",
    "\n",
    "        pyrr.append(sortino['YRR'][len(sortino)-1])\n",
    "        pydd.append(sortino['YDD'][len(sortino)-1])\n",
    "        pstn.append(sortino['Sortino Ratio'][len(sortino)-1])\n",
    "        weghs.append(weights)\n",
    "\n",
    "    pyrr = np.array(pyrr)\n",
    "    pydd = np.array(pydd)\n",
    "    pstn = np.array(pstn)\n",
    "    weghs = np.array(weghs)\n",
    "\n",
    "    process = pd.DataFrame(weghs, columns=df.columns)\n",
    "    process['YRR'] = pyrr\n",
    "    process['YDD'] = pydd\n",
    "    process['Sortino Ratio'] = pstn\n",
    "    \n",
    "    obtimal = process[process['Sortino Ratio']==process['Sortino Ratio'].max()]\n",
    "    obtimal = obtimal.reset_index(drop=True)\n",
    "    min_risk = process[process['YDD']==process['YDD'].min()]\n",
    "    min_risk = min_risk.reset_index(drop=True)\n",
    "\n",
    "    return process, obtimal, min_risk"
   ]
  },
  {
   "cell_type": "markdown",
   "metadata": {},
   "source": [
    "## 활용"
   ]
  },
  {
   "cell_type": "code",
   "execution_count": 11,
   "metadata": {},
   "outputs": [],
   "source": [
    "## 올웨더 최적화 ## TQQQ;*3 TYD;7~10,*3 ## TMF;20+,*3 ## IAU;금,*1 ## DBC;원자재*1\n",
    "AWP_df = D.get_merged_df('SPY', 'QQQ', 'VEA', 'VWO', 'TLT', 'IEF', 'SHY', 'IAU', 'DBC')\n",
    "AWP_df = AWP_df.dropna()\n",
    "## 백데이터 기간정의(10년 2600일)\n",
    "## AWP_df = AWP_df.iloc[-2515:]"
   ]
  },
  {
   "cell_type": "code",
   "execution_count": 13,
   "metadata": {
    "ExecuteTime": {
     "end_time": "2020-11-30T07:16:02.795277Z",
     "start_time": "2020-11-30T07:02:12.157357Z"
    },
    "scrolled": true
   },
   "outputs": [
    {
     "name": "stdout",
     "output_type": "stream",
     "text": [
      "0단계 진행중\n",
      "10단계 진행중\n",
      "20단계 진행중\n",
      "30단계 진행중\n",
      "40단계 진행중\n",
      "50단계 진행중\n",
      "60단계 진행중\n",
      "70단계 진행중\n",
      "80단계 진행중\n",
      "90단계 진행중\n",
      "100단계 진행중\n",
      "110단계 진행중\n",
      "120단계 진행중\n",
      "130단계 진행중\n",
      "140단계 진행중\n",
      "150단계 진행중\n",
      "160단계 진행중\n",
      "170단계 진행중\n",
      "180단계 진행중\n",
      "190단계 진행중\n",
      "200단계 진행중\n",
      "210단계 진행중\n",
      "220단계 진행중\n",
      "230단계 진행중\n",
      "240단계 진행중\n",
      "250단계 진행중\n",
      "260단계 진행중\n",
      "270단계 진행중\n",
      "280단계 진행중\n",
      "290단계 진행중\n",
      "300단계 진행중\n",
      "310단계 진행중\n",
      "320단계 진행중\n",
      "330단계 진행중\n",
      "340단계 진행중\n",
      "350단계 진행중\n",
      "360단계 진행중\n",
      "370단계 진행중\n",
      "380단계 진행중\n",
      "390단계 진행중\n",
      "400단계 진행중\n",
      "410단계 진행중\n",
      "420단계 진행중\n",
      "430단계 진행중\n",
      "440단계 진행중\n",
      "450단계 진행중\n",
      "460단계 진행중\n",
      "470단계 진행중\n",
      "480단계 진행중\n",
      "490단계 진행중\n",
      "500단계 진행중\n",
      "510단계 진행중\n",
      "520단계 진행중\n",
      "530단계 진행중\n",
      "540단계 진행중\n",
      "550단계 진행중\n",
      "560단계 진행중\n",
      "570단계 진행중\n",
      "580단계 진행중\n",
      "590단계 진행중\n",
      "600단계 진행중\n",
      "610단계 진행중\n",
      "620단계 진행중\n",
      "630단계 진행중\n",
      "640단계 진행중\n",
      "650단계 진행중\n",
      "660단계 진행중\n",
      "670단계 진행중\n",
      "680단계 진행중\n",
      "690단계 진행중\n",
      "700단계 진행중\n",
      "710단계 진행중\n",
      "720단계 진행중\n",
      "730단계 진행중\n",
      "740단계 진행중\n",
      "750단계 진행중\n",
      "760단계 진행중\n",
      "770단계 진행중\n",
      "780단계 진행중\n",
      "790단계 진행중\n",
      "800단계 진행중\n",
      "810단계 진행중\n",
      "820단계 진행중\n",
      "830단계 진행중\n",
      "840단계 진행중\n",
      "850단계 진행중\n",
      "860단계 진행중\n",
      "870단계 진행중\n",
      "880단계 진행중\n",
      "890단계 진행중\n",
      "900단계 진행중\n",
      "910단계 진행중\n",
      "920단계 진행중\n",
      "930단계 진행중\n",
      "940단계 진행중\n",
      "950단계 진행중\n",
      "960단계 진행중\n",
      "970단계 진행중\n",
      "980단계 진행중\n",
      "990단계 진행중\n",
      "1000단계 진행중\n",
      "1010단계 진행중\n",
      "1020단계 진행중\n",
      "1030단계 진행중\n",
      "1040단계 진행중\n",
      "1050단계 진행중\n",
      "1060단계 진행중\n",
      "1070단계 진행중\n",
      "1080단계 진행중\n",
      "1090단계 진행중\n",
      "1100단계 진행중\n",
      "1110단계 진행중\n",
      "1120단계 진행중\n",
      "1130단계 진행중\n",
      "1140단계 진행중\n",
      "1150단계 진행중\n",
      "1160단계 진행중\n",
      "1170단계 진행중\n",
      "1180단계 진행중\n",
      "1190단계 진행중\n",
      "1200단계 진행중\n",
      "1210단계 진행중\n",
      "1220단계 진행중\n",
      "1230단계 진행중\n",
      "1240단계 진행중\n",
      "1250단계 진행중\n",
      "1260단계 진행중\n",
      "1270단계 진행중\n",
      "1280단계 진행중\n",
      "1290단계 진행중\n",
      "1300단계 진행중\n",
      "1310단계 진행중\n",
      "1320단계 진행중\n",
      "1330단계 진행중\n",
      "1340단계 진행중\n",
      "1350단계 진행중\n",
      "1360단계 진행중\n",
      "1370단계 진행중\n",
      "1380단계 진행중\n",
      "1390단계 진행중\n",
      "1400단계 진행중\n",
      "1410단계 진행중\n",
      "1420단계 진행중\n",
      "1430단계 진행중\n",
      "1440단계 진행중\n",
      "1450단계 진행중\n",
      "1460단계 진행중\n",
      "1470단계 진행중\n",
      "1480단계 진행중\n",
      "1490단계 진행중\n",
      "1500단계 진행중\n",
      "1510단계 진행중\n",
      "1520단계 진행중\n",
      "1530단계 진행중\n",
      "1540단계 진행중\n",
      "1550단계 진행중\n",
      "1560단계 진행중\n",
      "1570단계 진행중\n",
      "1580단계 진행중\n",
      "1590단계 진행중\n",
      "1600단계 진행중\n",
      "1610단계 진행중\n",
      "1620단계 진행중\n",
      "1630단계 진행중\n",
      "1640단계 진행중\n",
      "1650단계 진행중\n",
      "1660단계 진행중\n",
      "1670단계 진행중\n",
      "1680단계 진행중\n",
      "1690단계 진행중\n",
      "1700단계 진행중\n",
      "1710단계 진행중\n",
      "1720단계 진행중\n",
      "1730단계 진행중\n",
      "1740단계 진행중\n",
      "1750단계 진행중\n",
      "1760단계 진행중\n",
      "1770단계 진행중\n",
      "1780단계 진행중\n",
      "1790단계 진행중\n",
      "1800단계 진행중\n",
      "1810단계 진행중\n",
      "1820단계 진행중\n",
      "1830단계 진행중\n",
      "1840단계 진행중\n",
      "1850단계 진행중\n",
      "1860단계 진행중\n",
      "1870단계 진행중\n",
      "1880단계 진행중\n",
      "1890단계 진행중\n",
      "1900단계 진행중\n",
      "1910단계 진행중\n",
      "1920단계 진행중\n",
      "1930단계 진행중\n",
      "1940단계 진행중\n",
      "1950단계 진행중\n",
      "1960단계 진행중\n",
      "1970단계 진행중\n",
      "1980단계 진행중\n",
      "1990단계 진행중\n",
      "2000단계 진행중\n",
      "2010단계 진행중\n",
      "2020단계 진행중\n",
      "2030단계 진행중\n",
      "2040단계 진행중\n",
      "2050단계 진행중\n",
      "2060단계 진행중\n",
      "2070단계 진행중\n",
      "2080단계 진행중\n",
      "2090단계 진행중\n",
      "2100단계 진행중\n",
      "2110단계 진행중\n",
      "2120단계 진행중\n",
      "2130단계 진행중\n",
      "2140단계 진행중\n",
      "2150단계 진행중\n",
      "2160단계 진행중\n",
      "2170단계 진행중\n",
      "2180단계 진행중\n",
      "2190단계 진행중\n",
      "2200단계 진행중\n",
      "2210단계 진행중\n",
      "2220단계 진행중\n",
      "2230단계 진행중\n",
      "2240단계 진행중\n",
      "2250단계 진행중\n",
      "2260단계 진행중\n",
      "2270단계 진행중\n",
      "2280단계 진행중\n",
      "2290단계 진행중\n",
      "2300단계 진행중\n",
      "2310단계 진행중\n",
      "2320단계 진행중\n",
      "2330단계 진행중\n",
      "2340단계 진행중\n",
      "2350단계 진행중\n",
      "2360단계 진행중\n",
      "2370단계 진행중\n",
      "2380단계 진행중\n",
      "2390단계 진행중\n",
      "2400단계 진행중\n",
      "2410단계 진행중\n",
      "2420단계 진행중\n",
      "2430단계 진행중\n",
      "2440단계 진행중\n",
      "2450단계 진행중\n",
      "2460단계 진행중\n",
      "2470단계 진행중\n",
      "2480단계 진행중\n",
      "2490단계 진행중\n",
      "2500단계 진행중\n",
      "2510단계 진행중\n",
      "2520단계 진행중\n",
      "2530단계 진행중\n",
      "2540단계 진행중\n",
      "2550단계 진행중\n",
      "2560단계 진행중\n",
      "2570단계 진행중\n",
      "2580단계 진행중\n",
      "2590단계 진행중\n",
      "2600단계 진행중\n",
      "2610단계 진행중\n",
      "2620단계 진행중\n",
      "2630단계 진행중\n",
      "2640단계 진행중\n",
      "2650단계 진행중\n",
      "2660단계 진행중\n",
      "2670단계 진행중\n",
      "2680단계 진행중\n",
      "2690단계 진행중\n",
      "2700단계 진행중\n",
      "2710단계 진행중\n",
      "2720단계 진행중\n",
      "2730단계 진행중\n",
      "2740단계 진행중\n",
      "2750단계 진행중\n",
      "2760단계 진행중\n",
      "2770단계 진행중\n",
      "2780단계 진행중\n",
      "2790단계 진행중\n",
      "2800단계 진행중\n",
      "2810단계 진행중\n",
      "2820단계 진행중\n",
      "2830단계 진행중\n",
      "2840단계 진행중\n",
      "2850단계 진행중\n",
      "2860단계 진행중\n",
      "2870단계 진행중\n",
      "2880단계 진행중\n",
      "2890단계 진행중\n",
      "2900단계 진행중\n",
      "2910단계 진행중\n",
      "2920단계 진행중\n",
      "2930단계 진행중\n",
      "2940단계 진행중\n",
      "2950단계 진행중\n",
      "2960단계 진행중\n",
      "2970단계 진행중\n",
      "2980단계 진행중\n",
      "2990단계 진행중\n",
      "3000단계 진행중\n",
      "3010단계 진행중\n",
      "3020단계 진행중\n",
      "3030단계 진행중\n",
      "3040단계 진행중\n",
      "3050단계 진행중\n",
      "3060단계 진행중\n",
      "3070단계 진행중\n",
      "3080단계 진행중\n",
      "3090단계 진행중\n",
      "3100단계 진행중\n",
      "3110단계 진행중\n",
      "3120단계 진행중\n",
      "3130단계 진행중\n",
      "3140단계 진행중\n",
      "3150단계 진행중\n",
      "3160단계 진행중\n",
      "3170단계 진행중\n",
      "3180단계 진행중\n",
      "3190단계 진행중\n",
      "3200단계 진행중\n",
      "3210단계 진행중\n",
      "3220단계 진행중\n",
      "3230단계 진행중\n",
      "3240단계 진행중\n",
      "3250단계 진행중\n",
      "3260단계 진행중\n",
      "3270단계 진행중\n",
      "3280단계 진행중\n",
      "3290단계 진행중\n",
      "3300단계 진행중\n",
      "3310단계 진행중\n",
      "3320단계 진행중\n",
      "3330단계 진행중\n",
      "3340단계 진행중\n",
      "3350단계 진행중\n",
      "3360단계 진행중\n",
      "3370단계 진행중\n",
      "3380단계 진행중\n",
      "3390단계 진행중\n",
      "3400단계 진행중\n",
      "3410단계 진행중\n",
      "3420단계 진행중\n",
      "3430단계 진행중\n",
      "3440단계 진행중\n",
      "3450단계 진행중\n",
      "3460단계 진행중\n",
      "3470단계 진행중\n",
      "3480단계 진행중\n",
      "3490단계 진행중\n",
      "3500단계 진행중\n",
      "3510단계 진행중\n",
      "3520단계 진행중\n",
      "3530단계 진행중\n",
      "3540단계 진행중\n",
      "3550단계 진행중\n",
      "3560단계 진행중\n",
      "3570단계 진행중\n",
      "3580단계 진행중\n",
      "3590단계 진행중\n",
      "3600단계 진행중\n",
      "3610단계 진행중\n",
      "3620단계 진행중\n",
      "3630단계 진행중\n",
      "3640단계 진행중\n",
      "3650단계 진행중\n",
      "3660단계 진행중\n",
      "3670단계 진행중\n",
      "3680단계 진행중\n",
      "3690단계 진행중\n",
      "3700단계 진행중\n",
      "3710단계 진행중\n",
      "3720단계 진행중\n",
      "3730단계 진행중\n",
      "3740단계 진행중\n",
      "3750단계 진행중\n",
      "3760단계 진행중\n",
      "3770단계 진행중\n",
      "3780단계 진행중\n",
      "3790단계 진행중\n",
      "3800단계 진행중\n",
      "3810단계 진행중\n",
      "3820단계 진행중\n",
      "3830단계 진행중\n",
      "3840단계 진행중\n",
      "3850단계 진행중\n",
      "3860단계 진행중\n",
      "3870단계 진행중\n",
      "3880단계 진행중\n",
      "3890단계 진행중\n",
      "3900단계 진행중\n",
      "3910단계 진행중\n",
      "3920단계 진행중\n",
      "3930단계 진행중\n",
      "3940단계 진행중\n",
      "3950단계 진행중\n",
      "3960단계 진행중\n",
      "3970단계 진행중\n",
      "3980단계 진행중\n",
      "3990단계 진행중\n",
      "4000단계 진행중\n",
      "4010단계 진행중\n",
      "4020단계 진행중\n",
      "4030단계 진행중\n",
      "4040단계 진행중\n",
      "4050단계 진행중\n",
      "4060단계 진행중\n",
      "4070단계 진행중\n",
      "4080단계 진행중\n",
      "4090단계 진행중\n",
      "4100단계 진행중\n",
      "4110단계 진행중\n",
      "4120단계 진행중\n",
      "4130단계 진행중\n",
      "4140단계 진행중\n",
      "4150단계 진행중\n",
      "4160단계 진행중\n",
      "4170단계 진행중\n",
      "4180단계 진행중\n",
      "4190단계 진행중\n",
      "4200단계 진행중\n",
      "4210단계 진행중\n",
      "4220단계 진행중\n",
      "4230단계 진행중\n",
      "4240단계 진행중\n",
      "4250단계 진행중\n",
      "4260단계 진행중\n",
      "4270단계 진행중\n",
      "4280단계 진행중\n",
      "4290단계 진행중\n",
      "4300단계 진행중\n",
      "4310단계 진행중\n",
      "4320단계 진행중\n",
      "4330단계 진행중\n",
      "4340단계 진행중\n",
      "4350단계 진행중\n",
      "4360단계 진행중\n",
      "4370단계 진행중\n",
      "4380단계 진행중\n",
      "4390단계 진행중\n",
      "4400단계 진행중\n",
      "4410단계 진행중\n",
      "4420단계 진행중\n",
      "4430단계 진행중\n",
      "4440단계 진행중\n",
      "4450단계 진행중\n",
      "4460단계 진행중\n",
      "4470단계 진행중\n",
      "4480단계 진행중\n",
      "4490단계 진행중\n",
      "4500단계 진행중\n",
      "4510단계 진행중\n",
      "4520단계 진행중\n",
      "4530단계 진행중\n",
      "4540단계 진행중\n",
      "4550단계 진행중\n",
      "4560단계 진행중\n",
      "4570단계 진행중\n",
      "4580단계 진행중\n",
      "4590단계 진행중\n",
      "4600단계 진행중\n",
      "4610단계 진행중\n",
      "4620단계 진행중\n",
      "4630단계 진행중\n",
      "4640단계 진행중\n",
      "4650단계 진행중\n",
      "4660단계 진행중\n",
      "4670단계 진행중\n",
      "4680단계 진행중\n",
      "4690단계 진행중\n",
      "4700단계 진행중\n",
      "4710단계 진행중\n",
      "4720단계 진행중\n",
      "4730단계 진행중\n",
      "4740단계 진행중\n",
      "4750단계 진행중\n",
      "4760단계 진행중\n",
      "4770단계 진행중\n",
      "4780단계 진행중\n",
      "4790단계 진행중\n",
      "4800단계 진행중\n",
      "4810단계 진행중\n",
      "4820단계 진행중\n",
      "4830단계 진행중\n",
      "4840단계 진행중\n",
      "4850단계 진행중\n",
      "4860단계 진행중\n",
      "4870단계 진행중\n",
      "4880단계 진행중\n",
      "4890단계 진행중\n",
      "4900단계 진행중\n",
      "4910단계 진행중\n",
      "4920단계 진행중\n",
      "4930단계 진행중\n",
      "4940단계 진행중\n",
      "4950단계 진행중\n",
      "4960단계 진행중\n",
      "4970단계 진행중\n",
      "4980단계 진행중\n",
      "4990단계 진행중\n",
      "5000단계 진행중\n",
      "5010단계 진행중\n",
      "5020단계 진행중\n",
      "5030단계 진행중\n",
      "5040단계 진행중\n",
      "5050단계 진행중\n",
      "5060단계 진행중\n",
      "5070단계 진행중\n",
      "5080단계 진행중\n",
      "5090단계 진행중\n",
      "5100단계 진행중\n",
      "5110단계 진행중\n",
      "5120단계 진행중\n",
      "5130단계 진행중\n",
      "5140단계 진행중\n",
      "5150단계 진행중\n",
      "5160단계 진행중\n",
      "5170단계 진행중\n",
      "5180단계 진행중\n",
      "5190단계 진행중\n",
      "5200단계 진행중\n",
      "5210단계 진행중\n",
      "5220단계 진행중\n",
      "5230단계 진행중\n",
      "5240단계 진행중\n",
      "5250단계 진행중\n",
      "5260단계 진행중\n",
      "5270단계 진행중\n",
      "5280단계 진행중\n",
      "5290단계 진행중\n",
      "5300단계 진행중\n",
      "5310단계 진행중\n",
      "5320단계 진행중\n",
      "5330단계 진행중\n",
      "5340단계 진행중\n",
      "5350단계 진행중\n",
      "5360단계 진행중\n",
      "5370단계 진행중\n",
      "5380단계 진행중\n",
      "5390단계 진행중\n",
      "5400단계 진행중\n",
      "5410단계 진행중\n",
      "5420단계 진행중\n",
      "5430단계 진행중\n",
      "5440단계 진행중\n",
      "5450단계 진행중\n",
      "5460단계 진행중\n",
      "5470단계 진행중\n",
      "5480단계 진행중\n",
      "5490단계 진행중\n",
      "5500단계 진행중\n",
      "5510단계 진행중\n",
      "5520단계 진행중\n",
      "5530단계 진행중\n",
      "5540단계 진행중\n",
      "5550단계 진행중\n",
      "5560단계 진행중\n",
      "5570단계 진행중\n",
      "5580단계 진행중\n",
      "5590단계 진행중\n",
      "5600단계 진행중\n",
      "5610단계 진행중\n",
      "5620단계 진행중\n",
      "5630단계 진행중\n",
      "5640단계 진행중\n",
      "5650단계 진행중\n",
      "5660단계 진행중\n",
      "5670단계 진행중\n",
      "5680단계 진행중\n",
      "5690단계 진행중\n",
      "5700단계 진행중\n",
      "5710단계 진행중\n",
      "5720단계 진행중\n",
      "5730단계 진행중\n",
      "5740단계 진행중\n",
      "5750단계 진행중\n",
      "5760단계 진행중\n",
      "5770단계 진행중\n",
      "5780단계 진행중\n",
      "5790단계 진행중\n",
      "5800단계 진행중\n",
      "5810단계 진행중\n",
      "5820단계 진행중\n",
      "5830단계 진행중\n",
      "5840단계 진행중\n",
      "5850단계 진행중\n",
      "5860단계 진행중\n",
      "5870단계 진행중\n",
      "5880단계 진행중\n",
      "5890단계 진행중\n",
      "5900단계 진행중\n",
      "5910단계 진행중\n",
      "5920단계 진행중\n",
      "5930단계 진행중\n",
      "5940단계 진행중\n",
      "5950단계 진행중\n",
      "5960단계 진행중\n",
      "5970단계 진행중\n",
      "5980단계 진행중\n",
      "5990단계 진행중\n",
      "6000단계 진행중\n",
      "6010단계 진행중\n",
      "6020단계 진행중\n",
      "6030단계 진행중\n",
      "6040단계 진행중\n",
      "6050단계 진행중\n",
      "6060단계 진행중\n",
      "6070단계 진행중\n",
      "6080단계 진행중\n",
      "6090단계 진행중\n",
      "6100단계 진행중\n",
      "6110단계 진행중\n",
      "6120단계 진행중\n",
      "6130단계 진행중\n",
      "6140단계 진행중\n",
      "6150단계 진행중\n",
      "6160단계 진행중\n",
      "6170단계 진행중\n",
      "6180단계 진행중\n",
      "6190단계 진행중\n",
      "6200단계 진행중\n",
      "6210단계 진행중\n",
      "6220단계 진행중\n",
      "6230단계 진행중\n",
      "6240단계 진행중\n",
      "6250단계 진행중\n",
      "6260단계 진행중\n",
      "6270단계 진행중\n",
      "6280단계 진행중\n",
      "6290단계 진행중\n",
      "6300단계 진행중\n",
      "6310단계 진행중\n",
      "6320단계 진행중\n",
      "6330단계 진행중\n",
      "6340단계 진행중\n",
      "6350단계 진행중\n",
      "6360단계 진행중\n",
      "6370단계 진행중\n",
      "6380단계 진행중\n",
      "6390단계 진행중\n",
      "6400단계 진행중\n",
      "6410단계 진행중\n",
      "6420단계 진행중\n",
      "6430단계 진행중\n",
      "6440단계 진행중\n",
      "6450단계 진행중\n",
      "6460단계 진행중\n",
      "6470단계 진행중\n",
      "6480단계 진행중\n",
      "6490단계 진행중\n",
      "6500단계 진행중\n",
      "6510단계 진행중\n",
      "6520단계 진행중\n",
      "6530단계 진행중\n",
      "6540단계 진행중\n",
      "6550단계 진행중\n",
      "6560단계 진행중\n",
      "6570단계 진행중\n",
      "6580단계 진행중\n",
      "6590단계 진행중\n",
      "6600단계 진행중\n",
      "6610단계 진행중\n",
      "6620단계 진행중\n",
      "6630단계 진행중\n",
      "6640단계 진행중\n",
      "6650단계 진행중\n",
      "6660단계 진행중\n",
      "6670단계 진행중\n",
      "6680단계 진행중\n",
      "6690단계 진행중\n",
      "6700단계 진행중\n",
      "6710단계 진행중\n",
      "6720단계 진행중\n",
      "6730단계 진행중\n",
      "6740단계 진행중\n",
      "6750단계 진행중\n",
      "6760단계 진행중\n",
      "6770단계 진행중\n",
      "6780단계 진행중\n",
      "6790단계 진행중\n",
      "6800단계 진행중\n",
      "6810단계 진행중\n",
      "6820단계 진행중\n",
      "6830단계 진행중\n",
      "6840단계 진행중\n",
      "6850단계 진행중\n",
      "6860단계 진행중\n",
      "6870단계 진행중\n",
      "6880단계 진행중\n",
      "6890단계 진행중\n",
      "6900단계 진행중\n",
      "6910단계 진행중\n",
      "6920단계 진행중\n",
      "6930단계 진행중\n",
      "6940단계 진행중\n",
      "6950단계 진행중\n",
      "6960단계 진행중\n",
      "6970단계 진행중\n",
      "6980단계 진행중\n",
      "6990단계 진행중\n",
      "7000단계 진행중\n",
      "7010단계 진행중\n",
      "7020단계 진행중\n",
      "7030단계 진행중\n",
      "7040단계 진행중\n",
      "7050단계 진행중\n",
      "7060단계 진행중\n",
      "7070단계 진행중\n",
      "7080단계 진행중\n",
      "7090단계 진행중\n",
      "7100단계 진행중\n",
      "7110단계 진행중\n",
      "7120단계 진행중\n",
      "7130단계 진행중\n",
      "7140단계 진행중\n",
      "7150단계 진행중\n",
      "7160단계 진행중\n",
      "7170단계 진행중\n",
      "7180단계 진행중\n",
      "7190단계 진행중\n",
      "7200단계 진행중\n",
      "7210단계 진행중\n",
      "7220단계 진행중\n",
      "7230단계 진행중\n",
      "7240단계 진행중\n",
      "7250단계 진행중\n",
      "7260단계 진행중\n",
      "7270단계 진행중\n",
      "7280단계 진행중\n",
      "7290단계 진행중\n",
      "7300단계 진행중\n",
      "7310단계 진행중\n",
      "7320단계 진행중\n",
      "7330단계 진행중\n",
      "7340단계 진행중\n",
      "7350단계 진행중\n",
      "7360단계 진행중\n",
      "7370단계 진행중\n",
      "7380단계 진행중\n",
      "7390단계 진행중\n",
      "7400단계 진행중\n",
      "7410단계 진행중\n",
      "7420단계 진행중\n",
      "7430단계 진행중\n",
      "7440단계 진행중\n",
      "7450단계 진행중\n",
      "7460단계 진행중\n",
      "7470단계 진행중\n",
      "7480단계 진행중\n",
      "7490단계 진행중\n",
      "7500단계 진행중\n",
      "7510단계 진행중\n",
      "7520단계 진행중\n",
      "7530단계 진행중\n",
      "7540단계 진행중\n"
     ]
    },
    {
     "name": "stdout",
     "output_type": "stream",
     "text": [
      "7550단계 진행중\n",
      "7560단계 진행중\n",
      "7570단계 진행중\n",
      "7580단계 진행중\n",
      "7590단계 진행중\n",
      "7600단계 진행중\n",
      "7610단계 진행중\n",
      "7620단계 진행중\n",
      "7630단계 진행중\n",
      "7640단계 진행중\n",
      "7650단계 진행중\n",
      "7660단계 진행중\n",
      "7670단계 진행중\n",
      "7680단계 진행중\n",
      "7690단계 진행중\n",
      "7700단계 진행중\n",
      "7710단계 진행중\n",
      "7720단계 진행중\n",
      "7730단계 진행중\n",
      "7740단계 진행중\n",
      "7750단계 진행중\n",
      "7760단계 진행중\n",
      "7770단계 진행중\n",
      "7780단계 진행중\n",
      "7790단계 진행중\n",
      "7800단계 진행중\n",
      "7810단계 진행중\n",
      "7820단계 진행중\n",
      "7830단계 진행중\n",
      "7840단계 진행중\n",
      "7850단계 진행중\n",
      "7860단계 진행중\n",
      "7870단계 진행중\n",
      "7880단계 진행중\n",
      "7890단계 진행중\n",
      "7900단계 진행중\n",
      "7910단계 진행중\n",
      "7920단계 진행중\n",
      "7930단계 진행중\n",
      "7940단계 진행중\n",
      "7950단계 진행중\n",
      "7960단계 진행중\n",
      "7970단계 진행중\n",
      "7980단계 진행중\n",
      "7990단계 진행중\n",
      "8000단계 진행중\n",
      "8010단계 진행중\n",
      "8020단계 진행중\n",
      "8030단계 진행중\n",
      "8040단계 진행중\n",
      "8050단계 진행중\n",
      "8060단계 진행중\n",
      "8070단계 진행중\n",
      "8080단계 진행중\n",
      "8090단계 진행중\n",
      "8100단계 진행중\n",
      "8110단계 진행중\n",
      "8120단계 진행중\n",
      "8130단계 진행중\n",
      "8140단계 진행중\n",
      "8150단계 진행중\n",
      "8160단계 진행중\n",
      "8170단계 진행중\n",
      "8180단계 진행중\n",
      "8190단계 진행중\n",
      "8200단계 진행중\n",
      "8210단계 진행중\n",
      "8220단계 진행중\n",
      "8230단계 진행중\n",
      "8240단계 진행중\n",
      "8250단계 진행중\n",
      "8260단계 진행중\n",
      "8270단계 진행중\n",
      "8280단계 진행중\n",
      "8290단계 진행중\n",
      "8300단계 진행중\n",
      "8310단계 진행중\n",
      "8320단계 진행중\n",
      "8330단계 진행중\n",
      "8340단계 진행중\n",
      "8350단계 진행중\n",
      "8360단계 진행중\n",
      "8370단계 진행중\n",
      "8380단계 진행중\n",
      "8390단계 진행중\n",
      "8400단계 진행중\n",
      "8410단계 진행중\n",
      "8420단계 진행중\n",
      "8430단계 진행중\n",
      "8440단계 진행중\n",
      "8450단계 진행중\n",
      "8460단계 진행중\n",
      "8470단계 진행중\n",
      "8480단계 진행중\n",
      "8490단계 진행중\n",
      "8500단계 진행중\n",
      "8510단계 진행중\n",
      "8520단계 진행중\n",
      "8530단계 진행중\n",
      "8540단계 진행중\n",
      "8550단계 진행중\n",
      "8560단계 진행중\n",
      "8570단계 진행중\n",
      "8580단계 진행중\n",
      "8590단계 진행중\n",
      "8600단계 진행중\n",
      "8610단계 진행중\n",
      "8620단계 진행중\n",
      "8630단계 진행중\n",
      "8640단계 진행중\n",
      "8650단계 진행중\n",
      "8660단계 진행중\n",
      "8670단계 진행중\n",
      "8680단계 진행중\n",
      "8690단계 진행중\n",
      "8700단계 진행중\n",
      "8710단계 진행중\n",
      "8720단계 진행중\n",
      "8730단계 진행중\n",
      "8740단계 진행중\n",
      "8750단계 진행중\n",
      "8760단계 진행중\n",
      "8770단계 진행중\n",
      "8780단계 진행중\n",
      "8790단계 진행중\n",
      "8800단계 진행중\n",
      "8810단계 진행중\n",
      "8820단계 진행중\n",
      "8830단계 진행중\n",
      "8840단계 진행중\n",
      "8850단계 진행중\n",
      "8860단계 진행중\n",
      "8870단계 진행중\n",
      "8880단계 진행중\n",
      "8890단계 진행중\n",
      "8900단계 진행중\n",
      "8910단계 진행중\n",
      "8920단계 진행중\n",
      "8930단계 진행중\n",
      "8940단계 진행중\n",
      "8950단계 진행중\n",
      "8960단계 진행중\n",
      "8970단계 진행중\n",
      "8980단계 진행중\n",
      "8990단계 진행중\n",
      "9000단계 진행중\n",
      "9010단계 진행중\n",
      "9020단계 진행중\n",
      "9030단계 진행중\n",
      "9040단계 진행중\n",
      "9050단계 진행중\n",
      "9060단계 진행중\n",
      "9070단계 진행중\n",
      "9080단계 진행중\n",
      "9090단계 진행중\n",
      "9100단계 진행중\n",
      "9110단계 진행중\n",
      "9120단계 진행중\n",
      "9130단계 진행중\n",
      "9140단계 진행중\n",
      "9150단계 진행중\n",
      "9160단계 진행중\n",
      "9170단계 진행중\n",
      "9180단계 진행중\n",
      "9190단계 진행중\n",
      "9200단계 진행중\n",
      "9210단계 진행중\n",
      "9220단계 진행중\n",
      "9230단계 진행중\n",
      "9240단계 진행중\n",
      "9250단계 진행중\n",
      "9260단계 진행중\n",
      "9270단계 진행중\n",
      "9280단계 진행중\n",
      "9290단계 진행중\n",
      "9300단계 진행중\n",
      "9310단계 진행중\n",
      "9320단계 진행중\n",
      "9330단계 진행중\n",
      "9340단계 진행중\n",
      "9350단계 진행중\n",
      "9360단계 진행중\n",
      "9370단계 진행중\n",
      "9380단계 진행중\n",
      "9390단계 진행중\n",
      "9400단계 진행중\n",
      "9410단계 진행중\n",
      "9420단계 진행중\n",
      "9430단계 진행중\n",
      "9440단계 진행중\n",
      "9450단계 진행중\n",
      "9460단계 진행중\n",
      "9470단계 진행중\n",
      "9480단계 진행중\n",
      "9490단계 진행중\n",
      "9500단계 진행중\n",
      "9510단계 진행중\n",
      "9520단계 진행중\n",
      "9530단계 진행중\n",
      "9540단계 진행중\n",
      "9550단계 진행중\n",
      "9560단계 진행중\n",
      "9570단계 진행중\n",
      "9580단계 진행중\n",
      "9590단계 진행중\n",
      "9600단계 진행중\n",
      "9610단계 진행중\n",
      "9620단계 진행중\n",
      "9630단계 진행중\n",
      "9640단계 진행중\n",
      "9650단계 진행중\n",
      "9660단계 진행중\n",
      "9670단계 진행중\n",
      "9680단계 진행중\n",
      "9690단계 진행중\n",
      "9700단계 진행중\n",
      "9710단계 진행중\n",
      "9720단계 진행중\n",
      "9730단계 진행중\n",
      "9740단계 진행중\n",
      "9750단계 진행중\n",
      "9760단계 진행중\n",
      "9770단계 진행중\n",
      "9780단계 진행중\n",
      "9790단계 진행중\n",
      "9800단계 진행중\n",
      "9810단계 진행중\n",
      "9820단계 진행중\n",
      "9830단계 진행중\n",
      "9840단계 진행중\n",
      "9850단계 진행중\n",
      "9860단계 진행중\n",
      "9870단계 진행중\n",
      "9880단계 진행중\n",
      "9890단계 진행중\n",
      "9900단계 진행중\n",
      "9910단계 진행중\n",
      "9920단계 진행중\n",
      "9930단계 진행중\n",
      "9940단계 진행중\n",
      "9950단계 진행중\n",
      "9960단계 진행중\n",
      "9970단계 진행중\n",
      "9980단계 진행중\n",
      "9990단계 진행중\n"
     ]
    }
   ],
   "source": [
    "## trainset = AWP_df[AWP_df.index >= '2020-01-01']\n",
    "trainset = AWP_df.copy()\n",
    "process, obtimal, min_risk = cal_optimal(trainset, df_unit='daily', rebalancing = 'd')"
   ]
  },
  {
   "cell_type": "code",
   "execution_count": 14,
   "metadata": {
    "ExecuteTime": {
     "end_time": "2020-11-25T08:09:58.927487Z",
     "start_time": "2020-11-25T08:09:58.577208Z"
    }
   },
   "outputs": [
    {
     "data": {
      "image/png": "[encoded data removed]",
      "text/plain": [
       "<Figure size 432x288 with 2 Axes>"
      ]
     },
     "metadata": {
      "needs_background": "light"
     },
     "output_type": "display_data"
    }
   ],
   "source": [
    "plt.scatter(process['YDD'], process['YRR'], c=process['Sortino Ratio'], marker='o')\n",
    "plt.grid(True)\n",
    "plt.xlabel('expected volatility(downside risk)')\n",
    "plt.ylabel('expected return')\n",
    "plt.colorbar(label='Sortino Ratio')\n",
    "\n",
    "plt.scatter(obtimal['YDD'][0], obtimal['YRR'][0], marker=\"*\", s=200, alpha=0.7)\n",
    "plt.scatter(min_risk['YDD'][0], min_risk['YRR'][0], marker=\"*\", s=200, alpha=0.7)\n",
    "\n",
    "plt.show()"
   ]
  },
  {
   "cell_type": "code",
   "execution_count": 71,
   "metadata": {},
   "outputs": [],
   "source": [
    "## ('UPRO', 'TQQQ', 'EURL', 'EDC', 'TMF', 'TYD', 'SHY', 'IAU', 'DBC')\n",
    "## [0.24, 0.03, 0.01, 0.04, 0.20, 0.09, 0.09 , 0.24, 0.06]"
   ]
  },
  {
   "cell_type": "code",
   "execution_count": 65,
   "metadata": {},
   "outputs": [],
   "source": [
    "test = process[process['YRR']>=0.08]"
   ]
  },
  {
   "cell_type": "code",
   "execution_count": 74,
   "metadata": {},
   "outputs": [],
   "source": [
    "obtimal = test[test['Sortino Ratio'] == test['Sortino Ratio'].max()]"
   ]
  },
  {
   "cell_type": "code",
   "execution_count": 75,
   "metadata": {},
   "outputs": [],
   "source": [
    "AWP_ratio = pd.DataFrame(list(obtimal.values[0][:-3]),\n",
    "             index=['SPY', 'QQQ', 'VEA', 'VWO', 'TLT', 'IEF', 'SHY', 'IAU', 'DBC'], columns=['ratio'])\n",
    "AWP_ratio = AWP_ratio.apply(lambda x:x.round(2))"
   ]
  },
  {
   "cell_type": "code",
   "execution_count": 76,
   "metadata": {},
   "outputs": [
    {
     "data": {
      "text/html": [
       "<div>\n",
       "<style scoped>\n",
       "    .dataframe tbody tr th:only-of-type {\n",
       "        vertical-align: middle;\n",
       "    }\n",
       "\n",
       "    .dataframe tbody tr th {\n",
       "        vertical-align: top;\n",
       "    }\n",
       "\n",
       "    .dataframe thead th {\n",
       "        text-align: right;\n",
       "    }\n",
       "</style>\n",
       "<table border=\"1\" class=\"dataframe\">\n",
       "  <thead>\n",
       "    <tr style=\"text-align: right;\">\n",
       "      <th></th>\n",
       "      <th>ratio</th>\n",
       "    </tr>\n",
       "  </thead>\n",
       "  <tbody>\n",
       "    <tr>\n",
       "      <th>SPY</th>\n",
       "      <td>0.23</td>\n",
       "    </tr>\n",
       "    <tr>\n",
       "      <th>QQQ</th>\n",
       "      <td>0.10</td>\n",
       "    </tr>\n",
       "    <tr>\n",
       "      <th>VEA</th>\n",
       "      <td>0.02</td>\n",
       "    </tr>\n",
       "    <tr>\n",
       "      <th>VWO</th>\n",
       "      <td>0.01</td>\n",
       "    </tr>\n",
       "    <tr>\n",
       "      <th>TLT</th>\n",
       "      <td>0.16</td>\n",
       "    </tr>\n",
       "    <tr>\n",
       "      <th>IEF</th>\n",
       "      <td>0.25</td>\n",
       "    </tr>\n",
       "    <tr>\n",
       "      <th>SHY</th>\n",
       "      <td>0.16</td>\n",
       "    </tr>\n",
       "    <tr>\n",
       "      <th>IAU</th>\n",
       "      <td>0.06</td>\n",
       "    </tr>\n",
       "    <tr>\n",
       "      <th>DBC</th>\n",
       "      <td>0.01</td>\n",
       "    </tr>\n",
       "  </tbody>\n",
       "</table>\n",
       "</div>"
      ],
      "text/plain": [
       "     ratio\n",
       "SPY   0.23\n",
       "QQQ   0.10\n",
       "VEA   0.02\n",
       "VWO   0.01\n",
       "TLT   0.16\n",
       "IEF   0.25\n",
       "SHY   0.16\n",
       "IAU   0.06\n",
       "DBC   0.01"
      ]
     },
     "execution_count": 76,
     "metadata": {},
     "output_type": "execute_result"
    }
   ],
   "source": [
    "AWP_ratio"
   ]
  },
  {
   "cell_type": "code",
   "execution_count": 89,
   "metadata": {
    "ExecuteTime": {
     "end_time": "2020-11-30T07:17:45.895001Z",
     "start_time": "2020-11-30T07:17:41.310219Z"
    }
   },
   "outputs": [],
   "source": [
    "## 올웨더 전략 실행\n",
    "ratio = list(obtimal.values[0][:-3])\n",
    "ratio = [0.25, 0.2, 0.02, 0.02, 0.15, 0.15, 0.15, 0.05, 0.01]\n",
    "AWP_result = cal_AWP(AWP_df, ratio=ratio, rebalancing='m')\n",
    "## 듀올 전략 실행\n",
    "## dual_df = get_dual_df('TQQQ', 'UPRO', 'TMF')\n",
    "## dual_df_result = get_strategy_value(dual_df)"
   ]
  },
  {
   "cell_type": "code",
   "execution_count": 70,
   "metadata": {},
   "outputs": [
    {
     "data": {
      "text/plain": [
       "\"## 수정 AWP\\nTAWP_df = D.get_merged_df('UPRO', 'TQQQ', 'TMF', 'TYD')\\nTAWP_df = TAWP_df.dropna()\\nAWP_result = cal_AWP(TAWP_df, ratio=[0.25, 0.25, 0.25, 0.25], rebalancing='m')\\n## 듀올 전략 실행\\n## dual_df = get_dual_df('TQQQ', 'UPRO', 'TMF')\\n## dual_df_result = get_strategy_value(dual_df)\""
      ]
     },
     "execution_count": 70,
     "metadata": {},
     "output_type": "execute_result"
    }
   ],
   "source": [
    "'''## 수정 AWP\n",
    "TAWP_df = D.get_merged_df('UPRO', 'TQQQ', 'TMF', 'TYD')\n",
    "TAWP_df = TAWP_df.dropna()\n",
    "AWP_result = cal_AWP(TAWP_df, ratio=[0.25, 0.25, 0.25, 0.25], rebalancing='m')\n",
    "## 듀올 전략 실행\n",
    "## dual_df = get_dual_df('TQQQ', 'UPRO', 'TMF')\n",
    "## dual_df_result = get_strategy_value(dual_df)'''"
   ]
  },
  {
   "cell_type": "code",
   "execution_count": 90,
   "metadata": {
    "ExecuteTime": {
     "end_time": "2020-11-30T07:18:23.118554Z",
     "start_time": "2020-11-30T07:18:23.102598Z"
    }
   },
   "outputs": [],
   "source": [
    "## 결과 통합\n",
    "result_df = AWP_result.copy()\n",
    "## result_df['Dual'] = dual_df_result['strategy']\n",
    "## result_df['signal'] = dual_df_result['signal']\n",
    "\n",
    "result_df = result_df.dropna()\n",
    "\n",
    "## 표준화\n",
    "result_df = index_values(result_df)"
   ]
  },
  {
   "cell_type": "code",
   "execution_count": 97,
   "metadata": {},
   "outputs": [],
   "source": [
    "AWP_ratio.to_csv('result/AWP_ratio_2021.csv')"
   ]
  },
  {
   "cell_type": "code",
   "execution_count": 76,
   "metadata": {},
   "outputs": [],
   "source": [
    "result_df.to_csv('result/AWP_result_d.csv')"
   ]
  },
  {
   "cell_type": "markdown",
   "metadata": {},
   "source": [
    "###### 보고서"
   ]
  },
  {
   "cell_type": "code",
   "execution_count": 93,
   "metadata": {},
   "outputs": [],
   "source": [
    "## 월단위 리벨런싱\n",
    "result_df['year'] = result_df.index.year\n",
    "result_df['month'] = result_df.index.month\n",
    "\n",
    "result_df = result_df.drop_duplicates(['year', 'month'], keep='last')\n",
    "result_df = result_df.drop(columns=['year', 'month'])"
   ]
  },
  {
   "cell_type": "code",
   "execution_count": 94,
   "metadata": {},
   "outputs": [
    {
     "data": {
      "text/html": [
       "        <script type=\"text/javascript\">\n",
       "        window.PlotlyConfig = {MathJaxConfig: 'local'};\n",
       "        if (window.MathJax) {MathJax.Hub.Config({SVG: {font: \"STIX-Web\"}});}\n",
       "        if (typeof require !== 'undefined') {\n",
       "        require.undef(\"plotly\");\n",
       "        requirejs.config({\n",
       "            paths: {\n",
       "                'plotly': ['https://cdn.plot.ly/plotly-latest.min']\n",
       "            }\n",
       "        });\n",
       "        require(['plotly'], function(Plotly) {\n",
       "            window._Plotly = Plotly;\n",
       "        });\n",
       "        }\n",
       "        </script>\n",
       "        "
      ]
     },
     "metadata": {},
     "output_type": "display_data"
    }
   ],
   "source": [
    "# 시각화 관련\n",
    "import matplotlib\n",
    "import matplotlib.pyplot as plt\n",
    "import seaborn as sns\n",
    "sns.set_style('whitegrid')\n",
    "plt.style.use(\"fivethirtyeight\")\n",
    "%matplotlib inline\n",
    "\n",
    "import plotly_express as px\n",
    "import plotly.figure_factory as ff\n",
    "import cufflinks as cf\n",
    "cf.go_offline(connected=True)\n",
    "cf.set_config_file(theme='polar')\n",
    "\n",
    "import plotly.graph_objects as go\n",
    "\n",
    "import matplotlib.pyplot as plt\n",
    "import seaborn as sns"
   ]
  },
  {
   "cell_type": "code",
   "execution_count": 95,
   "metadata": {},
   "outputs": [
    {
     "data": {
      "text/html": [
       "<div>\n",
       "<style scoped>\n",
       "    .dataframe tbody tr th:only-of-type {\n",
       "        vertical-align: middle;\n",
       "    }\n",
       "\n",
       "    .dataframe tbody tr th {\n",
       "        vertical-align: top;\n",
       "    }\n",
       "\n",
       "    .dataframe thead th {\n",
       "        text-align: right;\n",
       "    }\n",
       "</style>\n",
       "<table border=\"1\" class=\"dataframe\">\n",
       "  <thead>\n",
       "    <tr style=\"text-align: right;\">\n",
       "      <th></th>\n",
       "      <th>SPY</th>\n",
       "      <th>QQQ</th>\n",
       "      <th>VEA</th>\n",
       "      <th>VWO</th>\n",
       "      <th>TLT</th>\n",
       "      <th>IEF</th>\n",
       "      <th>SHY</th>\n",
       "      <th>IAU</th>\n",
       "      <th>DBC</th>\n",
       "      <th>strategy</th>\n",
       "    </tr>\n",
       "    <tr>\n",
       "      <th>Date</th>\n",
       "      <th></th>\n",
       "      <th></th>\n",
       "      <th></th>\n",
       "      <th></th>\n",
       "      <th></th>\n",
       "      <th></th>\n",
       "      <th></th>\n",
       "      <th></th>\n",
       "      <th></th>\n",
       "      <th></th>\n",
       "    </tr>\n",
       "  </thead>\n",
       "  <tbody>\n",
       "    <tr>\n",
       "      <th>2007-07-31</th>\n",
       "      <td>0.984462</td>\n",
       "      <td>0.970396</td>\n",
       "      <td>1.000000</td>\n",
       "      <td>1.012644</td>\n",
       "      <td>1.007239</td>\n",
       "      <td>1.003522</td>\n",
       "      <td>1.001492</td>\n",
       "      <td>1.003655</td>\n",
       "      <td>1.006147</td>\n",
       "      <td>0.992530</td>\n",
       "    </tr>\n",
       "    <tr>\n",
       "      <th>2007-08-31</th>\n",
       "      <td>0.997095</td>\n",
       "      <td>0.997754</td>\n",
       "      <td>0.999165</td>\n",
       "      <td>1.012537</td>\n",
       "      <td>1.025245</td>\n",
       "      <td>1.026234</td>\n",
       "      <td>1.011996</td>\n",
       "      <td>1.014771</td>\n",
       "      <td>0.986938</td>\n",
       "      <td>1.007554</td>\n",
       "    </tr>\n",
       "    <tr>\n",
       "      <th>2007-09-28</th>\n",
       "      <td>1.035697</td>\n",
       "      <td>1.050158</td>\n",
       "      <td>1.046765</td>\n",
       "      <td>1.112088</td>\n",
       "      <td>1.027584</td>\n",
       "      <td>1.027139</td>\n",
       "      <td>1.017581</td>\n",
       "      <td>1.121212</td>\n",
       "      <td>1.079908</td>\n",
       "      <td>1.031251</td>\n",
       "    </tr>\n",
       "    <tr>\n",
       "      <th>2007-10-31</th>\n",
       "      <td>1.049748</td>\n",
       "      <td>1.124104</td>\n",
       "      <td>1.093111</td>\n",
       "      <td>1.256751</td>\n",
       "      <td>1.046247</td>\n",
       "      <td>1.038201</td>\n",
       "      <td>1.022444</td>\n",
       "      <td>1.196894</td>\n",
       "      <td>1.171725</td>\n",
       "      <td>1.054551</td>\n",
       "    </tr>\n",
       "    <tr>\n",
       "      <th>2007-11-30</th>\n",
       "      <td>1.009088</td>\n",
       "      <td>1.048115</td>\n",
       "      <td>1.051984</td>\n",
       "      <td>1.149593</td>\n",
       "      <td>1.102234</td>\n",
       "      <td>1.080223</td>\n",
       "      <td>1.040775</td>\n",
       "      <td>1.179991</td>\n",
       "      <td>1.164425</td>\n",
       "      <td>1.051898</td>\n",
       "    </tr>\n",
       "    <tr>\n",
       "      <th>...</th>\n",
       "      <td>...</td>\n",
       "      <td>...</td>\n",
       "      <td>...</td>\n",
       "      <td>...</td>\n",
       "      <td>...</td>\n",
       "      <td>...</td>\n",
       "      <td>...</td>\n",
       "      <td>...</td>\n",
       "      <td>...</td>\n",
       "      <td>...</td>\n",
       "    </tr>\n",
       "    <tr>\n",
       "      <th>2021-08-31</th>\n",
       "      <td>4.043367</td>\n",
       "      <td>8.776339</td>\n",
       "      <td>1.666668</td>\n",
       "      <td>1.620661</td>\n",
       "      <td>2.593538</td>\n",
       "      <td>1.979339</td>\n",
       "      <td>1.283002</td>\n",
       "      <td>2.629054</td>\n",
       "      <td>0.789418</td>\n",
       "      <td>2.966694</td>\n",
       "    </tr>\n",
       "    <tr>\n",
       "      <th>2021-09-30</th>\n",
       "      <td>3.854924</td>\n",
       "      <td>8.277566</td>\n",
       "      <td>1.610242</td>\n",
       "      <td>1.566175</td>\n",
       "      <td>2.518144</td>\n",
       "      <td>1.947728</td>\n",
       "      <td>1.281708</td>\n",
       "      <td>2.543780</td>\n",
       "      <td>0.830576</td>\n",
       "      <td>2.867354</td>\n",
       "    </tr>\n",
       "    <tr>\n",
       "      <th>2021-10-29</th>\n",
       "      <td>4.125399</td>\n",
       "      <td>8.928514</td>\n",
       "      <td>1.662226</td>\n",
       "      <td>1.586531</td>\n",
       "      <td>2.580217</td>\n",
       "      <td>1.939101</td>\n",
       "      <td>1.277408</td>\n",
       "      <td>2.583371</td>\n",
       "      <td>0.878732</td>\n",
       "      <td>2.957089</td>\n",
       "    </tr>\n",
       "    <tr>\n",
       "      <th>2021-11-30</th>\n",
       "      <td>4.092252</td>\n",
       "      <td>9.106803</td>\n",
       "      <td>1.585047</td>\n",
       "      <td>1.540495</td>\n",
       "      <td>2.651727</td>\n",
       "      <td>1.960278</td>\n",
       "      <td>1.276678</td>\n",
       "      <td>2.564337</td>\n",
       "      <td>0.801765</td>\n",
       "      <td>2.969922</td>\n",
       "    </tr>\n",
       "    <tr>\n",
       "      <th>2021-12-22</th>\n",
       "      <td>4.216002</td>\n",
       "      <td>9.121444</td>\n",
       "      <td>1.635844</td>\n",
       "      <td>1.546195</td>\n",
       "      <td>2.626907</td>\n",
       "      <td>1.959501</td>\n",
       "      <td>1.274117</td>\n",
       "      <td>2.613827</td>\n",
       "      <td>0.845805</td>\n",
       "      <td>3.009923</td>\n",
       "    </tr>\n",
       "  </tbody>\n",
       "</table>\n",
       "<p>174 rows × 10 columns</p>\n",
       "</div>"
      ],
      "text/plain": [
       "                 SPY       QQQ       VEA       VWO       TLT       IEF  \\\n",
       "Date                                                                     \n",
       "2007-07-31  0.984462  0.970396  1.000000  1.012644  1.007239  1.003522   \n",
       "2007-08-31  0.997095  0.997754  0.999165  1.012537  1.025245  1.026234   \n",
       "2007-09-28  1.035697  1.050158  1.046765  1.112088  1.027584  1.027139   \n",
       "2007-10-31  1.049748  1.124104  1.093111  1.256751  1.046247  1.038201   \n",
       "2007-11-30  1.009088  1.048115  1.051984  1.149593  1.102234  1.080223   \n",
       "...              ...       ...       ...       ...       ...       ...   \n",
       "2021-08-31  4.043367  8.776339  1.666668  1.620661  2.593538  1.979339   \n",
       "2021-09-30  3.854924  8.277566  1.610242  1.566175  2.518144  1.947728   \n",
       "2021-10-29  4.125399  8.928514  1.662226  1.586531  2.580217  1.939101   \n",
       "2021-11-30  4.092252  9.106803  1.585047  1.540495  2.651727  1.960278   \n",
       "2021-12-22  4.216002  9.121444  1.635844  1.546195  2.626907  1.959501   \n",
       "\n",
       "                 SHY       IAU       DBC  strategy  \n",
       "Date                                                \n",
       "2007-07-31  1.001492  1.003655  1.006147  0.992530  \n",
       "2007-08-31  1.011996  1.014771  0.986938  1.007554  \n",
       "2007-09-28  1.017581  1.121212  1.079908  1.031251  \n",
       "2007-10-31  1.022444  1.196894  1.171725  1.054551  \n",
       "2007-11-30  1.040775  1.179991  1.164425  1.051898  \n",
       "...              ...       ...       ...       ...  \n",
       "2021-08-31  1.283002  2.629054  0.789418  2.966694  \n",
       "2021-09-30  1.281708  2.543780  0.830576  2.867354  \n",
       "2021-10-29  1.277408  2.583371  0.878732  2.957089  \n",
       "2021-11-30  1.276678  2.564337  0.801765  2.969922  \n",
       "2021-12-22  1.274117  2.613827  0.845805  3.009923  \n",
       "\n",
       "[174 rows x 10 columns]"
      ]
     },
     "execution_count": 95,
     "metadata": {},
     "output_type": "execute_result"
    }
   ],
   "source": [
    "result_df"
   ]
  },
  {
   "cell_type": "code",
   "execution_count": 96,
   "metadata": {
    "ExecuteTime": {
     "end_time": "2020-11-30T06:25:32.063727Z",
     "start_time": "2020-11-30T06:25:31.940097Z"
    }
   },
   "outputs": [
    {
     "data": {
      "text/html": [
       "<div>\n",
       "<style scoped>\n",
       "    .dataframe tbody tr th:only-of-type {\n",
       "        vertical-align: middle;\n",
       "    }\n",
       "\n",
       "    .dataframe tbody tr th {\n",
       "        vertical-align: top;\n",
       "    }\n",
       "\n",
       "    .dataframe thead th {\n",
       "        text-align: right;\n",
       "    }\n",
       "</style>\n",
       "<table border=\"1\" class=\"dataframe\">\n",
       "  <thead>\n",
       "    <tr style=\"text-align: right;\">\n",
       "      <th></th>\n",
       "      <th>SPY</th>\n",
       "      <th>QQQ</th>\n",
       "      <th>VEA</th>\n",
       "      <th>VWO</th>\n",
       "      <th>TLT</th>\n",
       "      <th>IEF</th>\n",
       "      <th>SHY</th>\n",
       "      <th>IAU</th>\n",
       "      <th>DBC</th>\n",
       "      <th>strategy</th>\n",
       "    </tr>\n",
       "    <tr>\n",
       "      <th>Date</th>\n",
       "      <th></th>\n",
       "      <th></th>\n",
       "      <th></th>\n",
       "      <th></th>\n",
       "      <th></th>\n",
       "      <th></th>\n",
       "      <th></th>\n",
       "      <th></th>\n",
       "      <th></th>\n",
       "      <th></th>\n",
       "    </tr>\n",
       "  </thead>\n",
       "  <tbody>\n",
       "    <tr>\n",
       "      <th>2008</th>\n",
       "      <td>-0.367950</td>\n",
       "      <td>-0.417271</td>\n",
       "      <td>-0.406232</td>\n",
       "      <td>-0.524593</td>\n",
       "      <td>0.339518</td>\n",
       "      <td>0.179175</td>\n",
       "      <td>0.066225</td>\n",
       "      <td>0.051061</td>\n",
       "      <td>-0.317992</td>\n",
       "      <td>-0.127593</td>\n",
       "    </tr>\n",
       "    <tr>\n",
       "      <th>2009</th>\n",
       "      <td>0.263518</td>\n",
       "      <td>0.546841</td>\n",
       "      <td>0.275073</td>\n",
       "      <td>0.763109</td>\n",
       "      <td>-0.218063</td>\n",
       "      <td>-0.065932</td>\n",
       "      <td>0.003527</td>\n",
       "      <td>0.238980</td>\n",
       "      <td>0.161869</td>\n",
       "      <td>0.137288</td>\n",
       "    </tr>\n",
       "    <tr>\n",
       "      <th>2010</th>\n",
       "      <td>0.150561</td>\n",
       "      <td>0.201438</td>\n",
       "      <td>0.083544</td>\n",
       "      <td>0.194813</td>\n",
       "      <td>0.090126</td>\n",
       "      <td>0.093598</td>\n",
       "      <td>0.022796</td>\n",
       "      <td>0.294589</td>\n",
       "      <td>0.119009</td>\n",
       "      <td>0.086457</td>\n",
       "    </tr>\n",
       "    <tr>\n",
       "      <th>2011</th>\n",
       "      <td>0.018950</td>\n",
       "      <td>0.034758</td>\n",
       "      <td>-0.123146</td>\n",
       "      <td>-0.187510</td>\n",
       "      <td>0.340012</td>\n",
       "      <td>0.156497</td>\n",
       "      <td>0.014405</td>\n",
       "      <td>0.095683</td>\n",
       "      <td>-0.025771</td>\n",
       "      <td>0.100170</td>\n",
       "    </tr>\n",
       "    <tr>\n",
       "      <th>2012</th>\n",
       "      <td>0.159904</td>\n",
       "      <td>0.181125</td>\n",
       "      <td>0.185605</td>\n",
       "      <td>0.192104</td>\n",
       "      <td>0.024095</td>\n",
       "      <td>0.036640</td>\n",
       "      <td>0.002502</td>\n",
       "      <td>0.068943</td>\n",
       "      <td>0.035022</td>\n",
       "      <td>0.081758</td>\n",
       "    </tr>\n",
       "    <tr>\n",
       "      <th>2013</th>\n",
       "      <td>0.323078</td>\n",
       "      <td>0.366342</td>\n",
       "      <td>0.218065</td>\n",
       "      <td>-0.049415</td>\n",
       "      <td>-0.133814</td>\n",
       "      <td>-0.060902</td>\n",
       "      <td>0.002147</td>\n",
       "      <td>-0.282555</td>\n",
       "      <td>-0.076314</td>\n",
       "      <td>0.076332</td>\n",
       "    </tr>\n",
       "    <tr>\n",
       "      <th>2014</th>\n",
       "      <td>0.134638</td>\n",
       "      <td>0.191814</td>\n",
       "      <td>-0.059674</td>\n",
       "      <td>-0.000417</td>\n",
       "      <td>0.273019</td>\n",
       "      <td>0.090682</td>\n",
       "      <td>0.004470</td>\n",
       "      <td>-0.020548</td>\n",
       "      <td>-0.280982</td>\n",
       "      <td>0.137655</td>\n",
       "    </tr>\n",
       "    <tr>\n",
       "      <th>2015</th>\n",
       "      <td>0.012343</td>\n",
       "      <td>0.094359</td>\n",
       "      <td>-0.003732</td>\n",
       "      <td>-0.158195</td>\n",
       "      <td>-0.017896</td>\n",
       "      <td>0.015078</td>\n",
       "      <td>0.004298</td>\n",
       "      <td>-0.105769</td>\n",
       "      <td>-0.275881</td>\n",
       "      <td>0.004867</td>\n",
       "    </tr>\n",
       "    <tr>\n",
       "      <th>2016</th>\n",
       "      <td>0.119979</td>\n",
       "      <td>0.070979</td>\n",
       "      <td>0.026340</td>\n",
       "      <td>0.121711</td>\n",
       "      <td>0.011716</td>\n",
       "      <td>0.010016</td>\n",
       "      <td>0.008227</td>\n",
       "      <td>0.083089</td>\n",
       "      <td>0.185629</td>\n",
       "      <td>0.058907</td>\n",
       "    </tr>\n",
       "    <tr>\n",
       "      <th>2017</th>\n",
       "      <td>0.217054</td>\n",
       "      <td>0.326635</td>\n",
       "      <td>0.264205</td>\n",
       "      <td>0.314855</td>\n",
       "      <td>0.091826</td>\n",
       "      <td>0.025529</td>\n",
       "      <td>0.002627</td>\n",
       "      <td>0.129061</td>\n",
       "      <td>0.048611</td>\n",
       "      <td>0.135589</td>\n",
       "    </tr>\n",
       "    <tr>\n",
       "      <th>2018</th>\n",
       "      <td>-0.045690</td>\n",
       "      <td>-0.001262</td>\n",
       "      <td>-0.147453</td>\n",
       "      <td>-0.147605</td>\n",
       "      <td>-0.016119</td>\n",
       "      <td>0.009877</td>\n",
       "      <td>0.014632</td>\n",
       "      <td>-0.017586</td>\n",
       "      <td>-0.116303</td>\n",
       "      <td>-0.014012</td>\n",
       "    </tr>\n",
       "    <tr>\n",
       "      <th>2019</th>\n",
       "      <td>0.312239</td>\n",
       "      <td>0.389616</td>\n",
       "      <td>0.226212</td>\n",
       "      <td>0.207503</td>\n",
       "      <td>0.141184</td>\n",
       "      <td>0.080295</td>\n",
       "      <td>0.033808</td>\n",
       "      <td>0.179821</td>\n",
       "      <td>0.118392</td>\n",
       "      <td>0.218772</td>\n",
       "    </tr>\n",
       "    <tr>\n",
       "      <th>2020</th>\n",
       "      <td>0.183316</td>\n",
       "      <td>0.484061</td>\n",
       "      <td>0.097139</td>\n",
       "      <td>0.151756</td>\n",
       "      <td>0.181523</td>\n",
       "      <td>0.100067</td>\n",
       "      <td>0.030341</td>\n",
       "      <td>0.250345</td>\n",
       "      <td>-0.078370</td>\n",
       "      <td>0.172566</td>\n",
       "    </tr>\n",
       "    <tr>\n",
       "      <th>MEAN</th>\n",
       "      <td>0.097044</td>\n",
       "      <td>0.160216</td>\n",
       "      <td>0.028899</td>\n",
       "      <td>0.023737</td>\n",
       "      <td>0.072583</td>\n",
       "      <td>0.049171</td>\n",
       "      <td>0.016001</td>\n",
       "      <td>0.062487</td>\n",
       "      <td>-0.053850</td>\n",
       "      <td>0.078616</td>\n",
       "    </tr>\n",
       "  </tbody>\n",
       "</table>\n",
       "</div>"
      ],
      "text/plain": [
       "           SPY       QQQ       VEA       VWO       TLT       IEF       SHY  \\\n",
       "Date                                                                         \n",
       "2008 -0.367950 -0.417271 -0.406232 -0.524593  0.339518  0.179175  0.066225   \n",
       "2009  0.263518  0.546841  0.275073  0.763109 -0.218063 -0.065932  0.003527   \n",
       "2010  0.150561  0.201438  0.083544  0.194813  0.090126  0.093598  0.022796   \n",
       "2011  0.018950  0.034758 -0.123146 -0.187510  0.340012  0.156497  0.014405   \n",
       "2012  0.159904  0.181125  0.185605  0.192104  0.024095  0.036640  0.002502   \n",
       "2013  0.323078  0.366342  0.218065 -0.049415 -0.133814 -0.060902  0.002147   \n",
       "2014  0.134638  0.191814 -0.059674 -0.000417  0.273019  0.090682  0.004470   \n",
       "2015  0.012343  0.094359 -0.003732 -0.158195 -0.017896  0.015078  0.004298   \n",
       "2016  0.119979  0.070979  0.026340  0.121711  0.011716  0.010016  0.008227   \n",
       "2017  0.217054  0.326635  0.264205  0.314855  0.091826  0.025529  0.002627   \n",
       "2018 -0.045690 -0.001262 -0.147453 -0.147605 -0.016119  0.009877  0.014632   \n",
       "2019  0.312239  0.389616  0.226212  0.207503  0.141184  0.080295  0.033808   \n",
       "2020  0.183316  0.484061  0.097139  0.151756  0.181523  0.100067  0.030341   \n",
       "MEAN  0.097044  0.160216  0.028899  0.023737  0.072583  0.049171  0.016001   \n",
       "\n",
       "           IAU       DBC  strategy  \n",
       "Date                                \n",
       "2008  0.051061 -0.317992 -0.127593  \n",
       "2009  0.238980  0.161869  0.137288  \n",
       "2010  0.294589  0.119009  0.086457  \n",
       "2011  0.095683 -0.025771  0.100170  \n",
       "2012  0.068943  0.035022  0.081758  \n",
       "2013 -0.282555 -0.076314  0.076332  \n",
       "2014 -0.020548 -0.280982  0.137655  \n",
       "2015 -0.105769 -0.275881  0.004867  \n",
       "2016  0.083089  0.185629  0.058907  \n",
       "2017  0.129061  0.048611  0.135589  \n",
       "2018 -0.017586 -0.116303 -0.014012  \n",
       "2019  0.179821  0.118392  0.218772  \n",
       "2020  0.250345 -0.078370  0.172566  \n",
       "MEAN  0.062487 -0.053850  0.078616  "
      ]
     },
     "execution_count": 96,
     "metadata": {},
     "output_type": "execute_result"
    }
   ],
   "source": [
    "Q.get_YTD_report(result_df, 'a')"
   ]
  },
  {
   "cell_type": "code",
   "execution_count": 97,
   "metadata": {
    "ExecuteTime": {
     "end_time": "2020-11-30T06:25:47.012852Z",
     "start_time": "2020-11-30T06:25:46.485262Z"
    }
   },
   "outputs": [
    {
     "data": {
      "text/html": [
       "<div>\n",
       "<style scoped>\n",
       "    .dataframe tbody tr th:only-of-type {\n",
       "        vertical-align: middle;\n",
       "    }\n",
       "\n",
       "    .dataframe tbody tr th {\n",
       "        vertical-align: top;\n",
       "    }\n",
       "\n",
       "    .dataframe thead th {\n",
       "        text-align: right;\n",
       "    }\n",
       "</style>\n",
       "<table border=\"1\" class=\"dataframe\">\n",
       "  <thead>\n",
       "    <tr style=\"text-align: right;\">\n",
       "      <th></th>\n",
       "      <th>Ticker</th>\n",
       "      <th>MDD</th>\n",
       "      <th>Date</th>\n",
       "    </tr>\n",
       "  </thead>\n",
       "  <tbody>\n",
       "    <tr>\n",
       "      <th>0</th>\n",
       "      <td>SPY</td>\n",
       "      <td>-0.507848</td>\n",
       "      <td>2009-02-27</td>\n",
       "    </tr>\n",
       "    <tr>\n",
       "      <th>1</th>\n",
       "      <td>QQQ</td>\n",
       "      <td>-0.497398</td>\n",
       "      <td>2009-02-27</td>\n",
       "    </tr>\n",
       "    <tr>\n",
       "      <th>2</th>\n",
       "      <td>VEA</td>\n",
       "      <td>-0.570527</td>\n",
       "      <td>2009-02-27</td>\n",
       "    </tr>\n",
       "    <tr>\n",
       "      <th>3</th>\n",
       "      <td>VWO</td>\n",
       "      <td>-0.616940</td>\n",
       "      <td>2009-02-27</td>\n",
       "    </tr>\n",
       "    <tr>\n",
       "      <th>4</th>\n",
       "      <td>TLT</td>\n",
       "      <td>-0.218063</td>\n",
       "      <td>2009-12-31</td>\n",
       "    </tr>\n",
       "    <tr>\n",
       "      <th>5</th>\n",
       "      <td>IEF</td>\n",
       "      <td>-0.076037</td>\n",
       "      <td>2013-12-31</td>\n",
       "    </tr>\n",
       "    <tr>\n",
       "      <th>6</th>\n",
       "      <td>SHY</td>\n",
       "      <td>-0.011807</td>\n",
       "      <td>2008-05-30</td>\n",
       "    </tr>\n",
       "    <tr>\n",
       "      <th>7</th>\n",
       "      <td>IAU</td>\n",
       "      <td>-0.425926</td>\n",
       "      <td>2015-12-31</td>\n",
       "    </tr>\n",
       "    <tr>\n",
       "      <th>8</th>\n",
       "      <td>DBC</td>\n",
       "      <td>-0.745525</td>\n",
       "      <td>2020-04-30</td>\n",
       "    </tr>\n",
       "    <tr>\n",
       "      <th>9</th>\n",
       "      <td>strategy</td>\n",
       "      <td>-0.222927</td>\n",
       "      <td>2009-02-27</td>\n",
       "    </tr>\n",
       "  </tbody>\n",
       "</table>\n",
       "</div>"
      ],
      "text/plain": [
       "     Ticker       MDD       Date\n",
       "0       SPY -0.507848 2009-02-27\n",
       "1       QQQ -0.497398 2009-02-27\n",
       "2       VEA -0.570527 2009-02-27\n",
       "3       VWO -0.616940 2009-02-27\n",
       "4       TLT -0.218063 2009-12-31\n",
       "5       IEF -0.076037 2013-12-31\n",
       "6       SHY -0.011807 2008-05-30\n",
       "7       IAU -0.425926 2015-12-31\n",
       "8       DBC -0.745525 2020-04-30\n",
       "9  strategy -0.222927 2009-02-27"
      ]
     },
     "execution_count": 97,
     "metadata": {},
     "output_type": "execute_result"
    }
   ],
   "source": [
    "MDD, HRR = Q.get_MDD_report(result_df, 'a')\n",
    "MDD"
   ]
  },
  {
   "cell_type": "code",
   "execution_count": 99,
   "metadata": {
    "ExecuteTime": {
     "end_time": "2020-11-30T06:25:51.302386Z",
     "start_time": "2020-11-30T06:25:51.275462Z"
    }
   },
   "outputs": [
    {
     "data": {
      "text/html": [
       "<div>\n",
       "<style scoped>\n",
       "    .dataframe tbody tr th:only-of-type {\n",
       "        vertical-align: middle;\n",
       "    }\n",
       "\n",
       "    .dataframe tbody tr th {\n",
       "        vertical-align: top;\n",
       "    }\n",
       "\n",
       "    .dataframe thead th {\n",
       "        text-align: right;\n",
       "    }\n",
       "</style>\n",
       "<table border=\"1\" class=\"dataframe\">\n",
       "  <thead>\n",
       "    <tr style=\"text-align: right;\">\n",
       "      <th></th>\n",
       "      <th>Ticker</th>\n",
       "      <th>YRR</th>\n",
       "      <th>YDD</th>\n",
       "      <th>Sortino Ratio</th>\n",
       "    </tr>\n",
       "  </thead>\n",
       "  <tbody>\n",
       "    <tr>\n",
       "      <th>0</th>\n",
       "      <td>SPY</td>\n",
       "      <td>0.105518</td>\n",
       "      <td>0.103553</td>\n",
       "      <td>1.018976</td>\n",
       "    </tr>\n",
       "    <tr>\n",
       "      <th>1</th>\n",
       "      <td>QQQ</td>\n",
       "      <td>0.167109</td>\n",
       "      <td>0.112546</td>\n",
       "      <td>1.484798</td>\n",
       "    </tr>\n",
       "    <tr>\n",
       "      <th>2</th>\n",
       "      <td>VEA</td>\n",
       "      <td>0.034525</td>\n",
       "      <td>0.129210</td>\n",
       "      <td>0.267197</td>\n",
       "    </tr>\n",
       "    <tr>\n",
       "      <th>3</th>\n",
       "      <td>VWO</td>\n",
       "      <td>0.029619</td>\n",
       "      <td>0.151472</td>\n",
       "      <td>0.195539</td>\n",
       "    </tr>\n",
       "    <tr>\n",
       "      <th>4</th>\n",
       "      <td>TLT</td>\n",
       "      <td>0.068344</td>\n",
       "      <td>0.077732</td>\n",
       "      <td>0.879231</td>\n",
       "    </tr>\n",
       "    <tr>\n",
       "      <th>5</th>\n",
       "      <td>IEF</td>\n",
       "      <td>0.047231</td>\n",
       "      <td>0.034199</td>\n",
       "      <td>1.381064</td>\n",
       "    </tr>\n",
       "    <tr>\n",
       "      <th>6</th>\n",
       "      <td>SHY</td>\n",
       "      <td>0.016743</td>\n",
       "      <td>0.004694</td>\n",
       "      <td>3.566850</td>\n",
       "    </tr>\n",
       "    <tr>\n",
       "      <th>7</th>\n",
       "      <td>IAU</td>\n",
       "      <td>0.068239</td>\n",
       "      <td>0.110531</td>\n",
       "      <td>0.617373</td>\n",
       "    </tr>\n",
       "    <tr>\n",
       "      <th>8</th>\n",
       "      <td>DBC</td>\n",
       "      <td>-0.011901</td>\n",
       "      <td>0.149045</td>\n",
       "      <td>-0.079846</td>\n",
       "    </tr>\n",
       "    <tr>\n",
       "      <th>9</th>\n",
       "      <td>strategy</td>\n",
       "      <td>0.079514</td>\n",
       "      <td>0.050506</td>\n",
       "      <td>1.574344</td>\n",
       "    </tr>\n",
       "  </tbody>\n",
       "</table>\n",
       "</div>"
      ],
      "text/plain": [
       "     Ticker       YRR       YDD  Sortino Ratio\n",
       "0       SPY  0.105518  0.103553       1.018976\n",
       "1       QQQ  0.167109  0.112546       1.484798\n",
       "2       VEA  0.034525  0.129210       0.267197\n",
       "3       VWO  0.029619  0.151472       0.195539\n",
       "4       TLT  0.068344  0.077732       0.879231\n",
       "5       IEF  0.047231  0.034199       1.381064\n",
       "6       SHY  0.016743  0.004694       3.566850\n",
       "7       IAU  0.068239  0.110531       0.617373\n",
       "8       DBC -0.011901  0.149045      -0.079846\n",
       "9  strategy  0.079514  0.050506       1.574344"
      ]
     },
     "execution_count": 99,
     "metadata": {},
     "output_type": "execute_result"
    }
   ],
   "source": [
    "Q.get_SRTR_report(result_df, 'a', unit='monthly')"
   ]
  },
  {
   "cell_type": "code",
   "execution_count": 25,
   "metadata": {
    "ExecuteTime": {
     "end_time": "2020-11-30T06:25:55.454289Z",
     "start_time": "2020-11-30T06:25:55.450300Z"
    }
   },
   "outputs": [],
   "source": [
    "result_df.to_csv('result/AWP_result.csv')"
   ]
  },
  {
   "cell_type": "code",
   "execution_count": 45,
   "metadata": {
    "ExecuteTime": {
     "end_time": "2020-11-30T06:27:02.829129Z",
     "start_time": "2020-11-30T06:27:02.205769Z"
    }
   },
   "outputs": [
    {
     "data": {
      "application/vnd.plotly.v1+json": {
       "config": {
        "linkText": "Export to plot.ly",
        "plotlyServerURL": "https://plot.ly",
        "showLink": true
       },
       "data": [
        {
         "line": {
          "color": "rgba(0, 128, 240, 1.0)",
          "dash": "solid",
          "shape": "linear",
          "width": 1.3
         },
         "mode": "lines",
         "name": "strategy",
         "text": "",
         "type": "scatter",
         "x": [
          "2007-07-31",
          "2007-08-31",
          "2007-09-28",
          "2007-10-31",
          "2007-11-30",
          "2007-12-31",
          "2008-01-31",
          "2008-02-29",
          "2008-03-31",
          "2008-04-30",
          "2008-05-30",
          "2008-06-30",
          "2008-07-31",
          "2008-08-29",
          "2008-09-30",
          "2008-10-31",
          "2008-11-28",
          "2008-12-31",
          "2009-01-30",
          "2009-02-27",
          "2009-03-31",
          "2009-04-30",
          "2009-05-29",
          "2009-06-30",
          "2009-07-31",
          "2009-08-31",
          "2009-09-30",
          "2009-10-30",
          "2009-11-30",
          "2009-12-31",
          "2010-01-29",
          "2010-02-26",
          "2010-03-31",
          "2010-04-30",
          "2010-05-28",
          "2010-06-30",
          "2010-07-30",
          "2010-08-31",
          "2010-09-30",
          "2010-10-29",
          "2010-11-30",
          "2010-12-31",
          "2011-01-31",
          "2011-02-28",
          "2011-03-31",
          "2011-04-29",
          "2011-05-31",
          "2011-06-30",
          "2011-07-29",
          "2011-08-31",
          "2011-09-30",
          "2011-10-31",
          "2011-11-30",
          "2011-12-30",
          "2012-01-31",
          "2012-02-29",
          "2012-03-30",
          "2012-04-30",
          "2012-05-31",
          "2012-06-29",
          "2012-07-31",
          "2012-08-31",
          "2012-09-28",
          "2012-10-31",
          "2012-11-30",
          "2012-12-31",
          "2013-01-31",
          "2013-02-28",
          "2013-03-28",
          "2013-04-30",
          "2013-05-31",
          "2013-06-28",
          "2013-07-31",
          "2013-08-30",
          "2013-09-30",
          "2013-10-31",
          "2013-11-29",
          "2013-12-31",
          "2014-01-31",
          "2014-02-28",
          "2014-03-31",
          "2014-04-30",
          "2014-05-30",
          "2014-06-30",
          "2014-07-31",
          "2014-08-29",
          "2014-09-30",
          "2014-10-31",
          "2014-11-28",
          "2014-12-31",
          "2015-01-30",
          "2015-02-27",
          "2015-03-31",
          "2015-04-30",
          "2015-05-29",
          "2015-06-30",
          "2015-07-31",
          "2015-08-31",
          "2015-09-30",
          "2015-10-30",
          "2015-11-30",
          "2015-12-31",
          "2016-01-29",
          "2016-02-29",
          "2016-03-31",
          "2016-04-29",
          "2016-05-31",
          "2016-06-30",
          "2016-07-29",
          "2016-08-31",
          "2016-09-30",
          "2016-10-31",
          "2016-11-30",
          "2016-12-30",
          "2017-01-31",
          "2017-02-28",
          "2017-03-31",
          "2017-04-28",
          "2017-05-31",
          "2017-06-30",
          "2017-07-31",
          "2017-08-31",
          "2017-09-29",
          "2017-10-31",
          "2017-11-30",
          "2017-12-29",
          "2018-01-31",
          "2018-02-28",
          "2018-03-29",
          "2018-04-30",
          "2018-05-31",
          "2018-06-29",
          "2018-07-31",
          "2018-08-31",
          "2018-09-28",
          "2018-10-31",
          "2018-11-30",
          "2018-12-31",
          "2019-01-31",
          "2019-02-28",
          "2019-03-29",
          "2019-04-30",
          "2019-05-31",
          "2019-06-28",
          "2019-07-31",
          "2019-08-30",
          "2019-09-30",
          "2019-10-31",
          "2019-11-29",
          "2019-12-31",
          "2020-01-31",
          "2020-02-28",
          "2020-03-31",
          "2020-04-30",
          "2020-05-29",
          "2020-06-30",
          "2020-07-31",
          "2020-08-31",
          "2020-09-30",
          "2020-10-30",
          "2020-11-30",
          "2020-12-31",
          "2021-01-29",
          "2021-02-26",
          "2021-03-31",
          "2021-04-30",
          "2021-05-28",
          "2021-06-30",
          "2021-07-30",
          "2021-08-31",
          "2021-09-30",
          "2021-10-29",
          "2021-11-30",
          "2021-12-22"
         ],
         "y": [
          0.9960725238854062,
          1.0117730330574932,
          1.032162964299839,
          1.0504887190317627,
          1.0572714807511725,
          1.0570661602023697,
          1.0458431472104608,
          1.0375880413772547,
          1.0420040912534707,
          1.0437650396374163,
          1.0397431781547708,
          1.0182761608034367,
          1.014391210283183,
          1.0230850007160825,
          0.9879644607122682,
          0.9085764804154284,
          0.925442702272081,
          0.9953946221417079,
          0.9393640683593257,
          0.9019039196792458,
          0.9566720620783441,
          0.9671726831398303,
          0.9848459875143774,
          0.9830341397711938,
          1.0143480455227505,
          1.0295586727447688,
          1.064817254989615,
          1.061083781400476,
          1.099474208542504,
          1.0783231519663332,
          1.0618609048157452,
          1.0728376683673027,
          1.0869626493832265,
          1.10519944359484,
          1.0877305846795582,
          1.0913510291163215,
          1.122744445349269,
          1.1270691480464474,
          1.1615738404544598,
          1.1746118342107423,
          1.169447175826078,
          1.1799130857392475,
          1.1773972088245837,
          1.1927827184768964,
          1.198021975664019,
          1.226369933745089,
          1.2351397947341087,
          1.2239565481544807,
          1.2405431365945843,
          1.2569530615732203,
          1.2448454421540294,
          1.29322115673712,
          1.297795893509242,
          1.3041828291825268,
          1.3382993458823602,
          1.3500418165947559,
          1.3494292474474332,
          1.35664261643748,
          1.3452670149584085,
          1.3654991032626058,
          1.3800454750088142,
          1.401614198283684,
          1.4118149972998826,
          1.390288419371062,
          1.3977125205294336,
          1.393302445725976,
          1.3931836446427721,
          1.39747819770727,
          1.411837374207829,
          1.432510439359998,
          1.4136040358252109,
          1.3720647322840167,
          1.3944775278761266,
          1.3824920056233214,
          1.4078313974840415,
          1.4368897128811462,
          1.4422919480513594,
          1.4479542951908329,
          1.4602346243294695,
          1.5018067816275855,
          1.4967052972882529,
          1.5058290179221623,
          1.529234042466953,
          1.5508718249466698,
          1.5430324579076982,
          1.5815674207614965,
          1.564402748394884,
          1.5872496630566397,
          1.616073953516499,
          1.6204937826447783,
          1.6531426469680308,
          1.6524370676527622,
          1.650679948553674,
          1.6444657433527579,
          1.6443896478892912,
          1.616181825927735,
          1.6425814801732164,
          1.6049855336191925,
          1.6141565576616743,
          1.6630968410986309,
          1.6484030391236058,
          1.6216741490849422,
          1.6265753047717852,
          1.648695084429877,
          1.6828001105965273,
          1.6803913257838372,
          1.6881751583515876,
          1.7271264999866809,
          1.755802477274585,
          1.7514801769912267,
          1.752797775933345,
          1.7237012845043111,
          1.6914589764744845,
          1.708441768210713,
          1.7294690877711685,
          1.7657611068393366,
          1.7692960358485783,
          1.7856199239987811,
          1.8106027352029586,
          1.8024480801922929,
          1.8302553503247037,
          1.8529272746624321,
          1.8472450031754493,
          1.8654181890642736,
          1.880723189912384,
          1.8933835413981608,
          1.917993965295764,
          1.88783525949827,
          1.8890871788995507,
          1.8928012271271857,
          1.9236533561042255,
          1.9213426808477532,
          1.935481236359601,
          1.9718771867254918,
          1.9647591751410962,
          1.9041173052157823,
          1.9139739159243305,
          1.880044048562579,
          1.9424350729630584,
          1.9628188075648576,
          2.0122084713349118,
          2.0344524583066326,
          2.0287483397783,
          2.101092893735502,
          2.1090691285992196,
          2.1531147412173435,
          2.1484175838045494,
          2.1786444212083937,
          2.1911367998978135,
          2.2222947532648076,
          2.2611415835574515,
          2.2373783366573656,
          2.1609411924887127,
          2.3113230788208963,
          2.377006991518298,
          2.408973446531738,
          2.4977901294316176,
          2.5366724182567344,
          2.4796092286573517,
          2.4231146033697057,
          2.509709530580529,
          2.548676041909108,
          2.5264629528885494,
          2.477899511629555,
          2.454949365590814,
          2.5015154239697264,
          2.516018055670064,
          2.5583437029993266,
          2.6075177144726824,
          2.62808299404971,
          2.5521000564401297,
          2.609104132229778,
          2.6208223881439725,
          2.6483345599120756
         ]
        },
        {
         "line": {
          "color": "rgba(238, 118, 0, 1.0)",
          "dash": "solid",
          "shape": "linear",
          "width": 1.3
         },
         "mode": "lines",
         "name": "SPY",
         "text": "",
         "type": "scatter",
         "x": [
          "2007-07-31",
          "2007-08-31",
          "2007-09-28",
          "2007-10-31",
          "2007-11-30",
          "2007-12-31",
          "2008-01-31",
          "2008-02-29",
          "2008-03-31",
          "2008-04-30",
          "2008-05-30",
          "2008-06-30",
          "2008-07-31",
          "2008-08-29",
          "2008-09-30",
          "2008-10-31",
          "2008-11-28",
          "2008-12-31",
          "2009-01-30",
          "2009-02-27",
          "2009-03-31",
          "2009-04-30",
          "2009-05-29",
          "2009-06-30",
          "2009-07-31",
          "2009-08-31",
          "2009-09-30",
          "2009-10-30",
          "2009-11-30",
          "2009-12-31",
          "2010-01-29",
          "2010-02-26",
          "2010-03-31",
          "2010-04-30",
          "2010-05-28",
          "2010-06-30",
          "2010-07-30",
          "2010-08-31",
          "2010-09-30",
          "2010-10-29",
          "2010-11-30",
          "2010-12-31",
          "2011-01-31",
          "2011-02-28",
          "2011-03-31",
          "2011-04-29",
          "2011-05-31",
          "2011-06-30",
          "2011-07-29",
          "2011-08-31",
          "2011-09-30",
          "2011-10-31",
          "2011-11-30",
          "2011-12-30",
          "2012-01-31",
          "2012-02-29",
          "2012-03-30",
          "2012-04-30",
          "2012-05-31",
          "2012-06-29",
          "2012-07-31",
          "2012-08-31",
          "2012-09-28",
          "2012-10-31",
          "2012-11-30",
          "2012-12-31",
          "2013-01-31",
          "2013-02-28",
          "2013-03-28",
          "2013-04-30",
          "2013-05-31",
          "2013-06-28",
          "2013-07-31",
          "2013-08-30",
          "2013-09-30",
          "2013-10-31",
          "2013-11-29",
          "2013-12-31",
          "2014-01-31",
          "2014-02-28",
          "2014-03-31",
          "2014-04-30",
          "2014-05-30",
          "2014-06-30",
          "2014-07-31",
          "2014-08-29",
          "2014-09-30",
          "2014-10-31",
          "2014-11-28",
          "2014-12-31",
          "2015-01-30",
          "2015-02-27",
          "2015-03-31",
          "2015-04-30",
          "2015-05-29",
          "2015-06-30",
          "2015-07-31",
          "2015-08-31",
          "2015-09-30",
          "2015-10-30",
          "2015-11-30",
          "2015-12-31",
          "2016-01-29",
          "2016-02-29",
          "2016-03-31",
          "2016-04-29",
          "2016-05-31",
          "2016-06-30",
          "2016-07-29",
          "2016-08-31",
          "2016-09-30",
          "2016-10-31",
          "2016-11-30",
          "2016-12-30",
          "2017-01-31",
          "2017-02-28",
          "2017-03-31",
          "2017-04-28",
          "2017-05-31",
          "2017-06-30",
          "2017-07-31",
          "2017-08-31",
          "2017-09-29",
          "2017-10-31",
          "2017-11-30",
          "2017-12-29",
          "2018-01-31",
          "2018-02-28",
          "2018-03-29",
          "2018-04-30",
          "2018-05-31",
          "2018-06-29",
          "2018-07-31",
          "2018-08-31",
          "2018-09-28",
          "2018-10-31",
          "2018-11-30",
          "2018-12-31",
          "2019-01-31",
          "2019-02-28",
          "2019-03-29",
          "2019-04-30",
          "2019-05-31",
          "2019-06-28",
          "2019-07-31",
          "2019-08-30",
          "2019-09-30",
          "2019-10-31",
          "2019-11-29",
          "2019-12-31",
          "2020-01-31",
          "2020-02-28",
          "2020-03-31",
          "2020-04-30",
          "2020-05-29",
          "2020-06-30",
          "2020-07-31",
          "2020-08-31",
          "2020-09-30",
          "2020-10-30",
          "2020-11-30",
          "2020-12-31",
          "2021-01-29",
          "2021-02-26",
          "2021-03-31",
          "2021-04-30",
          "2021-05-28",
          "2021-06-30",
          "2021-07-30",
          "2021-08-31",
          "2021-09-30",
          "2021-10-29",
          "2021-11-30",
          "2021-12-22"
         ],
         "y": [
          0.9844616558557561,
          0.997095067123014,
          1.0356970157347665,
          1.0497477492409781,
          1.0090883175109928,
          0.9977254619037909,
          0.9374020596151538,
          0.913176839628627,
          0.9050109369986923,
          0.948145730822254,
          0.9624786495549031,
          0.8820386661847808,
          0.8741128582722465,
          0.8876210918842002,
          0.8040307164430494,
          0.6712153531321494,
          0.6244944066734089,
          0.630612110856222,
          0.5788297806857521,
          0.5166352764545211,
          0.5596764670382139,
          0.6152783045777899,
          0.6512434065939734,
          0.6508167931502511,
          0.6993715653164577,
          0.7252060595202439,
          0.7509195091228771,
          0.7364829459504907,
          0.7818554142871831,
          0.796789910932494,
          0.7678326035696466,
          0.7917847854501638,
          0.8399884594976855,
          0.8529829413081551,
          0.785209587695266,
          0.7445822052744497,
          0.7954375126159767,
          0.7596584478987242,
          0.8276892963904293,
          0.8593088972252244,
          0.8593088972252244,
          0.9167556333022583,
          0.9381161539866143,
          0.9707038365292662,
          0.9708202044071926,
          0.9989367332194184,
          0.9877341929334025,
          0.9710712344039018,
          0.9516455704037697,
          0.8993283056266138,
          0.8368960450395957,
          0.928240840242103,
          0.9244687190833347,
          0.9341278031539684,
          0.9774476026463376,
          1.0198740104517887,
          1.0526773036902441,
          1.0456495641878543,
          0.9828525879645216,
          1.022738022000544,
          1.034836361110433,
          1.0607621201924746,
          1.0876531411933692,
          1.0678598042172351,
          1.0739035061325253,
          1.083498354034138,
          1.138962434564561,
          1.1534942515850137,
          1.1972939654108175,
          1.2202971163530911,
          1.2491079322384069,
          1.2324394029062395,
          1.2961278451069267,
          1.2572540963453127,
          1.2970415942949478,
          1.3571029625322255,
          1.3973245704378134,
          1.433552531809455,
          1.3830220504061357,
          1.4459712952356913,
          1.4579666776592588,
          1.46810141199215,
          1.5021709280441429,
          1.5331829675115602,
          1.5125807637432906,
          1.5722722581936364,
          1.550580928116357,
          1.5870982961253004,
          1.6306992492139838,
          1.6265625499695842,
          1.578369192223297,
          1.6670805795973136,
          1.6408978070638465,
          1.6570342903536737,
          1.6783374524031651,
          1.6442466159952875,
          1.6813891518590491,
          1.5789088035532093,
          1.5386207586676703,
          1.6694955569409966,
          1.6755978554472994,
          1.646639447678987,
          1.5646589654331695,
          1.5633662641131298,
          1.6685280254358723,
          1.6751037733935026,
          1.703600010866504,
          1.709521567775176,
          1.7718698536701445,
          1.7739917105080814,
          1.7740948735204274,
          1.7433367526140648,
          1.8075590290159727,
          1.8442012930451968,
          1.8772028655933817,
          1.950960843103157,
          1.9533994791643383,
          1.9727893112115156,
          2.0006309449835094,
          2.0133850569752125,
          2.054768417950502,
          2.0607638395760137,
          2.1022869520453615,
          2.151825280371277,
          2.2175976154213575,
          2.244493175594795,
          2.370990560928247,
          2.284780532726918,
          2.2221526062931503,
          2.2336378132329946,
          2.287935670296515,
          2.3010930808911496,
          2.3863412171653624,
          2.4625123838599405,
          2.4771530034707476,
          2.305971178317611,
          2.3487458644527424,
          2.1419417135857777,
          2.31343770449918,
          2.3884295116366157,
          2.431661416242466,
          2.5310005195977054,
          2.369595797001326,
          2.5344879796177398,
          2.5728082244304455,
          2.5297301014883327,
          2.5789534387498843,
          2.635960769169665,
          2.7313772021434524,
          2.8107389944838737,
          2.809603651145333,
          2.587179794905054,
          2.2641150556444094,
          2.551620742505465,
          2.6731932631801922,
          2.7206003812217183,
          2.8808224430445604,
          3.081894581844204,
          2.9664975366392037,
          2.892531857597904,
          3.2071721677196745,
          3.3259928494277378,
          3.292099810902198,
          3.3836381399158673,
          3.5372528171239597,
          3.724410603919713,
          3.7488654647717228,
          3.8329427696311473,
          3.9265143728428185,
          4.043366979376682,
          3.854923918997778,
          4.12539890557799,
          4.092252217059104,
          4.21600161484502
         ]
        }
       ],
       "layout": {
        "legend": {
         "bgcolor": "#F2F3F7",
         "font": {
          "color": "#505050"
         }
        },
        "paper_bgcolor": "#F2F3F7",
        "plot_bgcolor": "#F2F3F7",
        "template": {
         "data": {
          "bar": [
           {
            "error_x": {
             "color": "#2a3f5f"
            },
            "error_y": {
             "color": "#2a3f5f"
            },
            "marker": {
             "line": {
              "color": "#E5ECF6",
              "width": 0.5
             }
            },
            "type": "bar"
           }
          ],
          "barpolar": [
           {
            "marker": {
             "line": {
              "color": "#E5ECF6",
              "width": 0.5
             }
            },
            "type": "barpolar"
           }
          ],
          "carpet": [
           {
            "aaxis": {
             "endlinecolor": "#2a3f5f",
             "gridcolor": "white",
             "linecolor": "white",
             "minorgridcolor": "white",
             "startlinecolor": "#2a3f5f"
            },
            "baxis": {
             "endlinecolor": "#2a3f5f",
             "gridcolor": "white",
             "linecolor": "white",
             "minorgridcolor": "white",
             "startlinecolor": "#2a3f5f"
            },
            "type": "carpet"
           }
          ],
          "choropleth": [
           {
            "colorbar": {
             "outlinewidth": 0,
             "ticks": ""
            },
            "type": "choropleth"
           }
          ],
          "contour": [
           {
            "colorbar": {
             "outlinewidth": 0,
             "ticks": ""
            },
            "colorscale": [
             [
              0,
              "#0d0887"
             ],
             [
              0.1111111111111111,
              "#46039f"
             ],
             [
              0.2222222222222222,
              "#7201a8"
             ],
             [
              0.3333333333333333,
              "#9c179e"
             ],
             [
              0.4444444444444444,
              "#bd3786"
             ],
             [
              0.5555555555555556,
              "#d8576b"
             ],
             [
              0.6666666666666666,
              "#ed7953"
             ],
             [
              0.7777777777777778,
              "#fb9f3a"
             ],
             [
              0.8888888888888888,
              "#fdca26"
             ],
             [
              1,
              "#f0f921"
             ]
            ],
            "type": "contour"
           }
          ],
          "contourcarpet": [
           {
            "colorbar": {
             "outlinewidth": 0,
             "ticks": ""
            },
            "type": "contourcarpet"
           }
          ],
          "heatmap": [
           {
            "colorbar": {
             "outlinewidth": 0,
             "ticks": ""
            },
            "colorscale": [
             [
              0,
              "#0d0887"
             ],
             [
              0.1111111111111111,
              "#46039f"
             ],
             [
              0.2222222222222222,
              "#7201a8"
             ],
             [
              0.3333333333333333,
              "#9c179e"
             ],
             [
              0.4444444444444444,
              "#bd3786"
             ],
             [
              0.5555555555555556,
              "#d8576b"
             ],
             [
              0.6666666666666666,
              "#ed7953"
             ],
             [
              0.7777777777777778,
              "#fb9f3a"
             ],
             [
              0.8888888888888888,
              "#fdca26"
             ],
             [
              1,
              "#f0f921"
             ]
            ],
            "type": "heatmap"
           }
          ],
          "heatmapgl": [
           {
            "colorbar": {
             "outlinewidth": 0,
             "ticks": ""
            },
            "colorscale": [
             [
              0,
              "#0d0887"
             ],
             [
              0.1111111111111111,
              "#46039f"
             ],
             [
              0.2222222222222222,
              "#7201a8"
             ],
             [
              0.3333333333333333,
              "#9c179e"
             ],
             [
              0.4444444444444444,
              "#bd3786"
             ],
             [
              0.5555555555555556,
              "#d8576b"
             ],
             [
              0.6666666666666666,
              "#ed7953"
             ],
             [
              0.7777777777777778,
              "#fb9f3a"
             ],
             [
              0.8888888888888888,
              "#fdca26"
             ],
             [
              1,
              "#f0f921"
             ]
            ],
            "type": "heatmapgl"
           }
          ],
          "histogram": [
           {
            "marker": {
             "colorbar": {
              "outlinewidth": 0,
              "ticks": ""
             }
            },
            "type": "histogram"
           }
          ],
          "histogram2d": [
           {
            "colorbar": {
             "outlinewidth": 0,
             "ticks": ""
            },
            "colorscale": [
             [
              0,
              "#0d0887"
             ],
             [
              0.1111111111111111,
              "#46039f"
             ],
             [
              0.2222222222222222,
              "#7201a8"
             ],
             [
              0.3333333333333333,
              "#9c179e"
             ],
             [
              0.4444444444444444,
              "#bd3786"
             ],
             [
              0.5555555555555556,
              "#d8576b"
             ],
             [
              0.6666666666666666,
              "#ed7953"
             ],
             [
              0.7777777777777778,
              "#fb9f3a"
             ],
             [
              0.8888888888888888,
              "#fdca26"
             ],
             [
              1,
              "#f0f921"
             ]
            ],
            "type": "histogram2d"
           }
          ],
          "histogram2dcontour": [
           {
            "colorbar": {
             "outlinewidth": 0,
             "ticks": ""
            },
            "colorscale": [
             [
              0,
              "#0d0887"
             ],
             [
              0.1111111111111111,
              "#46039f"
             ],
             [
              0.2222222222222222,
              "#7201a8"
             ],
             [
              0.3333333333333333,
              "#9c179e"
             ],
             [
              0.4444444444444444,
              "#bd3786"
             ],
             [
              0.5555555555555556,
              "#d8576b"
             ],
             [
              0.6666666666666666,
              "#ed7953"
             ],
             [
              0.7777777777777778,
              "#fb9f3a"
             ],
             [
              0.8888888888888888,
              "#fdca26"
             ],
             [
              1,
              "#f0f921"
             ]
            ],
            "type": "histogram2dcontour"
           }
          ],
          "mesh3d": [
           {
            "colorbar": {
             "outlinewidth": 0,
             "ticks": ""
            },
            "type": "mesh3d"
           }
          ],
          "parcoords": [
           {
            "line": {
             "colorbar": {
              "outlinewidth": 0,
              "ticks": ""
             }
            },
            "type": "parcoords"
           }
          ],
          "pie": [
           {
            "automargin": true,
            "type": "pie"
           }
          ],
          "scatter": [
           {
            "marker": {
             "colorbar": {
              "outlinewidth": 0,
              "ticks": ""
             }
            },
            "type": "scatter"
           }
          ],
          "scatter3d": [
           {
            "line": {
             "colorbar": {
              "outlinewidth": 0,
              "ticks": ""
             }
            },
            "marker": {
             "colorbar": {
              "outlinewidth": 0,
              "ticks": ""
             }
            },
            "type": "scatter3d"
           }
          ],
          "scattercarpet": [
           {
            "marker": {
             "colorbar": {
              "outlinewidth": 0,
              "ticks": ""
             }
            },
            "type": "scattercarpet"
           }
          ],
          "scattergeo": [
           {
            "marker": {
             "colorbar": {
              "outlinewidth": 0,
              "ticks": ""
             }
            },
            "type": "scattergeo"
           }
          ],
          "scattergl": [
           {
            "marker": {
             "colorbar": {
              "outlinewidth": 0,
              "ticks": ""
             }
            },
            "type": "scattergl"
           }
          ],
          "scattermapbox": [
           {
            "marker": {
             "colorbar": {
              "outlinewidth": 0,
              "ticks": ""
             }
            },
            "type": "scattermapbox"
           }
          ],
          "scatterpolar": [
           {
            "marker": {
             "colorbar": {
              "outlinewidth": 0,
              "ticks": ""
             }
            },
            "type": "scatterpolar"
           }
          ],
          "scatterpolargl": [
           {
            "marker": {
             "colorbar": {
              "outlinewidth": 0,
              "ticks": ""
             }
            },
            "type": "scatterpolargl"
           }
          ],
          "scatterternary": [
           {
            "marker": {
             "colorbar": {
              "outlinewidth": 0,
              "ticks": ""
             }
            },
            "type": "scatterternary"
           }
          ],
          "surface": [
           {
            "colorbar": {
             "outlinewidth": 0,
             "ticks": ""
            },
            "colorscale": [
             [
              0,
              "#0d0887"
             ],
             [
              0.1111111111111111,
              "#46039f"
             ],
             [
              0.2222222222222222,
              "#7201a8"
             ],
             [
              0.3333333333333333,
              "#9c179e"
             ],
             [
              0.4444444444444444,
              "#bd3786"
             ],
             [
              0.5555555555555556,
              "#d8576b"
             ],
             [
              0.6666666666666666,
              "#ed7953"
             ],
             [
              0.7777777777777778,
              "#fb9f3a"
             ],
             [
              0.8888888888888888,
              "#fdca26"
             ],
             [
              1,
              "#f0f921"
             ]
            ],
            "type": "surface"
           }
          ],
          "table": [
           {
            "cells": {
             "fill": {
              "color": "#EBF0F8"
             },
             "line": {
              "color": "white"
             }
            },
            "header": {
             "fill": {
              "color": "#C8D4E3"
             },
             "line": {
              "color": "white"
             }
            },
            "type": "table"
           }
          ]
         },
         "layout": {
          "annotationdefaults": {
           "arrowcolor": "#2a3f5f",
           "arrowhead": 0,
           "arrowwidth": 1
          },
          "coloraxis": {
           "colorbar": {
            "outlinewidth": 0,
            "ticks": ""
           }
          },
          "colorscale": {
           "diverging": [
            [
             0,
             "#8e0152"
            ],
            [
             0.1,
             "#c51b7d"
            ],
            [
             0.2,
             "#de77ae"
            ],
            [
             0.3,
             "#f1b6da"
            ],
            [
             0.4,
             "#fde0ef"
            ],
            [
             0.5,
             "#f7f7f7"
            ],
            [
             0.6,
             "#e6f5d0"
            ],
            [
             0.7,
             "#b8e186"
            ],
            [
             0.8,
             "#7fbc41"
            ],
            [
             0.9,
             "#4d9221"
            ],
            [
             1,
             "#276419"
            ]
           ],
           "sequential": [
            [
             0,
             "#0d0887"
            ],
            [
             0.1111111111111111,
             "#46039f"
            ],
            [
             0.2222222222222222,
             "#7201a8"
            ],
            [
             0.3333333333333333,
             "#9c179e"
            ],
            [
             0.4444444444444444,
             "#bd3786"
            ],
            [
             0.5555555555555556,
             "#d8576b"
            ],
            [
             0.6666666666666666,
             "#ed7953"
            ],
            [
             0.7777777777777778,
             "#fb9f3a"
            ],
            [
             0.8888888888888888,
             "#fdca26"
            ],
            [
             1,
             "#f0f921"
            ]
           ],
           "sequentialminus": [
            [
             0,
             "#0d0887"
            ],
            [
             0.1111111111111111,
             "#46039f"
            ],
            [
             0.2222222222222222,
             "#7201a8"
            ],
            [
             0.3333333333333333,
             "#9c179e"
            ],
            [
             0.4444444444444444,
             "#bd3786"
            ],
            [
             0.5555555555555556,
             "#d8576b"
            ],
            [
             0.6666666666666666,
             "#ed7953"
            ],
            [
             0.7777777777777778,
             "#fb9f3a"
            ],
            [
             0.8888888888888888,
             "#fdca26"
            ],
            [
             1,
             "#f0f921"
            ]
           ]
          },
          "colorway": [
           "#636efa",
           "#EF553B",
           "#00cc96",
           "#ab63fa",
           "#FFA15A",
           "#19d3f3",
           "#FF6692",
           "#B6E880",
           "#FF97FF",
           "#FECB52"
          ],
          "font": {
           "color": "#2a3f5f"
          },
          "geo": {
           "bgcolor": "white",
           "lakecolor": "white",
           "landcolor": "#E5ECF6",
           "showlakes": true,
           "showland": true,
           "subunitcolor": "white"
          },
          "hoverlabel": {
           "align": "left"
          },
          "hovermode": "closest",
          "mapbox": {
           "style": "light"
          },
          "paper_bgcolor": "white",
          "plot_bgcolor": "#E5ECF6",
          "polar": {
           "angularaxis": {
            "gridcolor": "white",
            "linecolor": "white",
            "ticks": ""
           },
           "bgcolor": "#E5ECF6",
           "radialaxis": {
            "gridcolor": "white",
            "linecolor": "white",
            "ticks": ""
           }
          },
          "scene": {
           "xaxis": {
            "backgroundcolor": "#E5ECF6",
            "gridcolor": "white",
            "gridwidth": 2,
            "linecolor": "white",
            "showbackground": true,
            "ticks": "",
            "zerolinecolor": "white"
           },
           "yaxis": {
            "backgroundcolor": "#E5ECF6",
            "gridcolor": "white",
            "gridwidth": 2,
            "linecolor": "white",
            "showbackground": true,
            "ticks": "",
            "zerolinecolor": "white"
           },
           "zaxis": {
            "backgroundcolor": "#E5ECF6",
            "gridcolor": "white",
            "gridwidth": 2,
            "linecolor": "white",
            "showbackground": true,
            "ticks": "",
            "zerolinecolor": "white"
           }
          },
          "shapedefaults": {
           "line": {
            "color": "#2a3f5f"
           }
          },
          "ternary": {
           "aaxis": {
            "gridcolor": "white",
            "linecolor": "white",
            "ticks": ""
           },
           "baxis": {
            "gridcolor": "white",
            "linecolor": "white",
            "ticks": ""
           },
           "bgcolor": "#E5ECF6",
           "caxis": {
            "gridcolor": "white",
            "linecolor": "white",
            "ticks": ""
           }
          },
          "title": {
           "x": 0.05
          },
          "xaxis": {
           "automargin": true,
           "gridcolor": "white",
           "linecolor": "white",
           "ticks": "",
           "title": {
            "standoff": 15
           },
           "zerolinecolor": "white",
           "zerolinewidth": 2
          },
          "yaxis": {
           "automargin": true,
           "gridcolor": "white",
           "linecolor": "white",
           "ticks": "",
           "title": {
            "standoff": 15
           },
           "zerolinecolor": "white",
           "zerolinewidth": 2
          }
         }
        },
        "title": {
         "font": {
          "color": "#484848"
         }
        },
        "xaxis": {
         "gridcolor": "#E1E5ED",
         "showgrid": true,
         "tickfont": {
          "color": "#505050"
         },
         "title": {
          "font": {
           "color": "#505050"
          },
          "text": ""
         },
         "zerolinecolor": "#E1E5ED"
        },
        "yaxis": {
         "gridcolor": "#E1E5ED",
         "showgrid": true,
         "tickfont": {
          "color": "#505050"
         },
         "title": {
          "font": {
           "color": "#505050"
          },
          "text": ""
         },
         "zerolinecolor": "#E1E5ED"
        }
       }
      },
      "text/html": [
       "<div>                            <div id=\"c6e521db-619f-45bf-850d-48f3b45674be\" class=\"plotly-graph-div\" style=\"height:525px; width:100%;\"></div>            <script type=\"text/javascript\">                require([\"plotly\"], function(Plotly) {                    window.PLOTLYENV=window.PLOTLYENV || {};\n",
       "                    window.PLOTLYENV.BASE_URL='https://plot.ly';                                    if (document.getElementById(\"c6e521db-619f-45bf-850d-48f3b45674be\")) {                    Plotly.newPlot(                        \"c6e521db-619f-45bf-850d-48f3b45674be\",                        [{\"line\": {\"color\": \"rgba(0, 128, 240, 1.0)\", \"dash\": \"solid\", \"shape\": \"linear\", \"width\": 1.3}, \"mode\": \"lines\", \"name\": \"strategy\", \"text\": \"\", \"type\": \"scatter\", \"x\": [\"2007-07-31\", \"2007-08-31\", \"2007-09-28\", \"2007-10-31\", \"2007-11-30\", \"2007-12-31\", \"2008-01-31\", \"2008-02-29\", \"2008-03-31\", \"2008-04-30\", \"2008-05-30\", \"2008-06-30\", \"2008-07-31\", \"2008-08-29\", \"2008-09-30\", \"2008-10-31\", \"2008-11-28\", \"2008-12-31\", \"2009-01-30\", \"2009-02-27\", \"2009-03-31\", \"2009-04-30\", \"2009-05-29\", \"2009-06-30\", \"2009-07-31\", \"2009-08-31\", \"2009-09-30\", \"2009-10-30\", \"2009-11-30\", \"2009-12-31\", \"2010-01-29\", \"2010-02-26\", \"2010-03-31\", \"2010-04-30\", \"2010-05-28\", \"2010-06-30\", \"2010-07-30\", \"2010-08-31\", \"2010-09-30\", \"2010-10-29\", \"2010-11-30\", \"2010-12-31\", \"2011-01-31\", \"2011-02-28\", \"2011-03-31\", \"2011-04-29\", \"2011-05-31\", \"2011-06-30\", \"2011-07-29\", \"2011-08-31\", \"2011-09-30\", \"2011-10-31\", \"2011-11-30\", \"2011-12-30\", \"2012-01-31\", \"2012-02-29\", \"2012-03-30\", \"2012-04-30\", \"2012-05-31\", \"2012-06-29\", \"2012-07-31\", \"2012-08-31\", \"2012-09-28\", \"2012-10-31\", \"2012-11-30\", \"2012-12-31\", \"2013-01-31\", \"2013-02-28\", \"2013-03-28\", \"2013-04-30\", \"2013-05-31\", \"2013-06-28\", \"2013-07-31\", \"2013-08-30\", \"2013-09-30\", \"2013-10-31\", \"2013-11-29\", \"2013-12-31\", \"2014-01-31\", \"2014-02-28\", \"2014-03-31\", \"2014-04-30\", \"2014-05-30\", \"2014-06-30\", \"2014-07-31\", \"2014-08-29\", \"2014-09-30\", \"2014-10-31\", \"2014-11-28\", \"2014-12-31\", \"2015-01-30\", \"2015-02-27\", \"2015-03-31\", \"2015-04-30\", \"2015-05-29\", \"2015-06-30\", \"2015-07-31\", \"2015-08-31\", \"2015-09-30\", \"2015-10-30\", \"2015-11-30\", \"2015-12-31\", \"2016-01-29\", \"2016-02-29\", \"2016-03-31\", \"2016-04-29\", \"2016-05-31\", \"2016-06-30\", \"2016-07-29\", \"2016-08-31\", \"2016-09-30\", \"2016-10-31\", \"2016-11-30\", \"2016-12-30\", \"2017-01-31\", \"2017-02-28\", \"2017-03-31\", \"2017-04-28\", \"2017-05-31\", \"2017-06-30\", \"2017-07-31\", \"2017-08-31\", \"2017-09-29\", \"2017-10-31\", \"2017-11-30\", \"2017-12-29\", \"2018-01-31\", \"2018-02-28\", \"2018-03-29\", \"2018-04-30\", \"2018-05-31\", \"2018-06-29\", \"2018-07-31\", \"2018-08-31\", \"2018-09-28\", \"2018-10-31\", \"2018-11-30\", \"2018-12-31\", \"2019-01-31\", \"2019-02-28\", \"2019-03-29\", \"2019-04-30\", \"2019-05-31\", \"2019-06-28\", \"2019-07-31\", \"2019-08-30\", \"2019-09-30\", \"2019-10-31\", \"2019-11-29\", \"2019-12-31\", \"2020-01-31\", \"2020-02-28\", \"2020-03-31\", \"2020-04-30\", \"2020-05-29\", \"2020-06-30\", \"2020-07-31\", \"2020-08-31\", \"2020-09-30\", \"2020-10-30\", \"2020-11-30\", \"2020-12-31\", \"2021-01-29\", \"2021-02-26\", \"2021-03-31\", \"2021-04-30\", \"2021-05-28\", \"2021-06-30\", \"2021-07-30\", \"2021-08-31\", \"2021-09-30\", \"2021-10-29\", \"2021-11-30\", \"2021-12-22\"], \"y\": [0.9960725238854062, 1.0117730330574932, 1.032162964299839, 1.0504887190317627, 1.0572714807511725, 1.0570661602023697, 1.0458431472104608, 1.0375880413772547, 1.0420040912534707, 1.0437650396374163, 1.0397431781547708, 1.0182761608034367, 1.014391210283183, 1.0230850007160825, 0.9879644607122682, 0.9085764804154284, 0.925442702272081, 0.9953946221417079, 0.9393640683593257, 0.9019039196792458, 0.9566720620783441, 0.9671726831398303, 0.9848459875143774, 0.9830341397711938, 1.0143480455227505, 1.0295586727447688, 1.064817254989615, 1.061083781400476, 1.099474208542504, 1.0783231519663332, 1.0618609048157452, 1.0728376683673027, 1.0869626493832265, 1.10519944359484, 1.0877305846795582, 1.0913510291163215, 1.122744445349269, 1.1270691480464474, 1.1615738404544598, 1.1746118342107423, 1.169447175826078, 1.1799130857392475, 1.1773972088245837, 1.1927827184768964, 1.198021975664019, 1.226369933745089, 1.2351397947341087, 1.2239565481544807, 1.2405431365945843, 1.2569530615732203, 1.2448454421540294, 1.29322115673712, 1.297795893509242, 1.3041828291825268, 1.3382993458823602, 1.3500418165947559, 1.3494292474474332, 1.35664261643748, 1.3452670149584085, 1.3654991032626058, 1.3800454750088142, 1.401614198283684, 1.4118149972998826, 1.390288419371062, 1.3977125205294336, 1.393302445725976, 1.3931836446427721, 1.39747819770727, 1.411837374207829, 1.432510439359998, 1.4136040358252109, 1.3720647322840167, 1.3944775278761266, 1.3824920056233214, 1.4078313974840415, 1.4368897128811462, 1.4422919480513594, 1.4479542951908329, 1.4602346243294695, 1.5018067816275855, 1.4967052972882529, 1.5058290179221623, 1.529234042466953, 1.5508718249466698, 1.5430324579076982, 1.5815674207614965, 1.564402748394884, 1.5872496630566397, 1.616073953516499, 1.6204937826447783, 1.6531426469680308, 1.6524370676527622, 1.650679948553674, 1.6444657433527579, 1.6443896478892912, 1.616181825927735, 1.6425814801732164, 1.6049855336191925, 1.6141565576616743, 1.6630968410986309, 1.6484030391236058, 1.6216741490849422, 1.6265753047717852, 1.648695084429877, 1.6828001105965273, 1.6803913257838372, 1.6881751583515876, 1.7271264999866809, 1.755802477274585, 1.7514801769912267, 1.752797775933345, 1.7237012845043111, 1.6914589764744845, 1.708441768210713, 1.7294690877711685, 1.7657611068393366, 1.7692960358485783, 1.7856199239987811, 1.8106027352029586, 1.8024480801922929, 1.8302553503247037, 1.8529272746624321, 1.8472450031754493, 1.8654181890642736, 1.880723189912384, 1.8933835413981608, 1.917993965295764, 1.88783525949827, 1.8890871788995507, 1.8928012271271857, 1.9236533561042255, 1.9213426808477532, 1.935481236359601, 1.9718771867254918, 1.9647591751410962, 1.9041173052157823, 1.9139739159243305, 1.880044048562579, 1.9424350729630584, 1.9628188075648576, 2.0122084713349118, 2.0344524583066326, 2.0287483397783, 2.101092893735502, 2.1090691285992196, 2.1531147412173435, 2.1484175838045494, 2.1786444212083937, 2.1911367998978135, 2.2222947532648076, 2.2611415835574515, 2.2373783366573656, 2.1609411924887127, 2.3113230788208963, 2.377006991518298, 2.408973446531738, 2.4977901294316176, 2.5366724182567344, 2.4796092286573517, 2.4231146033697057, 2.509709530580529, 2.548676041909108, 2.5264629528885494, 2.477899511629555, 2.454949365590814, 2.5015154239697264, 2.516018055670064, 2.5583437029993266, 2.6075177144726824, 2.62808299404971, 2.5521000564401297, 2.609104132229778, 2.6208223881439725, 2.6483345599120756]}, {\"line\": {\"color\": \"rgba(238, 118, 0, 1.0)\", \"dash\": \"solid\", \"shape\": \"linear\", \"width\": 1.3}, \"mode\": \"lines\", \"name\": \"SPY\", \"text\": \"\", \"type\": \"scatter\", \"x\": [\"2007-07-31\", \"2007-08-31\", \"2007-09-28\", \"2007-10-31\", \"2007-11-30\", \"2007-12-31\", \"2008-01-31\", \"2008-02-29\", \"2008-03-31\", \"2008-04-30\", \"2008-05-30\", \"2008-06-30\", \"2008-07-31\", \"2008-08-29\", \"2008-09-30\", \"2008-10-31\", \"2008-11-28\", \"2008-12-31\", \"2009-01-30\", \"2009-02-27\", \"2009-03-31\", \"2009-04-30\", \"2009-05-29\", \"2009-06-30\", \"2009-07-31\", \"2009-08-31\", \"2009-09-30\", \"2009-10-30\", \"2009-11-30\", \"2009-12-31\", \"2010-01-29\", \"2010-02-26\", \"2010-03-31\", \"2010-04-30\", \"2010-05-28\", \"2010-06-30\", \"2010-07-30\", \"2010-08-31\", \"2010-09-30\", \"2010-10-29\", \"2010-11-30\", \"2010-12-31\", \"2011-01-31\", \"2011-02-28\", \"2011-03-31\", \"2011-04-29\", \"2011-05-31\", \"2011-06-30\", \"2011-07-29\", \"2011-08-31\", \"2011-09-30\", \"2011-10-31\", \"2011-11-30\", \"2011-12-30\", \"2012-01-31\", \"2012-02-29\", \"2012-03-30\", \"2012-04-30\", \"2012-05-31\", \"2012-06-29\", \"2012-07-31\", \"2012-08-31\", \"2012-09-28\", \"2012-10-31\", \"2012-11-30\", \"2012-12-31\", \"2013-01-31\", \"2013-02-28\", \"2013-03-28\", \"2013-04-30\", \"2013-05-31\", \"2013-06-28\", \"2013-07-31\", \"2013-08-30\", \"2013-09-30\", \"2013-10-31\", \"2013-11-29\", \"2013-12-31\", \"2014-01-31\", \"2014-02-28\", \"2014-03-31\", \"2014-04-30\", \"2014-05-30\", \"2014-06-30\", \"2014-07-31\", \"2014-08-29\", \"2014-09-30\", \"2014-10-31\", \"2014-11-28\", \"2014-12-31\", \"2015-01-30\", \"2015-02-27\", \"2015-03-31\", \"2015-04-30\", \"2015-05-29\", \"2015-06-30\", \"2015-07-31\", \"2015-08-31\", \"2015-09-30\", \"2015-10-30\", \"2015-11-30\", \"2015-12-31\", \"2016-01-29\", \"2016-02-29\", \"2016-03-31\", \"2016-04-29\", \"2016-05-31\", \"2016-06-30\", \"2016-07-29\", \"2016-08-31\", \"2016-09-30\", \"2016-10-31\", \"2016-11-30\", \"2016-12-30\", \"2017-01-31\", \"2017-02-28\", \"2017-03-31\", \"2017-04-28\", \"2017-05-31\", \"2017-06-30\", \"2017-07-31\", \"2017-08-31\", \"2017-09-29\", \"2017-10-31\", \"2017-11-30\", \"2017-12-29\", \"2018-01-31\", \"2018-02-28\", \"2018-03-29\", \"2018-04-30\", \"2018-05-31\", \"2018-06-29\", \"2018-07-31\", \"2018-08-31\", \"2018-09-28\", \"2018-10-31\", \"2018-11-30\", \"2018-12-31\", \"2019-01-31\", \"2019-02-28\", \"2019-03-29\", \"2019-04-30\", \"2019-05-31\", \"2019-06-28\", \"2019-07-31\", \"2019-08-30\", \"2019-09-30\", \"2019-10-31\", \"2019-11-29\", \"2019-12-31\", \"2020-01-31\", \"2020-02-28\", \"2020-03-31\", \"2020-04-30\", \"2020-05-29\", \"2020-06-30\", \"2020-07-31\", \"2020-08-31\", \"2020-09-30\", \"2020-10-30\", \"2020-11-30\", \"2020-12-31\", \"2021-01-29\", \"2021-02-26\", \"2021-03-31\", \"2021-04-30\", \"2021-05-28\", \"2021-06-30\", \"2021-07-30\", \"2021-08-31\", \"2021-09-30\", \"2021-10-29\", \"2021-11-30\", \"2021-12-22\"], \"y\": [0.9844616558557561, 0.997095067123014, 1.0356970157347665, 1.0497477492409781, 1.0090883175109928, 0.9977254619037909, 0.9374020596151538, 0.913176839628627, 0.9050109369986923, 0.948145730822254, 0.9624786495549031, 0.8820386661847808, 0.8741128582722465, 0.8876210918842002, 0.8040307164430494, 0.6712153531321494, 0.6244944066734089, 0.630612110856222, 0.5788297806857521, 0.5166352764545211, 0.5596764670382139, 0.6152783045777899, 0.6512434065939734, 0.6508167931502511, 0.6993715653164577, 0.7252060595202439, 0.7509195091228771, 0.7364829459504907, 0.7818554142871831, 0.796789910932494, 0.7678326035696466, 0.7917847854501638, 0.8399884594976855, 0.8529829413081551, 0.785209587695266, 0.7445822052744497, 0.7954375126159767, 0.7596584478987242, 0.8276892963904293, 0.8593088972252244, 0.8593088972252244, 0.9167556333022583, 0.9381161539866143, 0.9707038365292662, 0.9708202044071926, 0.9989367332194184, 0.9877341929334025, 0.9710712344039018, 0.9516455704037697, 0.8993283056266138, 0.8368960450395957, 0.928240840242103, 0.9244687190833347, 0.9341278031539684, 0.9774476026463376, 1.0198740104517887, 1.0526773036902441, 1.0456495641878543, 0.9828525879645216, 1.022738022000544, 1.034836361110433, 1.0607621201924746, 1.0876531411933692, 1.0678598042172351, 1.0739035061325253, 1.083498354034138, 1.138962434564561, 1.1534942515850137, 1.1972939654108175, 1.2202971163530911, 1.2491079322384069, 1.2324394029062395, 1.2961278451069267, 1.2572540963453127, 1.2970415942949478, 1.3571029625322255, 1.3973245704378134, 1.433552531809455, 1.3830220504061357, 1.4459712952356913, 1.4579666776592588, 1.46810141199215, 1.5021709280441429, 1.5331829675115602, 1.5125807637432906, 1.5722722581936364, 1.550580928116357, 1.5870982961253004, 1.6306992492139838, 1.6265625499695842, 1.578369192223297, 1.6670805795973136, 1.6408978070638465, 1.6570342903536737, 1.6783374524031651, 1.6442466159952875, 1.6813891518590491, 1.5789088035532093, 1.5386207586676703, 1.6694955569409966, 1.6755978554472994, 1.646639447678987, 1.5646589654331695, 1.5633662641131298, 1.6685280254358723, 1.6751037733935026, 1.703600010866504, 1.709521567775176, 1.7718698536701445, 1.7739917105080814, 1.7740948735204274, 1.7433367526140648, 1.8075590290159727, 1.8442012930451968, 1.8772028655933817, 1.950960843103157, 1.9533994791643383, 1.9727893112115156, 2.0006309449835094, 2.0133850569752125, 2.054768417950502, 2.0607638395760137, 2.1022869520453615, 2.151825280371277, 2.2175976154213575, 2.244493175594795, 2.370990560928247, 2.284780532726918, 2.2221526062931503, 2.2336378132329946, 2.287935670296515, 2.3010930808911496, 2.3863412171653624, 2.4625123838599405, 2.4771530034707476, 2.305971178317611, 2.3487458644527424, 2.1419417135857777, 2.31343770449918, 2.3884295116366157, 2.431661416242466, 2.5310005195977054, 2.369595797001326, 2.5344879796177398, 2.5728082244304455, 2.5297301014883327, 2.5789534387498843, 2.635960769169665, 2.7313772021434524, 2.8107389944838737, 2.809603651145333, 2.587179794905054, 2.2641150556444094, 2.551620742505465, 2.6731932631801922, 2.7206003812217183, 2.8808224430445604, 3.081894581844204, 2.9664975366392037, 2.892531857597904, 3.2071721677196745, 3.3259928494277378, 3.292099810902198, 3.3836381399158673, 3.5372528171239597, 3.724410603919713, 3.7488654647717228, 3.8329427696311473, 3.9265143728428185, 4.043366979376682, 3.854923918997778, 4.12539890557799, 4.092252217059104, 4.21600161484502]}],                        {\"legend\": {\"bgcolor\": \"#F2F3F7\", \"font\": {\"color\": \"#505050\"}}, \"paper_bgcolor\": \"#F2F3F7\", \"plot_bgcolor\": \"#F2F3F7\", \"template\": {\"data\": {\"bar\": [{\"error_x\": {\"color\": \"#2a3f5f\"}, \"error_y\": {\"color\": \"#2a3f5f\"}, \"marker\": {\"line\": {\"color\": \"#E5ECF6\", \"width\": 0.5}}, \"type\": \"bar\"}], \"barpolar\": [{\"marker\": {\"line\": {\"color\": \"#E5ECF6\", \"width\": 0.5}}, \"type\": \"barpolar\"}], \"carpet\": [{\"aaxis\": {\"endlinecolor\": \"#2a3f5f\", \"gridcolor\": \"white\", \"linecolor\": \"white\", \"minorgridcolor\": \"white\", \"startlinecolor\": \"#2a3f5f\"}, \"baxis\": {\"endlinecolor\": \"#2a3f5f\", \"gridcolor\": \"white\", \"linecolor\": \"white\", \"minorgridcolor\": \"white\", \"startlinecolor\": \"#2a3f5f\"}, \"type\": \"carpet\"}], \"choropleth\": [{\"colorbar\": {\"outlinewidth\": 0, \"ticks\": \"\"}, \"type\": \"choropleth\"}], \"contour\": [{\"colorbar\": {\"outlinewidth\": 0, \"ticks\": \"\"}, \"colorscale\": [[0.0, \"#0d0887\"], [0.1111111111111111, \"#46039f\"], [0.2222222222222222, \"#7201a8\"], [0.3333333333333333, \"#9c179e\"], [0.4444444444444444, \"#bd3786\"], [0.5555555555555556, \"#d8576b\"], [0.6666666666666666, \"#ed7953\"], [0.7777777777777778, \"#fb9f3a\"], [0.8888888888888888, \"#fdca26\"], [1.0, \"#f0f921\"]], \"type\": \"contour\"}], \"contourcarpet\": [{\"colorbar\": {\"outlinewidth\": 0, \"ticks\": \"\"}, \"type\": \"contourcarpet\"}], \"heatmap\": [{\"colorbar\": {\"outlinewidth\": 0, \"ticks\": \"\"}, \"colorscale\": [[0.0, \"#0d0887\"], [0.1111111111111111, \"#46039f\"], [0.2222222222222222, \"#7201a8\"], [0.3333333333333333, \"#9c179e\"], [0.4444444444444444, \"#bd3786\"], [0.5555555555555556, \"#d8576b\"], [0.6666666666666666, \"#ed7953\"], [0.7777777777777778, \"#fb9f3a\"], [0.8888888888888888, \"#fdca26\"], [1.0, \"#f0f921\"]], \"type\": \"heatmap\"}], \"heatmapgl\": [{\"colorbar\": {\"outlinewidth\": 0, \"ticks\": \"\"}, \"colorscale\": [[0.0, \"#0d0887\"], [0.1111111111111111, \"#46039f\"], [0.2222222222222222, \"#7201a8\"], [0.3333333333333333, \"#9c179e\"], [0.4444444444444444, \"#bd3786\"], [0.5555555555555556, \"#d8576b\"], [0.6666666666666666, \"#ed7953\"], [0.7777777777777778, \"#fb9f3a\"], [0.8888888888888888, \"#fdca26\"], [1.0, \"#f0f921\"]], \"type\": \"heatmapgl\"}], \"histogram\": [{\"marker\": {\"colorbar\": {\"outlinewidth\": 0, \"ticks\": \"\"}}, \"type\": \"histogram\"}], \"histogram2d\": [{\"colorbar\": {\"outlinewidth\": 0, \"ticks\": \"\"}, \"colorscale\": [[0.0, \"#0d0887\"], [0.1111111111111111, \"#46039f\"], [0.2222222222222222, \"#7201a8\"], [0.3333333333333333, \"#9c179e\"], [0.4444444444444444, \"#bd3786\"], [0.5555555555555556, \"#d8576b\"], [0.6666666666666666, \"#ed7953\"], [0.7777777777777778, \"#fb9f3a\"], [0.8888888888888888, \"#fdca26\"], [1.0, \"#f0f921\"]], \"type\": \"histogram2d\"}], \"histogram2dcontour\": [{\"colorbar\": {\"outlinewidth\": 0, \"ticks\": \"\"}, \"colorscale\": [[0.0, \"#0d0887\"], [0.1111111111111111, \"#46039f\"], [0.2222222222222222, \"#7201a8\"], [0.3333333333333333, \"#9c179e\"], [0.4444444444444444, \"#bd3786\"], [0.5555555555555556, \"#d8576b\"], [0.6666666666666666, \"#ed7953\"], [0.7777777777777778, \"#fb9f3a\"], [0.8888888888888888, \"#fdca26\"], [1.0, \"#f0f921\"]], \"type\": \"histogram2dcontour\"}], \"mesh3d\": [{\"colorbar\": {\"outlinewidth\": 0, \"ticks\": \"\"}, \"type\": \"mesh3d\"}], \"parcoords\": [{\"line\": {\"colorbar\": {\"outlinewidth\": 0, \"ticks\": \"\"}}, \"type\": \"parcoords\"}], \"pie\": [{\"automargin\": true, \"type\": \"pie\"}], \"scatter\": [{\"marker\": {\"colorbar\": {\"outlinewidth\": 0, \"ticks\": \"\"}}, \"type\": \"scatter\"}], \"scatter3d\": [{\"line\": {\"colorbar\": {\"outlinewidth\": 0, \"ticks\": \"\"}}, \"marker\": {\"colorbar\": {\"outlinewidth\": 0, \"ticks\": \"\"}}, \"type\": \"scatter3d\"}], \"scattercarpet\": [{\"marker\": {\"colorbar\": {\"outlinewidth\": 0, \"ticks\": \"\"}}, \"type\": \"scattercarpet\"}], \"scattergeo\": [{\"marker\": {\"colorbar\": {\"outlinewidth\": 0, \"ticks\": \"\"}}, \"type\": \"scattergeo\"}], \"scattergl\": [{\"marker\": {\"colorbar\": {\"outlinewidth\": 0, \"ticks\": \"\"}}, \"type\": \"scattergl\"}], \"scattermapbox\": [{\"marker\": {\"colorbar\": {\"outlinewidth\": 0, \"ticks\": \"\"}}, \"type\": \"scattermapbox\"}], \"scatterpolar\": [{\"marker\": {\"colorbar\": {\"outlinewidth\": 0, \"ticks\": \"\"}}, \"type\": \"scatterpolar\"}], \"scatterpolargl\": [{\"marker\": {\"colorbar\": {\"outlinewidth\": 0, \"ticks\": \"\"}}, \"type\": \"scatterpolargl\"}], \"scatterternary\": [{\"marker\": {\"colorbar\": {\"outlinewidth\": 0, \"ticks\": \"\"}}, \"type\": \"scatterternary\"}], \"surface\": [{\"colorbar\": {\"outlinewidth\": 0, \"ticks\": \"\"}, \"colorscale\": [[0.0, \"#0d0887\"], [0.1111111111111111, \"#46039f\"], [0.2222222222222222, \"#7201a8\"], [0.3333333333333333, \"#9c179e\"], [0.4444444444444444, \"#bd3786\"], [0.5555555555555556, \"#d8576b\"], [0.6666666666666666, \"#ed7953\"], [0.7777777777777778, \"#fb9f3a\"], [0.8888888888888888, \"#fdca26\"], [1.0, \"#f0f921\"]], \"type\": \"surface\"}], \"table\": [{\"cells\": {\"fill\": {\"color\": \"#EBF0F8\"}, \"line\": {\"color\": \"white\"}}, \"header\": {\"fill\": {\"color\": \"#C8D4E3\"}, \"line\": {\"color\": \"white\"}}, \"type\": \"table\"}]}, \"layout\": {\"annotationdefaults\": {\"arrowcolor\": \"#2a3f5f\", \"arrowhead\": 0, \"arrowwidth\": 1}, \"coloraxis\": {\"colorbar\": {\"outlinewidth\": 0, \"ticks\": \"\"}}, \"colorscale\": {\"diverging\": [[0, \"#8e0152\"], [0.1, \"#c51b7d\"], [0.2, \"#de77ae\"], [0.3, \"#f1b6da\"], [0.4, \"#fde0ef\"], [0.5, \"#f7f7f7\"], [0.6, \"#e6f5d0\"], [0.7, \"#b8e186\"], [0.8, \"#7fbc41\"], [0.9, \"#4d9221\"], [1, \"#276419\"]], \"sequential\": [[0.0, \"#0d0887\"], [0.1111111111111111, \"#46039f\"], [0.2222222222222222, \"#7201a8\"], [0.3333333333333333, \"#9c179e\"], [0.4444444444444444, \"#bd3786\"], [0.5555555555555556, \"#d8576b\"], [0.6666666666666666, \"#ed7953\"], [0.7777777777777778, \"#fb9f3a\"], [0.8888888888888888, \"#fdca26\"], [1.0, \"#f0f921\"]], \"sequentialminus\": [[0.0, \"#0d0887\"], [0.1111111111111111, \"#46039f\"], [0.2222222222222222, \"#7201a8\"], [0.3333333333333333, \"#9c179e\"], [0.4444444444444444, \"#bd3786\"], [0.5555555555555556, \"#d8576b\"], [0.6666666666666666, \"#ed7953\"], [0.7777777777777778, \"#fb9f3a\"], [0.8888888888888888, \"#fdca26\"], [1.0, \"#f0f921\"]]}, \"colorway\": [\"#636efa\", \"#EF553B\", \"#00cc96\", \"#ab63fa\", \"#FFA15A\", \"#19d3f3\", \"#FF6692\", \"#B6E880\", \"#FF97FF\", \"#FECB52\"], \"font\": {\"color\": \"#2a3f5f\"}, \"geo\": {\"bgcolor\": \"white\", \"lakecolor\": \"white\", \"landcolor\": \"#E5ECF6\", \"showlakes\": true, \"showland\": true, \"subunitcolor\": \"white\"}, \"hoverlabel\": {\"align\": \"left\"}, \"hovermode\": \"closest\", \"mapbox\": {\"style\": \"light\"}, \"paper_bgcolor\": \"white\", \"plot_bgcolor\": \"#E5ECF6\", \"polar\": {\"angularaxis\": {\"gridcolor\": \"white\", \"linecolor\": \"white\", \"ticks\": \"\"}, \"bgcolor\": \"#E5ECF6\", \"radialaxis\": {\"gridcolor\": \"white\", \"linecolor\": \"white\", \"ticks\": \"\"}}, \"scene\": {\"xaxis\": {\"backgroundcolor\": \"#E5ECF6\", \"gridcolor\": \"white\", \"gridwidth\": 2, \"linecolor\": \"white\", \"showbackground\": true, \"ticks\": \"\", \"zerolinecolor\": \"white\"}, \"yaxis\": {\"backgroundcolor\": \"#E5ECF6\", \"gridcolor\": \"white\", \"gridwidth\": 2, \"linecolor\": \"white\", \"showbackground\": true, \"ticks\": \"\", \"zerolinecolor\": \"white\"}, \"zaxis\": {\"backgroundcolor\": \"#E5ECF6\", \"gridcolor\": \"white\", \"gridwidth\": 2, \"linecolor\": \"white\", \"showbackground\": true, \"ticks\": \"\", \"zerolinecolor\": \"white\"}}, \"shapedefaults\": {\"line\": {\"color\": \"#2a3f5f\"}}, \"ternary\": {\"aaxis\": {\"gridcolor\": \"white\", \"linecolor\": \"white\", \"ticks\": \"\"}, \"baxis\": {\"gridcolor\": \"white\", \"linecolor\": \"white\", \"ticks\": \"\"}, \"bgcolor\": \"#E5ECF6\", \"caxis\": {\"gridcolor\": \"white\", \"linecolor\": \"white\", \"ticks\": \"\"}}, \"title\": {\"x\": 0.05}, \"xaxis\": {\"automargin\": true, \"gridcolor\": \"white\", \"linecolor\": \"white\", \"ticks\": \"\", \"title\": {\"standoff\": 15}, \"zerolinecolor\": \"white\", \"zerolinewidth\": 2}, \"yaxis\": {\"automargin\": true, \"gridcolor\": \"white\", \"linecolor\": \"white\", \"ticks\": \"\", \"title\": {\"standoff\": 15}, \"zerolinecolor\": \"white\", \"zerolinewidth\": 2}}}, \"title\": {\"font\": {\"color\": \"#484848\"}}, \"xaxis\": {\"gridcolor\": \"#E1E5ED\", \"showgrid\": true, \"tickfont\": {\"color\": \"#505050\"}, \"title\": {\"font\": {\"color\": \"#505050\"}, \"text\": \"\"}, \"zerolinecolor\": \"#E1E5ED\"}, \"yaxis\": {\"gridcolor\": \"#E1E5ED\", \"showgrid\": true, \"tickfont\": {\"color\": \"#505050\"}, \"title\": {\"font\": {\"color\": \"#505050\"}, \"text\": \"\"}, \"zerolinecolor\": \"#E1E5ED\"}},                        {\"showLink\": true, \"linkText\": \"Export to plot.ly\", \"plotlyServerURL\": \"https://plot.ly\", \"responsive\": true}                    ).then(function(){\n",
       "                            \n",
       "var gd = document.getElementById('c6e521db-619f-45bf-850d-48f3b45674be');\n",
       "var x = new MutationObserver(function (mutations, observer) {{\n",
       "        var display = window.getComputedStyle(gd).display;\n",
       "        if (!display || display === 'none') {{\n",
       "            console.log([gd, 'removed!']);\n",
       "            Plotly.purge(gd);\n",
       "            observer.disconnect();\n",
       "        }}\n",
       "}});\n",
       "\n",
       "// Listen for the removal of the full notebook cells\n",
       "var notebookContainer = gd.closest('#notebook-container');\n",
       "if (notebookContainer) {{\n",
       "    x.observe(notebookContainer, {childList: true});\n",
       "}}\n",
       "\n",
       "// Listen for the clearing of the current output cell\n",
       "var outputEl = gd.closest('.output');\n",
       "if (outputEl) {{\n",
       "    x.observe(outputEl, {childList: true});\n",
       "}}\n",
       "\n",
       "                        })                };                });            </script>        </div>"
      ]
     },
     "metadata": {},
     "output_type": "display_data"
    }
   ],
   "source": [
    "result_df[['strategy', 'SPY']].iplot()"
   ]
  },
  {
   "cell_type": "code",
   "execution_count": null,
   "metadata": {},
   "outputs": [],
   "source": []
  }
 ],
 "metadata": {
  "hide_input": false,
  "kernelspec": {
   "display_name": "Python 3",
   "language": "python",
   "name": "python3"
  },
  "language_info": {
   "codemirror_mode": {
    "name": "ipython",
    "version": 3
   },
   "file_extension": ".py",
   "mimetype": "text/x-python",
   "name": "python",
   "nbconvert_exporter": "python",
   "pygments_lexer": "ipython3",
   "version": "3.11.4"
  },
  "toc": {
   "base_numbering": 1,
   "nav_menu": {},
   "number_sections": true,
   "sideBar": true,
   "skip_h1_title": false,
   "title_cell": "Table of Contents",
   "title_sidebar": "Contents",
   "toc_cell": false,
   "toc_position": {},
   "toc_section_display": true,
   "toc_window_display": false
  },
  "varInspector": {
   "cols": {
    "lenName": 16,
    "lenType": 16,
    "lenVar": 40
   },
   "kernels_config": {
    "python": {
     "delete_cmd_postfix": "",
     "delete_cmd_prefix": "del ",
     "library": "var_list.py",
     "varRefreshCmd": "print(var_dic_list())"
    },
    "r": {
     "delete_cmd_postfix": ") ",
     "delete_cmd_prefix": "rm(",
     "library": "var_list.r",
     "varRefreshCmd": "cat(var_dic_list()) "
    }
   },
   "types_to_exclude": [
    "module",
    "function",
    "builtin_function_or_method",
    "instance",
    "_Feature"
   ],
   "window_display": false
  }
 },
 "nbformat": 4,
 "nbformat_minor": 4
}
