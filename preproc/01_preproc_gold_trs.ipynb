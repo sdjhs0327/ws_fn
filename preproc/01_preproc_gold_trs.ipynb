{
 "cells": [
  {
   "cell_type": "code",
   "execution_count": 3,
   "metadata": {},
   "outputs": [],
   "source": [
    "import pandas as pd\n",
    "import os"
   ]
  },
  {
   "cell_type": "code",
   "execution_count": null,
   "metadata": {},
   "outputs": [],
   "source": [
    "# 파일 경로 설정\n",
    "path = 'C:/Users/sdjhs/git/data/DL'\n",
    "# 경로 내 모든 CSV 파일 목록 가져오기\n",
    "file_paths = [os.path.join(f\"{path}/investing\", file) for file in os.listdir(f\"{path}/investing\") if file.endswith('.csv')]\n",
    "# 각 파일 데이터를 DataFrame으로 불러오기\n",
    "dataframes = [pd.read_csv(file) for file in file_paths]\n",
    "\n",
    "# 각 데이터의 '날짜' 열을 datetime 형식으로 변환\n",
    "for df in dataframes:\n",
    "    df['날짜'] = pd.to_datetime(df['날짜'])\n",
    "\n"
   ]
  },
  {
   "cell_type": "code",
   "execution_count": 37,
   "metadata": {},
   "outputs": [],
   "source": [
    "# 데이터를 하나의 시계열로 결합\n",
    "combined_data = pd.concat(dataframes)\n",
    "# 날짜 기준으로 정렬\n",
    "combined_data = combined_data.sort_values(by='날짜')\n",
    "# 인덱스 재설정\n",
    "combined_data.reset_index(drop=True, inplace=True)\n",
    "\n",
    "combined_data['종가'] = combined_data['종가'].apply(lambda x: str(x).replace(',', '')).astype(float)\n",
    "combined_data['시가'] = combined_data['시가'].apply(lambda x: str(x).replace(',', '')).astype(float)\n",
    "combined_data['고가'] = combined_data['고가'].apply(lambda x: str(x).replace(',', '')).astype(float)\n",
    "combined_data['저가'] = combined_data['저가'].apply(lambda x: str(x).replace(',', '')).astype(float)\n",
    "combined_data.rename(columns={'날짜': 'Date', '종가': 'Close', '시가': 'Open', '고가': 'High', '저가': 'Low', '거래량': 'Volume'}, inplace=True)\n",
    "combined_data.drop_duplicates(subset='Date', inplace=True)\n",
    "combined_data.sort_values(by='Date', inplace=True)"
   ]
  },
  {
   "cell_type": "code",
   "execution_count": 38,
   "metadata": {},
   "outputs": [],
   "source": [
    "combined_data.to_csv(f\"{path}/../DM/gold.csv\", index=False, encoding='utf-8-sig')"
   ]
  },
  {
   "cell_type": "code",
   "execution_count": null,
   "metadata": {},
   "outputs": [],
   "source": []
  }
 ],
 "metadata": {
  "kernelspec": {
   "display_name": ".venv",
   "language": "python",
   "name": "python3"
  },
  "language_info": {
   "codemirror_mode": {
    "name": "ipython",
    "version": 3
   },
   "file_extension": ".py",
   "mimetype": "text/x-python",
   "name": "python",
   "nbconvert_exporter": "python",
   "pygments_lexer": "ipython3",
   "version": "3.11.9"
  }
 },
 "nbformat": 4,
 "nbformat_minor": 2
}
