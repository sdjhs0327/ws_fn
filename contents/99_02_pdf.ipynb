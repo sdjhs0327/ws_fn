{
 "cells": [
  {
   "cell_type": "code",
   "execution_count": 1,
   "metadata": {},
   "outputs": [],
   "source": [
    "from reportlab.pdfgen import canvas\n",
    "from reportlab.lib.pagesizes import landscape, A4\n",
    "from reportlab.pdfbase.ttfonts import TTFont\n",
    "from reportlab.pdfbase import pdfmetrics\n",
    "from reportlab.lib.utils import ImageReader"
   ]
  },
  {
   "cell_type": "code",
   "execution_count": 18,
   "metadata": {},
   "outputs": [],
   "source": [
    "pdfmetrics.registerFont(TTFont(\"맑은고딕\", \"malgun.ttf\"))\n",
    "page_size = (1280, 720)\n",
    "width, height = page_size\n",
    "\n",
    "pdf = canvas.Canvas(\"test.pdf\", pagesize=page_size)\n",
    "pdf.setFont(\"맑은고딕-bold\", 50)\n",
    "title = \"파이썬 PDF 파일 생성\"\n",
    "str_width = pdf.stringWidth(title)\n",
    "pdf.drawString((width // 2) - (str_width // 2), 650, title)\n",
    "\n",
    "\n",
    "pdf.setFont(\"맑은고딕\", 12)\n",
    "title = \"파이썬 PDF 파일 생성\"\n",
    "str_width = pdf.stringWidth(title)\n",
    "pdf.drawString((width // 2) - (str_width // 2), 500, title)\n",
    "\n",
    "\n",
    "\n",
    "pdf.save()"
   ]
  },
  {
   "cell_type": "code",
   "execution_count": 9,
   "metadata": {},
   "outputs": [
    {
     "data": {
      "text/plain": [
       "640"
      ]
     },
     "execution_count": 9,
     "metadata": {},
     "output_type": "execute_result"
    }
   ],
   "source": [
    "pdf.drawString()"
   ]
  },
  {
   "cell_type": "code",
   "execution_count": 5,
   "metadata": {},
   "outputs": [],
   "source": [
    "pdfmetrics.registerFont(TTFont(\"맑은고딕\", \"malgun.ttf\"))\n",
    "pdf = canvas.Canvas(\"test.pdf\", pagesize=A4)\n",
    "width, height = A4  # A4 사이즈의 가로, 세로 길이\n",
    "pdf.setFont(\"맑은고딕\", 16)\n",
    "title = \"파이썬 PDF 파일 생성\"\n",
    "str_width = pdf.stringWidth(title)\n",
    "pdf.drawString((width // 2) - (str_width // 2), 750, title)\n",
    "pdf.setLineWidth(0.3)\n",
    "pdf.line(30, 730, 580, 730)\n",
    "pdf.save()"
   ]
  },
  {
   "cell_type": "code",
   "execution_count": 7,
   "metadata": {},
   "outputs": [
    {
     "data": {
      "text/plain": [
       "841.8897637795277"
      ]
     },
     "execution_count": 7,
     "metadata": {},
     "output_type": "execute_result"
    }
   ],
   "source": [
    "height"
   ]
  }
 ],
 "metadata": {
  "kernelspec": {
   "display_name": ".venv",
   "language": "python",
   "name": "python3"
  },
  "language_info": {
   "codemirror_mode": {
    "name": "ipython",
    "version": 3
   },
   "file_extension": ".py",
   "mimetype": "text/x-python",
   "name": "python",
   "nbconvert_exporter": "python",
   "pygments_lexer": "ipython3",
   "version": "3.11.9"
  }
 },
 "nbformat": 4,
 "nbformat_minor": 2
}
