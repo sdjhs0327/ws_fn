{
 "cells": [
  {
   "cell_type": "code",
   "execution_count": 2,
   "metadata": {},
   "outputs": [],
   "source": [
    "# 기본 패키지\n",
    "import pandas as pd\n",
    "import warnings\n",
    "warnings.filterwarnings('ignore')\n",
    "import datetime as dt\n",
    "\n",
    "# 시각화\n",
    "import seaborn as sns\n",
    "import matplotlib.pyplot as plt\n",
    "## 이미지에서 한글이 나오게 하는 설정\n",
    "plt.rcParams[\"figure.figsize\"] = (12, 8)\n",
    "plt.rcParams['font.family'] = 'Malgun Gothic'\n",
    "plt.rcParams['axes.unicode_minus'] = False\n",
    "%matplotlib inline\n",
    "\n",
    "## 야후 파이낸스 패키지\n",
    "import yfinance as yf"
   ]
  },
  {
   "cell_type": "markdown",
   "metadata": {},
   "source": [
    "## Data Load"
   ]
  },
  {
   "cell_type": "code",
   "execution_count": 24,
   "metadata": {},
   "outputs": [
    {
     "name": "stderr",
     "output_type": "stream",
     "text": [
      "[*********************100%%**********************]  2 of 2 completed\n"
     ]
    }
   ],
   "source": [
    "tickers = [\"QQQ\", \"SCHD\"]\n",
    "\n",
    "# 여러 티커의 데이터 다운로드\n",
    "dataset = yf.download(tickers, ignore_tz = True, auto_adjust=True)\n",
    "dataset = dataset['Close']"
   ]
  },
  {
   "cell_type": "markdown",
   "metadata": {},
   "source": [
    "## Visualization"
   ]
  },
  {
   "cell_type": "markdown",
   "metadata": {},
   "source": [
    "### Trend"
   ]
  },
  {
   "cell_type": "code",
   "execution_count": 26,
   "metadata": {},
   "outputs": [],
   "source": [
    "# dataset.plot()"
   ]
  },
  {
   "cell_type": "code",
   "execution_count": 27,
   "metadata": {},
   "outputs": [],
   "source": [
    "## 결측 구간 제거\n",
    "dataset = dataset.dropna()"
   ]
  },
  {
   "cell_type": "code",
   "execution_count": null,
   "metadata": {},
   "outputs": [],
   "source": [
    "# dataset.plot()"
   ]
  },
  {
   "cell_type": "code",
   "execution_count": null,
   "metadata": {},
   "outputs": [],
   "source": [
    "# 스케일 조정\n",
    "dataset_scaled = (dataset/dataset.iloc[0])*100"
   ]
  },
  {
   "cell_type": "code",
   "execution_count": null,
   "metadata": {},
   "outputs": [],
   "source": [
    "# dataset_scaled.plot()"
   ]
  },
  {
   "cell_type": "markdown",
   "metadata": {},
   "source": [
    "## Volatility"
   ]
  },
  {
   "cell_type": "code",
   "execution_count": 34,
   "metadata": {},
   "outputs": [],
   "source": [
    "rets = dataset_scaled.pct_change()*100"
   ]
  },
  {
   "cell_type": "code",
   "execution_count": 37,
   "metadata": {},
   "outputs": [],
   "source": [
    "## sns.histplot(rets, kde=True)"
   ]
  },
  {
   "cell_type": "code",
   "execution_count": null,
   "metadata": {},
   "outputs": [],
   "source": [
    "def calculate_drawdown(data):\n",
    "    peak = data.expanding(min_periods=1).max()\n",
    "    drawdown = (data - peak) / peak\n",
    "    return drawdown"
   ]
  },
  {
   "cell_type": "code",
   "execution_count": 40,
   "metadata": {},
   "outputs": [],
   "source": [
    "peak = dataset_scaled.expanding(min_periods=1).max()"
   ]
  },
  {
   "cell_type": "code",
   "execution_count": 44,
   "metadata": {},
   "outputs": [],
   "source": [
    "## peak['SCHD'].plot()\n",
    "## dataset_scaled['SCHD'].plot()"
   ]
  },
  {
   "cell_type": "code",
   "execution_count": 47,
   "metadata": {},
   "outputs": [],
   "source": [
    "drawdown = ((dataset_scaled - peak) / peak)*100"
   ]
  },
  {
   "cell_type": "code",
   "execution_count": 55,
   "metadata": {},
   "outputs": [],
   "source": [
    "# drawdown.plot()"
   ]
  },
  {
   "cell_type": "code",
   "execution_count": 53,
   "metadata": {},
   "outputs": [
    {
     "data": {
      "text/plain": [
       "Ticker\n",
       "QQQ    -35.118733\n",
       "SCHD   -33.367071\n",
       "dtype: float64"
      ]
     },
     "execution_count": 53,
     "metadata": {},
     "output_type": "execute_result"
    }
   ],
   "source": [
    "drawdown.min()"
   ]
  },
  {
   "cell_type": "code",
   "execution_count": 60,
   "metadata": {},
   "outputs": [],
   "source": [
    "def calculate_ttr_series(drawdown_series):\n",
    "    ttr_data = []\n",
    "    ttr_index = []\n",
    "    in_drawdown = False\n",
    "    start_date = None\n",
    "\n",
    "    for date, value in drawdown_series.items():\n",
    "        if value < 0 and not in_drawdown:\n",
    "            # Start of a drawdown\n",
    "            in_drawdown = True\n",
    "            start_date = date\n",
    "        elif value == 0 and in_drawdown:\n",
    "            # Recovery point\n",
    "            in_drawdown = False\n",
    "            ttr_data.append((date - start_date).days)  # TTR in days\n",
    "            ttr_index.append(date)\n",
    "\n",
    "    return pd.Series(ttr_data, index=ttr_index)"
   ]
  },
  {
   "cell_type": "code",
   "execution_count": 63,
   "metadata": {},
   "outputs": [],
   "source": [
    "ttr_dict = {}\n",
    "for asset in drawdown.columns:\n",
    "    # Calculate TTR\n",
    "    ttr_dict[asset] = calculate_ttr_series(drawdown[asset])\n",
    "ttr = pd.DataFrame(ttr_dict).interpolate(method='time')   "
   ]
  },
  {
   "cell_type": "code",
   "execution_count": 66,
   "metadata": {},
   "outputs": [],
   "source": [
    "## ttr.plot()"
   ]
  },
  {
   "cell_type": "code",
   "execution_count": 67,
   "metadata": {},
   "outputs": [],
   "source": [
    "def split_time_series(df, n_days):\n",
    "    split_days = n_days\n",
    "    dfs = []\n",
    "    for i in range(len(df)-split_days+1):\n",
    "        dfs.append(df[i:split_days+i])\n",
    "    return dfs"
   ]
  },
  {
   "cell_type": "code",
   "execution_count": 68,
   "metadata": {},
   "outputs": [],
   "source": [
    "data = dataset_scaled\n",
    "data = data.resample('M').last()\n",
    "dfs = split_time_series(data, 12*5)"
   ]
  },
  {
   "cell_type": "code",
   "execution_count": 73,
   "metadata": {},
   "outputs": [],
   "source": [
    "## calculate Rolling Returns\n",
    "_ls = []\n",
    "_idx = []\n",
    "for _df in dfs:\n",
    "    __ls = []\n",
    "    for col in _df.columns:\n",
    "        total_err = (_df[col][-1]-_df[col][0])/_df[col][0]\n",
    "        yrr = (1+total_err)**(12/len(_df))-1\n",
    "        __ls.append(yrr)\n",
    "    _ls.append(__ls)\n",
    "    _idx.append(_df.index[0])  \n",
    "res = pd.DataFrame(_ls, columns = _df.columns, index=_idx)"
   ]
  },
  {
   "cell_type": "code",
   "execution_count": 82,
   "metadata": {},
   "outputs": [],
   "source": [
    "## res.plot()"
   ]
  },
  {
   "cell_type": "code",
   "execution_count": 81,
   "metadata": {},
   "outputs": [],
   "source": [
    "## res.plot(kind='box')"
   ]
  },
  {
   "cell_type": "code",
   "execution_count": 79,
   "metadata": {},
   "outputs": [
    {
     "data": {
      "text/html": [
       "<div>\n",
       "<style scoped>\n",
       "    .dataframe tbody tr th:only-of-type {\n",
       "        vertical-align: middle;\n",
       "    }\n",
       "\n",
       "    .dataframe tbody tr th {\n",
       "        vertical-align: top;\n",
       "    }\n",
       "\n",
       "    .dataframe thead th {\n",
       "        text-align: right;\n",
       "    }\n",
       "</style>\n",
       "<table border=\"1\" class=\"dataframe\">\n",
       "  <thead>\n",
       "    <tr style=\"text-align: right;\">\n",
       "      <th>Ticker</th>\n",
       "      <th>QQQ</th>\n",
       "      <th>SCHD</th>\n",
       "    </tr>\n",
       "    <tr>\n",
       "      <th>Ticker</th>\n",
       "      <th></th>\n",
       "      <th></th>\n",
       "    </tr>\n",
       "  </thead>\n",
       "  <tbody>\n",
       "    <tr>\n",
       "      <th>QQQ</th>\n",
       "      <td>1.000000</td>\n",
       "      <td>0.749228</td>\n",
       "    </tr>\n",
       "    <tr>\n",
       "      <th>SCHD</th>\n",
       "      <td>0.749228</td>\n",
       "      <td>1.000000</td>\n",
       "    </tr>\n",
       "  </tbody>\n",
       "</table>\n",
       "</div>"
      ],
      "text/plain": [
       "Ticker       QQQ      SCHD\n",
       "Ticker                    \n",
       "QQQ     1.000000  0.749228\n",
       "SCHD    0.749228  1.000000"
      ]
     },
     "execution_count": 79,
     "metadata": {},
     "output_type": "execute_result"
    }
   ],
   "source": [
    "dataset_scaled.pct_change().corr()"
   ]
  },
  {
   "cell_type": "code",
   "execution_count": null,
   "metadata": {},
   "outputs": [],
   "source": []
  },
  {
   "cell_type": "code",
   "execution_count": null,
   "metadata": {},
   "outputs": [],
   "source": []
  }
 ],
 "metadata": {
  "kernelspec": {
   "display_name": ".venv",
   "language": "python",
   "name": "python3"
  },
  "language_info": {
   "codemirror_mode": {
    "name": "ipython",
    "version": 3
   },
   "file_extension": ".py",
   "mimetype": "text/x-python",
   "name": "python",
   "nbconvert_exporter": "python",
   "pygments_lexer": "ipython3",
   "version": "3.11.9"
  }
 },
 "nbformat": 4,
 "nbformat_minor": 2
}
