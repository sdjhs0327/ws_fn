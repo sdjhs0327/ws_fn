{
 "cells": [
  {
   "cell_type": "code",
   "execution_count": null,
   "metadata": {},
   "outputs": [],
   "source": [
    "import yfinance as yf\n",
    "import pandas as pd\n",
    "from datetime import datetime, timedelta\n",
    "from dateutil.relativedelta import relativedelta\n",
    "import calendar\n",
    "import numpy as np\n",
    "import warnings\n",
    "warnings.filterwarnings(\"ignore\", category=UserWarning, module=\"pandas\")\n",
    "import os\n",
    "\n",
    "def save_raw_dividend_data(ticker_list, filename=\"raw_dividends.csv\"):\n",
    "    \"\"\"\n",
    "    yfinance에서 티커별 배당 데이터를 수집하여 하나의 CSV로 저장합니다.\n",
    "    - 타임존 제거 (tz-naive)\n",
    "    - 병합된 DataFrame을 'Date' 인덱스로 저장\n",
    "    - 컬럼: 각 티커별 배당금 시계열\n",
    "    \"\"\"\n",
    "    dividend_data = {}\n",
    "\n",
    "    for ticker in ticker_list:\n",
    "        try:\n",
    "            stock = yf.Ticker(ticker)\n",
    "            div = stock.dividends\n",
    "            div.index = div.index.tz_localize(None)\n",
    "\n",
    "            if div.empty:\n",
    "                print(f\"⚠️ 배당 데이터 없음: {ticker}\")\n",
    "                continue\n",
    "\n",
    "            dividend_data[ticker] = div\n",
    "\n",
    "        except Exception as e:\n",
    "            print(f\"{ticker} 처리 중 오류: {e}\")\n",
    "\n",
    "    # 병합: 인덱스를 날짜로 통일\n",
    "    if not dividend_data:\n",
    "        print(\"수집된 데이터가 없습니다.\")\n",
    "        return None\n",
    "\n",
    "    df = pd.DataFrame(dividend_data)\n",
    "    df.index.name = \"Date\"\n",
    "    df.sort_index(inplace=True)\n",
    "\n",
    "    # 저장\n",
    "    df.to_csv(filename, encoding='utf-8-sig')\n",
    "    print(f\"원천 배당 데이터 저장 완료: {filename}\")\n",
    "    return df\n",
    "\n",
    "\n",
    "def calculate_annualized_yield_timeseries(raw_dividends: pd.DataFrame, raw_prices: pd.DataFrame):\n",
    "    \"\"\"\n",
    "    원천 배당 데이터와 주가 데이터를 기반으로 티커별 연환산 배당률 시계열을 생성합니다.\n",
    "    - 배당 지급일 기준으로 12개월간 배당 횟수 계산\n",
    "    - 해당 월의 마지막 날 주가 기준으로 연환산 배당률 계산\n",
    "    - 결과는 딕셔너리 형태로 반환: {티커: DataFrame}\n",
    "    \"\"\"\n",
    "    result = {}\n",
    "\n",
    "    for ticker in raw_dividends.columns:\n",
    "        if ticker not in raw_prices.columns:\n",
    "            print(f\"⚠️ {ticker}의 가격 데이터가 없습니다.\")\n",
    "            continue\n",
    "\n",
    "        div_series = raw_dividends[ticker].dropna()\n",
    "        price_series = raw_prices[ticker].dropna()\n",
    "\n",
    "        ts_result = []\n",
    "\n",
    "        for date, dividend in div_series.items():\n",
    "            # 🧠 주가 날짜 보정 (주말/휴일 문제 방지)\n",
    "            if date not in price_series.index:\n",
    "                # 가장 가까운 거래일로 보정\n",
    "                shifted_date = price_series.index[price_series.index.get_indexer([date], method='nearest')[0]]\n",
    "            else:\n",
    "                shifted_date = date\n",
    "\n",
    "            year = shifted_date.year\n",
    "            month = shifted_date.month\n",
    "            last_day = calendar.monthrange(year, month)[1]\n",
    "            shifted_date = shifted_date.replace(day=last_day)\n",
    "\n",
    "            # ✅ 해당 달의 마지막 날로 변환\n",
    "            start_date = shifted_date - relativedelta(months=12)\n",
    "            div_last_year = div_series[(div_series.index > start_date) & (div_series.index <= shifted_date)]\n",
    "            dividend_count = len(div_last_year)\n",
    "\n",
    "            if dividend_count == 0:\n",
    "                continue\n",
    "\n",
    "            price = price_series.get(shifted_date)\n",
    "            if price is None or price == 0:\n",
    "                continue\n",
    "\n",
    "            annual_yield = (dividend * dividend_count / price) * 100\n",
    "\n",
    "            ts_result.append({\n",
    "                \"Date\": date,\n",
    "                \"Dividend\": dividend,\n",
    "                \"Price\": price,\n",
    "                \"Dividend Count\": dividend_count,\n",
    "                \"Annualized Yield (%)\": round(annual_yield, 2)\n",
    "            })\n",
    "\n",
    "        if ts_result:\n",
    "            df = pd.DataFrame(ts_result).set_index(\"Date\")\n",
    "            result[ticker] = df\n",
    "        else:\n",
    "            print(f\"ℹ️ {ticker}는 유효한 배당 시계열이 없습니다.\")\n",
    "\n",
    "    return result\n",
    "\n",
    "def load_dividend_data(ticker_list):\n",
    "    \"\"\"\n",
    "    저장된 티커별 배당률 시계열 파일들을 불러와 딕셔너리 형태로 반환합니다.\n",
    "    - 경로: dividend_tickers/{티커}.csv\n",
    "    - 반환 형식: {티커: DataFrame}\n",
    "    \"\"\"\n",
    "    dividend_data = {}\n",
    "    for ticker in ticker_list:\n",
    "        try:\n",
    "            df = pd.read_csv(f\"dividend_tickers/{ticker}.csv\", index_col=0, parse_dates=True, encoding='utf-8-sig')\n",
    "            dividend_data[ticker] = df\n",
    "        except FileNotFoundError:\n",
    "            print(f\"⚠️ {ticker}의 배당 데이터 파일을 찾을 수 없습니다.\")\n",
    "    return dividend_data\n",
    "\n",
    "\n",
    "def calculate_portfolio_yield_timeseries_from_dict(dividend_data: dict, weights: dict):\n",
    "    \"\"\"\n",
    "    미리 불러온 티커별 배당률 시계열 데이터와 포트폴리오 비중을 바탕으로\n",
    "    포트폴리오의 가중 평균 배당률 시계열을 계산합니다.\n",
    "    - 비중이 부여된 각 티커의 'Annualized Yield (%)'를 합산\n",
    "    - ffill로 결측값 보완\n",
    "    - 결과: DataFrame (각 티커 + Portfolio Yield 포함)\n",
    "    \"\"\"\n",
    "    dfs = []\n",
    "\n",
    "    for ticker, weight in weights.items():\n",
    "        if ticker not in dividend_data:\n",
    "            print(f\"⚠️ {ticker}는 불러온 배당 데이터에 없습니다.\")\n",
    "            continue\n",
    "\n",
    "        df = dividend_data[ticker]\n",
    "        if \"Annualized Yield (%)\" not in df.columns:\n",
    "            print(f\"⚠️ {ticker} 데이터에 'Annualized Yield (%)' 컬럼이 없습니다.\")\n",
    "            continue\n",
    "\n",
    "        df = df[[\"Annualized Yield (%)\"]].dropna()\n",
    "        df[\"Weighted Yield\"] = df[\"Annualized Yield (%)\"] * weight\n",
    "        dfs.append(df[[\"Weighted Yield\"]].rename(columns={\"Weighted Yield\": ticker}))\n",
    "\n",
    "    if not dfs:\n",
    "        print(\"⛔ 유효한 티커 데이터가 없습니다.\")\n",
    "        return None\n",
    "\n",
    "    # 날짜 기준 병합 후 가중합\n",
    "    combined_df = pd.concat(dfs, axis=1)\n",
    "    combined_df = combined_df.ffill()\n",
    "    combined_df.index.name = \"Date\"\n",
    "    combined_df[\"Portfolio Yield (%)\"] = combined_df.sum(axis=1)\n",
    "\n",
    "    return combined_df\n"
   ]
  },
  {
   "cell_type": "code",
   "execution_count": null,
   "metadata": {},
   "outputs": [],
   "source": [
    "## 원천데이터 크롤링"
   ]
  },
  {
   "cell_type": "code",
   "execution_count": 55,
   "metadata": {},
   "outputs": [],
   "source": [
    "ticker_list = ['SCHD', 'JEPQ', 'JEPI', 'TLT', 'SHY', 'SGOV', 'QQQ', 'SPY', \n",
    "               'VYM', 'HDV', 'DVY', 'NOBL', 'DHS', 'SPYD', 'QYLD', 'RYLD', 'XYLD', 'XYLD', 'PFFD']"
   ]
  },
  {
   "cell_type": "code",
   "execution_count": 30,
   "metadata": {},
   "outputs": [
    {
     "name": "stdout",
     "output_type": "stream",
     "text": [
      "원천 배당 데이터 저장 완료: raw_dividends.csv\n"
     ]
    }
   ],
   "source": [
    "raw_dividends = save_raw_dividend_data(ticker_list, filename=\"raw_dividends.csv\")"
   ]
  },
  {
   "cell_type": "code",
   "execution_count": null,
   "metadata": {},
   "outputs": [
    {
     "name": "stderr",
     "output_type": "stream",
     "text": [
      "[*********************100%***********************]  18 of 18 completed\n"
     ]
    }
   ],
   "source": [
    "raw_price = yf.download(ticker_list, ignore_tz=True, auto_adjust=False)\n",
    "raw_price['Close'].to_csv(\"raw_price.csv\", encoding='utf-8-sig')"
   ]
  },
  {
   "cell_type": "code",
   "execution_count": null,
   "metadata": {},
   "outputs": [],
   "source": [
    "## 원천데이터 불러오기"
   ]
  },
  {
   "cell_type": "code",
   "execution_count": 31,
   "metadata": {},
   "outputs": [],
   "source": [
    "raw_dividends = pd.read_csv(\"raw_dividends.csv\", index_col=0, parse_dates=True, encoding='utf-8-sig')\n",
    "raw_prices = pd.read_csv(\"raw_price.csv\", index_col=0, parse_dates=True, encoding='utf-8-sig')"
   ]
  },
  {
   "cell_type": "code",
   "execution_count": null,
   "metadata": {},
   "outputs": [],
   "source": [
    "## 연환산 배당률 시계열 계산"
   ]
  },
  {
   "cell_type": "code",
   "execution_count": 77,
   "metadata": {},
   "outputs": [],
   "source": [
    "result = calculate_annualized_yield_timeseries(raw_dividends, raw_prices)"
   ]
  },
  {
   "cell_type": "code",
   "execution_count": 83,
   "metadata": {},
   "outputs": [],
   "source": [
    "for key in result.keys():\n",
    "    result[key].to_csv(f\"dividend_tickers/{key}.csv\", encoding='utf-8-sig')"
   ]
  },
  {
   "cell_type": "code",
   "execution_count": null,
   "metadata": {},
   "outputs": [],
   "source": [
    "## 포트폴리오 배당률 시계열 계산"
   ]
  },
  {
   "cell_type": "code",
   "execution_count": 132,
   "metadata": {},
   "outputs": [],
   "source": [
    "tickers = ['SCHD', 'JEPI', 'QYLD']\n",
    "dfs = load_dividend_data(tickers)\n",
    "weights = {\n",
    "    \"SCHD\": 0.3,\n",
    "    \"JEPI\": 0.4,\n",
    "    \"QYLD\": 0.3\n",
    "}\n",
    "\n",
    "combined_df = calculate_portfolio_yield_timeseries_from_dict(dfs, weights)"
   ]
  },
  {
   "cell_type": "code",
   "execution_count": null,
   "metadata": {},
   "outputs": [],
   "source": [
    "## 목표자금 계산"
   ]
  },
  {
   "cell_type": "code",
   "execution_count": 137,
   "metadata": {},
   "outputs": [],
   "source": [
    "target_dividend = combined_df['Portfolio Yield (%)'].iloc[-1]"
   ]
  },
  {
   "cell_type": "code",
   "execution_count": 136,
   "metadata": {},
   "outputs": [],
   "source": [
    "target_cashflow = 200 * 12"
   ]
  },
  {
   "cell_type": "code",
   "execution_count": 138,
   "metadata": {},
   "outputs": [
    {
     "data": {
      "text/plain": [
       "40503.936476326286"
      ]
     },
     "execution_count": 138,
     "metadata": {},
     "output_type": "execute_result"
    }
   ],
   "source": [
    "target_cashflow/(target_dividend*0.01*(1-0.15))"
   ]
  },
  {
   "cell_type": "code",
   "execution_count": 139,
   "metadata": {},
   "outputs": [
    {
     "data": {
      "text/plain": [
       "6.971"
      ]
     },
     "execution_count": 139,
     "metadata": {},
     "output_type": "execute_result"
    }
   ],
   "source": [
    "target_dividend"
   ]
  }
 ],
 "metadata": {
  "kernelspec": {
   "display_name": ".venv",
   "language": "python",
   "name": "python3"
  },
  "language_info": {
   "codemirror_mode": {
    "name": "ipython",
    "version": 3
   },
   "file_extension": ".py",
   "mimetype": "text/x-python",
   "name": "python",
   "nbconvert_exporter": "python",
   "pygments_lexer": "ipython3",
   "version": "3.11.9"
  }
 },
 "nbformat": 4,
 "nbformat_minor": 2
}
