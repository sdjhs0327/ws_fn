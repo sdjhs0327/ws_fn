{
 "cells": [
  {
   "cell_type": "code",
   "execution_count": 1,
   "metadata": {},
   "outputs": [],
   "source": [
    "import pandas as pd\n",
    "import warnings\n",
    "warnings.filterwarnings('ignore')\n",
    "import numpy as np\n",
    "import datetime as dt\n",
    "import math\n",
    "import os\n",
    "from itertools import product\n",
    "from datetime import datetime\n",
    "from dateutil.relativedelta import relativedelta\n",
    "from quant_functions import anal_funcs, data_funcs\n",
    "\n",
    "import yfinance as yf\n",
    "## FRED 정보 수집\n",
    "from fredapi import Fred"
   ]
  },
  {
   "cell_type": "code",
   "execution_count": 2,
   "metadata": {},
   "outputs": [
    {
     "data": {
      "text/html": [
       "        <script type=\"text/javascript\">\n",
       "        window.PlotlyConfig = {MathJaxConfig: 'local'};\n",
       "        if (window.MathJax && window.MathJax.Hub && window.MathJax.Hub.Config) {window.MathJax.Hub.Config({SVG: {font: \"STIX-Web\"}});}\n",
       "        if (typeof require !== 'undefined') {\n",
       "        require.undef(\"plotly\");\n",
       "        requirejs.config({\n",
       "            paths: {\n",
       "                'plotly': ['https://cdn.plot.ly/plotly-2.27.0.min']\n",
       "            }\n",
       "        });\n",
       "        require(['plotly'], function(Plotly) {\n",
       "            window._Plotly = Plotly;\n",
       "        });\n",
       "        }\n",
       "        </script>\n",
       "        "
      ]
     },
     "metadata": {},
     "output_type": "display_data"
    }
   ],
   "source": [
    "# 시각화 관련\n",
    "import plotly_express as px\n",
    "import plotly.figure_factory as ff\n",
    "import cufflinks as cf\n",
    "cf.go_offline(connected=True)\n",
    "## cf.getThemes()\n",
    "cf.set_config_file(theme='polar')\n",
    "import plotly.graph_objects as go\n",
    "\n",
    "from matplotlib.colors import LinearSegmentedColormap\n",
    "from matplotlib.ticker import FuncFormatter\n",
    "import matplotlib.pyplot as plt\n",
    "import seaborn as sns\n",
    "%matplotlib inline\n",
    "sns.set_style('whitegrid')\n",
    "## plt.style.use(\"fivethirtyeight\")\n",
    "plt.rcParams['font.family'] = 'Malgun Gothic'\n",
    "plt.rcParams['axes.unicode_minus'] = False\n",
    "plt.rcParams[\"figure.figsize\"] = (10,6)"
   ]
  },
  {
   "cell_type": "code",
   "execution_count": 198,
   "metadata": {},
   "outputs": [],
   "source": [
    "## 그리기 설정값\n",
    "color_basic = \"#3b4a6b\" # 네이비 기본색\n",
    "color_norm = \"#f23557\" # 진홍색 강조색\n",
    "color_cont = \"#22b2da\" # 파란색 대비색\n",
    "color_sub = \"#ff6f3c\" # 주황색 보조색\n",
    "color_around = \"#6E6E6E\" # 회색 주변색\n",
    "color_around2 = \"#E0E0E0\" # 연회색 주변색\n",
    "\n",
    "figsize=(12, 8)"
   ]
  },
  {
   "cell_type": "markdown",
   "metadata": {},
   "source": [
    "##### Function #####"
   ]
  },
  {
   "cell_type": "code",
   "execution_count": null,
   "metadata": {},
   "outputs": [],
   "source": [
    "def simulate_portfolio_assets(asset_rets_df, weights_list, initial_investment=100):\n",
    "    \"\"\"\n",
    "    n개의 자산에 대한 투자 비중에 따른 포트폴리오 시뮬레이션.\n",
    "\n",
    "    Parameters:\n",
    "        asset_returns (list of pd.Series): 각 자산의 수익률 시계열 데이터프레임.\n",
    "        weights_list (list of list): 자산별 비중 리스트. 각 리스트의 합은 1이어야 함.\n",
    "        initial_investment (float): 초기 투자 금액 (기본값: 100).\n",
    "\n",
    "    Returns:\n",
    "        pd.DataFrame: 각 비중 조합에 대한 포트폴리오 가치 시계열 데이터프레임.\n",
    "    \"\"\"\n",
    "    asset_rets_list = [asset_rets_df[col] for col in asset_rets_df.columns]\n",
    "    portfolio_values = {}\n",
    "    for weights in weights_list:\n",
    "        _weights = [i/sum(weights) for i in weights]\n",
    "        # 포트폴리오 수익률 계산 (각 자산의 비중 곱)\n",
    "        portfolio_returns = sum(w * r for w, r in zip(_weights, asset_rets_list))\n",
    "        # 초기 투자 금액 기준 포트폴리오 가치 시계열 계산\n",
    "        portfolio_cum_value = initial_investment * (1 + portfolio_returns).cumprod()\n",
    "        portfolio_values[str(weights)] = portfolio_cum_value\n",
    "\n",
    "    # 데이터프레임으로 변환\n",
    "    portfolio_df = pd.DataFrame(portfolio_values)\n",
    "    return portfolio_df\n",
    "\n",
    "def split_time_series(df, n_days):\n",
    "    split_days = n_days\n",
    "    dfs = []\n",
    "    for i in range(len(df)-split_days+1):\n",
    "        dfs.append(df[i:split_days+i])\n",
    "    return dfs"
   ]
  },
  {
   "cell_type": "markdown",
   "metadata": {},
   "source": [
    "##### Data load"
   ]
  },
  {
   "cell_type": "code",
   "execution_count": 3,
   "metadata": {},
   "outputs": [],
   "source": [
    "fred = Fred(api_key='cfb4f49f5c1a9396f671b8049d992e56')"
   ]
  },
  {
   "cell_type": "code",
   "execution_count": 4,
   "metadata": {},
   "outputs": [],
   "source": [
    "ticker_dict = {'SPY':'S&P500', 'QQQ':'Nasdaq100', 'IWM':'Russell2000',\n",
    "               'VTI':'Total_US_Stock_Market', 'VT':'Total_World_Stock_Market', 'VEA':'Developed_Markets_ex_US', 'VWO':'Emerging_Markets',\n",
    "               'SHV':'Super_Short_Term_Treasury', 'SHY':'Short_Term_Treasury', 'IEF':'Intermediate_Term_Treasury', 'TLT':'Long_Term_Treasury', 'TIP':'TIPS', 'BND':'Total_Bond_Market',\n",
    "               'VNQ':'Real_Estate', 'RWX':'Global_Real_Estate',\n",
    "               'GLD':'Gold', 'DBC':'Commodities', 'USO':'Oil', 'GSG':'Energy'}"
   ]
  },
  {
   "cell_type": "code",
   "execution_count": 5,
   "metadata": {},
   "outputs": [
    {
     "name": "stderr",
     "output_type": "stream",
     "text": [
      "[*********************100%%**********************]  19 of 19 completed\n"
     ]
    }
   ],
   "source": [
    "dataset = data_funcs.get_merged_df('SPY', 'QQQ', 'IWM', 'VTI', 'VT', 'VEA', 'VWO', 'SHV', 'SHY','IEF', 'TLT', 'TIP', 'BND', 'VNQ', 'RWX', 'GLD', 'DBC', 'USO', 'GSG')\n",
    "dataset = dataset[['SPY', 'QQQ', 'IWM', 'VTI', 'VT', 'VEA', 'VWO', 'SHV', 'SHY','IEF', 'TLT', 'TIP', 'BND', 'VNQ', 'RWX', 'GLD', 'DBC', 'USO', 'GSG']]"
   ]
  },
  {
   "cell_type": "code",
   "execution_count": 6,
   "metadata": {},
   "outputs": [],
   "source": [
    "## 무위험자산\n",
    "dataset['CASH'] = range(len(dataset))\n",
    "dataset['CASH'] = dataset['CASH'].apply(lambda x:((1.025)**1/252+1)**x)"
   ]
  },
  {
   "cell_type": "code",
   "execution_count": 7,
   "metadata": {},
   "outputs": [],
   "source": [
    "## \n",
    "datasemi = dataset[['SPY', 'QQQ', 'SHY','IEF', 'TLT', 'GLD', 'CASH']].copy()"
   ]
  },
  {
   "cell_type": "code",
   "execution_count": 224,
   "metadata": {},
   "outputs": [],
   "source": [
    "## 데이터 설정값\n",
    "ticker_A = 'QQQ'\n",
    "ticker_B = 'TLT'"
   ]
  },
  {
   "cell_type": "markdown",
   "metadata": {},
   "source": [
    "##### EDA"
   ]
  },
  {
   "cell_type": "markdown",
   "metadata": {},
   "source": [
    "##### 상관계수"
   ]
  },
  {
   "cell_type": "code",
   "execution_count": 8,
   "metadata": {},
   "outputs": [],
   "source": [
    "## corrset = dataset.rename(columns=ticker_dict).pct_change().corr()\n",
    "## corrsemi = datasemi.rename(columns=ticker_dict).pct_change().corr()\n",
    "\n",
    "corrset = dataset.pct_change().corr()\n",
    "corrsemi = datasemi.pct_change().corr()"
   ]
  },
  {
   "cell_type": "code",
   "execution_count": 200,
   "metadata": {},
   "outputs": [],
   "source": [
    "# 히트맵 시각화\n",
    "plt.figure(figsize=figsize)\n",
    "\n",
    "custom_colors = [\"#F7FBFF\", \"#6BAED6\", \"#08306B\"]\n",
    "custom_cmap = LinearSegmentedColormap.from_list(\"custom\", custom_colors)\n",
    "\n",
    "sns.heatmap(corrsemi, annot=True, cmap=custom_cmap, fmt='.2f',\n",
    "            linewidths=0.5, cbar_kws={\"shrink\": .8}, cbar=False, annot_kws={\"size\": 12})\n",
    "plt.title('Asset Correlations', fontsize=22, fontweight=\"bold\", color=color_basic)\n",
    "plt.ylabel(\"Ticker\", fontsize=16, labelpad=-45, fontweight=\"bold\", color=color_around, loc=\"top\", rotation=0)\n",
    "plt.xlabel(\"\")\n",
    "plt.yticks(rotation=0, fontsize=12, color=color_around)\n",
    "plt.xticks(rotation=0, fontsize=12, color=color_around)\n",
    "plt.tight_layout()\n",
    "plt.show()"
   ]
  },
  {
   "cell_type": "markdown",
   "metadata": {},
   "source": [
    "##### 조합별 수익률"
   ]
  },
  {
   "cell_type": "code",
   "execution_count": 10,
   "metadata": {},
   "outputs": [],
   "source": [
    "df = dataset[[ticker_A, ticker_B]].dropna()\n",
    "df = df/df.iloc[0]"
   ]
  },
  {
   "cell_type": "code",
   "execution_count": 13,
   "metadata": {},
   "outputs": [],
   "source": [
    "rets = df.pct_change().fillna(0)"
   ]
  },
  {
   "cell_type": "code",
   "execution_count": 14,
   "metadata": {},
   "outputs": [],
   "source": [
    "result_df = simulate_portfolio_assets(rets, [(10,0), (9, 1), (8, 2), (7, 3), (6, 4), (5, 5), (4, 6), (3, 7), (2, 8), (1, 9), (0,10)])\n",
    "result_df.columns = [ticker_A, '9:1', '8:2', '7:3', '6:4', '5:5', '4:6', '3:7', '2:8', '1:9', ticker_B]"
   ]
  },
  {
   "cell_type": "code",
   "execution_count": 258,
   "metadata": {},
   "outputs": [],
   "source": [
    "# _df = result_df[[ticker_A, \"5:5\", ticker_B]].dropna().reset_index()\n",
    "# _df = _df.melt(id_vars='Date', value_vars=_df.columns, var_name='Ticker', value_name='Value')\n",
    "\n",
    "# plt.figure(figsize=figsize)\n",
    "# colors = [color_norm, color_sub, color_cont]\n",
    "# lineplot = sns.lineplot(data=_df, x='Date', y='Value', hue='Ticker', palette=colors, linestyle='-', linewidth=1)\n",
    "# plt.ylabel(\"Return\", fontsize=14, labelpad=-40, fontweight=\"bold\", color=color_around, loc=\"top\", rotation=0)\n",
    "# plt.xlabel(\"\")\n",
    "# plt.yscale('log')\n",
    "# plt.xticks(fontsize=12, color=color_around)\n",
    "# plt.yticks([50, 100, 1000], ['50', '100', '1000'], fontsize=12, color=color_around)\n",
    "\n",
    "# # 눈금과 축 간격 줄이기\n",
    "# plt.gca().tick_params(axis=\"y\", pad=1)  # Y축 눈금 패딩 조정\n",
    "\n",
    "# # 그리드 추가\n",
    "# plt.grid(color=color_around2, linestyle=\"--\", linewidth=0.7, alpha=0.7)\n",
    "\n",
    "# # 그래프 표시\n",
    "# plt.tight_layout()\n",
    "# plt.show()"
   ]
  },
  {
   "cell_type": "markdown",
   "metadata": {},
   "source": [
    "##### 조합별 RR프로파일"
   ]
  },
  {
   "cell_type": "code",
   "execution_count": null,
   "metadata": {},
   "outputs": [],
   "source": [
    "## sortino ratio\n",
    "sort_df = anal_funcs.get_Vol_report(result_df, 'g', unit='daily', rf=0)"
   ]
  },
  {
   "cell_type": "code",
   "execution_count": 227,
   "metadata": {},
   "outputs": [],
   "source": [
    "# # 색상 및 크기 설정\n",
    "# colors = [color_norm, color_sub, color_sub, color_sub, color_sub, color_sub, color_sub, color_sub, color_sub, color_sub, color_cont]\n",
    "# sizes = 500\n",
    "\n",
    "# # 그래프 설정\n",
    "# fig, ax = plt.subplots(figsize=figsize)\n",
    "\n",
    "# # 점 그리기\n",
    "# x = sort_df['Volatility']\n",
    "# y = sort_df['Return']\n",
    "# scatter = ax.scatter(x, y, c=colors, s=sizes, edgecolors=\"white\", linewidth=2, alpha=0.9)\n",
    "\n",
    "\n",
    "# # 데이터 레이블 추가\n",
    "# labels = list(sort_df.index)\n",
    "# for i, label in enumerate(labels):\n",
    "#     plt.text(\n",
    "#         x[i], y[i]-0.2, label, fontsize=12, ha=\"center\", va=\"center\", \n",
    "#         color=\"white\", fontweight=\"bold\", bbox=dict(facecolor=colors[i], edgecolor='none', alpha=0.8, boxstyle=\"round,pad=0.3\")\n",
    "#     )\n",
    "\n",
    "# # % 단위를 추가하는 포맷터 함수 정의\n",
    "# def percent_formatter(x, pos):\n",
    "#     return f\"{int(x)}%\"\n",
    "\n",
    "# # X축, Y축에 % 포맷터 적용\n",
    "# plt.gca().xaxis.set_major_formatter(FuncFormatter(percent_formatter))\n",
    "# plt.gca().yaxis.set_major_formatter(FuncFormatter(percent_formatter))\n",
    "# # 눈금과 축 간격 줄이기\n",
    "# plt.gca().tick_params(axis=\"x\", pad=1)  # X축 눈금 패딩 조정\n",
    "# plt.gca().tick_params(axis=\"y\", pad=1)  # Y축 눈금 패딩 조정\n",
    "\n",
    "# # 축 설정\n",
    "# plt.title(\"Return-Risk Profile : 2002~2024\", fontsize=22, fontweight=\"bold\", color=color_basic)\n",
    "# plt.xlabel(\"Risk\", fontsize=16, labelpad=-10, fontweight=\"bold\", color=color_around, loc=\"right\")\n",
    "# plt.ylabel(\"Return\", fontsize=16, labelpad=-50, fontweight=\"bold\", color=color_around, loc=\"top\", rotation=0)\n",
    "# plt.xticks(fontsize=10, color=color_around)\n",
    "# plt.yticks(fontsize=10, color=color_around)\n",
    "# plt.xlim(2.9, 5.7)\n",
    "# plt.ylim(2.4, 6.9)\n",
    "# plt.grid(color=color_around2, linestyle=\"--\", linewidth=0.7, alpha=0.7)\n",
    "\n",
    "# # 저장 및 출력\n",
    "# plt.tight_layout()\n",
    "# plt.show()\n"
   ]
  },
  {
   "cell_type": "code",
   "execution_count": 232,
   "metadata": {},
   "outputs": [],
   "source": [
    "##### HRR"
   ]
  },
  {
   "cell_type": "code",
   "execution_count": 18,
   "metadata": {},
   "outputs": [],
   "source": [
    "## 전고점대비 최대낙폭(MDD)\n",
    "MDD, HRR = anal_funcs.get_MDD_report(result_df, 'g')"
   ]
  },
  {
   "cell_type": "code",
   "execution_count": 239,
   "metadata": {},
   "outputs": [],
   "source": [
    "# _df = HRR[[ticker_A, \"5:5\", ticker_B]].dropna().reset_index()\n",
    "# _df = _df.melt(id_vars='Date', value_vars=_df.columns, var_name='Ticker', value_name='Value')\n",
    "\n",
    "# plt.figure(figsize=figsize)\n",
    "# colors = [color_norm, color_sub, color_cont]\n",
    "# lineplot = sns.lineplot(data=_df, x='Date', y='Value', hue='Ticker', palette=colors, linestyle='-', linewidth=1)\n",
    "# plt.ylabel(\"MDD\", fontsize=14, labelpad=-40, fontweight=\"bold\", color=color_around, loc=\"top\", rotation=0)\n",
    "# plt.xlabel(\"\")\n",
    "# plt.xticks(fontsize=12, color=color_around)\n",
    "# plt.yticks(fontsize=12, color=color_around)\n",
    "\n",
    "# # 눈금과 축 간격 줄이기\n",
    "# plt.gca().tick_params(axis=\"y\", pad=1)  # Y축 눈금 패딩 조정\n",
    "\n",
    "# # 그리드 추가\n",
    "# plt.grid(color=color_around2, linestyle=\"--\", linewidth=0.7, alpha=0.7)\n",
    "\n",
    "# # 그래프 표시\n",
    "# plt.tight_layout()\n",
    "# plt.show()"
   ]
  },
  {
   "cell_type": "markdown",
   "metadata": {},
   "source": [
    "##### 분할탐색"
   ]
  },
  {
   "cell_type": "code",
   "execution_count": 21,
   "metadata": {},
   "outputs": [],
   "source": [
    "## data-split\n",
    "df_ls = split_time_series(df, 5*252)"
   ]
  },
  {
   "cell_type": "code",
   "execution_count": 47,
   "metadata": {},
   "outputs": [],
   "source": [
    "## calculate Rolling Returns\n",
    "_ls = []\n",
    "_idx = []\n",
    "for _df in df_ls:\n",
    "    _df = simulate_portfolio_assets(_df.pct_change().fillna(0), [(10,0), (9, 1), (8, 2), (7, 3), (6, 4), (5, 5), (4, 6), (3, 7), (2, 8), (1, 9), (0,10)])\n",
    "    _df.columns = [ticker_A, '9:1', '8:2', '7:3', '6:4', '5:5', '4:6', '3:7', '2:8', '1:9', ticker_B]\n",
    "    _ls.append([anal_funcs.cal_YRR(_df, col, method ='g', unit = 'daily') for col in _df.columns])\n",
    "    _idx.append(_df.index[0])  \n",
    "res = pd.DataFrame(_ls, columns = _df.columns, index=_idx)"
   ]
  },
  {
   "cell_type": "code",
   "execution_count": 206,
   "metadata": {},
   "outputs": [],
   "source": [
    "# plt.figure(figsize=figsize)\n",
    "# colors = [color_norm, color_sub, color_sub, color_sub, color_sub, color_sub, color_sub, color_sub, color_sub, color_sub, color_cont]\n",
    "# boxplot = sns.boxplot(data=res, palette=colors, width=0.5, linewidth=1, linecolor= color_basic, boxprops=dict(edgecolor=\"black\", linewidth=0))\n",
    "\n",
    "# # 각 요소의 강조\n",
    "# boxplot.set_title('Distribution of 5-Year Rolling Returns', fontsize=22, fontweight='bold', color=color_basic)\n",
    "# plt.ylabel(\"Return\", fontsize=14, labelpad=-40, fontweight=\"bold\", color=color_around, loc=\"top\", rotation=0)\n",
    "# plt.xticks(fontsize=12, color=color_around)\n",
    "# plt.yticks(fontsize=12, color=color_around)\n",
    "\n",
    "\n",
    "# # 상자 위에 중앙값 추가\n",
    "# medians = res.median()\n",
    "# for i, median in enumerate(medians):\n",
    "#     plt.text(i, median+0.25, f'{median:.2f}%', ha='center', va=\"center\", fontsize=11,\n",
    "#              color=\"white\", fontweight=\"bold\")\n",
    "\n",
    "\n",
    "# # % 단위를 추가하는 포맷터 함수 정의\n",
    "# def percent_formatter(x, pos):\n",
    "#     return f\"{int(x)}%\"\n",
    "# # X축, Y축에 % 포맷터 적용\n",
    "# plt.gca().yaxis.set_major_formatter(FuncFormatter(percent_formatter))\n",
    "# # 눈금과 축 간격 줄이기\n",
    "# plt.gca().tick_params(axis=\"y\", pad=1)  # Y축 눈금 패딩 조정\n",
    "\n",
    "# # 그리드 추가\n",
    "# plt.grid(color=color_around2, linestyle=\"--\", linewidth=0.7, alpha=0.7)\n",
    "\n",
    "# # 보조선 추가\n",
    "# plt.axhline(y=0, color='lightcoral', linestyle='--', linewidth=1)\n",
    "\n",
    "# # 그래프 표시\n",
    "# plt.tight_layout()\n",
    "# plt.show()"
   ]
  },
  {
   "cell_type": "code",
   "execution_count": 256,
   "metadata": {},
   "outputs": [],
   "source": [
    "# _df = res[[ticker_A, '5:5', ticker_B]].reset_index()\n",
    "# _df = _df.melt(id_vars='index', value_vars=_df.columns, var_name='Ticker', value_name='Value')\n",
    "\n",
    "# plt.figure(figsize=figsize)\n",
    "# colors = [color_norm, color_sub, color_cont]\n",
    "# lineplot = sns.lineplot(data=_df, x='index', y='Value', hue='Ticker', palette=colors, linestyle='-', linewidth=1)\n",
    "# plt.ylabel(\"Return\", fontsize=14, labelpad=-40, fontweight=\"bold\", color=color_around, loc=\"top\", rotation=0)\n",
    "# plt.xlabel(\"\")\n",
    "# plt.xticks(fontsize=12, color=color_around)\n",
    "# plt.yticks(fontsize=12, color=color_around)\n",
    "\n",
    "\n",
    "# # % 단위를 추가하는 포맷터 함수 정의\n",
    "# def percent_formatter(x, pos):\n",
    "#     return f\"{int(x)}%\"\n",
    "# # X축, Y축에 % 포맷터 적용\n",
    "# plt.gca().yaxis.set_major_formatter(FuncFormatter(percent_formatter))\n",
    "# # 눈금과 축 간격 줄이기\n",
    "# plt.gca().tick_params(axis=\"y\", pad=1)  # Y축 눈금 패딩 조정\n",
    "\n",
    "# # 그리드 추가\n",
    "# plt.grid(color=color_around2, linestyle=\"--\", linewidth=0.7, alpha=0.7)\n",
    "\n",
    "# # 그래프 표시\n",
    "# plt.tight_layout()\n",
    "# plt.show()"
   ]
  },
  {
   "cell_type": "markdown",
   "metadata": {},
   "source": [
    "##### 마무리"
   ]
  },
  {
   "cell_type": "code",
   "execution_count": 254,
   "metadata": {},
   "outputs": [],
   "source": [
    "# _df = dataset[[ticker_A]].dropna().reset_index()\n",
    "# _df = _df.melt(id_vars='Date', value_vars=_df.columns, var_name='Ticker', value_name='Value')\n",
    "\n",
    "# plt.figure(figsize=figsize)\n",
    "# colors = [color_norm, color_sub, color_cont]\n",
    "# lineplot = sns.lineplot(data=_df, x='Date', y='Value', hue='Ticker', palette=colors, linestyle='-', linewidth=1)\n",
    "# plt.ylabel(\"Return\", fontsize=14, labelpad=-40, fontweight=\"bold\", color=color_around, loc=\"top\", rotation=0)\n",
    "# plt.xlabel(\"\")\n",
    "# plt.yscale('log')\n",
    "# plt.xticks(fontsize=12, color=color_around)\n",
    "# plt.yticks([10, 100, 500], ['10', '100', '500'], fontsize=12, color=color_around)\n",
    "\n",
    "# # 눈금과 축 간격 줄이기\n",
    "# plt.gca().tick_params(axis=\"y\", pad=1)  # Y축 눈금 패딩 조정\n",
    "\n",
    "# # 그리드 추가\n",
    "# plt.grid(color=color_around2, linestyle=\"--\", linewidth=0.7, alpha=0.7)\n",
    "\n",
    "# # 그래프 표시\n",
    "# plt.tight_layout()\n",
    "# plt.show()"
   ]
  }
 ],
 "metadata": {
  "kernelspec": {
   "display_name": ".venv",
   "language": "python",
   "name": "python3"
  },
  "language_info": {
   "codemirror_mode": {
    "name": "ipython",
    "version": 3
   },
   "file_extension": ".py",
   "mimetype": "text/x-python",
   "name": "python",
   "nbconvert_exporter": "python",
   "pygments_lexer": "ipython3",
   "version": "3.11.9"
  }
 },
 "nbformat": 4,
 "nbformat_minor": 2
}
