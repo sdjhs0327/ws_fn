{
 "cells": [
  {
   "cell_type": "code",
   "execution_count": 335,
   "metadata": {},
   "outputs": [],
   "source": [
    "import pandas as pd\n",
    "import warnings\n",
    "warnings.filterwarnings('ignore')\n",
    "import numpy as np\n",
    "import datetime as dt\n",
    "import math\n",
    "import os\n",
    "from itertools import product\n",
    "from datetime import datetime\n",
    "from dateutil.relativedelta import relativedelta\n",
    "from quant_functions import anal_funcs, data_funcs\n",
    "\n",
    "import yfinance as yf\n",
    "## FRED 정보 수집\n",
    "from fredapi import Fred"
   ]
  },
  {
   "cell_type": "code",
   "execution_count": 73,
   "metadata": {},
   "outputs": [
    {
     "data": {
      "text/html": [
       "        <script type=\"text/javascript\">\n",
       "        window.PlotlyConfig = {MathJaxConfig: 'local'};\n",
       "        if (window.MathJax && window.MathJax.Hub && window.MathJax.Hub.Config) {window.MathJax.Hub.Config({SVG: {font: \"STIX-Web\"}});}\n",
       "        if (typeof require !== 'undefined') {\n",
       "        require.undef(\"plotly\");\n",
       "        requirejs.config({\n",
       "            paths: {\n",
       "                'plotly': ['https://cdn.plot.ly/plotly-2.27.0.min']\n",
       "            }\n",
       "        });\n",
       "        require(['plotly'], function(Plotly) {\n",
       "            window._Plotly = Plotly;\n",
       "        });\n",
       "        }\n",
       "        </script>\n",
       "        "
      ]
     },
     "metadata": {},
     "output_type": "display_data"
    }
   ],
   "source": [
    "# 시각화 관련\n",
    "import plotly_express as px\n",
    "import plotly.figure_factory as ff\n",
    "import cufflinks as cf\n",
    "cf.go_offline(connected=True)\n",
    "## cf.getThemes()\n",
    "cf.set_config_file(theme='polar')\n",
    "import plotly.graph_objects as go\n",
    "\n",
    "from matplotlib.colors import LinearSegmentedColormap\n",
    "from matplotlib.ticker import FuncFormatter\n",
    "import matplotlib.pyplot as plt\n",
    "import seaborn as sns\n",
    "%matplotlib inline\n",
    "## ns.set_style('whitegrid')\n",
    "## plt.style.use(\"fivethirtyeight\")\n",
    "plt.rcParams['font.family'] = 'Malgun Gothic'\n",
    "plt.rcParams['axes.unicode_minus'] = False\n",
    "plt.rcParams[\"figure.figsize\"] = (10,6)"
   ]
  },
  {
   "cell_type": "markdown",
   "metadata": {},
   "source": [
    "##### Data load"
   ]
  },
  {
   "cell_type": "code",
   "execution_count": 2,
   "metadata": {},
   "outputs": [],
   "source": [
    "fred = Fred(api_key='cfb4f49f5c1a9396f671b8049d992e56')"
   ]
  },
  {
   "cell_type": "code",
   "execution_count": 63,
   "metadata": {},
   "outputs": [],
   "source": [
    "ticker_dict = {'SPY':'S&P500', 'QQQ':'Nasdaq100', 'IWM':'Russell2000',\n",
    "               'VTI':'Total_US_Stock_Market', 'VT':'Total_World_Stock_Market', 'VEA':'Developed_Markets_ex_US', 'VWO':'Emerging_Markets',\n",
    "               'SHV':'Super_Short_Term_Treasury', 'SHY':'Short_Term_Treasury', 'IEF':'Intermediate_Term_Treasury', 'TLT':'Long_Term_Treasury', 'TIP':'TIPS', 'BND':'Total_Bond_Market',\n",
    "               'VNQ':'Real_Estate', 'RWX':'Global_Real_Estate',\n",
    "               'GLD':'Gold', 'DBC':'Commodities', 'USO':'Oil', 'GSG':'Energy'}"
   ]
  },
  {
   "cell_type": "code",
   "execution_count": 64,
   "metadata": {},
   "outputs": [
    {
     "name": "stderr",
     "output_type": "stream",
     "text": [
      "[*********************100%%**********************]  19 of 19 completed\n"
     ]
    }
   ],
   "source": [
    "dataset = data_funcs.get_merged_df('SPY', 'QQQ', 'IWM', 'VTI', 'VT', 'VEA', 'VWO', 'SHV', 'SHY','IEF', 'TLT', 'TIP', 'BND', 'VNQ', 'RWX', 'GLD', 'DBC', 'USO', 'GSG')\n",
    "dataset = dataset[['SPY', 'QQQ', 'IWM', 'VTI', 'VT', 'VEA', 'VWO', 'SHV', 'SHY','IEF', 'TLT', 'TIP', 'BND', 'VNQ', 'RWX', 'GLD', 'DBC', 'USO', 'GSG']]"
   ]
  },
  {
   "cell_type": "code",
   "execution_count": 66,
   "metadata": {},
   "outputs": [],
   "source": [
    "## 무위험자산\n",
    "dataset['CASH'] = range(len(dataset))\n",
    "dataset['CASH'] = dataset['CASH'].apply(lambda x:((1.025)**1/252+1)**x)"
   ]
  },
  {
   "cell_type": "code",
   "execution_count": 67,
   "metadata": {},
   "outputs": [],
   "source": [
    "## \n",
    "datasemi = dataset[['SPY', 'QQQ', 'SHY','IEF', 'TLT', 'GLD', 'CASH']].copy()"
   ]
  },
  {
   "cell_type": "markdown",
   "metadata": {},
   "source": [
    "##### 상관계수"
   ]
  },
  {
   "cell_type": "code",
   "execution_count": 128,
   "metadata": {},
   "outputs": [],
   "source": [
    "## corrset = dataset.rename(columns=ticker_dict).pct_change().corr()\n",
    "## corrsemi = datasemi.rename(columns=ticker_dict).pct_change().corr()\n",
    "\n",
    "corrset = dataset.pct_change().corr()\n",
    "corrsemi = datasemi.pct_change().corr()"
   ]
  },
  {
   "cell_type": "code",
   "execution_count": 255,
   "metadata": {},
   "outputs": [],
   "source": [
    "# # 히트맵 시각화\n",
    "# plt.figure(figsize=(12, 8))\n",
    "\n",
    "# custom_colors = [\"#F7FBFF\", \"#6BAED6\", \"#08306B\"]\n",
    "# custom_cmap = LinearSegmentedColormap.from_list(\"custom_blue\", custom_colors)\n",
    "\n",
    "# sns.heatmap(corrsemi, annot=True, cmap=custom_cmap, fmt='.2f',\n",
    "#             linewidths=0.5, cbar_kws={\"shrink\": .8}, cbar=False, annot_kws={\"size\": 12})\n",
    "# plt.title('Asset Correlations', fontsize=22, fontweight=\"bold\", color=\"#333333\")\n",
    "# plt.ylabel(\"Ticker\", fontsize=16, labelpad=-45, fontweight=\"bold\", color=\"#6E6E6E\", loc=\"top\", rotation=0)\n",
    "# plt.xlabel(\"\")\n",
    "# plt.yticks(rotation=0, fontsize=12)\n",
    "# plt.xticks(rotation=0, fontsize=12)\n",
    "# plt.tight_layout()\n",
    "# plt.show()"
   ]
  },
  {
   "cell_type": "markdown",
   "metadata": {},
   "source": [
    "##### 조합별 수익률"
   ]
  },
  {
   "cell_type": "markdown",
   "metadata": {},
   "source": [
    "###### QQQ + TLT"
   ]
  },
  {
   "cell_type": "code",
   "execution_count": 148,
   "metadata": {},
   "outputs": [],
   "source": [
    "df = dataset[['QQQ', 'TLT']].dropna()\n",
    "df = df/df.iloc[0]"
   ]
  },
  {
   "cell_type": "code",
   "execution_count": 322,
   "metadata": {},
   "outputs": [],
   "source": [
    "# df.plot()\n",
    "# plt.yscale('log')"
   ]
  },
  {
   "cell_type": "code",
   "execution_count": 207,
   "metadata": {},
   "outputs": [],
   "source": [
    "def simulate_portfolio_assets(asset_rets_df, weights_list, initial_investment=100):\n",
    "    \"\"\"\n",
    "    n개의 자산에 대한 투자 비중에 따른 포트폴리오 시뮬레이션.\n",
    "\n",
    "    Parameters:\n",
    "        asset_returns (list of pd.Series): 각 자산의 수익률 시계열 데이터프레임.\n",
    "        weights_list (list of list): 자산별 비중 리스트. 각 리스트의 합은 1이어야 함.\n",
    "        initial_investment (float): 초기 투자 금액 (기본값: 100).\n",
    "\n",
    "    Returns:\n",
    "        pd.DataFrame: 각 비중 조합에 대한 포트폴리오 가치 시계열 데이터프레임.\n",
    "    \"\"\"\n",
    "    asset_rets_list = [asset_rets_df[col] for col in asset_rets_df.columns]\n",
    "    portfolio_values = {}\n",
    "    for weights in weights_list:\n",
    "        _weights = [i/sum(weights) for i in weights]\n",
    "        # 포트폴리오 수익률 계산 (각 자산의 비중 곱)\n",
    "        portfolio_returns = sum(w * r for w, r in zip(_weights, asset_rets_list))\n",
    "        # 초기 투자 금액 기준 포트폴리오 가치 시계열 계산\n",
    "        portfolio_cum_value = initial_investment * (1 + portfolio_returns).cumprod()\n",
    "        portfolio_values[str(weights)] = portfolio_cum_value\n",
    "\n",
    "    # 데이터프레임으로 변환\n",
    "    portfolio_df = pd.DataFrame(portfolio_values)\n",
    "    return portfolio_df"
   ]
  },
  {
   "cell_type": "code",
   "execution_count": 197,
   "metadata": {},
   "outputs": [],
   "source": [
    "rets = df.pct_change().fillna(0)"
   ]
  },
  {
   "cell_type": "code",
   "execution_count": 312,
   "metadata": {},
   "outputs": [],
   "source": [
    "result_df = simulate_portfolio_assets(rets, [(10,0), (9, 1), (8, 2), (7, 3), (6, 4), (5, 5), (4, 6), (3, 7), (2, 8), (1, 9), (0,10)])\n",
    "result_df.columns = ['QQQ', '9:1', '8:2', '7:3', '6:4', '5:5', '4:6', '3:7', '2:8', '1:9', 'TLT']"
   ]
  },
  {
   "cell_type": "code",
   "execution_count": 313,
   "metadata": {},
   "outputs": [],
   "source": [
    "# temp.plot()\n",
    "# plt.yscale('log')"
   ]
  },
  {
   "cell_type": "code",
   "execution_count": 314,
   "metadata": {},
   "outputs": [],
   "source": [
    "## sortino ratio\n",
    "sort_df = anal_funcs.get_Vol_report(result_df, 'g', unit='daily', rf=0)"
   ]
  },
  {
   "cell_type": "code",
   "execution_count": 320,
   "metadata": {},
   "outputs": [],
   "source": [
    "# # 색상 및 크기 설정\n",
    "# colors = [\"#E63946\", \"#4361EE\", \"#4361EE\", \"#4361EE\", \"#4361EE\", \"#4361EE\", \"#4361EE\", \"#4361EE\", \"#4361EE\", \"#4361EE\", \"#7209B7\"]\n",
    "# sizes = 500\n",
    "\n",
    "# # 그래프 설정\n",
    "# fig, ax = plt.subplots(figsize=(12, 8))\n",
    "\n",
    "# # 점 그리기\n",
    "# x = sort_df['Volatility']\n",
    "# y = sort_df['Return']\n",
    "# scatter = ax.scatter(x, y, c=colors, s=sizes, edgecolors=\"white\", linewidth=2, alpha=0.9)\n",
    "\n",
    "\n",
    "# # 데이터 레이블 추가\n",
    "# labels = list(sort_df.index)\n",
    "# for i, label in enumerate(labels):\n",
    "#     plt.text(\n",
    "#         x[i], y[i]-0.2, label, fontsize=12, ha=\"center\", va=\"center\", \n",
    "#         color=\"white\", fontweight=\"bold\", bbox=dict(facecolor=colors[i], edgecolor='none', alpha=0.8, boxstyle=\"round,pad=0.3\")\n",
    "#     )\n",
    "\n",
    "# # % 단위를 추가하는 포맷터 함수 정의\n",
    "# def percent_formatter(x, pos):\n",
    "#     return f\"{int(x)}%\"\n",
    "\n",
    "# # X축, Y축에 % 포맷터 적용\n",
    "# plt.gca().xaxis.set_major_formatter(FuncFormatter(percent_formatter))\n",
    "# plt.gca().yaxis.set_major_formatter(FuncFormatter(percent_formatter))\n",
    "# # 눈금과 축 간격 줄이기\n",
    "# plt.gca().tick_params(axis=\"x\", pad=1)  # X축 눈금 패딩 조정\n",
    "# plt.gca().tick_params(axis=\"y\", pad=1)  # Y축 눈금 패딩 조정\n",
    "\n",
    "# # 축 설정\n",
    "# plt.title(\"Return-Risk Profile : 2002~2024\", fontsize=22, fontweight=\"bold\", color=\"#333333\")\n",
    "# plt.xlabel(\"Risk\", fontsize=16, labelpad=-10, fontweight=\"bold\", color=\"#6E6E6E\", loc=\"right\")\n",
    "# plt.ylabel(\"Return\", fontsize=16, labelpad=-50, fontweight=\"bold\", color=\"#6E6E6E\", loc=\"top\", rotation=0)\n",
    "# plt.xticks(fontsize=10, color=\"#6E6E6E\")\n",
    "# plt.yticks(fontsize=10, color=\"#6E6E6E\")\n",
    "# plt.xlim(2.9, 5.7)\n",
    "# plt.ylim(2.4, 6.9)\n",
    "# plt.grid(color=\"#E0E0E0\", linestyle=\"--\", linewidth=0.7, alpha=0.7)\n",
    "\n",
    "# # 저장 및 출력\n",
    "# plt.tight_layout()\n",
    "# plt.show()\n"
   ]
  },
  {
   "cell_type": "code",
   "execution_count": null,
   "metadata": {},
   "outputs": [],
   "source": [
    "## 전고점대비 최대낙폭(MDD)\n",
    "MDD, HRR = anal_funcs.get_MDD_report(result_df, 'a')"
   ]
  },
  {
   "cell_type": "code",
   "execution_count": 431,
   "metadata": {},
   "outputs": [],
   "source": [
    "# HRR[['(10, 0)', '(5, 5)', '(0, 1)']].plot()"
   ]
  },
  {
   "cell_type": "markdown",
   "metadata": {},
   "source": [
    "##### 분할탐색"
   ]
  },
  {
   "cell_type": "code",
   "execution_count": 432,
   "metadata": {},
   "outputs": [],
   "source": [
    "def split_time_series(df, n_days):\n",
    "    split_days = n_days\n",
    "    dfs = []\n",
    "    for i in range(len(df)-split_days+1):\n",
    "        dfs.append(df[i:split_days+i])\n",
    "    return dfs"
   ]
  },
  {
   "cell_type": "code",
   "execution_count": 436,
   "metadata": {},
   "outputs": [],
   "source": [
    "rets = df.pct_change().fillna(0)"
   ]
  },
  {
   "cell_type": "code",
   "execution_count": 441,
   "metadata": {},
   "outputs": [],
   "source": [
    "df_ls = split_time_series(df, 5*252)"
   ]
  },
  {
   "cell_type": "code",
   "execution_count": 478,
   "metadata": {},
   "outputs": [
    {
     "data": {
      "text/plain": [
       "DatetimeIndex(['2002-07-30', '2002-07-31', '2002-08-01', '2002-08-02',\n",
       "               '2002-08-05', '2002-08-06', '2002-08-07', '2002-08-08',\n",
       "               '2002-08-09', '2002-08-12',\n",
       "               ...\n",
       "               '2019-11-06', '2019-11-07', '2019-11-08', '2019-11-11',\n",
       "               '2019-11-12', '2019-11-13', '2019-11-14', '2019-11-15',\n",
       "               '2019-11-18', '2019-11-19'],\n",
       "              dtype='datetime64[ns]', length=4359, freq=None)"
      ]
     },
     "execution_count": 478,
     "metadata": {},
     "output_type": "execute_result"
    }
   ],
   "source": [
    "## TODO\n",
    "col1_ls = []\n",
    "col2_ls = []\n",
    "col3_ls = []\n",
    "for i in range(len(df_ls)):\n",
    "    _df = df_ls[i].copy()\n",
    "    _df['5:5'] = simulate_portfolio_assets(_df.pct_change().fillna(0), [(5,5)])['(5, 5)']\n",
    "    temp = anal_funcs.get_Vol_report(_df, 'g', unit='daily', rf=0)[['Return', 'Volatility', 'Volatility(Down)']]\n",
    "    \n",
    "    col1 = temp[temp.columns[0]]\n",
    "    col1.index = [_df.index[i]]\n",
    "    col1_ls.append(col1)\n",
    "    \n",
    "    col2 = temp[temp.columns[1]]\n",
    "    col2.index = [_df.index[i]]\n",
    "    col2_ls.append(col2)\n",
    "    \n",
    "    col3 = temp[temp.columns[2]]\n",
    "    col3.index = [_df.index[i]]\n",
    "    col3_ls.append(col3)"
   ]
  },
  {
   "cell_type": "code",
   "execution_count": null,
   "metadata": {},
   "outputs": [],
   "source": []
  }
 ],
 "metadata": {
  "kernelspec": {
   "display_name": ".venv",
   "language": "python",
   "name": "python3"
  },
  "language_info": {
   "codemirror_mode": {
    "name": "ipython",
    "version": 3
   },
   "file_extension": ".py",
   "mimetype": "text/x-python",
   "name": "python",
   "nbconvert_exporter": "python",
   "pygments_lexer": "ipython3",
   "version": "3.11.9"
  }
 },
 "nbformat": 4,
 "nbformat_minor": 2
}
