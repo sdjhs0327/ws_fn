{
 "cells": [
  {
   "cell_type": "code",
   "execution_count": 6,
   "metadata": {},
   "outputs": [],
   "source": [
    "from sympy import Symbol, solveset, Interval\n",
    "import numpy as np"
   ]
  },
  {
   "cell_type": "code",
   "execution_count": 31,
   "metadata": {},
   "outputs": [],
   "source": [
    "def cal_ret(k, s, c, t):\n",
    "    '''\n",
    "    * k: 목표 자산, s: 시드 머니, c: 현금 흐름, t: 투자 기간\n",
    "    * r: 목표수익률\n",
    "    '''\n",
    "    r=Symbol('r')\n",
    "    equation = s*((1+r)**(t)) + c*((1-((1+r)**(t)))/(1-(1+r))) - k\n",
    "    val = solveset(equation, r, Interval(0, 999))\n",
    "    solve_r = float(list(val)[0])\n",
    "    return(np.round(solve_r, 6))*100"
   ]
  },
  {
   "cell_type": "code",
   "execution_count": 32,
   "metadata": {},
   "outputs": [],
   "source": [
    "## 목표 자산\n",
    "k = 30000 *1e4\n",
    "## term\n",
    "d = 5*365\n",
    "t = int(d/365) ## 연으로 변환\n",
    "## 시드 머니\n",
    "s = 10000 *1e4\n",
    "## cash flow\n",
    "c = 150*1e4*12"
   ]
  },
  {
   "cell_type": "code",
   "execution_count": 33,
   "metadata": {},
   "outputs": [],
   "source": [
    "demanded_return = cal_ret(k, s, c, t)"
   ]
  },
  {
   "cell_type": "code",
   "execution_count": 34,
   "metadata": {},
   "outputs": [
    {
     "data": {
      "text/plain": [
       "12.915"
      ]
     },
     "execution_count": 34,
     "metadata": {},
     "output_type": "execute_result"
    }
   ],
   "source": [
    "demanded_return"
   ]
  },
  {
   "attachments": {},
   "cell_type": "markdown",
   "metadata": {},
   "source": [
    "## Func"
   ]
  },
  {
   "cell_type": "code",
   "execution_count": 3,
   "metadata": {
    "ExecuteTime": {
     "end_time": "2023-02-17T03:17:24.787566Z",
     "start_time": "2023-02-17T03:17:24.770371Z"
    }
   },
   "outputs": [],
   "source": [
    "def cal_kap(s, c, r, t):\n",
    "    '''\n",
    "    * s: seed, c: cashflow, r: return(Y), t: terms(Y)\n",
    "    * k: 달성자산\n",
    "    '''\n",
    "    k = s*((1+r)**t) + c*((1-((1+r)**t)))/(1-(1+r))\n",
    "    return(k)"
   ]
  },
  {
   "cell_type": "code",
   "execution_count": null,
   "metadata": {
    "ExecuteTime": {
     "end_time": "2023-02-17T03:17:24.998892Z",
     "start_time": "2023-02-17T03:17:24.993908Z"
    }
   },
   "outputs": [],
   "source": [
    "def cal_ret(k, s, c, t):\n",
    "    '''\n",
    "    * k: 목표 자산, s: 시드 머니, c: 현금 흐름, t: 투자 기간\n",
    "    * r: 목표수익률\n",
    "    '''\n",
    "    r=Symbol('r')\n",
    "    equation = s*((1+r)**(t)) + c*((1-((1+r)**(t)))/(1-(1+r))) - k\n",
    "    val = solveset(equation, r, Interval(0, 999))\n",
    "    solve_r = float(list(val)[0])\n",
    "    return(np.round(solve_r, 2))"
   ]
  },
  {
   "cell_type": "code",
   "execution_count": 5,
   "metadata": {
    "ExecuteTime": {
     "end_time": "2023-02-17T03:17:25.301330Z",
     "start_time": "2023-02-17T03:17:25.291276Z"
    }
   },
   "outputs": [],
   "source": [
    "def cal_term(k, s, c, r):\n",
    "    '''\n",
    "    * k: kapital, s: seed, c: cashflow, r: return(Y)\n",
    "    * t: 요구 기간\n",
    "    '''\n",
    "    t=Symbol('t')\n",
    "    equation = s*((1+r)**(t)) + c*((1-((1+r)**(t)))/(1-(1+r))) - k\n",
    "    val = solveset(equation, t, Interval(0, 999))\n",
    "    solve_t = float(list(val)[0])\n",
    "    return(np.round(solve_t, 2))"
   ]
  },
  {
   "attachments": {},
   "cell_type": "markdown",
   "metadata": {},
   "source": [
    "## Proc"
   ]
  },
  {
   "cell_type": "code",
   "execution_count": 6,
   "metadata": {},
   "outputs": [],
   "source": [
    "## seed\n",
    "s = 10000 * 1e4\n",
    "## Kapital\n",
    "k = 30000 *1e4\n",
    "## term\n",
    "d = (dt.datetime(2024, 12, 31) - dt.datetime(2020, 1, 1)).days\n",
    "t = int(d/365) ## 연으로 변환\n",
    "## cash flow\n",
    "c = 150*1e4*12"
   ]
  },
  {
   "cell_type": "code",
   "execution_count": 7,
   "metadata": {},
   "outputs": [],
   "source": [
    "demanded_return = cal_ret(k, s, c, t)"
   ]
  },
  {
   "cell_type": "code",
   "execution_count": 8,
   "metadata": {},
   "outputs": [
    {
     "data": {
      "text/plain": [
       "0.13"
      ]
     },
     "execution_count": 8,
     "metadata": {},
     "output_type": "execute_result"
    }
   ],
   "source": [
    "demanded_return"
   ]
  },
  {
   "cell_type": "code",
   "execution_count": 9,
   "metadata": {},
   "outputs": [
    {
     "data": {
      "text/plain": [
       "1.2011244339814313"
      ]
     },
     "execution_count": 9,
     "metadata": {},
     "output_type": "execute_result"
    }
   ],
   "source": [
    "2.50**(1/5)"
   ]
  },
  {
   "cell_type": "code",
   "execution_count": 11,
   "metadata": {},
   "outputs": [],
   "source": [
    "def investment_growth(initial_investment, monthly_contribution, annual_return, years):\n",
    "    \"\"\"\n",
    "    Calculate the asset growth over time with given parameters.\n",
    "\n",
    "    Parameters:\n",
    "    initial_investment (float): Initial amount of investment.\n",
    "    monthly_contribution (float): Monthly contribution amount.\n",
    "    annual_return (float): Annual return rate (as a decimal).\n",
    "    years (int): Number of years to invest.\n",
    "\n",
    "    Returns:\n",
    "    pd.DataFrame: DataFrame containing the asset value at each month, principal invested, and earnings.\n",
    "    \"\"\"\n",
    "    monthly_return = (1 + annual_return) ** (1/12) - 1\n",
    "    months = years * 12\n",
    "    asset_values = []\n",
    "    principal_invested = []\n",
    "    earnings = []\n",
    "    current_value = initial_investment\n",
    "    total_principal = initial_investment\n",
    "\n",
    "    for month in range(1, months + 1):\n",
    "        current_value = current_value * (1 + monthly_return) + monthly_contribution\n",
    "        total_principal += monthly_contribution\n",
    "        asset_values.append(current_value)\n",
    "        principal_invested.append(total_principal)\n",
    "        earnings.append(current_value - total_principal)\n",
    "\n",
    "    df = pd.DataFrame({\n",
    "        'Month': range(1, months + 1),\n",
    "        'Asset Value': asset_values,\n",
    "        'Principal Invested': principal_invested,\n",
    "        'Earnings': earnings\n",
    "    })\n",
    "\n",
    "    return df"
   ]
  },
  {
   "cell_type": "code",
   "execution_count": 45,
   "metadata": {},
   "outputs": [],
   "source": [
    "# Example usage\n",
    "initial_investment = 10000\n",
    "monthly_contribution = 150\n",
    "annual_return = 0.13\n",
    "years = 5  # 20년\n",
    "\n",
    "df_asset_growth = investment_growth(initial_investment, monthly_contribution, annual_return, years)"
   ]
  },
  {
   "cell_type": "code",
   "execution_count": 46,
   "metadata": {},
   "outputs": [
    {
     "data": {
      "image/png": "[encoded data removed]",
      "text/plain": [
       "<Figure size 1000x600 with 1 Axes>"
      ]
     },
     "metadata": {},
     "output_type": "display_data"
    }
   ],
   "source": [
    "df_asset_growth.rename(columns={'Asset Value': '자산 가치', 'Principal Invested': '투자 원금', 'Earnings': '수익'}).set_index('Month')[['자산 가치', '투자 원금', '수익']].plot()\n",
    "plt.gca().lines[0].set_color('#F87A53')\n",
    "plt.gca().lines[0].set_linewidth(2)\n",
    "plt.gca().lines[1].set_color('#898121')\n",
    "plt.gca().lines[1].set_linewidth(2)\n",
    "plt.gca().lines[2].set_color('#E6C767')\n",
    "plt.gca().lines[2].set_linewidth(2)\n",
    "plt.legend(['자산 가치', '투자 원금', '수익'], loc='upper left', frameon=True)\n",
    "legend = plt.gca().get_legend()\n",
    "legend.legendHandles[0].set_color('#F87A53')\n",
    "legend.legendHandles[1].set_color('#898121')\n",
    "legend.legendHandles[2].set_color('#E6C767')\n",
    "plt.xlabel('Month', fontweight='bold')\n",
    "plt.ylabel('Value', fontweight='bold')\n",
    "plt.title('Investment Growth Over Time', fontsize=16, fontweight='bold')\n",
    "plt.grid(True, which='both', linestyle='--', linewidth=0.5)  # 그리드 추가 및 스타일 설정\n",
    "plt.title('Investment Growth Over Time')\n",
    "# 각 그래프의 시작점과 끝점에 포인트를 둥글게 찍기\n",
    "plt.scatter([1, len(df_asset_growth)], [df_asset_growth['Asset Value'].iloc[0], df_asset_growth['Asset Value'].iloc[-1]], color='#F87A53', s=100, zorder=5)\n",
    "plt.scatter([1, len(df_asset_growth)], [df_asset_growth['Principal Invested'].iloc[0], df_asset_growth['Principal Invested'].iloc[-1]], color='#898121', s=100, zorder=5)\n",
    "plt.scatter([1, len(df_asset_growth)], [df_asset_growth['Earnings'].iloc[0], df_asset_growth['Earnings'].iloc[-1]], color='#E6C767', s=100, zorder=5)\n",
    "\n",
    "plt.show()"
   ]
  },
  {
   "cell_type": "code",
   "execution_count": 24,
   "metadata": {},
   "outputs": [
    {
     "data": {
      "text/plain": [
       "518571800.0"
      ]
     },
     "execution_count": 24,
     "metadata": {},
     "output_type": "execute_result"
    }
   ],
   "source": [
    "5.185718e+08"
   ]
  },
  {
   "cell_type": "code",
   "execution_count": 6,
   "metadata": {},
   "outputs": [],
   "source": [
    "## seed\n",
    "s = 34000 * 1e4\n",
    "## Kapital\n",
    "k = 150000 *1e4\n",
    "## term\n",
    "d = (dt.datetime(2028, 5, 31) - dt.datetime.now()).days\n",
    "t = int(d/365) ## 연으로 변환\n",
    "## return\n",
    "r = 0.43\n",
    "## cash flow\n",
    "c = 120*1e4*12"
   ]
  },
  {
   "cell_type": "code",
   "execution_count": 20,
   "metadata": {},
   "outputs": [],
   "source": [
    "demanded_term = cal_term(k, s, c, r)\n",
    "demanded_return = cal_ret(k, s, c, t)\n",
    "expected_kapital = cal_kap(s, c, r, t)"
   ]
  },
  {
   "cell_type": "code",
   "execution_count": 42,
   "metadata": {
    "ExecuteTime": {
     "end_time": "2023-02-17T03:17:25.754302Z",
     "start_time": "2023-02-17T03:17:25.737500Z"
    }
   },
   "outputs": [
    {
     "name": "stdout",
     "output_type": "stream",
     "text": [
      "기간의 충분성: True, 요구기간: 4.27Y, 가용기간: 5Y\n",
      "수익률의 충분성: True, 요구수익률: 35.0%, 가용수익률: 43.0%\n",
      "자산의 적절성: True, 기대자산: 196068, 목표자산: 150000\n"
     ]
    }
   ],
   "source": [
    "print(f\"기간의 충분성: {demanded_term <= t}, 요구기간: {demanded_term}Y, 가용기간: {t}Y\")\n",
    "print(f\"수익률의 충분성: {demanded_return <= r}, 요구수익률: {demanded_return*1e2}%, 가용수익률: {r*1e2}%\")\n",
    "print(f\"자산의 적절성: {expected_kapital >= k}, 기대자산: {expected_kapital/1e4:.0f}, 목표자산: {k/1e4:.0f}\")"
   ]
  },
  {
   "cell_type": "code",
   "execution_count": 44,
   "metadata": {
    "ExecuteTime": {
     "end_time": "2023-02-17T03:17:55.439052Z",
     "start_time": "2023-02-17T03:17:55.427018Z"
    }
   },
   "outputs": [],
   "source": [
    "temp_ls = []\n",
    "for n in range(1, 2000):\n",
    "    r = n*0.001\n",
    "    gap = np.e**r - (1+r)\n",
    "    temp_ls.append((r, gap))"
   ]
  },
  {
   "cell_type": "code",
   "execution_count": 46,
   "metadata": {
    "ExecuteTime": {
     "end_time": "2023-02-17T03:17:57.297479Z",
     "start_time": "2023-02-17T03:17:57.282366Z"
    }
   },
   "outputs": [],
   "source": [
    "temp_df = pd.DataFrame(temp_ls, columns=['r', 'gap'])"
   ]
  },
  {
   "cell_type": "code",
   "execution_count": 53,
   "metadata": {},
   "outputs": [
    {
     "data": {
      "text/plain": [
       "2.718281828459045"
      ]
     },
     "execution_count": 53,
     "metadata": {},
     "output_type": "execute_result"
    }
   ],
   "source": [
    "np.e"
   ]
  },
  {
   "cell_type": "code",
   "execution_count": 141,
   "metadata": {
    "ExecuteTime": {
     "end_time": "2023-02-17T03:17:58.206279Z",
     "start_time": "2023-02-17T03:17:58.075121Z"
    }
   },
   "outputs": [
    {
     "data": {
      "text/plain": [
       "<AxesSubplot:xlabel='r', ylabel='gap'>"
      ]
     },
     "execution_count": 141,
     "metadata": {},
     "output_type": "execute_result"
    },
    {
     "data": {
      "image/png": "[encoded data removed]",
      "text/plain": [
       "<Figure size 720x432 with 1 Axes>"
      ]
     },
     "metadata": {},
     "output_type": "display_data"
    }
   ],
   "source": [
    "sns.scatterplot(data = temp_df, x = 'r', y = 'gap')"
   ]
  },
  {
   "cell_type": "code",
   "execution_count": null,
   "metadata": {},
   "outputs": [],
   "source": []
  },
  {
   "cell_type": "code",
   "execution_count": null,
   "metadata": {},
   "outputs": [],
   "source": []
  },
  {
   "cell_type": "code",
   "execution_count": null,
   "metadata": {},
   "outputs": [],
   "source": []
  },
  {
   "cell_type": "code",
   "execution_count": null,
   "metadata": {},
   "outputs": [],
   "source": []
  },
  {
   "cell_type": "code",
   "execution_count": null,
   "metadata": {},
   "outputs": [],
   "source": []
  },
  {
   "cell_type": "code",
   "execution_count": null,
   "metadata": {},
   "outputs": [],
   "source": []
  }
 ],
 "metadata": {
  "hide_input": false,
  "kernelspec": {
   "display_name": ".venv",
   "language": "python",
   "name": "python3"
  },
  "language_info": {
   "codemirror_mode": {
    "name": "ipython",
    "version": 3
   },
   "file_extension": ".py",
   "mimetype": "text/x-python",
   "name": "python",
   "nbconvert_exporter": "python",
   "pygments_lexer": "ipython3",
   "version": "3.11.9"
  },
  "toc": {
   "base_numbering": 1,
   "nav_menu": {},
   "number_sections": true,
   "sideBar": true,
   "skip_h1_title": false,
   "title_cell": "Table of Contents",
   "title_sidebar": "Contents",
   "toc_cell": false,
   "toc_position": {},
   "toc_section_display": true,
   "toc_window_display": false
  },
  "varInspector": {
   "cols": {
    "lenName": 16,
    "lenType": 16,
    "lenVar": 40
   },
   "kernels_config": {
    "python": {
     "delete_cmd_postfix": "",
     "delete_cmd_prefix": "del ",
     "library": "var_list.py",
     "varRefreshCmd": "print(var_dic_list())"
    },
    "r": {
     "delete_cmd_postfix": ") ",
     "delete_cmd_prefix": "rm(",
     "library": "var_list.r",
     "varRefreshCmd": "cat(var_dic_list()) "
    }
   },
   "types_to_exclude": [
    "module",
    "function",
    "builtin_function_or_method",
    "instance",
    "_Feature"
   ],
   "window_display": false
  }
 },
 "nbformat": 4,
 "nbformat_minor": 4
}
