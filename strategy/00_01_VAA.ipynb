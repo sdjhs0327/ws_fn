{
 "cells": [
  {
   "cell_type": "code",
   "execution_count": 2,
   "metadata": {},
   "outputs": [],
   "source": [
    "## Vigilant Asset Allocation"
   ]
  },
  {
   "cell_type": "code",
   "execution_count": 3,
   "metadata": {
    "ExecuteTime": {
     "end_time": "2023-05-15T06:49:19.825174Z",
     "start_time": "2023-05-15T06:49:19.815185Z"
    }
   },
   "outputs": [],
   "source": [
    "import pandas as pd\n",
    "import warnings\n",
    "warnings.filterwarnings('ignore')\n",
    "import numpy as np"
   ]
  },
  {
   "cell_type": "code",
   "execution_count": 4,
   "metadata": {
    "ExecuteTime": {
     "end_time": "2023-05-15T06:48:27.322796Z",
     "start_time": "2023-05-15T06:48:26.047728Z"
    }
   },
   "outputs": [
    {
     "data": {
      "text/html": [
       "        <script type=\"text/javascript\">\n",
       "        window.PlotlyConfig = {MathJaxConfig: 'local'};\n",
       "        if (window.MathJax && window.MathJax.Hub && window.MathJax.Hub.Config) {window.MathJax.Hub.Config({SVG: {font: \"STIX-Web\"}});}\n",
       "        if (typeof require !== 'undefined') {\n",
       "        require.undef(\"plotly\");\n",
       "        requirejs.config({\n",
       "            paths: {\n",
       "                'plotly': ['https://cdn.plot.ly/plotly-2.25.2.min']\n",
       "            }\n",
       "        });\n",
       "        require(['plotly'], function(Plotly) {\n",
       "            window._Plotly = Plotly;\n",
       "        });\n",
       "        }\n",
       "        </script>\n",
       "        "
      ]
     },
     "metadata": {},
     "output_type": "display_data"
    }
   ],
   "source": [
    "# 시각화 관련 ##\n",
    "import plotly_express as px\n",
    "import plotly.figure_factory as ff\n",
    "import cufflinks as cf\n",
    "cf.go_offline(connected=True)\n",
    "## cf.getThemes()\n",
    "cf.set_config_file(theme='polar')\n",
    "import plotly.graph_objects as go\n",
    "\n",
    "import matplotlib\n",
    "%matplotlib inline\n",
    "\n",
    "import matplotlib.pyplot as plt\n",
    "import seaborn as sns\n",
    "sns.set_style('whitegrid')\n",
    "## plt.style.use(\"fivethirtyeight\")\n",
    "plt.rcParams['font.family'] = 'Malgun Gothic'\n",
    "plt.rcParams['axes.unicode_minus'] = False\n",
    "plt.rcParams[\"figure.figsize\"] = (10,6)"
   ]
  },
  {
   "cell_type": "code",
   "execution_count": 5,
   "metadata": {
    "ExecuteTime": {
     "end_time": "2023-05-15T06:48:27.908369Z",
     "start_time": "2023-05-15T06:48:27.323805Z"
    }
   },
   "outputs": [],
   "source": [
    "##절대경로 참조\n",
    "import sys, os\n",
    "sys.path.append(os.path.dirname(os.path.abspath(os.path.dirname('__file__'))))\n",
    "\n",
    "from library.quant_functions import anal_funcs, data_funcs"
   ]
  },
  {
   "cell_type": "code",
   "execution_count": 6,
   "metadata": {
    "ExecuteTime": {
     "end_time": "2023-05-15T06:48:27.923372Z",
     "start_time": "2023-05-15T06:48:27.909373Z"
    }
   },
   "outputs": [],
   "source": [
    "## 조건1. 판단기준 -> 1개월*12, 3개월*4, 6개월*2 평균, 12개월*1\n",
    "## 조건2. 공격자산 중 하나라도 (-)진입시 수비자산 전환\n",
    "## 조건3. 모든 포지션에서 판단기준값이 가장 높은 자산 투자\n",
    "## 조건4. 월단위 리벨런싱"
   ]
  },
  {
   "cell_type": "markdown",
   "metadata": {},
   "source": [
    "## Func"
   ]
  },
  {
   "cell_type": "code",
   "execution_count": 7,
   "metadata": {
    "ExecuteTime": {
     "end_time": "2023-05-15T06:48:29.874269Z",
     "start_time": "2023-05-15T06:48:29.854262Z"
    }
   },
   "outputs": [],
   "source": [
    "### 1개월 수익률, 3개월 수익률, 6개월 수익률의 가중평균 산출함수\n",
    "def get_wapr(close):\n",
    "    ## 월단위 데이터를 기준으로함\n",
    "    ## get_signal()로 이어짐\n",
    "    df_cls = close.copy()\n",
    "    pr1 = np.log(df_cls/df_cls.shift(1))\n",
    "    pr3 = np.log(df_cls/df_cls.shift(3))\n",
    "    pr6 = np.log(df_cls/df_cls.shift(6))\n",
    "    pr12 = np.log(df_cls/df_cls.shift(12))\n",
    "    df_pr = pd.concat([pr1, pr3*(4/12), pr6*(2/12), pr12*(1/12)], axis = 1)\n",
    "    mpr = df_pr.mean(axis=1)\n",
    "    return mpr\n",
    "\n",
    "def get_signal(df):\n",
    "    ## 금리2% 1개월 무위험수익률 ## 향후 기준금리 데이터 반영 가능\n",
    "    nrr = (1.02**(1/12))-1\n",
    "    ## get_strategy_value()로 이어짐\n",
    "\n",
    "    signal_df = df.copy()\n",
    "    for cols in signal_df.columns:\n",
    "        signal_df[cols] = get_wapr(signal_df[cols])\n",
    "    signal_df = signal_df.dropna()\n",
    "\n",
    "    atks= signal_df[signal_df.columns[:4]].T\n",
    "    dfcs= signal_df[signal_df.columns[4:]].T\n",
    "    \n",
    "    ## 판단로직\n",
    "    signal_df['diretion'] = 'bear'\n",
    "    signal_df['diretion'][(signal_df[signal_df.columns[0]] > nrr)&(signal_df[signal_df.columns[1]] > nrr)&\n",
    "                       (signal_df[signal_df.columns[2]] > nrr)&(signal_df[signal_df.columns[3]] > nrr)] = 'bull'\n",
    "\n",
    "    optimal_ticker = []\n",
    "    for i in range(len(signal_df)):\n",
    "        if signal_df['diretion'][i] == 'bull':\n",
    "            optimal_ticker.append(atks[atks[atks.columns[i]] == atks[atks.columns[i]].max()].index.values[0])\n",
    "        elif signal_df['diretion'][i] == 'bear':\n",
    "            optimal_ticker.append(dfcs[dfcs[dfcs.columns[i]] == dfcs[dfcs.columns[i]].max()].index.values[0])\n",
    "\n",
    "    signal_df['signal'] = optimal_ticker\n",
    "    \n",
    "    new_df = df.copy()\n",
    "    new_df['signal'] = signal_df['signal']\n",
    "    new_df['prev'] = new_df['signal'].shift(1)\n",
    "    \n",
    "    new_df['change'] = 0\n",
    "    new_df['change'][new_df['signal'] != new_df['prev']] = 1\n",
    "    new_df = new_df.dropna()\n",
    "    \n",
    "    return new_df, signal_df\n",
    "\n",
    "\n",
    "\n",
    "def get_strategy_value(df):\n",
    "    new_df, _ = get_signal(df)\n",
    "    ## 시그널발생시 자산 교환 비율 산출\n",
    "    new_df['exchange_rate'] = 1.0\n",
    "    for i in range(len(new_df)):\n",
    "        if (new_df['change'][i] == 1)&(type(new_df['prev'][i]) == str):\n",
    "            new_df['exchange_rate'][i] = new_df[new_df['prev'][i]][i]/new_df[new_df['signal'][i]][i]         \n",
    "    ## 누적 교환비 산출\n",
    "    new_df['cum_exchange_rate'] = new_df['exchange_rate']\n",
    "    for i in range(len(new_df)):\n",
    "        new_df['cum_exchange_rate'][i] = new_df['exchange_rate'][:i+1].product()\n",
    "    ## 자산추이\n",
    "    new_df['strategy'] = 1.0\n",
    "    for i in range(len(new_df)):\n",
    "        new_df['strategy'][i] = new_df[new_df['signal'][i]][i]*new_df['cum_exchange_rate'][i]\n",
    "        \n",
    "    result = new_df.drop(columns=['change', 'exchange_rate', 'cum_exchange_rate'])\n",
    "        \n",
    "    return result"
   ]
  },
  {
   "cell_type": "markdown",
   "metadata": {},
   "source": [
    "## Proc"
   ]
  },
  {
   "cell_type": "code",
   "execution_count": 8,
   "metadata": {
    "ExecuteTime": {
     "end_time": "2023-05-15T06:48:39.072309Z",
     "start_time": "2023-05-15T06:48:30.582274Z"
    }
   },
   "outputs": [
    {
     "name": "stdout",
     "output_type": "stream",
     "text": [
      "[*********************100%%**********************]  7 of 7 completed\n"
     ]
    }
   ],
   "source": [
    "## X3 VAA전략 ## 확정전\n",
    "## df = get_merged_df('TQQQ', 'UPRO', 'EURL', 'EDC', 'TMF', 'TYD', 'BNKU')\n",
    "## df['CASH'] = 1 ## SHY 대용 CASH\n",
    "df = data_funcs.get_merged_df('SPY', 'QQQ', 'VEA', 'VWO', 'TLT', 'IEF', 'SHY')\n",
    "df = df[['SPY', 'QQQ', 'VEA', 'VWO', 'TLT', 'IEF', 'SHY']]\n",
    "df = df[['SPY', 'QQQ', 'VEA', 'VWO', 'SHY']]\n",
    "\n",
    "dataset = df.dropna()\n",
    "## dataset = dataset[dataset.index >= '2010-10-01']"
   ]
  },
  {
   "cell_type": "code",
   "execution_count": 9,
   "metadata": {
    "ExecuteTime": {
     "end_time": "2023-05-15T06:48:39.102317Z",
     "start_time": "2023-05-15T06:48:39.088320Z"
    }
   },
   "outputs": [],
   "source": [
    "df = dataset.resample('M').last()\n",
    "df = df[:].copy()\n",
    "df['SHY'] = 1"
   ]
  },
  {
   "cell_type": "code",
   "execution_count": 10,
   "metadata": {},
   "outputs": [],
   "source": [
    "strategy_df_result = get_strategy_value(df)\n",
    "\n",
    "result_df = strategy_df_result.copy()\n",
    "temp = result_df[['SPY', 'QQQ', 'VEA', 'VWO', 'SHY', 'strategy']]\n",
    "result_df[['SPY', 'QQQ', 'VEA', 'VWO', 'SHY', 'strategy']] = temp/np.array(temp)[0]\n",
    "\n",
    "_, signal_df = get_signal(df)"
   ]
  },
  {
   "cell_type": "markdown",
   "metadata": {},
   "source": [
    "## Report"
   ]
  },
  {
   "cell_type": "code",
   "execution_count": 11,
   "metadata": {
    "ExecuteTime": {
     "end_time": "2023-05-15T06:48:39.447318Z",
     "start_time": "2023-05-15T06:48:39.418311Z"
    }
   },
   "outputs": [
    {
     "data": {
      "text/html": [
       "<div>\n",
       "<style scoped>\n",
       "    .dataframe tbody tr th:only-of-type {\n",
       "        vertical-align: middle;\n",
       "    }\n",
       "\n",
       "    .dataframe tbody tr th {\n",
       "        vertical-align: top;\n",
       "    }\n",
       "\n",
       "    .dataframe thead th {\n",
       "        text-align: right;\n",
       "    }\n",
       "</style>\n",
       "<table border=\"1\" class=\"dataframe\">\n",
       "  <thead>\n",
       "    <tr style=\"text-align: right;\">\n",
       "      <th></th>\n",
       "      <th>SPY</th>\n",
       "      <th>QQQ</th>\n",
       "      <th>VEA</th>\n",
       "      <th>VWO</th>\n",
       "      <th>SHY</th>\n",
       "    </tr>\n",
       "    <tr>\n",
       "      <th>Date</th>\n",
       "      <th></th>\n",
       "      <th></th>\n",
       "      <th></th>\n",
       "      <th></th>\n",
       "      <th></th>\n",
       "    </tr>\n",
       "  </thead>\n",
       "  <tbody>\n",
       "    <tr>\n",
       "      <th>2023-04-30</th>\n",
       "      <td>0.015849</td>\n",
       "      <td>0.005066</td>\n",
       "      <td>0.026004</td>\n",
       "      <td>-0.003968</td>\n",
       "      <td>0.0</td>\n",
       "    </tr>\n",
       "    <tr>\n",
       "      <th>2023-05-31</th>\n",
       "      <td>0.004606</td>\n",
       "      <td>0.075885</td>\n",
       "      <td>-0.038031</td>\n",
       "      <td>-0.030019</td>\n",
       "      <td>0.0</td>\n",
       "    </tr>\n",
       "    <tr>\n",
       "      <th>2023-06-30</th>\n",
       "      <td>0.062787</td>\n",
       "      <td>0.061131</td>\n",
       "      <td>0.043337</td>\n",
       "      <td>0.046321</td>\n",
       "      <td>0.0</td>\n",
       "    </tr>\n",
       "    <tr>\n",
       "      <th>2023-07-31</th>\n",
       "      <td>0.032209</td>\n",
       "      <td>0.037875</td>\n",
       "      <td>0.030916</td>\n",
       "      <td>0.057090</td>\n",
       "      <td>0.0</td>\n",
       "    </tr>\n",
       "    <tr>\n",
       "      <th>2023-08-31</th>\n",
       "      <td>-0.016386</td>\n",
       "      <td>-0.014941</td>\n",
       "      <td>-0.040271</td>\n",
       "      <td>-0.060784</td>\n",
       "      <td>0.0</td>\n",
       "    </tr>\n",
       "    <tr>\n",
       "      <th>2023-09-30</th>\n",
       "      <td>-0.002468</td>\n",
       "      <td>0.000212</td>\n",
       "      <td>-0.007459</td>\n",
       "      <td>0.004922</td>\n",
       "      <td>0.0</td>\n",
       "    </tr>\n",
       "  </tbody>\n",
       "</table>\n",
       "</div>"
      ],
      "text/plain": [
       "                 SPY       QQQ       VEA       VWO  SHY\n",
       "Date                                                   \n",
       "2023-04-30  0.015849  0.005066  0.026004 -0.003968  0.0\n",
       "2023-05-31  0.004606  0.075885 -0.038031 -0.030019  0.0\n",
       "2023-06-30  0.062787  0.061131  0.043337  0.046321  0.0\n",
       "2023-07-31  0.032209  0.037875  0.030916  0.057090  0.0\n",
       "2023-08-31 -0.016386 -0.014941 -0.040271 -0.060784  0.0\n",
       "2023-09-30 -0.002468  0.000212 -0.007459  0.004922  0.0"
      ]
     },
     "execution_count": 11,
     "metadata": {},
     "output_type": "execute_result"
    }
   ],
   "source": [
    "## 기하수익률\n",
    "np.log(strategy_df_result[strategy_df_result.columns[:-3]]/strategy_df_result[strategy_df_result.columns[:-3]].shift(1)).tail(6)"
   ]
  },
  {
   "cell_type": "code",
   "execution_count": 12,
   "metadata": {
    "ExecuteTime": {
     "end_time": "2023-05-15T06:48:39.462321Z",
     "start_time": "2023-05-15T06:48:39.449309Z"
    }
   },
   "outputs": [
    {
     "data": {
      "text/html": [
       "<div>\n",
       "<style scoped>\n",
       "    .dataframe tbody tr th:only-of-type {\n",
       "        vertical-align: middle;\n",
       "    }\n",
       "\n",
       "    .dataframe tbody tr th {\n",
       "        vertical-align: top;\n",
       "    }\n",
       "\n",
       "    .dataframe thead th {\n",
       "        text-align: right;\n",
       "    }\n",
       "</style>\n",
       "<table border=\"1\" class=\"dataframe\">\n",
       "  <thead>\n",
       "    <tr style=\"text-align: right;\">\n",
       "      <th></th>\n",
       "      <th>SPY</th>\n",
       "      <th>QQQ</th>\n",
       "      <th>VEA</th>\n",
       "      <th>VWO</th>\n",
       "      <th>SHY</th>\n",
       "      <th>signal</th>\n",
       "      <th>prev</th>\n",
       "      <th>strategy</th>\n",
       "    </tr>\n",
       "    <tr>\n",
       "      <th>Date</th>\n",
       "      <th></th>\n",
       "      <th></th>\n",
       "      <th></th>\n",
       "      <th></th>\n",
       "      <th></th>\n",
       "      <th></th>\n",
       "      <th></th>\n",
       "      <th></th>\n",
       "    </tr>\n",
       "  </thead>\n",
       "  <tbody>\n",
       "    <tr>\n",
       "      <th>2023-04-30</th>\n",
       "      <td>414.390686</td>\n",
       "      <td>322.118134</td>\n",
       "      <td>45.935596</td>\n",
       "      <td>40.022202</td>\n",
       "      <td>1</td>\n",
       "      <td>SHY</td>\n",
       "      <td>QQQ</td>\n",
       "      <td>2.324710</td>\n",
       "    </tr>\n",
       "    <tr>\n",
       "      <th>2023-05-31</th>\n",
       "      <td>416.303619</td>\n",
       "      <td>347.513306</td>\n",
       "      <td>44.221436</td>\n",
       "      <td>38.838642</td>\n",
       "      <td>1</td>\n",
       "      <td>SHY</td>\n",
       "      <td>SHY</td>\n",
       "      <td>2.324710</td>\n",
       "    </tr>\n",
       "    <tr>\n",
       "      <th>2023-06-30</th>\n",
       "      <td>443.279999</td>\n",
       "      <td>369.420013</td>\n",
       "      <td>46.180000</td>\n",
       "      <td>40.680000</td>\n",
       "      <td>1</td>\n",
       "      <td>QQQ</td>\n",
       "      <td>SHY</td>\n",
       "      <td>2.324710</td>\n",
       "    </tr>\n",
       "    <tr>\n",
       "      <th>2023-07-31</th>\n",
       "      <td>457.790009</td>\n",
       "      <td>383.679993</td>\n",
       "      <td>47.630001</td>\n",
       "      <td>43.070000</td>\n",
       "      <td>1</td>\n",
       "      <td>QQQ</td>\n",
       "      <td>QQQ</td>\n",
       "      <td>2.414446</td>\n",
       "    </tr>\n",
       "    <tr>\n",
       "      <th>2023-08-31</th>\n",
       "      <td>450.350006</td>\n",
       "      <td>377.989990</td>\n",
       "      <td>45.750000</td>\n",
       "      <td>40.529999</td>\n",
       "      <td>1</td>\n",
       "      <td>SHY</td>\n",
       "      <td>QQQ</td>\n",
       "      <td>2.378639</td>\n",
       "    </tr>\n",
       "    <tr>\n",
       "      <th>2023-09-30</th>\n",
       "      <td>449.239990</td>\n",
       "      <td>378.070007</td>\n",
       "      <td>45.410000</td>\n",
       "      <td>40.730000</td>\n",
       "      <td>1</td>\n",
       "      <td>QQQ</td>\n",
       "      <td>SHY</td>\n",
       "      <td>2.378639</td>\n",
       "    </tr>\n",
       "  </tbody>\n",
       "</table>\n",
       "</div>"
      ],
      "text/plain": [
       "                   SPY         QQQ        VEA        VWO  SHY signal prev  \\\n",
       "Date                                                                        \n",
       "2023-04-30  414.390686  322.118134  45.935596  40.022202    1    SHY  QQQ   \n",
       "2023-05-31  416.303619  347.513306  44.221436  38.838642    1    SHY  SHY   \n",
       "2023-06-30  443.279999  369.420013  46.180000  40.680000    1    QQQ  SHY   \n",
       "2023-07-31  457.790009  383.679993  47.630001  43.070000    1    QQQ  QQQ   \n",
       "2023-08-31  450.350006  377.989990  45.750000  40.529999    1    SHY  QQQ   \n",
       "2023-09-30  449.239990  378.070007  45.410000  40.730000    1    QQQ  SHY   \n",
       "\n",
       "            strategy  \n",
       "Date                  \n",
       "2023-04-30  2.324710  \n",
       "2023-05-31  2.324710  \n",
       "2023-06-30  2.324710  \n",
       "2023-07-31  2.414446  \n",
       "2023-08-31  2.378639  \n",
       "2023-09-30  2.378639  "
      ]
     },
     "execution_count": 12,
     "metadata": {},
     "output_type": "execute_result"
    }
   ],
   "source": [
    "## 최근 상대 수준\n",
    "strategy_df_result.tail(6)"
   ]
  },
  {
   "cell_type": "code",
   "execution_count": 13,
   "metadata": {
    "ExecuteTime": {
     "end_time": "2023-05-15T06:48:39.477317Z",
     "start_time": "2023-05-15T06:48:39.463311Z"
    },
    "scrolled": true
   },
   "outputs": [
    {
     "data": {
      "text/html": [
       "<div>\n",
       "<style scoped>\n",
       "    .dataframe tbody tr th:only-of-type {\n",
       "        vertical-align: middle;\n",
       "    }\n",
       "\n",
       "    .dataframe tbody tr th {\n",
       "        vertical-align: top;\n",
       "    }\n",
       "\n",
       "    .dataframe thead th {\n",
       "        text-align: right;\n",
       "    }\n",
       "</style>\n",
       "<table border=\"1\" class=\"dataframe\">\n",
       "  <thead>\n",
       "    <tr style=\"text-align: right;\">\n",
       "      <th></th>\n",
       "      <th>SPY</th>\n",
       "      <th>QQQ</th>\n",
       "      <th>VEA</th>\n",
       "      <th>VWO</th>\n",
       "      <th>SHY</th>\n",
       "      <th>diretion</th>\n",
       "      <th>signal</th>\n",
       "    </tr>\n",
       "    <tr>\n",
       "      <th>Date</th>\n",
       "      <th></th>\n",
       "      <th></th>\n",
       "      <th></th>\n",
       "      <th></th>\n",
       "      <th></th>\n",
       "      <th></th>\n",
       "      <th></th>\n",
       "    </tr>\n",
       "  </thead>\n",
       "  <tbody>\n",
       "    <tr>\n",
       "      <th>2023-04-30</th>\n",
       "      <td>0.010181</td>\n",
       "      <td>0.016081</td>\n",
       "      <td>0.017591</td>\n",
       "      <td>0.000224</td>\n",
       "      <td>0.0</td>\n",
       "      <td>bear</td>\n",
       "      <td>SHY</td>\n",
       "    </tr>\n",
       "    <tr>\n",
       "      <th>2023-05-31</th>\n",
       "      <td>0.007863</td>\n",
       "      <td>0.043238</td>\n",
       "      <td>-0.006284</td>\n",
       "      <td>-0.010593</td>\n",
       "      <td>0.0</td>\n",
       "      <td>bear</td>\n",
       "      <td>SHY</td>\n",
       "    </tr>\n",
       "    <tr>\n",
       "      <th>2023-06-30</th>\n",
       "      <td>0.032797</td>\n",
       "      <td>0.046787</td>\n",
       "      <td>0.021123</td>\n",
       "      <td>0.014897</td>\n",
       "      <td>0.0</td>\n",
       "      <td>bull</td>\n",
       "      <td>QQQ</td>\n",
       "    </tr>\n",
       "    <tr>\n",
       "      <th>2023-07-31</th>\n",
       "      <td>0.024152</td>\n",
       "      <td>0.039396</td>\n",
       "      <td>0.015682</td>\n",
       "      <td>0.023075</td>\n",
       "      <td>0.0</td>\n",
       "      <td>bull</td>\n",
       "      <td>QQQ</td>\n",
       "    </tr>\n",
       "    <tr>\n",
       "      <th>2023-08-31</th>\n",
       "      <td>0.011159</td>\n",
       "      <td>0.018937</td>\n",
       "      <td>-0.002096</td>\n",
       "      <td>-0.009791</td>\n",
       "      <td>0.0</td>\n",
       "      <td>bear</td>\n",
       "      <td>SHY</td>\n",
       "    </tr>\n",
       "    <tr>\n",
       "      <th>2023-09-30</th>\n",
       "      <td>0.009550</td>\n",
       "      <td>0.016203</td>\n",
       "      <td>0.002481</td>\n",
       "      <td>0.004654</td>\n",
       "      <td>0.0</td>\n",
       "      <td>bull</td>\n",
       "      <td>QQQ</td>\n",
       "    </tr>\n",
       "  </tbody>\n",
       "</table>\n",
       "</div>"
      ],
      "text/plain": [
       "                 SPY       QQQ       VEA       VWO  SHY diretion signal\n",
       "Date                                                                   \n",
       "2023-04-30  0.010181  0.016081  0.017591  0.000224  0.0     bear    SHY\n",
       "2023-05-31  0.007863  0.043238 -0.006284 -0.010593  0.0     bear    SHY\n",
       "2023-06-30  0.032797  0.046787  0.021123  0.014897  0.0     bull    QQQ\n",
       "2023-07-31  0.024152  0.039396  0.015682  0.023075  0.0     bull    QQQ\n",
       "2023-08-31  0.011159  0.018937 -0.002096 -0.009791  0.0     bear    SHY\n",
       "2023-09-30  0.009550  0.016203  0.002481  0.004654  0.0     bull    QQQ"
      ]
     },
     "execution_count": 13,
     "metadata": {},
     "output_type": "execute_result"
    }
   ],
   "source": [
    "## 시그널 근거\n",
    "signal_df.tail(6)"
   ]
  },
  {
   "cell_type": "code",
   "execution_count": 14,
   "metadata": {
    "ExecuteTime": {
     "end_time": "2023-05-15T06:48:39.507350Z",
     "start_time": "2023-05-15T06:48:39.479309Z"
    }
   },
   "outputs": [],
   "source": [
    "test_dfs = [result_df.reset_index().shift(i).set_index('Date')[-(len(result_df)+1 - int(len(result_df)/10)):]\n",
    "            for i in range(int(len(result_df)/10))]"
   ]
  },
  {
   "cell_type": "code",
   "execution_count": 15,
   "metadata": {
    "ExecuteTime": {
     "end_time": "2023-05-15T06:48:39.522309Z",
     "start_time": "2023-05-15T06:48:39.508357Z"
    }
   },
   "outputs": [
    {
     "name": "stdout",
     "output_type": "stream",
     "text": [
      "적립식 수행시, 누적 시뮬레이션 수익률: 58.12%\n"
     ]
    }
   ],
   "source": [
    "CAGR = np.mean([anal_funcs.get_ACI_CAGR(test_dfs[i]['strategy']) for i in range(len(test_dfs))])\n",
    "print(f'적립식 수행시, 누적 시뮬레이션 수익률: {CAGR.round(2)}%')"
   ]
  },
  {
   "cell_type": "code",
   "execution_count": 16,
   "metadata": {
    "ExecuteTime": {
     "end_time": "2023-05-15T06:48:39.537317Z",
     "start_time": "2023-05-15T06:48:39.523321Z"
    }
   },
   "outputs": [
    {
     "name": "stdout",
     "output_type": "stream",
     "text": [
      "적립식 수행시, 월평균 시뮬레이션 수익률: 0.52%\n"
     ]
    }
   ],
   "source": [
    "RPP = np.mean([anal_funcs.get_ACI_RPP(test_dfs[i]['strategy']) for i in range(len(test_dfs))])\n",
    "print(f'적립식 수행시, 월평균 시뮬레이션 수익률: {RPP.round(2)}%')"
   ]
  },
  {
   "cell_type": "code",
   "execution_count": 17,
   "metadata": {
    "ExecuteTime": {
     "end_time": "2023-05-15T06:48:39.612308Z",
     "start_time": "2023-05-15T06:48:39.538312Z"
    },
    "scrolled": false
   },
   "outputs": [
    {
     "data": {
      "text/html": [
       "<div>\n",
       "<style scoped>\n",
       "    .dataframe tbody tr th:only-of-type {\n",
       "        vertical-align: middle;\n",
       "    }\n",
       "\n",
       "    .dataframe tbody tr th {\n",
       "        vertical-align: top;\n",
       "    }\n",
       "\n",
       "    .dataframe thead th {\n",
       "        text-align: right;\n",
       "    }\n",
       "</style>\n",
       "<table border=\"1\" class=\"dataframe\">\n",
       "  <thead>\n",
       "    <tr style=\"text-align: right;\">\n",
       "      <th></th>\n",
       "      <th>SPY</th>\n",
       "      <th>QQQ</th>\n",
       "      <th>VEA</th>\n",
       "      <th>VWO</th>\n",
       "      <th>SHY</th>\n",
       "      <th>strategy</th>\n",
       "    </tr>\n",
       "    <tr>\n",
       "      <th>Date</th>\n",
       "      <th></th>\n",
       "      <th></th>\n",
       "      <th></th>\n",
       "      <th></th>\n",
       "      <th></th>\n",
       "      <th></th>\n",
       "    </tr>\n",
       "  </thead>\n",
       "  <tbody>\n",
       "    <tr>\n",
       "      <th>2008</th>\n",
       "      <td>-36.79</td>\n",
       "      <td>-41.73</td>\n",
       "      <td>-40.62</td>\n",
       "      <td>-52.46</td>\n",
       "      <td>0.0</td>\n",
       "      <td>-8.00</td>\n",
       "    </tr>\n",
       "    <tr>\n",
       "      <th>2009</th>\n",
       "      <td>26.35</td>\n",
       "      <td>54.68</td>\n",
       "      <td>27.51</td>\n",
       "      <td>76.31</td>\n",
       "      <td>0.0</td>\n",
       "      <td>38.81</td>\n",
       "    </tr>\n",
       "    <tr>\n",
       "      <th>2010</th>\n",
       "      <td>15.06</td>\n",
       "      <td>20.14</td>\n",
       "      <td>8.35</td>\n",
       "      <td>19.48</td>\n",
       "      <td>0.0</td>\n",
       "      <td>-6.63</td>\n",
       "    </tr>\n",
       "    <tr>\n",
       "      <th>2011</th>\n",
       "      <td>1.90</td>\n",
       "      <td>3.48</td>\n",
       "      <td>-12.31</td>\n",
       "      <td>-18.75</td>\n",
       "      <td>0.0</td>\n",
       "      <td>-9.72</td>\n",
       "    </tr>\n",
       "    <tr>\n",
       "      <th>2012</th>\n",
       "      <td>15.99</td>\n",
       "      <td>18.11</td>\n",
       "      <td>18.56</td>\n",
       "      <td>19.21</td>\n",
       "      <td>0.0</td>\n",
       "      <td>15.68</td>\n",
       "    </tr>\n",
       "    <tr>\n",
       "      <th>2013</th>\n",
       "      <td>32.31</td>\n",
       "      <td>36.63</td>\n",
       "      <td>21.81</td>\n",
       "      <td>-4.94</td>\n",
       "      <td>0.0</td>\n",
       "      <td>9.51</td>\n",
       "    </tr>\n",
       "    <tr>\n",
       "      <th>2014</th>\n",
       "      <td>13.46</td>\n",
       "      <td>19.18</td>\n",
       "      <td>-5.97</td>\n",
       "      <td>-0.04</td>\n",
       "      <td>0.0</td>\n",
       "      <td>1.23</td>\n",
       "    </tr>\n",
       "    <tr>\n",
       "      <th>2015</th>\n",
       "      <td>1.23</td>\n",
       "      <td>9.44</td>\n",
       "      <td>-0.37</td>\n",
       "      <td>-15.82</td>\n",
       "      <td>0.0</td>\n",
       "      <td>-5.83</td>\n",
       "    </tr>\n",
       "    <tr>\n",
       "      <th>2016</th>\n",
       "      <td>12.00</td>\n",
       "      <td>7.10</td>\n",
       "      <td>2.63</td>\n",
       "      <td>12.17</td>\n",
       "      <td>0.0</td>\n",
       "      <td>2.62</td>\n",
       "    </tr>\n",
       "    <tr>\n",
       "      <th>2017</th>\n",
       "      <td>21.71</td>\n",
       "      <td>32.66</td>\n",
       "      <td>26.42</td>\n",
       "      <td>31.49</td>\n",
       "      <td>0.0</td>\n",
       "      <td>22.96</td>\n",
       "    </tr>\n",
       "    <tr>\n",
       "      <th>2018</th>\n",
       "      <td>-4.57</td>\n",
       "      <td>-0.13</td>\n",
       "      <td>-14.75</td>\n",
       "      <td>-14.76</td>\n",
       "      <td>0.0</td>\n",
       "      <td>13.35</td>\n",
       "    </tr>\n",
       "    <tr>\n",
       "      <th>2019</th>\n",
       "      <td>31.22</td>\n",
       "      <td>38.96</td>\n",
       "      <td>22.62</td>\n",
       "      <td>20.75</td>\n",
       "      <td>0.0</td>\n",
       "      <td>8.64</td>\n",
       "    </tr>\n",
       "    <tr>\n",
       "      <th>2020</th>\n",
       "      <td>18.33</td>\n",
       "      <td>48.41</td>\n",
       "      <td>9.71</td>\n",
       "      <td>15.18</td>\n",
       "      <td>0.0</td>\n",
       "      <td>8.56</td>\n",
       "    </tr>\n",
       "    <tr>\n",
       "      <th>2021</th>\n",
       "      <td>28.73</td>\n",
       "      <td>27.42</td>\n",
       "      <td>11.66</td>\n",
       "      <td>1.26</td>\n",
       "      <td>0.0</td>\n",
       "      <td>8.07</td>\n",
       "    </tr>\n",
       "    <tr>\n",
       "      <th>2022</th>\n",
       "      <td>-18.18</td>\n",
       "      <td>-32.58</td>\n",
       "      <td>-15.34</td>\n",
       "      <td>-17.98</td>\n",
       "      <td>0.0</td>\n",
       "      <td>-2.18</td>\n",
       "    </tr>\n",
       "    <tr>\n",
       "      <th>MEAN</th>\n",
       "      <td>8.73</td>\n",
       "      <td>12.60</td>\n",
       "      <td>2.12</td>\n",
       "      <td>0.80</td>\n",
       "      <td>0.0</td>\n",
       "      <td>5.76</td>\n",
       "    </tr>\n",
       "  </tbody>\n",
       "</table>\n",
       "</div>"
      ],
      "text/plain": [
       "        SPY    QQQ    VEA    VWO  SHY  strategy\n",
       "Date                                           \n",
       "2008 -36.79 -41.73 -40.62 -52.46  0.0     -8.00\n",
       "2009  26.35  54.68  27.51  76.31  0.0     38.81\n",
       "2010  15.06  20.14   8.35  19.48  0.0     -6.63\n",
       "2011   1.90   3.48 -12.31 -18.75  0.0     -9.72\n",
       "2012  15.99  18.11  18.56  19.21  0.0     15.68\n",
       "2013  32.31  36.63  21.81  -4.94  0.0      9.51\n",
       "2014  13.46  19.18  -5.97  -0.04  0.0      1.23\n",
       "2015   1.23   9.44  -0.37 -15.82  0.0     -5.83\n",
       "2016  12.00   7.10   2.63  12.17  0.0      2.62\n",
       "2017  21.71  32.66  26.42  31.49  0.0     22.96\n",
       "2018  -4.57  -0.13 -14.75 -14.76  0.0     13.35\n",
       "2019  31.22  38.96  22.62  20.75  0.0      8.64\n",
       "2020  18.33  48.41   9.71  15.18  0.0      8.56\n",
       "2021  28.73  27.42  11.66   1.26  0.0      8.07\n",
       "2022 -18.18 -32.58 -15.34 -17.98  0.0     -2.18\n",
       "MEAN   8.73  12.60   2.12   0.80  0.0      5.76"
      ]
     },
     "execution_count": 17,
     "metadata": {},
     "output_type": "execute_result"
    }
   ],
   "source": [
    "## 연수익률\n",
    "anal_funcs.get_YTD_report(result_df, 'a')"
   ]
  },
  {
   "cell_type": "code",
   "execution_count": 18,
   "metadata": {
    "ExecuteTime": {
     "end_time": "2023-05-15T06:48:39.792334Z",
     "start_time": "2023-05-15T06:48:39.613310Z"
    }
   },
   "outputs": [
    {
     "data": {
      "text/html": [
       "<div>\n",
       "<style scoped>\n",
       "    .dataframe tbody tr th:only-of-type {\n",
       "        vertical-align: middle;\n",
       "    }\n",
       "\n",
       "    .dataframe tbody tr th {\n",
       "        vertical-align: top;\n",
       "    }\n",
       "\n",
       "    .dataframe thead th {\n",
       "        text-align: right;\n",
       "    }\n",
       "</style>\n",
       "<table border=\"1\" class=\"dataframe\">\n",
       "  <thead>\n",
       "    <tr style=\"text-align: right;\">\n",
       "      <th></th>\n",
       "      <th>MDD(%)</th>\n",
       "      <th>Date</th>\n",
       "    </tr>\n",
       "    <tr>\n",
       "      <th>Ticker</th>\n",
       "      <th></th>\n",
       "      <th></th>\n",
       "    </tr>\n",
       "  </thead>\n",
       "  <tbody>\n",
       "    <tr>\n",
       "      <th>SPY</th>\n",
       "      <td>-50.78</td>\n",
       "      <td>2009-02-28</td>\n",
       "    </tr>\n",
       "    <tr>\n",
       "      <th>QQQ</th>\n",
       "      <td>-49.74</td>\n",
       "      <td>2009-02-28</td>\n",
       "    </tr>\n",
       "    <tr>\n",
       "      <th>VEA</th>\n",
       "      <td>-57.05</td>\n",
       "      <td>2009-02-28</td>\n",
       "    </tr>\n",
       "    <tr>\n",
       "      <th>VWO</th>\n",
       "      <td>-61.69</td>\n",
       "      <td>2009-02-28</td>\n",
       "    </tr>\n",
       "    <tr>\n",
       "      <th>SHY</th>\n",
       "      <td>0.00</td>\n",
       "      <td>2007-09-30</td>\n",
       "    </tr>\n",
       "    <tr>\n",
       "      <th>strategy</th>\n",
       "      <td>-16.33</td>\n",
       "      <td>2011-11-30</td>\n",
       "    </tr>\n",
       "  </tbody>\n",
       "</table>\n",
       "</div>"
      ],
      "text/plain": [
       "          MDD(%)       Date\n",
       "Ticker                     \n",
       "SPY       -50.78 2009-02-28\n",
       "QQQ       -49.74 2009-02-28\n",
       "VEA       -57.05 2009-02-28\n",
       "VWO       -61.69 2009-02-28\n",
       "SHY         0.00 2007-09-30\n",
       "strategy  -16.33 2011-11-30"
      ]
     },
     "execution_count": 18,
     "metadata": {},
     "output_type": "execute_result"
    }
   ],
   "source": [
    "## 전고점대비 최대낙폭(MDD)\n",
    "MDD, HRR = anal_funcs.get_MDD_report(result_df, 'a')\n",
    "MDD"
   ]
  },
  {
   "cell_type": "code",
   "execution_count": 19,
   "metadata": {
    "ExecuteTime": {
     "end_time": "2023-05-15T06:48:54.314855Z",
     "start_time": "2023-05-15T06:48:53.670860Z"
    }
   },
   "outputs": [],
   "source": [
    "## sortino ratio\n",
    "sort_df = anal_funcs.get_Vol_report(test_dfs[0], 'g', unit='monthly', rf=3)\n",
    "## 모든 가능한 시작 시점에 대한 평가\n",
    "temp = ([anal_funcs.get_Vol_report(test_dfs[i], 'g', unit='monthly', rf=3) for i in range(len(test_dfs))])\n",
    "sort_df_simulation = (sum(temp)/len(temp)).round(2)"
   ]
  },
  {
   "cell_type": "code",
   "execution_count": 20,
   "metadata": {},
   "outputs": [
    {
     "data": {
      "text/html": [
       "<div>\n",
       "<style scoped>\n",
       "    .dataframe tbody tr th:only-of-type {\n",
       "        vertical-align: middle;\n",
       "    }\n",
       "\n",
       "    .dataframe tbody tr th {\n",
       "        vertical-align: top;\n",
       "    }\n",
       "\n",
       "    .dataframe thead th {\n",
       "        text-align: right;\n",
       "    }\n",
       "</style>\n",
       "<table border=\"1\" class=\"dataframe\">\n",
       "  <thead>\n",
       "    <tr style=\"text-align: right;\">\n",
       "      <th></th>\n",
       "      <th>Return</th>\n",
       "      <th>Volatility</th>\n",
       "      <th>Volatility(Down)</th>\n",
       "      <th>Residual</th>\n",
       "      <th>Beta</th>\n",
       "      <th>Sharpe_Ratio</th>\n",
       "      <th>Sortino_Ratio</th>\n",
       "      <th>Trainer_Ratio</th>\n",
       "      <th>Jensen_Alpha</th>\n",
       "      <th>Info_Ratio</th>\n",
       "    </tr>\n",
       "    <tr>\n",
       "      <th>Ticker</th>\n",
       "      <th></th>\n",
       "      <th></th>\n",
       "      <th></th>\n",
       "      <th></th>\n",
       "      <th></th>\n",
       "      <th></th>\n",
       "      <th></th>\n",
       "      <th></th>\n",
       "      <th></th>\n",
       "      <th></th>\n",
       "    </tr>\n",
       "  </thead>\n",
       "  <tbody>\n",
       "    <tr>\n",
       "      <th>SPY</th>\n",
       "      <td>6.55</td>\n",
       "      <td>4.57</td>\n",
       "      <td>3.54</td>\n",
       "      <td>0.00</td>\n",
       "      <td>1.00</td>\n",
       "      <td>0.78</td>\n",
       "      <td>1.03</td>\n",
       "      <td>3.55</td>\n",
       "      <td>0.00</td>\n",
       "      <td>NaN</td>\n",
       "    </tr>\n",
       "    <tr>\n",
       "      <th>QQQ</th>\n",
       "      <td>8.23</td>\n",
       "      <td>5.33</td>\n",
       "      <td>3.77</td>\n",
       "      <td>2.13</td>\n",
       "      <td>0.79</td>\n",
       "      <td>0.98</td>\n",
       "      <td>1.41</td>\n",
       "      <td>6.65</td>\n",
       "      <td>2.44</td>\n",
       "      <td>0.79</td>\n",
       "    </tr>\n",
       "    <tr>\n",
       "      <th>VEA</th>\n",
       "      <td>3.15</td>\n",
       "      <td>5.29</td>\n",
       "      <td>4.01</td>\n",
       "      <td>2.36</td>\n",
       "      <td>0.77</td>\n",
       "      <td>0.04</td>\n",
       "      <td>0.07</td>\n",
       "      <td>0.19</td>\n",
       "      <td>-2.59</td>\n",
       "      <td>-1.44</td>\n",
       "    </tr>\n",
       "    <tr>\n",
       "      <th>VWO</th>\n",
       "      <td>2.44</td>\n",
       "      <td>6.10</td>\n",
       "      <td>4.59</td>\n",
       "      <td>3.96</td>\n",
       "      <td>0.57</td>\n",
       "      <td>-0.08</td>\n",
       "      <td>-0.07</td>\n",
       "      <td>-0.97</td>\n",
       "      <td>-2.58</td>\n",
       "      <td>-1.03</td>\n",
       "    </tr>\n",
       "    <tr>\n",
       "      <th>SHY</th>\n",
       "      <td>0.00</td>\n",
       "      <td>0.00</td>\n",
       "      <td>NaN</td>\n",
       "      <td>4.57</td>\n",
       "      <td>NaN</td>\n",
       "      <td>-inf</td>\n",
       "      <td>NaN</td>\n",
       "      <td>NaN</td>\n",
       "      <td>NaN</td>\n",
       "      <td>-1.44</td>\n",
       "    </tr>\n",
       "    <tr>\n",
       "      <th>strategy</th>\n",
       "      <td>4.43</td>\n",
       "      <td>2.99</td>\n",
       "      <td>2.35</td>\n",
       "      <td>4.39</td>\n",
       "      <td>0.59</td>\n",
       "      <td>0.48</td>\n",
       "      <td>0.62</td>\n",
       "      <td>2.44</td>\n",
       "      <td>-0.64</td>\n",
       "      <td>-0.49</td>\n",
       "    </tr>\n",
       "  </tbody>\n",
       "</table>\n",
       "</div>"
      ],
      "text/plain": [
       "          Return  Volatility  Volatility(Down)  Residual  Beta  Sharpe_Ratio  \\\n",
       "Ticker                                                                         \n",
       "SPY         6.55        4.57              3.54      0.00  1.00          0.78   \n",
       "QQQ         8.23        5.33              3.77      2.13  0.79          0.98   \n",
       "VEA         3.15        5.29              4.01      2.36  0.77          0.04   \n",
       "VWO         2.44        6.10              4.59      3.96  0.57         -0.08   \n",
       "SHY         0.00        0.00               NaN      4.57   NaN          -inf   \n",
       "strategy    4.43        2.99              2.35      4.39  0.59          0.48   \n",
       "\n",
       "          Sortino_Ratio  Trainer_Ratio  Jensen_Alpha  Info_Ratio  \n",
       "Ticker                                                            \n",
       "SPY                1.03           3.55          0.00         NaN  \n",
       "QQQ                1.41           6.65          2.44        0.79  \n",
       "VEA                0.07           0.19         -2.59       -1.44  \n",
       "VWO               -0.07          -0.97         -2.58       -1.03  \n",
       "SHY                 NaN            NaN           NaN       -1.44  \n",
       "strategy           0.62           2.44         -0.64       -0.49  "
      ]
     },
     "execution_count": 20,
     "metadata": {},
     "output_type": "execute_result"
    }
   ],
   "source": [
    "sort_df_simulation"
   ]
  },
  {
   "cell_type": "code",
   "execution_count": 21,
   "metadata": {},
   "outputs": [
    {
     "data": {
      "image/png": "[encoded data removed]",
      "text/plain": [
       "<Figure size 1000x600 with 1 Axes>"
      ]
     },
     "metadata": {},
     "output_type": "display_data"
    }
   ],
   "source": [
    "result_df[['SPY', 'QQQ', 'strategy']].plot()\n",
    "plt.yscale('log')"
   ]
  },
  {
   "cell_type": "code",
   "execution_count": 22,
   "metadata": {},
   "outputs": [
    {
     "data": {
      "text/plain": [
       "<Axes: xlabel='Date'>"
      ]
     },
     "execution_count": 22,
     "metadata": {},
     "output_type": "execute_result"
    },
    {
     "data": {
      "image/png": "[encoded data removed]",
      "text/plain": [
       "<Figure size 1000x600 with 1 Axes>"
      ]
     },
     "metadata": {},
     "output_type": "display_data"
    }
   ],
   "source": [
    "HRR[['SPY', 'QQQ', 'strategy']].plot()"
   ]
  },
  {
   "cell_type": "code",
   "execution_count": null,
   "metadata": {},
   "outputs": [],
   "source": []
  },
  {
   "cell_type": "code",
   "execution_count": null,
   "metadata": {},
   "outputs": [],
   "source": []
  },
  {
   "cell_type": "code",
   "execution_count": null,
   "metadata": {},
   "outputs": [],
   "source": []
  }
 ],
 "metadata": {
  "hide_input": false,
  "kernelspec": {
   "display_name": "Python 3 (ipykernel)",
   "language": "python",
   "name": "python3"
  },
  "language_info": {
   "codemirror_mode": {
    "name": "ipython",
    "version": 3
   },
   "file_extension": ".py",
   "mimetype": "text/x-python",
   "name": "python",
   "nbconvert_exporter": "python",
   "pygments_lexer": "ipython3",
   "version": "3.11.4"
  },
  "toc": {
   "base_numbering": 1,
   "nav_menu": {},
   "number_sections": true,
   "sideBar": true,
   "skip_h1_title": false,
   "title_cell": "Table of Contents",
   "title_sidebar": "Contents",
   "toc_cell": false,
   "toc_position": {},
   "toc_section_display": true,
   "toc_window_display": false
  },
  "varInspector": {
   "cols": {
    "lenName": 16,
    "lenType": 16,
    "lenVar": 40
   },
   "kernels_config": {
    "python": {
     "delete_cmd_postfix": "",
     "delete_cmd_prefix": "del ",
     "library": "var_list.py",
     "varRefreshCmd": "print(var_dic_list())"
    },
    "r": {
     "delete_cmd_postfix": ") ",
     "delete_cmd_prefix": "rm(",
     "library": "var_list.r",
     "varRefreshCmd": "cat(var_dic_list()) "
    }
   },
   "types_to_exclude": [
    "module",
    "function",
    "builtin_function_or_method",
    "instance",
    "_Feature"
   ],
   "window_display": false
  }
 },
 "nbformat": 4,
 "nbformat_minor": 4
}
