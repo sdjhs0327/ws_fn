{
 "cells": [
  {
   "cell_type": "code",
   "execution_count": 1,
   "metadata": {},
   "outputs": [],
   "source": [
    "## Vigilant Asset Allocation"
   ]
  },
  {
   "cell_type": "code",
   "execution_count": 2,
   "metadata": {
    "ExecuteTime": {
     "end_time": "2023-05-15T06:48:27.322796Z",
     "start_time": "2023-05-15T06:48:26.047728Z"
    }
   },
   "outputs": [
    {
     "data": {
      "text/html": [
       "        <script type=\"text/javascript\">\n",
       "        window.PlotlyConfig = {MathJaxConfig: 'local'};\n",
       "        if (window.MathJax && window.MathJax.Hub && window.MathJax.Hub.Config) {window.MathJax.Hub.Config({SVG: {font: \"STIX-Web\"}});}\n",
       "        if (typeof require !== 'undefined') {\n",
       "        require.undef(\"plotly\");\n",
       "        requirejs.config({\n",
       "            paths: {\n",
       "                'plotly': ['https://cdn.plot.ly/plotly-2.27.0.min']\n",
       "            }\n",
       "        });\n",
       "        require(['plotly'], function(Plotly) {\n",
       "            window._Plotly = Plotly;\n",
       "        });\n",
       "        }\n",
       "        </script>\n",
       "        "
      ]
     },
     "metadata": {},
     "output_type": "display_data"
    }
   ],
   "source": [
    "import pandas as pd\n",
    "import warnings\n",
    "warnings.filterwarnings('ignore')\n",
    "import numpy as np\n",
    "\n",
    "from quant_functions import anal_funcs, data_funcs\n",
    "\n",
    "# 시각화 관련 ##\n",
    "import plotly_express as px\n",
    "import plotly.figure_factory as ff\n",
    "import cufflinks as cf\n",
    "cf.go_offline(connected=True)\n",
    "## cf.getThemes()\n",
    "cf.set_config_file(theme='polar')\n",
    "import plotly.graph_objects as go\n",
    "\n",
    "import matplotlib\n",
    "%matplotlib inline\n",
    "\n",
    "import matplotlib.pyplot as plt\n",
    "import seaborn as sns\n",
    "sns.set_style('whitegrid')\n",
    "## plt.style.use(\"fivethirtyeight\")\n",
    "plt.rcParams['font.family'] = 'Malgun Gothic'\n",
    "plt.rcParams['axes.unicode_minus'] = False\n",
    "plt.rcParams[\"figure.figsize\"] = (10,6)"
   ]
  },
  {
   "cell_type": "code",
   "execution_count": 3,
   "metadata": {
    "ExecuteTime": {
     "end_time": "2023-05-15T06:48:27.923372Z",
     "start_time": "2023-05-15T06:48:27.909373Z"
    }
   },
   "outputs": [],
   "source": [
    "## 조건1. 판단기준 -> 1개월*12, 3개월*4, 6개월*2 평균, 12개월*1\n",
    "## 조건2. 공격자산 중 하나라도 (-)진입시 수비자산 전환\n",
    "## 조건3. 모든 포지션에서 판단기준값이 가장 높은 자산 투자\n",
    "## 조건4. 월단위 리벨런싱"
   ]
  },
  {
   "cell_type": "markdown",
   "metadata": {},
   "source": [
    "## Func"
   ]
  },
  {
   "cell_type": "code",
   "execution_count": 4,
   "metadata": {
    "ExecuteTime": {
     "end_time": "2023-05-15T06:48:29.874269Z",
     "start_time": "2023-05-15T06:48:29.854262Z"
    }
   },
   "outputs": [],
   "source": [
    "### 1개월 수익률, 3개월 수익률, 6개월 수익률의 가중평균 산출함수\n",
    "def get_wapr(close):\n",
    "    ## 월단위 데이터를 기준으로함\n",
    "    ## get_signal()로 이어짐\n",
    "    df_cls = close.copy()\n",
    "    pr1 = np.log(df_cls/df_cls.shift(1))\n",
    "    pr3 = np.log(df_cls/df_cls.shift(3))\n",
    "    pr6 = np.log(df_cls/df_cls.shift(6))\n",
    "    pr12 = np.log(df_cls/df_cls.shift(12))\n",
    "    df_pr = pd.concat([pr1, pr3*(4/12), pr6*(2/12), pr12*(1/12)], axis = 1)\n",
    "    mpr = df_pr.mean(axis=1)\n",
    "    return mpr\n",
    "\n",
    "def get_signal(df):\n",
    "    ## 금리2% 1개월 무위험수익률 ## 향후 기준금리 데이터 반영 가능\n",
    "    nrr = (1.02**(1/12))-1\n",
    "    ## get_strategy_value()로 이어짐\n",
    "\n",
    "    signal_df = df.copy()\n",
    "    for cols in signal_df.columns:\n",
    "        signal_df[cols] = get_wapr(signal_df[cols])\n",
    "    signal_df = signal_df.dropna()\n",
    "\n",
    "    atks= signal_df[signal_df.columns[:4]].T\n",
    "    dfcs= signal_df[signal_df.columns[4:]].T\n",
    "    \n",
    "    ## 판단로직\n",
    "    signal_df['diretion'] = 'bear'\n",
    "    signal_df['diretion'][(signal_df[signal_df.columns[0]] > nrr)&(signal_df[signal_df.columns[1]] > nrr)&\n",
    "                       (signal_df[signal_df.columns[2]] > nrr)&(signal_df[signal_df.columns[3]] > nrr)] = 'bull'\n",
    "\n",
    "    optimal_ticker = []\n",
    "    for i in range(len(signal_df)):\n",
    "        if signal_df['diretion'][i] == 'bull':\n",
    "            optimal_ticker.append(atks[atks[atks.columns[i]] == atks[atks.columns[i]].max()].index.values[0])\n",
    "        elif signal_df['diretion'][i] == 'bear':\n",
    "            optimal_ticker.append(dfcs[dfcs[dfcs.columns[i]] == dfcs[dfcs.columns[i]].max()].index.values[0])\n",
    "\n",
    "    signal_df['signal'] = optimal_ticker\n",
    "    \n",
    "    new_df = df.copy()\n",
    "    new_df['signal'] = signal_df['signal']\n",
    "    new_df['prev'] = new_df['signal'].shift(1)\n",
    "    \n",
    "    new_df['change'] = 0\n",
    "    new_df['change'][new_df['signal'] != new_df['prev']] = 1\n",
    "    new_df = new_df.dropna()\n",
    "    \n",
    "    return new_df, signal_df\n",
    "\n",
    "\n",
    "\n",
    "def get_strategy_value(df):\n",
    "    new_df, _ = get_signal(df)\n",
    "    ## 시그널발생시 자산 교환 비율 산출\n",
    "    new_df['exchange_rate'] = 1.0\n",
    "    for i in range(len(new_df)):\n",
    "        if (new_df['change'][i] == 1)&(type(new_df['prev'][i]) == str):\n",
    "            new_df['exchange_rate'][i] = new_df[new_df['prev'][i]][i]/new_df[new_df['signal'][i]][i]         \n",
    "    ## 누적 교환비 산출\n",
    "    new_df['cum_exchange_rate'] = new_df['exchange_rate']\n",
    "    for i in range(len(new_df)):\n",
    "        new_df['cum_exchange_rate'][i] = new_df['exchange_rate'][:i+1].product()\n",
    "    ## 자산추이\n",
    "    new_df['strategy'] = 1.0\n",
    "    for i in range(len(new_df)):\n",
    "        new_df['strategy'][i] = new_df[new_df['signal'][i]][i]*new_df['cum_exchange_rate'][i]\n",
    "        \n",
    "    result = new_df.drop(columns=['change', 'exchange_rate', 'cum_exchange_rate'])\n",
    "        \n",
    "    return result"
   ]
  },
  {
   "cell_type": "markdown",
   "metadata": {},
   "source": [
    "## Proc"
   ]
  },
  {
   "cell_type": "code",
   "execution_count": 28,
   "metadata": {
    "ExecuteTime": {
     "end_time": "2023-05-15T06:48:39.072309Z",
     "start_time": "2023-05-15T06:48:30.582274Z"
    }
   },
   "outputs": [
    {
     "name": "stderr",
     "output_type": "stream",
     "text": [
      "[*********************100%%**********************]  7 of 7 completed\n"
     ]
    }
   ],
   "source": [
    "## X3 VAA전략 ## 확정전\n",
    "## df = get_merged_df('TQQQ', 'UPRO', 'EURL', 'EDC', 'TMF', 'TYD', 'BNKU')\n",
    "## df['CASH'] = 1 ## SHY 대용 CASH\n",
    "df = data_funcs.get_merged_df('SPY', 'QQQ', 'VEA', 'VWO', 'TLT', 'IEF', 'SHY')\n",
    "# df = df[['SPY', 'QQQ', 'VEA', 'VWO', 'TLT', 'IEF', 'SHY']]\n",
    "# df = df[['SPY', 'QQQ', 'VEA', 'VWO', 'SHY']]\n",
    "\n",
    "dataset = df.dropna()\n",
    "## dataset = dataset[dataset.index >= '2010-10-01']"
   ]
  },
  {
   "cell_type": "code",
   "execution_count": 6,
   "metadata": {
    "ExecuteTime": {
     "end_time": "2023-05-15T06:48:39.102317Z",
     "start_time": "2023-05-15T06:48:39.088320Z"
    }
   },
   "outputs": [],
   "source": [
    "df = dataset.resample('M').last()\n",
    "df = df[:].copy()\n",
    "df['SHY'] = 1"
   ]
  },
  {
   "cell_type": "code",
   "execution_count": 7,
   "metadata": {},
   "outputs": [],
   "source": [
    "strategy_df_result = get_strategy_value(df)\n",
    "\n",
    "result_df = strategy_df_result.copy()\n",
    "temp = result_df[['SPY', 'QQQ', 'VEA', 'VWO', 'SHY', 'strategy']]\n",
    "result_df[['SPY', 'QQQ', 'VEA', 'VWO', 'SHY', 'strategy']] = temp/np.array(temp)[0]\n",
    "\n",
    "_, signal_df = get_signal(df)"
   ]
  },
  {
   "cell_type": "markdown",
   "metadata": {},
   "source": [
    "## Report"
   ]
  },
  {
   "cell_type": "code",
   "execution_count": 8,
   "metadata": {
    "ExecuteTime": {
     "end_time": "2023-05-15T06:48:39.447318Z",
     "start_time": "2023-05-15T06:48:39.418311Z"
    }
   },
   "outputs": [
    {
     "data": {
      "text/html": [
       "<div>\n",
       "<style scoped>\n",
       "    .dataframe tbody tr th:only-of-type {\n",
       "        vertical-align: middle;\n",
       "    }\n",
       "\n",
       "    .dataframe tbody tr th {\n",
       "        vertical-align: top;\n",
       "    }\n",
       "\n",
       "    .dataframe thead th {\n",
       "        text-align: right;\n",
       "    }\n",
       "</style>\n",
       "<table border=\"1\" class=\"dataframe\">\n",
       "  <thead>\n",
       "    <tr style=\"text-align: right;\">\n",
       "      <th>Ticker</th>\n",
       "      <th>SPY</th>\n",
       "      <th>QQQ</th>\n",
       "      <th>VEA</th>\n",
       "      <th>VWO</th>\n",
       "      <th>SHY</th>\n",
       "    </tr>\n",
       "    <tr>\n",
       "      <th>Date</th>\n",
       "      <th></th>\n",
       "      <th></th>\n",
       "      <th></th>\n",
       "      <th></th>\n",
       "      <th></th>\n",
       "    </tr>\n",
       "  </thead>\n",
       "  <tbody>\n",
       "    <tr>\n",
       "      <th>2024-06-30</th>\n",
       "      <td>0.034672</td>\n",
       "      <td>0.062694</td>\n",
       "      <td>-0.016680</td>\n",
       "      <td>0.019509</td>\n",
       "      <td>0.0</td>\n",
       "    </tr>\n",
       "    <tr>\n",
       "      <th>2024-07-31</th>\n",
       "      <td>0.012036</td>\n",
       "      <td>-0.016923</td>\n",
       "      <td>0.029704</td>\n",
       "      <td>0.012039</td>\n",
       "      <td>0.0</td>\n",
       "    </tr>\n",
       "    <tr>\n",
       "      <th>2024-08-31</th>\n",
       "      <td>0.023097</td>\n",
       "      <td>0.010978</td>\n",
       "      <td>0.028656</td>\n",
       "      <td>0.009662</td>\n",
       "      <td>0.0</td>\n",
       "    </tr>\n",
       "    <tr>\n",
       "      <th>2024-09-30</th>\n",
       "      <td>0.020787</td>\n",
       "      <td>0.025878</td>\n",
       "      <td>0.010728</td>\n",
       "      <td>0.070603</td>\n",
       "      <td>0.0</td>\n",
       "    </tr>\n",
       "    <tr>\n",
       "      <th>2024-10-31</th>\n",
       "      <td>-0.008964</td>\n",
       "      <td>-0.008684</td>\n",
       "      <td>-0.052680</td>\n",
       "      <td>-0.027115</td>\n",
       "      <td>0.0</td>\n",
       "    </tr>\n",
       "    <tr>\n",
       "      <th>2024-11-30</th>\n",
       "      <td>0.048988</td>\n",
       "      <td>0.057038</td>\n",
       "      <td>-0.019551</td>\n",
       "      <td>-0.023464</td>\n",
       "      <td>0.0</td>\n",
       "    </tr>\n",
       "  </tbody>\n",
       "</table>\n",
       "</div>"
      ],
      "text/plain": [
       "Ticker           SPY       QQQ       VEA       VWO  SHY\n",
       "Date                                                   \n",
       "2024-06-30  0.034672  0.062694 -0.016680  0.019509  0.0\n",
       "2024-07-31  0.012036 -0.016923  0.029704  0.012039  0.0\n",
       "2024-08-31  0.023097  0.010978  0.028656  0.009662  0.0\n",
       "2024-09-30  0.020787  0.025878  0.010728  0.070603  0.0\n",
       "2024-10-31 -0.008964 -0.008684 -0.052680 -0.027115  0.0\n",
       "2024-11-30  0.048988  0.057038 -0.019551 -0.023464  0.0"
      ]
     },
     "execution_count": 8,
     "metadata": {},
     "output_type": "execute_result"
    }
   ],
   "source": [
    "## 기하수익률\n",
    "np.log(strategy_df_result[strategy_df_result.columns[:-3]]/strategy_df_result[strategy_df_result.columns[:-3]].shift(1)).tail(6)"
   ]
  },
  {
   "cell_type": "code",
   "execution_count": 9,
   "metadata": {
    "ExecuteTime": {
     "end_time": "2023-05-15T06:48:39.462321Z",
     "start_time": "2023-05-15T06:48:39.449309Z"
    }
   },
   "outputs": [
    {
     "data": {
      "text/html": [
       "<div>\n",
       "<style scoped>\n",
       "    .dataframe tbody tr th:only-of-type {\n",
       "        vertical-align: middle;\n",
       "    }\n",
       "\n",
       "    .dataframe tbody tr th {\n",
       "        vertical-align: top;\n",
       "    }\n",
       "\n",
       "    .dataframe thead th {\n",
       "        text-align: right;\n",
       "    }\n",
       "</style>\n",
       "<table border=\"1\" class=\"dataframe\">\n",
       "  <thead>\n",
       "    <tr style=\"text-align: right;\">\n",
       "      <th>Ticker</th>\n",
       "      <th>SPY</th>\n",
       "      <th>QQQ</th>\n",
       "      <th>VEA</th>\n",
       "      <th>VWO</th>\n",
       "      <th>SHY</th>\n",
       "      <th>signal</th>\n",
       "      <th>prev</th>\n",
       "      <th>strategy</th>\n",
       "    </tr>\n",
       "    <tr>\n",
       "      <th>Date</th>\n",
       "      <th></th>\n",
       "      <th></th>\n",
       "      <th></th>\n",
       "      <th></th>\n",
       "      <th></th>\n",
       "      <th></th>\n",
       "      <th></th>\n",
       "      <th></th>\n",
       "    </tr>\n",
       "  </thead>\n",
       "  <tbody>\n",
       "    <tr>\n",
       "      <th>2024-06-30</th>\n",
       "      <td>542.555786</td>\n",
       "      <td>478.437653</td>\n",
       "      <td>49.284626</td>\n",
       "      <td>43.630981</td>\n",
       "      <td>1</td>\n",
       "      <td>SHY</td>\n",
       "      <td>QQQ</td>\n",
       "      <td>2.703325</td>\n",
       "    </tr>\n",
       "    <tr>\n",
       "      <th>2024-07-31</th>\n",
       "      <td>549.125671</td>\n",
       "      <td>470.408966</td>\n",
       "      <td>50.770546</td>\n",
       "      <td>44.159420</td>\n",
       "      <td>1</td>\n",
       "      <td>SPY</td>\n",
       "      <td>SHY</td>\n",
       "      <td>2.703325</td>\n",
       "    </tr>\n",
       "    <tr>\n",
       "      <th>2024-08-31</th>\n",
       "      <td>561.956299</td>\n",
       "      <td>475.601654</td>\n",
       "      <td>52.246494</td>\n",
       "      <td>44.588154</td>\n",
       "      <td>1</td>\n",
       "      <td>SPY</td>\n",
       "      <td>SPY</td>\n",
       "      <td>2.766490</td>\n",
       "    </tr>\n",
       "    <tr>\n",
       "      <th>2024-09-30</th>\n",
       "      <td>573.760010</td>\n",
       "      <td>488.070007</td>\n",
       "      <td>52.810001</td>\n",
       "      <td>47.849998</td>\n",
       "      <td>1</td>\n",
       "      <td>VWO</td>\n",
       "      <td>SPY</td>\n",
       "      <td>2.824599</td>\n",
       "    </tr>\n",
       "    <tr>\n",
       "      <th>2024-10-31</th>\n",
       "      <td>568.640015</td>\n",
       "      <td>483.850006</td>\n",
       "      <td>50.099998</td>\n",
       "      <td>46.570000</td>\n",
       "      <td>1</td>\n",
       "      <td>SHY</td>\n",
       "      <td>VWO</td>\n",
       "      <td>2.749040</td>\n",
       "    </tr>\n",
       "    <tr>\n",
       "      <th>2024-11-30</th>\n",
       "      <td>597.190002</td>\n",
       "      <td>512.250000</td>\n",
       "      <td>49.130001</td>\n",
       "      <td>45.490002</td>\n",
       "      <td>1</td>\n",
       "      <td>SHY</td>\n",
       "      <td>SHY</td>\n",
       "      <td>2.749040</td>\n",
       "    </tr>\n",
       "  </tbody>\n",
       "</table>\n",
       "</div>"
      ],
      "text/plain": [
       "Ticker             SPY         QQQ        VEA        VWO  SHY signal prev  \\\n",
       "Date                                                                        \n",
       "2024-06-30  542.555786  478.437653  49.284626  43.630981    1    SHY  QQQ   \n",
       "2024-07-31  549.125671  470.408966  50.770546  44.159420    1    SPY  SHY   \n",
       "2024-08-31  561.956299  475.601654  52.246494  44.588154    1    SPY  SPY   \n",
       "2024-09-30  573.760010  488.070007  52.810001  47.849998    1    VWO  SPY   \n",
       "2024-10-31  568.640015  483.850006  50.099998  46.570000    1    SHY  VWO   \n",
       "2024-11-30  597.190002  512.250000  49.130001  45.490002    1    SHY  SHY   \n",
       "\n",
       "Ticker      strategy  \n",
       "Date                  \n",
       "2024-06-30  2.703325  \n",
       "2024-07-31  2.703325  \n",
       "2024-08-31  2.766490  \n",
       "2024-09-30  2.824599  \n",
       "2024-10-31  2.749040  \n",
       "2024-11-30  2.749040  "
      ]
     },
     "execution_count": 9,
     "metadata": {},
     "output_type": "execute_result"
    }
   ],
   "source": [
    "## 최근 상대 수준\n",
    "strategy_df_result.tail(6)"
   ]
  },
  {
   "cell_type": "code",
   "execution_count": 10,
   "metadata": {
    "ExecuteTime": {
     "end_time": "2023-05-15T06:48:39.477317Z",
     "start_time": "2023-05-15T06:48:39.463311Z"
    },
    "scrolled": true
   },
   "outputs": [
    {
     "data": {
      "text/html": [
       "<div>\n",
       "<style scoped>\n",
       "    .dataframe tbody tr th:only-of-type {\n",
       "        vertical-align: middle;\n",
       "    }\n",
       "\n",
       "    .dataframe tbody tr th {\n",
       "        vertical-align: top;\n",
       "    }\n",
       "\n",
       "    .dataframe thead th {\n",
       "        text-align: right;\n",
       "    }\n",
       "</style>\n",
       "<table border=\"1\" class=\"dataframe\">\n",
       "  <thead>\n",
       "    <tr style=\"text-align: right;\">\n",
       "      <th>Ticker</th>\n",
       "      <th>SPY</th>\n",
       "      <th>QQQ</th>\n",
       "      <th>VEA</th>\n",
       "      <th>VWO</th>\n",
       "      <th>SHY</th>\n",
       "      <th>diretion</th>\n",
       "      <th>signal</th>\n",
       "    </tr>\n",
       "    <tr>\n",
       "      <th>Date</th>\n",
       "      <th></th>\n",
       "      <th></th>\n",
       "      <th></th>\n",
       "      <th></th>\n",
       "      <th></th>\n",
       "      <th></th>\n",
       "      <th></th>\n",
       "    </tr>\n",
       "  </thead>\n",
       "  <tbody>\n",
       "    <tr>\n",
       "      <th>2024-06-30</th>\n",
       "      <td>0.022708</td>\n",
       "      <td>0.034367</td>\n",
       "      <td>-0.000582</td>\n",
       "      <td>0.014121</td>\n",
       "      <td>0.0</td>\n",
       "      <td>bear</td>\n",
       "      <td>SHY</td>\n",
       "    </tr>\n",
       "    <tr>\n",
       "      <th>2024-07-31</th>\n",
       "      <td>0.020904</td>\n",
       "      <td>0.014181</td>\n",
       "      <td>0.018046</td>\n",
       "      <td>0.013533</td>\n",
       "      <td>0.0</td>\n",
       "      <td>bull</td>\n",
       "      <td>SPY</td>\n",
       "    </tr>\n",
       "    <tr>\n",
       "      <th>2024-08-31</th>\n",
       "      <td>0.021147</td>\n",
       "      <td>0.015948</td>\n",
       "      <td>0.017876</td>\n",
       "      <td>0.012409</td>\n",
       "      <td>0.0</td>\n",
       "      <td>bull</td>\n",
       "      <td>SPY</td>\n",
       "    </tr>\n",
       "    <tr>\n",
       "      <th>2024-09-30</th>\n",
       "      <td>0.020384</td>\n",
       "      <td>0.018781</td>\n",
       "      <td>0.015655</td>\n",
       "      <td>0.036042</td>\n",
       "      <td>0.0</td>\n",
       "      <td>bull</td>\n",
       "      <td>VWO</td>\n",
       "    </tr>\n",
       "    <tr>\n",
       "      <th>2024-10-31</th>\n",
       "      <td>0.012808</td>\n",
       "      <td>0.012583</td>\n",
       "      <td>-0.008192</td>\n",
       "      <td>0.006944</td>\n",
       "      <td>0.0</td>\n",
       "      <td>bear</td>\n",
       "      <td>SHY</td>\n",
       "    </tr>\n",
       "    <tr>\n",
       "      <th>2024-11-30</th>\n",
       "      <td>0.028638</td>\n",
       "      <td>0.031789</td>\n",
       "      <td>-0.008807</td>\n",
       "      <td>0.001313</td>\n",
       "      <td>0.0</td>\n",
       "      <td>bear</td>\n",
       "      <td>SHY</td>\n",
       "    </tr>\n",
       "  </tbody>\n",
       "</table>\n",
       "</div>"
      ],
      "text/plain": [
       "Ticker           SPY       QQQ       VEA       VWO  SHY diretion signal\n",
       "Date                                                                   \n",
       "2024-06-30  0.022708  0.034367 -0.000582  0.014121  0.0     bear    SHY\n",
       "2024-07-31  0.020904  0.014181  0.018046  0.013533  0.0     bull    SPY\n",
       "2024-08-31  0.021147  0.015948  0.017876  0.012409  0.0     bull    SPY\n",
       "2024-09-30  0.020384  0.018781  0.015655  0.036042  0.0     bull    VWO\n",
       "2024-10-31  0.012808  0.012583 -0.008192  0.006944  0.0     bear    SHY\n",
       "2024-11-30  0.028638  0.031789 -0.008807  0.001313  0.0     bear    SHY"
      ]
     },
     "execution_count": 10,
     "metadata": {},
     "output_type": "execute_result"
    }
   ],
   "source": [
    "## 시그널 근거\n",
    "signal_df.tail(6)"
   ]
  },
  {
   "cell_type": "code",
   "execution_count": 11,
   "metadata": {
    "ExecuteTime": {
     "end_time": "2023-05-15T06:48:39.507350Z",
     "start_time": "2023-05-15T06:48:39.479309Z"
    }
   },
   "outputs": [],
   "source": [
    "test_dfs = [result_df.reset_index().shift(i).set_index('Date')[-(len(result_df)+1 - int(len(result_df)/10)):]\n",
    "            for i in range(int(len(result_df)/10))]"
   ]
  },
  {
   "cell_type": "code",
   "execution_count": 12,
   "metadata": {
    "ExecuteTime": {
     "end_time": "2023-05-15T06:48:39.522309Z",
     "start_time": "2023-05-15T06:48:39.508357Z"
    }
   },
   "outputs": [
    {
     "name": "stdout",
     "output_type": "stream",
     "text": [
      "적립식 수행시, 누적 시뮬레이션 수익률: 60.68%\n"
     ]
    }
   ],
   "source": [
    "CAGR = np.mean([anal_funcs.get_ACI_CAGR(test_dfs[i]['strategy']) for i in range(len(test_dfs))])\n",
    "print(f'적립식 수행시, 누적 시뮬레이션 수익률: {CAGR.round(2)}%')"
   ]
  },
  {
   "cell_type": "code",
   "execution_count": 13,
   "metadata": {
    "ExecuteTime": {
     "end_time": "2023-05-15T06:48:39.537317Z",
     "start_time": "2023-05-15T06:48:39.523321Z"
    }
   },
   "outputs": [
    {
     "name": "stdout",
     "output_type": "stream",
     "text": [
      "적립식 수행시, 월평균 시뮬레이션 수익률: 0.51%\n"
     ]
    }
   ],
   "source": [
    "RPP = np.mean([anal_funcs.get_ACI_RPP(test_dfs[i]['strategy']) for i in range(len(test_dfs))])\n",
    "print(f'적립식 수행시, 월평균 시뮬레이션 수익률: {RPP.round(2)}%')"
   ]
  },
  {
   "cell_type": "code",
   "execution_count": 14,
   "metadata": {
    "ExecuteTime": {
     "end_time": "2023-05-15T06:48:39.612308Z",
     "start_time": "2023-05-15T06:48:39.538312Z"
    },
    "scrolled": false
   },
   "outputs": [
    {
     "data": {
      "text/html": [
       "<div>\n",
       "<style scoped>\n",
       "    .dataframe tbody tr th:only-of-type {\n",
       "        vertical-align: middle;\n",
       "    }\n",
       "\n",
       "    .dataframe tbody tr th {\n",
       "        vertical-align: top;\n",
       "    }\n",
       "\n",
       "    .dataframe thead th {\n",
       "        text-align: right;\n",
       "    }\n",
       "</style>\n",
       "<table border=\"1\" class=\"dataframe\">\n",
       "  <thead>\n",
       "    <tr style=\"text-align: right;\">\n",
       "      <th>Ticker</th>\n",
       "      <th>SPY</th>\n",
       "      <th>QQQ</th>\n",
       "      <th>VEA</th>\n",
       "      <th>VWO</th>\n",
       "      <th>SHY</th>\n",
       "      <th>strategy</th>\n",
       "    </tr>\n",
       "    <tr>\n",
       "      <th>Date</th>\n",
       "      <th></th>\n",
       "      <th></th>\n",
       "      <th></th>\n",
       "      <th></th>\n",
       "      <th></th>\n",
       "      <th></th>\n",
       "    </tr>\n",
       "  </thead>\n",
       "  <tbody>\n",
       "    <tr>\n",
       "      <th>2008</th>\n",
       "      <td>-36.79</td>\n",
       "      <td>-41.73</td>\n",
       "      <td>-40.62</td>\n",
       "      <td>-52.46</td>\n",
       "      <td>0.0</td>\n",
       "      <td>-8.00</td>\n",
       "    </tr>\n",
       "    <tr>\n",
       "      <th>2009</th>\n",
       "      <td>26.35</td>\n",
       "      <td>54.68</td>\n",
       "      <td>27.51</td>\n",
       "      <td>76.31</td>\n",
       "      <td>0.0</td>\n",
       "      <td>38.81</td>\n",
       "    </tr>\n",
       "    <tr>\n",
       "      <th>2010</th>\n",
       "      <td>15.06</td>\n",
       "      <td>20.14</td>\n",
       "      <td>8.35</td>\n",
       "      <td>19.48</td>\n",
       "      <td>0.0</td>\n",
       "      <td>-6.63</td>\n",
       "    </tr>\n",
       "    <tr>\n",
       "      <th>2011</th>\n",
       "      <td>1.90</td>\n",
       "      <td>3.48</td>\n",
       "      <td>-12.31</td>\n",
       "      <td>-18.75</td>\n",
       "      <td>0.0</td>\n",
       "      <td>-9.72</td>\n",
       "    </tr>\n",
       "    <tr>\n",
       "      <th>2012</th>\n",
       "      <td>15.99</td>\n",
       "      <td>18.11</td>\n",
       "      <td>18.56</td>\n",
       "      <td>19.21</td>\n",
       "      <td>0.0</td>\n",
       "      <td>15.68</td>\n",
       "    </tr>\n",
       "    <tr>\n",
       "      <th>2013</th>\n",
       "      <td>32.31</td>\n",
       "      <td>36.63</td>\n",
       "      <td>21.81</td>\n",
       "      <td>-4.94</td>\n",
       "      <td>0.0</td>\n",
       "      <td>9.51</td>\n",
       "    </tr>\n",
       "    <tr>\n",
       "      <th>2014</th>\n",
       "      <td>13.46</td>\n",
       "      <td>19.18</td>\n",
       "      <td>-5.97</td>\n",
       "      <td>-0.04</td>\n",
       "      <td>0.0</td>\n",
       "      <td>1.23</td>\n",
       "    </tr>\n",
       "    <tr>\n",
       "      <th>2015</th>\n",
       "      <td>1.23</td>\n",
       "      <td>9.44</td>\n",
       "      <td>-0.37</td>\n",
       "      <td>-15.82</td>\n",
       "      <td>0.0</td>\n",
       "      <td>-5.83</td>\n",
       "    </tr>\n",
       "    <tr>\n",
       "      <th>2016</th>\n",
       "      <td>12.00</td>\n",
       "      <td>7.10</td>\n",
       "      <td>2.63</td>\n",
       "      <td>12.17</td>\n",
       "      <td>0.0</td>\n",
       "      <td>2.62</td>\n",
       "    </tr>\n",
       "    <tr>\n",
       "      <th>2017</th>\n",
       "      <td>21.71</td>\n",
       "      <td>32.66</td>\n",
       "      <td>26.42</td>\n",
       "      <td>31.49</td>\n",
       "      <td>0.0</td>\n",
       "      <td>22.96</td>\n",
       "    </tr>\n",
       "    <tr>\n",
       "      <th>2018</th>\n",
       "      <td>-4.57</td>\n",
       "      <td>-0.13</td>\n",
       "      <td>-14.75</td>\n",
       "      <td>-14.76</td>\n",
       "      <td>0.0</td>\n",
       "      <td>13.35</td>\n",
       "    </tr>\n",
       "    <tr>\n",
       "      <th>2019</th>\n",
       "      <td>31.22</td>\n",
       "      <td>38.96</td>\n",
       "      <td>22.62</td>\n",
       "      <td>20.75</td>\n",
       "      <td>0.0</td>\n",
       "      <td>8.64</td>\n",
       "    </tr>\n",
       "    <tr>\n",
       "      <th>2020</th>\n",
       "      <td>18.33</td>\n",
       "      <td>48.41</td>\n",
       "      <td>9.71</td>\n",
       "      <td>15.18</td>\n",
       "      <td>0.0</td>\n",
       "      <td>8.56</td>\n",
       "    </tr>\n",
       "    <tr>\n",
       "      <th>2021</th>\n",
       "      <td>28.73</td>\n",
       "      <td>27.42</td>\n",
       "      <td>11.66</td>\n",
       "      <td>1.26</td>\n",
       "      <td>0.0</td>\n",
       "      <td>8.07</td>\n",
       "    </tr>\n",
       "    <tr>\n",
       "      <th>2022</th>\n",
       "      <td>-18.18</td>\n",
       "      <td>-32.58</td>\n",
       "      <td>-15.34</td>\n",
       "      <td>-17.98</td>\n",
       "      <td>0.0</td>\n",
       "      <td>-2.18</td>\n",
       "    </tr>\n",
       "    <tr>\n",
       "      <th>2023</th>\n",
       "      <td>26.18</td>\n",
       "      <td>54.86</td>\n",
       "      <td>17.93</td>\n",
       "      <td>9.26</td>\n",
       "      <td>0.0</td>\n",
       "      <td>4.81</td>\n",
       "    </tr>\n",
       "    <tr>\n",
       "      <th>MEAN</th>\n",
       "      <td>9.75</td>\n",
       "      <td>14.86</td>\n",
       "      <td>3.04</td>\n",
       "      <td>1.31</td>\n",
       "      <td>0.0</td>\n",
       "      <td>5.71</td>\n",
       "    </tr>\n",
       "  </tbody>\n",
       "</table>\n",
       "</div>"
      ],
      "text/plain": [
       "Ticker    SPY    QQQ    VEA    VWO  SHY  strategy\n",
       "Date                                             \n",
       "2008   -36.79 -41.73 -40.62 -52.46  0.0     -8.00\n",
       "2009    26.35  54.68  27.51  76.31  0.0     38.81\n",
       "2010    15.06  20.14   8.35  19.48  0.0     -6.63\n",
       "2011     1.90   3.48 -12.31 -18.75  0.0     -9.72\n",
       "2012    15.99  18.11  18.56  19.21  0.0     15.68\n",
       "2013    32.31  36.63  21.81  -4.94  0.0      9.51\n",
       "2014    13.46  19.18  -5.97  -0.04  0.0      1.23\n",
       "2015     1.23   9.44  -0.37 -15.82  0.0     -5.83\n",
       "2016    12.00   7.10   2.63  12.17  0.0      2.62\n",
       "2017    21.71  32.66  26.42  31.49  0.0     22.96\n",
       "2018    -4.57  -0.13 -14.75 -14.76  0.0     13.35\n",
       "2019    31.22  38.96  22.62  20.75  0.0      8.64\n",
       "2020    18.33  48.41   9.71  15.18  0.0      8.56\n",
       "2021    28.73  27.42  11.66   1.26  0.0      8.07\n",
       "2022   -18.18 -32.58 -15.34 -17.98  0.0     -2.18\n",
       "2023    26.18  54.86  17.93   9.26  0.0      4.81\n",
       "MEAN     9.75  14.86   3.04   1.31  0.0      5.71"
      ]
     },
     "execution_count": 14,
     "metadata": {},
     "output_type": "execute_result"
    }
   ],
   "source": [
    "## 연수익률\n",
    "anal_funcs.get_YTD_report(result_df, 'a')"
   ]
  },
  {
   "cell_type": "code",
   "execution_count": 15,
   "metadata": {
    "ExecuteTime": {
     "end_time": "2023-05-15T06:48:39.792334Z",
     "start_time": "2023-05-15T06:48:39.613310Z"
    }
   },
   "outputs": [
    {
     "data": {
      "text/html": [
       "<div>\n",
       "<style scoped>\n",
       "    .dataframe tbody tr th:only-of-type {\n",
       "        vertical-align: middle;\n",
       "    }\n",
       "\n",
       "    .dataframe tbody tr th {\n",
       "        vertical-align: top;\n",
       "    }\n",
       "\n",
       "    .dataframe thead th {\n",
       "        text-align: right;\n",
       "    }\n",
       "</style>\n",
       "<table border=\"1\" class=\"dataframe\">\n",
       "  <thead>\n",
       "    <tr style=\"text-align: right;\">\n",
       "      <th></th>\n",
       "      <th>MDD(%)</th>\n",
       "      <th>Date</th>\n",
       "    </tr>\n",
       "    <tr>\n",
       "      <th>Ticker</th>\n",
       "      <th></th>\n",
       "      <th></th>\n",
       "    </tr>\n",
       "  </thead>\n",
       "  <tbody>\n",
       "    <tr>\n",
       "      <th>SPY</th>\n",
       "      <td>-50.78</td>\n",
       "      <td>2009-02-28</td>\n",
       "    </tr>\n",
       "    <tr>\n",
       "      <th>QQQ</th>\n",
       "      <td>-49.74</td>\n",
       "      <td>2009-02-28</td>\n",
       "    </tr>\n",
       "    <tr>\n",
       "      <th>VEA</th>\n",
       "      <td>-57.05</td>\n",
       "      <td>2009-02-28</td>\n",
       "    </tr>\n",
       "    <tr>\n",
       "      <th>VWO</th>\n",
       "      <td>-61.69</td>\n",
       "      <td>2009-02-28</td>\n",
       "    </tr>\n",
       "    <tr>\n",
       "      <th>SHY</th>\n",
       "      <td>0.00</td>\n",
       "      <td>2007-09-30</td>\n",
       "    </tr>\n",
       "    <tr>\n",
       "      <th>strategy</th>\n",
       "      <td>-16.33</td>\n",
       "      <td>2011-11-30</td>\n",
       "    </tr>\n",
       "  </tbody>\n",
       "</table>\n",
       "</div>"
      ],
      "text/plain": [
       "          MDD(%)       Date\n",
       "Ticker                     \n",
       "SPY       -50.78 2009-02-28\n",
       "QQQ       -49.74 2009-02-28\n",
       "VEA       -57.05 2009-02-28\n",
       "VWO       -61.69 2009-02-28\n",
       "SHY         0.00 2007-09-30\n",
       "strategy  -16.33 2011-11-30"
      ]
     },
     "execution_count": 15,
     "metadata": {},
     "output_type": "execute_result"
    }
   ],
   "source": [
    "## 전고점대비 최대낙폭(MDD)\n",
    "MDD, HRR = anal_funcs.get_MDD_report(result_df, 'a')\n",
    "MDD"
   ]
  },
  {
   "cell_type": "code",
   "execution_count": 16,
   "metadata": {
    "ExecuteTime": {
     "end_time": "2023-05-15T06:48:54.314855Z",
     "start_time": "2023-05-15T06:48:53.670860Z"
    }
   },
   "outputs": [],
   "source": [
    "## sortino ratio\n",
    "sort_df = anal_funcs.get_Vol_report(test_dfs[0], 'g', unit='monthly', rf=3)\n",
    "## 모든 가능한 시작 시점에 대한 평가\n",
    "temp = ([anal_funcs.get_Vol_report(test_dfs[i], 'g', unit='monthly', rf=3) for i in range(len(test_dfs))])\n",
    "sort_df_simulation = (sum(temp)/len(temp)).round(2)"
   ]
  },
  {
   "cell_type": "code",
   "execution_count": 17,
   "metadata": {},
   "outputs": [
    {
     "data": {
      "text/html": [
       "<div>\n",
       "<style scoped>\n",
       "    .dataframe tbody tr th:only-of-type {\n",
       "        vertical-align: middle;\n",
       "    }\n",
       "\n",
       "    .dataframe tbody tr th {\n",
       "        vertical-align: top;\n",
       "    }\n",
       "\n",
       "    .dataframe thead th {\n",
       "        text-align: right;\n",
       "    }\n",
       "</style>\n",
       "<table border=\"1\" class=\"dataframe\">\n",
       "  <thead>\n",
       "    <tr style=\"text-align: right;\">\n",
       "      <th></th>\n",
       "      <th>Return</th>\n",
       "      <th>Volatility</th>\n",
       "      <th>Volatility(Down)</th>\n",
       "      <th>Residual</th>\n",
       "      <th>Beta</th>\n",
       "      <th>Sharpe_Ratio</th>\n",
       "      <th>Sortino_Ratio</th>\n",
       "      <th>Trainer_Ratio</th>\n",
       "      <th>Jensen_Alpha</th>\n",
       "      <th>Info_Ratio</th>\n",
       "    </tr>\n",
       "    <tr>\n",
       "      <th>Ticker</th>\n",
       "      <th></th>\n",
       "      <th></th>\n",
       "      <th></th>\n",
       "      <th></th>\n",
       "      <th></th>\n",
       "      <th></th>\n",
       "      <th></th>\n",
       "      <th></th>\n",
       "      <th></th>\n",
       "      <th></th>\n",
       "    </tr>\n",
       "  </thead>\n",
       "  <tbody>\n",
       "    <tr>\n",
       "      <th>SPY</th>\n",
       "      <td>6.61</td>\n",
       "      <td>4.56</td>\n",
       "      <td>3.44</td>\n",
       "      <td>0.00</td>\n",
       "      <td>1.00</td>\n",
       "      <td>0.80</td>\n",
       "      <td>1.08</td>\n",
       "      <td>3.61</td>\n",
       "      <td>0.00</td>\n",
       "      <td>NaN</td>\n",
       "    </tr>\n",
       "    <tr>\n",
       "      <th>QQQ</th>\n",
       "      <td>8.24</td>\n",
       "      <td>5.37</td>\n",
       "      <td>3.73</td>\n",
       "      <td>2.16</td>\n",
       "      <td>0.78</td>\n",
       "      <td>0.98</td>\n",
       "      <td>1.44</td>\n",
       "      <td>6.71</td>\n",
       "      <td>2.42</td>\n",
       "      <td>0.75</td>\n",
       "    </tr>\n",
       "    <tr>\n",
       "      <th>VEA</th>\n",
       "      <td>3.50</td>\n",
       "      <td>5.26</td>\n",
       "      <td>3.87</td>\n",
       "      <td>2.36</td>\n",
       "      <td>0.78</td>\n",
       "      <td>0.11</td>\n",
       "      <td>0.17</td>\n",
       "      <td>0.64</td>\n",
       "      <td>-2.30</td>\n",
       "      <td>-1.32</td>\n",
       "    </tr>\n",
       "    <tr>\n",
       "      <th>VWO</th>\n",
       "      <td>2.61</td>\n",
       "      <td>6.00</td>\n",
       "      <td>4.42</td>\n",
       "      <td>3.94</td>\n",
       "      <td>0.57</td>\n",
       "      <td>-0.05</td>\n",
       "      <td>-0.04</td>\n",
       "      <td>-0.68</td>\n",
       "      <td>-2.46</td>\n",
       "      <td>-1.01</td>\n",
       "    </tr>\n",
       "    <tr>\n",
       "      <th>SHY</th>\n",
       "      <td>0.00</td>\n",
       "      <td>0.00</td>\n",
       "      <td>NaN</td>\n",
       "      <td>4.56</td>\n",
       "      <td>NaN</td>\n",
       "      <td>-inf</td>\n",
       "      <td>NaN</td>\n",
       "      <td>NaN</td>\n",
       "      <td>NaN</td>\n",
       "      <td>-1.46</td>\n",
       "    </tr>\n",
       "    <tr>\n",
       "      <th>strategy</th>\n",
       "      <td>4.30</td>\n",
       "      <td>2.93</td>\n",
       "      <td>2.29</td>\n",
       "      <td>4.38</td>\n",
       "      <td>0.59</td>\n",
       "      <td>0.44</td>\n",
       "      <td>0.58</td>\n",
       "      <td>2.19</td>\n",
       "      <td>-0.84</td>\n",
       "      <td>-0.53</td>\n",
       "    </tr>\n",
       "  </tbody>\n",
       "</table>\n",
       "</div>"
      ],
      "text/plain": [
       "          Return  Volatility  Volatility(Down)  Residual  Beta  Sharpe_Ratio  \\\n",
       "Ticker                                                                         \n",
       "SPY         6.61        4.56              3.44      0.00  1.00          0.80   \n",
       "QQQ         8.24        5.37              3.73      2.16  0.78          0.98   \n",
       "VEA         3.50        5.26              3.87      2.36  0.78          0.11   \n",
       "VWO         2.61        6.00              4.42      3.94  0.57         -0.05   \n",
       "SHY         0.00        0.00               NaN      4.56   NaN          -inf   \n",
       "strategy    4.30        2.93              2.29      4.38  0.59          0.44   \n",
       "\n",
       "          Sortino_Ratio  Trainer_Ratio  Jensen_Alpha  Info_Ratio  \n",
       "Ticker                                                            \n",
       "SPY                1.08           3.61          0.00         NaN  \n",
       "QQQ                1.44           6.71          2.42        0.75  \n",
       "VEA                0.17           0.64         -2.30       -1.32  \n",
       "VWO               -0.04          -0.68         -2.46       -1.01  \n",
       "SHY                 NaN            NaN           NaN       -1.46  \n",
       "strategy           0.58           2.19         -0.84       -0.53  "
      ]
     },
     "execution_count": 17,
     "metadata": {},
     "output_type": "execute_result"
    }
   ],
   "source": [
    "sort_df_simulation"
   ]
  },
  {
   "cell_type": "code",
   "execution_count": 18,
   "metadata": {},
   "outputs": [
    {
     "data": {
      "image/png": "[encoded data removed]",
      "text/plain": [
       "<Figure size 1000x600 with 1 Axes>"
      ]
     },
     "metadata": {},
     "output_type": "display_data"
    }
   ],
   "source": [
    "result_df[['SPY', 'QQQ', 'strategy']].plot()\n",
    "plt.yscale('log')"
   ]
  },
  {
   "cell_type": "code",
   "execution_count": 19,
   "metadata": {},
   "outputs": [
    {
     "data": {
      "text/plain": [
       "<Axes: xlabel='Date'>"
      ]
     },
     "execution_count": 19,
     "metadata": {},
     "output_type": "execute_result"
    },
    {
     "data": {
      "image/png": "[encoded data removed]",
      "text/plain": [
       "<Figure size 1000x600 with 1 Axes>"
      ]
     },
     "metadata": {},
     "output_type": "display_data"
    }
   ],
   "source": [
    "HRR[['SPY', 'QQQ', 'strategy']].plot()"
   ]
  },
  {
   "cell_type": "code",
   "execution_count": null,
   "metadata": {},
   "outputs": [],
   "source": []
  },
  {
   "cell_type": "code",
   "execution_count": null,
   "metadata": {},
   "outputs": [],
   "source": []
  },
  {
   "cell_type": "code",
   "execution_count": null,
   "metadata": {},
   "outputs": [],
   "source": []
  }
 ],
 "metadata": {
  "hide_input": false,
  "kernelspec": {
   "display_name": "Python 3 (ipykernel)",
   "language": "python",
   "name": "python3"
  },
  "language_info": {
   "codemirror_mode": {
    "name": "ipython",
    "version": 3
   },
   "file_extension": ".py",
   "mimetype": "text/x-python",
   "name": "python",
   "nbconvert_exporter": "python",
   "pygments_lexer": "ipython3",
   "version": "3.11.9"
  },
  "toc": {
   "base_numbering": 1,
   "nav_menu": {},
   "number_sections": true,
   "sideBar": true,
   "skip_h1_title": false,
   "title_cell": "Table of Contents",
   "title_sidebar": "Contents",
   "toc_cell": false,
   "toc_position": {},
   "toc_section_display": true,
   "toc_window_display": false
  },
  "varInspector": {
   "cols": {
    "lenName": 16,
    "lenType": 16,
    "lenVar": 40
   },
   "kernels_config": {
    "python": {
     "delete_cmd_postfix": "",
     "delete_cmd_prefix": "del ",
     "library": "var_list.py",
     "varRefreshCmd": "print(var_dic_list())"
    },
    "r": {
     "delete_cmd_postfix": ") ",
     "delete_cmd_prefix": "rm(",
     "library": "var_list.r",
     "varRefreshCmd": "cat(var_dic_list()) "
    }
   },
   "types_to_exclude": [
    "module",
    "function",
    "builtin_function_or_method",
    "instance",
    "_Feature"
   ],
   "window_display": false
  }
 },
 "nbformat": 4,
 "nbformat_minor": 4
}
