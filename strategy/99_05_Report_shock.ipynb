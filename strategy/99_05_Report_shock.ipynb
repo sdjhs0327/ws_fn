{
 "cells": [
  {
   "cell_type": "code",
   "execution_count": 1,
   "metadata": {},
   "outputs": [
    {
     "data": {
      "text/html": [
       "        <script type=\"text/javascript\">\n",
       "        window.PlotlyConfig = {MathJaxConfig: 'local'};\n",
       "        if (window.MathJax && window.MathJax.Hub && window.MathJax.Hub.Config) {window.MathJax.Hub.Config({SVG: {font: \"STIX-Web\"}});}\n",
       "        if (typeof require !== 'undefined') {\n",
       "        require.undef(\"plotly\");\n",
       "        requirejs.config({\n",
       "            paths: {\n",
       "                'plotly': ['https://cdn.plot.ly/plotly-2.27.0.min']\n",
       "            }\n",
       "        });\n",
       "        require(['plotly'], function(Plotly) {\n",
       "            window._Plotly = Plotly;\n",
       "        });\n",
       "        }\n",
       "        </script>\n",
       "        "
      ]
     },
     "metadata": {},
     "output_type": "display_data"
    }
   ],
   "source": [
    "import pandas as pd\n",
    "import warnings\n",
    "warnings.filterwarnings('ignore')\n",
    "import numpy as np\n",
    "import datetime as dt\n",
    "\n",
    "# 시각화 관련\n",
    "import plotly_express as px\n",
    "import plotly.figure_factory as ff\n",
    "import cufflinks as cf\n",
    "cf.go_offline(connected=True)\n",
    "## cf.getThemes()\n",
    "cf.set_config_file(theme='polar')\n",
    "import plotly.graph_objects as go\n",
    "\n",
    "from matplotlib.colors import LinearSegmentedColormap\n",
    "from matplotlib.ticker import FuncFormatter\n",
    "import matplotlib.ticker as mticker\n",
    "from matplotlib.ticker import LogLocator\n",
    "import matplotlib.pyplot as plt\n",
    "import seaborn as sns\n",
    "%matplotlib inline\n",
    "sns.set_style('whitegrid')\n",
    "## plt.style.use(\"fivethirtyeight\")\n",
    "plt.rcParams['font.family'] = 'Malgun Gothic'\n",
    "plt.rcParams['axes.unicode_minus'] = False\n",
    "plt.rcParams[\"figure.figsize\"] = (10,6)\n",
    "\n",
    "\n",
    "## 퀀트함수\n",
    "from quant_functions import anal_funcs, data_funcs\n",
    "import myfuncs\n",
    "from fredapi import Fred\n",
    "fred = Fred(api_key='cfb4f49f5c1a9396f671b8049d992e56')"
   ]
  },
  {
   "cell_type": "code",
   "execution_count": 2,
   "metadata": {},
   "outputs": [],
   "source": [
    "## 색 설정\n",
    "color_basic = \"#323232\" # 기본색(글자색)\n",
    "color_around = \"#6E6E6E\" # 회색 주변색\n",
    "color_around2 = \"#E0E0E0\" # 밝은 회색 주변색\n",
    "\n",
    "color_norm = \"#F23557\" # 강조색(진홍색)\n",
    "color_norm2 = \"#A60A28\" # 강조색 어두움(적갈색)\n",
    "color_norm3 = \"#F9A5B5\" # 강조색 밝음(연분홍색)\n",
    "\n",
    "color_cont = \"#22b2da\" # 대비색(청록색)\n",
    "color_cont2 = \"#146A82\" # 대비색 어두움(진청록색)\n",
    "color_cont3 = \"#76D1EA\" # 대비색 밝음(밝은 청록색)\n",
    "\n",
    "color_sub = \"#FFA305\" # 부강조색(노란색)\n",
    "color_sub2 = \"#9C6400\" # 부강조색 어두움(갈색)\n",
    "color_sub3 = \"#FFCB6D\" # 부강조색 밝음(연한 노란색)\n",
    "\n",
    "## figure size 설정\n",
    "figsize=(12, 8)"
   ]
  },
  {
   "cell_type": "code",
   "execution_count": 3,
   "metadata": {},
   "outputs": [],
   "source": [
    "# 블루 - 퍼플 테마\n",
    "colors = [color_cont, color_cont2, color_cont3]\n",
    "# LinearSegmentedColormap 생성\n",
    "custom_cmap = LinearSegmentedColormap.from_list(\"custom_cmap\", colors, N=256)"
   ]
  },
  {
   "cell_type": "markdown",
   "metadata": {},
   "source": [
    "#### Data"
   ]
  },
  {
   "cell_type": "code",
   "execution_count": 4,
   "metadata": {},
   "outputs": [
    {
     "name": "stderr",
     "output_type": "stream",
     "text": [
      "[*********************100%%**********************]  6 of 6 completed\n"
     ]
    }
   ],
   "source": [
    "dm_path = \"C:/Users/sdjhs/git/data/DM\"\n",
    "## gold = pd.read_csv(f\"{dm_path}/gold.csv\", encoding='utf-8').set_index('Date')[['Close']].rename(columns={'Close':'Gold'})\n",
    "gold = pd.read_csv(f\"gold.csv\", encoding='utf-8').set_index('Date')[['Close']].rename(columns={'Close':'Gold'})\n",
    "gold.index = pd.to_datetime(gold.index)\n",
    "\n",
    "df_ori = data_funcs.get_merged_df('^IXIC', '^GSPC', 'SCHD', 'GC=F', 'TLT', '^DJI')\n",
    "DGS20 = fred.get_series('DGS20')\n",
    "DGS10 = fred.get_series('DGS10')\n",
    "df_ori = df_ori.fillna(method = 'pad')\n",
    "df_ori['Gold'] = gold['Gold']\n",
    "df_ori['DGS10'] = DGS10\n",
    "df_ori['DGS20'] = DGS20\n",
    "\n",
    "df_ori = df_ori[['SCHD', '^GSPC', '^DJI', '^IXIC', 'TLT', 'DGS10', 'DGS20', 'Gold', 'GC=F']]\n",
    "df_ori.columns = ['SCHD', 'S&P500', 'DowJones', 'NASDAQ', 'TLT', 'DGS10', 'DGS20', 'Gold', 'GC=F']"
   ]
  },
  {
   "cell_type": "code",
   "execution_count": 5,
   "metadata": {},
   "outputs": [
    {
     "name": "stdout",
     "output_type": "stream",
     "text": [
      "0.919059677334056\n",
      "0.8917614058452233\n",
      "0.7565978823514551\n",
      "-0.41908986077307586\n",
      "0.9953455805075565\n"
     ]
    }
   ],
   "source": [
    "## Imputation\n",
    "df_imputed = myfuncs.imputation(df_ori, 'S&P500', 'DowJones')\n",
    "df_imputed = myfuncs.imputation(df_imputed, 'DowJones', 'SCHD')\n",
    "df_imputed = myfuncs.imputation(df_imputed, 'DGS10', 'DGS20')\n",
    "df_imputed = myfuncs.imputation(df_imputed, 'DGS20', 'TLT')\n",
    "df_imputed = myfuncs.imputation(df_imputed, 'GC=F', 'Gold')\n",
    "dataset = df_imputed['1970':][['SCHD', 'S&P500', 'TLT', 'Gold']]\n",
    "dataset = dataset.fillna(method='pad')\n",
    "dataset['Gold'][:gold.index[0]] = np.nan\n",
    "dataset['Gold']['1975-01-02'] = 1\n",
    "dataset['Gold']['1975-01-03'] = 1"
   ]
  },
  {
   "cell_type": "code",
   "execution_count": 6,
   "metadata": {},
   "outputs": [],
   "source": [
    "shock_dict = {\"세계전충격_t0\":'1948-11-01', \"세계전충격_t1\":'1949-10-28',\n",
    "              \"한국전충격_t0\":'1953-07-01', \"한국전충격_t1\":'1954-05-28',\n",
    "              \"아이젠하워리세션_t0\":'1957-08-01', \"아이젠하워리세션_t1\":'1958-04-28',\n",
    "              \"연착륙_t0\":'1960-04-01', \"연착륙_t1\":'1961-02-28',\n",
    "              \"달러위기_t0\":'1969-12-01', \"달러위기_t1\":'1970-10-29',\n",
    "              \"1차오일쇼크_t0\":'1973-11-05', \"1차오일쇼크_t1\":'1975-03-03',\n",
    "              \"2차오일쇼크_t0\":'1980-01-02', \"2차오일쇼크_t1\":'1980-07-02',\n",
    "              \"물가충격_t0\":'1981-07-01', \"물가충격_t1\":'1982-11-03',\n",
    "              \"걸프전_t0\":'1990-07-05', \"걸프전_t1\":'1991-03-01',\n",
    "              \"닷컴버블_t0\":'2001-03-02', \"닷컴버블_t1\":'2001-11-02',\n",
    "              \"금융위기_t0\":'2007-12-04', \"금융위기_t1\":'2009-06-01',\n",
    "              \"코로나_t0\":'2020-01-31', \"코로나_t1\":'2020-04-03'}"
   ]
  },
  {
   "cell_type": "code",
   "execution_count": 7,
   "metadata": {},
   "outputs": [],
   "source": [
    "assets = ['S&P500', 'TLT', 'Gold']"
   ]
  },
  {
   "cell_type": "code",
   "execution_count": 8,
   "metadata": {},
   "outputs": [],
   "source": [
    "df = dataset[assets].copy()\n",
    "df_1_0 = df[:'1984-12-31']\n",
    "df_1_0 = df_1_0/df_1_0.iloc[0] * 100\n",
    "## 1975년 이전 과거 금시세 참고\n",
    "## https://www.macrotrends.net/1333/historical-gold-prices-100-year-chart\n",
    "\n",
    "df = dataset[assets]['1975-01-02':].copy()\n",
    "df = df/df.iloc[0] * 100\n",
    "df_1 = df[:'1984-12-31']\n",
    "df_1 = df_1/df_1.iloc[0] * 100\n",
    "df_2 = df['1985-1-1':'1994-12-31']\n",
    "df_2 = df_2/df_2.iloc[0] * 100\n",
    "df_3 = df['1995-1-1':'2004-12-31']\n",
    "df_3 = df_3/df_3.iloc[0] * 100\n",
    "df_4 = df['2005-1-1':'2014-12-31']\n",
    "df_4 = df_4/df_4.iloc[0] * 100\n",
    "df_5 = df['2015-1-1':]\n",
    "df_5 = df_5/df_5.iloc[0] * 100"
   ]
  },
  {
   "cell_type": "code",
   "execution_count": 9,
   "metadata": {},
   "outputs": [],
   "source": [
    "#### Anualized Return"
   ]
  },
  {
   "cell_type": "code",
   "execution_count": 10,
   "metadata": {},
   "outputs": [],
   "source": [
    "## AGR 그래프\n",
    "def agr_plot(df):\n",
    "    data = df.copy()\n",
    "    ## 연간 수익률 계산\n",
    "    data = myfuncs.calc_agr(data)\n",
    "    ## 채권수익률 데이터 추가\n",
    "    temp = df_imputed[['DGS10']].fillna(method='pad').copy()\n",
    "    temp['year'] = temp.index.year\n",
    "    temp = temp.groupby('year')[['DGS10']].mean()\n",
    "    data['GS10'] = temp['DGS10'].copy()\n",
    "    data = data[['GS10', 'S&P500']].rename(columns={'S&P500':'return'}).dropna()\n",
    "    data['return'] = data['return'] * 100\n",
    "    data.index = pd.to_datetime(data.index, format='%Y')\n",
    "\n",
    "    fig, ax1 = plt.subplots(figsize=figsize)\n",
    "\n",
    "    # GS10 데이터만 그리기\n",
    "    ax1.plot(data.index, data['GS10'], color=color_cont3, label=\"GS10\")\n",
    "    ax1.set_xlabel(\"\")\n",
    "    ax1.set_ylabel(\"Yield\", fontsize=14, fontweight=\"bold\", color=color_around)\n",
    "    ax1.set_ylim([-20, 20])\n",
    "    ax1.set_xlim([min(data.index) - dt.timedelta(days=200),\n",
    "            max(data.index) + dt.timedelta(days=200)])\n",
    "\n",
    "    plt.gca().yaxis.set_major_formatter(FuncFormatter(myfuncs.percent_formatter))\n",
    "    plt.gca().tick_params(axis=\"y\", pad=1)  # Y축 눈금 패딩 조정\n",
    "    plt.grid(color=color_around2, linestyle=\"--\", linewidth=0.7, alpha=0.7)\n",
    "\n",
    "    # Return 데이터를 bar로 그리기\n",
    "    ax2 = ax1.twinx()\n",
    "    performance_plus = data['return'][data['return'] >= 0]\n",
    "    ax2.bar(performance_plus.index, performance_plus,\n",
    "            color=color_norm, alpha=1, width=150, label=\"Growth(positive)\")\n",
    "    performance_minus = data['return'][data['return'] < 0]\n",
    "    ax2.bar(performance_minus.index, performance_minus,\n",
    "            color=color_cont, alpha=1, width=150, label=\"Growth(negative)\")\n",
    "    ax2.axhline(0, color=color_around, linestyle='--', linewidth=2)\n",
    "    ax2.set_ylabel(\"Growth\", fontsize=14, fontweight=\"bold\", color=color_around)\n",
    "    ax2.set_ylim([-60, 100])\n",
    "\n",
    "    plt.gca().yaxis.set_major_formatter(FuncFormatter(myfuncs.percent_formatter))\n",
    "    plt.gca().tick_params(axis=\"y\", pad=1)  # Y축 눈금 패딩 조정\n",
    "    plt.grid(color=color_around2, linestyle=\"--\", linewidth=0.7, alpha=0.7)\n",
    "\n",
    "    plt.title(f\"Annual Growth Rate ({data.index.year[0]}~{data.index.year[-1]})\", fontsize=22, fontweight='bold', color=color_basic)\n",
    "    handler1, label1 = ax1.get_legend_handles_labels()\n",
    "    handler2, label2 = ax2.get_legend_handles_labels()\n",
    "    ax2.legend(handler1 + handler2, label1 + label2, loc=2, borderaxespad=0.)\n",
    "\n",
    "    ## 경기침체\n",
    "    ax1.axvspan(shock_dict['1차오일쇼크_t0'], shock_dict['1차오일쇼크_t1'], facecolor=color_around, alpha=0.45)\n",
    "    ax1.axvspan(shock_dict['2차오일쇼크_t0'], shock_dict['2차오일쇼크_t1'], facecolor=color_around, alpha=0.45)\n",
    "    ax1.axvspan(shock_dict['물가충격_t0'], shock_dict['물가충격_t1'], facecolor=color_around, alpha=0.45)\n",
    "    ax1.axvspan(shock_dict['걸프전_t0'], shock_dict['걸프전_t1'], facecolor=color_around, alpha=0.45)\n",
    "    ax1.axvspan(shock_dict['닷컴버블_t0'], shock_dict['닷컴버블_t1'], facecolor=color_around, alpha=0.45)\n",
    "    ax1.axvspan(shock_dict['금융위기_t0'], shock_dict['금융위기_t1'], facecolor=color_around, alpha=0.45)\n",
    "    ax1.axvspan(shock_dict['코로나_t0'], shock_dict['코로나_t1'], facecolor=color_around, alpha=0.45)\n",
    "\n",
    "    plt.tight_layout()\n",
    "    plt.show()"
   ]
  },
  {
   "cell_type": "code",
   "execution_count": 13,
   "metadata": {},
   "outputs": [],
   "source": [
    "## agr_plot(df_1)"
   ]
  },
  {
   "cell_type": "code",
   "execution_count": 14,
   "metadata": {},
   "outputs": [],
   "source": [
    "#### Trend"
   ]
  },
  {
   "cell_type": "code",
   "execution_count": 15,
   "metadata": {},
   "outputs": [],
   "source": [
    "## 트랜드 그래프\n",
    "def trend_plot(df):\n",
    "    data = df[assets].copy()\n",
    "    _df = data.reset_index()\n",
    "    _df = _df.melt(id_vars='Date', value_vars=_df.columns, var_name='Ticker', value_name='Value')\n",
    "\n",
    "    colors = [color_norm, color_cont, color_sub]\n",
    "    lineplot = sns.lineplot(data=_df, x='Date', y='Value', hue='Ticker', palette=colors, linestyle='-', linewidth=1)\n",
    "    plt.title(f'Trends of {\", \".join(assets)} ({data.index[0].year}~{data.index[-1].year})', fontsize=22, fontweight='bold', color=color_basic)\n",
    "    plt.ylabel(f\"{data.index[0].year}Y=100\", fontsize=14, labelpad=-40, fontweight=\"bold\", color=color_around, loc=\"top\", rotation=0)\n",
    "    plt.xlabel(\"\")\n",
    "    plt.xticks(fontsize=12, color=color_around)\n",
    "    plt.yticks(fontsize=12, color=color_around)\n",
    "\n",
    "    # 눈금과 축 간격 줄이기\n",
    "    plt.gca().tick_params(axis=\"y\", pad=1)  # Y축 눈금 패딩 조정\n",
    "\n",
    "    # 그리드 추가\n",
    "    plt.grid(color=color_around2, linestyle=\"--\", linewidth=0.7, alpha=0.7)\n",
    "\n",
    "    x_min, x_max = data.index.min(), data.index.max()\n",
    "    # 강조할 기간 목록\n",
    "    highlight_periods = [\n",
    "        ('1980-01-02', '1980-07-02'),\n",
    "        ('1981-07-01', '1982-11-03'),\n",
    "        ('1990-07-05', '1991-03-01'),\n",
    "        ('2001-03-02', '2001-11-02'),\n",
    "        ('2007-12-04', '2009-06-01'),\n",
    "        ('2020-01-31', '2020-04-03')\n",
    "    ]\n",
    "\n",
    "    for start, end in highlight_periods:\n",
    "        # datetime으로 변환\n",
    "        start_date = pd.to_datetime(start)\n",
    "        end_date = pd.to_datetime(end)\n",
    "        \n",
    "        # x축 범위와 비교하여 범위를 조정\n",
    "        if start_date > x_max or end_date < x_min:\n",
    "            continue  # x축 범위를 벗어나면 건너뜀\n",
    "        adjusted_start = max(start_date, x_min)\n",
    "        adjusted_end = min(end_date, x_max)\n",
    "        plt.axvspan(adjusted_start, adjusted_end, facecolor=color_around, alpha=0.45)\n",
    "\n",
    "    # 그래프 표시\n",
    "    plt.tight_layout()\n",
    "    plt.show()"
   ]
  },
  {
   "cell_type": "code",
   "execution_count": 17,
   "metadata": {},
   "outputs": [],
   "source": [
    "## trend_plot(df_1)"
   ]
  },
  {
   "cell_type": "code",
   "execution_count": 18,
   "metadata": {},
   "outputs": [],
   "source": [
    "#### MDD"
   ]
  },
  {
   "cell_type": "code",
   "execution_count": 23,
   "metadata": {},
   "outputs": [],
   "source": [
    "## 전고점대비 최대낙폭(MDD)\n",
    "def mdd_plot(df):\n",
    "    mdd_df, hrr_df = anal_funcs.get_MDD_report(df_1, 'a')\n",
    "    hrr_df = hrr_df*100\n",
    "\n",
    "    data = hrr_df.copy()\n",
    "\n",
    "    colors = [color_norm, color_cont, color_sub]  # 각 그래프에 사용할 색상\n",
    "    colors_edge = [color_norm2, color_cont2, color_sub2]  # 각 그래프에 사용할 색상\n",
    "    # 서브플롯 생성\n",
    "    fig, axes = plt.subplots(1, len(assets), figsize=(12, 4), sharey=True)  # 가로 방향 서브플롯\n",
    "\n",
    "    for i, asset in enumerate(assets):\n",
    "        # 데이터 전처리\n",
    "        _df = data[[asset]].dropna().reset_index()\n",
    "        _df = _df.melt(id_vars='Date', value_vars=_df.columns, var_name='Ticker', value_name='Value')\n",
    "\n",
    "        # 현재 서브플롯 선택\n",
    "        ax = axes[i]\n",
    "        \n",
    "        # 라인 플롯\n",
    "        sns.lineplot(data=_df, x='Date', y='Value', hue='Ticker', palette=[colors[i]], linestyle='-', linewidth=1, ax=ax)\n",
    "        \n",
    "        # 제목 및 축 설정\n",
    "        ax.set_title(f'Drawdown of {asset} ({data.index[0].year}~{data.index[-1].year})', fontsize=14, fontweight='bold', color=color_basic)\n",
    "        ax.set_ylabel(\"MDD\", fontsize=12, labelpad=-20, fontweight=\"bold\", color=color_around, rotation=0, loc=\"top\")\n",
    "        ax.set_xlabel(\"\")\n",
    "        ax.tick_params(axis=\"x\", labelsize=10, colors=color_around)\n",
    "        ax.tick_params(axis=\"y\", labelsize=10, colors=color_around)\n",
    "        \n",
    "        # y축에 퍼센트 포맷 적용\n",
    "        ax.yaxis.set_major_formatter(FuncFormatter(myfuncs.percent_formatter))\n",
    "        \n",
    "        # 그리드 추가\n",
    "        ax.grid(color=color_around2, linestyle=\"--\", linewidth=0.7, alpha=0.7)\n",
    "        \n",
    "        # mdd 지점\n",
    "        ax.scatter(hrr_df[asset].idxmin(), hrr_df[asset].min(), color=colors_edge[i], s=50, zorder=5)\n",
    "        print(hrr_df[asset].idxmin(), hrr_df[asset].min())\n",
    "        \n",
    "        # 강조 영역 추가\n",
    "        highlight_periods = [\n",
    "            ('1980-01-02', '1980-07-02'),\n",
    "            ('1981-07-01', '1982-11-03'),\n",
    "            ('1990-07-05', '1991-03-01'),\n",
    "            ('2001-03-02', '2001-11-02'),\n",
    "            ('2007-12-04', '2009-06-01'),\n",
    "            ('2020-01-31', '2020-04-03')\n",
    "        ]\n",
    "        for start, end in highlight_periods:\n",
    "            start_date = pd.to_datetime(start)\n",
    "            end_date = pd.to_datetime(end)\n",
    "            if start_date > _df['Date'].max() or end_date < _df['Date'].min():\n",
    "                continue\n",
    "            adjusted_start = max(start_date, _df['Date'].min())\n",
    "            adjusted_end = min(end_date, _df['Date'].max())\n",
    "            ax.axvspan(adjusted_start, adjusted_end, facecolor=color_around, alpha=0.45)\n",
    "\n",
    "    # 레이아웃 조정 및 표시\n",
    "    plt.tight_layout()\n",
    "    plt.show()"
   ]
  },
  {
   "cell_type": "code",
   "execution_count": 22,
   "metadata": {},
   "outputs": [],
   "source": [
    "## mdd_plot(df_1)"
   ]
  },
  {
   "cell_type": "code",
   "execution_count": null,
   "metadata": {},
   "outputs": [],
   "source": [
    "#### Rolling-Return Trend"
   ]
  },
  {
   "cell_type": "code",
   "execution_count": null,
   "metadata": {},
   "outputs": [],
   "source": []
  },
  {
   "cell_type": "code",
   "execution_count": null,
   "metadata": {},
   "outputs": [],
   "source": []
  },
  {
   "cell_type": "code",
   "execution_count": null,
   "metadata": {},
   "outputs": [],
   "source": []
  },
  {
   "cell_type": "code",
   "execution_count": null,
   "metadata": {},
   "outputs": [],
   "source": []
  },
  {
   "cell_type": "code",
   "execution_count": null,
   "metadata": {},
   "outputs": [],
   "source": [
    "#### Rolling-Return Valiation"
   ]
  },
  {
   "cell_type": "code",
   "execution_count": null,
   "metadata": {},
   "outputs": [],
   "source": []
  },
  {
   "cell_type": "code",
   "execution_count": null,
   "metadata": {},
   "outputs": [],
   "source": []
  }
 ],
 "metadata": {
  "kernelspec": {
   "display_name": ".venv",
   "language": "python",
   "name": "python3"
  },
  "language_info": {
   "codemirror_mode": {
    "name": "ipython",
    "version": 3
   },
   "file_extension": ".py",
   "mimetype": "text/x-python",
   "name": "python",
   "nbconvert_exporter": "python",
   "pygments_lexer": "ipython3",
   "version": "3.11.9"
  }
 },
 "nbformat": 4,
 "nbformat_minor": 2
}
