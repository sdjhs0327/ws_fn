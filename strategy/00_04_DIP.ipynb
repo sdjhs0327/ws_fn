{
 "cells": [
  {
   "cell_type": "code",
   "execution_count": 1,
   "metadata": {},
   "outputs": [],
   "source": [
    "## Momentum(MA) & Overreact(RSI)"
   ]
  },
  {
   "cell_type": "code",
   "execution_count": 2,
   "metadata": {
    "ExecuteTime": {
     "end_time": "2023-02-17T03:06:53.252721Z",
     "start_time": "2023-02-17T03:06:52.787221Z"
    }
   },
   "outputs": [
    {
     "data": {
      "text/html": [
       "        <script type=\"text/javascript\">\n",
       "        window.PlotlyConfig = {MathJaxConfig: 'local'};\n",
       "        if (window.MathJax && window.MathJax.Hub && window.MathJax.Hub.Config) {window.MathJax.Hub.Config({SVG: {font: \"STIX-Web\"}});}\n",
       "        if (typeof require !== 'undefined') {\n",
       "        require.undef(\"plotly\");\n",
       "        requirejs.config({\n",
       "            paths: {\n",
       "                'plotly': ['https://cdn.plot.ly/plotly-2.12.1.min']\n",
       "            }\n",
       "        });\n",
       "        require(['plotly'], function(Plotly) {\n",
       "            window._Plotly = Plotly;\n",
       "        });\n",
       "        }\n",
       "        </script>\n",
       "        "
      ]
     },
     "metadata": {},
     "output_type": "display_data"
    }
   ],
   "source": [
    "import pandas as pd\n",
    "import warnings\n",
    "warnings.filterwarnings('ignore')\n",
    "import numpy as np\n",
    "import datetime as dt\n",
    "import math\n",
    "\n",
    "# 시각화 관련\n",
    "import plotly_express as px\n",
    "import plotly.figure_factory as ff\n",
    "import cufflinks as cf\n",
    "cf.go_offline(connected=True)\n",
    "## cf.getThemes()\n",
    "cf.set_config_file(theme='polar')\n",
    "import plotly.graph_objects as go\n",
    "%matplotlib inline\n",
    "import matplotlib.pyplot as plt\n",
    "import seaborn as sns\n",
    "sns.set_style('whitegrid')\n",
    "## plt.style.use(\"fivethirtyeight\")\n",
    "plt.rcParams['font.family'] = 'Malgun Gothic'\n",
    "plt.rcParams['axes.unicode_minus'] = False\n",
    "plt.rcParams[\"figure.figsize\"] = (10,6)\n",
    "\n",
    "\n",
    "## 퀀트함수 ## 절대경로 참조\n",
    "import sys, os\n",
    "sys.path.append(os.path.dirname(os.path.abspath(os.path.dirname('__file__'))))\n",
    "from library.quant_functions import anal_funcs, data_funcs"
   ]
  },
  {
   "attachments": {},
   "cell_type": "markdown",
   "metadata": {},
   "source": [
    "## Func"
   ]
  },
  {
   "cell_type": "code",
   "execution_count": 3,
   "metadata": {
    "ExecuteTime": {
     "end_time": "2023-02-17T03:06:55.035573Z",
     "start_time": "2023-02-17T03:06:55.017424Z"
    }
   },
   "outputs": [],
   "source": [
    "# 빈도로 상대적강도지수를 산출하는 함수\n",
    "def get_rsi(df, t=14):\n",
    "    temp_df = df.diff()\n",
    "    rsi_df = pd.DataFrame(columns=temp_df.columns, index=temp_df.index)\n",
    "    for j in range(len(temp_df.columns)):\n",
    "\n",
    "        rsi_ls = []\n",
    "        for i in range(1, len(temp_df)+1):\n",
    "            temp = temp_df[temp_df.columns[j]][i-t:i]\n",
    "            pi = ((temp + abs(temp))/2).mean()\n",
    "            nd = abs(((temp - abs(temp))/2).mean())\n",
    "            if nd == 0:\n",
    "                rs = np.inf\n",
    "            else:\n",
    "                rs = pi/nd\n",
    "\n",
    "            rsi = 100 - 100/(1+rs)\n",
    "\n",
    "            rsi_ls.append(rsi)\n",
    "        rsi_df[rsi_df.columns[j]] = rsi_ls\n",
    "    return rsi_df"
   ]
  },
  {
   "attachments": {},
   "cell_type": "markdown",
   "metadata": {},
   "source": [
    "## Data"
   ]
  },
  {
   "cell_type": "code",
   "execution_count": 4,
   "metadata": {
    "ExecuteTime": {
     "end_time": "2023-02-17T03:06:57.073980Z",
     "start_time": "2023-02-17T03:06:55.761091Z"
    }
   },
   "outputs": [
    {
     "name": "stdout",
     "output_type": "stream",
     "text": [
      "[*********************100%***********************]  2 of 2 completed\n"
     ]
    }
   ],
   "source": [
    "Ticker = 'QQQ'\n",
    "Ticker_bm = 'TLT'\n",
    "\n",
    "df = data_funcs.get_merged_df(Ticker, Ticker_bm).dropna()\n",
    "df_ori = df[[Ticker]]\n",
    "df_bm = df[[Ticker_bm]]"
   ]
  },
  {
   "attachments": {},
   "cell_type": "markdown",
   "metadata": {},
   "source": [
    "## Opt"
   ]
  },
  {
   "cell_type": "code",
   "execution_count": 5,
   "metadata": {
    "ExecuteTime": {
     "end_time": "2023-02-17T03:10:07.424292Z",
     "start_time": "2023-02-17T03:06:57.801602Z"
    }
   },
   "outputs": [],
   "source": [
    "opt_dict = []\n",
    "for r_seed in range(1,7):\n",
    "    r = 0.01 * r_seed\n",
    "    \n",
    "    ## dataset = df_ori.copy()\n",
    "    dataset = df_ori[:-250*5].copy()\n",
    "\n",
    "    dataset['RSI'] = get_rsi(dataset[[Ticker]])\n",
    "    dataset['M20'] = dataset[Ticker].rolling(20).mean()\n",
    "    dataset['M60'] = dataset[Ticker].rolling(60).mean()\n",
    "    dataset['M120'] = dataset[Ticker].rolling(120).mean()\n",
    "    dataset = dataset.dropna()\n",
    "\n",
    "    dataset['temp'] = dataset[Ticker] - dataset['M20']\n",
    "    dataset['temp'] = (dataset['temp'] >= 0)\n",
    "    dataset['T20'] = 0\n",
    "    dataset['T20'][dataset['temp'] != dataset['temp'].shift(1)] = 1\n",
    "\n",
    "    dataset['temp'] = dataset[Ticker] - dataset['M60']\n",
    "    dataset['temp'] = (dataset['temp'] >= 0)\n",
    "    dataset['T60'] = 0\n",
    "    dataset['T60'][dataset['temp'] != dataset['temp'].shift(1)] = 1\n",
    "\n",
    "    dataset['temp'] = dataset[Ticker] - dataset['M120']\n",
    "    dataset['temp'] = (dataset['temp'] >= 0)\n",
    "    dataset['T120'] = 0\n",
    "    dataset['T120'][dataset['temp'] != dataset['temp'].shift(1)] = 1\n",
    "\n",
    "    dataset['TRSI'] = 0\n",
    "    dataset['TRSI'][(dataset['RSI'] < 35)&(dataset[Ticker] <= dataset['T120'])] = 1\n",
    "\n",
    "    dataset = dataset[1:]\n",
    "\n",
    "    dataset['T20_ratio'] = 0\n",
    "    dataset['T20_ratio'][dataset['T20'] == 1] = r\n",
    "    dataset['T20_ratio'][dataset['T20'].shift(1) == 1] = r\n",
    "\n",
    "    dataset['T60_ratio'] = 0\n",
    "    dataset['T60_ratio'][dataset['T60'] == 1] = r\n",
    "    dataset['T60_ratio'][dataset['T60'].shift(1) == 1] = r\n",
    "    dataset['T60_ratio'][dataset['T60'].shift(2) == 1] = r\n",
    "\n",
    "    dataset['T120_ratio'] = 0\n",
    "    dataset['T120_ratio'][dataset['T120'] == 1] = r\n",
    "    dataset['T120_ratio'][dataset['T120'].shift(1) == 1] = r\n",
    "    dataset['T120_ratio'][dataset['T120'].shift(2) == 1] = r\n",
    "    dataset['T120_ratio'][dataset['T120'].shift(3) == 1] = r\n",
    "    dataset['T120_ratio'][dataset['T120'].shift(4) == 1] = r\n",
    "\n",
    "    dataset['TRSI_ratio'] = 0\n",
    "    dataset['TRSI_ratio'][dataset['TRSI'] == 1] = r*2\n",
    "    dataset['TRSI_ratio'][dataset['TRSI'].shift(1) == 1] = r*2\n",
    "    dataset['TRSI_ratio'][dataset['TRSI'].shift(2) == 1] = r*2\n",
    "    dataset['TRSI_ratio'][dataset['TRSI'].shift(3) == 1] = r*2\n",
    "    dataset['TRSI_ratio'][dataset['TRSI'].shift(4) == 1] = r*2\n",
    "\n",
    "    dataset['ratio'] = (dataset['T20_ratio'] + dataset['T60_ratio'] + dataset['T120_ratio'] + dataset['TRSI_ratio'])\n",
    "    \n",
    "    for rsi in range(75, 95):\n",
    "        ## 누적 매입하고 RSI가 임계치 이상이면, 리셋\n",
    "        target_df = dataset.copy()\n",
    "\n",
    "        target_df['T_sell'] = 0\n",
    "        target_df['T_sell'][target_df['RSI'] >= rsi] = 1\n",
    "\n",
    "        target_df['cum_ratio'] = target_df['ratio'].cumsum()\n",
    "        for i in target_df[target_df['T_sell'] == 1].index:\n",
    "            target_df['cum_ratio'][target_df.index >= i] = target_df['ratio'][target_df.index >= i].cumsum()\n",
    "        target_df['cum_ratio'][target_df['cum_ratio'] >= 1] = 1\n",
    "        target_df['ratio'][target_df['cum_ratio'] >= 1] = 0\n",
    "\n",
    "        ## 활용 데이터만 남김\n",
    "        ratio_df = target_df[[Ticker, 'cum_ratio', 'ratio', 'T_sell']].copy()\n",
    "        ratio_df[Ticker_bm] = df_bm[Ticker_bm].copy()\n",
    "        ratio_df['CASH'] = 1\n",
    "\n",
    "        ## 누적자산가치 계산\n",
    "        ## 자산 투자 비중 변동시 데이터 프레임 분할\n",
    "        date_idx = ratio_df[ratio_df['cum_ratio'] != ratio_df['cum_ratio'].shift()].index\n",
    "        df_dict = []\n",
    "        for i in range(len(date_idx)-1):\n",
    "            temp_df = ratio_df[(ratio_df.index >= date_idx[i])&(ratio_df.index <= date_idx[i+1])]\n",
    "            df_dict.append(temp_df)\n",
    "        df_dict.append(ratio_df[(ratio_df.index >= date_idx[-1])])\n",
    "\n",
    "        ## 누적자산가치 계산\n",
    "        prev_val = 1\n",
    "        temp_series = pd.Series()\n",
    "        ## test_dict = []\n",
    "        ## test_dict2 = []\n",
    "        ## test_dict3 = []\n",
    "        for i in range(len(df_dict)):    \n",
    "            temp = df_dict[i][[Ticker, Ticker_bm]]/np.array(df_dict[i][[Ticker, Ticker_bm]])[0]\n",
    "            ratio = ((df_dict[i]['cum_ratio'][0], 1 - df_dict[i]['cum_ratio'][0]))\n",
    "            temp_ = (temp * ratio).sum(axis=1)*prev_val    \n",
    "            ## test_dict.append(temp)\n",
    "            ## test_dict2.append(prev_val)\n",
    "            prev_val = temp_[-1]   \n",
    "            ## test_dict3.append(prev_val)    \n",
    "            temp_series = temp_series.append(temp_[1:])\n",
    "\n",
    "\n",
    "        res_df = ratio_df.copy()\n",
    "\n",
    "        res_df['strategy'] = temp_series\n",
    "        res_df['strategy'][0] = 1\n",
    "\n",
    "        ## sortino ratio\n",
    "        eval_res = anal_funcs.get_Vol_report(res_df[[Ticker, Ticker_bm, 'strategy']], 'a', unit='daily')\n",
    "        opt_dict.append((r, rsi, eval_res['Sortino_Ratio'][2], eval_res['Return'][2]))\n",
    "    \n",
    "opt_df = pd.DataFrame(opt_dict, columns=['Ratio', 'RSI', 'SR', 'YRR'])"
   ]
  },
  {
   "cell_type": "code",
   "execution_count": 6,
   "metadata": {
    "ExecuteTime": {
     "end_time": "2023-02-17T03:10:07.439313Z",
     "start_time": "2023-02-17T03:10:07.426342Z"
    }
   },
   "outputs": [],
   "source": [
    "opt_df_5 = opt_df[opt_df['YRR'] >= 0.2]"
   ]
  },
  {
   "cell_type": "code",
   "execution_count": 8,
   "metadata": {
    "ExecuteTime": {
     "end_time": "2023-02-17T03:10:38.936218Z",
     "start_time": "2023-02-17T03:10:38.923191Z"
    }
   },
   "outputs": [
    {
     "data": {
      "text/html": [
       "<div>\n",
       "<style scoped>\n",
       "    .dataframe tbody tr th:only-of-type {\n",
       "        vertical-align: middle;\n",
       "    }\n",
       "\n",
       "    .dataframe tbody tr th {\n",
       "        vertical-align: top;\n",
       "    }\n",
       "\n",
       "    .dataframe thead th {\n",
       "        text-align: right;\n",
       "    }\n",
       "</style>\n",
       "<table border=\"1\" class=\"dataframe\">\n",
       "  <thead>\n",
       "    <tr style=\"text-align: right;\">\n",
       "      <th></th>\n",
       "      <th>Ratio</th>\n",
       "      <th>RSI</th>\n",
       "      <th>SR</th>\n",
       "      <th>YRR</th>\n",
       "    </tr>\n",
       "  </thead>\n",
       "  <tbody>\n",
       "    <tr>\n",
       "      <th>104</th>\n",
       "      <td>0.06</td>\n",
       "      <td>79</td>\n",
       "      <td>4.28</td>\n",
       "      <td>15.64</td>\n",
       "    </tr>\n",
       "  </tbody>\n",
       "</table>\n",
       "</div>"
      ],
      "text/plain": [
       "     Ratio  RSI    SR    YRR\n",
       "104   0.06   79  4.28  15.64"
      ]
     },
     "execution_count": 8,
     "metadata": {},
     "output_type": "execute_result"
    }
   ],
   "source": [
    "opt_df_5[opt_df_5['YRR'] == opt_df_5['YRR'].max()]"
   ]
  },
  {
   "cell_type": "code",
   "execution_count": 9,
   "metadata": {
    "ExecuteTime": {
     "end_time": "2023-02-17T03:10:39.755567Z",
     "start_time": "2023-02-17T03:10:39.609968Z"
    }
   },
   "outputs": [
    {
     "data": {
      "text/plain": [
       "<AxesSubplot:xlabel='RSI', ylabel='SR'>"
      ]
     },
     "execution_count": 9,
     "metadata": {},
     "output_type": "execute_result"
    },
    {
     "data": {
      "image/png": "[encoded data removed]",
      "text/plain": [
       "<Figure size 720x432 with 1 Axes>"
      ]
     },
     "metadata": {},
     "output_type": "display_data"
    }
   ],
   "source": [
    "sns.scatterplot(data=opt_df_5[opt_df_5['Ratio'] == 0.06], x = 'RSI', y='SR')"
   ]
  },
  {
   "attachments": {},
   "cell_type": "markdown",
   "metadata": {},
   "source": [
    "## Report"
   ]
  },
  {
   "cell_type": "code",
   "execution_count": 10,
   "metadata": {
    "ExecuteTime": {
     "end_time": "2023-02-17T03:10:42.718075Z",
     "start_time": "2023-02-17T03:10:42.713091Z"
    }
   },
   "outputs": [],
   "source": [
    "r = 0.06\n",
    "rsi = 79"
   ]
  },
  {
   "cell_type": "code",
   "execution_count": 11,
   "metadata": {
    "ExecuteTime": {
     "end_time": "2023-02-17T03:10:45.851773Z",
     "start_time": "2023-02-17T03:10:43.178140Z"
    }
   },
   "outputs": [],
   "source": [
    "## dataset = df_ori.copy()\n",
    "dataset = df_ori[:].copy()\n",
    "\n",
    "dataset['RSI'] = get_rsi(dataset[[Ticker]])\n",
    "dataset['M20'] = dataset[Ticker].rolling(20).mean()\n",
    "dataset['M60'] = dataset[Ticker].rolling(60).mean()\n",
    "dataset['M120'] = dataset[Ticker].rolling(120).mean()\n",
    "dataset = dataset.dropna()\n",
    "\n",
    "dataset['temp'] = dataset[Ticker] - dataset['M20']\n",
    "dataset['temp'] = (dataset['temp'] >= 0)\n",
    "dataset['T20'] = 0\n",
    "dataset['T20'][dataset['temp'] != dataset['temp'].shift(1)] = 1\n",
    "\n",
    "dataset['temp'] = dataset[Ticker] - dataset['M60']\n",
    "dataset['temp'] = (dataset['temp'] >= 0)\n",
    "dataset['T60'] = 0\n",
    "dataset['T60'][dataset['temp'] != dataset['temp'].shift(1)] = 1\n",
    "\n",
    "dataset['temp'] = dataset[Ticker] - dataset['M120']\n",
    "dataset['temp'] = (dataset['temp'] >= 0)\n",
    "dataset['T120'] = 0\n",
    "dataset['T120'][dataset['temp'] != dataset['temp'].shift(1)] = 1\n",
    "\n",
    "dataset['TRSI'] = 0\n",
    "dataset['TRSI'][(dataset['RSI'] < 35)&(dataset[Ticker] <= dataset['T120'])] = 1\n",
    "\n",
    "dataset = dataset[1:]\n",
    "\n",
    "dataset['T20_ratio'] = 0\n",
    "dataset['T20_ratio'][dataset['T20'] == 1] = r\n",
    "dataset['T20_ratio'][dataset['T20'].shift(1) == 1] = r\n",
    "\n",
    "dataset['T60_ratio'] = 0\n",
    "dataset['T60_ratio'][dataset['T60'] == 1] = r\n",
    "dataset['T60_ratio'][dataset['T60'].shift(1) == 1] = r\n",
    "dataset['T60_ratio'][dataset['T60'].shift(2) == 1] = r\n",
    "\n",
    "dataset['T120_ratio'] = 0\n",
    "dataset['T120_ratio'][dataset['T120'] == 1] = r\n",
    "dataset['T120_ratio'][dataset['T120'].shift(1) == 1] = r\n",
    "dataset['T120_ratio'][dataset['T120'].shift(2) == 1] = r\n",
    "dataset['T120_ratio'][dataset['T120'].shift(3) == 1] = r\n",
    "dataset['T120_ratio'][dataset['T120'].shift(4) == 1] = r\n",
    "\n",
    "dataset['TRSI_ratio'] = 0\n",
    "dataset['TRSI_ratio'][dataset['TRSI'] == 1] = r*2\n",
    "dataset['TRSI_ratio'][dataset['TRSI'].shift(1) == 1] = r*2\n",
    "dataset['TRSI_ratio'][dataset['TRSI'].shift(2) == 1] = r*2\n",
    "dataset['TRSI_ratio'][dataset['TRSI'].shift(3) == 1] = r*2\n",
    "dataset['TRSI_ratio'][dataset['TRSI'].shift(4) == 1] = r*2\n",
    "\n",
    "dataset['ratio'] = (dataset['T20_ratio'] + dataset['T60_ratio'] + dataset['T120_ratio'] + dataset['TRSI_ratio'])"
   ]
  },
  {
   "cell_type": "code",
   "execution_count": 12,
   "metadata": {},
   "outputs": [],
   "source": [
    "## 누적 매입, RSI 임계점 도달시 리셋\n",
    "target_df = dataset.copy()\n",
    "\n",
    "target_df['T_sell'] = 0\n",
    "target_df['T_sell'][target_df['RSI'] >= rsi] = 1\n",
    "\n",
    "target_df['cum_ratio'] = target_df['ratio'].cumsum()\n",
    "for i in target_df[target_df['T_sell'] == 1].index:\n",
    "    target_df['cum_ratio'][target_df.index >= i] = target_df['ratio'][target_df.index >= i].cumsum()\n",
    "target_df['cum_ratio'][target_df['cum_ratio'] >= 1] = 1\n",
    "target_df['ratio'][target_df['cum_ratio'] >= 1] = 0\n",
    "\n",
    "## 활용 데이터만 남김\n",
    "ratio_df = target_df[[Ticker, 'cum_ratio', 'ratio', 'T_sell']].copy()\n",
    "ratio_df[Ticker_bm] = df_bm[Ticker_bm].copy()\n",
    "ratio_df['CASH'] = 1\n",
    "\n",
    "## 누적자산가치 계산\n",
    "## 자산 투자 비중 변동시 데이터 프레임 분할\n",
    "date_idx = ratio_df[ratio_df['cum_ratio'] != ratio_df['cum_ratio'].shift()].index\n",
    "df_dict = []\n",
    "for i in range(len(date_idx)-1):\n",
    "    temp_df = ratio_df[(ratio_df.index >= date_idx[i])&(ratio_df.index <= date_idx[i+1])]\n",
    "    df_dict.append(temp_df)\n",
    "df_dict.append(ratio_df[(ratio_df.index >= date_idx[-1])])\n",
    "\n",
    "## 누적자산가치 계산\n",
    "prev_val = 1\n",
    "temp_series = pd.Series()\n",
    "## test_dict = []\n",
    "## test_dict2 = []\n",
    "## test_dict3 = []\n",
    "for i in range(len(df_dict)):    \n",
    "    temp = df_dict[i][[Ticker, Ticker_bm]]/np.array(df_dict[i][[Ticker, Ticker_bm]])[0]\n",
    "    ratio = ((df_dict[i]['cum_ratio'][0], 1 - df_dict[i]['cum_ratio'][0]))\n",
    "    temp_ = (temp * ratio).sum(axis=1)*prev_val    \n",
    "    ## test_dict.append(temp)\n",
    "    ## test_dict2.append(prev_val)\n",
    "    prev_val = temp_[-1]   \n",
    "    ## test_dict3.append(prev_val)    \n",
    "    temp_series = temp_series.append(temp_[1:])\n",
    "\n",
    "res_df = ratio_df.copy()\n",
    "res_df['strategy'] = temp_series\n",
    "res_df['strategy'][0] = 1\n",
    "\n",
    "## sortino ratio\n",
    "eval_res = anal_funcs.get_Vol_report(res_df[[Ticker, Ticker_bm, 'strategy']], 'a', unit='daily', rf=1)"
   ]
  },
  {
   "cell_type": "code",
   "execution_count": 15,
   "metadata": {},
   "outputs": [
    {
     "data": {
      "text/html": [
       "<div>\n",
       "<style scoped>\n",
       "    .dataframe tbody tr th:only-of-type {\n",
       "        vertical-align: middle;\n",
       "    }\n",
       "\n",
       "    .dataframe tbody tr th {\n",
       "        vertical-align: top;\n",
       "    }\n",
       "\n",
       "    .dataframe thead th {\n",
       "        text-align: right;\n",
       "    }\n",
       "</style>\n",
       "<table border=\"1\" class=\"dataframe\">\n",
       "  <thead>\n",
       "    <tr style=\"text-align: right;\">\n",
       "      <th></th>\n",
       "      <th>Return</th>\n",
       "      <th>Volatility</th>\n",
       "      <th>Volatility(Down)</th>\n",
       "      <th>Residual</th>\n",
       "      <th>Beta</th>\n",
       "      <th>Sharpe_Ratio</th>\n",
       "      <th>Sortino_Ratio</th>\n",
       "      <th>Trainer_Ratio</th>\n",
       "      <th>Jensen_Alpha</th>\n",
       "      <th>Info_Ratio</th>\n",
       "    </tr>\n",
       "    <tr>\n",
       "      <th>Ticker</th>\n",
       "      <th></th>\n",
       "      <th></th>\n",
       "      <th></th>\n",
       "      <th></th>\n",
       "      <th></th>\n",
       "      <th></th>\n",
       "      <th></th>\n",
       "      <th></th>\n",
       "      <th></th>\n",
       "      <th></th>\n",
       "    </tr>\n",
       "  </thead>\n",
       "  <tbody>\n",
       "    <tr>\n",
       "      <th>QQQ</th>\n",
       "      <td>14.82</td>\n",
       "      <td>5.28</td>\n",
       "      <td>3.58</td>\n",
       "      <td>0.00</td>\n",
       "      <td>1.00</td>\n",
       "      <td>2.62</td>\n",
       "      <td>3.86</td>\n",
       "      <td>13.82</td>\n",
       "      <td>0.00</td>\n",
       "      <td>NaN</td>\n",
       "    </tr>\n",
       "    <tr>\n",
       "      <th>TLT</th>\n",
       "      <td>4.13</td>\n",
       "      <td>3.89</td>\n",
       "      <td>2.25</td>\n",
       "      <td>6.95</td>\n",
       "      <td>-0.17</td>\n",
       "      <td>0.80</td>\n",
       "      <td>1.39</td>\n",
       "      <td>-17.90</td>\n",
       "      <td>5.55</td>\n",
       "      <td>-1.54</td>\n",
       "    </tr>\n",
       "    <tr>\n",
       "      <th>strategy</th>\n",
       "      <td>15.95</td>\n",
       "      <td>4.94</td>\n",
       "      <td>3.42</td>\n",
       "      <td>3.50</td>\n",
       "      <td>0.82</td>\n",
       "      <td>3.03</td>\n",
       "      <td>4.38</td>\n",
       "      <td>18.26</td>\n",
       "      <td>3.64</td>\n",
       "      <td>0.32</td>\n",
       "    </tr>\n",
       "  </tbody>\n",
       "</table>\n",
       "</div>"
      ],
      "text/plain": [
       "          Return  Volatility  Volatility(Down)  Residual  Beta  Sharpe_Ratio  \\\n",
       "Ticker                                                                         \n",
       "QQQ        14.82        5.28              3.58      0.00  1.00          2.62   \n",
       "TLT         4.13        3.89              2.25      6.95 -0.17          0.80   \n",
       "strategy   15.95        4.94              3.42      3.50  0.82          3.03   \n",
       "\n",
       "          Sortino_Ratio  Trainer_Ratio  Jensen_Alpha  Info_Ratio  \n",
       "Ticker                                                            \n",
       "QQQ                3.86          13.82          0.00         NaN  \n",
       "TLT                1.39         -17.90          5.55       -1.54  \n",
       "strategy           4.38          18.26          3.64        0.32  "
      ]
     },
     "execution_count": 15,
     "metadata": {},
     "output_type": "execute_result"
    }
   ],
   "source": [
    "eval_res"
   ]
  },
  {
   "cell_type": "code",
   "execution_count": 16,
   "metadata": {
    "ExecuteTime": {
     "end_time": "2023-02-17T03:11:00.633303Z",
     "start_time": "2023-02-17T03:11:00.617827Z"
    }
   },
   "outputs": [
    {
     "data": {
      "text/html": [
       "<div>\n",
       "<style scoped>\n",
       "    .dataframe tbody tr th:only-of-type {\n",
       "        vertical-align: middle;\n",
       "    }\n",
       "\n",
       "    .dataframe tbody tr th {\n",
       "        vertical-align: top;\n",
       "    }\n",
       "\n",
       "    .dataframe thead th {\n",
       "        text-align: right;\n",
       "    }\n",
       "</style>\n",
       "<table border=\"1\" class=\"dataframe\">\n",
       "  <thead>\n",
       "    <tr style=\"text-align: right;\">\n",
       "      <th></th>\n",
       "      <th>QQQ</th>\n",
       "      <th>cum_ratio</th>\n",
       "      <th>ratio</th>\n",
       "      <th>T_sell</th>\n",
       "      <th>TLT</th>\n",
       "      <th>CASH</th>\n",
       "      <th>strategy</th>\n",
       "    </tr>\n",
       "    <tr>\n",
       "      <th>Date</th>\n",
       "      <th></th>\n",
       "      <th></th>\n",
       "      <th></th>\n",
       "      <th></th>\n",
       "      <th></th>\n",
       "      <th></th>\n",
       "      <th></th>\n",
       "    </tr>\n",
       "  </thead>\n",
       "  <tbody>\n",
       "    <tr>\n",
       "      <th>2023-06-14</th>\n",
       "      <td>365.899994</td>\n",
       "      <td>0.0</td>\n",
       "      <td>0.0</td>\n",
       "      <td>1</td>\n",
       "      <td>102.019997</td>\n",
       "      <td>1</td>\n",
       "      <td>20.806976</td>\n",
       "    </tr>\n",
       "    <tr>\n",
       "      <th>2023-06-15</th>\n",
       "      <td>370.260010</td>\n",
       "      <td>0.0</td>\n",
       "      <td>0.0</td>\n",
       "      <td>1</td>\n",
       "      <td>103.000000</td>\n",
       "      <td>1</td>\n",
       "      <td>21.006848</td>\n",
       "    </tr>\n",
       "    <tr>\n",
       "      <th>2023-06-16</th>\n",
       "      <td>367.929993</td>\n",
       "      <td>0.0</td>\n",
       "      <td>0.0</td>\n",
       "      <td>0</td>\n",
       "      <td>102.599998</td>\n",
       "      <td>1</td>\n",
       "      <td>20.925267</td>\n",
       "    </tr>\n",
       "  </tbody>\n",
       "</table>\n",
       "</div>"
      ],
      "text/plain": [
       "                   QQQ  cum_ratio  ratio  T_sell         TLT  CASH   strategy\n",
       "Date                                                                         \n",
       "2023-06-14  365.899994        0.0    0.0       1  102.019997     1  20.806976\n",
       "2023-06-15  370.260010        0.0    0.0       1  103.000000     1  21.006848\n",
       "2023-06-16  367.929993        0.0    0.0       0  102.599998     1  20.925267"
      ]
     },
     "execution_count": 16,
     "metadata": {},
     "output_type": "execute_result"
    }
   ],
   "source": [
    "res_df.tail(3)"
   ]
  },
  {
   "cell_type": "code",
   "execution_count": 17,
   "metadata": {},
   "outputs": [
    {
     "data": {
      "text/plain": [
       "<AxesSubplot:xlabel='Date'>"
      ]
     },
     "execution_count": 17,
     "metadata": {},
     "output_type": "execute_result"
    },
    {
     "data": {
      "image/png": "[encoded data removed]",
      "text/plain": [
       "<Figure size 720x432 with 1 Axes>"
      ]
     },
     "metadata": {},
     "output_type": "display_data"
    }
   ],
   "source": [
    "(res_df[[Ticker, Ticker_bm, 'strategy']]/np.array(res_df[[Ticker, Ticker_bm, 'strategy']])[0]).plot()"
   ]
  },
  {
   "attachments": {},
   "cell_type": "markdown",
   "metadata": {},
   "source": [
    "## FIRE"
   ]
  },
  {
   "cell_type": "code",
   "execution_count": 18,
   "metadata": {
    "ExecuteTime": {
     "end_time": "2023-02-17T03:16:45.746387Z",
     "start_time": "2023-02-17T03:16:45.731033Z"
    }
   },
   "outputs": [],
   "source": [
    "from sympy import Symbol, solve, solveset, Interval"
   ]
  },
  {
   "cell_type": "code",
   "execution_count": 19,
   "metadata": {
    "ExecuteTime": {
     "end_time": "2023-02-17T03:17:24.182884Z",
     "start_time": "2023-02-17T03:17:24.162384Z"
    }
   },
   "outputs": [],
   "source": [
    "s = 30000 * 1e4\n",
    "k = 150000 *1e4\n",
    "\n",
    "d = (dt.datetime(2028, 5, 31) - dt.datetime.now()).days\n",
    "t = int(d/365) ## 연으로 변환\n",
    "\n",
    "r = 0.43\n",
    "c = 120*1e4*12"
   ]
  },
  {
   "cell_type": "code",
   "execution_count": 20,
   "metadata": {
    "ExecuteTime": {
     "end_time": "2023-02-17T03:17:24.787566Z",
     "start_time": "2023-02-17T03:17:24.770371Z"
    }
   },
   "outputs": [],
   "source": [
    "def cal_kap(s, c, r, t):\n",
    "    '''\n",
    "    s: seed, c: cashflow, r: return(Y), t: terms(Y)\n",
    "    '''\n",
    "    k = s*((1+r)**t) + c*((1-((1+r)**t)))/(1-(1+r))\n",
    "    return(k)"
   ]
  },
  {
   "cell_type": "code",
   "execution_count": 21,
   "metadata": {
    "ExecuteTime": {
     "end_time": "2023-02-17T03:17:24.998892Z",
     "start_time": "2023-02-17T03:17:24.993908Z"
    }
   },
   "outputs": [],
   "source": [
    "def cal_ret(k, s, c, t):\n",
    "    '''\n",
    "    k: kapital, s: seed, c: cashflow, t: terms(Y)\n",
    "    '''\n",
    "    r=Symbol('r')\n",
    "    equation = s*((1+r)**(t)) + c*((1-((1+r)**(t)))/(1-(1+r))) - k\n",
    "    val = solveset(equation, r, Interval(0, 999))\n",
    "    solve_r = float(list(val)[0])\n",
    "    return(np.round(solve_r, 2))"
   ]
  },
  {
   "cell_type": "code",
   "execution_count": 22,
   "metadata": {
    "ExecuteTime": {
     "end_time": "2023-02-17T03:17:25.301330Z",
     "start_time": "2023-02-17T03:17:25.291276Z"
    }
   },
   "outputs": [],
   "source": [
    "def cal_term(k, s, c, r):\n",
    "    '''\n",
    "    k: kapital, s: seed, c: cashflow, t: terms(Y)\n",
    "    '''\n",
    "    t=Symbol('t')\n",
    "    equation = s*((1+r)**(t)) + c*((1-((1+r)**(t)))/(1-(1+r))) - k\n",
    "    val = solveset(equation, t, Interval(0, 999))\n",
    "    solve_t = float(list(val)[0])\n",
    "    return(np.round(solve_t, 2))"
   ]
  },
  {
   "cell_type": "code",
   "execution_count": 23,
   "metadata": {
    "ExecuteTime": {
     "end_time": "2023-02-17T03:17:25.754302Z",
     "start_time": "2023-02-17T03:17:25.737500Z"
    }
   },
   "outputs": [
    {
     "data": {
      "text/plain": [
       "(4.27, 0.47, 151327.0)"
      ]
     },
     "execution_count": 23,
     "metadata": {},
     "output_type": "execute_result"
    }
   ],
   "source": [
    "test_t = cal_term(k, s, c, r)\n",
    "test_r = cal_ret(k, s, c, t)\n",
    "test_t, test_r, cal_kap(s, c, test_r, t)//1e4"
   ]
  },
  {
   "cell_type": "code",
   "execution_count": 24,
   "metadata": {
    "ExecuteTime": {
     "end_time": "2023-02-17T03:17:55.439052Z",
     "start_time": "2023-02-17T03:17:55.427018Z"
    }
   },
   "outputs": [],
   "source": [
    "temp_ls = []\n",
    "for n in range(1, 2000):\n",
    "    r = n*0.001\n",
    "    gap = np.e**r - (1+r)\n",
    "    temp_ls.append((r, gap))"
   ]
  },
  {
   "cell_type": "code",
   "execution_count": 25,
   "metadata": {
    "ExecuteTime": {
     "end_time": "2023-02-17T03:17:57.297479Z",
     "start_time": "2023-02-17T03:17:57.282366Z"
    }
   },
   "outputs": [],
   "source": [
    "temp_df = pd.DataFrame(temp_ls, columns=['r', 'gap'])"
   ]
  },
  {
   "cell_type": "code",
   "execution_count": 26,
   "metadata": {
    "ExecuteTime": {
     "end_time": "2023-02-17T03:17:58.206279Z",
     "start_time": "2023-02-17T03:17:58.075121Z"
    }
   },
   "outputs": [
    {
     "data": {
      "text/plain": [
       "<AxesSubplot:xlabel='r', ylabel='gap'>"
      ]
     },
     "execution_count": 26,
     "metadata": {},
     "output_type": "execute_result"
    },
    {
     "data": {
      "image/png": "[encoded data removed]",
      "text/plain": [
       "<Figure size 720x432 with 1 Axes>"
      ]
     },
     "metadata": {},
     "output_type": "display_data"
    }
   ],
   "source": [
    "sns.scatterplot(data = temp_df, x = 'r', y = 'gap')"
   ]
  },
  {
   "cell_type": "code",
   "execution_count": null,
   "metadata": {},
   "outputs": [],
   "source": []
  },
  {
   "cell_type": "code",
   "execution_count": null,
   "metadata": {},
   "outputs": [],
   "source": []
  },
  {
   "cell_type": "code",
   "execution_count": null,
   "metadata": {},
   "outputs": [],
   "source": []
  },
  {
   "cell_type": "code",
   "execution_count": null,
   "metadata": {},
   "outputs": [],
   "source": []
  },
  {
   "cell_type": "code",
   "execution_count": null,
   "metadata": {},
   "outputs": [],
   "source": []
  },
  {
   "cell_type": "code",
   "execution_count": null,
   "metadata": {},
   "outputs": [],
   "source": []
  }
 ],
 "metadata": {
  "hide_input": false,
  "kernelspec": {
   "display_name": "Python 3 (ipykernel)",
   "language": "python",
   "name": "python3"
  },
  "language_info": {
   "codemirror_mode": {
    "name": "ipython",
    "version": 3
   },
   "file_extension": ".py",
   "mimetype": "text/x-python",
   "name": "python",
   "nbconvert_exporter": "python",
   "pygments_lexer": "ipython3",
   "version": "3.9.7"
  },
  "toc": {
   "base_numbering": 1,
   "nav_menu": {},
   "number_sections": true,
   "sideBar": true,
   "skip_h1_title": false,
   "title_cell": "Table of Contents",
   "title_sidebar": "Contents",
   "toc_cell": false,
   "toc_position": {},
   "toc_section_display": true,
   "toc_window_display": false
  },
  "varInspector": {
   "cols": {
    "lenName": 16,
    "lenType": 16,
    "lenVar": 40
   },
   "kernels_config": {
    "python": {
     "delete_cmd_postfix": "",
     "delete_cmd_prefix": "del ",
     "library": "var_list.py",
     "varRefreshCmd": "print(var_dic_list())"
    },
    "r": {
     "delete_cmd_postfix": ") ",
     "delete_cmd_prefix": "rm(",
     "library": "var_list.r",
     "varRefreshCmd": "cat(var_dic_list()) "
    }
   },
   "types_to_exclude": [
    "module",
    "function",
    "builtin_function_or_method",
    "instance",
    "_Feature"
   ],
   "window_display": false
  }
 },
 "nbformat": 4,
 "nbformat_minor": 4
}
