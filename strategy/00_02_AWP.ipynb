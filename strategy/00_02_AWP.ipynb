{
 "cells": [
  {
   "cell_type": "code",
   "execution_count": 1,
   "metadata": {},
   "outputs": [],
   "source": [
    "## All-Weather"
   ]
  },
  {
   "cell_type": "code",
   "execution_count": 2,
   "metadata": {
    "ExecuteTime": {
     "end_time": "2023-02-20T12:28:55.898133Z",
     "start_time": "2023-02-20T12:28:55.091883Z"
    }
   },
   "outputs": [
    {
     "data": {
      "text/html": [
       "        <script type=\"text/javascript\">\n",
       "        window.PlotlyConfig = {MathJaxConfig: 'local'};\n",
       "        if (window.MathJax && window.MathJax.Hub && window.MathJax.Hub.Config) {window.MathJax.Hub.Config({SVG: {font: \"STIX-Web\"}});}\n",
       "        if (typeof require !== 'undefined') {\n",
       "        require.undef(\"plotly\");\n",
       "        requirejs.config({\n",
       "            paths: {\n",
       "                'plotly': ['https://cdn.plot.ly/plotly-2.12.1.min']\n",
       "            }\n",
       "        });\n",
       "        require(['plotly'], function(Plotly) {\n",
       "            window._Plotly = Plotly;\n",
       "        });\n",
       "        }\n",
       "        </script>\n",
       "        "
      ]
     },
     "metadata": {},
     "output_type": "display_data"
    }
   ],
   "source": [
    "import pandas as pd\n",
    "import warnings\n",
    "warnings.filterwarnings('ignore')\n",
    "import numpy as np\n",
    "import datetime as dt\n",
    "\n",
    "# 시각화 관련\n",
    "import plotly_express as px\n",
    "import plotly.figure_factory as ff\n",
    "import cufflinks as cf\n",
    "cf.go_offline(connected=True)\n",
    "## cf.getThemes()\n",
    "cf.set_config_file(theme='polar')\n",
    "import plotly.graph_objects as go\n",
    "%matplotlib inline\n",
    "import matplotlib.pyplot as plt\n",
    "import seaborn as sns\n",
    "sns.set_style('whitegrid')\n",
    "## plt.style.use(\"fivethirtyeight\")\n",
    "plt.rcParams['font.family'] = 'Malgun Gothic'\n",
    "plt.rcParams['axes.unicode_minus'] = False\n",
    "plt.rcParams[\"figure.figsize\"] = (10,6)\n",
    "\n",
    "\n",
    "## 퀀트함수 ## 절대경로 참조\n",
    "import sys, os\n",
    "sys.path.append(os.path.dirname(os.path.abspath(os.path.dirname('__file__'))))\n",
    "from library.quant_functions import anal_funcs, data_funcs"
   ]
  },
  {
   "attachments": {},
   "cell_type": "markdown",
   "metadata": {},
   "source": [
    "## Func"
   ]
  },
  {
   "cell_type": "code",
   "execution_count": 3,
   "metadata": {},
   "outputs": [],
   "source": [
    "## target_sum이 되는 0이상 k개 숫자의 모든 순열\n",
    "## n은 탐색 시작점\n",
    "def permutations_k_sum(n, k, target_sum, prefix=[]):\n",
    "    ## 종료조건\n",
    "    if k == 0:\n",
    "        if target_sum == 0:\n",
    "            return [prefix]\n",
    "        return []\n",
    "    if n < 0:\n",
    "        return []\n",
    "    if target_sum < 0:\n",
    "        return []\n",
    "    permutations = []\n",
    "    for i in range(n+1):\n",
    "        permutations += permutations_k_sum(n, k-1, target_sum-i, prefix+[i])\n",
    "    return permutations"
   ]
  },
  {
   "cell_type": "code",
   "execution_count": 4,
   "metadata": {
    "ExecuteTime": {
     "end_time": "2023-02-20T12:28:58.635164Z",
     "start_time": "2023-02-20T12:28:58.621134Z"
    },
    "code_folding": []
   },
   "outputs": [],
   "source": [
    "## 리벨런싱 로직\n",
    "def cal_rebalancing(df, ratio = [0.5, 0.5], rebalancing=None, unit = None):\n",
    "    new_df = df.copy()\n",
    "    ## rebalancing 'm'월, 'y'연, \n",
    "    df_dict = []\n",
    "    ## 데이터 분할\n",
    "    years = sorted(new_df.index.year.unique())\n",
    "    months = sorted(new_df.index.month.unique())\n",
    "    \n",
    "    ## 가치변화 계산용(월단위 집계데이터로 계산할 때 발생하는 에러보정)\n",
    "    if (rebalancing == 'm')&(unit == 'monthly'):\n",
    "        temp_df = new_df.copy()\n",
    "        temp_df.index = temp_df.index - dt.timedelta(days=1)\n",
    "        new_df = new_df.append(temp_df)\n",
    "        new_df = new_df.sort_index()\n",
    "        new_df = new_df.shift(-1).dropna()\n",
    "        \n",
    "    if rebalancing == 'm' :\n",
    "        for year in years:\n",
    "            for month in months:\n",
    "                temp = new_df[(new_df.index.year == year)&(new_df.index.month == month)]\n",
    "                if len(temp) > 0:\n",
    "                    df_dict.append(temp)\n",
    "                    \n",
    "    elif rebalancing == 'y':\n",
    "        for year in years:\n",
    "            temp = new_df[(new_df.index.year == year)]\n",
    "            if len(temp) > 0:\n",
    "                df_dict.append(temp)\n",
    "    else:\n",
    "        df_dict.append(new_df)\n",
    "    ## 리벨런싱 적용\n",
    "    prev_val = 1\n",
    "    temp_series = pd.Series()\n",
    "    for i in range(len(df_dict)):    \n",
    "        temp = df_dict[i]/(np.array(df_dict[i])[0])\n",
    "        temp_AWP = (temp * ratio).sum(axis=1)*prev_val\n",
    "        prev_val = temp_AWP[-1]\n",
    "        temp_series = temp_series.append(temp_AWP)\n",
    "    new_df['strategy'] = temp_series\n",
    "    \n",
    "    ## 가치변화 계산용 임시 데이터프레임을 원래 형태로 되돌림\n",
    "    if (rebalancing == 'm')&(unit == 'monthly'):\n",
    "        new_df['temp_y'] = new_df.index.year\n",
    "        new_df['temp_m'] = new_df.index.month\n",
    "        new_df = new_df.drop_duplicates(['temp_y', 'temp_m'])\n",
    "        new_df = new_df.drop(columns=['temp_y', 'temp_m'])\n",
    "        new_df.index = df.index\n",
    "    \n",
    "    return new_df"
   ]
  },
  {
   "cell_type": "code",
   "execution_count": 5,
   "metadata": {
    "ExecuteTime": {
     "end_time": "2023-02-20T12:28:58.650754Z",
     "start_time": "2023-02-20T12:28:58.636684Z"
    }
   },
   "outputs": [],
   "source": [
    "## Optimization\n",
    "def cal_optimal(df, unit='monthly', rebalancing = 'm', d = 10, min_edge = 50):\n",
    "    '''   \n",
    "    * df: 자산가치 시계열\n",
    "    * unit 데이터 집계주기 : daily, monthly\n",
    "    * rebalancing 리벨런싱 주기 : None, m, y\n",
    "    * d: 비중 시뮬레이션 범주단계 ex)10은 10%씩 변동\n",
    "    * min_edge : edge(1번) 자산의 최소 비중\n",
    "    '''\n",
    "\n",
    "    k = len(df.T)\n",
    "    combinations = permutations_k_sum(100//d, k, 100//d)\n",
    "    combinations = pd.DataFrame(combinations)*d\n",
    "    combinations = combinations[combinations[0] >= min_edge]\n",
    "\n",
    "    pyrr, pydd, pstn, pvol, psharp, pweight = [], [], [], [], [], []\n",
    "    print(f\"총 {len(combinations)}번 시행 예정\")\n",
    "    for p in range (len(combinations)):\n",
    "        if p==0:\n",
    "            print(f\"1번째 시행 중\")\n",
    "        if (p%100 == 99):\n",
    "            print(f\"{p+1}번째 시행 중\")\n",
    "        ## weights = np.random.random(k)   # 랜덤한 n개의 숫자를 생성함(n개의 자산에 대응)\n",
    "        weights = np.array(combinations)[p] \n",
    "        weights = weights/np.sum(weights) ## 비중 합계를 1로 조정\n",
    "\n",
    "        result_df = cal_rebalancing(df, weights, rebalancing=rebalancing, unit=unit)\n",
    "        sortino = anal_funcs.get_Vol_report(result_df, 'a', unit=unit)\n",
    "\n",
    "        pyrr.append(sortino['Return'][len(sortino)-1])\n",
    "        pydd.append(sortino['Volatility(Down)'][len(sortino)-1])\n",
    "        pstn.append(sortino['Sortino_Ratio'][len(sortino)-1])\n",
    "        pvol.append(sortino['Volatility'][len(sortino)-1])\n",
    "        psharp.append(sortino['Sharpe_Ratio'][len(sortino)-1])\n",
    "        pweight.append(weights)\n",
    "\n",
    "    pyrr = np.array(pyrr)\n",
    "    pydd = np.array(pydd)\n",
    "    pstn = np.array(pstn)\n",
    "    pvol = np.array(pvol)\n",
    "    psharp = np.array(psharp)\n",
    "    pweight = np.array(pweight)\n",
    "\n",
    "    process = pd.DataFrame(pweight, columns=df.columns)\n",
    "    process['Return'] = pyrr\n",
    "    process['Volatility'] = pvol\n",
    "    process['Volatility(Down)'] = pydd\n",
    "    process['Sharpe Ratio'] = psharp\n",
    "    process['Sortino Ratio'] = pstn\n",
    "    \n",
    "    obtimal = process[process['Sortino Ratio']==process['Sortino Ratio'].max()]\n",
    "    obtimal = obtimal.reset_index(drop=True)\n",
    "    min_risk = process[process['Volatility']==process['Volatility'].min()]\n",
    "    min_risk = min_risk.reset_index(drop=True)\n",
    "\n",
    "    return process, obtimal, min_risk"
   ]
  },
  {
   "attachments": {},
   "cell_type": "markdown",
   "metadata": {},
   "source": [
    "## Proc"
   ]
  },
  {
   "cell_type": "code",
   "execution_count": 6,
   "metadata": {
    "ExecuteTime": {
     "end_time": "2023-02-20T12:29:10.223429Z",
     "start_time": "2023-02-20T12:28:59.522993Z"
    }
   },
   "outputs": [
    {
     "name": "stdout",
     "output_type": "stream",
     "text": [
      "[*********************100%***********************]  13 of 13 completed\n"
     ]
    }
   ],
   "source": [
    "## 올웨더용 자산군 데이터\n",
    "AWP_df = data_funcs.get_merged_df('SPY', 'QQQ', 'IWM', 'VTI', 'VEA', 'VWO', 'TLT', 'IEF', 'SHY', 'GLD', 'DBC', 'TQQQ', 'TMF')\n",
    "AWP_df = AWP_df[['TQQQ', 'TMF', 'GLD']].dropna()\n",
    "## 백태스트 기간정의\n",
    "## AWP_df = AWP_df['2007:']\n",
    "## 월단위 변환\n",
    "AWP_df = AWP_df.resample('M').last()[:-1]"
   ]
  },
  {
   "cell_type": "code",
   "execution_count": 11,
   "metadata": {
    "ExecuteTime": {
     "end_time": "2023-02-20T09:03:52.494185Z",
     "start_time": "2023-02-20T09:02:57.956086Z"
    },
    "scrolled": true
   },
   "outputs": [
    {
     "name": "stdout",
     "output_type": "stream",
     "text": [
      "총 2556번 시행 예정\n",
      "1번째 시행 중\n",
      "100번째 시행 중\n",
      "200번째 시행 중\n",
      "300번째 시행 중\n",
      "400번째 시행 중\n",
      "500번째 시행 중\n",
      "600번째 시행 중\n",
      "700번째 시행 중\n",
      "800번째 시행 중\n",
      "900번째 시행 중\n",
      "1000번째 시행 중\n",
      "1100번째 시행 중\n",
      "1200번째 시행 중\n",
      "1300번째 시행 중\n",
      "1400번째 시행 중\n",
      "1500번째 시행 중\n",
      "1600번째 시행 중\n",
      "1700번째 시행 중\n",
      "1800번째 시행 중\n",
      "1900번째 시행 중\n",
      "2000번째 시행 중\n",
      "2100번째 시행 중\n",
      "2200번째 시행 중\n",
      "2300번째 시행 중\n",
      "2400번째 시행 중\n",
      "2500번째 시행 중\n"
     ]
    }
   ],
   "source": [
    "## trainset = AWP_df[AWP_df.index >= '2020-01-01']\n",
    "trainset = AWP_df.copy()\n",
    "process, obtimal, min_risk = cal_optimal(trainset, unit='monthly', rebalancing = 'm', d = 1, min_edge=30)"
   ]
  },
  {
   "cell_type": "code",
   "execution_count": 13,
   "metadata": {
    "ExecuteTime": {
     "end_time": "2023-02-20T09:04:04.131777Z",
     "start_time": "2023-02-20T09:04:03.902223Z"
    }
   },
   "outputs": [
    {
     "data": {
      "image/png": "[encoded data removed]",
      "text/plain": [
       "<Figure size 720x432 with 2 Axes>"
      ]
     },
     "metadata": {},
     "output_type": "display_data"
    }
   ],
   "source": [
    "plt.scatter(process['Volatility'], process['Return'], c=process['Sharpe Ratio'], marker='o')\n",
    "plt.grid(True)\n",
    "plt.xlabel('Risk(Standard)')\n",
    "plt.ylabel('Return(Expected)')\n",
    "plt.colorbar(label='Sortino Ratio')\n",
    "\n",
    "plt.scatter(obtimal['Volatility'][0], obtimal['Return'][0], marker=\"*\", s=200, alpha=0.7)\n",
    "plt.scatter(min_risk['Volatility'][0], min_risk['Return'][0], marker=\"*\", s=200, alpha=0.7)\n",
    "\n",
    "plt.show()"
   ]
  },
  {
   "cell_type": "code",
   "execution_count": 14,
   "metadata": {
    "ExecuteTime": {
     "end_time": "2022-07-06T00:53:27.165774Z",
     "start_time": "2022-07-06T00:53:27.157771Z"
    }
   },
   "outputs": [],
   "source": [
    "## ('VTI', 'VWO', 'TLT', 'SHY', 'IAU', 'DBC')\n",
    "## [0.5, 0.00, 0.15, 0.0, 0.35, 0.0]"
   ]
  },
  {
   "cell_type": "code",
   "execution_count": 15,
   "metadata": {
    "ExecuteTime": {
     "end_time": "2022-07-06T00:53:31.010038Z",
     "start_time": "2022-07-06T00:53:30.993245Z"
    }
   },
   "outputs": [],
   "source": [
    "AWP_ratio = pd.DataFrame(list(obtimal.values[0][:-5]),\n",
    "             index=obtimal.columns[:-5], columns=['ratio'])\n",
    "## AWP_ratio = AWP_ratio.apply(lambda x:x.round(2))"
   ]
  },
  {
   "cell_type": "code",
   "execution_count": 17,
   "metadata": {
    "ExecuteTime": {
     "end_time": "2023-02-20T12:30:14.412764Z",
     "start_time": "2023-02-20T12:30:14.067538Z"
    }
   },
   "outputs": [],
   "source": [
    "## 올웨더 전략 실행\n",
    "## ratio = list(obtimal.values[0][:-3])\n",
    "ratio = list(AWP_ratio['ratio'])\n",
    "## ratio = [0.25, 0.2, 0.02, 0.02, 0.15, 0.15, 0.15, 0.05, 0.01]\n",
    "AWP_result = cal_rebalancing(AWP_df, ratio=ratio, rebalancing='m', unit='monthly')"
   ]
  },
  {
   "attachments": {},
   "cell_type": "markdown",
   "metadata": {},
   "source": [
    "## Report"
   ]
  },
  {
   "cell_type": "code",
   "execution_count": 18,
   "metadata": {},
   "outputs": [
    {
     "data": {
      "text/plain": [
       "[0.32, 0.07, 0.61]"
      ]
     },
     "execution_count": 18,
     "metadata": {},
     "output_type": "execute_result"
    }
   ],
   "source": [
    "ratio"
   ]
  },
  {
   "cell_type": "code",
   "execution_count": 22,
   "metadata": {},
   "outputs": [
    {
     "data": {
      "image/png": "[encoded data removed]",
      "text/plain": [
       "<Figure size 720x432 with 1 Axes>"
      ]
     },
     "metadata": {},
     "output_type": "display_data"
    }
   ],
   "source": [
    "(AWP_result/np.array(AWP_result)[0])[['TQQQ', 'TMF', 'GLD', 'strategy']].plot()\n",
    "plt.yscale('log')\n",
    "plt.show()"
   ]
  },
  {
   "cell_type": "code",
   "execution_count": 27,
   "metadata": {},
   "outputs": [
    {
     "data": {
      "text/html": [
       "<div>\n",
       "<style scoped>\n",
       "    .dataframe tbody tr th:only-of-type {\n",
       "        vertical-align: middle;\n",
       "    }\n",
       "\n",
       "    .dataframe tbody tr th {\n",
       "        vertical-align: top;\n",
       "    }\n",
       "\n",
       "    .dataframe thead th {\n",
       "        text-align: right;\n",
       "    }\n",
       "</style>\n",
       "<table border=\"1\" class=\"dataframe\">\n",
       "  <thead>\n",
       "    <tr style=\"text-align: right;\">\n",
       "      <th></th>\n",
       "      <th>TQQQ</th>\n",
       "      <th>TMF</th>\n",
       "      <th>GLD</th>\n",
       "      <th>strategy</th>\n",
       "    </tr>\n",
       "    <tr>\n",
       "      <th>Date</th>\n",
       "      <th></th>\n",
       "      <th></th>\n",
       "      <th></th>\n",
       "      <th></th>\n",
       "    </tr>\n",
       "  </thead>\n",
       "  <tbody>\n",
       "    <tr>\n",
       "      <th>2010-02-28</th>\n",
       "      <td>0.458820</td>\n",
       "      <td>7.053025</td>\n",
       "      <td>109.430000</td>\n",
       "      <td>1.000000</td>\n",
       "    </tr>\n",
       "    <tr>\n",
       "      <th>2010-03-31</th>\n",
       "      <td>0.571611</td>\n",
       "      <td>6.578032</td>\n",
       "      <td>108.949997</td>\n",
       "      <td>1.071275</td>\n",
       "    </tr>\n",
       "    <tr>\n",
       "      <th>2010-04-30</th>\n",
       "      <td>0.606451</td>\n",
       "      <td>7.233250</td>\n",
       "      <td>115.360001</td>\n",
       "      <td>1.138086</td>\n",
       "    </tr>\n",
       "    <tr>\n",
       "      <th>2010-05-31</th>\n",
       "      <td>0.467864</td>\n",
       "      <td>8.429452</td>\n",
       "      <td>118.879997</td>\n",
       "      <td>1.089219</td>\n",
       "    </tr>\n",
       "    <tr>\n",
       "      <th>2010-06-30</th>\n",
       "      <td>0.379533</td>\n",
       "      <td>9.841661</td>\n",
       "      <td>121.680000</td>\n",
       "      <td>1.051837</td>\n",
       "    </tr>\n",
       "    <tr>\n",
       "      <th>...</th>\n",
       "      <td>...</td>\n",
       "      <td>...</td>\n",
       "      <td>...</td>\n",
       "      <td>...</td>\n",
       "    </tr>\n",
       "    <tr>\n",
       "      <th>2022-12-31</th>\n",
       "      <td>17.199730</td>\n",
       "      <td>7.590000</td>\n",
       "      <td>169.639999</td>\n",
       "      <td>6.981433</td>\n",
       "    </tr>\n",
       "    <tr>\n",
       "      <th>2023-01-31</th>\n",
       "      <td>22.777214</td>\n",
       "      <td>9.283307</td>\n",
       "      <td>179.410004</td>\n",
       "      <td>8.060183</td>\n",
       "    </tr>\n",
       "    <tr>\n",
       "      <th>2023-02-28</th>\n",
       "      <td>22.001734</td>\n",
       "      <td>7.868898</td>\n",
       "      <td>169.779999</td>\n",
       "      <td>7.622496</td>\n",
       "    </tr>\n",
       "    <tr>\n",
       "      <th>2023-03-31</th>\n",
       "      <td>28.260000</td>\n",
       "      <td>8.880000</td>\n",
       "      <td>183.220001</td>\n",
       "      <td>8.752951</td>\n",
       "    </tr>\n",
       "    <tr>\n",
       "      <th>2023-04-30</th>\n",
       "      <td>28.250000</td>\n",
       "      <td>8.850000</td>\n",
       "      <td>184.800003</td>\n",
       "      <td>8.795933</td>\n",
       "    </tr>\n",
       "  </tbody>\n",
       "</table>\n",
       "<p>159 rows × 4 columns</p>\n",
       "</div>"
      ],
      "text/plain": [
       "                 TQQQ       TMF         GLD  strategy\n",
       "Date                                                 \n",
       "2010-02-28   0.458820  7.053025  109.430000  1.000000\n",
       "2010-03-31   0.571611  6.578032  108.949997  1.071275\n",
       "2010-04-30   0.606451  7.233250  115.360001  1.138086\n",
       "2010-05-31   0.467864  8.429452  118.879997  1.089219\n",
       "2010-06-30   0.379533  9.841661  121.680000  1.051837\n",
       "...               ...       ...         ...       ...\n",
       "2022-12-31  17.199730  7.590000  169.639999  6.981433\n",
       "2023-01-31  22.777214  9.283307  179.410004  8.060183\n",
       "2023-02-28  22.001734  7.868898  169.779999  7.622496\n",
       "2023-03-31  28.260000  8.880000  183.220001  8.752951\n",
       "2023-04-30  28.250000  8.850000  184.800003  8.795933\n",
       "\n",
       "[159 rows x 4 columns]"
      ]
     },
     "execution_count": 27,
     "metadata": {},
     "output_type": "execute_result"
    }
   ],
   "source": [
    "AWP_result.dropna()"
   ]
  },
  {
   "cell_type": "code",
   "execution_count": 37,
   "metadata": {},
   "outputs": [
    {
     "data": {
      "text/html": [
       "<div>\n",
       "<style scoped>\n",
       "    .dataframe tbody tr th:only-of-type {\n",
       "        vertical-align: middle;\n",
       "    }\n",
       "\n",
       "    .dataframe tbody tr th {\n",
       "        vertical-align: top;\n",
       "    }\n",
       "\n",
       "    .dataframe thead th {\n",
       "        text-align: right;\n",
       "    }\n",
       "</style>\n",
       "<table border=\"1\" class=\"dataframe\">\n",
       "  <thead>\n",
       "    <tr style=\"text-align: right;\">\n",
       "      <th></th>\n",
       "      <th>TQQQ</th>\n",
       "      <th>TMF</th>\n",
       "      <th>GLD</th>\n",
       "      <th>strategy</th>\n",
       "    </tr>\n",
       "    <tr>\n",
       "      <th>Date</th>\n",
       "      <th></th>\n",
       "      <th></th>\n",
       "      <th></th>\n",
       "      <th></th>\n",
       "    </tr>\n",
       "  </thead>\n",
       "  <tbody>\n",
       "    <tr>\n",
       "      <th>2010-02-28</th>\n",
       "      <td>0.458820</td>\n",
       "      <td>7.053025</td>\n",
       "      <td>109.430000</td>\n",
       "      <td>1.000000</td>\n",
       "    </tr>\n",
       "    <tr>\n",
       "      <th>2010-03-31</th>\n",
       "      <td>0.571611</td>\n",
       "      <td>6.578032</td>\n",
       "      <td>108.949997</td>\n",
       "      <td>1.071275</td>\n",
       "    </tr>\n",
       "    <tr>\n",
       "      <th>2010-04-30</th>\n",
       "      <td>0.606451</td>\n",
       "      <td>7.233250</td>\n",
       "      <td>115.360001</td>\n",
       "      <td>1.138086</td>\n",
       "    </tr>\n",
       "    <tr>\n",
       "      <th>2010-05-31</th>\n",
       "      <td>0.467864</td>\n",
       "      <td>8.429452</td>\n",
       "      <td>118.879997</td>\n",
       "      <td>1.089219</td>\n",
       "    </tr>\n",
       "    <tr>\n",
       "      <th>2010-06-30</th>\n",
       "      <td>0.379533</td>\n",
       "      <td>9.841661</td>\n",
       "      <td>121.680000</td>\n",
       "      <td>1.051837</td>\n",
       "    </tr>\n",
       "    <tr>\n",
       "      <th>...</th>\n",
       "      <td>...</td>\n",
       "      <td>...</td>\n",
       "      <td>...</td>\n",
       "      <td>...</td>\n",
       "    </tr>\n",
       "    <tr>\n",
       "      <th>2022-12-31</th>\n",
       "      <td>17.199730</td>\n",
       "      <td>7.590000</td>\n",
       "      <td>169.639999</td>\n",
       "      <td>6.981433</td>\n",
       "    </tr>\n",
       "    <tr>\n",
       "      <th>2023-01-31</th>\n",
       "      <td>22.777214</td>\n",
       "      <td>9.283307</td>\n",
       "      <td>179.410004</td>\n",
       "      <td>8.060183</td>\n",
       "    </tr>\n",
       "    <tr>\n",
       "      <th>2023-02-28</th>\n",
       "      <td>22.001734</td>\n",
       "      <td>7.868898</td>\n",
       "      <td>169.779999</td>\n",
       "      <td>7.622496</td>\n",
       "    </tr>\n",
       "    <tr>\n",
       "      <th>2023-03-31</th>\n",
       "      <td>28.260000</td>\n",
       "      <td>8.880000</td>\n",
       "      <td>183.220001</td>\n",
       "      <td>8.752951</td>\n",
       "    </tr>\n",
       "    <tr>\n",
       "      <th>2023-04-30</th>\n",
       "      <td>28.250000</td>\n",
       "      <td>8.850000</td>\n",
       "      <td>184.800003</td>\n",
       "      <td>8.795933</td>\n",
       "    </tr>\n",
       "  </tbody>\n",
       "</table>\n",
       "<p>159 rows × 4 columns</p>\n",
       "</div>"
      ],
      "text/plain": [
       "                 TQQQ       TMF         GLD  strategy\n",
       "Date                                                 \n",
       "2010-02-28   0.458820  7.053025  109.430000  1.000000\n",
       "2010-03-31   0.571611  6.578032  108.949997  1.071275\n",
       "2010-04-30   0.606451  7.233250  115.360001  1.138086\n",
       "2010-05-31   0.467864  8.429452  118.879997  1.089219\n",
       "2010-06-30   0.379533  9.841661  121.680000  1.051837\n",
       "...               ...       ...         ...       ...\n",
       "2022-12-31  17.199730  7.590000  169.639999  6.981433\n",
       "2023-01-31  22.777214  9.283307  179.410004  8.060183\n",
       "2023-02-28  22.001734  7.868898  169.779999  7.622496\n",
       "2023-03-31  28.260000  8.880000  183.220001  8.752951\n",
       "2023-04-30  28.250000  8.850000  184.800003  8.795933\n",
       "\n",
       "[159 rows x 4 columns]"
      ]
     },
     "execution_count": 37,
     "metadata": {},
     "output_type": "execute_result"
    }
   ],
   "source": [
    "AWP_result"
   ]
  },
  {
   "cell_type": "code",
   "execution_count": 61,
   "metadata": {},
   "outputs": [
    {
     "data": {
      "text/html": [
       "<div>\n",
       "<style scoped>\n",
       "    .dataframe tbody tr th:only-of-type {\n",
       "        vertical-align: middle;\n",
       "    }\n",
       "\n",
       "    .dataframe tbody tr th {\n",
       "        vertical-align: top;\n",
       "    }\n",
       "\n",
       "    .dataframe thead th {\n",
       "        text-align: right;\n",
       "    }\n",
       "</style>\n",
       "<table border=\"1\" class=\"dataframe\">\n",
       "  <thead>\n",
       "    <tr style=\"text-align: right;\">\n",
       "      <th></th>\n",
       "      <th>TQQQ</th>\n",
       "      <th>TMF</th>\n",
       "      <th>GLD</th>\n",
       "      <th>strategy</th>\n",
       "    </tr>\n",
       "    <tr>\n",
       "      <th>Date</th>\n",
       "      <th></th>\n",
       "      <th></th>\n",
       "      <th></th>\n",
       "      <th></th>\n",
       "    </tr>\n",
       "  </thead>\n",
       "  <tbody>\n",
       "    <tr>\n",
       "      <th>2011</th>\n",
       "      <td>-8.05</td>\n",
       "      <td>109.18</td>\n",
       "      <td>9.57</td>\n",
       "      <td>12.40</td>\n",
       "    </tr>\n",
       "    <tr>\n",
       "      <th>2012</th>\n",
       "      <td>52.29</td>\n",
       "      <td>0.60</td>\n",
       "      <td>6.60</td>\n",
       "      <td>22.17</td>\n",
       "    </tr>\n",
       "    <tr>\n",
       "      <th>2013</th>\n",
       "      <td>139.73</td>\n",
       "      <td>-39.00</td>\n",
       "      <td>-28.33</td>\n",
       "      <td>6.76</td>\n",
       "    </tr>\n",
       "    <tr>\n",
       "      <th>2014</th>\n",
       "      <td>57.09</td>\n",
       "      <td>97.34</td>\n",
       "      <td>-2.19</td>\n",
       "      <td>21.26</td>\n",
       "    </tr>\n",
       "    <tr>\n",
       "      <th>2015</th>\n",
       "      <td>17.23</td>\n",
       "      <td>-13.73</td>\n",
       "      <td>-10.67</td>\n",
       "      <td>1.23</td>\n",
       "    </tr>\n",
       "    <tr>\n",
       "      <th>2016</th>\n",
       "      <td>11.38</td>\n",
       "      <td>-2.52</td>\n",
       "      <td>8.03</td>\n",
       "      <td>12.12</td>\n",
       "    </tr>\n",
       "    <tr>\n",
       "      <th>2017</th>\n",
       "      <td>118.06</td>\n",
       "      <td>22.72</td>\n",
       "      <td>12.81</td>\n",
       "      <td>41.31</td>\n",
       "    </tr>\n",
       "    <tr>\n",
       "      <th>2018</th>\n",
       "      <td>-19.79</td>\n",
       "      <td>-11.01</td>\n",
       "      <td>-1.94</td>\n",
       "      <td>-4.56</td>\n",
       "    </tr>\n",
       "    <tr>\n",
       "      <th>2019</th>\n",
       "      <td>133.83</td>\n",
       "      <td>34.75</td>\n",
       "      <td>17.86</td>\n",
       "      <td>53.52</td>\n",
       "    </tr>\n",
       "    <tr>\n",
       "      <th>2020</th>\n",
       "      <td>110.05</td>\n",
       "      <td>41.84</td>\n",
       "      <td>24.81</td>\n",
       "      <td>61.18</td>\n",
       "    </tr>\n",
       "    <tr>\n",
       "      <th>2021</th>\n",
       "      <td>82.98</td>\n",
       "      <td>-19.80</td>\n",
       "      <td>-4.15</td>\n",
       "      <td>19.07</td>\n",
       "    </tr>\n",
       "    <tr>\n",
       "      <th>2022</th>\n",
       "      <td>-79.09</td>\n",
       "      <td>-72.60</td>\n",
       "      <td>-0.77</td>\n",
       "      <td>-39.80</td>\n",
       "    </tr>\n",
       "    <tr>\n",
       "      <th>MEAN</th>\n",
       "      <td>29.69</td>\n",
       "      <td>-0.19</td>\n",
       "      <td>1.69</td>\n",
       "      <td>14.02</td>\n",
       "    </tr>\n",
       "  </tbody>\n",
       "</table>\n",
       "</div>"
      ],
      "text/plain": [
       "        TQQQ     TMF    GLD  strategy\n",
       "Date                                 \n",
       "2011   -8.05  109.18   9.57     12.40\n",
       "2012   52.29    0.60   6.60     22.17\n",
       "2013  139.73  -39.00 -28.33      6.76\n",
       "2014   57.09   97.34  -2.19     21.26\n",
       "2015   17.23  -13.73 -10.67      1.23\n",
       "2016   11.38   -2.52   8.03     12.12\n",
       "2017  118.06   22.72  12.81     41.31\n",
       "2018  -19.79  -11.01  -1.94     -4.56\n",
       "2019  133.83   34.75  17.86     53.52\n",
       "2020  110.05   41.84  24.81     61.18\n",
       "2021   82.98  -19.80  -4.15     19.07\n",
       "2022  -79.09  -72.60  -0.77    -39.80\n",
       "MEAN   29.69   -0.19   1.69     14.02"
      ]
     },
     "execution_count": 61,
     "metadata": {},
     "output_type": "execute_result"
    }
   ],
   "source": [
    "## 연수익률\n",
    "anal_funcs.get_YTD_report(AWP_result, 'a')"
   ]
  },
  {
   "cell_type": "code",
   "execution_count": 62,
   "metadata": {},
   "outputs": [
    {
     "data": {
      "text/html": [
       "<div>\n",
       "<style scoped>\n",
       "    .dataframe tbody tr th:only-of-type {\n",
       "        vertical-align: middle;\n",
       "    }\n",
       "\n",
       "    .dataframe tbody tr th {\n",
       "        vertical-align: top;\n",
       "    }\n",
       "\n",
       "    .dataframe thead th {\n",
       "        text-align: right;\n",
       "    }\n",
       "</style>\n",
       "<table border=\"1\" class=\"dataframe\">\n",
       "  <thead>\n",
       "    <tr style=\"text-align: right;\">\n",
       "      <th></th>\n",
       "      <th>MDD(%)</th>\n",
       "      <th>Date</th>\n",
       "    </tr>\n",
       "    <tr>\n",
       "      <th>Ticker</th>\n",
       "      <th></th>\n",
       "      <th></th>\n",
       "    </tr>\n",
       "  </thead>\n",
       "  <tbody>\n",
       "    <tr>\n",
       "      <th>TQQQ</th>\n",
       "      <td>-79.09</td>\n",
       "      <td>2022-12-31</td>\n",
       "    </tr>\n",
       "    <tr>\n",
       "      <th>TMF</th>\n",
       "      <td>-84.13</td>\n",
       "      <td>2022-10-31</td>\n",
       "    </tr>\n",
       "    <tr>\n",
       "      <th>GLD</th>\n",
       "      <td>-42.91</td>\n",
       "      <td>2015-12-31</td>\n",
       "    </tr>\n",
       "    <tr>\n",
       "      <th>strategy</th>\n",
       "      <td>-41.53</td>\n",
       "      <td>2022-09-30</td>\n",
       "    </tr>\n",
       "  </tbody>\n",
       "</table>\n",
       "</div>"
      ],
      "text/plain": [
       "          MDD(%)       Date\n",
       "Ticker                     \n",
       "TQQQ      -79.09 2022-12-31\n",
       "TMF       -84.13 2022-10-31\n",
       "GLD       -42.91 2015-12-31\n",
       "strategy  -41.53 2022-09-30"
      ]
     },
     "execution_count": 62,
     "metadata": {},
     "output_type": "execute_result"
    }
   ],
   "source": [
    "## 전고점대비 최대낙폭(MDD)\n",
    "MDD, HRR = anal_funcs.get_MDD_report(AWP_result, 'a')\n",
    "MDD"
   ]
  },
  {
   "cell_type": "code",
   "execution_count": 63,
   "metadata": {},
   "outputs": [],
   "source": [
    "test_dfs = [AWP_result.reset_index().shift(i).set_index('Date')[-(len(AWP_result)+1 - int(len(AWP_result)/10)):]\n",
    "            for i in range(int(len(AWP_result)/10))]"
   ]
  },
  {
   "cell_type": "code",
   "execution_count": 64,
   "metadata": {},
   "outputs": [],
   "source": [
    "## sortino ratio\n",
    "sort_df = anal_funcs.get_Vol_report(test_dfs[0], 'a', unit='monthly', rf=1)\n",
    "## 모든 가능한 시작 시점에 대한 평가\n",
    "temp = ([anal_funcs.get_Vol_report(test_dfs[i], 'a', unit='monthly', rf=1) for i in range(len(test_dfs))])\n",
    "sort_df_simulation = (sum(temp)/len(temp)).round(2)"
   ]
  },
  {
   "cell_type": "code",
   "execution_count": 65,
   "metadata": {},
   "outputs": [
    {
     "data": {
      "text/html": [
       "<div>\n",
       "<style scoped>\n",
       "    .dataframe tbody tr th:only-of-type {\n",
       "        vertical-align: middle;\n",
       "    }\n",
       "\n",
       "    .dataframe tbody tr th {\n",
       "        vertical-align: top;\n",
       "    }\n",
       "\n",
       "    .dataframe thead th {\n",
       "        text-align: right;\n",
       "    }\n",
       "</style>\n",
       "<table border=\"1\" class=\"dataframe\">\n",
       "  <thead>\n",
       "    <tr style=\"text-align: right;\">\n",
       "      <th></th>\n",
       "      <th>Return</th>\n",
       "      <th>Volatility</th>\n",
       "      <th>Volatility(Down)</th>\n",
       "      <th>Residual</th>\n",
       "      <th>Beta</th>\n",
       "      <th>Sharpe_Ratio</th>\n",
       "      <th>Sortino_Ratio</th>\n",
       "      <th>Trainer_Ratio</th>\n",
       "      <th>Jensen_Alpha</th>\n",
       "      <th>Info_Ratio</th>\n",
       "    </tr>\n",
       "    <tr>\n",
       "      <th>Ticker</th>\n",
       "      <th></th>\n",
       "      <th></th>\n",
       "      <th></th>\n",
       "      <th></th>\n",
       "      <th></th>\n",
       "      <th></th>\n",
       "      <th></th>\n",
       "      <th></th>\n",
       "      <th></th>\n",
       "      <th></th>\n",
       "    </tr>\n",
       "  </thead>\n",
       "  <tbody>\n",
       "    <tr>\n",
       "      <th>TQQQ</th>\n",
       "      <td>37.35</td>\n",
       "      <td>15.25</td>\n",
       "      <td>9.30</td>\n",
       "      <td>0.00</td>\n",
       "      <td>1.00</td>\n",
       "      <td>2.39</td>\n",
       "      <td>3.94</td>\n",
       "      <td>36.35</td>\n",
       "      <td>0.00</td>\n",
       "      <td>NaN</td>\n",
       "    </tr>\n",
       "    <tr>\n",
       "      <th>TMF</th>\n",
       "      <td>2.24</td>\n",
       "      <td>11.55</td>\n",
       "      <td>5.60</td>\n",
       "      <td>20.45</td>\n",
       "      <td>-0.20</td>\n",
       "      <td>0.11</td>\n",
       "      <td>0.26</td>\n",
       "      <td>-1.57</td>\n",
       "      <td>9.13</td>\n",
       "      <td>-1.71</td>\n",
       "    </tr>\n",
       "    <tr>\n",
       "      <th>GLD</th>\n",
       "      <td>2.49</td>\n",
       "      <td>4.65</td>\n",
       "      <td>2.67</td>\n",
       "      <td>15.42</td>\n",
       "      <td>0.38</td>\n",
       "      <td>0.32</td>\n",
       "      <td>0.55</td>\n",
       "      <td>4.42</td>\n",
       "      <td>-12.08</td>\n",
       "      <td>-2.26</td>\n",
       "    </tr>\n",
       "    <tr>\n",
       "      <th>strategy</th>\n",
       "      <td>16.78</td>\n",
       "      <td>5.97</td>\n",
       "      <td>3.22</td>\n",
       "      <td>10.63</td>\n",
       "      <td>2.18</td>\n",
       "      <td>2.66</td>\n",
       "      <td>4.99</td>\n",
       "      <td>7.24</td>\n",
       "      <td>-63.46</td>\n",
       "      <td>-1.94</td>\n",
       "    </tr>\n",
       "  </tbody>\n",
       "</table>\n",
       "</div>"
      ],
      "text/plain": [
       "          Return  Volatility  Volatility(Down)  Residual  Beta  Sharpe_Ratio  \\\n",
       "Ticker                                                                         \n",
       "TQQQ       37.35       15.25              9.30      0.00  1.00          2.39   \n",
       "TMF         2.24       11.55              5.60     20.45 -0.20          0.11   \n",
       "GLD         2.49        4.65              2.67     15.42  0.38          0.32   \n",
       "strategy   16.78        5.97              3.22     10.63  2.18          2.66   \n",
       "\n",
       "          Sortino_Ratio  Trainer_Ratio  Jensen_Alpha  Info_Ratio  \n",
       "Ticker                                                            \n",
       "TQQQ               3.94          36.35          0.00         NaN  \n",
       "TMF                0.26          -1.57          9.13       -1.71  \n",
       "GLD                0.55           4.42        -12.08       -2.26  \n",
       "strategy           4.99           7.24        -63.46       -1.94  "
      ]
     },
     "execution_count": 65,
     "metadata": {},
     "output_type": "execute_result"
    }
   ],
   "source": [
    "sort_df_simulation"
   ]
  },
  {
   "cell_type": "code",
   "execution_count": null,
   "metadata": {},
   "outputs": [],
   "source": []
  },
  {
   "cell_type": "code",
   "execution_count": null,
   "metadata": {},
   "outputs": [],
   "source": []
  }
 ],
 "metadata": {
  "hide_input": false,
  "kernelspec": {
   "display_name": "Python 3 (ipykernel)",
   "language": "python",
   "name": "python3"
  },
  "language_info": {
   "codemirror_mode": {
    "name": "ipython",
    "version": 3
   },
   "file_extension": ".py",
   "mimetype": "text/x-python",
   "name": "python",
   "nbconvert_exporter": "python",
   "pygments_lexer": "ipython3",
   "version": "3.9.7"
  },
  "toc": {
   "base_numbering": 1,
   "nav_menu": {},
   "number_sections": true,
   "sideBar": true,
   "skip_h1_title": false,
   "title_cell": "Table of Contents",
   "title_sidebar": "Contents",
   "toc_cell": false,
   "toc_position": {},
   "toc_section_display": true,
   "toc_window_display": false
  },
  "varInspector": {
   "cols": {
    "lenName": 16,
    "lenType": 16,
    "lenVar": 40
   },
   "kernels_config": {
    "python": {
     "delete_cmd_postfix": "",
     "delete_cmd_prefix": "del ",
     "library": "var_list.py",
     "varRefreshCmd": "print(var_dic_list())"
    },
    "r": {
     "delete_cmd_postfix": ") ",
     "delete_cmd_prefix": "rm(",
     "library": "var_list.r",
     "varRefreshCmd": "cat(var_dic_list()) "
    }
   },
   "types_to_exclude": [
    "module",
    "function",
    "builtin_function_or_method",
    "instance",
    "_Feature"
   ],
   "window_display": false
  }
 },
 "nbformat": 4,
 "nbformat_minor": 4
}
