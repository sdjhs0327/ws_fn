{
 "cells": [
  {
   "cell_type": "code",
   "execution_count": 1,
   "metadata": {},
   "outputs": [],
   "source": [
    "## FIRE simulator"
   ]
  },
  {
   "cell_type": "code",
   "execution_count": 2,
   "metadata": {
    "ExecuteTime": {
     "end_time": "2023-02-17T03:06:53.252721Z",
     "start_time": "2023-02-17T03:06:52.787221Z"
    }
   },
   "outputs": [
    {
     "data": {
      "text/html": [
       "        <script type=\"text/javascript\">\n",
       "        window.PlotlyConfig = {MathJaxConfig: 'local'};\n",
       "        if (window.MathJax && window.MathJax.Hub && window.MathJax.Hub.Config) {window.MathJax.Hub.Config({SVG: {font: \"STIX-Web\"}});}\n",
       "        if (typeof require !== 'undefined') {\n",
       "        require.undef(\"plotly\");\n",
       "        requirejs.config({\n",
       "            paths: {\n",
       "                'plotly': ['https://cdn.plot.ly/plotly-2.12.1.min']\n",
       "            }\n",
       "        });\n",
       "        require(['plotly'], function(Plotly) {\n",
       "            window._Plotly = Plotly;\n",
       "        });\n",
       "        }\n",
       "        </script>\n",
       "        "
      ]
     },
     "metadata": {},
     "output_type": "display_data"
    }
   ],
   "source": [
    "import pandas as pd\n",
    "import warnings\n",
    "warnings.filterwarnings('ignore')\n",
    "import numpy as np\n",
    "import datetime as dt\n",
    "from sympy import Symbol, solveset, Interval\n",
    "\n",
    "# 시각화 관련\n",
    "import plotly_express as px\n",
    "import plotly.figure_factory as ff\n",
    "import cufflinks as cf\n",
    "cf.go_offline(connected=True)\n",
    "## cf.getThemes()\n",
    "cf.set_config_file(theme='polar')\n",
    "import plotly.graph_objects as go\n",
    "%matplotlib inline\n",
    "import matplotlib.pyplot as plt\n",
    "import seaborn as sns\n",
    "sns.set_style('whitegrid')\n",
    "## plt.style.use(\"fivethirtyeight\")\n",
    "plt.rcParams['font.family'] = 'Malgun Gothic'\n",
    "plt.rcParams['axes.unicode_minus'] = False\n",
    "plt.rcParams[\"figure.figsize\"] = (10,6)\n",
    "\n",
    "\n",
    "## 퀀트함수 ## 절대경로 참조\n",
    "import sys, os\n",
    "sys.path.append(os.path.dirname(os.path.abspath(os.path.dirname('__file__'))))\n",
    "from library.quant_functions import anal_funcs, data_funcs"
   ]
  },
  {
   "attachments": {},
   "cell_type": "markdown",
   "metadata": {},
   "source": [
    "## Func"
   ]
  },
  {
   "cell_type": "code",
   "execution_count": 10,
   "metadata": {
    "ExecuteTime": {
     "end_time": "2023-02-17T03:17:24.787566Z",
     "start_time": "2023-02-17T03:17:24.770371Z"
    }
   },
   "outputs": [],
   "source": [
    "def cal_kap(s, c, r, t):\n",
    "    '''\n",
    "    * s: seed, c: cashflow, r: return(Y), t: terms(Y)\n",
    "    * k: 달성자산\n",
    "    '''\n",
    "    k = s*((1+r)**t) + c*((1-((1+r)**t)))/(1-(1+r))\n",
    "    return(k)"
   ]
  },
  {
   "cell_type": "code",
   "execution_count": 11,
   "metadata": {
    "ExecuteTime": {
     "end_time": "2023-02-17T03:17:24.998892Z",
     "start_time": "2023-02-17T03:17:24.993908Z"
    }
   },
   "outputs": [],
   "source": [
    "def cal_ret(k, s, c, t):\n",
    "    '''\n",
    "    * k: kapital, s: seed, c: cashflow, t: terms(Y)\n",
    "    * r: 요구수익률\n",
    "    '''\n",
    "    r=Symbol('r')\n",
    "    equation = s*((1+r)**(t)) + c*((1-((1+r)**(t)))/(1-(1+r))) - k\n",
    "    val = solveset(equation, r, Interval(0, 999))\n",
    "    solve_r = float(list(val)[0])\n",
    "    return(np.round(solve_r, 2))"
   ]
  },
  {
   "cell_type": "code",
   "execution_count": 13,
   "metadata": {
    "ExecuteTime": {
     "end_time": "2023-02-17T03:17:25.301330Z",
     "start_time": "2023-02-17T03:17:25.291276Z"
    }
   },
   "outputs": [],
   "source": [
    "def cal_term(k, s, c, r):\n",
    "    '''\n",
    "    * k: kapital, s: seed, c: cashflow, r: return(Y)\n",
    "    * t: 요구 기간\n",
    "    '''\n",
    "    t=Symbol('t')\n",
    "    equation = s*((1+r)**(t)) + c*((1-((1+r)**(t)))/(1-(1+r))) - k\n",
    "    val = solveset(equation, t, Interval(0, 999))\n",
    "    solve_t = float(list(val)[0])\n",
    "    return(np.round(solve_t, 2))"
   ]
  },
  {
   "attachments": {},
   "cell_type": "markdown",
   "metadata": {},
   "source": [
    "## Proc"
   ]
  },
  {
   "cell_type": "code",
   "execution_count": null,
   "metadata": {},
   "outputs": [],
   "source": []
  },
  {
   "cell_type": "code",
   "execution_count": 16,
   "metadata": {},
   "outputs": [],
   "source": [
    "## seed\n",
    "s = 34000 * 1e4\n",
    "## Kapital\n",
    "k = 150000 *1e4\n",
    "## term\n",
    "d = (dt.datetime(2028, 5, 31) - dt.datetime.now()).days\n",
    "t = int(d/365) ## 연으로 변환\n",
    "## return\n",
    "r = 0.43\n",
    "## cash flow\n",
    "c = 120*1e4*12"
   ]
  },
  {
   "cell_type": "code",
   "execution_count": 20,
   "metadata": {},
   "outputs": [],
   "source": [
    "demanded_term = cal_term(k, s, c, r)\n",
    "demanded_return = cal_ret(k, s, c, t)\n",
    "expected_kapital = cal_kap(s, c, r, t)"
   ]
  },
  {
   "cell_type": "code",
   "execution_count": 42,
   "metadata": {
    "ExecuteTime": {
     "end_time": "2023-02-17T03:17:25.754302Z",
     "start_time": "2023-02-17T03:17:25.737500Z"
    }
   },
   "outputs": [
    {
     "name": "stdout",
     "output_type": "stream",
     "text": [
      "기간의 충분성: True, 요구기간: 4.27Y, 가용기간: 5Y\n",
      "수익률의 충분성: True, 요구수익률: 35.0%, 가용수익률: 43.0%\n",
      "자산의 적절성: True, 기대자산: 196068, 목표자산: 150000\n"
     ]
    }
   ],
   "source": [
    "print(f\"기간의 충분성: {demanded_term <= t}, 요구기간: {demanded_term}Y, 가용기간: {t}Y\")\n",
    "print(f\"수익률의 충분성: {demanded_return <= r}, 요구수익률: {demanded_return*1e2}%, 가용수익률: {r*1e2}%\")\n",
    "print(f\"자산의 적절성: {expected_kapital >= k}, 기대자산: {expected_kapital/1e4:.0f}, 목표자산: {k/1e4:.0f}\")"
   ]
  },
  {
   "cell_type": "code",
   "execution_count": 44,
   "metadata": {
    "ExecuteTime": {
     "end_time": "2023-02-17T03:17:55.439052Z",
     "start_time": "2023-02-17T03:17:55.427018Z"
    }
   },
   "outputs": [],
   "source": [
    "temp_ls = []\n",
    "for n in range(1, 2000):\n",
    "    r = n*0.001\n",
    "    gap = np.e**r - (1+r)\n",
    "    temp_ls.append((r, gap))"
   ]
  },
  {
   "cell_type": "code",
   "execution_count": 46,
   "metadata": {
    "ExecuteTime": {
     "end_time": "2023-02-17T03:17:57.297479Z",
     "start_time": "2023-02-17T03:17:57.282366Z"
    }
   },
   "outputs": [],
   "source": [
    "temp_df = pd.DataFrame(temp_ls, columns=['r', 'gap'])"
   ]
  },
  {
   "cell_type": "code",
   "execution_count": 53,
   "metadata": {},
   "outputs": [
    {
     "data": {
      "text/plain": [
       "2.718281828459045"
      ]
     },
     "execution_count": 53,
     "metadata": {},
     "output_type": "execute_result"
    }
   ],
   "source": [
    "np.e"
   ]
  },
  {
   "cell_type": "code",
   "execution_count": 141,
   "metadata": {
    "ExecuteTime": {
     "end_time": "2023-02-17T03:17:58.206279Z",
     "start_time": "2023-02-17T03:17:58.075121Z"
    }
   },
   "outputs": [
    {
     "data": {
      "text/plain": [
       "<AxesSubplot:xlabel='r', ylabel='gap'>"
      ]
     },
     "execution_count": 141,
     "metadata": {},
     "output_type": "execute_result"
    },
    {
     "data": {
      "image/png": "[encoded data removed]",
      "text/plain": [
       "<Figure size 720x432 with 1 Axes>"
      ]
     },
     "metadata": {},
     "output_type": "display_data"
    }
   ],
   "source": [
    "sns.scatterplot(data = temp_df, x = 'r', y = 'gap')"
   ]
  },
  {
   "cell_type": "code",
   "execution_count": null,
   "metadata": {},
   "outputs": [],
   "source": []
  },
  {
   "cell_type": "code",
   "execution_count": null,
   "metadata": {},
   "outputs": [],
   "source": []
  },
  {
   "cell_type": "code",
   "execution_count": null,
   "metadata": {},
   "outputs": [],
   "source": []
  },
  {
   "cell_type": "code",
   "execution_count": null,
   "metadata": {},
   "outputs": [],
   "source": []
  },
  {
   "cell_type": "code",
   "execution_count": null,
   "metadata": {},
   "outputs": [],
   "source": []
  },
  {
   "cell_type": "code",
   "execution_count": null,
   "metadata": {},
   "outputs": [],
   "source": []
  }
 ],
 "metadata": {
  "hide_input": false,
  "kernelspec": {
   "display_name": "Python 3 (ipykernel)",
   "language": "python",
   "name": "python3"
  },
  "language_info": {
   "codemirror_mode": {
    "name": "ipython",
    "version": 3
   },
   "file_extension": ".py",
   "mimetype": "text/x-python",
   "name": "python",
   "nbconvert_exporter": "python",
   "pygments_lexer": "ipython3",
   "version": "3.9.7"
  },
  "toc": {
   "base_numbering": 1,
   "nav_menu": {},
   "number_sections": true,
   "sideBar": true,
   "skip_h1_title": false,
   "title_cell": "Table of Contents",
   "title_sidebar": "Contents",
   "toc_cell": false,
   "toc_position": {},
   "toc_section_display": true,
   "toc_window_display": false
  },
  "varInspector": {
   "cols": {
    "lenName": 16,
    "lenType": 16,
    "lenVar": 40
   },
   "kernels_config": {
    "python": {
     "delete_cmd_postfix": "",
     "delete_cmd_prefix": "del ",
     "library": "var_list.py",
     "varRefreshCmd": "print(var_dic_list())"
    },
    "r": {
     "delete_cmd_postfix": ") ",
     "delete_cmd_prefix": "rm(",
     "library": "var_list.r",
     "varRefreshCmd": "cat(var_dic_list()) "
    }
   },
   "types_to_exclude": [
    "module",
    "function",
    "builtin_function_or_method",
    "instance",
    "_Feature"
   ],
   "window_display": false
  }
 },
 "nbformat": 4,
 "nbformat_minor": 4
}
