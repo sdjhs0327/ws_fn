{
 "cells": [
  {
   "cell_type": "code",
   "execution_count": 1,
   "metadata": {},
   "outputs": [],
   "source": [
    "## FIRE simulator"
   ]
  },
  {
   "cell_type": "code",
   "execution_count": 2,
   "metadata": {
    "ExecuteTime": {
     "end_time": "2023-02-17T03:06:53.252721Z",
     "start_time": "2023-02-17T03:06:52.787221Z"
    }
   },
   "outputs": [
    {
     "data": {
      "text/html": [
       "        <script type=\"text/javascript\">\n",
       "        window.PlotlyConfig = {MathJaxConfig: 'local'};\n",
       "        if (window.MathJax && window.MathJax.Hub && window.MathJax.Hub.Config) {window.MathJax.Hub.Config({SVG: {font: \"STIX-Web\"}});}\n",
       "        if (typeof require !== 'undefined') {\n",
       "        require.undef(\"plotly\");\n",
       "        requirejs.config({\n",
       "            paths: {\n",
       "                'plotly': ['https://cdn.plot.ly/plotly-2.27.0.min']\n",
       "            }\n",
       "        });\n",
       "        require(['plotly'], function(Plotly) {\n",
       "            window._Plotly = Plotly;\n",
       "        });\n",
       "        }\n",
       "        </script>\n",
       "        "
      ]
     },
     "metadata": {},
     "output_type": "display_data"
    }
   ],
   "source": [
    "import pandas as pd\n",
    "import warnings\n",
    "warnings.filterwarnings('ignore')\n",
    "import numpy as np\n",
    "import datetime as dt\n",
    "from sympy import Symbol, solveset, Interval\n",
    "\n",
    "# 시각화 관련\n",
    "import plotly_express as px\n",
    "import plotly.figure_factory as ff\n",
    "import cufflinks as cf\n",
    "cf.go_offline(connected=True)\n",
    "## cf.getThemes()\n",
    "cf.set_config_file(theme='polar')\n",
    "import plotly.graph_objects as go\n",
    "%matplotlib inline\n",
    "import matplotlib.pyplot as plt\n",
    "import seaborn as sns\n",
    "sns.set_style('whitegrid')\n",
    "## plt.style.use(\"fivethirtyeight\")\n",
    "plt.rcParams['font.family'] = 'Malgun Gothic'\n",
    "plt.rcParams['axes.unicode_minus'] = False\n",
    "plt.rcParams[\"figure.figsize\"] = (10,6)\n",
    "\n",
    "\n",
    "## 퀀트함수 ## 절대경로 참조\n",
    "import sys, os\n",
    "sys.path.append(os.path.dirname(os.path.abspath(os.path.dirname('__file__'))))\n",
    "from quant_functions import anal_funcs, data_funcs"
   ]
  },
  {
   "attachments": {},
   "cell_type": "markdown",
   "metadata": {},
   "source": [
    "## Func"
   ]
  },
  {
   "cell_type": "code",
   "execution_count": 3,
   "metadata": {
    "ExecuteTime": {
     "end_time": "2023-02-17T03:17:24.787566Z",
     "start_time": "2023-02-17T03:17:24.770371Z"
    }
   },
   "outputs": [],
   "source": [
    "def cal_kap(s, c, r, t):\n",
    "    '''\n",
    "    * s: seed, c: cashflow, r: return(Y), t: terms(Y)\n",
    "    * k: 달성자산\n",
    "    '''\n",
    "    k = s*((1+r)**t) + c*((1-((1+r)**t)))/(1-(1+r))\n",
    "    return(k)"
   ]
  },
  {
   "cell_type": "code",
   "execution_count": null,
   "metadata": {},
   "outputs": [],
   "source": []
  },
  {
   "cell_type": "code",
   "execution_count": 4,
   "metadata": {
    "ExecuteTime": {
     "end_time": "2023-02-17T03:17:24.998892Z",
     "start_time": "2023-02-17T03:17:24.993908Z"
    }
   },
   "outputs": [],
   "source": [
    "def cal_ret(k, s, c, t):\n",
    "    '''\n",
    "    * k: 목표 자산, s: 시드 머니, c: 현금 흐름, t: 투자 기간\n",
    "    * r: 목표수익률\n",
    "    '''\n",
    "    r=Symbol('r')\n",
    "    equation = s*((1+r)**(t)) + c*((1-((1+r)**(t)))/(1-(1+r))) - k\n",
    "    val = solveset(equation, r, Interval(0, 999))\n",
    "    solve_r = float(list(val)[0])\n",
    "    return(np.round(solve_r, 2))"
   ]
  },
  {
   "cell_type": "code",
   "execution_count": 5,
   "metadata": {
    "ExecuteTime": {
     "end_time": "2023-02-17T03:17:25.301330Z",
     "start_time": "2023-02-17T03:17:25.291276Z"
    }
   },
   "outputs": [],
   "source": [
    "def cal_term(k, s, c, r):\n",
    "    '''\n",
    "    * k: kapital, s: seed, c: cashflow, r: return(Y)\n",
    "    * t: 요구 기간\n",
    "    '''\n",
    "    t=Symbol('t')\n",
    "    equation = s*((1+r)**(t)) + c*((1-((1+r)**(t)))/(1-(1+r))) - k\n",
    "    val = solveset(equation, t, Interval(0, 999))\n",
    "    solve_t = float(list(val)[0])\n",
    "    return(np.round(solve_t, 2))"
   ]
  },
  {
   "cell_type": "code",
   "execution_count": 6,
   "metadata": {},
   "outputs": [],
   "source": [
    "def investment_growth(initial_investment, monthly_contribution, annual_return, years):\n",
    "    monthly_return = (1 + annual_return) ** (1/12) - 1\n",
    "    months = years * 12\n",
    "    asset_values = []\n",
    "    principal_invested = []\n",
    "    earnings = []\n",
    "    current_value = initial_investment\n",
    "    total_principal = initial_investment\n",
    "\n",
    "    for _ in range(1, months + 1):\n",
    "        current_value = current_value * (1 + monthly_return) + monthly_contribution\n",
    "        total_principal += monthly_contribution\n",
    "        asset_values.append(current_value)\n",
    "        principal_invested.append(total_principal)\n",
    "        earnings.append(current_value - total_principal)\n",
    "\n",
    "    df = pd.DataFrame({\n",
    "        'Month': range(1, months + 1),\n",
    "        'Asset Value': asset_values,\n",
    "        'Principal Invested': principal_invested,\n",
    "        'Earnings': earnings\n",
    "    })\n",
    "\n",
    "    return df"
   ]
  },
  {
   "attachments": {},
   "cell_type": "markdown",
   "metadata": {},
   "source": [
    "## Proc"
   ]
  },
  {
   "cell_type": "code",
   "execution_count": 14,
   "metadata": {},
   "outputs": [],
   "source": [
    "## seed\n",
    "s = 10000 * 1e4\n",
    "## Kapital\n",
    "k = 30000 *1e4\n",
    "## term\n",
    "d = (dt.datetime(2024, 12, 31) - dt.datetime(2020, 1, 1)).days\n",
    "t = int(d/365) ## 연으로 변환\n",
    "## cash flow\n",
    "c = 200*1e4*12"
   ]
  },
  {
   "cell_type": "code",
   "execution_count": 40,
   "metadata": {},
   "outputs": [],
   "source": [
    "seed1_worst = cal_kap(10000*1e4, 200*1e4*12, 0.08, 10)/1e4"
   ]
  },
  {
   "cell_type": "code",
   "execution_count": 41,
   "metadata": {},
   "outputs": [],
   "source": [
    "seed1_best = cal_kap(10000*1e4, 200*1e4*12, 0.12, 10)/1e4"
   ]
  },
  {
   "cell_type": "code",
   "execution_count": 42,
   "metadata": {},
   "outputs": [],
   "source": [
    "seed0_worst = cal_kap(0, c, 0.08, 10)/1e4"
   ]
  },
  {
   "cell_type": "code",
   "execution_count": 43,
   "metadata": {},
   "outputs": [],
   "source": [
    "seed0_best = cal_kap(0, c, 0.12, 10)/1e4"
   ]
  },
  {
   "cell_type": "code",
   "execution_count": 66,
   "metadata": {},
   "outputs": [
    {
     "data": {
      "text/plain": [
       "22959.761589858164"
      ]
     },
     "execution_count": 66,
     "metadata": {},
     "output_type": "execute_result"
    }
   ],
   "source": [
    "cal_kap(0, 150*12*1e4, 0.053, 10)/1e4"
   ]
  },
  {
   "cell_type": "code",
   "execution_count": 48,
   "metadata": {},
   "outputs": [
    {
     "data": {
      "text/plain": [
       "24000"
      ]
     },
     "execution_count": 48,
     "metadata": {},
     "output_type": "execute_result"
    }
   ],
   "source": [
    "200*12*10"
   ]
  },
  {
   "cell_type": "code",
   "execution_count": 55,
   "metadata": {},
   "outputs": [
    {
     "data": {
      "text/plain": [
       "3.258"
      ]
     },
     "execution_count": 55,
     "metadata": {},
     "output_type": "execute_result"
    }
   ],
   "source": [
    "2.4+((3.5 - 2.4) * 0.78)"
   ]
  },
  {
   "cell_type": "code",
   "execution_count": 58,
   "metadata": {},
   "outputs": [
    {
     "data": {
      "text/plain": [
       "0.462"
      ]
     },
     "execution_count": 58,
     "metadata": {},
     "output_type": "execute_result"
    }
   ],
   "source": [
    "((4.5 - 2.4) * 0.22)"
   ]
  },
  {
   "cell_type": "code",
   "execution_count": null,
   "metadata": {},
   "outputs": [
    {
     "data": {
      "text/plain": [
       "4.038"
      ]
     },
     "execution_count": 56,
     "metadata": {},
     "output_type": "execute_result"
    }
   ],
   "source": [
    "2.4+((4.5 - 2.4) * 0.78)"
   ]
  },
  {
   "cell_type": "code",
   "execution_count": 47,
   "metadata": {},
   "outputs": [
    {
     "name": "stdout",
     "output_type": "stream",
     "text": [
      "34767.74991818362 42116.96416688421\n"
     ]
    }
   ],
   "source": [
    "print(seed0_worst, seed0_best)"
   ]
  },
  {
   "cell_type": "code",
   "execution_count": 63,
   "metadata": {},
   "outputs": [
    {
     "name": "stdout",
     "output_type": "stream",
     "text": [
      "238.0\n",
      "297.0\n",
      "139.0\n",
      "181.0\n"
     ]
    }
   ],
   "source": [
    "print(32000*(0.035*0.85)//4)\n",
    "print(40000*(0.035*0.85)//4)\n",
    "print(seed1_worst*(0.035*0.85)//12)\n",
    "print(seed1_best*(0.035*0.85)//12)"
   ]
  },
  {
   "cell_type": "code",
   "execution_count": 38,
   "metadata": {},
   "outputs": [
    {
     "data": {
      "text/plain": [
       "0.035"
      ]
     },
     "execution_count": 38,
     "metadata": {},
     "output_type": "execute_result"
    }
   ],
   "source": [
    "0.035"
   ]
  },
  {
   "cell_type": "code",
   "execution_count": 7,
   "metadata": {},
   "outputs": [],
   "source": [
    "demanded_return = cal_ret(k, s, c, t)"
   ]
  },
  {
   "cell_type": "code",
   "execution_count": 8,
   "metadata": {},
   "outputs": [
    {
     "data": {
      "text/plain": [
       "0.13"
      ]
     },
     "execution_count": 8,
     "metadata": {},
     "output_type": "execute_result"
    }
   ],
   "source": [
    "demanded_return"
   ]
  },
  {
   "cell_type": "code",
   "execution_count": 17,
   "metadata": {},
   "outputs": [],
   "source": [
    "## seed\n",
    "s = 34000 * 1e4\n",
    "## Kapital\n",
    "k = 150000 *1e4\n",
    "## term\n",
    "d = (dt.datetime(2028, 5, 31) - dt.datetime.now()).days\n",
    "t = int(d/365) ## 연으로 변환\n",
    "## return\n",
    "r = 0.43\n",
    "## cash flow\n",
    "c = 120*1e4*12"
   ]
  },
  {
   "cell_type": "code",
   "execution_count": 18,
   "metadata": {},
   "outputs": [],
   "source": [
    "demanded_term = cal_term(k, s, c, r)\n",
    "demanded_return = cal_ret(k, s, c, t)\n",
    "expected_kapital = cal_kap(s, c, r, t)"
   ]
  },
  {
   "cell_type": "code",
   "execution_count": 19,
   "metadata": {
    "ExecuteTime": {
     "end_time": "2023-02-17T03:17:25.754302Z",
     "start_time": "2023-02-17T03:17:25.737500Z"
    }
   },
   "outputs": [
    {
     "name": "stdout",
     "output_type": "stream",
     "text": [
      "기간의 충분성: False, 요구기간: 3.95Y, 가용기간: 3Y\n",
      "수익률의 충분성: False, 요구수익률: 61.0%, 가용수익률: 43.0%\n",
      "자산의 적절성: False, 기대자산: 105867, 목표자산: 150000\n"
     ]
    }
   ],
   "source": [
    "print(f\"기간의 충분성: {demanded_term <= t}, 요구기간: {demanded_term}Y, 가용기간: {t}Y\")\n",
    "print(f\"수익률의 충분성: {demanded_return <= r}, 요구수익률: {demanded_return*1e2}%, 가용수익률: {r*1e2}%\")\n",
    "print(f\"자산의 적절성: {expected_kapital >= k}, 기대자산: {expected_kapital/1e4:.0f}, 목표자산: {k/1e4:.0f}\")"
   ]
  },
  {
   "cell_type": "code",
   "execution_count": 27,
   "metadata": {},
   "outputs": [],
   "source": [
    "# Example usage\n",
    "initial_investment = 0\n",
    "monthly_contribution = 100\n",
    "annual_return = 0.20\n",
    "years = 10"
   ]
  },
  {
   "cell_type": "code",
   "execution_count": null,
   "metadata": {},
   "outputs": [
    {
     "data": {
      "image/png": "[encoded data removed]",
      "text/plain": [
       "<Figure size 1000x600 with 1 Axes>"
      ]
     },
     "metadata": {},
     "output_type": "display_data"
    }
   ],
   "source": [
    "df_asset_growth = investment_growth(initial_investment, monthly_contribution, annual_return, years)\n",
    "\n",
    "\n",
    "df_asset_growth.rename(columns={'Asset Value': '자산 가치', 'Principal Invested': '투자 원금', 'Earnings': '수익'}).set_index('Month')[['자산 가치', '투자 원금', '수익']].plot()\n",
    "plt.gca().lines[0].set_color('#F87A53')\n",
    "plt.gca().lines[0].set_linewidth(2)\n",
    "plt.gca().lines[1].set_color('#898121')\n",
    "plt.gca().lines[1].set_linewidth(2)\n",
    "plt.gca().lines[2].set_color('#E6C767')\n",
    "plt.gca().lines[2].set_linewidth(2)\n",
    "plt.legend(['자산 가치', '투자 원금', '수익'], loc='upper left', frameon=True)\n",
    "legend = plt.gca().get_legend()\n",
    "legend.legendHandles[0].set_color('#F87A53')\n",
    "legend.legendHandles[1].set_color('#898121')\n",
    "legend.legendHandles[2].set_color('#E6C767')\n",
    "plt.xlabel('Month', fontweight='bold')\n",
    "plt.ylabel('Value', fontweight='bold')\n",
    "plt.title('Investment Growth Over Time', fontsize=16, fontweight='bold')\n",
    "plt.grid(True, which='both', linestyle='--', linewidth=0.5)  # 그리드 추가 및 스타일 설정\n",
    "# 각 그래프의 시작점과 끝점에 포인트를 둥글게 찍기\n",
    "plt.scatter([1, len(df_asset_growth)], [df_asset_growth['Asset Value'].iloc[0], df_asset_growth['Asset Value'].iloc[-1]], color='#F87A53', s=100, zorder=5)\n",
    "plt.scatter([1, len(df_asset_growth)], [df_asset_growth['Principal Invested'].iloc[0], df_asset_growth['Principal Invested'].iloc[-1]], color='#898121', s=100, zorder=5)\n",
    "plt.scatter([1, len(df_asset_growth)], [df_asset_growth['Earnings'].iloc[0], df_asset_growth['Earnings'].iloc[-1]], color='#E6C767', s=100, zorder=5)\n",
    "\n",
    "plt.show()"
   ]
  },
  {
   "cell_type": "code",
   "execution_count": null,
   "metadata": {},
   "outputs": [],
   "source": []
  },
  {
   "cell_type": "code",
   "execution_count": null,
   "metadata": {},
   "outputs": [],
   "source": []
  },
  {
   "cell_type": "code",
   "execution_count": null,
   "metadata": {},
   "outputs": [],
   "source": []
  },
  {
   "cell_type": "code",
   "execution_count": null,
   "metadata": {},
   "outputs": [],
   "source": []
  },
  {
   "cell_type": "code",
   "execution_count": null,
   "metadata": {},
   "outputs": [],
   "source": []
  },
  {
   "cell_type": "code",
   "execution_count": 44,
   "metadata": {
    "ExecuteTime": {
     "end_time": "2023-02-17T03:17:55.439052Z",
     "start_time": "2023-02-17T03:17:55.427018Z"
    }
   },
   "outputs": [],
   "source": [
    "temp_ls = []\n",
    "for n in range(1, 2000):\n",
    "    r = n*0.001\n",
    "    gap = np.e**r - (1+r)\n",
    "    temp_ls.append((r, gap))"
   ]
  },
  {
   "cell_type": "code",
   "execution_count": 46,
   "metadata": {
    "ExecuteTime": {
     "end_time": "2023-02-17T03:17:57.297479Z",
     "start_time": "2023-02-17T03:17:57.282366Z"
    }
   },
   "outputs": [],
   "source": [
    "temp_df = pd.DataFrame(temp_ls, columns=['r', 'gap'])"
   ]
  },
  {
   "cell_type": "code",
   "execution_count": 53,
   "metadata": {},
   "outputs": [
    {
     "data": {
      "text/plain": [
       "2.718281828459045"
      ]
     },
     "execution_count": 53,
     "metadata": {},
     "output_type": "execute_result"
    }
   ],
   "source": [
    "np.e"
   ]
  },
  {
   "cell_type": "code",
   "execution_count": 141,
   "metadata": {
    "ExecuteTime": {
     "end_time": "2023-02-17T03:17:58.206279Z",
     "start_time": "2023-02-17T03:17:58.075121Z"
    }
   },
   "outputs": [
    {
     "data": {
      "text/plain": [
       "<AxesSubplot:xlabel='r', ylabel='gap'>"
      ]
     },
     "execution_count": 141,
     "metadata": {},
     "output_type": "execute_result"
    },
    {
     "data": {
      "image/png": "[encoded data removed]",
      "text/plain": [
       "<Figure size 720x432 with 1 Axes>"
      ]
     },
     "metadata": {},
     "output_type": "display_data"
    }
   ],
   "source": [
    "sns.scatterplot(data = temp_df, x = 'r', y = 'gap')"
   ]
  },
  {
   "cell_type": "code",
   "execution_count": null,
   "metadata": {},
   "outputs": [],
   "source": []
  },
  {
   "cell_type": "code",
   "execution_count": null,
   "metadata": {},
   "outputs": [],
   "source": []
  },
  {
   "cell_type": "code",
   "execution_count": null,
   "metadata": {},
   "outputs": [],
   "source": []
  },
  {
   "cell_type": "code",
   "execution_count": null,
   "metadata": {},
   "outputs": [],
   "source": []
  },
  {
   "cell_type": "code",
   "execution_count": null,
   "metadata": {},
   "outputs": [],
   "source": []
  },
  {
   "cell_type": "code",
   "execution_count": null,
   "metadata": {},
   "outputs": [],
   "source": []
  }
 ],
 "metadata": {
  "hide_input": false,
  "kernelspec": {
   "display_name": ".venv",
   "language": "python",
   "name": "python3"
  },
  "language_info": {
   "codemirror_mode": {
    "name": "ipython",
    "version": 3
   },
   "file_extension": ".py",
   "mimetype": "text/x-python",
   "name": "python",
   "nbconvert_exporter": "python",
   "pygments_lexer": "ipython3",
   "version": "3.11.9"
  },
  "toc": {
   "base_numbering": 1,
   "nav_menu": {},
   "number_sections": true,
   "sideBar": true,
   "skip_h1_title": false,
   "title_cell": "Table of Contents",
   "title_sidebar": "Contents",
   "toc_cell": false,
   "toc_position": {},
   "toc_section_display": true,
   "toc_window_display": false
  },
  "varInspector": {
   "cols": {
    "lenName": 16,
    "lenType": 16,
    "lenVar": 40
   },
   "kernels_config": {
    "python": {
     "delete_cmd_postfix": "",
     "delete_cmd_prefix": "del ",
     "library": "var_list.py",
     "varRefreshCmd": "print(var_dic_list())"
    },
    "r": {
     "delete_cmd_postfix": ") ",
     "delete_cmd_prefix": "rm(",
     "library": "var_list.r",
     "varRefreshCmd": "cat(var_dic_list()) "
    }
   },
   "types_to_exclude": [
    "module",
    "function",
    "builtin_function_or_method",
    "instance",
    "_Feature"
   ],
   "window_display": false
  }
 },
 "nbformat": 4,
 "nbformat_minor": 4
}
