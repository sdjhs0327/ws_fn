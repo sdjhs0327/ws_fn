{
 "cells": [
  {
   "cell_type": "code",
   "execution_count": 1,
   "metadata": {},
   "outputs": [
    {
     "data": {
      "text/html": [
       "        <script type=\"text/javascript\">\n",
       "        window.PlotlyConfig = {MathJaxConfig: 'local'};\n",
       "        if (window.MathJax && window.MathJax.Hub && window.MathJax.Hub.Config) {window.MathJax.Hub.Config({SVG: {font: \"STIX-Web\"}});}\n",
       "        if (typeof require !== 'undefined') {\n",
       "        require.undef(\"plotly\");\n",
       "        requirejs.config({\n",
       "            paths: {\n",
       "                'plotly': ['https://cdn.plot.ly/plotly-2.27.0.min']\n",
       "            }\n",
       "        });\n",
       "        require(['plotly'], function(Plotly) {\n",
       "            window._Plotly = Plotly;\n",
       "        });\n",
       "        }\n",
       "        </script>\n",
       "        "
      ]
     },
     "metadata": {},
     "output_type": "display_data"
    }
   ],
   "source": [
    "import pandas as pd\n",
    "import warnings\n",
    "warnings.filterwarnings('ignore')\n",
    "import numpy as np\n",
    "import datetime as dt\n",
    "import math\n",
    "from sympy import Symbol, solveset, Interval\n",
    "import numpy as np\n",
    "\n",
    "from quant_functions import anal_funcs, data_funcs\n",
    "\n",
    "# 시각화 관련\n",
    "import plotly_express as px\n",
    "import plotly.figure_factory as ff\n",
    "import cufflinks as cf\n",
    "cf.go_offline(connected=True)\n",
    "## cf.getThemes()\n",
    "cf.set_config_file(theme='polar')\n",
    "import plotly.graph_objects as go\n",
    "%matplotlib inline\n",
    "import matplotlib.pyplot as plt\n",
    "import seaborn as sns\n",
    "sns.set_style('whitegrid')\n",
    "## plt.style.use(\"fivethirtyeight\")\n",
    "plt.rcParams['font.family'] = 'Malgun Gothic'\n",
    "plt.rcParams['axes.unicode_minus'] = False\n",
    "plt.rcParams[\"figure.figsize\"] = (10,6)"
   ]
  },
  {
   "cell_type": "code",
   "execution_count": 2,
   "metadata": {},
   "outputs": [],
   "source": [
    "def cal_ret(k, s, c, t):\n",
    "    '''\n",
    "    * k: 목표 자산, s: 시드 머니, c: 현금 흐름, t: 투자 기간\n",
    "    * r: 목표수익률\n",
    "    '''\n",
    "    r=Symbol('r')\n",
    "    equation = s*((1+r)**(t)) + c*((1-((1+r)**(t)))/(1-(1+r))) - k\n",
    "    val = solveset(equation, r, Interval(0, 999))\n",
    "    try:\n",
    "        solve_r = float(list(val)[0])\n",
    "        ret = (np.round(solve_r, 6))*100\n",
    "    except:\n",
    "        ret = 0\n",
    "    return ret"
   ]
  },
  {
   "cell_type": "markdown",
   "metadata": {},
   "source": [
    "##### Target Growth"
   ]
  },
  {
   "cell_type": "code",
   "execution_count": 36,
   "metadata": {},
   "outputs": [],
   "source": [
    "s_ls = [0, 10000*1e4, 30000*1e4, 50000*1e4]\n",
    "k_ls = [10000*1e4, 30000*1e4, 50000*1e4, 100000*1e4, 150000*1e4, 200000*1e4, 300000*1e4]\n",
    "t_ls = [1, 3, 5, 10, 15, 20]\n",
    "c_ls = [50*12*1e4, 100*12*1e4, 150*12*1e4, 300*12*1e4, 500*12*1e4, 1000*12*1e4]\n",
    "\n",
    "results = []\n",
    "idxs = []\n",
    "for s in s_ls:\n",
    "    for k in k_ls:\n",
    "        for t in t_ls:\n",
    "            for c in c_ls:\n",
    "                idxs.append((k, s, c, t))\n",
    "                ## print((k, s, c, t))\n",
    "                result = cal_ret(k, s, c, t)\n",
    "                results.append(result)"
   ]
  },
  {
   "cell_type": "code",
   "execution_count": 28,
   "metadata": {},
   "outputs": [],
   "source": [
    "target_rets = pd.DataFrame(idxs, columns=['목표자산', '초기자산', '현금흐름', '투자기간']).astype('int64')\n",
    "target_rets['현금흐름'] = target_rets['현금흐름']//12\n",
    "target_rets[['목표자산', '초기자산', '현금흐름']] = (target_rets[['목표자산', '초기자산', '현금흐름']]//1e4).astype('int64')\n",
    "target_rets['목표수익률'] = results\n",
    "target_rets['목표수익률'] = target_rets['목표수익률'].round(2)\n",
    "target_rets = target_rets[['초기자산', '투자기간', '현금흐름', '목표자산', '목표수익률']]"
   ]
  },
  {
   "cell_type": "code",
   "execution_count": 32,
   "metadata": {},
   "outputs": [],
   "source": [
    "path = \"C:/Users/GCC/git/ws_fn/data\""
   ]
  },
  {
   "cell_type": "code",
   "execution_count": 34,
   "metadata": {},
   "outputs": [],
   "source": [
    "target_rets.to_excel(f\"{path}/target_growth.xlsx\", index=False)"
   ]
  },
  {
   "cell_type": "code",
   "execution_count": null,
   "metadata": {},
   "outputs": [],
   "source": []
  },
  {
   "cell_type": "code",
   "execution_count": null,
   "metadata": {},
   "outputs": [],
   "source": []
  }
 ],
 "metadata": {
  "kernelspec": {
   "display_name": ".venv",
   "language": "python",
   "name": "python3"
  },
  "language_info": {
   "codemirror_mode": {
    "name": "ipython",
    "version": 3
   },
   "file_extension": ".py",
   "mimetype": "text/x-python",
   "name": "python",
   "nbconvert_exporter": "python",
   "pygments_lexer": "ipython3",
   "version": "3.11.9"
  }
 },
 "nbformat": 4,
 "nbformat_minor": 2
}
