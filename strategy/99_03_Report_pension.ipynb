{
 "cells": [
  {
   "cell_type": "code",
   "execution_count": 4,
   "metadata": {},
   "outputs": [],
   "source": [
    "import pandas as pd\n",
    "import warnings\n",
    "warnings.filterwarnings('ignore')\n",
    "import numpy as np\n",
    "import datetime as dt\n",
    "import math\n",
    "import os\n",
    "from itertools import product\n",
    "from datetime import datetime\n",
    "from dateutil.relativedelta import relativedelta\n",
    "from quant_functions import anal_funcs, data_funcs\n",
    "\n",
    "import yfinance as yf\n",
    "## FRED 정보 수집\n",
    "from fredapi import Fred"
   ]
  },
  {
   "cell_type": "code",
   "execution_count": 1,
   "metadata": {},
   "outputs": [
    {
     "data": {
      "text/html": [
       "        <script type=\"text/javascript\">\n",
       "        window.PlotlyConfig = {MathJaxConfig: 'local'};\n",
       "        if (window.MathJax && window.MathJax.Hub && window.MathJax.Hub.Config) {window.MathJax.Hub.Config({SVG: {font: \"STIX-Web\"}});}\n",
       "        if (typeof require !== 'undefined') {\n",
       "        require.undef(\"plotly\");\n",
       "        requirejs.config({\n",
       "            paths: {\n",
       "                'plotly': ['https://cdn.plot.ly/plotly-2.27.0.min']\n",
       "            }\n",
       "        });\n",
       "        require(['plotly'], function(Plotly) {\n",
       "            window._Plotly = Plotly;\n",
       "        });\n",
       "        }\n",
       "        </script>\n",
       "        "
      ]
     },
     "metadata": {},
     "output_type": "display_data"
    }
   ],
   "source": [
    "# 시각화 관련\n",
    "import plotly_express as px\n",
    "import plotly.figure_factory as ff\n",
    "import cufflinks as cf\n",
    "cf.go_offline(connected=True)\n",
    "## cf.getThemes()\n",
    "cf.set_config_file(theme='polar')\n",
    "import plotly.graph_objects as go\n",
    "\n",
    "from matplotlib.colors import LinearSegmentedColormap\n",
    "from matplotlib.ticker import FuncFormatter\n",
    "import matplotlib.pyplot as plt\n",
    "import seaborn as sns\n",
    "%matplotlib inline\n",
    "sns.set_style('whitegrid')\n",
    "## plt.style.use(\"fivethirtyeight\")\n",
    "plt.rcParams['font.family'] = 'Malgun Gothic'\n",
    "plt.rcParams['axes.unicode_minus'] = False\n",
    "plt.rcParams[\"figure.figsize\"] = (10,6)"
   ]
  },
  {
   "cell_type": "code",
   "execution_count": 2,
   "metadata": {},
   "outputs": [],
   "source": [
    "## 그리기 설정값\n",
    "color_basic = \"#3b4a6b\" # 네이비 기본색\n",
    "color_norm = \"#f23557\" # 진홍색 강조색\n",
    "color_cont = \"#22b2da\" # 파란색 대비색\n",
    "color_sub = \"#ff6f3c\" # 주황색 보조색\n",
    "color_around = \"#6E6E6E\" # 회색 주변색\n",
    "color_around2 = \"#E0E0E0\" # 연회색 주변색\n",
    "\n",
    "figsize=(12, 8)"
   ]
  },
  {
   "cell_type": "markdown",
   "metadata": {},
   "source": [
    "##### Function #####"
   ]
  },
  {
   "cell_type": "code",
   "execution_count": null,
   "metadata": {},
   "outputs": [],
   "source": []
  },
  {
   "cell_type": "markdown",
   "metadata": {},
   "source": [
    "##### Data Load #####"
   ]
  },
  {
   "cell_type": "code",
   "execution_count": 7,
   "metadata": {},
   "outputs": [],
   "source": [
    "index = ['최저1인', '최저2인', '최저3인', '최저4인', '중위1인', '중위2인', '중위3인', '중위4인', '상위']\n",
    "need_cash_ls = [134, 221, 283, 344, 224, 368, 471, 573, 1584]\n",
    "need_cash_df = pd.DataFrame([index, need_cash_ls], index=[\"index\", \"need_cashflow_month\"]).T\n",
    "need_cash_df['need_cashflow_annual'] = need_cash_df['need_cashflow_month']*12\n",
    "need_cash_df['dividend_rate'] = 0.0333\n",
    "need_cash_df['tax_rate'] = 0.154\n",
    "need_cash_df['need_kapital'] = (need_cash_df['need_cashflow_annual']/(need_cash_df['dividend_rate']*(1-need_cash_df['tax_rate']))).astype(int)"
   ]
  },
  {
   "cell_type": "code",
   "execution_count": 8,
   "metadata": {},
   "outputs": [
    {
     "data": {
      "text/html": [
       "<div>\n",
       "<style scoped>\n",
       "    .dataframe tbody tr th:only-of-type {\n",
       "        vertical-align: middle;\n",
       "    }\n",
       "\n",
       "    .dataframe tbody tr th {\n",
       "        vertical-align: top;\n",
       "    }\n",
       "\n",
       "    .dataframe thead th {\n",
       "        text-align: right;\n",
       "    }\n",
       "</style>\n",
       "<table border=\"1\" class=\"dataframe\">\n",
       "  <thead>\n",
       "    <tr style=\"text-align: right;\">\n",
       "      <th></th>\n",
       "      <th>index</th>\n",
       "      <th>need_cashflow_month</th>\n",
       "      <th>need_cashflow_annual</th>\n",
       "      <th>dividend_rate</th>\n",
       "      <th>tax_rate</th>\n",
       "      <th>need_kapital</th>\n",
       "    </tr>\n",
       "  </thead>\n",
       "  <tbody>\n",
       "    <tr>\n",
       "      <th>0</th>\n",
       "      <td>최저1인</td>\n",
       "      <td>134</td>\n",
       "      <td>1608</td>\n",
       "      <td>0.0333</td>\n",
       "      <td>0.154</td>\n",
       "      <td>57078</td>\n",
       "    </tr>\n",
       "    <tr>\n",
       "      <th>1</th>\n",
       "      <td>최저2인</td>\n",
       "      <td>221</td>\n",
       "      <td>2652</td>\n",
       "      <td>0.0333</td>\n",
       "      <td>0.154</td>\n",
       "      <td>94136</td>\n",
       "    </tr>\n",
       "    <tr>\n",
       "      <th>2</th>\n",
       "      <td>최저3인</td>\n",
       "      <td>283</td>\n",
       "      <td>3396</td>\n",
       "      <td>0.0333</td>\n",
       "      <td>0.154</td>\n",
       "      <td>120546</td>\n",
       "    </tr>\n",
       "    <tr>\n",
       "      <th>3</th>\n",
       "      <td>최저4인</td>\n",
       "      <td>344</td>\n",
       "      <td>4128</td>\n",
       "      <td>0.0333</td>\n",
       "      <td>0.154</td>\n",
       "      <td>146529</td>\n",
       "    </tr>\n",
       "    <tr>\n",
       "      <th>4</th>\n",
       "      <td>중위1인</td>\n",
       "      <td>224</td>\n",
       "      <td>2688</td>\n",
       "      <td>0.0333</td>\n",
       "      <td>0.154</td>\n",
       "      <td>95414</td>\n",
       "    </tr>\n",
       "    <tr>\n",
       "      <th>5</th>\n",
       "      <td>중위2인</td>\n",
       "      <td>368</td>\n",
       "      <td>4416</td>\n",
       "      <td>0.0333</td>\n",
       "      <td>0.154</td>\n",
       "      <td>156752</td>\n",
       "    </tr>\n",
       "    <tr>\n",
       "      <th>6</th>\n",
       "      <td>중위3인</td>\n",
       "      <td>471</td>\n",
       "      <td>5652</td>\n",
       "      <td>0.0333</td>\n",
       "      <td>0.154</td>\n",
       "      <td>200626</td>\n",
       "    </tr>\n",
       "    <tr>\n",
       "      <th>7</th>\n",
       "      <td>중위4인</td>\n",
       "      <td>573</td>\n",
       "      <td>6876</td>\n",
       "      <td>0.0333</td>\n",
       "      <td>0.154</td>\n",
       "      <td>244073</td>\n",
       "    </tr>\n",
       "    <tr>\n",
       "      <th>8</th>\n",
       "      <td>상위</td>\n",
       "      <td>1584</td>\n",
       "      <td>19008</td>\n",
       "      <td>0.0333</td>\n",
       "      <td>0.154</td>\n",
       "      <td>674717</td>\n",
       "    </tr>\n",
       "  </tbody>\n",
       "</table>\n",
       "</div>"
      ],
      "text/plain": [
       "  index need_cashflow_month need_cashflow_annual  dividend_rate  tax_rate  \\\n",
       "0  최저1인                 134                 1608         0.0333     0.154   \n",
       "1  최저2인                 221                 2652         0.0333     0.154   \n",
       "2  최저3인                 283                 3396         0.0333     0.154   \n",
       "3  최저4인                 344                 4128         0.0333     0.154   \n",
       "4  중위1인                 224                 2688         0.0333     0.154   \n",
       "5  중위2인                 368                 4416         0.0333     0.154   \n",
       "6  중위3인                 471                 5652         0.0333     0.154   \n",
       "7  중위4인                 573                 6876         0.0333     0.154   \n",
       "8    상위                1584                19008         0.0333     0.154   \n",
       "\n",
       "   need_kapital  \n",
       "0         57078  \n",
       "1         94136  \n",
       "2        120546  \n",
       "3        146529  \n",
       "4         95414  \n",
       "5        156752  \n",
       "6        200626  \n",
       "7        244073  \n",
       "8        674717  "
      ]
     },
     "execution_count": 8,
     "metadata": {},
     "output_type": "execute_result"
    }
   ],
   "source": [
    "need_cash_df"
   ]
  },
  {
   "cell_type": "code",
   "execution_count": null,
   "metadata": {},
   "outputs": [],
   "source": []
  },
  {
   "cell_type": "code",
   "execution_count": null,
   "metadata": {},
   "outputs": [],
   "source": []
  },
  {
   "cell_type": "code",
   "execution_count": null,
   "metadata": {},
   "outputs": [],
   "source": []
  },
  {
   "cell_type": "code",
   "execution_count": null,
   "metadata": {},
   "outputs": [],
   "source": []
  },
  {
   "cell_type": "code",
   "execution_count": null,
   "metadata": {},
   "outputs": [],
   "source": []
  },
  {
   "cell_type": "code",
   "execution_count": null,
   "metadata": {},
   "outputs": [],
   "source": []
  },
  {
   "cell_type": "code",
   "execution_count": null,
   "metadata": {},
   "outputs": [],
   "source": []
  }
 ],
 "metadata": {
  "kernelspec": {
   "display_name": ".venv",
   "language": "python",
   "name": "python3"
  },
  "language_info": {
   "codemirror_mode": {
    "name": "ipython",
    "version": 3
   },
   "file_extension": ".py",
   "mimetype": "text/x-python",
   "name": "python",
   "nbconvert_exporter": "python",
   "pygments_lexer": "ipython3",
   "version": "3.11.9"
  }
 },
 "nbformat": 4,
 "nbformat_minor": 2
}
