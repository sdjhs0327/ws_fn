{
 "cells": [
  {
   "cell_type": "code",
   "execution_count": 1,
   "metadata": {},
   "outputs": [],
   "source": [
    "import pandas as pd\n",
    "import warnings\n",
    "warnings.filterwarnings('ignore')\n",
    "import numpy as np\n",
    "import datetime as dt\n",
    "import math\n",
    "import os\n",
    "from itertools import product\n",
    "from datetime import datetime\n",
    "from dateutil.relativedelta import relativedelta\n",
    "from quant_functions import anal_funcs, data_funcs\n",
    "\n",
    "import yfinance as yf\n",
    "## FRED 정보 수집\n",
    "from fredapi import Fred"
   ]
  },
  {
   "cell_type": "code",
   "execution_count": 2,
   "metadata": {},
   "outputs": [
    {
     "data": {
      "text/html": [
       "        <script type=\"text/javascript\">\n",
       "        window.PlotlyConfig = {MathJaxConfig: 'local'};\n",
       "        if (window.MathJax && window.MathJax.Hub && window.MathJax.Hub.Config) {window.MathJax.Hub.Config({SVG: {font: \"STIX-Web\"}});}\n",
       "        if (typeof require !== 'undefined') {\n",
       "        require.undef(\"plotly\");\n",
       "        requirejs.config({\n",
       "            paths: {\n",
       "                'plotly': ['https://cdn.plot.ly/plotly-2.27.0.min']\n",
       "            }\n",
       "        });\n",
       "        require(['plotly'], function(Plotly) {\n",
       "            window._Plotly = Plotly;\n",
       "        });\n",
       "        }\n",
       "        </script>\n",
       "        "
      ]
     },
     "metadata": {},
     "output_type": "display_data"
    }
   ],
   "source": [
    "# 시각화 관련\n",
    "import plotly_express as px\n",
    "import plotly.figure_factory as ff\n",
    "import cufflinks as cf\n",
    "cf.go_offline(connected=True)\n",
    "## cf.getThemes()\n",
    "cf.set_config_file(theme='polar')\n",
    "import plotly.graph_objects as go\n",
    "\n",
    "from matplotlib.colors import LinearSegmentedColormap\n",
    "from matplotlib.ticker import FuncFormatter\n",
    "import matplotlib.pyplot as plt\n",
    "import seaborn as sns\n",
    "%matplotlib inline\n",
    "sns.set_style('whitegrid')\n",
    "## plt.style.use(\"fivethirtyeight\")\n",
    "plt.rcParams['font.family'] = 'Malgun Gothic'\n",
    "plt.rcParams['axes.unicode_minus'] = False\n",
    "plt.rcParams[\"figure.figsize\"] = (10,6)"
   ]
  },
  {
   "cell_type": "code",
   "execution_count": 3,
   "metadata": {},
   "outputs": [],
   "source": [
    "## 그리기 설정값\n",
    "color_basic = \"#3b4a6b\" # 네이비 기본색\n",
    "color_norm = \"#f23557\" # 진홍색 강조색\n",
    "color_cont = \"#22b2da\" # 파란색 대비색\n",
    "color_sub = \"#ff6f3c\" # 주황색 보조색\n",
    "color_around = \"#6E6E6E\" # 회색 주변색\n",
    "color_around2 = \"#E0E0E0\" # 연회색 주변색\n",
    "\n",
    "figsize=(12, 8)"
   ]
  },
  {
   "cell_type": "markdown",
   "metadata": {},
   "source": [
    "##### Function #####"
   ]
  },
  {
   "cell_type": "code",
   "execution_count": 4,
   "metadata": {},
   "outputs": [],
   "source": [
    "def simulate_portfolio_assets(asset_rets_df, weights_list, initial_investment=100):\n",
    "    \"\"\"\n",
    "    n개의 자산에 대한 투자 비중에 따른 포트폴리오 시뮬레이션.\n",
    "\n",
    "    Parameters:\n",
    "        asset_returns (list of pd.Series): 각 자산의 수익률 시계열 데이터프레임.\n",
    "        weights_list (list of list): 자산별 비중 리스트. 각 리스트의 합은 1이어야 함.\n",
    "        initial_investment (float): 초기 투자 금액 (기본값: 100).\n",
    "\n",
    "    Returns:\n",
    "        pd.DataFrame: 각 비중 조합에 대한 포트폴리오 가치 시계열 데이터프레임.\n",
    "    \"\"\"\n",
    "    asset_rets_list = [asset_rets_df[col] for col in asset_rets_df.columns]\n",
    "    portfolio_values = {}\n",
    "    for weights in weights_list:\n",
    "        _weights = [i/sum(weights) for i in weights]\n",
    "        # 포트폴리오 수익률 계산 (각 자산의 비중 곱)\n",
    "        portfolio_returns = sum(w * r for w, r in zip(_weights, asset_rets_list))\n",
    "        # 초기 투자 금액 기준 포트폴리오 가치 시계열 계산\n",
    "        portfolio_cum_value = initial_investment * (1 + portfolio_returns).cumprod()\n",
    "        portfolio_values[str(weights)] = portfolio_cum_value\n",
    "\n",
    "    # 데이터프레임으로 변환\n",
    "    portfolio_df = pd.DataFrame(portfolio_values)\n",
    "    return portfolio_df\n",
    "\n",
    "def split_time_series(df, n_days):\n",
    "    split_days = n_days\n",
    "    dfs = []\n",
    "    for i in range(len(df)-split_days+1):\n",
    "        dfs.append(df[i:split_days+i])\n",
    "    return dfs\n",
    "\n",
    "## beta를 이용한 imputation\n",
    "def imputation(df, basis_name, target_name):\n",
    "    dataset = df.copy()\n",
    "    rets = dataset[[target_name, basis_name]].dropna(subset=[basis_name]).pct_change()\n",
    "    \n",
    "    # 공분산과 분산 계산\n",
    "    cov_matrix = np.cov(rets.dropna()[target_name], rets.dropna()[basis_name])\n",
    "    cov_stock_market = cov_matrix[0, 1]  # 공분산\n",
    "    var_market = cov_matrix[1, 1]        # market 분산\n",
    "    # 베타 계산\n",
    "    beta = cov_stock_market / var_market\n",
    "    rets[target_name][rets[target_name].isna()] = rets[basis_name]*beta\n",
    "    rets = rets.fillna(0)\n",
    "    df_imputed = (rets+1).cumprod()\n",
    "    dataset[target_name] = df_imputed[target_name]\n",
    "    print(beta)\n",
    "    return dataset"
   ]
  },
  {
   "cell_type": "markdown",
   "metadata": {},
   "source": [
    "##### Data Load #####"
   ]
  },
  {
   "cell_type": "code",
   "execution_count": 404,
   "metadata": {},
   "outputs": [],
   "source": [
    "index = ['최저1인', '최저2인', '최저3인', '최저4인', '중위1인', '중위2인', '중위3인', '중위4인', '상위']\n",
    "need_cash_ls = [134, 221, 283, 344, 224, 368, 471, 573, 1584]\n",
    "need_cash_df = pd.DataFrame([index, need_cash_ls], index=[\"index\", \"need_cashflow_month\"]).T\n",
    "need_cash_df['need_cashflow_annual'] = need_cash_df['need_cashflow_month']*12\n",
    "need_cash_df['dividend_rate'] = 3.7 * 0.01\n",
    "## 3.552\n",
    "## 3.626\n",
    "## 3.029\n",
    "## 3.33\n",
    "## 3.7\n",
    "need_cash_df['tax_rate'] = 0.154\n",
    "need_cash_df['need_kapital'] = (need_cash_df['need_cashflow_annual']/(need_cash_df['dividend_rate']*(1-need_cash_df['tax_rate']))).astype(int)"
   ]
  },
  {
   "cell_type": "code",
   "execution_count": 405,
   "metadata": {},
   "outputs": [
    {
     "data": {
      "text/html": [
       "<div>\n",
       "<style scoped>\n",
       "    .dataframe tbody tr th:only-of-type {\n",
       "        vertical-align: middle;\n",
       "    }\n",
       "\n",
       "    .dataframe tbody tr th {\n",
       "        vertical-align: top;\n",
       "    }\n",
       "\n",
       "    .dataframe thead th {\n",
       "        text-align: right;\n",
       "    }\n",
       "</style>\n",
       "<table border=\"1\" class=\"dataframe\">\n",
       "  <thead>\n",
       "    <tr style=\"text-align: right;\">\n",
       "      <th></th>\n",
       "      <th>index</th>\n",
       "      <th>need_cashflow_month</th>\n",
       "      <th>need_cashflow_annual</th>\n",
       "      <th>dividend_rate</th>\n",
       "      <th>tax_rate</th>\n",
       "      <th>need_kapital</th>\n",
       "    </tr>\n",
       "  </thead>\n",
       "  <tbody>\n",
       "    <tr>\n",
       "      <th>0</th>\n",
       "      <td>최저1인</td>\n",
       "      <td>134</td>\n",
       "      <td>1608</td>\n",
       "      <td>0.037</td>\n",
       "      <td>0.154</td>\n",
       "      <td>51370</td>\n",
       "    </tr>\n",
       "    <tr>\n",
       "      <th>1</th>\n",
       "      <td>최저2인</td>\n",
       "      <td>221</td>\n",
       "      <td>2652</td>\n",
       "      <td>0.037</td>\n",
       "      <td>0.154</td>\n",
       "      <td>84723</td>\n",
       "    </tr>\n",
       "    <tr>\n",
       "      <th>2</th>\n",
       "      <td>최저3인</td>\n",
       "      <td>283</td>\n",
       "      <td>3396</td>\n",
       "      <td>0.037</td>\n",
       "      <td>0.154</td>\n",
       "      <td>108491</td>\n",
       "    </tr>\n",
       "    <tr>\n",
       "      <th>3</th>\n",
       "      <td>최저4인</td>\n",
       "      <td>344</td>\n",
       "      <td>4128</td>\n",
       "      <td>0.037</td>\n",
       "      <td>0.154</td>\n",
       "      <td>131876</td>\n",
       "    </tr>\n",
       "    <tr>\n",
       "      <th>4</th>\n",
       "      <td>중위1인</td>\n",
       "      <td>224</td>\n",
       "      <td>2688</td>\n",
       "      <td>0.037</td>\n",
       "      <td>0.154</td>\n",
       "      <td>85873</td>\n",
       "    </tr>\n",
       "    <tr>\n",
       "      <th>5</th>\n",
       "      <td>중위2인</td>\n",
       "      <td>368</td>\n",
       "      <td>4416</td>\n",
       "      <td>0.037</td>\n",
       "      <td>0.154</td>\n",
       "      <td>141077</td>\n",
       "    </tr>\n",
       "    <tr>\n",
       "      <th>6</th>\n",
       "      <td>중위3인</td>\n",
       "      <td>471</td>\n",
       "      <td>5652</td>\n",
       "      <td>0.037</td>\n",
       "      <td>0.154</td>\n",
       "      <td>180563</td>\n",
       "    </tr>\n",
       "    <tr>\n",
       "      <th>7</th>\n",
       "      <td>중위4인</td>\n",
       "      <td>573</td>\n",
       "      <td>6876</td>\n",
       "      <td>0.037</td>\n",
       "      <td>0.154</td>\n",
       "      <td>219666</td>\n",
       "    </tr>\n",
       "    <tr>\n",
       "      <th>8</th>\n",
       "      <td>상위</td>\n",
       "      <td>1584</td>\n",
       "      <td>19008</td>\n",
       "      <td>0.037</td>\n",
       "      <td>0.154</td>\n",
       "      <td>607245</td>\n",
       "    </tr>\n",
       "  </tbody>\n",
       "</table>\n",
       "</div>"
      ],
      "text/plain": [
       "  index need_cashflow_month need_cashflow_annual  dividend_rate  tax_rate  \\\n",
       "0  최저1인                 134                 1608          0.037     0.154   \n",
       "1  최저2인                 221                 2652          0.037     0.154   \n",
       "2  최저3인                 283                 3396          0.037     0.154   \n",
       "3  최저4인                 344                 4128          0.037     0.154   \n",
       "4  중위1인                 224                 2688          0.037     0.154   \n",
       "5  중위2인                 368                 4416          0.037     0.154   \n",
       "6  중위3인                 471                 5652          0.037     0.154   \n",
       "7  중위4인                 573                 6876          0.037     0.154   \n",
       "8    상위                1584                19008          0.037     0.154   \n",
       "\n",
       "   need_kapital  \n",
       "0         51370  \n",
       "1         84723  \n",
       "2        108491  \n",
       "3        131876  \n",
       "4         85873  \n",
       "5        141077  \n",
       "6        180563  \n",
       "7        219666  \n",
       "8        607245  "
      ]
     },
     "execution_count": 405,
     "metadata": {},
     "output_type": "execute_result"
    }
   ],
   "source": [
    "need_cash_df"
   ]
  },
  {
   "cell_type": "code",
   "execution_count": 7,
   "metadata": {},
   "outputs": [],
   "source": [
    "ticker_dict = {'QQQ':'Nasdaq100', 'SPY':'S&P500', 'SCHD':'US_Dividend_Equity',\n",
    "               'SHY':'Short_Term_Treasury', 'TLT':'Long_Term_Treasury',\n",
    "               'GC=F':'Gold', '^IXIC':'Nasdaq', '^GSPC':'S&P500'}"
   ]
  },
  {
   "cell_type": "code",
   "execution_count": null,
   "metadata": {},
   "outputs": [],
   "source": [
    "fred = Fred(api_key='cfb4f49f5c1a9396f671b8049d992e56')\n",
    "DGS20 = fred.get_series('DGS20')\n",
    "DGS10 = fred.get_series('DGS10')\n",
    "DGS2 = fred.get_series('DGS2')\n",
    "DTB3 = fred.get_series('DTB3')\n",
    "DFF = fred.get_series('DFF')"
   ]
  },
  {
   "cell_type": "code",
   "execution_count": 96,
   "metadata": {},
   "outputs": [
    {
     "name": "stderr",
     "output_type": "stream",
     "text": [
      "[*********************100%%**********************]  8 of 8 completed\n"
     ]
    }
   ],
   "source": [
    "dataset = data_funcs.get_merged_df('QQQ', 'SPY', 'SCHD', 'SHY', 'TLT', 'GC=F', '^IXIC', '^GSPC')\n",
    "dataset = dataset[ticker_dict.keys()]\n",
    "## 무위험자산\n",
    "dataset['CASH'] = range(len(dataset))\n",
    "dataset['CASH'] = dataset['CASH'].apply(lambda x:((1.025)**(1/252))**x)\n",
    "dataset = dataset.rename(columns={'GC=F':'GOLD'})\n",
    "dataset['DGS20'] = DGS20\n",
    "dataset['DTB3'] = DTB3\n",
    "dataset[['DGS20', 'DTB3']] = dataset[['DGS20', 'DTB3']].fillna(method='ffill')"
   ]
  },
  {
   "cell_type": "code",
   "execution_count": 276,
   "metadata": {},
   "outputs": [
    {
     "name": "stdout",
     "output_type": "stream",
     "text": [
      "1.0466671975462625\n",
      "0.9944362406664935\n",
      "0.8428891739631965\n",
      "-0.4149375683795448\n"
     ]
    }
   ],
   "source": [
    "## Interpolation\n",
    "## naq => QQQ 보간\n",
    "dataset_imputed = imputation(dataset, '^IXIC', 'QQQ')\n",
    "dataset_imputed = imputation(dataset_imputed, '^GSPC', 'SPY')\n",
    "dataset_imputed = imputation(dataset_imputed, '^GSPC', 'SCHD')\n",
    "dataset_imputed = imputation(dataset_imputed, 'DGS20', 'TLT')\n",
    "\n",
    "dataset_imputed_small = dataset_imputed[['QQQ', 'SPY', 'SCHD', 'TLT', 'GOLD', 'CASH']].dropna()\n",
    "dataset_imputed = dataset_imputed[['QQQ', 'SPY', 'SCHD', 'TLT', 'CASH']].dropna()"
   ]
  },
  {
   "cell_type": "code",
   "execution_count": 277,
   "metadata": {},
   "outputs": [],
   "source": [
    "dataset_short = dataset[['QQQ', 'SPY', 'SCHD', 'TLT', 'GOLD', 'CASH']].dropna()"
   ]
  },
  {
   "cell_type": "code",
   "execution_count": 278,
   "metadata": {},
   "outputs": [],
   "source": [
    "## 보간 안하고 결측 제거\n",
    "dataset_short = dataset_short.resample('M').last()\n",
    "## 보간 버전\n",
    "dataset_imputed = dataset_imputed.resample('M').last()\n",
    "## 약간 보간 버전 금포함\n",
    "dataset_imputed_small = dataset_imputed_small.resample('M').last()"
   ]
  },
  {
   "cell_type": "code",
   "execution_count": 320,
   "metadata": {},
   "outputs": [],
   "source": [
    "## 보간근거"
   ]
  },
  {
   "cell_type": "code",
   "execution_count": 324,
   "metadata": {},
   "outputs": [],
   "source": [
    "## corrset = dataset.rename(columns=ticker_dict).pct_change().corr()\n",
    "## corrsemi = datasemi.rename(columns=ticker_dict).pct_change().corr()\n",
    "\n",
    "corrset = dataset[['QQQ', '^IXIC', 'SCHD', '^GSPC', 'TLT', 'DGS20', 'SHY', 'DTB3', 'GOLD']].pct_change().corr()"
   ]
  },
  {
   "cell_type": "code",
   "execution_count": 327,
   "metadata": {},
   "outputs": [
    {
     "data": {
      "image/png": "[encoded data removed]",
      "text/plain": [
       "<Figure size 1200x800 with 1 Axes>"
      ]
     },
     "metadata": {},
     "output_type": "display_data"
    }
   ],
   "source": [
    "# 히트맵 시각화\n",
    "plt.figure(figsize=figsize)\n",
    "\n",
    "custom_colors = [\"#F7FBFF\", \"#6BAED6\", \"#08306B\"]\n",
    "custom_cmap = LinearSegmentedColormap.from_list(\"custom\", custom_colors)\n",
    "\n",
    "sns.heatmap(corrset, annot=True, cmap=custom_cmap, fmt='.2f',\n",
    "            linewidths=0.5, cbar_kws={\"shrink\": .8}, cbar=False, annot_kws={\"size\": 12})\n",
    "plt.title('Asset Correlations', fontsize=22, fontweight=\"bold\", color=color_basic)\n",
    "plt.ylabel(\"Ticker\", fontsize=16, labelpad=-45, fontweight=\"bold\", color=color_around, loc=\"top\", rotation=0)\n",
    "plt.xlabel(\"\")\n",
    "plt.yticks(rotation=0, fontsize=12, color=color_around)\n",
    "plt.xticks(rotation=0, fontsize=12, color=color_around)\n",
    "plt.tight_layout()\n",
    "plt.show()"
   ]
  },
  {
   "cell_type": "markdown",
   "metadata": {},
   "source": [
    "##### EDA"
   ]
  },
  {
   "cell_type": "markdown",
   "metadata": {},
   "source": [
    "###### Type0"
   ]
  },
  {
   "cell_type": "code",
   "execution_count": 281,
   "metadata": {},
   "outputs": [],
   "source": [
    "## 데이터 설정값\n",
    "ticker_A = 'QQQ'\n",
    "ticker_B = 'TLT'"
   ]
  },
  {
   "cell_type": "code",
   "execution_count": 282,
   "metadata": {},
   "outputs": [],
   "source": [
    "df = dataset_imputed_small[[ticker_A, ticker_B]].dropna()\n",
    "df = df/df.iloc[0]\n",
    "\n",
    "## data-split\n",
    "df_ls = split_time_series(df, 5*12)\n",
    "\n",
    "## calculate Rolling Returns\n",
    "return_ls = []\n",
    "ddr_ls = []\n",
    "_idx = []\n",
    "for _df in df_ls:\n",
    "    _df = simulate_portfolio_assets(_df.pct_change().fillna(0), [(10,0), (9, 1), (8, 2), (7, 3), (6, 4), (5, 5), (4, 6), (3, 7), (2, 8), (1, 9), (0,10)])\n",
    "    _df.columns = [ticker_A, '9:1', '8:2', '7:3', '6:4', '5:5', '4:6', '3:7', '2:8', '1:9', ticker_B]\n",
    "    return_ls.append([anal_funcs.cal_YRR(_df, col, method ='g', unit = 'monthly') for col in _df.columns])\n",
    "    ddr_ls.append([anal_funcs.cal_drawdown_risk(_df, col) for col in _df.columns])\n",
    "    _idx.append(_df.index[0])  \n",
    "    \n",
    "return_df_type0_1 = pd.DataFrame(return_ls, columns = _df.columns, index=_idx)\n",
    "ddr_df_type0_1 = pd.DataFrame(ddr_ls, columns = _df.columns, index=_idx)\n",
    "\n",
    "sort_df_type0_1 = pd.DataFrame([return_df_type0_1.mean(), ddr_df_type0_1.mean()], index=['Return', 'Volatility']).T"
   ]
  },
  {
   "cell_type": "code",
   "execution_count": 283,
   "metadata": {},
   "outputs": [],
   "source": [
    "## 데이터 설정값\n",
    "ticker_A = 'QQQ'\n",
    "ticker_B = 'GOLD'"
   ]
  },
  {
   "cell_type": "code",
   "execution_count": 284,
   "metadata": {},
   "outputs": [],
   "source": [
    "df = dataset_imputed_small[[ticker_A, ticker_B]].dropna()\n",
    "df = df/df.iloc[0]\n",
    "\n",
    "## data-split\n",
    "df_ls = split_time_series(df, 5*12)\n",
    "\n",
    "## calculate Rolling Returns\n",
    "return_ls = []\n",
    "ddr_ls = []\n",
    "_idx = []\n",
    "for _df in df_ls:\n",
    "    _df = simulate_portfolio_assets(_df.pct_change().fillna(0), [(10,0), (9, 1), (8, 2), (7, 3), (6, 4), (5, 5), (4, 6), (3, 7), (2, 8), (1, 9), (0,10)])\n",
    "    _df.columns = [ticker_A, '9:1', '8:2', '7:3', '6:4', '5:5', '4:6', '3:7', '2:8', '1:9', ticker_B]\n",
    "    return_ls.append([anal_funcs.cal_YRR(_df, col, method ='g', unit = 'monthly') for col in _df.columns])\n",
    "    ddr_ls.append([anal_funcs.cal_drawdown_risk(_df, col) for col in _df.columns])\n",
    "    _idx.append(_df.index[0])  \n",
    "    \n",
    "return_df_type0_2 = pd.DataFrame(return_ls, columns = _df.columns, index=_idx)\n",
    "ddr_df_type0_2 = pd.DataFrame(ddr_ls, columns = _df.columns, index=_idx)\n",
    "\n",
    "sort_df_type0_2 = pd.DataFrame([return_df_type0_2.mean(), ddr_df_type0_2.mean()], index=['Return', 'Volatility']).T"
   ]
  },
  {
   "cell_type": "code",
   "execution_count": 285,
   "metadata": {},
   "outputs": [],
   "source": [
    "## 데이터 설정값\n",
    "ticker_A = 'QQQ'\n",
    "ticker_B = 'SCHD'"
   ]
  },
  {
   "cell_type": "code",
   "execution_count": 286,
   "metadata": {},
   "outputs": [],
   "source": [
    "df = dataset_imputed_small[[ticker_A, ticker_B]].dropna()\n",
    "df = df/df.iloc[0]\n",
    "\n",
    "## data-split\n",
    "df_ls = split_time_series(df, 5*12)\n",
    "\n",
    "## calculate Rolling Returns\n",
    "return_ls = []\n",
    "ddr_ls = []\n",
    "_idx = []\n",
    "for _df in df_ls:\n",
    "    _df = simulate_portfolio_assets(_df.pct_change().fillna(0), [(10,0), (9, 1), (8, 2), (7, 3), (6, 4), (5, 5), (4, 6), (3, 7), (2, 8), (1, 9), (0,10)])\n",
    "    _df.columns = [ticker_A, '9:1', '8:2', '7:3', '6:4', '5:5', '4:6', '3:7', '2:8', '1:9', ticker_B]\n",
    "    return_ls.append([anal_funcs.cal_YRR(_df, col, method ='g', unit = 'monthly') for col in _df.columns])\n",
    "    ddr_ls.append([anal_funcs.cal_drawdown_risk(_df, col) for col in _df.columns])\n",
    "    _idx.append(_df.index[0])  \n",
    "    \n",
    "return_df_type0_3 = pd.DataFrame(return_ls, columns = _df.columns, index=_idx)\n",
    "ddr_df_type0_3 = pd.DataFrame(ddr_ls, columns = _df.columns, index=_idx)\n",
    "\n",
    "sort_df_type0_3 = pd.DataFrame([return_df_type0_3.mean(), ddr_df_type0_3.mean()], index=['Return', 'Volatility']).T"
   ]
  },
  {
   "cell_type": "code",
   "execution_count": 287,
   "metadata": {},
   "outputs": [],
   "source": [
    "## 데이터 설정값\n",
    "ticker_A = 'SCHD'\n",
    "ticker_B = 'TLT'"
   ]
  },
  {
   "cell_type": "code",
   "execution_count": 288,
   "metadata": {},
   "outputs": [],
   "source": [
    "df = dataset_imputed_small[[ticker_A, ticker_B]].dropna()\n",
    "df = df/df.iloc[0]\n",
    "\n",
    "## data-split\n",
    "df_ls = split_time_series(df, 5*12)\n",
    "\n",
    "## calculate Rolling Returns\n",
    "return_ls = []\n",
    "ddr_ls = []\n",
    "_idx = []\n",
    "for _df in df_ls:\n",
    "    _df = simulate_portfolio_assets(_df.pct_change().fillna(0), [(10,0), (9, 1), (8, 2), (7, 3), (6, 4), (5, 5), (4, 6), (3, 7), (2, 8), (1, 9), (0,10)])\n",
    "    _df.columns = [ticker_A, '9:1', '8:2', '7:3', '6:4', '5:5', '4:6', '3:7', '2:8', '1:9', ticker_B]\n",
    "    return_ls.append([anal_funcs.cal_YRR(_df, col, method ='g', unit = 'monthly') for col in _df.columns])\n",
    "    ddr_ls.append([anal_funcs.cal_drawdown_risk(_df, col) for col in _df.columns])\n",
    "    _idx.append(_df.index[0])  \n",
    "    \n",
    "return_df_type0_4 = pd.DataFrame(return_ls, columns = _df.columns, index=_idx)\n",
    "ddr_df_type0_4 = pd.DataFrame(ddr_ls, columns = _df.columns, index=_idx)\n",
    "\n",
    "sort_df_type0_4 = pd.DataFrame([return_df_type0_4.mean(), ddr_df_type0_4.mean()], index=['Return', 'Volatility']).T"
   ]
  },
  {
   "cell_type": "code",
   "execution_count": 289,
   "metadata": {},
   "outputs": [],
   "source": [
    "## 데이터 설정값\n",
    "ticker_A = 'SCHD'\n",
    "ticker_B = 'GOLD'"
   ]
  },
  {
   "cell_type": "code",
   "execution_count": 290,
   "metadata": {},
   "outputs": [],
   "source": [
    "df = dataset_imputed_small[[ticker_A, ticker_B]].dropna()\n",
    "df = df/df.iloc[0]\n",
    "\n",
    "## data-split\n",
    "df_ls = split_time_series(df, 5*12)\n",
    "\n",
    "## calculate Rolling Returns\n",
    "return_ls = []\n",
    "ddr_ls = []\n",
    "_idx = []\n",
    "for _df in df_ls:\n",
    "    _df = simulate_portfolio_assets(_df.pct_change().fillna(0), [(10,0), (9, 1), (8, 2), (7, 3), (6, 4), (5, 5), (4, 6), (3, 7), (2, 8), (1, 9), (0,10)])\n",
    "    _df.columns = [ticker_A, '9:1', '8:2', '7:3', '6:4', '5:5', '4:6', '3:7', '2:8', '1:9', ticker_B]\n",
    "    return_ls.append([anal_funcs.cal_YRR(_df, col, method ='g', unit = 'monthly') for col in _df.columns])\n",
    "    ddr_ls.append([anal_funcs.cal_drawdown_risk(_df, col) for col in _df.columns])\n",
    "    _idx.append(_df.index[0])  \n",
    "    \n",
    "return_df_type0_5 = pd.DataFrame(return_ls, columns = _df.columns, index=_idx)\n",
    "ddr_df_type0_5 = pd.DataFrame(ddr_ls, columns = _df.columns, index=_idx)\n",
    "\n",
    "sort_df_type0_5 = pd.DataFrame([return_df_type0_5.mean(), ddr_df_type0_5.mean()], index=['Return', 'Volatility']).T"
   ]
  },
  {
   "cell_type": "markdown",
   "metadata": {},
   "source": [
    "###### Type1"
   ]
  },
  {
   "cell_type": "code",
   "execution_count": 107,
   "metadata": {},
   "outputs": [],
   "source": [
    "## 데이터 설정값\n",
    "ticker_A = 'QQQ'\n",
    "ticker_B = 'SCHD'"
   ]
  },
  {
   "cell_type": "code",
   "execution_count": 108,
   "metadata": {},
   "outputs": [],
   "source": [
    "df = dataset_imputed[[ticker_A, ticker_B]].dropna()\n",
    "df = df/df.iloc[0]\n",
    "\n",
    "## data-split\n",
    "df_ls = split_time_series(df, 5*12)\n",
    "\n",
    "## calculate Rolling Returns\n",
    "return_ls = []\n",
    "ddr_ls = []\n",
    "_idx = []\n",
    "for _df in df_ls:\n",
    "    _df = simulate_portfolio_assets(_df.pct_change().fillna(0), [(10,0), (9, 1), (8, 2), (7, 3), (6, 4), (5, 5), (4, 6), (3, 7), (2, 8), (1, 9), (0,10)])\n",
    "    _df.columns = [ticker_A, '9:1', '8:2', '7:3', '6:4', '5:5', '4:6', '3:7', '2:8', '1:9', ticker_B]\n",
    "    return_ls.append([anal_funcs.cal_YRR(_df, col, method ='g', unit = 'monthly') for col in _df.columns])\n",
    "    ddr_ls.append([anal_funcs.cal_drawdown_risk(_df, col) for col in _df.columns])\n",
    "    _idx.append(_df.index[0])  \n",
    "    \n",
    "return_df_type1 = pd.DataFrame(return_ls, columns = _df.columns, index=_idx)\n",
    "ddr_df_type1 = pd.DataFrame(ddr_ls, columns = _df.columns, index=_idx)\n",
    "\n",
    "sort_df_type1 = pd.DataFrame([return_df_type1.mean(), ddr_df_type1.mean()], index=['Return', 'Volatility']).T"
   ]
  },
  {
   "cell_type": "markdown",
   "metadata": {},
   "source": [
    "###### Type2"
   ]
  },
  {
   "cell_type": "code",
   "execution_count": 109,
   "metadata": {},
   "outputs": [],
   "source": [
    "## 데이터 설정값\n",
    "ticker_A = 'QQQ'\n",
    "ticker_B = 'TLT'"
   ]
  },
  {
   "cell_type": "code",
   "execution_count": 110,
   "metadata": {},
   "outputs": [],
   "source": [
    "df = dataset_imputed[[ticker_A, ticker_B]].dropna()\n",
    "df = df/df.iloc[0]\n",
    "\n",
    "## data-split\n",
    "df_ls = split_time_series(df, 5*12)\n",
    "\n",
    "## calculate Rolling Returns\n",
    "return_ls = []\n",
    "ddr_ls = []\n",
    "_idx = []\n",
    "for _df in df_ls:\n",
    "    _df = simulate_portfolio_assets(_df.pct_change().fillna(0), [(10,0), (9, 1), (8, 2), (7, 3), (6, 4), (5, 5), (4, 6), (3, 7), (2, 8), (1, 9), (0,10)])\n",
    "    _df.columns = [ticker_A, '9:1', '8:2', '7:3', '6:4', '5:5', '4:6', '3:7', '2:8', '1:9', ticker_B]\n",
    "    return_ls.append([anal_funcs.cal_YRR(_df, col, method ='g', unit = 'monthly') for col in _df.columns])\n",
    "    ddr_ls.append([anal_funcs.cal_drawdown_risk(_df, col) for col in _df.columns])\n",
    "    _idx.append(_df.index[0])  \n",
    "    \n",
    "return_df_type2 = pd.DataFrame(return_ls, columns = _df.columns, index=_idx)\n",
    "ddr_df_type2 = pd.DataFrame(ddr_ls, columns = _df.columns, index=_idx)\n",
    "\n",
    "sort_df_type2 = pd.DataFrame([return_df_type2.mean(), ddr_df_type2.mean()], index=['Return', 'Volatility']).T"
   ]
  },
  {
   "cell_type": "markdown",
   "metadata": {},
   "source": [
    "###### Type3"
   ]
  },
  {
   "cell_type": "code",
   "execution_count": 114,
   "metadata": {},
   "outputs": [],
   "source": [
    "## 데이터 설정값\n",
    "ticker_A = 'QQQ'\n",
    "ticker_B = 'CASH'"
   ]
  },
  {
   "cell_type": "code",
   "execution_count": 115,
   "metadata": {},
   "outputs": [],
   "source": [
    "df = dataset_imputed[[ticker_A, ticker_B]].dropna()\n",
    "df = df/df.iloc[0]\n",
    "\n",
    "## data-split\n",
    "df_ls = split_time_series(df, 5*12)\n",
    "\n",
    "## calculate Rolling Returns\n",
    "return_ls = []\n",
    "ddr_ls = []\n",
    "_idx = []\n",
    "for _df in df_ls:\n",
    "    _df = simulate_portfolio_assets(_df.pct_change().fillna(0), [(10,0), (9, 1), (8, 2), (7, 3), (6, 4), (5, 5), (4, 6), (3, 7), (2, 8), (1, 9), (0,10)])\n",
    "    _df.columns = [ticker_A, '9:1', '8:2', '7:3', '6:4', '5:5', '4:6', '3:7', '2:8', '1:9', ticker_B]\n",
    "    return_ls.append([anal_funcs.cal_YRR(_df, col, method ='g', unit = 'monthly') for col in _df.columns])\n",
    "    ddr_ls.append([anal_funcs.cal_drawdown_risk(_df, col) for col in _df.columns])\n",
    "    _idx.append(_df.index[0])  \n",
    "    \n",
    "return_df_type3 = pd.DataFrame(return_ls, columns = _df.columns, index=_idx)\n",
    "ddr_df_type3 = pd.DataFrame(ddr_ls, columns = _df.columns, index=_idx)\n",
    "\n",
    "sort_df_type3 = pd.DataFrame([return_df_type3.mean(), ddr_df_type3.mean()], index=['Return', 'Volatility']).T"
   ]
  },
  {
   "cell_type": "code",
   "execution_count": 167,
   "metadata": {},
   "outputs": [],
   "source": [
    "## 현금의 특수성\n",
    "ddr_df_type3.fillna(0, inplace=True)\n",
    "sort_df_type3.fillna(0, inplace=True)"
   ]
  },
  {
   "cell_type": "markdown",
   "metadata": {},
   "source": [
    "###### Type4"
   ]
  },
  {
   "cell_type": "code",
   "execution_count": 116,
   "metadata": {},
   "outputs": [],
   "source": [
    "## 데이터 설정값\n",
    "ticker_A = 'SCHD'\n",
    "ticker_B = 'TLT'"
   ]
  },
  {
   "cell_type": "code",
   "execution_count": 117,
   "metadata": {},
   "outputs": [],
   "source": [
    "df = dataset_imputed[[ticker_A, ticker_B]].dropna()\n",
    "df = df/df.iloc[0]\n",
    "\n",
    "## data-split\n",
    "df_ls = split_time_series(df, 5*12)\n",
    "\n",
    "## calculate Rolling Returns\n",
    "return_ls = []\n",
    "ddr_ls = []\n",
    "_idx = []\n",
    "for _df in df_ls:\n",
    "    _df = simulate_portfolio_assets(_df.pct_change().fillna(0), [(10,0), (9, 1), (8, 2), (7, 3), (6, 4), (5, 5), (4, 6), (3, 7), (2, 8), (1, 9), (0,10)])\n",
    "    _df.columns = [ticker_A, '9:1', '8:2', '7:3', '6:4', '5:5', '4:6', '3:7', '2:8', '1:9', ticker_B]\n",
    "    return_ls.append([anal_funcs.cal_YRR(_df, col, method ='g', unit = 'monthly') for col in _df.columns])\n",
    "    ddr_ls.append([anal_funcs.cal_drawdown_risk(_df, col) for col in _df.columns])\n",
    "    _idx.append(_df.index[0])  \n",
    "    \n",
    "return_df_type4 = pd.DataFrame(return_ls, columns = _df.columns, index=_idx)\n",
    "ddr_df_type4 = pd.DataFrame(ddr_ls, columns = _df.columns, index=_idx)\n",
    "\n",
    "sort_df_type4 = pd.DataFrame([return_df_type4.mean(), ddr_df_type4.mean()], index=['Return', 'Volatility']).T"
   ]
  },
  {
   "cell_type": "markdown",
   "metadata": {},
   "source": [
    "###### Type5"
   ]
  },
  {
   "cell_type": "code",
   "execution_count": 118,
   "metadata": {},
   "outputs": [],
   "source": [
    "## 데이터 설정값\n",
    "ticker_A = 'SCHD'\n",
    "ticker_B = 'CASH'"
   ]
  },
  {
   "cell_type": "code",
   "execution_count": 119,
   "metadata": {},
   "outputs": [],
   "source": [
    "df = dataset_imputed[[ticker_A, ticker_B]].dropna()\n",
    "df = df/df.iloc[0]\n",
    "\n",
    "## data-split\n",
    "df_ls = split_time_series(df, 5*12)\n",
    "\n",
    "## calculate Rolling Returns\n",
    "return_ls = []\n",
    "ddr_ls = []\n",
    "_idx = []\n",
    "for _df in df_ls:\n",
    "    _df = simulate_portfolio_assets(_df.pct_change().fillna(0), [(10,0), (9, 1), (8, 2), (7, 3), (6, 4), (5, 5), (4, 6), (3, 7), (2, 8), (1, 9), (0,10)])\n",
    "    _df.columns = [ticker_A, '9:1', '8:2', '7:3', '6:4', '5:5', '4:6', '3:7', '2:8', '1:9', ticker_B]\n",
    "    return_ls.append([anal_funcs.cal_YRR(_df, col, method ='g', unit = 'monthly') for col in _df.columns])\n",
    "    ddr_ls.append([anal_funcs.cal_drawdown_risk(_df, col) for col in _df.columns])\n",
    "    _idx.append(_df.index[0])  \n",
    "    \n",
    "return_df_type5 = pd.DataFrame(return_ls, columns = _df.columns, index=_idx)\n",
    "ddr_df_type5 = pd.DataFrame(ddr_ls, columns = _df.columns, index=_idx)\n",
    "\n",
    "sort_df_type5 = pd.DataFrame([return_df_type5.mean(), ddr_df_type5.mean()], index=['Return', 'Volatility']).T"
   ]
  },
  {
   "cell_type": "code",
   "execution_count": null,
   "metadata": {},
   "outputs": [],
   "source": [
    "## 현금의 특수성\n",
    "ddr_df_type5.fillna(0, inplace=True)\n",
    "sort_df_type5.fillna(0, inplace=True)"
   ]
  },
  {
   "cell_type": "markdown",
   "metadata": {},
   "source": [
    "###### Type6"
   ]
  },
  {
   "cell_type": "code",
   "execution_count": 179,
   "metadata": {},
   "outputs": [],
   "source": [
    "## 데이터 설정값\n",
    "ticker_A = 'QQQ'\n",
    "ticker_B = 'SCHD'"
   ]
  },
  {
   "cell_type": "code",
   "execution_count": null,
   "metadata": {},
   "outputs": [],
   "source": [
    "df = dataset_short[[ticker_A, ticker_B]].dropna()\n",
    "df = df/df.iloc[0]\n",
    "\n",
    "## data-split\n",
    "df_ls = split_time_series(df, 5*12)\n",
    "\n",
    "## calculate Rolling Returns\n",
    "return_ls = []\n",
    "ddr_ls = []\n",
    "_idx = []\n",
    "for _df in df_ls:\n",
    "    _df = simulate_portfolio_assets(_df.pct_change().fillna(0), [(10,0), (9, 1), (8, 2), (7, 3), (6, 4), (5, 5), (4, 6), (3, 7), (2, 8), (1, 9), (0,10)])\n",
    "    _df.columns = [ticker_A, '9:1', '8:2', '7:3', '6:4', '5:5', '4:6', '3:7', '2:8', '1:9', ticker_B]\n",
    "    return_ls.append([anal_funcs.cal_YRR(_df, col, method ='g', unit = 'monthly') for col in _df.columns])\n",
    "    ddr_ls.append([anal_funcs.cal_drawdown_risk(_df, col) for col in _df.columns])\n",
    "    _idx.append(_df.index[0])  \n",
    "    \n",
    "return_df_type6 = pd.DataFrame(return_ls, columns = _df.columns, index=_idx)\n",
    "ddr_df_type6 = pd.DataFrame(ddr_ls, columns = _df.columns, index=_idx)\n",
    "\n",
    "sort_df_type6 = pd.DataFrame([return_df_type6.mean(), ddr_df_type6.mean()], index=['Return', 'Volatility']).T"
   ]
  },
  {
   "cell_type": "markdown",
   "metadata": {},
   "source": [
    "###### Type7"
   ]
  },
  {
   "cell_type": "code",
   "execution_count": 133,
   "metadata": {},
   "outputs": [],
   "source": [
    "## 데이터 설정값\n",
    "ticker_A = 'QQQ'\n",
    "ticker_B = 'TLT'"
   ]
  },
  {
   "cell_type": "code",
   "execution_count": 134,
   "metadata": {},
   "outputs": [],
   "source": [
    "df = dataset_short[[ticker_A, ticker_B]].dropna()\n",
    "df = df/df.iloc[0]\n",
    "\n",
    "## data-split\n",
    "df_ls = split_time_series(df, 5*12)\n",
    "\n",
    "## calculate Rolling Returns\n",
    "return_ls = []\n",
    "ddr_ls = []\n",
    "_idx = []\n",
    "for _df in df_ls:\n",
    "    _df = simulate_portfolio_assets(_df.pct_change().fillna(0), [(10,0), (9, 1), (8, 2), (7, 3), (6, 4), (5, 5), (4, 6), (3, 7), (2, 8), (1, 9), (0,10)])\n",
    "    _df.columns = [ticker_A, '9:1', '8:2', '7:3', '6:4', '5:5', '4:6', '3:7', '2:8', '1:9', ticker_B]\n",
    "    return_ls.append([anal_funcs.cal_YRR(_df, col, method ='g', unit = 'monthly') for col in _df.columns])\n",
    "    ddr_ls.append([anal_funcs.cal_drawdown_risk(_df, col) for col in _df.columns])\n",
    "    _idx.append(_df.index[0])  \n",
    "    \n",
    "return_df_type7 = pd.DataFrame(return_ls, columns = _df.columns, index=_idx)\n",
    "ddr_df_type7 = pd.DataFrame(ddr_ls, columns = _df.columns, index=_idx)\n",
    "\n",
    "sort_df_type7 = pd.DataFrame([return_df_type7.mean(), ddr_df_type7.mean()], index=['Return', 'Volatility']).T"
   ]
  },
  {
   "cell_type": "markdown",
   "metadata": {},
   "source": [
    "###### Type8"
   ]
  },
  {
   "cell_type": "code",
   "execution_count": 135,
   "metadata": {},
   "outputs": [],
   "source": [
    "## 데이터 설정값\n",
    "ticker_A = 'QQQ'\n",
    "ticker_B = 'GOLD'"
   ]
  },
  {
   "cell_type": "code",
   "execution_count": 136,
   "metadata": {},
   "outputs": [],
   "source": [
    "df = dataset_short[[ticker_A, ticker_B]].dropna()\n",
    "df = df/df.iloc[0]\n",
    "\n",
    "## data-split\n",
    "df_ls = split_time_series(df, 5*12)\n",
    "\n",
    "## calculate Rolling Returns\n",
    "return_ls = []\n",
    "ddr_ls = []\n",
    "_idx = []\n",
    "for _df in df_ls:\n",
    "    _df = simulate_portfolio_assets(_df.pct_change().fillna(0), [(10,0), (9, 1), (8, 2), (7, 3), (6, 4), (5, 5), (4, 6), (3, 7), (2, 8), (1, 9), (0,10)])\n",
    "    _df.columns = [ticker_A, '9:1', '8:2', '7:3', '6:4', '5:5', '4:6', '3:7', '2:8', '1:9', ticker_B]\n",
    "    return_ls.append([anal_funcs.cal_YRR(_df, col, method ='g', unit = 'monthly') for col in _df.columns])\n",
    "    ddr_ls.append([anal_funcs.cal_drawdown_risk(_df, col) for col in _df.columns])\n",
    "    _idx.append(_df.index[0])  \n",
    "    \n",
    "return_df_type8 = pd.DataFrame(return_ls, columns = _df.columns, index=_idx)\n",
    "ddr_df_type8 = pd.DataFrame(ddr_ls, columns = _df.columns, index=_idx)\n",
    "\n",
    "sort_df_type8 = pd.DataFrame([return_df_type8.mean(), ddr_df_type8.mean()], index=['Return', 'Volatility']).T"
   ]
  },
  {
   "cell_type": "markdown",
   "metadata": {},
   "source": [
    "###### Type9"
   ]
  },
  {
   "cell_type": "code",
   "execution_count": 137,
   "metadata": {},
   "outputs": [],
   "source": [
    "## 데이터 설정값\n",
    "ticker_A = 'QQQ'\n",
    "ticker_B = 'CASH'"
   ]
  },
  {
   "cell_type": "code",
   "execution_count": 138,
   "metadata": {},
   "outputs": [],
   "source": [
    "df = dataset_short[[ticker_A, ticker_B]].dropna()\n",
    "df = df/df.iloc[0]\n",
    "\n",
    "## data-split\n",
    "df_ls = split_time_series(df, 5*12)\n",
    "\n",
    "## calculate Rolling Returns\n",
    "return_ls = []\n",
    "ddr_ls = []\n",
    "_idx = []\n",
    "for _df in df_ls:\n",
    "    _df = simulate_portfolio_assets(_df.pct_change().fillna(0), [(10,0), (9, 1), (8, 2), (7, 3), (6, 4), (5, 5), (4, 6), (3, 7), (2, 8), (1, 9), (0,10)])\n",
    "    _df.columns = [ticker_A, '9:1', '8:2', '7:3', '6:4', '5:5', '4:6', '3:7', '2:8', '1:9', ticker_B]\n",
    "    return_ls.append([anal_funcs.cal_YRR(_df, col, method ='g', unit = 'monthly') for col in _df.columns])\n",
    "    ddr_ls.append([anal_funcs.cal_drawdown_risk(_df, col) for col in _df.columns])\n",
    "    _idx.append(_df.index[0])  \n",
    "    \n",
    "return_df_type9 = pd.DataFrame(return_ls, columns = _df.columns, index=_idx)\n",
    "ddr_df_type9 = pd.DataFrame(ddr_ls, columns = _df.columns, index=_idx)\n",
    "\n",
    "sort_df_type9 = pd.DataFrame([return_df_type9.mean(), ddr_df_type9.mean()], index=['Return', 'Volatility']).T"
   ]
  },
  {
   "cell_type": "code",
   "execution_count": 146,
   "metadata": {},
   "outputs": [],
   "source": [
    "## 현금의 특수성\n",
    "ddr_df_type9.fillna(0, inplace=True)\n",
    "sort_df_type9.fillna(0, inplace=True)"
   ]
  },
  {
   "cell_type": "markdown",
   "metadata": {},
   "source": [
    "###### Type10"
   ]
  },
  {
   "cell_type": "code",
   "execution_count": 140,
   "metadata": {},
   "outputs": [],
   "source": [
    "## 데이터 설정값\n",
    "ticker_A = 'SCHD'\n",
    "ticker_B = 'TLT'"
   ]
  },
  {
   "cell_type": "code",
   "execution_count": 141,
   "metadata": {},
   "outputs": [],
   "source": [
    "df = dataset_short[[ticker_A, ticker_B]].dropna()\n",
    "df = df/df.iloc[0]\n",
    "\n",
    "## data-split\n",
    "df_ls = split_time_series(df, 5*12)\n",
    "\n",
    "## calculate Rolling Returns\n",
    "return_ls = []\n",
    "ddr_ls = []\n",
    "_idx = []\n",
    "for _df in df_ls:\n",
    "    _df = simulate_portfolio_assets(_df.pct_change().fillna(0), [(10,0), (9, 1), (8, 2), (7, 3), (6, 4), (5, 5), (4, 6), (3, 7), (2, 8), (1, 9), (0,10)])\n",
    "    _df.columns = [ticker_A, '9:1', '8:2', '7:3', '6:4', '5:5', '4:6', '3:7', '2:8', '1:9', ticker_B]\n",
    "    return_ls.append([anal_funcs.cal_YRR(_df, col, method ='g', unit = 'monthly') for col in _df.columns])\n",
    "    ddr_ls.append([anal_funcs.cal_drawdown_risk(_df, col) for col in _df.columns])\n",
    "    _idx.append(_df.index[0])  \n",
    "    \n",
    "return_df_type10 = pd.DataFrame(return_ls, columns = _df.columns, index=_idx)\n",
    "ddr_df_type10 = pd.DataFrame(ddr_ls, columns = _df.columns, index=_idx)\n",
    "\n",
    "sort_df_type10 = pd.DataFrame([return_df_type10.mean(), ddr_df_type10.mean()], index=['Return', 'Volatility']).T"
   ]
  },
  {
   "cell_type": "markdown",
   "metadata": {},
   "source": [
    "###### Type11"
   ]
  },
  {
   "cell_type": "code",
   "execution_count": 142,
   "metadata": {},
   "outputs": [],
   "source": [
    "## 데이터 설정값\n",
    "ticker_A = 'SCHD'\n",
    "ticker_B = 'GOLD'"
   ]
  },
  {
   "cell_type": "code",
   "execution_count": 143,
   "metadata": {},
   "outputs": [],
   "source": [
    "df = dataset_short[[ticker_A, ticker_B]].dropna()\n",
    "df = df/df.iloc[0]\n",
    "\n",
    "## data-split\n",
    "df_ls = split_time_series(df, 5*12)\n",
    "\n",
    "## calculate Rolling Returns\n",
    "return_ls = []\n",
    "ddr_ls = []\n",
    "_idx = []\n",
    "for _df in df_ls:\n",
    "    _df = simulate_portfolio_assets(_df.pct_change().fillna(0), [(10,0), (9, 1), (8, 2), (7, 3), (6, 4), (5, 5), (4, 6), (3, 7), (2, 8), (1, 9), (0,10)])\n",
    "    _df.columns = [ticker_A, '9:1', '8:2', '7:3', '6:4', '5:5', '4:6', '3:7', '2:8', '1:9', ticker_B]\n",
    "    return_ls.append([anal_funcs.cal_YRR(_df, col, method ='g', unit = 'monthly') for col in _df.columns])\n",
    "    ddr_ls.append([anal_funcs.cal_drawdown_risk(_df, col) for col in _df.columns])\n",
    "    _idx.append(_df.index[0])  \n",
    "    \n",
    "return_df_type11 = pd.DataFrame(return_ls, columns = _df.columns, index=_idx)\n",
    "ddr_df_type11 = pd.DataFrame(ddr_ls, columns = _df.columns, index=_idx)\n",
    "\n",
    "sort_df_type11 = pd.DataFrame([return_df_type11.mean(), ddr_df_type11.mean()], index=['Return', 'Volatility']).T"
   ]
  },
  {
   "cell_type": "markdown",
   "metadata": {},
   "source": [
    "###### Type12"
   ]
  },
  {
   "cell_type": "code",
   "execution_count": 144,
   "metadata": {},
   "outputs": [],
   "source": [
    "## 데이터 설정값\n",
    "ticker_A = 'SCHD'\n",
    "ticker_B = 'CASH'"
   ]
  },
  {
   "cell_type": "code",
   "execution_count": 145,
   "metadata": {},
   "outputs": [],
   "source": [
    "df = dataset_short[[ticker_A, ticker_B]].dropna()\n",
    "df = df/df.iloc[0]\n",
    "\n",
    "## data-split\n",
    "df_ls = split_time_series(df, 5*12)\n",
    "\n",
    "## calculate Rolling Returns\n",
    "return_ls = []\n",
    "ddr_ls = []\n",
    "_idx = []\n",
    "for _df in df_ls:\n",
    "    _df = simulate_portfolio_assets(_df.pct_change().fillna(0), [(10,0), (9, 1), (8, 2), (7, 3), (6, 4), (5, 5), (4, 6), (3, 7), (2, 8), (1, 9), (0,10)])\n",
    "    _df.columns = [ticker_A, '9:1', '8:2', '7:3', '6:4', '5:5', '4:6', '3:7', '2:8', '1:9', ticker_B]\n",
    "    return_ls.append([anal_funcs.cal_YRR(_df, col, method ='g', unit = 'monthly') for col in _df.columns])\n",
    "    ddr_ls.append([anal_funcs.cal_drawdown_risk(_df, col) for col in _df.columns])\n",
    "    _idx.append(_df.index[0])  \n",
    "    \n",
    "return_df_type12 = pd.DataFrame(return_ls, columns = _df.columns, index=_idx)\n",
    "ddr_df_type12 = pd.DataFrame(ddr_ls, columns = _df.columns, index=_idx)\n",
    "\n",
    "sort_df_type12 = pd.DataFrame([return_df_type12.mean(), ddr_df_type12.mean()], index=['Return', 'Volatility']).T"
   ]
  },
  {
   "cell_type": "code",
   "execution_count": 149,
   "metadata": {},
   "outputs": [],
   "source": [
    "## 현금의 특수성\n",
    "ddr_df_type12.fillna(0, inplace=True)\n",
    "sort_df_type12.fillna(0, inplace=True)"
   ]
  },
  {
   "cell_type": "markdown",
   "metadata": {},
   "source": [
    "###### 시각화"
   ]
  },
  {
   "cell_type": "code",
   "execution_count": 299,
   "metadata": {},
   "outputs": [
    {
     "data": {
      "image/png": "[encoded data removed]",
      "text/plain": [
       "<Figure size 1200x800 with 1 Axes>"
      ]
     },
     "metadata": {},
     "output_type": "display_data"
    }
   ],
   "source": [
    "plot_df = sort_df_type0_5.copy()\n",
    "\n",
    "# 색상 및 크기 설정\n",
    "colors = [color_norm, color_sub, color_sub, color_sub, color_sub, color_sub, color_sub, color_sub, color_sub, color_sub, color_cont]\n",
    "sizes = 500\n",
    "\n",
    "# 그래프 설정\n",
    "fig, ax = plt.subplots(figsize=figsize)\n",
    "\n",
    "# 점 그리기\n",
    "x = plot_df['Volatility']\n",
    "y = plot_df['Return']\n",
    "scatter = ax.scatter(x, y, c=colors, s=sizes, edgecolors=\"white\", linewidth=2, alpha=0.9)\n",
    "\n",
    "\n",
    "# 데이터 레이블 추가\n",
    "labels = list(plot_df.index)\n",
    "for i, label in enumerate(labels):\n",
    "    plt.text(\n",
    "        x[i], y[i]-np.abs(y.max()-y.min())*0.05, label, fontsize=12, ha=\"center\", va=\"center\", \n",
    "        color=\"white\", fontweight=\"bold\", bbox=dict(facecolor=colors[i], edgecolor='none', alpha=0.8, boxstyle=\"round,pad=0.3\")\n",
    "    )\n",
    "\n",
    "# % 단위를 추가하는 포맷터 함수 정의\n",
    "def percent_formatter(x, pos):\n",
    "    return f\"{round(x, 2)}%\"\n",
    "\n",
    "# X축, Y축에 % 포맷터 적용\n",
    "plt.gca().xaxis.set_major_formatter(FuncFormatter(percent_formatter))\n",
    "plt.gca().yaxis.set_major_formatter(FuncFormatter(percent_formatter))\n",
    "# 눈금과 축 간격 줄이기\n",
    "plt.gca().tick_params(axis=\"x\", pad=1)  # X축 눈금 패딩 조정\n",
    "plt.gca().tick_params(axis=\"y\", pad=1)  # Y축 눈금 패딩 조정\n",
    "\n",
    "# 축 설정\n",
    "plt.title(f\"5Y Rolling Return-Risk Profile : {dataset_imputed_small.index[0].year}~{dataset_imputed_small.index[-1].year}\", fontsize=22, fontweight=\"bold\", color=color_basic)\n",
    "plt.xlabel(\"Risk\", fontsize=16, labelpad=0, fontweight=\"bold\", color=color_around, loc=\"right\")\n",
    "plt.ylabel(\"Return\", fontsize=16, labelpad=-50, fontweight=\"bold\", color=color_around, loc=\"top\", rotation=0)\n",
    "plt.xticks(fontsize=10, color=color_around)\n",
    "plt.yticks(fontsize=10, color=color_around)\n",
    "# plt.xlim(2.9, 5.7)\n",
    "# plt.ylim(2.4, 6.9)\n",
    "plt.grid(color=color_around2, linestyle=\"--\", linewidth=0.7, alpha=0.7)\n",
    "\n",
    "# 저장 및 출력\n",
    "plt.tight_layout()\n",
    "plt.show()"
   ]
  },
  {
   "cell_type": "markdown",
   "metadata": {},
   "source": [
    "###### 전체 결합"
   ]
  },
  {
   "cell_type": "code",
   "execution_count": 300,
   "metadata": {},
   "outputs": [],
   "source": [
    "sort_df_type0_1['sortino_ratio'] = (sort_df_type0_1['Return'])/sort_df_type0_1['Volatility']\n",
    "sort_df_type0_2['sortino_ratio'] = (sort_df_type0_2['Return'])/sort_df_type0_2['Volatility']\n",
    "sort_df_type0_3['sortino_ratio'] = (sort_df_type0_3['Return'])/sort_df_type0_3['Volatility']\n",
    "sort_df_type0_4['sortino_ratio'] = (sort_df_type0_4['Return'])/sort_df_type0_4['Volatility']\n",
    "sort_df_type0_5['sortino_ratio'] = (sort_df_type0_5['Return'])/sort_df_type0_5['Volatility']\n",
    "\n",
    "sort_df_type1['sortino_ratio'] = (sort_df_type1['Return'])/sort_df_type1['Volatility']\n",
    "sort_df_type2['sortino_ratio'] = (sort_df_type2['Return'])/sort_df_type2['Volatility']\n",
    "sort_df_type3['sortino_ratio'] = (sort_df_type3['Return'])/sort_df_type3['Volatility']\n",
    "sort_df_type4['sortino_ratio'] = (sort_df_type4['Return'])/sort_df_type4['Volatility']\n",
    "sort_df_type5['sortino_ratio'] = (sort_df_type5['Return'])/sort_df_type5['Volatility']\n",
    "sort_df_type6['sortino_ratio'] = (sort_df_type6['Return'])/sort_df_type6['Volatility']\n",
    "sort_df_type7['sortino_ratio'] = (sort_df_type7['Return'])/sort_df_type7['Volatility']\n",
    "sort_df_type8['sortino_ratio'] = (sort_df_type8['Return'])/sort_df_type8['Volatility']\n",
    "sort_df_type9['sortino_ratio'] = (sort_df_type9['Return'])/sort_df_type9['Volatility']\n",
    "sort_df_type10['sortino_ratio'] = (sort_df_type10['Return'])/sort_df_type10['Volatility']\n",
    "sort_df_type11['sortino_ratio'] = (sort_df_type11['Return'])/sort_df_type11['Volatility']\n",
    "sort_df_type12['sortino_ratio'] = (sort_df_type12['Return'])/sort_df_type12['Volatility']"
   ]
  },
  {
   "cell_type": "code",
   "execution_count": 381,
   "metadata": {},
   "outputs": [],
   "source": [
    "_ls = []\n",
    "for i in [1, 2, 3, 4, 5]:\n",
    "    temp = globals()['sort_df_type0_{}'.format(i)][globals()['sort_df_type0_{}'.format(i)]['sortino_ratio'] == globals()['sort_df_type0_{}'.format(i)]['sortino_ratio'].max()].reset_index().rename(columns={'index':'portfolio'})\n",
    "    temp['Ticker_A'] = globals()['sort_df_type0_{}'.format(i)].index[0]\n",
    "    temp['Ticker_B'] = globals()['sort_df_type0_{}'.format(i)].index[-1]\n",
    "    temp= temp[['Ticker_A', 'Ticker_B', 'portfolio', 'Return', 'Volatility', 'sortino_ratio']]\n",
    "    _ls.append(temp)\n",
    "mid_term_score = pd.concat(_ls)"
   ]
  },
  {
   "cell_type": "code",
   "execution_count": 382,
   "metadata": {},
   "outputs": [],
   "source": [
    "_ls = []\n",
    "for i in [7, 8, 6, 10, 11]:\n",
    "    temp = globals()['sort_df_type{}'.format(i)][globals()['sort_df_type{}'.format(i)]['sortino_ratio'] == globals()['sort_df_type{}'.format(i)]['sortino_ratio'].max()].reset_index().rename(columns={'index':'portfolio'})\n",
    "    temp['Ticker_A'] = globals()['sort_df_type{}'.format(i)].index[0]\n",
    "    temp['Ticker_B'] = globals()['sort_df_type{}'.format(i)].index[-1]\n",
    "    temp= temp[['Ticker_A', 'Ticker_B', 'portfolio', 'Return', 'Volatility', 'sortino_ratio']]\n",
    "    _ls.append(temp)\n",
    "short_term_score = pd.concat(_ls)"
   ]
  },
  {
   "cell_type": "code",
   "execution_count": 383,
   "metadata": {},
   "outputs": [],
   "source": [
    "_ls = []\n",
    "for i in [2, 1, 4]:\n",
    "    temp = globals()['sort_df_type{}'.format(i)][globals()['sort_df_type{}'.format(i)]['sortino_ratio'] == globals()['sort_df_type{}'.format(i)]['sortino_ratio'].max()].reset_index().rename(columns={'index':'portfolio'})\n",
    "    temp['Ticker_A'] = globals()['sort_df_type{}'.format(i)].index[0]\n",
    "    temp['Ticker_B'] = globals()['sort_df_type{}'.format(i)].index[-1]\n",
    "    temp= temp[['Ticker_A', 'Ticker_B', 'portfolio', 'Return', 'Volatility', 'sortino_ratio']]\n",
    "    _ls.append(temp)\n",
    "long_term_score = pd.concat(_ls)"
   ]
  },
  {
   "cell_type": "code",
   "execution_count": 384,
   "metadata": {},
   "outputs": [],
   "source": [
    "short_term_score=short_term_score.reset_index(drop=True)"
   ]
  },
  {
   "cell_type": "code",
   "execution_count": 385,
   "metadata": {},
   "outputs": [],
   "source": [
    "mid_term_score=mid_term_score.reset_index(drop=True)"
   ]
  },
  {
   "cell_type": "code",
   "execution_count": 386,
   "metadata": {},
   "outputs": [],
   "source": [
    "long_term_score=long_term_score.reset_index(drop=True)\n",
    "long_term_score['portfolio']= long_term_score['portfolio'].apply(lambda x: x.replace('SCHD', '0:10'))"
   ]
  },
  {
   "cell_type": "markdown",
   "metadata": {},
   "source": [
    "###### 합산 배당률"
   ]
  },
  {
   "cell_type": "code",
   "execution_count": 387,
   "metadata": {},
   "outputs": [],
   "source": [
    "div_dict = {\"QQQ\":0.60, \"TLT\":4.07, \"SCHD\":3.33, \"GOLD\":0}"
   ]
  },
  {
   "cell_type": "code",
   "execution_count": 388,
   "metadata": {},
   "outputs": [],
   "source": [
    "def _func(df):\n",
    "    _ls = []\n",
    "    for i in range(len(df)):\n",
    "        _div = div_dict[df['Ticker_A'][i]]*int(df['portfolio'][i].split(':')[0])*.1 + div_dict[df['Ticker_B'][i]]*int(df['portfolio'][i].split(':')[1])*.1\n",
    "        _ls.append(_div)\n",
    "    return _ls"
   ]
  },
  {
   "cell_type": "code",
   "execution_count": 389,
   "metadata": {},
   "outputs": [],
   "source": [
    "short_term_score['Dividend'] = _func(short_term_score)\n",
    "mid_term_score['Dividend'] = _func(mid_term_score)\n",
    "long_term_score['Dividend'] = _func(long_term_score)"
   ]
  },
  {
   "cell_type": "code",
   "execution_count": 390,
   "metadata": {},
   "outputs": [
    {
     "data": {
      "text/html": [
       "<div>\n",
       "<style scoped>\n",
       "    .dataframe tbody tr th:only-of-type {\n",
       "        vertical-align: middle;\n",
       "    }\n",
       "\n",
       "    .dataframe tbody tr th {\n",
       "        vertical-align: top;\n",
       "    }\n",
       "\n",
       "    .dataframe thead th {\n",
       "        text-align: right;\n",
       "    }\n",
       "</style>\n",
       "<table border=\"1\" class=\"dataframe\">\n",
       "  <thead>\n",
       "    <tr style=\"text-align: right;\">\n",
       "      <th></th>\n",
       "      <th>Ticker_A</th>\n",
       "      <th>Ticker_B</th>\n",
       "      <th>portfolio</th>\n",
       "      <th>Return</th>\n",
       "      <th>Volatility</th>\n",
       "      <th>sortino_ratio</th>\n",
       "      <th>Dividend</th>\n",
       "    </tr>\n",
       "  </thead>\n",
       "  <tbody>\n",
       "    <tr>\n",
       "      <th>0</th>\n",
       "      <td>QQQ</td>\n",
       "      <td>TLT</td>\n",
       "      <td>7:3</td>\n",
       "      <td>10.618080</td>\n",
       "      <td>2.107055</td>\n",
       "      <td>5.039299</td>\n",
       "      <td>1.641</td>\n",
       "    </tr>\n",
       "    <tr>\n",
       "      <th>1</th>\n",
       "      <td>QQQ</td>\n",
       "      <td>GOLD</td>\n",
       "      <td>5:5</td>\n",
       "      <td>9.193910</td>\n",
       "      <td>1.529059</td>\n",
       "      <td>6.012790</td>\n",
       "      <td>0.300</td>\n",
       "    </tr>\n",
       "    <tr>\n",
       "      <th>2</th>\n",
       "      <td>QQQ</td>\n",
       "      <td>SCHD</td>\n",
       "      <td>7:3</td>\n",
       "      <td>12.741849</td>\n",
       "      <td>2.689022</td>\n",
       "      <td>4.738469</td>\n",
       "      <td>1.419</td>\n",
       "    </tr>\n",
       "    <tr>\n",
       "      <th>3</th>\n",
       "      <td>SCHD</td>\n",
       "      <td>TLT</td>\n",
       "      <td>7:3</td>\n",
       "      <td>9.357083</td>\n",
       "      <td>1.754764</td>\n",
       "      <td>5.332389</td>\n",
       "      <td>3.552</td>\n",
       "    </tr>\n",
       "    <tr>\n",
       "      <th>4</th>\n",
       "      <td>SCHD</td>\n",
       "      <td>GOLD</td>\n",
       "      <td>6:4</td>\n",
       "      <td>8.956260</td>\n",
       "      <td>1.460531</td>\n",
       "      <td>6.132193</td>\n",
       "      <td>1.998</td>\n",
       "    </tr>\n",
       "  </tbody>\n",
       "</table>\n",
       "</div>"
      ],
      "text/plain": [
       "  Ticker_A Ticker_B portfolio     Return  Volatility  sortino_ratio  Dividend\n",
       "0      QQQ      TLT       7:3  10.618080    2.107055       5.039299     1.641\n",
       "1      QQQ     GOLD       5:5   9.193910    1.529059       6.012790     0.300\n",
       "2      QQQ     SCHD       7:3  12.741849    2.689022       4.738469     1.419\n",
       "3     SCHD      TLT       7:3   9.357083    1.754764       5.332389     3.552\n",
       "4     SCHD     GOLD       6:4   8.956260    1.460531       6.132193     1.998"
      ]
     },
     "execution_count": 390,
     "metadata": {},
     "output_type": "execute_result"
    }
   ],
   "source": [
    "short_term_score"
   ]
  },
  {
   "cell_type": "code",
   "execution_count": 391,
   "metadata": {},
   "outputs": [
    {
     "data": {
      "text/html": [
       "<div>\n",
       "<style scoped>\n",
       "    .dataframe tbody tr th:only-of-type {\n",
       "        vertical-align: middle;\n",
       "    }\n",
       "\n",
       "    .dataframe tbody tr th {\n",
       "        vertical-align: top;\n",
       "    }\n",
       "\n",
       "    .dataframe thead th {\n",
       "        text-align: right;\n",
       "    }\n",
       "</style>\n",
       "<table border=\"1\" class=\"dataframe\">\n",
       "  <thead>\n",
       "    <tr style=\"text-align: right;\">\n",
       "      <th></th>\n",
       "      <th>Ticker_A</th>\n",
       "      <th>Ticker_B</th>\n",
       "      <th>portfolio</th>\n",
       "      <th>Return</th>\n",
       "      <th>Volatility</th>\n",
       "      <th>sortino_ratio</th>\n",
       "      <th>Dividend</th>\n",
       "    </tr>\n",
       "  </thead>\n",
       "  <tbody>\n",
       "    <tr>\n",
       "      <th>0</th>\n",
       "      <td>QQQ</td>\n",
       "      <td>TLT</td>\n",
       "      <td>5:5</td>\n",
       "      <td>7.761058</td>\n",
       "      <td>1.967712</td>\n",
       "      <td>3.944205</td>\n",
       "      <td>2.335</td>\n",
       "    </tr>\n",
       "    <tr>\n",
       "      <th>1</th>\n",
       "      <td>QQQ</td>\n",
       "      <td>GOLD</td>\n",
       "      <td>5:5</td>\n",
       "      <td>9.133792</td>\n",
       "      <td>2.365410</td>\n",
       "      <td>3.861400</td>\n",
       "      <td>0.300</td>\n",
       "    </tr>\n",
       "    <tr>\n",
       "      <th>2</th>\n",
       "      <td>QQQ</td>\n",
       "      <td>SCHD</td>\n",
       "      <td>3:7</td>\n",
       "      <td>7.898674</td>\n",
       "      <td>2.898083</td>\n",
       "      <td>2.725483</td>\n",
       "      <td>2.511</td>\n",
       "    </tr>\n",
       "    <tr>\n",
       "      <th>3</th>\n",
       "      <td>SCHD</td>\n",
       "      <td>TLT</td>\n",
       "      <td>6:4</td>\n",
       "      <td>6.700244</td>\n",
       "      <td>1.760497</td>\n",
       "      <td>3.805882</td>\n",
       "      <td>3.626</td>\n",
       "    </tr>\n",
       "    <tr>\n",
       "      <th>4</th>\n",
       "      <td>SCHD</td>\n",
       "      <td>GOLD</td>\n",
       "      <td>6:4</td>\n",
       "      <td>7.933510</td>\n",
       "      <td>2.031831</td>\n",
       "      <td>3.904611</td>\n",
       "      <td>1.998</td>\n",
       "    </tr>\n",
       "  </tbody>\n",
       "</table>\n",
       "</div>"
      ],
      "text/plain": [
       "  Ticker_A Ticker_B portfolio    Return  Volatility  sortino_ratio  Dividend\n",
       "0      QQQ      TLT       5:5  7.761058    1.967712       3.944205     2.335\n",
       "1      QQQ     GOLD       5:5  9.133792    2.365410       3.861400     0.300\n",
       "2      QQQ     SCHD       3:7  7.898674    2.898083       2.725483     2.511\n",
       "3     SCHD      TLT       6:4  6.700244    1.760497       3.805882     3.626\n",
       "4     SCHD     GOLD       6:4  7.933510    2.031831       3.904611     1.998"
      ]
     },
     "execution_count": 391,
     "metadata": {},
     "output_type": "execute_result"
    }
   ],
   "source": [
    "mid_term_score"
   ]
  },
  {
   "cell_type": "code",
   "execution_count": 392,
   "metadata": {},
   "outputs": [
    {
     "data": {
      "text/html": [
       "<div>\n",
       "<style scoped>\n",
       "    .dataframe tbody tr th:only-of-type {\n",
       "        vertical-align: middle;\n",
       "    }\n",
       "\n",
       "    .dataframe tbody tr th {\n",
       "        vertical-align: top;\n",
       "    }\n",
       "\n",
       "    .dataframe thead th {\n",
       "        text-align: right;\n",
       "    }\n",
       "</style>\n",
       "<table border=\"1\" class=\"dataframe\">\n",
       "  <thead>\n",
       "    <tr style=\"text-align: right;\">\n",
       "      <th></th>\n",
       "      <th>Ticker_A</th>\n",
       "      <th>Ticker_B</th>\n",
       "      <th>portfolio</th>\n",
       "      <th>Return</th>\n",
       "      <th>Volatility</th>\n",
       "      <th>sortino_ratio</th>\n",
       "      <th>Dividend</th>\n",
       "    </tr>\n",
       "  </thead>\n",
       "  <tbody>\n",
       "    <tr>\n",
       "      <th>0</th>\n",
       "      <td>QQQ</td>\n",
       "      <td>TLT</td>\n",
       "      <td>3:7</td>\n",
       "      <td>4.684254</td>\n",
       "      <td>1.667413</td>\n",
       "      <td>2.809294</td>\n",
       "      <td>3.029</td>\n",
       "    </tr>\n",
       "    <tr>\n",
       "      <th>1</th>\n",
       "      <td>QQQ</td>\n",
       "      <td>SCHD</td>\n",
       "      <td>0:10</td>\n",
       "      <td>6.328627</td>\n",
       "      <td>2.679400</td>\n",
       "      <td>2.361957</td>\n",
       "      <td>3.330</td>\n",
       "    </tr>\n",
       "    <tr>\n",
       "      <th>2</th>\n",
       "      <td>SCHD</td>\n",
       "      <td>TLT</td>\n",
       "      <td>5:5</td>\n",
       "      <td>4.621870</td>\n",
       "      <td>1.525971</td>\n",
       "      <td>3.028806</td>\n",
       "      <td>3.700</td>\n",
       "    </tr>\n",
       "  </tbody>\n",
       "</table>\n",
       "</div>"
      ],
      "text/plain": [
       "  Ticker_A Ticker_B portfolio    Return  Volatility  sortino_ratio  Dividend\n",
       "0      QQQ      TLT       3:7  4.684254    1.667413       2.809294     3.029\n",
       "1      QQQ     SCHD      0:10  6.328627    2.679400       2.361957     3.330\n",
       "2     SCHD      TLT       5:5  4.621870    1.525971       3.028806     3.700"
      ]
     },
     "execution_count": 392,
     "metadata": {},
     "output_type": "execute_result"
    }
   ],
   "source": [
    "long_term_score"
   ]
  },
  {
   "cell_type": "code",
   "execution_count": null,
   "metadata": {},
   "outputs": [],
   "source": []
  },
  {
   "cell_type": "code",
   "execution_count": null,
   "metadata": {},
   "outputs": [],
   "source": []
  }
 ],
 "metadata": {
  "kernelspec": {
   "display_name": ".venv",
   "language": "python",
   "name": "python3"
  },
  "language_info": {
   "codemirror_mode": {
    "name": "ipython",
    "version": 3
   },
   "file_extension": ".py",
   "mimetype": "text/x-python",
   "name": "python",
   "nbconvert_exporter": "python",
   "pygments_lexer": "ipython3",
   "version": "3.11.9"
  }
 },
 "nbformat": 4,
 "nbformat_minor": 2
}
