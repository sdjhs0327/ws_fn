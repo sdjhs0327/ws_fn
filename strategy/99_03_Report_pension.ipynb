{
 "cells": [
  {
   "cell_type": "code",
   "execution_count": 1,
   "metadata": {},
   "outputs": [],
   "source": [
    "import pandas as pd\n",
    "import warnings\n",
    "warnings.filterwarnings('ignore')\n",
    "import numpy as np\n",
    "import datetime as dt\n",
    "import math\n",
    "import os\n",
    "from itertools import product\n",
    "from datetime import datetime\n",
    "from dateutil.relativedelta import relativedelta\n",
    "from quant_functions import anal_funcs, data_funcs\n",
    "\n",
    "import yfinance as yf\n",
    "## FRED 정보 수집\n",
    "from fredapi import Fred"
   ]
  },
  {
   "cell_type": "code",
   "execution_count": 2,
   "metadata": {},
   "outputs": [
    {
     "data": {
      "text/html": [
       "        <script type=\"text/javascript\">\n",
       "        window.PlotlyConfig = {MathJaxConfig: 'local'};\n",
       "        if (window.MathJax && window.MathJax.Hub && window.MathJax.Hub.Config) {window.MathJax.Hub.Config({SVG: {font: \"STIX-Web\"}});}\n",
       "        if (typeof require !== 'undefined') {\n",
       "        require.undef(\"plotly\");\n",
       "        requirejs.config({\n",
       "            paths: {\n",
       "                'plotly': ['https://cdn.plot.ly/plotly-2.27.0.min']\n",
       "            }\n",
       "        });\n",
       "        require(['plotly'], function(Plotly) {\n",
       "            window._Plotly = Plotly;\n",
       "        });\n",
       "        }\n",
       "        </script>\n",
       "        "
      ]
     },
     "metadata": {},
     "output_type": "display_data"
    }
   ],
   "source": [
    "# 시각화 관련\n",
    "import plotly_express as px\n",
    "import plotly.figure_factory as ff\n",
    "import cufflinks as cf\n",
    "cf.go_offline(connected=True)\n",
    "## cf.getThemes()\n",
    "cf.set_config_file(theme='polar')\n",
    "import plotly.graph_objects as go\n",
    "\n",
    "from matplotlib.colors import LinearSegmentedColormap\n",
    "from matplotlib.ticker import FuncFormatter\n",
    "import matplotlib.pyplot as plt\n",
    "import seaborn as sns\n",
    "%matplotlib inline\n",
    "sns.set_style('whitegrid')\n",
    "## plt.style.use(\"fivethirtyeight\")\n",
    "plt.rcParams['font.family'] = 'Malgun Gothic'\n",
    "plt.rcParams['axes.unicode_minus'] = False\n",
    "plt.rcParams[\"figure.figsize\"] = (10,6)"
   ]
  },
  {
   "cell_type": "code",
   "execution_count": 3,
   "metadata": {},
   "outputs": [],
   "source": [
    "## 그리기 설정값\n",
    "color_basic = \"#3b4a6b\" # 네이비 기본색\n",
    "color_norm = \"#f23557\" # 진홍색 강조색\n",
    "color_cont = \"#22b2da\" # 파란색 대비색\n",
    "color_sub = \"#ff6f3c\" # 주황색 보조색\n",
    "color_around = \"#6E6E6E\" # 회색 주변색\n",
    "color_around2 = \"#E0E0E0\" # 연회색 주변색\n",
    "\n",
    "figsize=(12, 8)"
   ]
  },
  {
   "cell_type": "markdown",
   "metadata": {},
   "source": [
    "##### Function #####"
   ]
  },
  {
   "cell_type": "code",
   "execution_count": 4,
   "metadata": {},
   "outputs": [],
   "source": [
    "def simulate_portfolio_assets(asset_rets_df, weights_list, initial_investment=100):\n",
    "    \"\"\"\n",
    "    n개의 자산에 대한 투자 비중에 따른 포트폴리오 시뮬레이션.\n",
    "\n",
    "    Parameters:\n",
    "        asset_returns (list of pd.Series): 각 자산의 수익률 시계열 데이터프레임.\n",
    "        weights_list (list of list): 자산별 비중 리스트. 각 리스트의 합은 1이어야 함.\n",
    "        initial_investment (float): 초기 투자 금액 (기본값: 100).\n",
    "\n",
    "    Returns:\n",
    "        pd.DataFrame: 각 비중 조합에 대한 포트폴리오 가치 시계열 데이터프레임.\n",
    "    \"\"\"\n",
    "    asset_rets_list = [asset_rets_df[col] for col in asset_rets_df.columns]\n",
    "    portfolio_values = {}\n",
    "    for weights in weights_list:\n",
    "        _weights = [i/sum(weights) for i in weights]\n",
    "        # 포트폴리오 수익률 계산 (각 자산의 비중 곱)\n",
    "        portfolio_returns = sum(w * r for w, r in zip(_weights, asset_rets_list))\n",
    "        # 초기 투자 금액 기준 포트폴리오 가치 시계열 계산\n",
    "        portfolio_cum_value = initial_investment * (1 + portfolio_returns).cumprod()\n",
    "        portfolio_values[str(weights)] = portfolio_cum_value\n",
    "\n",
    "    # 데이터프레임으로 변환\n",
    "    portfolio_df = pd.DataFrame(portfolio_values)\n",
    "    return portfolio_df\n",
    "\n",
    "def split_time_series(df, n_days):\n",
    "    split_days = n_days\n",
    "    dfs = []\n",
    "    for i in range(len(df)-split_days+1):\n",
    "        dfs.append(df[i:split_days+i])\n",
    "    return dfs\n",
    "\n",
    "## beta를 이용한 imputation\n",
    "def imputation(df, basis_name, target_name):\n",
    "    dataset = df.copy()\n",
    "    rets = dataset[[target_name, basis_name]].dropna(subset=[basis_name]).pct_change()\n",
    "    \n",
    "    # 공분산과 분산 계산\n",
    "    cov_matrix = np.cov(rets.dropna()[target_name], rets.dropna()[basis_name])\n",
    "    cov_stock_market = cov_matrix[0, 1]  # 공분산\n",
    "    var_market = cov_matrix[1, 1]        # market 분산\n",
    "    # 베타 계산\n",
    "    beta = cov_stock_market / var_market\n",
    "    rets[target_name][rets[target_name].isna()] = rets[basis_name]*beta\n",
    "    rets = rets.fillna(0)\n",
    "    df_imputed = (rets+1).cumprod()\n",
    "    dataset[target_name] = df_imputed[target_name]\n",
    "    print(beta)\n",
    "    return dataset"
   ]
  },
  {
   "cell_type": "markdown",
   "metadata": {},
   "source": [
    "##### Data Load #####"
   ]
  },
  {
   "cell_type": "code",
   "execution_count": 361,
   "metadata": {},
   "outputs": [],
   "source": [
    "index = ['최저1인', '최저2인', '최저3인', '최저4인', '중위1인', '중위2인', '중위3인', '중위4인', '상위']\n",
    "need_cash_ls = [134, 221, 283, 344, 224, 368, 471, 573, 1584]\n",
    "need_cash_df = pd.DataFrame([index, need_cash_ls], index=[\"index\", \"need_cashflow_month\"]).T\n",
    "need_cash_df['need_cashflow_annual'] = need_cash_df['need_cashflow_month']*12\n",
    "need_cash_df['dividend_rate'] = 0.0333\n",
    "need_cash_df['tax_rate'] = 0.154\n",
    "need_cash_df['need_kapital'] = (need_cash_df['need_cashflow_annual']/(need_cash_df['dividend_rate']*(1-need_cash_df['tax_rate']))).astype(int)"
   ]
  },
  {
   "cell_type": "code",
   "execution_count": 362,
   "metadata": {},
   "outputs": [],
   "source": [
    "ticker_dict = {'QQQ':'Nasdaq100', 'SPY':'S&P500', 'SCHD':'US_Dividend_Equity', \n",
    "               'SHY':'Short_Term_Treasury', 'TLT':'Long_Term_Treasury',\n",
    "               'GC=F':'Gold', '^IXIC':'Nasdaq', '^GSPC':'S&P500'}"
   ]
  },
  {
   "cell_type": "code",
   "execution_count": 427,
   "metadata": {},
   "outputs": [
    {
     "name": "stderr",
     "output_type": "stream",
     "text": [
      "[*********************100%%**********************]  8 of 8 completed\n"
     ]
    }
   ],
   "source": [
    "dataset = data_funcs.get_merged_df('QQQ', 'SPY', 'SCHD', 'SHY', 'TLT', 'GC=F', '^IXIC', '^GSPC')\n",
    "dataset = dataset[ticker_dict.keys()]\n",
    "\n",
    "## 무위험자산\n",
    "dataset['CASH'] = range(len(dataset))\n",
    "dataset['CASH'] = dataset['CASH'].apply(lambda x:((1.025)**(1/252))**x)\n",
    "\n",
    "dataset.rename(columns={'GC=F':'GOLD'}, inplace=True)"
   ]
  },
  {
   "cell_type": "code",
   "execution_count": 428,
   "metadata": {},
   "outputs": [
    {
     "name": "stdout",
     "output_type": "stream",
     "text": [
      "1.0466672698032236\n",
      "0.9944365513382913\n",
      "0.8428889813843392\n"
     ]
    }
   ],
   "source": [
    "## Interpolation\n",
    "## naq => QQQ 보간\n",
    "dataset_imputed = imputation(dataset, '^IXIC', 'QQQ')\n",
    "dataset_imputed = imputation(dataset_imputed, '^GSPC', 'SPY')\n",
    "dataset_imputed = imputation(dataset_imputed, '^GSPC', 'SCHD')"
   ]
  },
  {
   "cell_type": "markdown",
   "metadata": {},
   "source": [
    "##### EDA"
   ]
  },
  {
   "cell_type": "markdown",
   "metadata": {},
   "source": [
    "###### Type1"
   ]
  },
  {
   "cell_type": "code",
   "execution_count": 368,
   "metadata": {},
   "outputs": [],
   "source": [
    "## 데이터 설정값\n",
    "ticker_A = 'SCHD'\n",
    "ticker_B = 'QQQ'"
   ]
  },
  {
   "cell_type": "code",
   "execution_count": 386,
   "metadata": {},
   "outputs": [],
   "source": [
    "df = dataset_imputed[[ticker_A, ticker_B]].dropna()\n",
    "df = df/df.iloc[0]\n",
    "\n",
    "## data-split\n",
    "df_ls = split_time_series(df, 5*252)\n",
    "\n",
    "## calculate Rolling Returns\n",
    "return_ls = []\n",
    "ddr_ls = []\n",
    "_idx = []\n",
    "for _df in df_ls:\n",
    "    _df = simulate_portfolio_assets(_df.pct_change().fillna(0), [(10,0), (9, 1), (8, 2), (7, 3), (6, 4), (5, 5), (4, 6), (3, 7), (2, 8), (1, 9), (0,10)])\n",
    "    _df.columns = [ticker_A, '9:1', '8:2', '7:3', '6:4', '5:5', '4:6', '3:7', '2:8', '1:9', ticker_B]\n",
    "    return_ls.append([anal_funcs.cal_YRR(_df, col, method ='g', unit = 'daily') for col in _df.columns])\n",
    "    ddr_ls.append([anal_funcs.cal_drawdown_risk(_df, col) for col in _df.columns])\n",
    "    _idx.append(_df.index[0])  \n",
    "    \n",
    "return_df = pd.DataFrame(return_ls, columns = _df.columns, index=_idx)\n",
    "ddr_df = pd.DataFrame(ddr_ls, columns = _df.columns, index=_idx)\n",
    "\n",
    "sort_df_type1 = pd.DataFrame([return_df.mean(), ddr_df.mean()], index=['Return', 'Volatility']).T"
   ]
  },
  {
   "cell_type": "markdown",
   "metadata": {},
   "source": [
    "###### Type2"
   ]
  },
  {
   "cell_type": "code",
   "execution_count": 391,
   "metadata": {},
   "outputs": [],
   "source": [
    "## 데이터 설정값\n",
    "ticker_A = 'QQQ'\n",
    "ticker_B = 'TLT'"
   ]
  },
  {
   "cell_type": "code",
   "execution_count": 395,
   "metadata": {},
   "outputs": [],
   "source": [
    "df = dataset_imputed[[ticker_A, ticker_B]].dropna()\n",
    "df = df/df.iloc[0]\n",
    "\n",
    "## data-split\n",
    "df_ls = split_time_series(df, 5*252)\n",
    "\n",
    "## calculate Rolling Returns\n",
    "return_ls = []\n",
    "ddr_ls = []\n",
    "_idx = []\n",
    "for _df in df_ls:\n",
    "    _df = simulate_portfolio_assets(_df.pct_change().fillna(0), [(10,0), (9, 1), (8, 2), (7, 3), (6, 4), (5, 5), (4, 6), (3, 7), (2, 8), (1, 9), (0,10)])\n",
    "    _df.columns = [ticker_A, '9:1', '8:2', '7:3', '6:4', '5:5', '4:6', '3:7', '2:8', '1:9', ticker_B]\n",
    "    return_ls.append([anal_funcs.cal_YRR(_df, col, method ='g', unit = 'daily') for col in _df.columns])\n",
    "    ddr_ls.append([anal_funcs.cal_drawdown_risk(_df, col) for col in _df.columns])\n",
    "    _idx.append(_df.index[0])  \n",
    "    \n",
    "\n",
    "return_df = pd.DataFrame(return_ls, columns = _df.columns, index=_idx)\n",
    "ddr_df = pd.DataFrame(ddr_ls, columns = _df.columns, index=_idx)\n",
    "\n",
    "sort_df_type2 = pd.DataFrame([return_df.mean(), ddr_df.mean()], index=['Return', 'Volatility']).T"
   ]
  },
  {
   "cell_type": "markdown",
   "metadata": {},
   "source": [
    "###### Type3"
   ]
  },
  {
   "cell_type": "code",
   "execution_count": 422,
   "metadata": {},
   "outputs": [],
   "source": [
    "## 데이터 설정값\n",
    "ticker_A = 'QQQ'\n",
    "ticker_B = 'SHY'"
   ]
  },
  {
   "cell_type": "code",
   "execution_count": null,
   "metadata": {},
   "outputs": [],
   "source": [
    "df = dataset_imputed[[ticker_A, ticker_B]].dropna()\n",
    "df = df/df.iloc[0]\n",
    "\n",
    "## data-split\n",
    "df_ls = split_time_series(df, 5*252)\n",
    "\n",
    "## calculate Rolling Returns\n",
    "return_ls = []\n",
    "ddr_ls = []\n",
    "_idx = []\n",
    "for _df in df_ls:\n",
    "    _df = simulate_portfolio_assets(_df.pct_change().fillna(0), [(10,0), (9, 1), (8, 2), (7, 3), (6, 4), (5, 5), (4, 6), (3, 7), (2, 8), (1, 9), (0,10)])\n",
    "    _df.columns = [ticker_A, '9:1', '8:2', '7:3', '6:4', '5:5', '4:6', '3:7', '2:8', '1:9', ticker_B]\n",
    "    return_ls.append([anal_funcs.cal_YRR(_df, col, method ='g', unit = 'daily') for col in _df.columns])\n",
    "    ddr_ls.append([anal_funcs.cal_drawdown_risk(_df, col) for col in _df.columns])\n",
    "    _idx.append(_df.index[0])  \n",
    "    \n",
    "\n",
    "return_df = pd.DataFrame(return_ls, columns = _df.columns, index=_idx)\n",
    "ddr_df = pd.DataFrame(ddr_ls, columns = _df.columns, index=_idx)\n",
    "\n",
    "sort_df_type2 = pd.DataFrame([return_df.mean(), ddr_df.mean()], index=['Return', 'Volatility']).T"
   ]
  },
  {
   "cell_type": "markdown",
   "metadata": {},
   "source": [
    "###### Type4"
   ]
  },
  {
   "cell_type": "code",
   "execution_count": null,
   "metadata": {},
   "outputs": [],
   "source": [
    "## 데이터 설정값\n",
    "ticker_A = 'QQQ'\n",
    "ticker_B = 'SHY'"
   ]
  },
  {
   "cell_type": "code",
   "execution_count": null,
   "metadata": {},
   "outputs": [],
   "source": [
    "df = dataset_imputed[[ticker_A, ticker_B]].dropna()\n",
    "df = df/df.iloc[0]\n",
    "\n",
    "## data-split\n",
    "df_ls = split_time_series(df, 5*252)\n",
    "\n",
    "## calculate Rolling Returns\n",
    "return_ls = []\n",
    "ddr_ls = []\n",
    "_idx = []\n",
    "for _df in df_ls:\n",
    "    _df = simulate_portfolio_assets(_df.pct_change().fillna(0), [(10,0), (9, 1), (8, 2), (7, 3), (6, 4), (5, 5), (4, 6), (3, 7), (2, 8), (1, 9), (0,10)])\n",
    "    _df.columns = [ticker_A, '9:1', '8:2', '7:3', '6:4', '5:5', '4:6', '3:7', '2:8', '1:9', ticker_B]\n",
    "    return_ls.append([anal_funcs.cal_YRR(_df, col, method ='g', unit = 'daily') for col in _df.columns])\n",
    "    ddr_ls.append([anal_funcs.cal_drawdown_risk(_df, col) for col in _df.columns])\n",
    "    _idx.append(_df.index[0])  \n",
    "    \n",
    "\n",
    "return_df = pd.DataFrame(return_ls, columns = _df.columns, index=_idx)\n",
    "ddr_df = pd.DataFrame(ddr_ls, columns = _df.columns, index=_idx)\n",
    "\n",
    "sort_df_type3 = pd.DataFrame([return_df.mean(), ddr_df.mean()], index=['Return', 'Volatility']).T"
   ]
  },
  {
   "cell_type": "markdown",
   "metadata": {},
   "source": [
    "###### Type4"
   ]
  },
  {
   "cell_type": "code",
   "execution_count": null,
   "metadata": {},
   "outputs": [],
   "source": [
    "## 데이터 설정값\n",
    "ticker_A = 'QQQ'\n",
    "ticker_B = 'GOLD'"
   ]
  },
  {
   "cell_type": "code",
   "execution_count": null,
   "metadata": {},
   "outputs": [],
   "source": [
    "df = dataset_imputed[[ticker_A, ticker_B]].dropna()\n",
    "df = df/df.iloc[0]\n",
    "\n",
    "## data-split\n",
    "df_ls = split_time_series(df, 5*252)\n",
    "\n",
    "## calculate Rolling Returns\n",
    "return_ls = []\n",
    "ddr_ls = []\n",
    "_idx = []\n",
    "for _df in df_ls:\n",
    "    _df = simulate_portfolio_assets(_df.pct_change().fillna(0), [(10,0), (9, 1), (8, 2), (7, 3), (6, 4), (5, 5), (4, 6), (3, 7), (2, 8), (1, 9), (0,10)])\n",
    "    _df.columns = [ticker_A, '9:1', '8:2', '7:3', '6:4', '5:5', '4:6', '3:7', '2:8', '1:9', ticker_B]\n",
    "    return_ls.append([anal_funcs.cal_YRR(_df, col, method ='g', unit = 'daily') for col in _df.columns])\n",
    "    ddr_ls.append([anal_funcs.cal_drawdown_risk(_df, col) for col in _df.columns])\n",
    "    _idx.append(_df.index[0])  \n",
    "    \n",
    "\n",
    "return_df = pd.DataFrame(return_ls, columns = _df.columns, index=_idx)\n",
    "ddr_df = pd.DataFrame(ddr_ls, columns = _df.columns, index=_idx)\n",
    "\n",
    "sort_df_type4 = pd.DataFrame([return_df.mean(), ddr_df.mean()], index=['Return', 'Volatility']).T"
   ]
  },
  {
   "cell_type": "markdown",
   "metadata": {},
   "source": [
    "###### Type5"
   ]
  },
  {
   "cell_type": "code",
   "execution_count": null,
   "metadata": {},
   "outputs": [],
   "source": [
    "## 데이터 설정값\n",
    "ticker_A = 'QQQ'\n",
    "ticker_B = 'CASH'"
   ]
  },
  {
   "cell_type": "code",
   "execution_count": null,
   "metadata": {},
   "outputs": [],
   "source": [
    "df = dataset_imputed[[ticker_A, ticker_B]].dropna()\n",
    "df = df/df.iloc[0]\n",
    "\n",
    "## data-split\n",
    "df_ls = split_time_series(df, 5*252)\n",
    "\n",
    "## calculate Rolling Returns\n",
    "return_ls = []\n",
    "ddr_ls = []\n",
    "_idx = []\n",
    "for _df in df_ls:\n",
    "    _df = simulate_portfolio_assets(_df.pct_change().fillna(0), [(10,0), (9, 1), (8, 2), (7, 3), (6, 4), (5, 5), (4, 6), (3, 7), (2, 8), (1, 9), (0,10)])\n",
    "    _df.columns = [ticker_A, '9:1', '8:2', '7:3', '6:4', '5:5', '4:6', '3:7', '2:8', '1:9', ticker_B]\n",
    "    return_ls.append([anal_funcs.cal_YRR(_df, col, method ='g', unit = 'daily') for col in _df.columns])\n",
    "    ddr_ls.append([anal_funcs.cal_drawdown_risk(_df, col) for col in _df.columns])\n",
    "    _idx.append(_df.index[0])  \n",
    "    \n",
    "\n",
    "return_df = pd.DataFrame(return_ls, columns = _df.columns, index=_idx)\n",
    "ddr_df = pd.DataFrame(ddr_ls, columns = _df.columns, index=_idx)\n",
    "\n",
    "sort_df_type4 = pd.DataFrame([return_df.mean(), ddr_df.mean()], index=['Return', 'Volatility']).T"
   ]
  },
  {
   "cell_type": "markdown",
   "metadata": {},
   "source": [
    "###### Type6"
   ]
  },
  {
   "cell_type": "code",
   "execution_count": null,
   "metadata": {},
   "outputs": [],
   "source": [
    "## 데이터 설정값\n",
    "ticker_A = 'SCHD'\n",
    "ticker_B = 'TLT'"
   ]
  },
  {
   "cell_type": "code",
   "execution_count": null,
   "metadata": {},
   "outputs": [],
   "source": [
    "df = dataset_imputed[[ticker_A, ticker_B]].dropna()\n",
    "df = df/df.iloc[0]\n",
    "\n",
    "## data-split\n",
    "df_ls = split_time_series(df, 5*252)\n",
    "\n",
    "## calculate Rolling Returns\n",
    "return_ls = []\n",
    "ddr_ls = []\n",
    "_idx = []\n",
    "for _df in df_ls:\n",
    "    _df = simulate_portfolio_assets(_df.pct_change().fillna(0), [(10,0), (9, 1), (8, 2), (7, 3), (6, 4), (5, 5), (4, 6), (3, 7), (2, 8), (1, 9), (0,10)])\n",
    "    _df.columns = [ticker_A, '9:1', '8:2', '7:3', '6:4', '5:5', '4:6', '3:7', '2:8', '1:9', ticker_B]\n",
    "    return_ls.append([anal_funcs.cal_YRR(_df, col, method ='g', unit = 'daily') for col in _df.columns])\n",
    "    ddr_ls.append([anal_funcs.cal_drawdown_risk(_df, col) for col in _df.columns])\n",
    "    _idx.append(_df.index[0])  \n",
    "    \n",
    "\n",
    "return_df = pd.DataFrame(return_ls, columns = _df.columns, index=_idx)\n",
    "ddr_df = pd.DataFrame(ddr_ls, columns = _df.columns, index=_idx)\n",
    "\n",
    "sort_df_type2 = pd.DataFrame([return_df.mean(), ddr_df.mean()], index=['Return', 'Volatility']).T"
   ]
  },
  {
   "cell_type": "markdown",
   "metadata": {},
   "source": [
    "###### Type7"
   ]
  },
  {
   "cell_type": "code",
   "execution_count": null,
   "metadata": {},
   "outputs": [],
   "source": [
    "## 데이터 설정값\n",
    "ticker_A = 'SCHD'\n",
    "ticker_B = 'SHY'"
   ]
  },
  {
   "cell_type": "code",
   "execution_count": null,
   "metadata": {},
   "outputs": [],
   "source": [
    "df = dataset_imputed[[ticker_A, ticker_B]].dropna()\n",
    "df = df/df.iloc[0]\n",
    "\n",
    "## data-split\n",
    "df_ls = split_time_series(df, 5*252)\n",
    "\n",
    "## calculate Rolling Returns\n",
    "return_ls = []\n",
    "ddr_ls = []\n",
    "_idx = []\n",
    "for _df in df_ls:\n",
    "    _df = simulate_portfolio_assets(_df.pct_change().fillna(0), [(10,0), (9, 1), (8, 2), (7, 3), (6, 4), (5, 5), (4, 6), (3, 7), (2, 8), (1, 9), (0,10)])\n",
    "    _df.columns = [ticker_A, '9:1', '8:2', '7:3', '6:4', '5:5', '4:6', '3:7', '2:8', '1:9', ticker_B]\n",
    "    return_ls.append([anal_funcs.cal_YRR(_df, col, method ='g', unit = 'daily') for col in _df.columns])\n",
    "    ddr_ls.append([anal_funcs.cal_drawdown_risk(_df, col) for col in _df.columns])\n",
    "    _idx.append(_df.index[0])  \n",
    "    \n",
    "\n",
    "return_df = pd.DataFrame(return_ls, columns = _df.columns, index=_idx)\n",
    "ddr_df = pd.DataFrame(ddr_ls, columns = _df.columns, index=_idx)\n",
    "\n",
    "sort_df_type2 = pd.DataFrame([return_df.mean(), ddr_df.mean()], index=['Return', 'Volatility']).T"
   ]
  },
  {
   "cell_type": "markdown",
   "metadata": {},
   "source": [
    "###### Type8"
   ]
  },
  {
   "cell_type": "code",
   "execution_count": null,
   "metadata": {},
   "outputs": [],
   "source": [
    "## 데이터 설정값\n",
    "ticker_A = 'SCHD'\n",
    "ticker_B = 'GOLD'"
   ]
  },
  {
   "cell_type": "code",
   "execution_count": null,
   "metadata": {},
   "outputs": [],
   "source": [
    "df = dataset_imputed[[ticker_A, ticker_B]].dropna()\n",
    "df = df/df.iloc[0]\n",
    "\n",
    "## data-split\n",
    "df_ls = split_time_series(df, 5*252)\n",
    "\n",
    "## calculate Rolling Returns\n",
    "return_ls = []\n",
    "ddr_ls = []\n",
    "_idx = []\n",
    "for _df in df_ls:\n",
    "    _df = simulate_portfolio_assets(_df.pct_change().fillna(0), [(10,0), (9, 1), (8, 2), (7, 3), (6, 4), (5, 5), (4, 6), (3, 7), (2, 8), (1, 9), (0,10)])\n",
    "    _df.columns = [ticker_A, '9:1', '8:2', '7:3', '6:4', '5:5', '4:6', '3:7', '2:8', '1:9', ticker_B]\n",
    "    return_ls.append([anal_funcs.cal_YRR(_df, col, method ='g', unit = 'daily') for col in _df.columns])\n",
    "    ddr_ls.append([anal_funcs.cal_drawdown_risk(_df, col) for col in _df.columns])\n",
    "    _idx.append(_df.index[0])  \n",
    "    \n",
    "\n",
    "return_df = pd.DataFrame(return_ls, columns = _df.columns, index=_idx)\n",
    "ddr_df = pd.DataFrame(ddr_ls, columns = _df.columns, index=_idx)\n",
    "\n",
    "sort_df_type2 = pd.DataFrame([return_df.mean(), ddr_df.mean()], index=['Return', 'Volatility']).T"
   ]
  },
  {
   "cell_type": "markdown",
   "metadata": {},
   "source": [
    "###### Type9"
   ]
  },
  {
   "cell_type": "code",
   "execution_count": null,
   "metadata": {},
   "outputs": [],
   "source": [
    "## 데이터 설정값\n",
    "ticker_A = 'SCHD'\n",
    "ticker_B = 'CASH'"
   ]
  },
  {
   "cell_type": "code",
   "execution_count": null,
   "metadata": {},
   "outputs": [],
   "source": [
    "df = dataset_imputed[[ticker_A, ticker_B]].dropna()\n",
    "df = df/df.iloc[0]\n",
    "\n",
    "## data-split\n",
    "df_ls = split_time_series(df, 5*252)\n",
    "\n",
    "## calculate Rolling Returns\n",
    "return_ls = []\n",
    "ddr_ls = []\n",
    "_idx = []\n",
    "for _df in df_ls:\n",
    "    _df = simulate_portfolio_assets(_df.pct_change().fillna(0), [(10,0), (9, 1), (8, 2), (7, 3), (6, 4), (5, 5), (4, 6), (3, 7), (2, 8), (1, 9), (0,10)])\n",
    "    _df.columns = [ticker_A, '9:1', '8:2', '7:3', '6:4', '5:5', '4:6', '3:7', '2:8', '1:9', ticker_B]\n",
    "    return_ls.append([anal_funcs.cal_YRR(_df, col, method ='g', unit = 'daily') for col in _df.columns])\n",
    "    ddr_ls.append([anal_funcs.cal_drawdown_risk(_df, col) for col in _df.columns])\n",
    "    _idx.append(_df.index[0])  \n",
    "    \n",
    "\n",
    "return_df = pd.DataFrame(return_ls, columns = _df.columns, index=_idx)\n",
    "ddr_df = pd.DataFrame(ddr_ls, columns = _df.columns, index=_idx)\n",
    "\n",
    "sort_df_type2 = pd.DataFrame([return_df.mean(), ddr_df.mean()], index=['Return', 'Volatility']).T"
   ]
  },
  {
   "cell_type": "markdown",
   "metadata": {},
   "source": [
    "###### Type10"
   ]
  },
  {
   "cell_type": "code",
   "execution_count": null,
   "metadata": {},
   "outputs": [],
   "source": []
  },
  {
   "cell_type": "code",
   "execution_count": null,
   "metadata": {},
   "outputs": [],
   "source": []
  },
  {
   "cell_type": "code",
   "execution_count": null,
   "metadata": {},
   "outputs": [],
   "source": []
  },
  {
   "cell_type": "code",
   "execution_count": 420,
   "metadata": {},
   "outputs": [],
   "source": [
    "# plot_df = sort_df_type2.copy()\n",
    "\n",
    "# # 색상 및 크기 설정\n",
    "# colors = [color_norm, color_sub, color_sub, color_sub, color_sub, color_sub, color_sub, color_sub, color_sub, color_sub, color_cont]\n",
    "# sizes = 500\n",
    "\n",
    "# # 그래프 설정\n",
    "# fig, ax = plt.subplots(figsize=figsize)\n",
    "\n",
    "# # 점 그리기\n",
    "# x = plot_df['Volatility']\n",
    "# y = plot_df['Return']\n",
    "# scatter = ax.scatter(x, y, c=colors, s=sizes, edgecolors=\"white\", linewidth=2, alpha=0.9)\n",
    "\n",
    "\n",
    "# # 데이터 레이블 추가\n",
    "# labels = list(plot_df.index)\n",
    "# for i, label in enumerate(labels):\n",
    "#     plt.text(\n",
    "#         x[i], y[i]-np.abs(y.max()-y.min())*0.05, label, fontsize=12, ha=\"center\", va=\"center\", \n",
    "#         color=\"white\", fontweight=\"bold\", bbox=dict(facecolor=colors[i], edgecolor='none', alpha=0.8, boxstyle=\"round,pad=0.3\")\n",
    "#     )\n",
    "\n",
    "# # % 단위를 추가하는 포맷터 함수 정의\n",
    "# def percent_formatter(x, pos):\n",
    "#     return f\"{int(x)}%\"\n",
    "\n",
    "# # X축, Y축에 % 포맷터 적용\n",
    "# plt.gca().xaxis.set_major_formatter(FuncFormatter(percent_formatter))\n",
    "# plt.gca().yaxis.set_major_formatter(FuncFormatter(percent_formatter))\n",
    "# # 눈금과 축 간격 줄이기\n",
    "# plt.gca().tick_params(axis=\"x\", pad=1)  # X축 눈금 패딩 조정\n",
    "# plt.gca().tick_params(axis=\"y\", pad=1)  # Y축 눈금 패딩 조정\n",
    "\n",
    "# # 축 설정\n",
    "# plt.title(f\"Return-Risk Profile : {df.index[0].year}~{df.index[-1].year}\", fontsize=22, fontweight=\"bold\", color=color_basic)\n",
    "# plt.xlabel(\"Risk\", fontsize=16, labelpad=0, fontweight=\"bold\", color=color_around, loc=\"right\")\n",
    "# plt.ylabel(\"Return\", fontsize=16, labelpad=-50, fontweight=\"bold\", color=color_around, loc=\"top\", rotation=0)\n",
    "# plt.xticks(fontsize=10, color=color_around)\n",
    "# plt.yticks(fontsize=10, color=color_around)\n",
    "# # plt.xlim(2.9, 5.7)\n",
    "# # plt.ylim(2.4, 6.9)\n",
    "# plt.grid(color=color_around2, linestyle=\"--\", linewidth=0.7, alpha=0.7)\n",
    "\n",
    "# # 저장 및 출력\n",
    "# plt.tight_layout()\n",
    "# plt.show()"
   ]
  },
  {
   "cell_type": "code",
   "execution_count": 93,
   "metadata": {},
   "outputs": [
    {
     "data": {
      "text/plain": [
       "QQQ    3.468638\n",
       "9:1    3.016826\n",
       "8:2    2.583031\n",
       "7:3    2.280050\n",
       "6:4    2.038789\n",
       "5:5    1.894638\n",
       "4:6    1.812192\n",
       "3:7    1.770501\n",
       "2:8    1.839377\n",
       "1:9    1.975473\n",
       "TLT    2.211255\n",
       "dtype: float64"
      ]
     },
     "execution_count": 93,
     "metadata": {},
     "output_type": "execute_result"
    }
   ],
   "source": [
    "ddr_df.mean()"
   ]
  },
  {
   "cell_type": "code",
   "execution_count": null,
   "metadata": {},
   "outputs": [],
   "source": []
  }
 ],
 "metadata": {
  "kernelspec": {
   "display_name": ".venv",
   "language": "python",
   "name": "python3"
  },
  "language_info": {
   "codemirror_mode": {
    "name": "ipython",
    "version": 3
   },
   "file_extension": ".py",
   "mimetype": "text/x-python",
   "name": "python",
   "nbconvert_exporter": "python",
   "pygments_lexer": "ipython3",
   "version": "3.11.9"
  }
 },
 "nbformat": 4,
 "nbformat_minor": 2
}
