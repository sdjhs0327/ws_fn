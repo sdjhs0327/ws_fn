{
 "cells": [
  {
   "cell_type": "code",
   "execution_count": null,
   "metadata": {},
   "outputs": [],
   "source": [
    "## 동적자산배분전략(VAA)을 활용해 포트폴리오 성과에 엣지를 더할 수 있습니다."
   ]
  },
  {
   "cell_type": "code",
   "execution_count": 22,
   "metadata": {},
   "outputs": [],
   "source": [
    "# 기본 패키지\n",
    "import pandas as pd\n",
    "import warnings\n",
    "warnings.filterwarnings('ignore')\n",
    "import datetime as dt\n",
    "import json\n",
    "import numpy as np\n",
    "\n",
    "# 시각화\n",
    "import seaborn as sns\n",
    "import matplotlib.pyplot as plt\n",
    "## 이미지에서 한글이 나오게 하는 설정\n",
    "plt.rcParams[\"figure.figsize\"] = (12, 8)\n",
    "plt.rcParams['font.family'] = 'Malgun Gothic'\n",
    "plt.rcParams['axes.unicode_minus'] = False\n",
    "%matplotlib inline"
   ]
  },
  {
   "cell_type": "code",
   "execution_count": 2,
   "metadata": {},
   "outputs": [],
   "source": [
    "## 사전 정의한 함수 모음\n",
    "import graphModule as gm\n",
    "import myfuncs as mf\n",
    "from quant_functions import anal_funcs\n",
    "import portfolio_obtimizer"
   ]
  },
  {
   "cell_type": "code",
   "execution_count": 3,
   "metadata": {},
   "outputs": [],
   "source": [
    "## color 설정\n",
    "with open('colors.json') as f:\n",
    "    mycolors = json.load(f)"
   ]
  },
  {
   "cell_type": "markdown",
   "metadata": {},
   "source": [
    "## DataLoad"
   ]
  },
  {
   "cell_type": "code",
   "execution_count": 4,
   "metadata": {},
   "outputs": [],
   "source": [
    "dataset = pd.read_csv('trend_data.csv', index_col=0)\n",
    "dataset.index = pd.to_datetime(dataset.index)"
   ]
  },
  {
   "cell_type": "code",
   "execution_count": 83,
   "metadata": {},
   "outputs": [],
   "source": [
    "assets = ['SPY', 'TLT', 'IAU']"
   ]
  },
  {
   "cell_type": "code",
   "execution_count": 84,
   "metadata": {},
   "outputs": [],
   "source": [
    "port_df = dataset[assets].copy()"
   ]
  },
  {
   "cell_type": "code",
   "execution_count": 111,
   "metadata": {},
   "outputs": [],
   "source": [
    "temp_df = port_df.copy()\n",
    "temp_df['Peak'] = temp_df[assets[0]].cummax()\n",
    "temp_df['Drawdown'] = (temp_df[assets[0]] - temp_df['Peak']) / temp_df['Peak']\n",
    "temp_df['Signal'] = np.nan\n",
    "temp_df['Signal'][temp_df['Drawdown'] <= -0.5] = 1\n",
    "temp_df['Signal'][temp_df['Drawdown'] == 0] = 0\n",
    "temp_df['Signal'] = temp_df['Signal'].fillna(method='ffill')"
   ]
  },
  {
   "cell_type": "code",
   "execution_count": 115,
   "metadata": {},
   "outputs": [
    {
     "data": {
      "text/html": [
       "<div>\n",
       "<style scoped>\n",
       "    .dataframe tbody tr th:only-of-type {\n",
       "        vertical-align: middle;\n",
       "    }\n",
       "\n",
       "    .dataframe tbody tr th {\n",
       "        vertical-align: top;\n",
       "    }\n",
       "\n",
       "    .dataframe thead th {\n",
       "        text-align: right;\n",
       "    }\n",
       "</style>\n",
       "<table border=\"1\" class=\"dataframe\">\n",
       "  <thead>\n",
       "    <tr style=\"text-align: right;\">\n",
       "      <th></th>\n",
       "      <th>SPY</th>\n",
       "      <th>TLT</th>\n",
       "      <th>IAU</th>\n",
       "      <th>Peak</th>\n",
       "      <th>Drawdown</th>\n",
       "      <th>Signal</th>\n",
       "    </tr>\n",
       "    <tr>\n",
       "      <th>Date</th>\n",
       "      <th></th>\n",
       "      <th></th>\n",
       "      <th></th>\n",
       "      <th></th>\n",
       "      <th></th>\n",
       "      <th></th>\n",
       "    </tr>\n",
       "  </thead>\n",
       "  <tbody>\n",
       "    <tr>\n",
       "      <th>2008-11-20</th>\n",
       "      <td>1403.463521</td>\n",
       "      <td>192.080500</td>\n",
       "      <td>363.335920</td>\n",
       "      <td>2850.254534</td>\n",
       "      <td>-0.507601</td>\n",
       "      <td>1.0</td>\n",
       "    </tr>\n",
       "    <tr>\n",
       "      <th>2008-11-21</th>\n",
       "      <td>1479.170352</td>\n",
       "      <td>189.303214</td>\n",
       "      <td>389.886635</td>\n",
       "      <td>2850.254534</td>\n",
       "      <td>-0.481039</td>\n",
       "      <td>1.0</td>\n",
       "    </tr>\n",
       "    <tr>\n",
       "      <th>2008-11-24</th>\n",
       "      <td>1581.662932</td>\n",
       "      <td>186.341948</td>\n",
       "      <td>399.639956</td>\n",
       "      <td>2850.254534</td>\n",
       "      <td>-0.445080</td>\n",
       "      <td>1.0</td>\n",
       "    </tr>\n",
       "    <tr>\n",
       "      <th>2008-11-25</th>\n",
       "      <td>1593.382347</td>\n",
       "      <td>191.823152</td>\n",
       "      <td>398.556238</td>\n",
       "      <td>2850.254534</td>\n",
       "      <td>-0.440968</td>\n",
       "      <td>1.0</td>\n",
       "    </tr>\n",
       "    <tr>\n",
       "      <th>2008-11-26</th>\n",
       "      <td>1654.951849</td>\n",
       "      <td>192.080500</td>\n",
       "      <td>396.536640</td>\n",
       "      <td>2850.254534</td>\n",
       "      <td>-0.419367</td>\n",
       "      <td>1.0</td>\n",
       "    </tr>\n",
       "    <tr>\n",
       "      <th>...</th>\n",
       "      <td>...</td>\n",
       "      <td>...</td>\n",
       "      <td>...</td>\n",
       "      <td>...</td>\n",
       "      <td>...</td>\n",
       "      <td>...</td>\n",
       "    </tr>\n",
       "    <tr>\n",
       "      <th>2012-08-09</th>\n",
       "      <td>2835.385862</td>\n",
       "      <td>264.587343</td>\n",
       "      <td>776.325141</td>\n",
       "      <td>2850.254534</td>\n",
       "      <td>-0.005217</td>\n",
       "      <td>1.0</td>\n",
       "    </tr>\n",
       "    <tr>\n",
       "      <th>2012-08-10</th>\n",
       "      <td>2840.023259</td>\n",
       "      <td>265.920167</td>\n",
       "      <td>777.310301</td>\n",
       "      <td>2850.254534</td>\n",
       "      <td>-0.003590</td>\n",
       "      <td>1.0</td>\n",
       "    </tr>\n",
       "    <tr>\n",
       "      <th>2012-08-13</th>\n",
       "      <td>2838.611676</td>\n",
       "      <td>265.475907</td>\n",
       "      <td>771.399201</td>\n",
       "      <td>2850.254534</td>\n",
       "      <td>-0.004085</td>\n",
       "      <td>1.0</td>\n",
       "    </tr>\n",
       "    <tr>\n",
       "      <th>2012-08-14</th>\n",
       "      <td>2839.016253</td>\n",
       "      <td>261.879422</td>\n",
       "      <td>767.458468</td>\n",
       "      <td>2850.254534</td>\n",
       "      <td>-0.003943</td>\n",
       "      <td>1.0</td>\n",
       "    </tr>\n",
       "    <tr>\n",
       "      <th>2012-08-15</th>\n",
       "      <td>2842.241488</td>\n",
       "      <td>258.198723</td>\n",
       "      <td>769.428835</td>\n",
       "      <td>2850.254534</td>\n",
       "      <td>-0.002811</td>\n",
       "      <td>1.0</td>\n",
       "    </tr>\n",
       "  </tbody>\n",
       "</table>\n",
       "<p>941 rows × 6 columns</p>\n",
       "</div>"
      ],
      "text/plain": [
       "                    SPY         TLT         IAU         Peak  Drawdown  Signal\n",
       "Date                                                                          \n",
       "2008-11-20  1403.463521  192.080500  363.335920  2850.254534 -0.507601     1.0\n",
       "2008-11-21  1479.170352  189.303214  389.886635  2850.254534 -0.481039     1.0\n",
       "2008-11-24  1581.662932  186.341948  399.639956  2850.254534 -0.445080     1.0\n",
       "2008-11-25  1593.382347  191.823152  398.556238  2850.254534 -0.440968     1.0\n",
       "2008-11-26  1654.951849  192.080500  396.536640  2850.254534 -0.419367     1.0\n",
       "...                 ...         ...         ...          ...       ...     ...\n",
       "2012-08-09  2835.385862  264.587343  776.325141  2850.254534 -0.005217     1.0\n",
       "2012-08-10  2840.023259  265.920167  777.310301  2850.254534 -0.003590     1.0\n",
       "2012-08-13  2838.611676  265.475907  771.399201  2850.254534 -0.004085     1.0\n",
       "2012-08-14  2839.016253  261.879422  767.458468  2850.254534 -0.003943     1.0\n",
       "2012-08-15  2842.241488  258.198723  769.428835  2850.254534 -0.002811     1.0\n",
       "\n",
       "[941 rows x 6 columns]"
      ]
     },
     "execution_count": 115,
     "metadata": {},
     "output_type": "execute_result"
    }
   ],
   "source": [
    "temp_df[temp_df['Signal'] == 1]"
   ]
  },
  {
   "cell_type": "code",
   "execution_count": 112,
   "metadata": {},
   "outputs": [],
   "source": [
    "rets_df = port_df.pct_change().fillna(0)\n",
    "\n",
    "laa_res = ((rets_df * [0.35, 0.3, 0.35]).sum(1) + 1).cumprod()\n",
    "vaa_res = (pd.concat([rets_df[temp_df['Signal'] == 0] * [0.35, 0.3, 0.35],\n",
    "           rets_df[temp_df['Signal'] == 1] * [1, 0, 0]]).sort_index().sum(1) + 1).cumprod()"
   ]
  },
  {
   "cell_type": "code",
   "execution_count": 113,
   "metadata": {},
   "outputs": [],
   "source": [
    "result  = pd.DataFrame({'LAA': laa_res, 'VAA': vaa_res})"
   ]
  },
  {
   "cell_type": "code",
   "execution_count": 114,
   "metadata": {},
   "outputs": [
    {
     "data": {
      "text/plain": [
       "<Axes: xlabel='Date'>"
      ]
     },
     "execution_count": 114,
     "metadata": {},
     "output_type": "execute_result"
    },
    {
     "data": {
      "image/png": "[encoded data removed]",
      "text/plain": [
       "<Figure size 1200x800 with 1 Axes>"
      ]
     },
     "metadata": {},
     "output_type": "display_data"
    }
   ],
   "source": [
    "result.plot()"
   ]
  },
  {
   "cell_type": "code",
   "execution_count": null,
   "metadata": {},
   "outputs": [],
   "source": [
    "# Stage에 따른 비중 설정\n",
    "def set_ratios(stage):\n",
    "    if stage == 'S1':\n",
    "        return 0, 0.5, 0.25, 0.25\n",
    "    elif stage == 'S2':\n",
    "        return 0, 0.5, 0.25, 0.25\n",
    "    elif stage == 'S3':\n",
    "        return 1, 0, 0, 0\n",
    "    else:\n",
    "        return 0.7, 0, 0.15, 0.15\n",
    "\n",
    "temp_df[['TQQQ_Ratio', 'QQQ_Ratio', 'TLT_Ratio', 'Gold_Ratio']] = temp_df['Stage'].apply(set_ratios).apply(pd.Series)\n",
    "\n",
    "temp_df['Strategy'] = ((temp_df['TQQQ'].pct_change().fillna(0) * temp_df['TQQQ_Ratio'] + \n",
    "                        temp_df['QQQ'].pct_change().fillna(0) * temp_df['QQQ_Ratio'] + \n",
    "                        temp_df['TLT'].pct_change().fillna(0) * temp_df['TLT_Ratio'] + \n",
    "                        temp_df['Gold'].pct_change().fillna(0) * temp_df['Gold_Ratio'] )+1).cumprod()*100"
   ]
  },
  {
   "cell_type": "code",
   "execution_count": 30,
   "metadata": {},
   "outputs": [
    {
     "data": {
      "text/plain": [
       "<Axes: xlabel='Date'>"
      ]
     },
     "execution_count": 30,
     "metadata": {},
     "output_type": "execute_result"
    },
    {
     "data": {
      "image/png": "[encoded data removed]",
      "text/plain": [
       "<Figure size 1200x800 with 1 Axes>"
      ]
     },
     "metadata": {},
     "output_type": "display_data"
    }
   ],
   "source": [
    "temp_df['Signal'].plot()"
   ]
  },
  {
   "cell_type": "code",
   "execution_count": 9,
   "metadata": {},
   "outputs": [
    {
     "data": {
      "text/html": [
       "<div>\n",
       "<style scoped>\n",
       "    .dataframe tbody tr th:only-of-type {\n",
       "        vertical-align: middle;\n",
       "    }\n",
       "\n",
       "    .dataframe tbody tr th {\n",
       "        vertical-align: top;\n",
       "    }\n",
       "\n",
       "    .dataframe thead th {\n",
       "        text-align: right;\n",
       "    }\n",
       "</style>\n",
       "<table border=\"1\" class=\"dataframe\">\n",
       "  <thead>\n",
       "    <tr style=\"text-align: right;\">\n",
       "      <th></th>\n",
       "      <th>QQQ</th>\n",
       "      <th>TLT</th>\n",
       "      <th>IAU</th>\n",
       "      <th>Portfolio</th>\n",
       "    </tr>\n",
       "    <tr>\n",
       "      <th>Date</th>\n",
       "      <th></th>\n",
       "      <th></th>\n",
       "      <th></th>\n",
       "      <th></th>\n",
       "    </tr>\n",
       "  </thead>\n",
       "  <tbody>\n",
       "    <tr>\n",
       "      <th>1975-01-02</th>\n",
       "      <td>100.000000</td>\n",
       "      <td>100.000000</td>\n",
       "      <td>100.000000</td>\n",
       "      <td>100.000000</td>\n",
       "    </tr>\n",
       "    <tr>\n",
       "      <th>1975-01-03</th>\n",
       "      <td>100.912250</td>\n",
       "      <td>100.076649</td>\n",
       "      <td>100.000000</td>\n",
       "      <td>100.342282</td>\n",
       "    </tr>\n",
       "    <tr>\n",
       "      <th>1975-01-06</th>\n",
       "      <td>101.790413</td>\n",
       "      <td>100.192096</td>\n",
       "      <td>99.850100</td>\n",
       "      <td>100.631808</td>\n",
       "    </tr>\n",
       "    <tr>\n",
       "      <th>1975-01-07</th>\n",
       "      <td>102.048753</td>\n",
       "      <td>100.192096</td>\n",
       "      <td>99.350195</td>\n",
       "      <td>100.547261</td>\n",
       "    </tr>\n",
       "    <tr>\n",
       "      <th>1975-01-08</th>\n",
       "      <td>101.377118</td>\n",
       "      <td>100.308118</td>\n",
       "      <td>101.347636</td>\n",
       "      <td>101.046099</td>\n",
       "    </tr>\n",
       "    <tr>\n",
       "      <th>...</th>\n",
       "      <td>...</td>\n",
       "      <td>...</td>\n",
       "      <td>...</td>\n",
       "      <td>...</td>\n",
       "    </tr>\n",
       "    <tr>\n",
       "      <th>2025-02-04</th>\n",
       "      <td>57207.974048</td>\n",
       "      <td>257.395593</td>\n",
       "      <td>1313.294858</td>\n",
       "      <td>3345.485798</td>\n",
       "    </tr>\n",
       "    <tr>\n",
       "      <th>2025-02-05</th>\n",
       "      <td>57467.579488</td>\n",
       "      <td>261.645252</td>\n",
       "      <td>1321.366934</td>\n",
       "      <td>3374.502448</td>\n",
       "    </tr>\n",
       "    <tr>\n",
       "      <th>2025-02-06</th>\n",
       "      <td>57767.543142</td>\n",
       "      <td>261.528820</td>\n",
       "      <td>1318.187017</td>\n",
       "      <td>3377.374302</td>\n",
       "    </tr>\n",
       "    <tr>\n",
       "      <th>2025-02-07</th>\n",
       "      <td>57038.904957</td>\n",
       "      <td>259.840593</td>\n",
       "      <td>1320.143917</td>\n",
       "      <td>3357.607242</td>\n",
       "    </tr>\n",
       "    <tr>\n",
       "      <th>2025-02-10</th>\n",
       "      <td>57729.368612</td>\n",
       "      <td>259.054706</td>\n",
       "      <td>1342.403149</td>\n",
       "      <td>3388.611609</td>\n",
       "    </tr>\n",
       "  </tbody>\n",
       "</table>\n",
       "<p>12639 rows × 4 columns</p>\n",
       "</div>"
      ],
      "text/plain": [
       "                     QQQ         TLT          IAU    Portfolio\n",
       "Date                                                          \n",
       "1975-01-02    100.000000  100.000000   100.000000   100.000000\n",
       "1975-01-03    100.912250  100.076649   100.000000   100.342282\n",
       "1975-01-06    101.790413  100.192096    99.850100   100.631808\n",
       "1975-01-07    102.048753  100.192096    99.350195   100.547261\n",
       "1975-01-08    101.377118  100.308118   101.347636   101.046099\n",
       "...                  ...         ...          ...          ...\n",
       "2025-02-04  57207.974048  257.395593  1313.294858  3345.485798\n",
       "2025-02-05  57467.579488  261.645252  1321.366934  3374.502448\n",
       "2025-02-06  57767.543142  261.528820  1318.187017  3377.374302\n",
       "2025-02-07  57038.904957  259.840593  1320.143917  3357.607242\n",
       "2025-02-10  57729.368612  259.054706  1342.403149  3388.611609\n",
       "\n",
       "[12639 rows x 4 columns]"
      ]
     },
     "execution_count": 9,
     "metadata": {},
     "output_type": "execute_result"
    }
   ],
   "source": [
    "\n",
    "\n",
    "temp_df['Stage'] = 'S0'\n",
    "\n",
    "s3_active = False\n",
    "for i in temp_df.index:\n",
    "    if temp_df.loc[i, 'Drawdown'] <= -.35:\n",
    "        s3_active = True\n",
    "    elif temp_df.loc[i, 'QQQ'] == temp_df.loc[i, 'QQQ_Peak']:\n",
    "        s3_active = False\n",
    "\n",
    "    if s3_active:\n",
    "        temp_df.loc[i, 'Stage'] = 'S3'\n",
    "    elif temp_df.loc[i, 'Drawdown'] <= -.25:\n",
    "        temp_df.loc[i, 'Stage'] = 'S2'\n",
    "    elif temp_df.loc[i, 'Drawdown'] <= -.15:\n",
    "        temp_df.loc[i, 'Stage'] = 'S1'\n",
    "\n",
    "\n",
    "temp_df['Stage'] = temp_df['Stage'].shift(0).fillna('S0')"
   ]
  },
  {
   "cell_type": "code",
   "execution_count": null,
   "metadata": {},
   "outputs": [],
   "source": []
  },
  {
   "cell_type": "code",
   "execution_count": null,
   "metadata": {},
   "outputs": [],
   "source": []
  }
 ],
 "metadata": {
  "kernelspec": {
   "display_name": ".venv",
   "language": "python",
   "name": "python3"
  },
  "language_info": {
   "codemirror_mode": {
    "name": "ipython",
    "version": 3
   },
   "file_extension": ".py",
   "mimetype": "text/x-python",
   "name": "python",
   "nbconvert_exporter": "python",
   "pygments_lexer": "ipython3",
   "version": "3.11.9"
  }
 },
 "nbformat": 4,
 "nbformat_minor": 2
}
