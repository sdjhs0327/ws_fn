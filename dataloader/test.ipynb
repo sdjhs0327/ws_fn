{
 "cells": [
  {
   "cell_type": "code",
   "execution_count": 1,
   "metadata": {},
   "outputs": [],
   "source": [
    "## 야후 파이낸스 패키지\n",
    "import yfinance as yf\n",
    "from datetime import datetime\n",
    "import warnings\n",
    "warnings.filterwarnings('ignore')\n",
    "## PyQt5 패키지\n",
    "from PyQt5.QtWidgets import QApplication, QMainWindow, QFileDialog\n",
    "from PyQt5.uic import loadUi\n",
    "import sys"
   ]
  },
  {
   "cell_type": "code",
   "execution_count": 2,
   "metadata": {},
   "outputs": [
    {
     "name": "stdout",
     "output_type": "stream",
     "text": [
      "Current Working Directory: c:\\Users\\GCC\\git\\ws_fn\\dataloader\n"
     ]
    }
   ],
   "source": []
  },
  {
   "cell_type": "code",
   "execution_count": 16,
   "metadata": {},
   "outputs": [],
   "source": [
    "tickers = [\"QQQ\", \"SCHD\"]\n",
    "save_path = \"C:/\""
   ]
  },
  {
   "cell_type": "code",
   "execution_count": 17,
   "metadata": {},
   "outputs": [
    {
     "name": "stderr",
     "output_type": "stream",
     "text": [
      "[*********************100%%**********************]  2 of 2 completed\n"
     ]
    }
   ],
   "source": [
    "nowdate = datetime.now().strftime(\"%Y%m%d\")\n",
    "# 여러 티커의 데이터 다운로드\n",
    "dataset = yf.download(tickers, ignore_tz = True, auto_adjust=True)\n",
    "dataset = dataset['Close']\n",
    "\n",
    "dataset.to_excel(save_path + f\"stock_data_{nowdate}.xlsx\")"
   ]
  },
  {
   "cell_type": "code",
   "execution_count": 21,
   "metadata": {},
   "outputs": [
    {
     "ename": "",
     "evalue": "",
     "output_type": "error",
     "traceback": [
      "\u001b[1;31mThe Kernel crashed while executing code in the the current cell or a previous cell. Please review the code in the cell(s) to identify a possible cause of the failure. Click <a href='https://aka.ms/vscodeJupyterKernelCrash'>here</a> for more info. View Jupyter <a href='command:jupyter.viewOutput'>log</a> for further details."
     ]
    }
   ],
   "source": [
    "class Dataloader(QMainWindow):\n",
    "    def __init__(self):\n",
    "        super(Dataloader, self).__init__()\n",
    "        loadUi(\"C:/Users/GCC/git/ws_fn/dataloader/main.ui\", self)  # .ui 파일 로드\n",
    "        \n",
    "        # UI 요소 연결\n",
    "        self.downloadButton.clicked.connect(self.dataloader)  # 버튼 클릭 시 실행\n",
    "        \n",
    "    def dataloader(self):\n",
    "        try:\n",
    "            # 입력값 가져오기\n",
    "            tickers = self.tickerInput.text().split(',')\n",
    "            save_path = self.pathInput.text()\n",
    "            # 데이터 다운로드\n",
    "            dataset = yf.download(tickers, ignore_tz = True, auto_adjust=True)\n",
    "            dataset = dataset['Close']\n",
    "            # 엑셀로 저장\n",
    "            dataset.to_excel(save_path + f\"stock_data_{nowdate}.xlsx\")\n",
    "        except ValueError:\n",
    "            self.statusLabel.setText(\"입력값을 확인해주세요.\")\n",
    "            \n",
    "# 앱 실행\n",
    "if __name__ == \"__main__\":\n",
    "    app = QApplication(sys.argv)\n",
    "    mainWindow = Dataloader()\n",
    "    mainWindow.show()\n",
    "    sys.exit(app.exec_())"
   ]
  }
 ],
 "metadata": {
  "kernelspec": {
   "display_name": ".venv",
   "language": "python",
   "name": "python3"
  },
  "language_info": {
   "codemirror_mode": {
    "name": "ipython",
    "version": 3
   },
   "file_extension": ".py",
   "mimetype": "text/x-python",
   "name": "python",
   "nbconvert_exporter": "python",
   "pygments_lexer": "ipython3",
   "version": "3.11.9"
  }
 },
 "nbformat": 4,
 "nbformat_minor": 2
}
